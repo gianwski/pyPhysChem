{
 "cells": [
  {
   "cell_type": "code",
   "execution_count": 3,
   "id": "7a2a17d6-5baa-47e1-9905-d1dc38cadd87",
   "metadata": {},
   "outputs": [
    {
     "data": {
      "text/html": [
       "<style>\n",
       "h1, h2, h3, h4, h5, h6 {\n",
       "  font-family: Verdana, \"DejaVu Sans\", \"Bitstream Vera Sans\", Geneva, sans-serif;\n",
       "  font-weight: bold;\n",
       "}\n",
       "body, ex, exE {\n",
       "  font-family: Verdana, \"DejaVu Sans\", \"Bitstream Vera Sans\", Geneva, sans-serif;\n",
       "  font-weight: 200;\n",
       "}\n",
       "h1 {\n",
       "  border: 0 solid #333;\n",
       "  padding: 30px ;\n",
       "  color: white;\n",
       "  background: #b11d01;\n",
       "  text-align: center;\n",
       "}\n",
       "h2 {\n",
       "  border: 3px solid #333;\n",
       "  padding: 18px ;\n",
       "  color: #b11d01;\n",
       "  background: #ffffff;\n",
       "  text-align: center;\n",
       "}\n",
       "h3 {\n",
       "  border: 0 solid #333;\n",
       "  padding: 12px ;\n",
       "  color: #000000;\n",
       "  background: #c1c1c1;\n",
       "  text-align: left;\n",
       "}\n",
       "h4 {\n",
       "  border: 0 solid #333;\n",
       "  padding: 2px ;\n",
       "  color: #000000;\n",
       "  background: #d9fffc;\n",
       "  text-align: left;\n",
       "}\n",
       "h5 {\n",
       "  border: 1px solid #333;\n",
       "  padding: 2px ;\n",
       "  color: #000000;\n",
       "  background: #ffffff;\n",
       "  text-align: left;\n",
       "}\n",
       ".intro {    \n",
       "    background-color: #f1f1f1;\n",
       "    border-color: #969696;\n",
       "    border-left: 5px solid #969696;\n",
       "    padding: 0.5em;\n",
       "    font-weight: 200;\n",
       "    }\n",
       ".introE {    \n",
       "    background-color: #f1f1f1;\n",
       "    border-color: #969696;\n",
       "    border-left: 5px solid #969696;\n",
       "    padding: 0.5em;\n",
       "    font-weight: 200;\n",
       "    color : #117996;\n",
       "    }\n",
       ".rq {    \n",
       "    background-color: #fcf2f2;\n",
       "    border-color: #dFb5b4;\n",
       "    border-left: 5px solid #dfb5b4;\n",
       "    padding: 0.5em;\n",
       "    font-weight: 200;\n",
       "    }\n",
       ".rqE {    \n",
       "    background-color: #fcf2f2;\n",
       "    border-color: #dFb5b4;\n",
       "    border-left: 5px solid #dfb5b4;\n",
       "    padding: 0.5em;\n",
       "    font-weight: 200;\n",
       "    color : #117996;\n",
       "    }\n",
       ".exold {    \n",
       "    background-color: #b2dbea80;\n",
       "    border-color: #0055ff;\n",
       "    border-left: 10px solid #0055ff;\n",
       "    padding: 0.5em;\n",
       "    font-weight: 200;\n",
       "    }\n",
       ".ex {    \n",
       "    background-color: #b2dbea80;\n",
       "    padding: 0.5em;\n",
       "    padding-top: 0em;\n",
       "    font-weight: 200;\n",
       "    position:relative;\n",
       "    }\n",
       ".ex::before {\n",
       "    background-color: #b2dbea;\n",
       "    content:\"Exercice\";\n",
       "    margin-left:-0.5em;\n",
       "    margin-right:-0.5em;\n",
       "    padding-left:0.5em;\n",
       "    padding-right:0.5em;\n",
       "    font-weight: 600;\n",
       "    display: block;\n",
       "    }\n",
       ".exE {    \n",
       "    background-color: #b2dbea80;\n",
       "    padding: 0.5em;\n",
       "    padding-top: 0em;\n",
       "    font-weight: 200;\n",
       "    position:relative;\n",
       "    color : #117996;\n",
       "    }\n",
       ".exE::before {\n",
       "    background-color: #b2dbea;\n",
       "    content:\"Exercise\";\n",
       "    margin-left:-0.5em;\n",
       "    margin-right:-0.5em;\n",
       "    padding-left:0.5em;\n",
       "    padding-right:0.5em;\n",
       "    font-weight: 600;\n",
       "    display: block;\n",
       "    color : #117996;\n",
       "    }\n",
       ".app {    \n",
       "    background-color: #b2dbea80;\n",
       "    padding: 0.5em;\n",
       "    padding-top: 0em;\n",
       "    font-weight: 200;\n",
       "    position:relative;\n",
       "    }\n",
       ".app::before {\n",
       "    background-color: #b2dbea;\n",
       "    content:\"Application\";\n",
       "    margin-left:-0.5em;\n",
       "    margin-right:-0.5em;\n",
       "    padding-left:0.5em;\n",
       "    padding-right:0.5em;\n",
       "    font-weight: 600;\n",
       "    display: block;\n",
       "    }\n",
       ".appE {    \n",
       "    background-color: #b2dbea80;\n",
       "    padding: 0.5em;\n",
       "    padding-top: 0em;\n",
       "    font-weight: 200;\n",
       "    color : #117996;\n",
       "    position:relative;\n",
       "    }\n",
       ".appE::before {\n",
       "    background-color: #b2dbea;\n",
       "    content:\"Application\";\n",
       "    margin-left:-0.5em;\n",
       "    margin-right:-0.5em;\n",
       "    padding-left:0.5em;\n",
       "    padding-right:0.5em;\n",
       "    font-weight: 600;\n",
       "    color : #117996;\n",
       "    display: block;\n",
       "    }\n",
       "</style>\n"
      ],
      "text/plain": [
       "<IPython.core.display.HTML object>"
      ]
     },
     "metadata": {},
     "output_type": "display_data"
    },
    {
     "data": {
      "text/markdown": [
       "**Début à:** Friday 26 May 2023, 08:08:25  \n",
       "**Hostname:** sw-chim-aruba-01.insa-toulouse.fr (Linux)"
      ],
      "text/plain": [
       "<IPython.core.display.Markdown object>"
      ]
     },
     "metadata": {},
     "output_type": "display_data"
    },
    {
     "data": {
      "text/markdown": [
       "<p style=\"text-align: center\"><img width=\"800px\" src=\"./config/svg/logoDebut.svg\" style=\"margin-left:auto; margin-right:auto\"/></p>"
      ],
      "text/plain": [
       "<IPython.core.display.Markdown object>"
      ]
     },
     "metadata": {},
     "output_type": "display_data"
    }
   ],
   "source": [
    "import os\n",
    "import sys\n",
    "\n",
    "cwd0 = './config/'\n",
    "sys.path.append(cwd0)\n",
    "\n",
    "import visualID as vID\n",
    "from visualID import color\n",
    "vID.init(cwd0)"
   ]
  },
  {
   "cell_type": "markdown",
   "id": "73ded5bb",
   "metadata": {},
   "source": [
    "# Traitement statistique de données<br>(data science pour débutants)<br><br>Statistical treatment of data<br>(data science for beginners)*\n",
    "\n",
    "## Statistiques et régression<br>*Statistics and regression*"
   ]
  },
  {
   "cell_type": "markdown",
   "id": "2db47b79",
   "metadata": {},
   "source": [
    "### Régression linéaire<br>*linear regression*\n",
    "\n",
    "<div class=\"intro\">\n",
    "\n",
    "En statistiques, en économétrie et en apprentissage automatique (machine learning), un modèle de régression linéaire est un **modèle** qui cherche à établir une relation linéaire entre une variable <i>y</i> et une  variable <i>x</i> qui sont toutes deux tirées d'observations. L'incertitude sur ces observations entraîne que le tracé de la variable <i>y</i> en fonction de <i>x</i> s'apparente le plus souvent à un nuage de points, comme sur la figure ci-dessous.\n",
    "\n",
    "Dans le cadre d'un modèle linéaire simple, **l'optimisation de ce modèle** permet de déterminer :\n",
    "- la droite de régression, qui est la droite qui **passe au plus près de l'ensemble des points** (représentée en rouge sur la figure ci-dessous)\n",
    "- les paramètres *a* et *b* de la droite d'équation $\\hat{y}=ax+b$. *a* est le coefficient directeur (la pente) et *b* est l'ordonnée à l'origine\n",
    "- l'incertitude sur chacun de ces paramètres\n",
    "- le coefficient de détermination *R<sup>2</sup>*, qui est une mesure de la qualité de la régression linéaire\n",
    "<p style=\"text-align: center\"><img width=\"600px\" src=\"DS4B-svg/fct1.png\" style=\"margin-left:auto; margin-right:auto\" id=\"img_fct1\"/></p>\n",
    "</div>\n",
    "<div class=\"introE\">\n",
    "\n",
    "In statistics, econometrics and machine learning, a linear regression model is a **model** that aims at establishing a linear relationship between a variable <i>y</i> and a variable <i>x</i>, both of which are derived from observations. The uncertainty about these observations means that the plot of the variable <i>y</i> as a function of <i>x</i> most often looks like a scatter plot, as in the figure above.\n",
    "    \n",
    "In the context of a simple linear model, **the optimization of this model** allows to determine:\n",
    "\n",
    "- the regression line, which is the line that passes closest to the set of points (shown in red in the figure above)\n",
    "- the parameters *a* and *b* of the line with equation $\\hat{y}=ax+b$. *a* is the slope (or gradient) and b is the *y*-intercept\n",
    "- the uncertainty on each of these parameters\n",
    "- the coefficient of determination *R<sup>2</sup>*, which is a measure of the accuracy of the linear regression\n",
    "</div>\n",
    "<br>\n",
    "<div class=rq>\n",
    "<b>Pourquoi un chapeau sur $\\hat{y}$ ?</b> <br>\n",
    "Car l'expression $\\hat{y}=ax+b$ va permettre de faire une <b>prédiction</b> de la variable $y$ pour n'importe quelle valeur de $x$, pas seulement pour celles qui sont représentées sous forme de nuage de points et qui ont servi à déterminer $a$ et $b$\n",
    "</div>\n",
    "<div class=rqE>\n",
    "<b>Why a hat on $\\hat{y}$?</b> <br>\n",
    "Because the expression $\\hat{y}=ax+b$ will allow the <b>prediction</b> of the $y$ variable for any $x$ value, not just for those represented as a scatterplot and that have been used to fit $a$ and $b$\n",
    "</div>"
   ]
  },
  {
   "cell_type": "markdown",
   "id": "465ae417-56a1-4bab-9ba6-dd2851f60fb1",
   "metadata": {},
   "source": [
    "#### Chargement des bibliothèques utiles<br>*importation of the usueful libraries*\n",
    "\n",
    "<div class=\"intro\">\n",
    "\n",
    "On va importer dans notre environnement de travail :\n",
    "- `pylab`, très utile pour de la programmation scientifique avec python\n",
    "- `pandas`, qui permet de lire des tableaux au format excel ou csv, et de les manipuler en tant que \"dataframes\"\n",
    "- `numpy`, destinée à manipuler des matrices ou tableaux multidimensionnels ainsi que des fonctions mathématiques opérant sur ces tableaux\n",
    "- `linregress`, qui fait partie de la bibliothèque statistique `scipy`\n",
    "    \n",
    "</div>\n",
    "<div class=\"introE\">\n",
    "\n",
    "We are going to import in our working environment :\n",
    "\n",
    "- `pylab`, very useful for scientific programming with python\n",
    "- `pandas`, which allows to read tables in excel or csv format, and to work on them as dataframes\n",
    "- `numpy,` to manipulate matrices or multidimensional arrays and mathematical functions operating on these arrays\n",
    "- `linregress`, which is part of the `scipy` statistical library\n",
    "    \n",
    "</div>"
   ]
  },
  {
   "cell_type": "code",
   "execution_count": 4,
   "id": "13852b5d-a0f2-4af2-a8f9-d4adb942d268",
   "metadata": {},
   "outputs": [],
   "source": [
    "%matplotlib inline\n",
    "from pylab import *\n",
    "import pandas as pd\n",
    "import numpy as np\n",
    "from scipy.stats import linregress"
   ]
  },
  {
   "cell_type": "markdown",
   "id": "2424ef4d-bcb2-4b80-85dc-e063b4c56da3",
   "metadata": {},
   "source": [
    "<div class=rq>\n",
    "    \n",
    "<b>Attention !</b> <br>\n",
    "La bibliothèque `SciPy` utilise les tableaux et matrices au format `NumPy`. <br>\n",
    "Il faudra donc convertir tout tableau au format `pandas` en tableau au format `NumPy`\n",
    "</div>\n",
    "<div class=rqE>\n",
    "    \n",
    "<b>Attention !</b> <br>\n",
    "The `SciPy` library uses arrays and matrices in `NumPy` format. <br>\n",
    "You will have to convert any `pandas` dataframe into an array in `NumPy` format\n",
    "</div>"
   ]
  },
  {
   "cell_type": "markdown",
   "id": "b1a999c0-8cfa-4a18-93fb-f78b43387b6b",
   "metadata": {},
   "source": [
    "#### Visualisation des données<br>*Data visualization*"
   ]
  },
  {
   "cell_type": "markdown",
   "id": "a9f8925f-9591-42c8-ad97-a46f270952d4",
   "metadata": {},
   "source": [
    "<div class=\"intro\">\n",
    "\n",
    "Dans les lignes de code ci-dessous :\n",
    "- on charge la base de données iris, qui va être stockée au format pandas dans le dataframe `dfi`\n",
    "- on trace la longueur des pétales (`petal_length`) en fonction de leur largeur (`petal_width`)\n",
    "- on a arbitrairement choisi d'assigner la longueur des pétales à $y$ et la largeur à $x$ \n",
    "</div>\n",
    "\n",
    "<div class=\"introE\">\n",
    "\n",
    "In the lines of code below :\n",
    "\n",
    "- we load the iris database, which will be stored in pandas format in the `dfi` dataframe\n",
    "- we plot the length of the petals (`petal_length`) according to their width (`petal_width`)\n",
    "- we arbitrarily chose to assign the petal length to $𝑦$ and the width to $𝑥$\n",
    "</div>"
   ]
  },
  {
   "cell_type": "code",
   "execution_count": 5,
   "id": "e73cf421",
   "metadata": {
    "tags": []
   },
   "outputs": [
    {
     "data": {
      "text/plain": [
       "<Axes: xlabel='petal_width', ylabel='petal_length'>"
      ]
     },
     "execution_count": 5,
     "metadata": {},
     "output_type": "execute_result"
    },
    {
     "data": {
      "image/png": "[encoded data removed]",
      "text/plain": [
       "<Figure size 1200x700 with 1 Axes>"
      ]
     },
     "metadata": {},
     "output_type": "display_data"
    }
   ],
   "source": [
    "dfi=pd.read_csv('./DS4B-iris-data/iris.csv', sep=\";\")\n",
    "plt.rcParams[\"figure.figsize\"] = (12,7) #on ajuste la taille du graphique\n",
    "plt.rcParams[\"font.size\"] = (16) #on ajuste la taille des caractères\n",
    "dfi.plot(x=\"petal_width\", y=\"petal_length\", kind='scatter', marker='o',s=100, fontsize=14)"
   ]
  },
  {
   "cell_type": "markdown",
   "id": "74b21731-bdc6-480a-9a9d-c33f72ebcc8b",
   "metadata": {},
   "source": [
    "<div class=\"rq\">\n",
    "    Il semble bien, <i>de visu</i>, qu'il y ait une relation linéaire entre longueur et largeur des pétales\n",
    "</div>\n",
    "\n",
    "<div class=\"rqE\">\n",
    "    Visually, there seems to be a linear relationship between the length and width of the petals\n",
    "</div>"
   ]
  },
  {
   "cell_type": "markdown",
   "id": "1f25351b-f1c0-403d-b543-9b41dacf0cae",
   "metadata": {},
   "source": [
    "#### Utilisation de la fonction `linregress` (module `SciPy`)<br>Fit with the `linregress` function(`SciPy` library)\n",
    "<div class=\"intro\">\n",
    "    \n",
    "Comme prévu, on convertit les variables au format `pandas` en variables au format `NumPy`. <br>\n",
    "On utilise pour cela la fonction <code>to_numpy()</code>\n",
    "- la largeur de pétales des 150 échantillons est stockée dans une variable `pw` (comme petal width)\n",
    "- leur longueur est stockée dans une variable `pl` (pour petal length)\n",
    "\n",
    "</div>\n",
    "<div class=\"introE\">\n",
    "    \n",
    "As planned, we convert the variables in `pandas` format into variables in `NumPy` format.<br>\n",
    "We use the function `to_numpy()` for this purpose\n",
    "\n",
    "- the petal width of the 150 samples is stored in a variable `pw` (for petal width)\n",
    "- their length is stored in a variable `pl` (for petal length)\n",
    "</div>\n"
   ]
  },
  {
   "cell_type": "code",
   "execution_count": 6,
   "id": "cafd6655",
   "metadata": {
    "tags": []
   },
   "outputs": [
    {
     "name": "stdout",
     "output_type": "stream",
     "text": [
      "petal width au format numpy\n"
     ]
    },
    {
     "data": {
      "text/plain": [
       "array([0.2, 0.2, 0.2, 0.2, 0.2, 0.4, 0.3, 0.2, 0.2, 0.1, 0.2, 0.2, 0.1,\n",
       "       0.1, 0.2, 0.4, 0.4, 0.3, 0.3, 0.3, 0.2, 0.4, 0.2, 0.5, 0.2, 0.2,\n",
       "       0.4, 0.2, 0.2, 0.2, 0.2, 0.4, 0.1, 0.2, 0.1, 0.2, 0.2, 0.1, 0.2,\n",
       "       0.2, 0.3, 0.3, 0.2, 0.6, 0.4, 0.3, 0.2, 0.2, 0.2, 0.2, 1.4, 1.5,\n",
       "       1.5, 1.3, 1.5, 1.3, 1.6, 1. , 1.3, 1.4, 1. , 1.5, 1. , 1.4, 1.3,\n",
       "       1.4, 1.5, 1. , 1.5, 1.1, 1.8, 1.3, 1.5, 1.2, 1.3, 1.4, 1.4, 1.7,\n",
       "       1.5, 1. , 1.1, 1. , 1.2, 1.6, 1.5, 1.6, 1.5, 1.3, 1.3, 1.3, 1.2,\n",
       "       1.4, 1.2, 1. , 1.3, 1.2, 1.3, 1.3, 1.1, 1.3, 2.5, 1.9, 2.1, 1.8,\n",
       "       2.2, 2.1, 1.7, 1.8, 1.8, 2.5, 2. , 1.9, 2.1, 2. , 2.4, 2.3, 1.8,\n",
       "       2.2, 2.3, 1.5, 2.3, 2. , 2. , 1.8, 2.1, 1.8, 1.8, 1.8, 2.1, 1.6,\n",
       "       1.9, 2. , 2.2, 1.5, 1.4, 2.3, 2.4, 1.8, 1.8, 2.1, 2.4, 2.3, 1.9,\n",
       "       2.3, 2.5, 2.3, 1.9, 2. , 2.3, 1.8])"
      ]
     },
     "metadata": {},
     "output_type": "display_data"
    },
    {
     "name": "stdout",
     "output_type": "stream",
     "text": [
      "petal length au format numpy\n"
     ]
    },
    {
     "data": {
      "text/plain": [
       "array([1.4, 1.4, 1.3, 1.5, 1.4, 1.7, 1.4, 1.5, 1.4, 1.5, 1.5, 1.6, 1.4,\n",
       "       1.1, 1.2, 1.5, 1.3, 1.4, 1.7, 1.5, 1.7, 1.5, 1. , 1.7, 1.9, 1.6,\n",
       "       1.6, 1.5, 1.4, 1.6, 1.6, 1.5, 1.5, 1.4, 1.5, 1.2, 1.3, 1.5, 1.3,\n",
       "       1.5, 1.3, 1.3, 1.3, 1.6, 1.9, 1.4, 1.6, 1.4, 1.5, 1.4, 4.7, 4.5,\n",
       "       4.9, 4. , 4.6, 4.5, 4.7, 3.3, 4.6, 3.9, 3.5, 4.2, 4. , 4.7, 3.6,\n",
       "       4.4, 4.5, 4.1, 4.5, 3.9, 4.8, 4. , 4.9, 4.7, 4.3, 4.4, 4.8, 5. ,\n",
       "       4.5, 3.5, 3.8, 3.7, 3.9, 5.1, 4.5, 4.5, 4.7, 4.4, 4.1, 4. , 4.4,\n",
       "       4.6, 4. , 3.3, 4.2, 4.2, 4.2, 4.3, 3. , 4.1, 6. , 5.1, 5.9, 5.6,\n",
       "       5.8, 6.6, 4.5, 6.3, 5.8, 6.1, 5.1, 5.3, 5.5, 5. , 5.1, 5.3, 5.5,\n",
       "       6.7, 6.9, 5. , 5.7, 4.9, 6.7, 4.9, 5.7, 6. , 4.8, 4.9, 5.6, 5.8,\n",
       "       6.1, 6.4, 5.6, 5.1, 5.6, 6.1, 5.6, 5.5, 4.8, 5.4, 5.6, 5.1, 5.1,\n",
       "       5.9, 5.7, 5.2, 5. , 5.2, 5.4, 5.1])"
      ]
     },
     "metadata": {},
     "output_type": "display_data"
    }
   ],
   "source": [
    "pw=dfi[\"petal_width\"].to_numpy()\n",
    "pl=dfi[\"petal_length\"].to_numpy()\n",
    "print(\"petal width au format numpy\")\n",
    "display(pw)\n",
    "print(\"petal length au format numpy\")\n",
    "display(pl)"
   ]
  },
  {
   "cell_type": "markdown",
   "id": "33fc85e9-7cd1-4f89-8617-f255c7f3d8ec",
   "metadata": {},
   "source": [
    "<div class=\"rq\">\n",
    "Ça ressemble bien à un tableau au format `NumPy`</div>\n",
    "<div class=\"rqE\">\n",
    "It looks like a `NumPy` table</div>"
   ]
  },
  {
   "cell_type": "markdown",
   "id": "c9a5761b-03c7-4fc8-befa-c9746332379a",
   "metadata": {},
   "source": [
    "<div class=\"intro\">\n",
    "\n",
    "On peut maintenant appeler la fonction `linregress`.<br>\n",
    "Elle va renvoyer la pente (`slope`), l'ordonnée à l'origine (`intercept`), l'erreur sur la pente (`stderr`), l'erreur sur l'ordonnée à l'origine (`intercept_stderr`), le coefficient de corrélation (`rvalue`).\n",
    "    \n",
    "- on appelle `linregress` et on sauve le résultat dans une variable `fit`\n",
    "- puis on va récupérer les paramètres de la droite et la précision de l'optimisation (\"du fit\")\n",
    "- enfin on affiche les paramètres (ne vous laissez pas impressionner par l'affichage formatté, pour un rendu plus propre)\n",
    "</div>\n",
    "<div class=\"introE\">\n",
    "    \n",
    "We can now call the `linregress` function.\n",
    "It will return the `slope`, the `intercept`, the error on the slope (`stderr`), the error on the intercept (`intercept_stderr`), the correlation coefficient (`rvalue`).\n",
    "\n",
    "- we call `linregress` and save the result in a `fit` variable\n",
    "- then we extract the parameters of the line and the accuracy of the optimization (\"of the fit\")\n",
    "- finally we display the parameters (don't let yourself be impressed by the formatted display, whose interest is a cleaner rendering)\n",
    "</div>\n",
    "<br>\n",
    "<div class=\"rq\">\n",
    "\n",
    "<b>Remarque</b>. Dans le cas de la régression linéaire, le **coefficient de détermination** $R^2$ (\"R-carré\") est le carré du coefficient de corrélation $R$.\n",
    "\n",
    "</div>\n",
    "<div class=\"rqE\">\n",
    "\n",
    "<b>Comment</b>. In the linear regression case, the **determination coefficient** $R^2$ (\"R squared\") is simply the square of the sample correlation coefficient $R$.\n",
    "\n",
    "</div>"
   ]
  },
  {
   "cell_type": "code",
   "execution_count": 9,
   "id": "4ac40db4-158f-4bfa-9642-f7ee203d205b",
   "metadata": {
    "tags": []
   },
   "outputs": [
    {
     "name": "stdout",
     "output_type": "stream",
     "text": [
      "a   =    2.226\n",
      "b   =    1.091\n",
      "R^2 =  0.927\n",
      "Erreur standard sur la valeur de la pente =   0.051\n",
      "Erreur standard sur la valeur de l'ordonnée à l'origine =   0.073\n"
     ]
    }
   ],
   "source": [
    "fit = linregress(x=pw, y=pl)\n",
    "\n",
    "a = fit.slope\n",
    "b = fit.intercept\n",
    "r = fit.rvalue\n",
    "stderr = fit.stderr\n",
    "istderr = fit.intercept_stderr\n",
    "\n",
    "print(f\"a   = {a:8.3f}\\nb   = {b:8.3f}\\nR^2 = {r**2:6.3f}\")\n",
    "print(f\"Erreur standard sur la valeur de la pente ={stderr:8.3f}\\nErreur standard sur la valeur de l'ordonnée à l'origine ={istderr:8.3f}\")"
   ]
  },
  {
   "cell_type": "markdown",
   "id": "1d68b1bc-45e1-4131-842c-3a3803197cd2",
   "metadata": {},
   "source": [
    "<div class=\"rq\">\n",
    "    \n",
    "On n'est pas obligé de formatter la sortie. Voici des instructions `print()` basiques\n",
    "</div>\n",
    "<div class=\"rqE\">\n",
    "    \n",
    "You don't have to format the output. Here are some basic `print()` instructions\n",
    "</div>"
   ]
  },
  {
   "cell_type": "code",
   "execution_count": 10,
   "id": "782f0302-6b3b-4eb5-b249-4170c3d90bb1",
   "metadata": {},
   "outputs": [
    {
     "name": "stdout",
     "output_type": "stream",
     "text": [
      "a= 2.2258853065539115\n",
      "b= 1.0905721458773772\n",
      "R2= 0.9269012279220042\n",
      "erreur pente= 0.05138190916478042\n",
      "erreur OO= 0.07294301009148557\n"
     ]
    }
   ],
   "source": [
    "print(\"a=\",a)\n",
    "print(\"b=\",b)\n",
    "print(\"R2=\",r**2)\n",
    "print(\"erreur pente=\",stderr)\n",
    "print(\"erreur OO=\",istderr)"
   ]
  },
  {
   "cell_type": "markdown",
   "id": "343f6e78-bf7a-4342-a4c1-00a7d9fb25b2",
   "metadata": {},
   "source": [
    "<div class=\"rq\">\n",
    "Mais... c'est peu lisible, et on n'a pas besoin d'autant de chiffres significatifs d'où, <i>in fine</i>, l'intérêt de formatter la sortie</div>\n",
    "\n",
    "<div class=\"rqE\">\n",
    "But... it's not very readable, and we don't need so many significant numbers, hence the interest of formatting the output</div>"
   ]
  },
  {
   "cell_type": "markdown",
   "id": "d2d79653-c323-48ec-ac2c-8a14cf61ecb3",
   "metadata": {},
   "source": [
    "#### Représentation graphique des résultats<br>*Graphical representation of results*\n",
    "<div class=\"intro\">\n",
    "\n",
    "On va utiliser la fonction `plot()`. \n",
    "\n",
    "On veut à la fois :\n",
    "- tracer les valeurs $y$ en fonction de $x$\n",
    "- vérifier que la régression linéaire semble juste, c'est-à-dire que la droite d'équation $\\hat{y}=ax+b$ passe bien au plus près de l'ensemble des points \n",
    "\n",
    "Dans les lignes de code python ci-dessous :\n",
    "- on définit la fonction `y_hat` (y chapeau...) qui va renvoyer $ax+b$ pour toute valeur de $x$ ($a$, $b$, $x$ sont passés en paramètre de `y_hat`)\n",
    "- on appelle `plot` deux fois\n",
    "    - pour tracer le nuage de points ($x$,$y$)\n",
    "    - pour tracer la droite `y_hat`\n",
    "</div>\n",
    "<div class=\"introE\">\n",
    "\n",
    "We will use the `plot()` function.\n",
    "\n",
    "We want to both:\n",
    "- plot the $y$ values as a function of $x$\n",
    "- check that the linear regression looks right, *i.e.*, that the line with equation $\\hat{y}=ax+b$ passes as close as possible to the set of points\n",
    "\n",
    "In the python code below:\n",
    "- we define the function `y_hat` which will return $ax+b$ for any $x$ value ($a$, $b$, $x$ are parameters of `y_hat`)\n",
    "- `plot` is called twice\n",
    "    - to get an ($x$,$y$) scatter plot\n",
    "    - to superpose the `y_hat` line\n",
    "</div>"
   ]
  },
  {
   "cell_type": "code",
   "execution_count": 11,
   "id": "b9860f20-2db6-4580-83c1-65060b5fdaca",
   "metadata": {},
   "outputs": [
    {
     "data": {
      "text/plain": [
       "<matplotlib.legend.Legend at 0x7fc0f0666e00>"
      ]
     },
     "execution_count": 11,
     "metadata": {},
     "output_type": "execute_result"
    },
    {
     "data": {
      "image/png": "[encoded data removed]",
      "text/plain": [
       "<Figure size 1200x700 with 1 Axes>"
      ]
     },
     "metadata": {},
     "output_type": "display_data"
    }
   ],
   "source": [
    "def pl_hat(a,b,x):\n",
    "    return a * x + b\n",
    "\n",
    "plot(pw, pl,linestyle='', marker='o', color='blue', label='observations exp. ($y$)')\n",
    "plot(pw,pl_hat(a,b,pw),color='red',label='prédiction ($\\hat{y}$)')\n",
    "xlabel(\"petal width\") # label de l'axe des abscisses\n",
    "ylabel(\"petal length\") # label de l'axe des ordonnées\n",
    "plt.legend() #affichage de la légende sur le graphe"
   ]
  },
  {
   "cell_type": "markdown",
   "id": "750c9038-b7c0-4f7b-9245-681905435ddf",
   "metadata": {},
   "source": [
    "<div class=\"rq\">\n",
    "    <b>En résumé :</b>\n",
    "<li> le coefficient de détermination $R^2$ est proche de 1\n",
    "<li> les erreurs sur l'OO et sur la pente sont faibles\n",
    "<li> les points expérimentaux ont l'air bien répartis de part et d'autre de la droite\n",
    "<br><b> Il est donc plutôt convaincant que la largeur et la longueur des pétales soient reliées par une relation linéaire</b>\n",
    "</div>\n",
    "\n",
    "<div class=\"rqE\">\n",
    "<b>In summary:</b>\n",
    "<li> the coefficient of determination R^2$ is close to 1\n",
    "<li> the errors on the y-intercept and on the slope are small\n",
    "<li> the experimental points look well distributed on both sides of the line\n",
    "<br><b> Thus, it is rather convincing that petal width and length are related by a linear relationship</b>\n",
    "</div>"
   ]
  },
  {
   "cell_type": "markdown",
   "id": "9d3eb74d-7633-4a8c-871a-e007aac4a520",
   "metadata": {},
   "source": [
    "#### Validité du modèle linéaire : erreurs moyennes et résidus<br>*Validity of the linear model: average errors and residuals*"
   ]
  },
  {
   "cell_type": "markdown",
   "id": "ca4eae6f-b52d-47bf-ab73-581168b1e348",
   "metadata": {},
   "source": [
    "<div class=\"intro\">\n",
    "\n",
    "En statistiques, l'erreur moyenne absolue (en anglais <b>MAE</b> = Mean Absolute Error) est calculée à partir de la différence entre les valeurs observées, $y(x_i)$, et les valeurs prédites par un modèle de régression, $\\hat{y}(x_i)$. La MAE est la moyenne arithmétique des erreurs calculées pour chacun des points $x_i$ qui a servi à optimiser le modèle de régression.\n",
    "\n",
    "$$\\mathrm{MAE}=\\frac{1}{n}\\sum_{i}\\left|y(x_{i}-\\hat{y}(x_{i})\\right|$$\n",
    "\n",
    "On trouve souvent une autre mesure d'erreur, l'erreur quadratique moyenne (en anglais **MSE** = Mean Squared Error), qui se calcule aussi à partir de $y(x_i)$ et $\\hat{y}(x_i)$ :\n",
    "\n",
    "$$\\mathrm{MSE}=\\frac{1}{n}\\sum_{i}\\left[y(x_{i}-\\hat{y}(x_{i})\\right]^{2}$$\n",
    "\n",
    "La bibliothèque `scikit-learn` fournit deux utilitaires qui permettent de calculer MAE (fonction `mean_absolute_error`) ou MSE (fonction `mean_squared_error`).\n",
    "</div>\n",
    "<div class=\"introE\">\n",
    "    \n",
    "In statistics, the Mean Absolute Error (MAE) is calculated from the difference between the observed values, $y(x_i)$, and the values predicted by a regression model, $\\hat{y}(x_i)$. The MAE is the arithmetic mean of the errors calculated for each of the points $x_i$ that were used to optimize the regression model.\n",
    "\n",
    "$$\\mathrm{MAE}=\\frac{1}{n}\\sum_{i}\\left|y(x_{i}-\\hat{y}(x_{i})\\right|$$\n",
    "    \n",
    "Another error measure is often found, the Mean Squared Error (MSE), which is also calculated from $y(x_i)$ and $\\hat{y}(x_i)$:\n",
    "    \n",
    "$$\\mathrm{MSE}=\\frac{1}{n}\\sum_{i}\\left[y(x_{i}-\\hat{y}(x_{i})\\right]^{2}$$\n",
    "    \n",
    "The `scikit-learn` library provides two utilities to calculate MAE (function `mean_absolute_error`) or MSE (function `mean_squared_error`)\n",
    "</div>"
   ]
  },
  {
   "cell_type": "code",
   "execution_count": 12,
   "id": "7b876564-9407-44ae-8f85-b5c9a6abf289",
   "metadata": {
    "tags": []
   },
   "outputs": [
    {
     "name": "stdout",
     "output_type": "stream",
     "text": [
      "MAE =    0.368\n",
      "MSE =   0.226\n"
     ]
    }
   ],
   "source": [
    "from sklearn.metrics import mean_absolute_error as MAE\n",
    "from sklearn.metrics import mean_squared_error as MSE\n",
    "print(f\"MAE = {MAE(pl,pl_hat(a,b,pw)):8.3f}\\nMSE ={MSE(pl,pl_hat(a,b,pw)):8.3f}\")"
   ]
  },
  {
   "cell_type": "markdown",
   "id": "9ba96e4e-ca4b-46ea-8298-38c60d5b2f69",
   "metadata": {},
   "source": [
    "<div class=\"intro\">\n",
    "\n",
    "Les <b>résidus</b> sont définis comme étant les différences entre les valeurs observées et les valeurs prédites par un modèle de régression :\n",
    "\n",
    "$$e(x_i)=y(x_i)-\\hat{y}(x_i)$$\n",
    "\n",
    "Les résidus $e(x_i)$ sont calculés pour chacun des points $x_i$ qui a servi à déterminer le modèle de régression. \n",
    "\n",
    "La MAE n'est rien d'autre que la moyenne des résidus :\n",
    "\n",
    "$$\\mathrm{MAE}=\\frac{1}{n}\\sum_{i}\\left|e(x_{i})\\right|$$\n",
    "\n",
    "L’analyse des résidus a pour objectif de tester la validité d’un modèle de régression. Il s’agit de vérifier graphiquement qu'ils ne présentent aucune structure particulière, c'est-à-dire qu'ils sont distribués irrégulièrement autour de 0. C'est une appréciation “subjective”, mais qui renseigne précisément sur la validité des hypothèses implicites, dont la forme de la fonction choisie. \n",
    "\n",
    "Dans la portion de code ci-dessous :\n",
    "- on va d'abord définir une fonctions `residus` ($y(x_i)-\\hat{y}(x_i)$)\n",
    "- puis on va reporter sur un graphe de type nuage de points les résidus calculés pour chaque largeur de pétale (*i.e.* les $x_i$)\n",
    "- on va enfin tracer un histogramme, c'est-à-dire la distribution des résidus auour de 0 (0 étant une prédiction parfaite de la fonction $\\hat{y}$)\n",
    "- on va pouvoir ainsi analyser graphiquement la validité de la corrélation linéaire entre largeur et longueur des pétales d'iris\n",
    "\n",
    "</div>\n",
    "<div class=\"introE\">\n",
    "\n",
    "**Residual** are the difference between the observed values of the quantity of interest and the values estimated by a regression model:\n",
    "\n",
    "$$e(x_i)=y(x_i)-\\hat{y}(x_i)$$\n",
    "\n",
    "The residuals $e(x_i)$ are calculated for each of the $x_i$ points that were used to determine the regression model.\n",
    "\n",
    "The MAE is nothing more than the average of the residues:\n",
    "\n",
    "$$\\mathrm{MAE}=\\frac{1}{n}\\sum_{i}\\left|e(x_{i})\\right|$$\n",
    "\n",
    "The purpose of residual analysis is to test the validity of a regression model. It is a matter of verifying graphically that the residuals have no particular structure, i.e. that they are irregularly distributed around 0. This is a \"subjective\" assessment, but it provides precise information on the appropriateness of the hypotheses, including the form of the chosen function.\n",
    "\n",
    "In the code section below :\n",
    "\n",
    "- we will first define a `residus` function ($y(x_i)-\\hat{y}(x_i)$)\n",
    "- then we plot on a scatter plot the residues computed for each petal width (*i.e.* the $x_i$)\n",
    "- we will finally plot a histogram, *i.e.* the distribution of the residuals around 0 (0 being an exact prediction of the function $\\hat{y}$)\n",
    "- we will be able to analyze graphically the validity of the linear correlation between width and length of the iris petals\n",
    "</div>"
   ]
  },
  {
   "cell_type": "code",
   "execution_count": 13,
   "id": "a34ba275-8fba-4e86-a9d6-119ac47cbfc6",
   "metadata": {
    "tags": []
   },
   "outputs": [
    {
     "data": {
      "image/png": "[encoded data removed]",
      "text/plain": [
       "<Figure size 1200x700 with 1 Axes>"
      ]
     },
     "metadata": {},
     "output_type": "display_data"
    },
    {
     "data": {
      "text/plain": [
       "(array([ 1.,  0.,  3.,  0.,  0.,  3.,  3.,  5.,  3.,  5.,  7.,  6.,  5.,\n",
       "        13., 14., 14., 11., 13.,  9., 11.,  8.,  4.,  3.,  0.,  4.,  2.,\n",
       "         1.,  1.,  0.,  1.]),\n",
       " array([-1.39318842, -1.30232558, -1.21146274, -1.12059989, -1.02973705,\n",
       "        -0.93887421, -0.84801136, -0.75714852, -0.66628568, -0.57542283,\n",
       "        -0.48455999, -0.39369715, -0.3028343 , -0.21197146, -0.12110862,\n",
       "        -0.03024577,  0.06061707,  0.15147992,  0.24234276,  0.3332056 ,\n",
       "         0.42406845,  0.51493129,  0.60579413,  0.69665698,  0.78751982,\n",
       "         0.87838266,  0.96924551,  1.06010835,  1.15097119,  1.24183404,\n",
       "         1.33269688]),\n",
       " <BarContainer object of 30 artists>)"
      ]
     },
     "execution_count": 13,
     "metadata": {},
     "output_type": "execute_result"
    },
    {
     "data": {
      "image/png": "[encoded data removed]",
      "text/plain": [
       "<Figure size 1200x700 with 1 Axes>"
      ]
     },
     "metadata": {},
     "output_type": "display_data"
    }
   ],
   "source": [
    "def residus(y,y_hat):\n",
    "    return y-y_hat\n",
    "\n",
    "plot(pw,residus(pl,pl_hat(a,b,pw)), linestyle='', marker=\"D\", color='red')\n",
    "axhline(y = 0, color = 'b',linestyle='--')\n",
    "xlabel(\"petal width\")\n",
    "ylabel(\"residual\")\n",
    "show()\n",
    "\n",
    "hist(residus(pl_hat(a,b,pw),pl), 30, cumulative=False,label='Training set',color='#d8d8ff', edgecolor='black',align='mid')"
   ]
  },
  {
   "cell_type": "markdown",
   "id": "ca89c4d3-69a0-4f1d-9247-ff5f8812b788",
   "metadata": {},
   "source": [
    "<div class=\"rq\">\n",
    "    \n",
    "- Le premier graphique semble montrer une distribution aléatoire de la différence entre prédiction et valeur observée\n",
    "- L'histogramme montre une distribution \"en cloche\" (c'est-à-dire gaussienne) des résidus, ce qui confirme qu'il semble y avoir une relation linéaire entre largeur et longueur de pétale\n",
    "\n",
    "</div>\n",
    "<div class=\"rqE\">\n",
    "\n",
    "- The first graph seems to show a random distribution of the difference between prediction and observed value\n",
    "- The histogram shows a \"bell-shaped\" (i.e. gaussian) distribution of the residuals, which confirms that there seems to be a linear relationship between petal width and length\n",
    "    \n",
    "</div>"
   ]
  },
  {
   "cell_type": "markdown",
   "id": "b2b42ae3-fa18-4909-be1a-22e6b17406e3",
   "metadata": {},
   "source": [
    "<div class=\"ex\">\n",
    "\n",
    "<b> La partie ci-dessous est optionnelle.</b>\n",
    "L'objectif de cette partie est de tracer le nuage de points et l'histogramme à l'aide du module <code>seaborn</code>, qui permet :\n",
    "- de tracer une représentation graphique de meilleure qualité\n",
    "- de tracer l'histogramme des résidus par catégorie d'iris\n",
    "\n",
    "    \n",
    "On va en outre tracer les histogrammes en parallèle du nuage de points, c'est-à-dire avec la même échelle des ordonnées\n",
    "</div>\n",
    "<div class=\"exE\">\n",
    "    \n",
    "<b>The section below is optional.</b>\n",
    "The goal of this part is to plot the scatter plot and the histogram using the `seaborn module`, which allows :\n",
    "- to plot a better quality graphic representation\n",
    "- to plot the histogram of the residuals by iris category\n",
    "\n",
    "We will also plot the histograms next to the scatterplot, *i.e.* with the same y-axis scale\n",
    "</div>"
   ]
  },
  {
   "cell_type": "code",
   "execution_count": 14,
   "id": "a4d920a6-a12d-457b-bf45-f57793d21200",
   "metadata": {
    "tags": []
   },
   "outputs": [
    {
     "data": {
      "text/plain": [
       "(-2.0, 2.0)"
      ]
     },
     "execution_count": 14,
     "metadata": {},
     "output_type": "execute_result"
    },
    {
     "data": {
      "image/png": "[encoded data removed]",
      "text/plain": [
       "<Figure size 1600x800 with 3 Axes>"
      ]
     },
     "metadata": {},
     "output_type": "display_data"
    }
   ],
   "source": [
    "import seaborn as sns\n",
    "from matplotlib import gridspec\n",
    "def residus(y_hat,y):\n",
    "    return y-y_hat\n",
    "species=dfi[\"species\"]\n",
    "nbins=20\n",
    "limit=2\n",
    "plt.rcParams[\"figure.figsize\"] = (16,8) #on ajuste la taille du graphique\n",
    "gs = gridspec.GridSpec(1, 3, width_ratios=[2.5, 1, 1])\n",
    "plt.subplot(gs[0])\n",
    "axhline(y = 0, color = 'b',linestyle='--')\n",
    "plt.plot(pw,residus(pl_hat(a,b,pw),pl), linestyle='', marker=\"D\", color='red')\n",
    "xlabel(\"petal width\")\n",
    "ylabel(\"residual\")\n",
    "plt.ylim(-limit,limit)\n",
    "plt.subplot(gs[1])\n",
    "xlabel(\"petal width\")\n",
    "xlabel(\"distribution\")\n",
    "sns.histplot(y=residus(pl_hat(a,b,pw),pl),bins=nbins,kde=True)\n",
    "plt.ylim(-limit,limit)\n",
    "plt.subplot(gs[2])\n",
    "xlabel(\"distribution\")\n",
    "sns.histplot(y=residus(pl_hat(a,b,pw),pl),bins=nbins,hue=species,kde=True)\n",
    "plt.ylim(-limit,limit)"
   ]
  },
  {
   "cell_type": "markdown",
   "id": "47e794bd-949d-4c8c-ac8d-fa8e3c65cdc7",
   "metadata": {
    "tags": []
   },
   "source": [
    "<div class=\"rq\">\n",
    "\n",
    "- C'est esthétiquement plus stylé\n",
    "- On visualise mieux la distribution gaussienne de l'erreur globale (premier histogramme)\n",
    "- On voit sur l'histogramme de droite que la distribution de l'erreur pour l'espèce *virginica* s'éloigne d'une courbe \"en cloche\". Par manque de données ?\n",
    "</div>\n",
    "\n",
    "<div class=\"rqE\">\n",
    "    \n",
    "- It is aesthetically more elegant\n",
    "- We can better visualize the gaussian distribution of the global error (first histogram)\n",
    "- We can see on the right histogram that the distribution of the error for the species *virginica* is moving away from a bell curve. Because of a lack of data?\n",
    "</div>"
   ]
  },
  {
   "cell_type": "markdown",
   "id": "d8aee047-8805-46fc-9c61-1b7bd6d42009",
   "metadata": {},
   "source": [
    "#### Prédiction de la longueur d'un pétale d'Iris, connaissant sa largeur\n",
    "\n",
    "<div class=\"ex\">\n",
    "Un botaniste a découvert au fond de son jardin un Iris de la famille <i>setosa</i>, dont les pétales sont de largeur 0.25 cm.\n",
    "<ol>\n",
    "    <li> quelle est la longueur de pétale peut-on prédire, à partir de la base de données \"iris\"? (indice : utilisez la fonction <code>y_hat</code>)\n",
    "    <li> la longueur mesurée est en fait de 1.45 cm. Quelle est l'erreur quadratique commise par le modèle statistique ? (indice: utiliser la fonction <code>MSE()</code> importée de la bibliothèque <code>scikit-learn</code>)\n",
    "</ol> \n",
    "</div>\n",
    "<div class=\"exE\">\n",
    "A botanist discovered at the bottom of his garden an iris of the <i>setosa</i> family, whose petals are 0.25 cm wide.\n",
    "<ol>\n",
    "    <li> what is the length of the petal that can be predicted from the \"iris\" database? (hint: use the <code>y_hat</code> function)\n",
    "    <li> the measured length is in fact 1.45 cm. What is the squared error made by the statistical model? (hint: use the <code>MSE()</code> function imported from the <code>scikit-learn</code> library)\n",
    "</ol> \n",
    "</div>"
   ]
  },
  {
   "cell_type": "code",
   "execution_count": 15,
   "id": "954f891a-9785-461d-96e6-e225acf764b3",
   "metadata": {},
   "outputs": [
    {
     "name": "stdout",
     "output_type": "stream",
     "text": [
      "1.647043472515855\n"
     ]
    }
   ],
   "source": [
    "largeur_hat=pl_hat(a,b,0.25)\n",
    "print(largeur_hat)"
   ]
  },
  {
   "cell_type": "markdown",
   "id": "f994b9b2-f717-41af-a279-5e2d347337c3",
   "metadata": {},
   "source": [
    "<div class=\"rq\">\n",
    "\n",
    "<b>Attention !</b><br>\n",
    "La documentation de la fonction `mean_squared_error` (importée en tant que `MSE`) précise que l'appel est de la forme <code>mean_squared_error(y_true, y_pred)</code>, où <code>y_true</code> et <code>y_pred</code> sont des **tableaux**. </div>\n",
    "\n",
    "<div class=\"rqE\">\n",
    "\n",
    "<b>Attention!</b><br>\n",
    "The documentation for the `mean_squared_error` function (imported above as `MSE`) states that the call is of the form `mean_squared_error(y_true, y_pred)`, where `y_true` and `y_pred` are **arrays**.</div>"
   ]
  },
  {
   "cell_type": "code",
   "execution_count": 16,
   "id": "15bd8374-e3ad-4ad5-95cc-7a1317ae6c8b",
   "metadata": {},
   "outputs": [
    {
     "name": "stdout",
     "output_type": "stream",
     "text": [
      "0.038826130061106495\n"
     ]
    }
   ],
   "source": [
    "print(MSE([1.45],[largeur_hat]))"
   ]
  },
  {
   "cell_type": "markdown",
   "id": "8c50b2d8-0bf1-46e6-8a79-5ead3a501ee9",
   "metadata": {
    "tags": []
   },
   "source": [
    "### Régression polynomiale avec la fonction `polyfit()` de `numpy`<br>*Polynomial regression with the `polyfit()` function of `numpy`*"
   ]
  },
  {
   "cell_type": "markdown",
   "id": "92c432f1-aafa-460e-b7c5-f6916f2789e1",
   "metadata": {},
   "source": [
    "#### Rappel : allure de fonctions polynomiales simples<br>*Reminder : shape of simple polynomial functions*\n",
    "\n",
    "<div class=\"intro\">\n",
    "\n",
    "On va d'abord tracer les fonctions polynomiales d'ordre 1 à 6, en tant que rappel de cours. Pour mieux organiser la sortie, on va exploiter la fonction `subplot_mosaic()` de `matplotlib` (cf Thème \"*tracé de fonctions*\")\n",
    "</div>\n",
    "<div class=\"introE\">\n",
    "\n",
    "We will first plot the *n*th order polynomial functions (*n*=1-6), as a refresher course. To better organize the output, we will use the `subplot_mosaic()` function of `matplotlib` (see Theme \"plotting functions\")</div>"
   ]
  },
  {
   "cell_type": "code",
   "execution_count": null,
   "id": "28320b39-e87e-47d4-b670-2a581136f8f1",
   "metadata": {},
   "outputs": [],
   "source": [
    "mosaic = [[1,2,3],\n",
    "         [4,5,6]]\n",
    "fig, ax = subplot_mosaic(mosaic, constrained_layout=True,figsize=(10,6),sharex=True,sharey=False)\n",
    "\n",
    "xmin = -2\n",
    "xmax = 2\n",
    "npt = 100\n",
    "# génération de n points équirépartis entre xmin et xmax\n",
    "x = np.linspace(xmin, xmax, npt)\n",
    "\n",
    "ax[1].set_xlim(xmin,xmax)\n",
    "ax[1].plot(x, x,color='red')\n",
    "ax[1].set_title(\"$f(x)=x$\", fontsize=14, color=\"blue\")\n",
    "ax[1].axvline(x = 0, color = '0.7',linestyle='--')\n",
    "ax[1].axhline(y = 0, color = '0.7',linestyle='--')\n",
    "\n",
    "ax[2].plot(x, x**2,color='red')\n",
    "ax[2].set_title(\"$f(x)=x^2$\", fontsize=14, color=\"blue\")\n",
    "ax[2].axvline(x = 0, color = '0.7',linestyle='--')\n",
    "ax[2].axhline(y = 0, color = '0.7',linestyle='--')\n",
    "\n",
    "ax[3].plot(x, x**3,color='red')\n",
    "ax[3].set_title(\"$f(x)=x^3$\", fontsize=14, color=\"blue\")\n",
    "ax[3].axvline(x = 0, color = '0.7',linestyle='--')\n",
    "ax[3].axhline(y = 0, color = '0.7',linestyle='--')\n",
    "\n",
    "ax[4].plot(x, x**4,color='red')\n",
    "ax[4].set_title(\"$f(x)=x^4$\", fontsize=14, color=\"blue\")\n",
    "ax[4].axvline(x = 0, color = '0.7',linestyle='--')\n",
    "ax[4].axhline(y = 0, color = '0.7',linestyle='--')\n",
    "\n",
    "ax[5].plot(x, x**5,color='red')\n",
    "ax[5].set_title(\"$f(x)=x^5$\", fontsize=14, color=\"blue\")\n",
    "ax[5].axvline(x = 0, color = '0.7',linestyle='--')\n",
    "ax[5].axhline(y = 0, color = '0.7',linestyle='--')\n",
    "\n",
    "ax[6].plot(x, x**6,color='red')\n",
    "ax[6].set_title(\"$f(x)=x^6$\", fontsize=14, color=\"blue\")\n",
    "ax[6].axvline(x = 0, color = '0.7',linestyle='--')\n",
    "ax[6].axhline(y = 0, color = '0.7',linestyle='--')"
   ]
  },
  {
   "cell_type": "markdown",
   "id": "a0402af7-61ff-4559-98d4-86d4df21bac1",
   "metadata": {},
   "source": [
    "#### Lecture d'un polynôme & régression<br>*Reading of a polynomial & regression*"
   ]
  },
  {
   "cell_type": "markdown",
   "id": "8c962eb6-ff51-40bf-af6d-71a504262340",
   "metadata": {},
   "source": [
    "<div class=\"intro\">\n",
    "\n",
    "On commence par lire un fichier csv, qui est constitué de 2 colonnes de données (X, puis Y) séparées par une tabulation (`delimiter='\\t'`). On trace ensuite Y en fonction de X\n",
    "\n",
    "</div>\n",
    "\n",
    "<div class=\"introE\">\n",
    "    \n",
    "We start by reading a csv file, which consists of 2 columns of data (X, then Y) separated by a tab (`delimiter='\\t'`). Then we plot Y according to X\n",
    "\n",
    "</div>"
   ]
  },
  {
   "cell_type": "code",
   "execution_count": null,
   "id": "60cc477c-1089-4040-9259-b2b055086bfc",
   "metadata": {},
   "outputs": [],
   "source": [
    "X, Y = np.loadtxt('DS4B-iris-data/fpol.csv', delimiter='\\t', unpack=True) #if unpack is True, the returned array is transposed, so that arguments may be unpacked using x, y, z = loadtxt(...)\n",
    "plt.rcParams[\"figure.figsize\"] = (10,6) #on ajuste la taille du graphique\n",
    "plt.plot(X, Y,linestyle='', marker='o', label=\"experimental data\")\n",
    "legend()"
   ]
  },
  {
   "cell_type": "markdown",
   "id": "00322a0b-8742-4948-bb76-5bbf8f54d6b3",
   "metadata": {},
   "source": [
    "<div class=\"rq\">\n",
    "La fonction ressemble à un polynôme d'ordre impair.\n",
    "<li>Essayons d'abord un <i>fit</i> des données par un polynôme d'ordre 3, c'est-à-dire du type $ax^3+bx^2+cx+d$\n",
    "<li>Puis on va afficher les paramètres du polynôme\n",
    "<li>Enfin, on va tracer les données et le polynôme optimoisé sur un même graphe \n",
    "</div>\n",
    "\n",
    "<div class=\"rqE\">\n",
    "The function looks like an odd-order polynomial.\n",
    "<li>Let's first try to fit the data by a 3rd-order polynomial, <i>i.e.</i> of the type $ax^3+bx^2+cx+d$\n",
    "<li>Then we will display the parameters of the polynomial\n",
    "<li>Finally, we will plot the data and the fitted polynomial on the same graph\n",
    "</div>"
   ]
  },
  {
   "cell_type": "code",
   "execution_count": null,
   "id": "3c3f2be3-4e6e-43d2-b7da-839fa8e5afb4",
   "metadata": {},
   "outputs": [],
   "source": [
    "# la routine polyfit est appelée avec les tableaux X & Y, ainsi que l'ordre du polynôme modèle.\n",
    "# Elle va renvoyer les coefficients a, b, c, & d du polynôme, stockés dans la liste PFit3\n",
    "# the polyfit routine is called with the X & Y arrays, and the order of the model polynomial.\n",
    "# It will return the coefficients a, b, c, & d of the polynomial, stored in the PFit3 list\n",
    "PFit3 = np.polyfit(X, Y, 3)\n",
    "\n",
    "# affichage des paramètres du polynôme\n",
    "# print the parameters of the 3rd-order polynomial\n",
    "print(PFit3)\n",
    "# affichage formaté des paramètres\n",
    "# formatted print of the parameters\n",
    "print(f\"{PFit3[0]:6.2f}x^3 + {PFit3[1]:6.2f}x^2 + {PFit3[2]:6.2f}x + {PFit3[3]:6.2f}\")\n",
    "\n",
    "# inutile de faire des copier/coller des valeurs de a, b, c, d. On va utiliser directement poly1d, en lui passant PFit3 en paramètre\n",
    "# poly1d fait partie de NumPy. Par exemple, poly1d (3, 2, 6) renvoie 3x^2 + 2x + 6.\n",
    "# no need to copy/paste the values of a, b, c, d. We will use poly1d directly, passing PFit3 as a parameter\n",
    "# poly1d is part of NumPy. For example, poly1d (3, 2, 6) returns 3x^2 + 2x + 6.\n",
    "P_hat3  = np.poly1d(PFit3)\n",
    "print(P_hat3)\n",
    "\n",
    "# tracé des points et du polynôme\n",
    "# scatter plot and curve plot of the optimized polynomial\n",
    "plt.plot(X, Y,linestyle='', marker='o', label=\"observed data\")\n",
    "plt.plot(X, P_hat3(X),'-', marker='', color='r', linewidth=2, label=\"$\\hat{P}$\")\n",
    "legend()"
   ]
  },
  {
   "cell_type": "markdown",
   "id": "d6817a04-bb69-48d5-9322-6ccb31ac9e62",
   "metadata": {},
   "source": [
    "<div class=\"rq\">\n",
    "On constate une très bonne superposition. On va maintenant calculer les erreurs moyennes (MAE et MSE)</div>\n",
    "<div class=\"rqE\">\n",
    "We can see a very good superposition. We will now calculate the average errors (MAE and MSE)</div>"
   ]
  },
  {
   "cell_type": "code",
   "execution_count": null,
   "id": "06b4c55b-0e34-403d-ba27-91bf5e29542e",
   "metadata": {},
   "outputs": [],
   "source": [
    "from sklearn.metrics import mean_squared_error as MSE\n",
    "from sklearn.metrics import mean_absolute_error as MAE\n",
    "print(f\"MSE = {MSE(Y,P_hat3(X)):8.3f}\\nMAE ={MAE(Y,P_hat3(X)):8.3f}\")"
   ]
  },
  {
   "cell_type": "markdown",
   "id": "6cc4fead-8c6a-41f1-b873-a6a6611663e3",
   "metadata": {},
   "source": [
    "<div class=\"rq\">\n",
    "Se pourrait-il qu'un polynôme d'ordre 5 permette un meilleur fit ? On va mettre en &oelig;uvre toute la procédure en finissant par le calcul des erreurs</div>\n",
    "<div class=\"rqE\">\n",
    "Could it be that a polynomial of order 5 allows a better fit? We are going to implement the whole procedure by finishing with the calculation of the errors</div>"
   ]
  },
  {
   "cell_type": "code",
   "execution_count": null,
   "id": "7f18dc24-8e4c-4b3e-b3b8-c423cdf5eede",
   "metadata": {},
   "outputs": [],
   "source": [
    "PFit5 = np.polyfit(X, Y, 5)\n",
    "P_hat5  = np.poly1d(PFit5)\n",
    "print(P_hat5)\n",
    "plt.plot(X, Y,linestyle='', marker='o', label=\"observed data\")\n",
    "plt.plot(X, P_hat5(X),'-', marker='', color='r', linewidth=2, label=\"$\\hat{P}$\")\n",
    "legend()\n",
    "print(f\"MSE = {MSE(Y,P_hat5(X)):8.3f}\\nMAE ={MAE(Y,P_hat5(X)):8.3f}\")"
   ]
  },
  {
   "cell_type": "markdown",
   "id": "b1f82dcd-251f-4514-9797-e7220e6f0b7d",
   "metadata": {},
   "source": [
    "<div class=\"rq\">\n",
    "    Compte tenu des faibles coefficients associés aux ordres élevés ($x^5$ et $x^4$) il s'agit bien d'une fonction polynomiale d'ordre 3. La légère diminution de la MAE et de la MSE montre que l'introduction des ordres 4 et 5 permet de diminuer légèrement l'écart entre fonction prédite et fonction réelle.<span style=\"color:red;\"><b> Mais ça n'est pas forcément une bonne chose (</b>cf paragraphe \"surapprentissage\").</span><br> <br>\n",
    "    En fait, la fonction tracée a été générée en \"bruitant\" le polynôme $4x^3+2x^2-3x-6$.<br>\n",
    "    La comparaison avec les coefficients polynomiaux issus du fit montre qu'il vaut donc mieux chercher à fitter les données avec l'ordre polynomial le plus approprié, même si en apparrence on réduit l'erreur.\n",
    "</div>\n",
    "<div class=\"rqE\">\n",
    "    Given the low coefficients associated with the high orders ($x^5$ and $x^4$) it is indeed a 3rd-order polynomial. The slight decrease of the MAE and the MSE shows that the introduction of orders 4 and 5 allows to slightly decrease the gap between predicted and real values. <span style=\"color:red;\"><b>But this is not necessarily a good thing</b> (see \"overfitting\" section)</span><br> <br>\n",
    "    In fact, the plotted function was generated by adding noise to the polynomial $4x^3+2x^2-3x-6$.<br>\n",
    "    The comparison with the polynomial coefficients resulting from the fit shows that it is therefore better to try to fit the data with the most appropriate polynomial order, even if it appears to reduce the error.\n",
    "</div>"
   ]
  },
  {
   "cell_type": "code",
   "execution_count": null,
   "id": "db3d4255-d88a-4592-9bf6-68e9c1767584",
   "metadata": {},
   "outputs": [],
   "source": [
    "print(f\"{color.BOLD}{color.RED}Pour mémoire :{color.OFF}\")\n",
    "print(\"Polynôme d'ordre 3 :\")\n",
    "print(P_hat3)\n",
    "print(f\"Polynôme d'ordre 5 :\")\n",
    "print(P_hat5)"
   ]
  },
  {
   "cell_type": "markdown",
   "id": "4599f0c4-360a-4948-b05d-876772a28a12",
   "metadata": {},
   "source": [
    "<div class=\"rq\">\n",
    "    <b> Pourquoi ne retrouve-t-on pas exactement l'équation $4x^3+2x^2-3x-6$ ?</b><br>\n",
    "        À cause du bruit ajouté à la fonction.<br><br>\n",
    "    <b>Remarque. </b>On a introduit un bruit = 30. Un commentaire ? (<i>Suggestion: regarder la MAE...</i>)\n",
    "</div>\n",
    "<div class=\"rqE\">\n",
    "    <b> Why is the equation $4x^3+2x^2-3x-6$  not accurately found?</b><br>\n",
    "        Because of the noise added to the function..<br><br>\n",
    "    <b>Comment. </b>The added noise = 30. Any comment ? (<i>Suggestion: look at the MAE...</i>)\n",
    "</div>"
   ]
  },
  {
   "cell_type": "markdown",
   "id": "c7a273c4-f9c2-467a-b25a-8720553050f4",
   "metadata": {
    "tags": []
   },
   "source": [
    "#### Surapprentissage<br>*overfitting*\n",
    "\n",
    "<div class=\"intro\">\n",
    "\n",
    "On va reprendre le même jeu de données, mais on va essayer de réduire l'erreur, en considérant un ordre très élevé: 31!\n",
    "</div>\n",
    "<div class=\"introE\">\n",
    "    \n",
    "We will use the same data set, but we will try to reduce the error, by considering a very high order: 31!\n",
    "</div>"
   ]
  },
  {
   "cell_type": "code",
   "execution_count": null,
   "id": "ca7fb834-e71c-403f-a3a1-0dc00248c1b7",
   "metadata": {},
   "outputs": [],
   "source": [
    "PFit31 = np.polyfit(X, Y, 31)\n",
    "P_hat31  = np.poly1d(PFit31)\n",
    "print(P_hat31)\n",
    "plt.plot(X, Y,linestyle='', marker='o', label=\"observed data\")\n",
    "plt.plot(X, P_hat31(X),'-', marker='', color='r', linewidth=2, label=\"$\\hat{P}$\")\n",
    "legend()\n",
    "print(f\"MSE = {MSE(Y,P_hat31(X)):8.3f}\\nMAE ={MAE(Y,P_hat31(X)):8.3f}\")"
   ]
  },
  {
   "cell_type": "markdown",
   "id": "a21310ef-f929-4108-a0a3-6c57a31dcfe7",
   "metadata": {},
   "source": [
    "<div class=\"rq\">\n",
    "    L'écart entre points expérimentaux et fonction polynomiale a beaucoup diminué (cf MAE & MSE). L'augmentation de l'ordre permet de passer au plus près d'un grand nombre de points. <br>\n",
    "    Lorsqu'on examine les valeurs des coefficients on s'aperçoit qu'on s'éloigne beaucoup de la loi réelle  ($4x^3+2x^2-3x-6$) qui relie $x$ et $y$. Les coefficient associés à $x^3$, $x^2$ et $x$ sont même totalement farfelus !<br>\n",
    "    Dans le contexte de la <b>science des données et de l'apprentissage automatique</b>, on parlerait de <span style=\"color:red\"><b>surapprentissage</b></span> (overfitting) : le modèle polynomial sait reproduire beaucoup de détails, mais <b>il est passé à côté du phénomène global</b>, décrit ici par l'équation $4x^3+2x^2-3x-6$.\n",
    "</div>\n",
    "<div class=\"rqE\">\n",
    "    The gap between the experimental points and the polynomial function has decreased a lot (cf MAE & MSE). The increase of the order allows us to get closer to a large number of points. <br>\n",
    "When we examine the values of the coefficients we see that we are far from the real law ($4x^3+2x^2-3x-6$) which links $x$ and $y$. The coefficients associated to $x^3$, $x^2$ and $x$ are even totally crazy ! <br>\n",
    "\n",
    "In the context of <b>data science and machine learning</b>, this would be named <span style=\"color:red\"><b>overfitting</b></span>: the polynomial model is able to reproduce a lot of details, but <b>it has missed the global phenomenon</b>, described here by the equation $4x^3+2x^2-3x-6$.\n",
    "</div>"
   ]
  },
  {
   "cell_type": "markdown",
   "id": "f9b5f54e-7759-4bb2-a7c5-3d9c8c5290e9",
   "metadata": {},
   "source": [
    "### Régression avec la bibliothèque `SciPy`<br>*Regression with the `SciPy` library*\n",
    "\n",
    "<div class=\"intro\">\n",
    "\n",
    "La fonction `curve_fit` du module `scipy` présente l'intérêt de pouvoir établir des corrélations plus complexes que des fonctions affines ou polynomiales.\n",
    "\n",
    "L'utilisation de `curve_fit` nécessite deux étapes :\n",
    "\n",
    "- définir la relation mathématique à modéliser sous forme d'une fonction python `f(x,a,b,c...)` qui prend comme arguments la valeur en abscisse `x`, puis les coefficients `(a,b,c...)` du modèle à déterminer\n",
    "\n",
    "- utiliser la fonction `curve_fit` avec comme arguments la fonction python `f`, les données `x` et les données `y`\n",
    "</div>\n",
    "<div class=\"introE\">\n",
    "\n",
    "The `curve_fit` function of the `scipy` library has the advantage of being able to establish more complex correlations than linear or polynomial functions.\n",
    "\n",
    "Using `curve_fit` requires two steps:\n",
    "\n",
    "- define the mathematical relationship to be modeled in the form of a python function `f(x,a,b,c...)` which takes as arguments the `x`, then the coefficients `(a,b,c...)` of the model to be determined \n",
    "\n",
    "- use the `curve_fit` function with as arguments the python function `f`, the array `x` and the associated array `y`\n",
    "</div>"
   ]
  },
  {
   "cell_type": "markdown",
   "id": "1293ad9b-41e6-4320-9156-d8ea7c46cd3b",
   "metadata": {},
   "source": [
    "#### Appel des bibliothèques<br>*Importation of the libraries*"
   ]
  },
  {
   "cell_type": "code",
   "execution_count": null,
   "id": "2b0bcb8f-e2c7-4dd8-8c61-7b672f4fd84d",
   "metadata": {
    "tags": []
   },
   "outputs": [],
   "source": [
    "import numpy as np\n",
    "from matplotlib import pyplot as plt\n",
    "from scipy.optimize import curve_fit"
   ]
  },
  {
   "cell_type": "markdown",
   "id": "ff32cd03-22a9-412b-a688-8eac30cad9ef",
   "metadata": {},
   "source": [
    "#### Mise en &oelig;uvre du fit<br>*Fitting process*"
   ]
  },
  {
   "cell_type": "code",
   "execution_count": null,
   "id": "023c006f-a6ef-42bd-9bdd-028d1f487e9b",
   "metadata": {},
   "outputs": [],
   "source": [
    "def P3(x,a,b,c,d):\n",
    "    P =  a*x**3 + b*x**2 + c*x + d\n",
    "    return P\n",
    "\n",
    "X, Y = np.loadtxt('DS4B-iris-data/fpol.csv', delimiter='\\t', unpack=True) #if unpack is True, the returned array is transposed, so that arguments may be unpacked using x, y, z = loadtxt(...)\n",
    "\n",
    "PFit3b, _ = curve_fit(P3, X, Y)\n",
    "P_hat3b  = np.poly1d(PFit3b)\n",
    "#affichage des paramètres du polynôme\n",
    "print(P_hat3b)\n",
    "print()\n",
    "print(f\"{color.BLUE}{color.BOLD}à comparer au résultat du fit avec polyfit :{color.OFF}\")\n",
    "print(P_hat3)"
   ]
  },
  {
   "cell_type": "markdown",
   "id": "55fcc260-4a33-42fd-97f4-d459bcc8340e",
   "metadata": {},
   "source": [
    "<div class=\"rq\">\n",
    "    On a utilisé deux bibliothèques différentes (<code>NumPy</code> et <code>SciPy</code>), qui heureusement donnent le même résultat.<br>\n",
    "    <li> <code>polyfit</code> est plus facile à utiliser pour une régression polynomiale\n",
    "    <li> <code>curve_fit</code> est beaucoup plus général, puisqu'on peut fitter n'importe quelle fonction mathématique, pas uniquement des polynômes\n",
    "</div>\n",
    "<div class=\"rqE\">\n",
    "We used two different libraries (<code>NumPy</code> and <code>SciPy</code>), which thankfully give the same result.\n",
    "<li> <code>polyfit</code> is easier to use for polynomial regression\n",
    "<li> <code>curve_fit</code> is much more general, since any mathematical function can be fitted, not only polynomials\n",
    "</div>"
   ]
  },
  {
   "cell_type": "markdown",
   "id": "2e6354c1-cd35-4580-be06-5bb080aa8802",
   "metadata": {},
   "source": [
    "### Bilan de la deuxième partie<br>*Review of this second part*"
   ]
  },
  {
   "cell_type": "markdown",
   "id": "3e1f8202-aa29-4126-a052-5ce2b085cee4",
   "metadata": {},
   "source": [
    "<div class=\"rq\">\n",
    "    \n",
    "- on a pu déterminer l'équation d'une fonction mathématique qui reflète le lien entre deux ensembles de variables $(x, y)$, qui sont toutes deux tirées d'observations\n",
    "\n",
    "- en d'autres termes, on a recherché la fonction mathématique permettant de décrire le comportement de la variable statistique $y$ en fonction d'une autre variable statistique $x$\n",
    "\n",
    "- même s'il existe des grandeurs qui permettent d'avoir un aperçu global de la qualité de l'ajustement (MAE, MSE, $R^2$), c'est insuffisant : il faut exercer un regard critique par le tracé des résidus\n",
    "\n",
    "- dans le cas où le \"*fitting*\" semble convaincant, cette fonction mathématique, $\\hat{y}=f(x)$, va permettre de prédire $y$ pour une valeur de $x$ quelconque. **Attention !** Il est dans la plupart des cas dangereux d'extrapoler en dehors de l'intervalle de la variable $x$ mesurée (observée).\n",
    "</div>\n",
    "\n",
    "<div class=\"rqE\">\n",
    "\n",
    "- we were able to determine the equation of a mathematical function that represents the relationship between two sets of variables $(x, y)$, both of which are obtained from observations\n",
    "\n",
    "- in other words, we looked for the mathematical function allowing to describe the behavior of the statistical variable $y$ as a function of another statistical variable $x$\n",
    " \n",
    "- even if there are quantities that give an overall view of the quality of the fitting (MAE, MSE, $R^2$), this is not enough: it is necessary to exercise critical thinking, by plotting the residuals\n",
    "\n",
    "- in the case where the fitting seems convincing, this mathematical function, $\\hat{y}=f(x)$, will allow to predict $y$ for any value of $x$. **Be careful!** It is in most cases dangerous to extrapolate outside the range of the measured variable $x$\n",
    "</div>"
   ]
  },
  {
   "cell_type": "markdown",
   "id": "ddc4f59d-303e-4523-b0cb-d90b1cb487a4",
   "metadata": {},
   "source": [
    "### Chapitre suivant : l'apprentissage supervisé (supervised Machine Learning) appliqué à la classification (régression logistique)<br>*Next chapter: supervised Machine Learning applied to logistic regression*\n",
    "\n",
    "<div class=\"intro\">\n",
    "    \n",
    "On attire aussi l'attention sur un point important : on s'est servi de **toutes** les observations $(x_i,y_i)$ pour déterminer l'équation de la fonction mathématique $f(x)$. Pourquoi appuyer sur ce point ? Car avec les algorithmes d'apprentissage automatique (machine learning) on ne se sert que d'une partie des données pour l'apprentissage, le reste étant utilisé pour tester la fiabilité de l'algorithme. On va voir ça dans le [chapitre suivant](./DS4B-Iris3.ipynb).\n",
    "\n",
    "\n",
    "N'oubliez pas de faire d'abord [l'exercice associé à ce chapitre](./DS4B-Exercices/DS4B-Iris2-Exercice.ipynb).\n",
    "\n",
    "</div>\n",
    "\n",
    "<div class=\"introE\">\n",
    "    \n",
    "Attention is also called to an important point: **all** observations $(x_i,y_i)$ were used to determine the equation of the mathematical function $f(x)$ . Why focus on this point? Because machine learning algorithms only use a part of the data for learning, the rest being used to test the reliability of the algorithm. We will see this in the [next chapter](./DS4B-Iris3.ipynb).\n",
    "\n",
    "Don't forget to do the [exercise associated with this chapter](./DS4B-Exercices/DS4B-Iris2-Exercice.ipynb) first.\n",
    "\n",
    "</div>"
   ]
  },
  {
   "cell_type": "markdown",
   "id": "d0916abb-60da-46fc-a062-29fe7bffbe02",
   "metadata": {},
   "source": [
    "### Évaluation formative après la vidéo\n",
    "\n",
    "Voir les quizz (uniquement pour les étudiants d'UT3, cf Moodle)"
   ]
  },
  {
   "cell_type": "code",
   "execution_count": null,
   "id": "2c374e9b-1a42-4abc-b19f-c58590efafef",
   "metadata": {},
   "outputs": [],
   "source": [
    "vID.end(cwd0)"
   ]
  },
  {
   "cell_type": "code",
   "execution_count": null,
   "id": "adca78a5-e16f-4e77-a8c7-4435a739dd14",
   "metadata": {},
   "outputs": [],
   "source": []
  }
 ],
 "metadata": {
  "kernelspec": {
   "display_name": "Python 3 (ipykernel)",
   "language": "python",
   "name": "python3"
  },
  "language_info": {
   "codemirror_mode": {
    "name": "ipython",
    "version": 3
   },
   "file_extension": ".py",
   "mimetype": "text/x-python",
   "name": "python",
   "nbconvert_exporter": "python",
   "pygments_lexer": "ipython3",
   "version": "3.11.5"
  },
  "toc-autonumbering": true,
  "toc-showmarkdowntxt": false
 },
 "nbformat": 4,
 "nbformat_minor": 5
}
