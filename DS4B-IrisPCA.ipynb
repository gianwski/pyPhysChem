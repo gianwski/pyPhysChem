{
 "cells": [
  {
   "cell_type": "code",
   "execution_count": 1,
   "id": "8de690ce-49d6-4387-b242-fe36280ca9dd",
   "metadata": {},
   "outputs": [
    {
     "data": {
      "text/html": [
       "<style>\n",
       "h1, h2, h3, h4, h5, h6 {\n",
       "  font-family: Verdana, \"DejaVu Sans\", \"Bitstream Vera Sans\", Geneva, sans-serif;\n",
       "  font-weight: bold;\n",
       "}\n",
       "body, exercice {\n",
       "  font-family: Verdana, \"DejaVu Sans\", \"Bitstream Vera Sans\", Geneva, sans-serif;\n",
       "  font-weight: 200;\n",
       "}\n",
       "h1 {\n",
       "  border: 0 solid #333;\n",
       "  padding: 30px ;\n",
       "  color: white;\n",
       "  background: #b11d01;\n",
       "  text-align: center;\n",
       "}\n",
       "h2 {\n",
       "  border: 3px solid #333;\n",
       "  padding: 18px ;\n",
       "  color: #b11d01;\n",
       "  background: #ffffff;\n",
       "  text-align: center;\n",
       "}\n",
       "h3 {\n",
       "  border: 0 solid #333;\n",
       "  padding: 12px ;\n",
       "  color: #000000;\n",
       "  background: #c1c1c1;\n",
       "  text-align: left;\n",
       "}\n",
       "h4 {\n",
       "  border: 0 solid #333;\n",
       "  padding: 2px ;\n",
       "  color: #000000;\n",
       "  background: #d9fffc;\n",
       "  text-align: left;\n",
       "}\n",
       "h5 {\n",
       "  border: 1px solid #333;\n",
       "  padding: 2px ;\n",
       "  color: #000000;\n",
       "  background: #ffffff;\n",
       "  text-align: left;\n",
       "}\n",
       ".rq {    \n",
       "    background-color: #fcf2f2;\n",
       "    border-color: #dFb5b4;\n",
       "    border-left: 5px solid #dfb5b4;\n",
       "    padding: 0.5em;\n",
       "    font-weight: 200;\n",
       "    }\n",
       ".intro {    \n",
       "    background-color: #f1f1f1;\n",
       "    border-color: #969696;\n",
       "    border-left: 5px solid #969696;\n",
       "    padding: 0.5em;\n",
       "    font-weight: 200;\n",
       "    }\n",
       ".exold {    \n",
       "    background-color: #b2dbea80;\n",
       "    border-color: #0055ff;\n",
       "    border-left: 10px solid #0055ff;\n",
       "    padding: 0.5em;\n",
       "    font-weight: 200;\n",
       "    }\n",
       ".ex {    \n",
       "    background-color: #b2dbea80;\n",
       "    padding: 0.5em;\n",
       "    padding-top: 0em;\n",
       "    font-weight: 200;\n",
       "    position:relative;\n",
       "    }\n",
       ".ex::before {\n",
       "    background-color: #b2dbea;\n",
       "    content:\"Exercice\";\n",
       "    margin-left:-0.5em;\n",
       "    margin-right:-0.5em;\n",
       "    padding-left:0.5em;\n",
       "    padding-right:0.5em;\n",
       "    font-weight: 600;\n",
       "    display: block;\n",
       "    }\n",
       ".app {    \n",
       "    background-color: #b2dbea80;\n",
       "    padding: 0.5em;\n",
       "    padding-top: 0em;\n",
       "    font-weight: 200;\n",
       "    position:relative;\n",
       "    }\n",
       ".app::before {\n",
       "    background-color: #b2dbea;\n",
       "    content:\"Application\";\n",
       "    margin-left:-0.5em;\n",
       "    margin-right:-0.5em;\n",
       "    padding-left:0.5em;\n",
       "    padding-right:0.5em;\n",
       "    font-weight: 600;\n",
       "    display: block;\n",
       "    }\n",
       "</style>\n"
      ],
      "text/plain": [
       "<IPython.core.display.HTML object>"
      ]
     },
     "metadata": {},
     "output_type": "display_data"
    },
    {
     "data": {
      "text/markdown": [
       "**Start at:** Wednesday 05 April 2023, 12:27:53  \n",
       "**Hostname:** insa-12842 (Linux)"
      ],
      "text/plain": [
       "<IPython.core.display.Markdown object>"
      ]
     },
     "metadata": {},
     "output_type": "display_data"
    },
    {
     "data": {
      "text/markdown": [
       "<p style=\"text-align: center\"><img width=\"800px\" src=\"./config/svg/PytChemBanner.svg\" style=\"margin-left:auto; margin-right:auto\"/></p>"
      ],
      "text/plain": [
       "<IPython.core.display.Markdown object>"
      ]
     },
     "metadata": {},
     "output_type": "display_data"
    }
   ],
   "source": [
    "###############################################################################################\n",
    "# supprimez cette cellule si vous exécutez ce notebook en-dehors de la distribution CHIM2-ON1 #\n",
    "###############################################################################################\n",
    "# ACP Topic (aka Iris 4)\n",
    "\n",
    "import os\n",
    "import sys\n",
    "\n",
    "cwd0 = './config/'\n",
    "sys.path.append(cwd0)\n",
    "\n",
    "import visualID_Eng as vID\n",
    "from visualID_Eng import color\n",
    "vID.init(cwd0)"
   ]
  },
  {
   "cell_type": "markdown",
   "id": "c5b71cea",
   "metadata": {
    "tags": []
   },
   "source": [
    "# Statistical treatment of data<br>(data science for beginners)\n",
    "## 4. Principal Component Analysis (PCA)\n",
    "\n",
    "<div class=\"intro\">\n",
    "\n",
    "Principal component analysis (PCA) is a statistical procedure that uses an orthogonal transformation to **convert** a set of observations of **possibly correlated variables** into a set of values of **linearly uncorrelated variables** called **principal components** (PC). \n",
    "    \n",
    "It helps you interpret your data and simplifies the complexity in high-dimensional data while retaining trends and patterns. It does this by transforming the data into fewer dimensions, which act as summaries of features. It can be seen as a **compression** algorithm.\n",
    "    \n",
    "This transformation is defined in such a way that the first principal component has the largest possible variance, and each succeeding component in turn has the highest variance possible under the constraint that it is orthogonal to the preceding components. The resulting vectors (each being a linear combination of the variables and containing *n* observations) are an uncorrelated orthogonal basis set.\n",
    "\n",
    "(*From Wikipedia*)\n",
    "\n",
    "    \n",
    "PCA is based on the Pearson correlation coefficient (aka *correlation coefficient*) framework and inherits similar assumptions:\n",
    "\n",
    "- Sample size: Minimum of 150 observations\n",
    "- Correlations: The feature set is correlated, so the reduced feature set effectively represents the original data space\n",
    "- Linearity: All variables exhibit a constant multivariate normal relationship, and principal components are a linear combination of the original features\n",
    "- Outliers: No significant outliers in the data as these can have a disproportionate influence on the results\n",
    "- Large variance implies more structure: high variance axes are treated as principal components, while low variance axes are treated as noise and discarded\n",
    "\n",
    "Given a pair of random variables $X$ and $Y$, the Pearson correlation coefficient $\\rho(X,Y)$ is defined as:\n",
    "    \n",
    "$$\\rho(X,Y)=\\frac{\\mathrm{cov}(X,Y)}{\\sigma_{X}\\sigma_{Y}}$$\n",
    "    \n",
    "where $\\mathrm{cov}$ is the covariance and $\\sigma_{I}$ is the standard deviation of variable $I$\n",
    "    \n",
    "</div>"
   ]
  },
  {
   "cell_type": "markdown",
   "id": "db070fc1-3d3b-4eb4-aa9a-b75fc78f459b",
   "metadata": {},
   "source": [
    "### 4.1. PCA in a nutshell"
   ]
  },
  {
   "cell_type": "markdown",
   "id": "03612123-5860-4e4f-b9ba-03355f2ceb14",
   "metadata": {},
   "source": [
    "#### 4.1.a. Library import"
   ]
  },
  {
   "cell_type": "code",
   "execution_count": 2,
   "id": "301536da-87a2-4a9f-aea6-7e0cdb84f7d9",
   "metadata": {},
   "outputs": [],
   "source": [
    "%matplotlib inline\n",
    "import pandas as pd\n",
    "import matplotlib as mp\n",
    "import matplotlib.pyplot as plt\n",
    "import numpy as np\n",
    "from sklearn.decomposition import PCA"
   ]
  },
  {
   "cell_type": "code",
   "execution_count": 3,
   "id": "a25b58b8-1ccf-4b37-9848-c6d3c617c7fb",
   "metadata": {},
   "outputs": [
    {
     "name": "stdout",
     "output_type": "stream",
     "text": [
      "Dfi. Structure (shape) :(150, 5)\n"
     ]
    },
    {
     "data": {
      "text/html": [
       "<div>\n",
       "<style scoped>\n",
       "    .dataframe tbody tr th:only-of-type {\n",
       "        vertical-align: middle;\n",
       "    }\n",
       "\n",
       "    .dataframe tbody tr th {\n",
       "        vertical-align: top;\n",
       "    }\n",
       "\n",
       "    .dataframe thead th {\n",
       "        text-align: right;\n",
       "    }\n",
       "</style>\n",
       "<table border=\"1\" class=\"dataframe\">\n",
       "  <thead>\n",
       "    <tr style=\"text-align: right;\">\n",
       "      <th></th>\n",
       "      <th>sepal_length</th>\n",
       "      <th>sepal_width</th>\n",
       "      <th>petal_length</th>\n",
       "      <th>petal_width</th>\n",
       "      <th>species</th>\n",
       "    </tr>\n",
       "  </thead>\n",
       "  <tbody>\n",
       "    <tr>\n",
       "      <th>0</th>\n",
       "      <td>5.1</td>\n",
       "      <td>3.5</td>\n",
       "      <td>1.4</td>\n",
       "      <td>0.2</td>\n",
       "      <td>setosa</td>\n",
       "    </tr>\n",
       "    <tr>\n",
       "      <th>1</th>\n",
       "      <td>4.9</td>\n",
       "      <td>3.0</td>\n",
       "      <td>1.4</td>\n",
       "      <td>0.2</td>\n",
       "      <td>setosa</td>\n",
       "    </tr>\n",
       "    <tr>\n",
       "      <th>2</th>\n",
       "      <td>4.7</td>\n",
       "      <td>3.2</td>\n",
       "      <td>1.3</td>\n",
       "      <td>0.2</td>\n",
       "      <td>setosa</td>\n",
       "    </tr>\n",
       "    <tr>\n",
       "      <th>3</th>\n",
       "      <td>4.6</td>\n",
       "      <td>3.1</td>\n",
       "      <td>1.5</td>\n",
       "      <td>0.2</td>\n",
       "      <td>setosa</td>\n",
       "    </tr>\n",
       "    <tr>\n",
       "      <th>4</th>\n",
       "      <td>5.0</td>\n",
       "      <td>3.6</td>\n",
       "      <td>1.4</td>\n",
       "      <td>0.2</td>\n",
       "      <td>setosa</td>\n",
       "    </tr>\n",
       "    <tr>\n",
       "      <th>...</th>\n",
       "      <td>...</td>\n",
       "      <td>...</td>\n",
       "      <td>...</td>\n",
       "      <td>...</td>\n",
       "      <td>...</td>\n",
       "    </tr>\n",
       "    <tr>\n",
       "      <th>145</th>\n",
       "      <td>6.7</td>\n",
       "      <td>3.0</td>\n",
       "      <td>5.2</td>\n",
       "      <td>2.3</td>\n",
       "      <td>virginica</td>\n",
       "    </tr>\n",
       "    <tr>\n",
       "      <th>146</th>\n",
       "      <td>6.3</td>\n",
       "      <td>2.5</td>\n",
       "      <td>5.0</td>\n",
       "      <td>1.9</td>\n",
       "      <td>virginica</td>\n",
       "    </tr>\n",
       "    <tr>\n",
       "      <th>147</th>\n",
       "      <td>6.5</td>\n",
       "      <td>3.0</td>\n",
       "      <td>5.2</td>\n",
       "      <td>2.0</td>\n",
       "      <td>virginica</td>\n",
       "    </tr>\n",
       "    <tr>\n",
       "      <th>148</th>\n",
       "      <td>6.2</td>\n",
       "      <td>3.4</td>\n",
       "      <td>5.4</td>\n",
       "      <td>2.3</td>\n",
       "      <td>virginica</td>\n",
       "    </tr>\n",
       "    <tr>\n",
       "      <th>149</th>\n",
       "      <td>5.9</td>\n",
       "      <td>3.0</td>\n",
       "      <td>5.1</td>\n",
       "      <td>1.8</td>\n",
       "      <td>virginica</td>\n",
       "    </tr>\n",
       "  </tbody>\n",
       "</table>\n",
       "<p>150 rows × 5 columns</p>\n",
       "</div>"
      ],
      "text/plain": [
       "     sepal_length  sepal_width  petal_length  petal_width    species\n",
       "0             5.1          3.5           1.4          0.2     setosa\n",
       "1             4.9          3.0           1.4          0.2     setosa\n",
       "2             4.7          3.2           1.3          0.2     setosa\n",
       "3             4.6          3.1           1.5          0.2     setosa\n",
       "4             5.0          3.6           1.4          0.2     setosa\n",
       "..            ...          ...           ...          ...        ...\n",
       "145           6.7          3.0           5.2          2.3  virginica\n",
       "146           6.3          2.5           5.0          1.9  virginica\n",
       "147           6.5          3.0           5.2          2.0  virginica\n",
       "148           6.2          3.4           5.4          2.3  virginica\n",
       "149           5.9          3.0           5.1          1.8  virginica\n",
       "\n",
       "[150 rows x 5 columns]"
      ]
     },
     "metadata": {},
     "output_type": "display_data"
    }
   ],
   "source": [
    "dfi=pd.read_csv('./DS4B-iris-data/iris.csv', sep=\";\") \n",
    "print(f\"Dfi. Structure (shape) :{dfi.shape}\")\n",
    "display(dfi)"
   ]
  },
  {
   "cell_type": "markdown",
   "id": "62f83c3d-06fc-4e3b-b702-a95587e976f6",
   "metadata": {},
   "source": [
    "#### 4.1.b. Standardization\n",
    "\n",
    "<div class=\"intro\">\n",
    "\n",
    "PCA is sensitive to the relative scaling of the original variables. This is why it is important to **standardize the data**.\n",
    "    \n",
    "Standardization is the process of translating and scaling our features so that they are all *distributed around a mean of zero* with a *standard deviation of one*.\n",
    "    \n",
    "Because the features in the Iris dataset are on totally different scales (e.g. the sepal lengths are much longer than the petal widths), we need to scale them so that the new principal components treat all features equally via singular value decomposition.\n",
    "    \n",
    "We want to standardize our data so that the *covariances* are easily comparable for each pair of features. If we don’t do it, features with larger ranges of numbers will have higher covariances, which could be an artificial feature.\n",
    "</div>"
   ]
  },
  {
   "cell_type": "code",
   "execution_count": 4,
   "id": "33b2532c-0af6-4d36-b548-e11980f1045b",
   "metadata": {},
   "outputs": [
    {
     "data": {
      "text/html": [
       "<style type=\"text/css\">\n",
       "</style>\n",
       "<table id=\"T_78874\">\n",
       "  <caption>features after standardization</caption>\n",
       "  <thead>\n",
       "    <tr>\n",
       "      <th class=\"blank level0\" >&nbsp;</th>\n",
       "      <th id=\"T_78874_level0_col0\" class=\"col_heading level0 col0\" >sepal_length</th>\n",
       "      <th id=\"T_78874_level0_col1\" class=\"col_heading level0 col1\" >sepal_width</th>\n",
       "      <th id=\"T_78874_level0_col2\" class=\"col_heading level0 col2\" >petal_length</th>\n",
       "      <th id=\"T_78874_level0_col3\" class=\"col_heading level0 col3\" >petal_width</th>\n",
       "    </tr>\n",
       "  </thead>\n",
       "  <tbody>\n",
       "    <tr>\n",
       "      <th id=\"T_78874_level0_row0\" class=\"row_heading level0 row0\" >count</th>\n",
       "      <td id=\"T_78874_row0_col0\" class=\"data row0 col0\" >150.00</td>\n",
       "      <td id=\"T_78874_row0_col1\" class=\"data row0 col1\" >150.00</td>\n",
       "      <td id=\"T_78874_row0_col2\" class=\"data row0 col2\" >150.00</td>\n",
       "      <td id=\"T_78874_row0_col3\" class=\"data row0 col3\" >150.00</td>\n",
       "    </tr>\n",
       "    <tr>\n",
       "      <th id=\"T_78874_level0_row1\" class=\"row_heading level0 row1\" >mean</th>\n",
       "      <td id=\"T_78874_row1_col0\" class=\"data row1 col0\" >-0.00</td>\n",
       "      <td id=\"T_78874_row1_col1\" class=\"data row1 col1\" >-0.00</td>\n",
       "      <td id=\"T_78874_row1_col2\" class=\"data row1 col2\" >0.00</td>\n",
       "      <td id=\"T_78874_row1_col3\" class=\"data row1 col3\" >-0.00</td>\n",
       "    </tr>\n",
       "    <tr>\n",
       "      <th id=\"T_78874_level0_row2\" class=\"row_heading level0 row2\" >std</th>\n",
       "      <td id=\"T_78874_row2_col0\" class=\"data row2 col0\" >1.00</td>\n",
       "      <td id=\"T_78874_row2_col1\" class=\"data row2 col1\" >1.00</td>\n",
       "      <td id=\"T_78874_row2_col2\" class=\"data row2 col2\" >1.00</td>\n",
       "      <td id=\"T_78874_row2_col3\" class=\"data row2 col3\" >1.00</td>\n",
       "    </tr>\n",
       "    <tr>\n",
       "      <th id=\"T_78874_level0_row3\" class=\"row_heading level0 row3\" >min</th>\n",
       "      <td id=\"T_78874_row3_col0\" class=\"data row3 col0\" >-1.87</td>\n",
       "      <td id=\"T_78874_row3_col1\" class=\"data row3 col1\" >-2.44</td>\n",
       "      <td id=\"T_78874_row3_col2\" class=\"data row3 col2\" >-1.57</td>\n",
       "      <td id=\"T_78874_row3_col3\" class=\"data row3 col3\" >-1.44</td>\n",
       "    </tr>\n",
       "    <tr>\n",
       "      <th id=\"T_78874_level0_row4\" class=\"row_heading level0 row4\" >25%</th>\n",
       "      <td id=\"T_78874_row4_col0\" class=\"data row4 col0\" >-0.90</td>\n",
       "      <td id=\"T_78874_row4_col1\" class=\"data row4 col1\" >-0.59</td>\n",
       "      <td id=\"T_78874_row4_col2\" class=\"data row4 col2\" >-1.23</td>\n",
       "      <td id=\"T_78874_row4_col3\" class=\"data row4 col3\" >-1.18</td>\n",
       "    </tr>\n",
       "    <tr>\n",
       "      <th id=\"T_78874_level0_row5\" class=\"row_heading level0 row5\" >50%</th>\n",
       "      <td id=\"T_78874_row5_col0\" class=\"data row5 col0\" >-0.05</td>\n",
       "      <td id=\"T_78874_row5_col1\" class=\"data row5 col1\" >-0.12</td>\n",
       "      <td id=\"T_78874_row5_col2\" class=\"data row5 col2\" >0.34</td>\n",
       "      <td id=\"T_78874_row5_col3\" class=\"data row5 col3\" >0.13</td>\n",
       "    </tr>\n",
       "    <tr>\n",
       "      <th id=\"T_78874_level0_row6\" class=\"row_heading level0 row6\" >75%</th>\n",
       "      <td id=\"T_78874_row6_col0\" class=\"data row6 col0\" >0.67</td>\n",
       "      <td id=\"T_78874_row6_col1\" class=\"data row6 col1\" >0.57</td>\n",
       "      <td id=\"T_78874_row6_col2\" class=\"data row6 col2\" >0.76</td>\n",
       "      <td id=\"T_78874_row6_col3\" class=\"data row6 col3\" >0.79</td>\n",
       "    </tr>\n",
       "    <tr>\n",
       "      <th id=\"T_78874_level0_row7\" class=\"row_heading level0 row7\" >max</th>\n",
       "      <td id=\"T_78874_row7_col0\" class=\"data row7 col0\" >2.49</td>\n",
       "      <td id=\"T_78874_row7_col1\" class=\"data row7 col1\" >3.11</td>\n",
       "      <td id=\"T_78874_row7_col2\" class=\"data row7 col2\" >1.79</td>\n",
       "      <td id=\"T_78874_row7_col3\" class=\"data row7 col3\" >1.71</td>\n",
       "    </tr>\n",
       "  </tbody>\n",
       "</table>\n"
      ],
      "text/plain": [
       "<pandas.io.formats.style.Styler at 0x7fd2c9cb9990>"
      ]
     },
     "metadata": {},
     "output_type": "display_data"
    }
   ],
   "source": [
    "from sklearn import preprocessing\n",
    "scaler = preprocessing.StandardScaler()\n",
    "\n",
    "#sklearn tools apply to numpy data\n",
    "features=dfi[['sepal_length','sepal_width','petal_length','petal_width']]\n",
    "y=dfi[['species']]\n",
    "scaler.fit(features.values)\n",
    "featuresS = scaler.transform(features.values) #returns a numpy array\n",
    "#conversion into a dataframe just for display and plotting purpose\n",
    "featuresSDF = pd.DataFrame(featuresS, columns=features.columns, index=features.index)\n",
    "\n",
    "display(featuresSDF.describe().style.format(\"{0:.2f}\").set_caption(\"features after standardization\"))"
   ]
  },
  {
   "cell_type": "markdown",
   "id": "b6163ec3-a1f6-4b3e-b910-5cde46ccf68e",
   "metadata": {},
   "source": [
    "The explained variance ratio tells us how much information (variance) can be attributed to each of the principal components"
   ]
  },
  {
   "cell_type": "markdown",
   "id": "65055e1d-bc70-4f87-9c14-2e98c718a16e",
   "metadata": {},
   "source": [
    "#### 4.1.c. PCA\n",
    "##### PCA fit"
   ]
  },
  {
   "cell_type": "code",
   "execution_count": 5,
   "id": "fe8f4b8b-0da3-4fab-94b7-2a5a7b9491c8",
   "metadata": {},
   "outputs": [],
   "source": [
    "pca = PCA(0.98)\n",
    "featuresSPCA = pca.fit_transform(featuresS)"
   ]
  },
  {
   "cell_type": "markdown",
   "id": "55451adb-2092-4d85-9ae8-ea9c5e0bc822",
   "metadata": {},
   "source": [
    "##### Explained variance ratio\n",
    "\n",
    "\n",
    "<div class=\"intro\">\n",
    "    \n",
    "Explained Variance Ratio (EVR) is a metric to evaluate the usefulness of the principal components and to choose how many components are relevant. The explained variance ratio is the percentage of variance that is attributed by each of the selected components.\n",
    "\n",
    "Ideally, the number of components to include in the fitting (ML) model is chosen by adding the explained variance ratio of each component until a total of around 0.8 or 80% is reached, to avoid overfitting.\n",
    "\n",
    "</div>"
   ]
  },
  {
   "cell_type": "code",
   "execution_count": 6,
   "id": "a1ed8284-0cd0-4bc5-99f2-99e4ba6b4af7",
   "metadata": {},
   "outputs": [
    {
     "name": "stdout",
     "output_type": "stream",
     "text": [
      "explained variance ratio: [0.72770452 0.23030523 0.03683832]\n"
     ]
    },
    {
     "data": {
      "image/png": "[encoded data removed]",
      "text/plain": [
       "<Figure size 800x800 with 1 Axes>"
      ]
     },
     "metadata": {},
     "output_type": "display_data"
    }
   ],
   "source": [
    "plt.rcParams[\"figure.figsize\"] = (8,8)\n",
    "plt.rcParams[\"font.size\"] = (16)\n",
    "print(f\"explained variance ratio: {pca.explained_variance_ratio_}\")\n",
    "\n",
    "plt.bar(range(1,len(pca.explained_variance_ratio_)+1),pca.explained_variance_ratio_*100, label=\"Explained Variance Ratio\")\n",
    "plt.plot(range(1,len(pca.explained_variance_ratio_)+1),np.cumsum(pca.explained_variance_ratio_*100), marker='s', c='red', label=\"Cumulative EVR\")\n",
    "plt.xlabel('Principal Component', size='16')\n",
    "plt.xticks(range(1,len(pca.explained_variance_ratio_)+1))\n",
    "plt.ylabel('Explained Variance / %', size='16')\n",
    "plt.ylim(0,110)\n",
    "plt.legend()\n",
    "for i, v in enumerate(np.cumsum(pca.explained_variance_ratio_*100)):\n",
    "    plt.text(i+1, v+2, f\"{v:.2f}\", ha=\"center\")\n",
    "plt.show()"
   ]
  },
  {
   "cell_type": "markdown",
   "id": "d01ad54f-17c6-454d-8af2-0b73d5c3ca3e",
   "metadata": {},
   "source": [
    "<div class=\"rq\">\n",
    "    \n",
    "The first two components capture 95.8% of the information, whereas the first three ones capture 99.5% of it.\n",
    "    \n",
    "The 3rd variance is obviously not very significant. And for sure the 4th component (PC4, not shown here) won't be helpful to separate the three species into three classes.\n",
    "</div>"
   ]
  },
  {
   "cell_type": "markdown",
   "id": "92c5bf29-8958-457d-b279-bacca352f324",
   "metadata": {},
   "source": [
    "##### Transformation of the four widths and lengths features into the 3 PCA components"
   ]
  },
  {
   "cell_type": "code",
   "execution_count": 29,
   "id": "7c06526b-a6b8-4087-8714-720fb470e636",
   "metadata": {},
   "outputs": [
    {
     "name": "stdout",
     "output_type": "stream",
     "text": [
      "Shape before PCA:  (150, 4)\n",
      "Shape after PCA:  (150, 3)\n"
     ]
    },
    {
     "data": {
      "text/html": [
       "<div>\n",
       "<style scoped>\n",
       "    .dataframe tbody tr th:only-of-type {\n",
       "        vertical-align: middle;\n",
       "    }\n",
       "\n",
       "    .dataframe tbody tr th {\n",
       "        vertical-align: top;\n",
       "    }\n",
       "\n",
       "    .dataframe thead th {\n",
       "        text-align: right;\n",
       "    }\n",
       "</style>\n",
       "<table border=\"1\" class=\"dataframe\">\n",
       "  <thead>\n",
       "    <tr style=\"text-align: right;\">\n",
       "      <th></th>\n",
       "      <th>PC1</th>\n",
       "      <th>PC2</th>\n",
       "      <th>PC3</th>\n",
       "      <th>species</th>\n",
       "    </tr>\n",
       "  </thead>\n",
       "  <tbody>\n",
       "    <tr>\n",
       "      <th>0</th>\n",
       "      <td>-2.264542</td>\n",
       "      <td>0.505704</td>\n",
       "      <td>-0.121943</td>\n",
       "      <td>setosa</td>\n",
       "    </tr>\n",
       "    <tr>\n",
       "      <th>1</th>\n",
       "      <td>-2.086426</td>\n",
       "      <td>-0.655405</td>\n",
       "      <td>-0.227251</td>\n",
       "      <td>setosa</td>\n",
       "    </tr>\n",
       "    <tr>\n",
       "      <th>2</th>\n",
       "      <td>-2.367950</td>\n",
       "      <td>-0.318477</td>\n",
       "      <td>0.051480</td>\n",
       "      <td>setosa</td>\n",
       "    </tr>\n",
       "    <tr>\n",
       "      <th>3</th>\n",
       "      <td>-2.304197</td>\n",
       "      <td>-0.575368</td>\n",
       "      <td>0.098860</td>\n",
       "      <td>setosa</td>\n",
       "    </tr>\n",
       "    <tr>\n",
       "      <th>4</th>\n",
       "      <td>-2.388777</td>\n",
       "      <td>0.674767</td>\n",
       "      <td>0.021428</td>\n",
       "      <td>setosa</td>\n",
       "    </tr>\n",
       "    <tr>\n",
       "      <th>...</th>\n",
       "      <td>...</td>\n",
       "      <td>...</td>\n",
       "      <td>...</td>\n",
       "      <td>...</td>\n",
       "    </tr>\n",
       "    <tr>\n",
       "      <th>145</th>\n",
       "      <td>1.870522</td>\n",
       "      <td>0.382822</td>\n",
       "      <td>0.254532</td>\n",
       "      <td>virginica</td>\n",
       "    </tr>\n",
       "    <tr>\n",
       "      <th>146</th>\n",
       "      <td>1.558492</td>\n",
       "      <td>-0.905314</td>\n",
       "      <td>-0.025382</td>\n",
       "      <td>virginica</td>\n",
       "    </tr>\n",
       "    <tr>\n",
       "      <th>147</th>\n",
       "      <td>1.520845</td>\n",
       "      <td>0.266795</td>\n",
       "      <td>0.179277</td>\n",
       "      <td>virginica</td>\n",
       "    </tr>\n",
       "    <tr>\n",
       "      <th>148</th>\n",
       "      <td>1.376391</td>\n",
       "      <td>1.016362</td>\n",
       "      <td>0.931405</td>\n",
       "      <td>virginica</td>\n",
       "    </tr>\n",
       "    <tr>\n",
       "      <th>149</th>\n",
       "      <td>0.959299</td>\n",
       "      <td>-0.022284</td>\n",
       "      <td>0.528794</td>\n",
       "      <td>virginica</td>\n",
       "    </tr>\n",
       "  </tbody>\n",
       "</table>\n",
       "<p>150 rows × 4 columns</p>\n",
       "</div>"
      ],
      "text/plain": [
       "          PC1       PC2       PC3    species\n",
       "0   -2.264542  0.505704 -0.121943     setosa\n",
       "1   -2.086426 -0.655405 -0.227251     setosa\n",
       "2   -2.367950 -0.318477  0.051480     setosa\n",
       "3   -2.304197 -0.575368  0.098860     setosa\n",
       "4   -2.388777  0.674767  0.021428     setosa\n",
       "..        ...       ...       ...        ...\n",
       "145  1.870522  0.382822  0.254532  virginica\n",
       "146  1.558492 -0.905314 -0.025382  virginica\n",
       "147  1.520845  0.266795  0.179277  virginica\n",
       "148  1.376391  1.016362  0.931405  virginica\n",
       "149  0.959299 -0.022284  0.528794  virginica\n",
       "\n",
       "[150 rows x 4 columns]"
      ]
     },
     "metadata": {},
     "output_type": "display_data"
    },
    {
     "data": {
      "text/html": [
       "<style type=\"text/css\">\n",
       "</style>\n",
       "<table id=\"T_31411\">\n",
       "  <caption>Principal Components</caption>\n",
       "  <thead>\n",
       "    <tr>\n",
       "      <th class=\"blank level0\" >&nbsp;</th>\n",
       "      <th id=\"T_31411_level0_col0\" class=\"col_heading level0 col0\" >PC1</th>\n",
       "      <th id=\"T_31411_level0_col1\" class=\"col_heading level0 col1\" >PC2</th>\n",
       "      <th id=\"T_31411_level0_col2\" class=\"col_heading level0 col2\" >PC3</th>\n",
       "    </tr>\n",
       "  </thead>\n",
       "  <tbody>\n",
       "    <tr>\n",
       "      <th id=\"T_31411_level0_row0\" class=\"row_heading level0 row0\" >count</th>\n",
       "      <td id=\"T_31411_row0_col0\" class=\"data row0 col0\" >150.00</td>\n",
       "      <td id=\"T_31411_row0_col1\" class=\"data row0 col1\" >150.00</td>\n",
       "      <td id=\"T_31411_row0_col2\" class=\"data row0 col2\" >150.00</td>\n",
       "    </tr>\n",
       "    <tr>\n",
       "      <th id=\"T_31411_level0_row1\" class=\"row_heading level0 row1\" >mean</th>\n",
       "      <td id=\"T_31411_row1_col0\" class=\"data row1 col0\" >0.00</td>\n",
       "      <td id=\"T_31411_row1_col1\" class=\"data row1 col1\" >0.00</td>\n",
       "      <td id=\"T_31411_row1_col2\" class=\"data row1 col2\" >0.00</td>\n",
       "    </tr>\n",
       "    <tr>\n",
       "      <th id=\"T_31411_level0_row2\" class=\"row_heading level0 row2\" >std</th>\n",
       "      <td id=\"T_31411_row2_col0\" class=\"data row2 col0\" >1.71</td>\n",
       "      <td id=\"T_31411_row2_col1\" class=\"data row2 col1\" >0.96</td>\n",
       "      <td id=\"T_31411_row2_col2\" class=\"data row2 col2\" >0.39</td>\n",
       "    </tr>\n",
       "    <tr>\n",
       "      <th id=\"T_31411_level0_row3\" class=\"row_heading level0 row3\" >min</th>\n",
       "      <td id=\"T_31411_row3_col0\" class=\"data row3 col0\" >-2.77</td>\n",
       "      <td id=\"T_31411_row3_col1\" class=\"data row3 col1\" >-2.66</td>\n",
       "      <td id=\"T_31411_row3_col2\" class=\"data row3 col2\" >-0.86</td>\n",
       "    </tr>\n",
       "    <tr>\n",
       "      <th id=\"T_31411_level0_row4\" class=\"row_heading level0 row4\" >25%</th>\n",
       "      <td id=\"T_31411_row4_col0\" class=\"data row4 col0\" >-2.12</td>\n",
       "      <td id=\"T_31411_row4_col1\" class=\"data row4 col1\" >-0.59</td>\n",
       "      <td id=\"T_31411_row4_col2\" class=\"data row4 col2\" >-0.26</td>\n",
       "    </tr>\n",
       "    <tr>\n",
       "      <th id=\"T_31411_level0_row5\" class=\"row_heading level0 row5\" >50%</th>\n",
       "      <td id=\"T_31411_row5_col0\" class=\"data row5 col0\" >0.41</td>\n",
       "      <td id=\"T_31411_row5_col1\" class=\"data row5 col1\" >0.01</td>\n",
       "      <td id=\"T_31411_row5_col2\" class=\"data row5 col2\" >0.02</td>\n",
       "    </tr>\n",
       "    <tr>\n",
       "      <th id=\"T_31411_level0_row6\" class=\"row_heading level0 row6\" >75%</th>\n",
       "      <td id=\"T_31411_row6_col0\" class=\"data row6 col0\" >1.34</td>\n",
       "      <td id=\"T_31411_row6_col1\" class=\"data row6 col1\" >0.59</td>\n",
       "      <td id=\"T_31411_row6_col2\" class=\"data row6 col2\" >0.20</td>\n",
       "    </tr>\n",
       "    <tr>\n",
       "      <th id=\"T_31411_level0_row7\" class=\"row_heading level0 row7\" >max</th>\n",
       "      <td id=\"T_31411_row7_col0\" class=\"data row7 col0\" >3.31</td>\n",
       "      <td id=\"T_31411_row7_col1\" class=\"data row7 col1\" >2.72</td>\n",
       "      <td id=\"T_31411_row7_col2\" class=\"data row7 col2\" >1.00</td>\n",
       "    </tr>\n",
       "  </tbody>\n",
       "</table>\n"
      ],
      "text/plain": [
       "<pandas.io.formats.style.Styler at 0x7f4035b40910>"
      ]
     },
     "metadata": {},
     "output_type": "display_data"
    }
   ],
   "source": [
    "print('Shape before PCA: ', featuresS.shape)\n",
    "print('Shape after PCA: ', featuresSPCA.shape)\n",
    "\n",
    "PC=[]\n",
    "PC = [f\"PC{i}\" for i in range(1, pca.n_components_+1)]\n",
    " \n",
    "pca_df = pd.DataFrame(data=featuresSPCA,columns=PC, index=dfi.index)\n",
    "pca_df = pd.concat([pca_df,y],axis=1)\n",
    "display(pca_df)\n",
    "display(pca_df.describe().style.format(\"{0:.2f}\").set_caption(\"Principal Components\"))"
   ]
  },
  {
   "cell_type": "markdown",
   "id": "ee2c8c1e-3747-4417-a80c-2366b1c9fb30",
   "metadata": {},
   "source": [
    "<div class=\"rq\">\n",
    "The original features have been transformed thanks to this matrix transformation: \n",
    "<div>"
   ]
  },
  {
   "cell_type": "code",
   "execution_count": 30,
   "id": "928e1bda-a306-41a7-8ad9-c8d0c2f15298",
   "metadata": {},
   "outputs": [
    {
     "name": "stdout",
     "output_type": "stream",
     "text": [
      "[[ 0.52237162 -0.26335492  0.58125401  0.56561105]\n",
      " [ 0.37231836  0.92555649  0.02109478  0.06541577]\n",
      " [-0.72101681  0.24203288  0.14089226  0.6338014 ]]\n"
     ]
    }
   ],
   "source": [
    "print(pca.components_)"
   ]
  },
  {
   "cell_type": "code",
   "execution_count": 31,
   "id": "814361c6-fca9-4e31-836b-796aac481715",
   "metadata": {},
   "outputs": [
    {
     "data": {
      "application/vnd.plotly.v1+json": {
       "config": {
        "plotlyServerURL": "https://plot.ly"
       },
       "data": [
        {
         "hovertemplate": "species=setosa<br>PC1=%{x}<br>PC2=%{y}<br>PC3=%{z}<extra></extra>",
         "legendgroup": "setosa",
         "marker": {
          "color": "#636efa",
          "size": 3,
          "symbol": "circle"
         },
         "mode": "markers",
         "name": "setosa",
         "scene": "scene",
         "showlegend": true,
         "type": "scatter3d",
         "x": [
          -2.264541728394905,
          -2.08642550061616,
          -2.367950449062527,
          -2.3041971611520107,
          -2.388777493505643,
          -2.0705368071805546,
          -2.4457113396302854,
          -2.233841858709267,
          -2.3419576764553915,
          -2.188675755280871,
          -2.1634865562665238,
          -2.327377754134375,
          -2.2240827220450035,
          -2.639716260844631,
          -2.19229150849843,
          -2.2514652145840657,
          -2.202750480080087,
          -2.190179163791053,
          -1.894074293023669,
          -2.339949070423409,
          -1.914556394959518,
          -2.204645397533815,
          -2.7741697937051586,
          -1.8204115633372144,
          -2.2282174994597264,
          -1.957024007341398,
          -2.052063311276688,
          -2.1681936533450226,
          -2.140305963284159,
          -2.2687901943878783,
          -2.1445544292771364,
          -1.8319381022015875,
          -2.608202867663348,
          -2.4379508590951433,
          -2.188675755280871,
          -2.2111198968124235,
          -2.044416519319801,
          -2.188675755280871,
          -2.435952202966021,
          -2.1705472018842715,
          -2.2865272388409315,
          -1.871707223536952,
          -2.5578344195375147,
          -1.9642792903547381,
          -2.133372832920029,
          -2.0753575928373076,
          -2.381258216802374,
          -2.3981916876626403,
          -2.2267812130915194,
          -2.2059541686484034
         ],
         "y": [
          0.505703902773784,
          -0.655404729369135,
          -0.31847731084724923,
          -0.5753677125331953,
          0.6747673967025152,
          1.5185485598885131,
          0.07456267500687404,
          0.24761393175226495,
          -1.0951463625829554,
          -0.4486290483375591,
          1.070595576037726,
          0.15858745465947607,
          -0.7091181580302263,
          -0.9382819821078541,
          1.8899785123164656,
          2.722371076574469,
          1.5137502825462186,
          0.5143043082206927,
          1.4311107069412368,
          1.1580334289850007,
          0.4304651632801379,
          0.952457317288998,
          0.4895170265034949,
          0.10675079283540621,
          0.16218616266619706,
          -0.607892567483808,
          0.26601431198165504,
          0.5520164953235397,
          0.336640408845054,
          -0.31487860284052827,
          -0.4839420967692589,
          0.445266835502807,
          1.8284751927341005,
          2.1853916156308917,
          -0.4486290483375591,
          -0.18433781054027887,
          0.6849564262949365,
          -0.4486290483375591,
          -0.882169414775617,
          0.29272695496644635,
          0.4679917156709377,
          -2.32769160611491,
          -0.45381638048979306,
          0.4973916400183832,
          1.1714321117742035,
          -0.6919173471364098,
          1.1506325928736663,
          -0.362390764725857,
          1.0254825528235445,
          0.03223784527377944
         ],
         "z": [
          -0.12194334778176,
          -0.22725083239924804,
          0.05147962364496692,
          0.09886044443740305,
          0.021427848973115567,
          0.030684258280725303,
          0.3421976362137545,
          -0.08257446445485095,
          0.1535623986946251,
          -0.24655952238860804,
          -0.26400937334710467,
          0.10016561562692806,
          -0.223214513992761,
          0.18957003015127188,
          -0.46948009463594725,
          0.03260379665903311,
          -0.0013634915813941005,
          -0.03861559488011967,
          -0.3707428339920333,
          0.13741771892565435,
          -0.41600687475628956,
          0.16473834638054347,
          0.33883638434349433,
          0.0400614724262476,
          0.12420142802351757,
          -0.29859102877631355,
          0.09209297881395304,
          -0.20129548162435176,
          -0.2653145445366299,
          0.0755154360415562,
          -0.06785576071331624,
          -0.2653752438840749,
          0.05141951815449963,
          -0.0793497548870181,
          -0.24655952238860804,
          -0.21862452774493657,
          -0.4794115704797848,
          -0.24655952238860804,
          0.20155758667584348,
          -0.1699385357629751,
          0.04073653896247462,
          -0.19452860985788054,
          0.3135718375693398,
          0.31475561006397523,
          0.25279322168941076,
          -0.05655900818948701,
          0.06210190348954711,
          0.1468556324186213,
          -0.17664530203897963,
          -0.14659352736712897
         ]
        },
        {
         "hovertemplate": "species=versicolor<br>PC1=%{x}<br>PC2=%{y}<br>PC3=%{z}<extra></extra>",
         "legendgroup": "versicolor",
         "marker": {
          "color": "#EF553B",
          "size": 3,
          "symbol": "diamond"
         },
         "mode": "markers",
         "name": "versicolor",
         "scene": "scene",
         "showlegend": true,
         "type": "scatter3d",
         "x": [
          1.1039936528045733,
          0.7324814400086812,
          1.2421095053189384,
          0.3973072828233272,
          1.0725939482015456,
          0.3844581461690015,
          0.7487150759515534,
          -0.49786338779811895,
          0.9262223675330993,
          0.004968025584318755,
          -0.12469746138037124,
          0.4387301177805468,
          0.5516339814225079,
          0.7171650662368517,
          -0.03725838296568853,
          0.8758905359406841,
          0.3480064019802086,
          0.1533925445686671,
          1.2153032092161546,
          0.15694117564425064,
          0.7382561043698963,
          0.4723696823445688,
          1.227988214083443,
          0.6293810453149024,
          0.7004727992084586,
          0.8735369874014346,
          1.2542221905224513,
          1.3582398473872725,
          0.6621261375659379,
          -0.047281513319880196,
          0.12153420888011858,
          0.014118226051387557,
          0.236010837326597,
          1.056691428090577,
          0.22141708833021767,
          0.4317831607410537,
          1.0494133552191813,
          1.0358782103228252,
          0.06706759987298014,
          0.27542506625183405,
          0.2723350662617718,
          0.6231705397262218,
          0.3300053638372266,
          -0.373627622687377,
          0.28294434295510273,
          0.0890531103190113,
          0.22435678320860605,
          0.5738834855584672,
          -0.45701287250467515,
          0.25224447326946925
         ],
         "y": [
          0.8631124458513242,
          0.5986355733419972,
          0.6148224496122867,
          -1.7581689474435263,
          -0.2117579026798957,
          -0.5910624686227363,
          0.7786986113887822,
          -1.8488687712754421,
          0.030330826783381077,
          -1.0294011124030877,
          -2.6580626779617607,
          -0.05888128502145428,
          -1.7725815648562546,
          -0.18543431450504375,
          -0.4327950987141688,
          0.5099981510591474,
          -0.1906216466572776,
          -0.7907254562344854,
          -1.6333556445154829,
          -1.3031032701729113,
          0.40247038161853615,
          -0.4166082224438794,
          -0.9409147925302723,
          -0.416811642541772,
          -0.06349392765170225,
          0.25070861070205386,
          -0.08262009981311255,
          0.328820266270402,
          -0.224346070943464,
          -1.0572124126050204,
          -1.5635923798655778,
          -1.5733923546480597,
          -0.7759237840118164,
          -0.6369012837689367,
          -0.28084769308563995,
          0.8551369202180028,
          0.5221972645127765,
          -1.3924664843877808,
          -0.2126207348933886,
          -1.3298159131577019,
          -1.1194415241194036,
          0.027542633302294527,
          -0.9889007318191547,
          -2.017932265204172,
          -0.8539507169865499,
          -0.17490854779054157,
          -0.3804846594865454,
          -0.15371997408006502,
          -1.5394645102639806,
          -0.5958607459650308
         ],
         "z": [
          -0.6855551077942372,
          -0.09406680197491324,
          -0.5548465341001644,
          -0.018569482353449254,
          -0.3974474376045003,
          0.12679768959169138,
          0.14865602261265645,
          0.2555552499784255,
          -0.5954598892691503,
          0.5428670487940238,
          -0.03981344818563156,
          0.2067034912756232,
          -0.7613802230457305,
          -0.06729984236136118,
          0.19806144915679597,
          -0.5035058317132016,
          0.49283151759658694,
          -0.2986045157302112,
          -0.47940991382614534,
          -0.16858674603688098,
          0.6167726256672098,
          -0.2627182829684552,
          -0.36670485893190596,
          -0.28996247361138333,
          -0.4447675590494916,
          -0.47214888585182485,
          -0.7268435294994511,
          -0.26145807366185964,
          0.08736810691734039,
          -0.31531919466201425,
          -0.14524173764103482,
          -0.23658142800820176,
          -0.14797288485799678,
          0.10675323371866047,
          0.6675596602128353,
          0.45073148705271815,
          -0.39614226641497513,
          -0.6854343029563255,
          0.2941282619311933,
          0.09344476854004705,
          0.09817189094727749,
          -0.01930465438014289,
          -0.19596807283921513,
          0.11218405322355311,
          0.1341188230564789,
          0.13144837518696115,
          0.15876900264185015,
          -0.2700394164332424,
          0.19612617331397278,
          0.09474993972957209
         ]
        },
        {
         "hovertemplate": "species=virginica<br>PC1=%{x}<br>PC2=%{y}<br>PC3=%{z}<extra></extra>",
         "legendgroup": "virginica",
         "marker": {
          "color": "#00cc96",
          "size": 3,
          "symbol": "square"
         },
         "mode": "markers",
         "name": "virginica",
         "scene": "scene",
         "showlegend": true,
         "type": "scatter3d",
         "x": [
          1.8476725943096652,
          1.1531898082521295,
          2.206349497126595,
          1.4386854023261828,
          1.8678907025555853,
          2.754196708825755,
          0.35837447484166723,
          2.3030058981503205,
          2.0017352992189177,
          2.2675545991022696,
          1.365909429202215,
          1.5990645856518702,
          1.8842518537520758,
          1.2530865143775918,
          1.464061522985623,
          1.5918093026385292,
          1.4712801894655445,
          2.43737848219351,
          3.3091411826760813,
          1.2539809866905782,
          2.0404962596630405,
          0.9739151144704737,
          2.898064435843279,
          1.329193691323494,
          1.7042407085196067,
          1.9577276617934367,
          1.171904507987869,
          1.0197810528162634,
          1.7860088612484688,
          1.8647779127074677,
          2.435497391415145,
          2.3160824119611565,
          1.860371425852317,
          1.1112717256759697,
          1.1974691551180385,
          2.8009494037340303,
          1.5801552485205377,
          1.3470444243548025,
          0.9234329777663847,
          1.8535519840664418,
          2.0161572006777604,
          1.9031168585994882,
          1.1531898082521295,
          2.0433084392878107,
          2.0016909669349987,
          1.8705220714601265,
          1.5584918907237182,
          1.520845063998591,
          1.3763911906419282,
          0.9592985756160383
         ],
         "y": [
          0.8716966617734134,
          -0.7013261138565751,
          0.5544701049349228,
          -0.050010522268885305,
          0.2911928017611694,
          0.7884322063548451,
          -1.5600945839772886,
          0.40951669522194356,
          -0.7238653593126593,
          1.9214429914653555,
          0.6939480398041612,
          -0.42824883590033946,
          0.4143327579500843,
          -1.1673913352452452,
          -0.4441475694791232,
          0.6770353716018519,
          0.2531924719668157,
          2.5567573414948024,
          -0.0023613201020827672,
          -1.717583844265977,
          0.9073987650150533,
          -0.5711743763662658,
          0.39779135917186825,
          -0.48676054190372386,
          1.0141484248357853,
          1.0033345154297773,
          -0.3188966173105676,
          0.06554296309664828,
          -0.19327279985689116,
          0.5553815315789897,
          0.24665446806897423,
          2.626183869022628,
          -0.18467239440998298,
          -0.2959861024303901,
          -0.8171677419136155,
          0.8447481937849747,
          1.0724744961271226,
          0.4222559658955464,
          0.019230370546893426,
          0.672422728971604,
          0.6103970375551132,
          0.6860248318586994,
          -0.7013261138565751,
          0.864684880472019,
          1.048550046623418,
          0.38282183762299843,
          -0.9053136014070658,
          0.26679457485391106,
          1.0163619287948857,
          -0.02228394466056678
         ],
         "z": [
          1.0027609857792776,
          0.5314646350398206,
          -0.20549591009804036,
          0.16339046381870662,
          0.39400433318681344,
          -0.5862327043799539,
          0.9909998953229908,
          -0.6541666870038293,
          -0.3940704482697244,
          0.39251765781193143,
          0.2832795160183267,
          0.023304082122132995,
          0.024548553964213522,
          0.5821302708905556,
          1.0041105249947535,
          0.6366507209624215,
          0.03665750918367591,
          -0.1342000817469271,
          -0.706933959275208,
          -0.26462208388224706,
          0.2318781142839186,
          0.829503781073395,
          -0.8609268420176824,
          -0.0047073493334983795,
          0.29595787654364164,
          -0.42281705175205014,
          0.13065190995584378,
          0.33804216962299505,
          0.2700025257687445,
          -0.7175106833798804,
          -0.7302340057881253,
          -0.49961954256303986,
          0.35333027867038164,
          -0.18265960766060196,
          -0.16321378151183683,
          -0.5470009572124545,
          0.943392608462269,
          0.18002870593854808,
          0.4173943034655892,
          -0.014820329362692923,
          0.4259149468895266,
          0.1277993640439914,
          0.5314646350398206,
          0.33526606052310315,
          0.6292688881501898,
          0.254532318679022,
          -0.02538190985982791,
          0.17927720259036026,
          0.9314050519376964,
          0.528794187170303
         ]
        }
       ],
       "layout": {
        "height": 600,
        "legend": {
         "title": {
          "text": "species"
         },
         "tracegroupgap": 0
        },
        "margin": {
         "t": 60
        },
        "scene": {
         "aspectmode": "auto",
         "aspectratio": {
          "x": 1.5449878553986507,
          "y": 1.3664770451173602,
          "z": 0.47366641177580815
         },
         "camera": {
          "center": {
           "x": -0.7743210557808855,
           "y": 0.06858503128609561,
           "z": 0.023214079740031368
          },
          "eye": {
           "x": 8.776600185166048,
           "y": -0.296696308101215,
           "z": 3.48317447571114
          },
          "projection": {
           "type": "perspective"
          },
          "up": {
           "x": 0,
           "y": 0,
           "z": 1
          }
         },
         "domain": {
          "x": [
           0,
           1
          ],
          "y": [
           0,
           1
          ]
         },
         "xaxis": {
          "title": {
           "text": "PC1"
          },
          "type": "linear"
         },
         "yaxis": {
          "title": {
           "text": "PC2"
          },
          "type": "linear"
         },
         "zaxis": {
          "title": {
           "text": "PC3"
          },
          "type": "linear"
         }
        },
        "template": {
         "data": {
          "bar": [
           {
            "error_x": {
             "color": "#2a3f5f"
            },
            "error_y": {
             "color": "#2a3f5f"
            },
            "marker": {
             "line": {
              "color": "#E5ECF6",
              "width": 0.5
             },
             "pattern": {
              "fillmode": "overlay",
              "size": 10,
              "solidity": 0.2
             }
            },
            "type": "bar"
           }
          ],
          "barpolar": [
           {
            "marker": {
             "line": {
              "color": "#E5ECF6",
              "width": 0.5
             },
             "pattern": {
              "fillmode": "overlay",
              "size": 10,
              "solidity": 0.2
             }
            },
            "type": "barpolar"
           }
          ],
          "carpet": [
           {
            "aaxis": {
             "endlinecolor": "#2a3f5f",
             "gridcolor": "white",
             "linecolor": "white",
             "minorgridcolor": "white",
             "startlinecolor": "#2a3f5f"
            },
            "baxis": {
             "endlinecolor": "#2a3f5f",
             "gridcolor": "white",
             "linecolor": "white",
             "minorgridcolor": "white",
             "startlinecolor": "#2a3f5f"
            },
            "type": "carpet"
           }
          ],
          "choropleth": [
           {
            "colorbar": {
             "outlinewidth": 0,
             "ticks": ""
            },
            "type": "choropleth"
           }
          ],
          "contour": [
           {
            "colorbar": {
             "outlinewidth": 0,
             "ticks": ""
            },
            "colorscale": [
             [
              0,
              "#0d0887"
             ],
             [
              0.1111111111111111,
              "#46039f"
             ],
             [
              0.2222222222222222,
              "#7201a8"
             ],
             [
              0.3333333333333333,
              "#9c179e"
             ],
             [
              0.4444444444444444,
              "#bd3786"
             ],
             [
              0.5555555555555556,
              "#d8576b"
             ],
             [
              0.6666666666666666,
              "#ed7953"
             ],
             [
              0.7777777777777778,
              "#fb9f3a"
             ],
             [
              0.8888888888888888,
              "#fdca26"
             ],
             [
              1,
              "#f0f921"
             ]
            ],
            "type": "contour"
           }
          ],
          "contourcarpet": [
           {
            "colorbar": {
             "outlinewidth": 0,
             "ticks": ""
            },
            "type": "contourcarpet"
           }
          ],
          "heatmap": [
           {
            "colorbar": {
             "outlinewidth": 0,
             "ticks": ""
            },
            "colorscale": [
             [
              0,
              "#0d0887"
             ],
             [
              0.1111111111111111,
              "#46039f"
             ],
             [
              0.2222222222222222,
              "#7201a8"
             ],
             [
              0.3333333333333333,
              "#9c179e"
             ],
             [
              0.4444444444444444,
              "#bd3786"
             ],
             [
              0.5555555555555556,
              "#d8576b"
             ],
             [
              0.6666666666666666,
              "#ed7953"
             ],
             [
              0.7777777777777778,
              "#fb9f3a"
             ],
             [
              0.8888888888888888,
              "#fdca26"
             ],
             [
              1,
              "#f0f921"
             ]
            ],
            "type": "heatmap"
           }
          ],
          "heatmapgl": [
           {
            "colorbar": {
             "outlinewidth": 0,
             "ticks": ""
            },
            "colorscale": [
             [
              0,
              "#0d0887"
             ],
             [
              0.1111111111111111,
              "#46039f"
             ],
             [
              0.2222222222222222,
              "#7201a8"
             ],
             [
              0.3333333333333333,
              "#9c179e"
             ],
             [
              0.4444444444444444,
              "#bd3786"
             ],
             [
              0.5555555555555556,
              "#d8576b"
             ],
             [
              0.6666666666666666,
              "#ed7953"
             ],
             [
              0.7777777777777778,
              "#fb9f3a"
             ],
             [
              0.8888888888888888,
              "#fdca26"
             ],
             [
              1,
              "#f0f921"
             ]
            ],
            "type": "heatmapgl"
           }
          ],
          "histogram": [
           {
            "marker": {
             "pattern": {
              "fillmode": "overlay",
              "size": 10,
              "solidity": 0.2
             }
            },
            "type": "histogram"
           }
          ],
          "histogram2d": [
           {
            "colorbar": {
             "outlinewidth": 0,
             "ticks": ""
            },
            "colorscale": [
             [
              0,
              "#0d0887"
             ],
             [
              0.1111111111111111,
              "#46039f"
             ],
             [
              0.2222222222222222,
              "#7201a8"
             ],
             [
              0.3333333333333333,
              "#9c179e"
             ],
             [
              0.4444444444444444,
              "#bd3786"
             ],
             [
              0.5555555555555556,
              "#d8576b"
             ],
             [
              0.6666666666666666,
              "#ed7953"
             ],
             [
              0.7777777777777778,
              "#fb9f3a"
             ],
             [
              0.8888888888888888,
              "#fdca26"
             ],
             [
              1,
              "#f0f921"
             ]
            ],
            "type": "histogram2d"
           }
          ],
          "histogram2dcontour": [
           {
            "colorbar": {
             "outlinewidth": 0,
             "ticks": ""
            },
            "colorscale": [
             [
              0,
              "#0d0887"
             ],
             [
              0.1111111111111111,
              "#46039f"
             ],
             [
              0.2222222222222222,
              "#7201a8"
             ],
             [
              0.3333333333333333,
              "#9c179e"
             ],
             [
              0.4444444444444444,
              "#bd3786"
             ],
             [
              0.5555555555555556,
              "#d8576b"
             ],
             [
              0.6666666666666666,
              "#ed7953"
             ],
             [
              0.7777777777777778,
              "#fb9f3a"
             ],
             [
              0.8888888888888888,
              "#fdca26"
             ],
             [
              1,
              "#f0f921"
             ]
            ],
            "type": "histogram2dcontour"
           }
          ],
          "mesh3d": [
           {
            "colorbar": {
             "outlinewidth": 0,
             "ticks": ""
            },
            "type": "mesh3d"
           }
          ],
          "parcoords": [
           {
            "line": {
             "colorbar": {
              "outlinewidth": 0,
              "ticks": ""
             }
            },
            "type": "parcoords"
           }
          ],
          "pie": [
           {
            "automargin": true,
            "type": "pie"
           }
          ],
          "scatter": [
           {
            "fillpattern": {
             "fillmode": "overlay",
             "size": 10,
             "solidity": 0.2
            },
            "type": "scatter"
           }
          ],
          "scatter3d": [
           {
            "line": {
             "colorbar": {
              "outlinewidth": 0,
              "ticks": ""
             }
            },
            "marker": {
             "colorbar": {
              "outlinewidth": 0,
              "ticks": ""
             }
            },
            "type": "scatter3d"
           }
          ],
          "scattercarpet": [
           {
            "marker": {
             "colorbar": {
              "outlinewidth": 0,
              "ticks": ""
             }
            },
            "type": "scattercarpet"
           }
          ],
          "scattergeo": [
           {
            "marker": {
             "colorbar": {
              "outlinewidth": 0,
              "ticks": ""
             }
            },
            "type": "scattergeo"
           }
          ],
          "scattergl": [
           {
            "marker": {
             "colorbar": {
              "outlinewidth": 0,
              "ticks": ""
             }
            },
            "type": "scattergl"
           }
          ],
          "scattermapbox": [
           {
            "marker": {
             "colorbar": {
              "outlinewidth": 0,
              "ticks": ""
             }
            },
            "type": "scattermapbox"
           }
          ],
          "scatterpolar": [
           {
            "marker": {
             "colorbar": {
              "outlinewidth": 0,
              "ticks": ""
             }
            },
            "type": "scatterpolar"
           }
          ],
          "scatterpolargl": [
           {
            "marker": {
             "colorbar": {
              "outlinewidth": 0,
              "ticks": ""
             }
            },
            "type": "scatterpolargl"
           }
          ],
          "scatterternary": [
           {
            "marker": {
             "colorbar": {
              "outlinewidth": 0,
              "ticks": ""
             }
            },
            "type": "scatterternary"
           }
          ],
          "surface": [
           {
            "colorbar": {
             "outlinewidth": 0,
             "ticks": ""
            },
            "colorscale": [
             [
              0,
              "#0d0887"
             ],
             [
              0.1111111111111111,
              "#46039f"
             ],
             [
              0.2222222222222222,
              "#7201a8"
             ],
             [
              0.3333333333333333,
              "#9c179e"
             ],
             [
              0.4444444444444444,
              "#bd3786"
             ],
             [
              0.5555555555555556,
              "#d8576b"
             ],
             [
              0.6666666666666666,
              "#ed7953"
             ],
             [
              0.7777777777777778,
              "#fb9f3a"
             ],
             [
              0.8888888888888888,
              "#fdca26"
             ],
             [
              1,
              "#f0f921"
             ]
            ],
            "type": "surface"
           }
          ],
          "table": [
           {
            "cells": {
             "fill": {
              "color": "#EBF0F8"
             },
             "line": {
              "color": "white"
             }
            },
            "header": {
             "fill": {
              "color": "#C8D4E3"
             },
             "line": {
              "color": "white"
             }
            },
            "type": "table"
           }
          ]
         },
         "layout": {
          "annotationdefaults": {
           "arrowcolor": "#2a3f5f",
           "arrowhead": 0,
           "arrowwidth": 1
          },
          "autotypenumbers": "strict",
          "coloraxis": {
           "colorbar": {
            "outlinewidth": 0,
            "ticks": ""
           }
          },
          "colorscale": {
           "diverging": [
            [
             0,
             "#8e0152"
            ],
            [
             0.1,
             "#c51b7d"
            ],
            [
             0.2,
             "#de77ae"
            ],
            [
             0.3,
             "#f1b6da"
            ],
            [
             0.4,
             "#fde0ef"
            ],
            [
             0.5,
             "#f7f7f7"
            ],
            [
             0.6,
             "#e6f5d0"
            ],
            [
             0.7,
             "#b8e186"
            ],
            [
             0.8,
             "#7fbc41"
            ],
            [
             0.9,
             "#4d9221"
            ],
            [
             1,
             "#276419"
            ]
           ],
           "sequential": [
            [
             0,
             "#0d0887"
            ],
            [
             0.1111111111111111,
             "#46039f"
            ],
            [
             0.2222222222222222,
             "#7201a8"
            ],
            [
             0.3333333333333333,
             "#9c179e"
            ],
            [
             0.4444444444444444,
             "#bd3786"
            ],
            [
             0.5555555555555556,
             "#d8576b"
            ],
            [
             0.6666666666666666,
             "#ed7953"
            ],
            [
             0.7777777777777778,
             "#fb9f3a"
            ],
            [
             0.8888888888888888,
             "#fdca26"
            ],
            [
             1,
             "#f0f921"
            ]
           ],
           "sequentialminus": [
            [
             0,
             "#0d0887"
            ],
            [
             0.1111111111111111,
             "#46039f"
            ],
            [
             0.2222222222222222,
             "#7201a8"
            ],
            [
             0.3333333333333333,
             "#9c179e"
            ],
            [
             0.4444444444444444,
             "#bd3786"
            ],
            [
             0.5555555555555556,
             "#d8576b"
            ],
            [
             0.6666666666666666,
             "#ed7953"
            ],
            [
             0.7777777777777778,
             "#fb9f3a"
            ],
            [
             0.8888888888888888,
             "#fdca26"
            ],
            [
             1,
             "#f0f921"
            ]
           ]
          },
          "colorway": [
           "#636efa",
           "#EF553B",
           "#00cc96",
           "#ab63fa",
           "#FFA15A",
           "#19d3f3",
           "#FF6692",
           "#B6E880",
           "#FF97FF",
           "#FECB52"
          ],
          "font": {
           "color": "#2a3f5f"
          },
          "geo": {
           "bgcolor": "white",
           "lakecolor": "white",
           "landcolor": "#E5ECF6",
           "showlakes": true,
           "showland": true,
           "subunitcolor": "white"
          },
          "hoverlabel": {
           "align": "left"
          },
          "hovermode": "closest",
          "mapbox": {
           "style": "light"
          },
          "paper_bgcolor": "white",
          "plot_bgcolor": "#E5ECF6",
          "polar": {
           "angularaxis": {
            "gridcolor": "white",
            "linecolor": "white",
            "ticks": ""
           },
           "bgcolor": "#E5ECF6",
           "radialaxis": {
            "gridcolor": "white",
            "linecolor": "white",
            "ticks": ""
           }
          },
          "scene": {
           "xaxis": {
            "backgroundcolor": "#E5ECF6",
            "gridcolor": "white",
            "gridwidth": 2,
            "linecolor": "white",
            "showbackground": true,
            "ticks": "",
            "zerolinecolor": "white"
           },
           "yaxis": {
            "backgroundcolor": "#E5ECF6",
            "gridcolor": "white",
            "gridwidth": 2,
            "linecolor": "white",
            "showbackground": true,
            "ticks": "",
            "zerolinecolor": "white"
           },
           "zaxis": {
            "backgroundcolor": "#E5ECF6",
            "gridcolor": "white",
            "gridwidth": 2,
            "linecolor": "white",
            "showbackground": true,
            "ticks": "",
            "zerolinecolor": "white"
           }
          },
          "shapedefaults": {
           "line": {
            "color": "#2a3f5f"
           }
          },
          "ternary": {
           "aaxis": {
            "gridcolor": "white",
            "linecolor": "white",
            "ticks": ""
           },
           "baxis": {
            "gridcolor": "white",
            "linecolor": "white",
            "ticks": ""
           },
           "bgcolor": "#E5ECF6",
           "caxis": {
            "gridcolor": "white",
            "linecolor": "white",
            "ticks": ""
           }
          },
          "title": {
           "x": 0.05
          },
          "xaxis": {
           "automargin": true,
           "gridcolor": "white",
           "linecolor": "white",
           "ticks": "",
           "title": {
            "standoff": 15
           },
           "zerolinecolor": "white",
           "zerolinewidth": 2
          },
          "yaxis": {
           "automargin": true,
           "gridcolor": "white",
           "linecolor": "white",
           "ticks": "",
           "title": {
            "standoff": 15
           },
           "zerolinecolor": "white",
           "zerolinewidth": 2
          }
         }
        },
        "width": 800
       }
      },
      "image/png": "[encoded data removed]",
      "text/html": [
       "<div>                            <div id=\"21943524-b5c5-46e7-bc51-0f6db4f5f3a5\" class=\"plotly-graph-div\" style=\"height:600px; width:800px;\"></div>            <script type=\"text/javascript\">                require([\"plotly\"], function(Plotly) {                    window.PLOTLYENV=window.PLOTLYENV || {};                                    if (document.getElementById(\"21943524-b5c5-46e7-bc51-0f6db4f5f3a5\")) {                    Plotly.newPlot(                        \"21943524-b5c5-46e7-bc51-0f6db4f5f3a5\",                        [{\"hovertemplate\":\"species=setosa<br>PC1=%{x}<br>PC2=%{y}<br>PC3=%{z}<extra></extra>\",\"legendgroup\":\"setosa\",\"marker\":{\"color\":\"#636efa\",\"symbol\":\"circle\",\"size\":3},\"mode\":\"markers\",\"name\":\"setosa\",\"scene\":\"scene\",\"showlegend\":true,\"x\":[-2.264541728394905,-2.08642550061616,-2.367950449062527,-2.3041971611520107,-2.388777493505643,-2.0705368071805546,-2.4457113396302854,-2.233841858709267,-2.3419576764553915,-2.188675755280871,-2.1634865562665238,-2.327377754134375,-2.2240827220450035,-2.639716260844631,-2.19229150849843,-2.2514652145840657,-2.202750480080087,-2.190179163791053,-1.894074293023669,-2.339949070423409,-1.914556394959518,-2.204645397533815,-2.7741697937051586,-1.8204115633372144,-2.2282174994597264,-1.957024007341398,-2.052063311276688,-2.1681936533450226,-2.140305963284159,-2.2687901943878783,-2.1445544292771364,-1.8319381022015875,-2.608202867663348,-2.4379508590951433,-2.188675755280871,-2.2111198968124235,-2.044416519319801,-2.188675755280871,-2.435952202966021,-2.1705472018842715,-2.2865272388409315,-1.871707223536952,-2.5578344195375147,-1.9642792903547381,-2.133372832920029,-2.0753575928373076,-2.381258216802374,-2.3981916876626403,-2.2267812130915194,-2.2059541686484034],\"y\":[0.505703902773784,-0.655404729369135,-0.31847731084724923,-0.5753677125331953,0.6747673967025152,1.5185485598885131,0.07456267500687404,0.24761393175226495,-1.0951463625829554,-0.4486290483375591,1.070595576037726,0.15858745465947607,-0.7091181580302263,-0.9382819821078541,1.8899785123164656,2.722371076574469,1.5137502825462186,0.5143043082206927,1.4311107069412368,1.1580334289850007,0.4304651632801379,0.952457317288998,0.4895170265034949,0.10675079283540621,0.16218616266619706,-0.607892567483808,0.26601431198165504,0.5520164953235397,0.336640408845054,-0.31487860284052827,-0.4839420967692589,0.445266835502807,1.8284751927341005,2.1853916156308917,-0.4486290483375591,-0.18433781054027887,0.6849564262949365,-0.4486290483375591,-0.882169414775617,0.29272695496644635,0.4679917156709377,-2.32769160611491,-0.45381638048979306,0.4973916400183832,1.1714321117742035,-0.6919173471364098,1.1506325928736663,-0.362390764725857,1.0254825528235445,0.03223784527377944],\"z\":[-0.12194334778176,-0.22725083239924804,0.05147962364496692,0.09886044443740305,0.021427848973115567,0.030684258280725303,0.3421976362137545,-0.08257446445485095,0.1535623986946251,-0.24655952238860804,-0.26400937334710467,0.10016561562692806,-0.223214513992761,0.18957003015127188,-0.46948009463594725,0.03260379665903311,-0.0013634915813941005,-0.03861559488011967,-0.3707428339920333,0.13741771892565435,-0.41600687475628956,0.16473834638054347,0.33883638434349433,0.0400614724262476,0.12420142802351757,-0.29859102877631355,0.09209297881395304,-0.20129548162435176,-0.2653145445366299,0.0755154360415562,-0.06785576071331624,-0.2653752438840749,0.05141951815449963,-0.0793497548870181,-0.24655952238860804,-0.21862452774493657,-0.4794115704797848,-0.24655952238860804,0.20155758667584348,-0.1699385357629751,0.04073653896247462,-0.19452860985788054,0.3135718375693398,0.31475561006397523,0.25279322168941076,-0.05655900818948701,0.06210190348954711,0.1468556324186213,-0.17664530203897963,-0.14659352736712897],\"type\":\"scatter3d\"},{\"hovertemplate\":\"species=versicolor<br>PC1=%{x}<br>PC2=%{y}<br>PC3=%{z}<extra></extra>\",\"legendgroup\":\"versicolor\",\"marker\":{\"color\":\"#EF553B\",\"symbol\":\"diamond\",\"size\":3},\"mode\":\"markers\",\"name\":\"versicolor\",\"scene\":\"scene\",\"showlegend\":true,\"x\":[1.1039936528045733,0.7324814400086812,1.2421095053189384,0.3973072828233272,1.0725939482015456,0.3844581461690015,0.7487150759515534,-0.49786338779811895,0.9262223675330993,0.004968025584318755,-0.12469746138037124,0.4387301177805468,0.5516339814225079,0.7171650662368517,-0.03725838296568853,0.8758905359406841,0.3480064019802086,0.1533925445686671,1.2153032092161546,0.15694117564425064,0.7382561043698963,0.4723696823445688,1.227988214083443,0.6293810453149024,0.7004727992084586,0.8735369874014346,1.2542221905224513,1.3582398473872725,0.6621261375659379,-0.047281513319880196,0.12153420888011858,0.014118226051387557,0.236010837326597,1.056691428090577,0.22141708833021767,0.4317831607410537,1.0494133552191813,1.0358782103228252,0.06706759987298014,0.27542506625183405,0.2723350662617718,0.6231705397262218,0.3300053638372266,-0.373627622687377,0.28294434295510273,0.0890531103190113,0.22435678320860605,0.5738834855584672,-0.45701287250467515,0.25224447326946925],\"y\":[0.8631124458513242,0.5986355733419972,0.6148224496122867,-1.7581689474435263,-0.2117579026798957,-0.5910624686227363,0.7786986113887822,-1.8488687712754421,0.030330826783381077,-1.0294011124030877,-2.6580626779617607,-0.05888128502145428,-1.7725815648562546,-0.18543431450504375,-0.4327950987141688,0.5099981510591474,-0.1906216466572776,-0.7907254562344854,-1.6333556445154829,-1.3031032701729113,0.40247038161853615,-0.4166082224438794,-0.9409147925302723,-0.416811642541772,-0.06349392765170225,0.25070861070205386,-0.08262009981311255,0.328820266270402,-0.224346070943464,-1.0572124126050204,-1.5635923798655778,-1.5733923546480597,-0.7759237840118164,-0.6369012837689367,-0.28084769308563995,0.8551369202180028,0.5221972645127765,-1.3924664843877808,-0.2126207348933886,-1.3298159131577019,-1.1194415241194036,0.027542633302294527,-0.9889007318191547,-2.017932265204172,-0.8539507169865499,-0.17490854779054157,-0.3804846594865454,-0.15371997408006502,-1.5394645102639806,-0.5958607459650308],\"z\":[-0.6855551077942372,-0.09406680197491324,-0.5548465341001644,-0.018569482353449254,-0.3974474376045003,0.12679768959169138,0.14865602261265645,0.2555552499784255,-0.5954598892691503,0.5428670487940238,-0.03981344818563156,0.2067034912756232,-0.7613802230457305,-0.06729984236136118,0.19806144915679597,-0.5035058317132016,0.49283151759658694,-0.2986045157302112,-0.47940991382614534,-0.16858674603688098,0.6167726256672098,-0.2627182829684552,-0.36670485893190596,-0.28996247361138333,-0.4447675590494916,-0.47214888585182485,-0.7268435294994511,-0.26145807366185964,0.08736810691734039,-0.31531919466201425,-0.14524173764103482,-0.23658142800820176,-0.14797288485799678,0.10675323371866047,0.6675596602128353,0.45073148705271815,-0.39614226641497513,-0.6854343029563255,0.2941282619311933,0.09344476854004705,0.09817189094727749,-0.01930465438014289,-0.19596807283921513,0.11218405322355311,0.1341188230564789,0.13144837518696115,0.15876900264185015,-0.2700394164332424,0.19612617331397278,0.09474993972957209],\"type\":\"scatter3d\"},{\"hovertemplate\":\"species=virginica<br>PC1=%{x}<br>PC2=%{y}<br>PC3=%{z}<extra></extra>\",\"legendgroup\":\"virginica\",\"marker\":{\"color\":\"#00cc96\",\"symbol\":\"square\",\"size\":3},\"mode\":\"markers\",\"name\":\"virginica\",\"scene\":\"scene\",\"showlegend\":true,\"x\":[1.8476725943096652,1.1531898082521295,2.206349497126595,1.4386854023261828,1.8678907025555853,2.754196708825755,0.35837447484166723,2.3030058981503205,2.0017352992189177,2.2675545991022696,1.365909429202215,1.5990645856518702,1.8842518537520758,1.2530865143775918,1.464061522985623,1.5918093026385292,1.4712801894655445,2.43737848219351,3.3091411826760813,1.2539809866905782,2.0404962596630405,0.9739151144704737,2.898064435843279,1.329193691323494,1.7042407085196067,1.9577276617934367,1.171904507987869,1.0197810528162634,1.7860088612484688,1.8647779127074677,2.435497391415145,2.3160824119611565,1.860371425852317,1.1112717256759697,1.1974691551180385,2.8009494037340303,1.5801552485205377,1.3470444243548025,0.9234329777663847,1.8535519840664418,2.0161572006777604,1.9031168585994882,1.1531898082521295,2.0433084392878107,2.0016909669349987,1.8705220714601265,1.5584918907237182,1.520845063998591,1.3763911906419282,0.9592985756160383],\"y\":[0.8716966617734134,-0.7013261138565751,0.5544701049349228,-0.050010522268885305,0.2911928017611694,0.7884322063548451,-1.5600945839772886,0.40951669522194356,-0.7238653593126593,1.9214429914653555,0.6939480398041612,-0.42824883590033946,0.4143327579500843,-1.1673913352452452,-0.4441475694791232,0.6770353716018519,0.2531924719668157,2.5567573414948024,-0.0023613201020827672,-1.717583844265977,0.9073987650150533,-0.5711743763662658,0.39779135917186825,-0.48676054190372386,1.0141484248357853,1.0033345154297773,-0.3188966173105676,0.06554296309664828,-0.19327279985689116,0.5553815315789897,0.24665446806897423,2.626183869022628,-0.18467239440998298,-0.2959861024303901,-0.8171677419136155,0.8447481937849747,1.0724744961271226,0.4222559658955464,0.019230370546893426,0.672422728971604,0.6103970375551132,0.6860248318586994,-0.7013261138565751,0.864684880472019,1.048550046623418,0.38282183762299843,-0.9053136014070658,0.26679457485391106,1.0163619287948857,-0.02228394466056678],\"z\":[1.0027609857792776,0.5314646350398206,-0.20549591009804036,0.16339046381870662,0.39400433318681344,-0.5862327043799539,0.9909998953229908,-0.6541666870038293,-0.3940704482697244,0.39251765781193143,0.2832795160183267,0.023304082122132995,0.024548553964213522,0.5821302708905556,1.0041105249947535,0.6366507209624215,0.03665750918367591,-0.1342000817469271,-0.706933959275208,-0.26462208388224706,0.2318781142839186,0.829503781073395,-0.8609268420176824,-0.0047073493334983795,0.29595787654364164,-0.42281705175205014,0.13065190995584378,0.33804216962299505,0.2700025257687445,-0.7175106833798804,-0.7302340057881253,-0.49961954256303986,0.35333027867038164,-0.18265960766060196,-0.16321378151183683,-0.5470009572124545,0.943392608462269,0.18002870593854808,0.4173943034655892,-0.014820329362692923,0.4259149468895266,0.1277993640439914,0.5314646350398206,0.33526606052310315,0.6292688881501898,0.254532318679022,-0.02538190985982791,0.17927720259036026,0.9314050519376964,0.528794187170303],\"type\":\"scatter3d\"}],                        {\"template\":{\"data\":{\"histogram2dcontour\":[{\"type\":\"histogram2dcontour\",\"colorbar\":{\"outlinewidth\":0,\"ticks\":\"\"},\"colorscale\":[[0.0,\"#0d0887\"],[0.1111111111111111,\"#46039f\"],[0.2222222222222222,\"#7201a8\"],[0.3333333333333333,\"#9c179e\"],[0.4444444444444444,\"#bd3786\"],[0.5555555555555556,\"#d8576b\"],[0.6666666666666666,\"#ed7953\"],[0.7777777777777778,\"#fb9f3a\"],[0.8888888888888888,\"#fdca26\"],[1.0,\"#f0f921\"]]}],\"choropleth\":[{\"type\":\"choropleth\",\"colorbar\":{\"outlinewidth\":0,\"ticks\":\"\"}}],\"histogram2d\":[{\"type\":\"histogram2d\",\"colorbar\":{\"outlinewidth\":0,\"ticks\":\"\"},\"colorscale\":[[0.0,\"#0d0887\"],[0.1111111111111111,\"#46039f\"],[0.2222222222222222,\"#7201a8\"],[0.3333333333333333,\"#9c179e\"],[0.4444444444444444,\"#bd3786\"],[0.5555555555555556,\"#d8576b\"],[0.6666666666666666,\"#ed7953\"],[0.7777777777777778,\"#fb9f3a\"],[0.8888888888888888,\"#fdca26\"],[1.0,\"#f0f921\"]]}],\"heatmap\":[{\"type\":\"heatmap\",\"colorbar\":{\"outlinewidth\":0,\"ticks\":\"\"},\"colorscale\":[[0.0,\"#0d0887\"],[0.1111111111111111,\"#46039f\"],[0.2222222222222222,\"#7201a8\"],[0.3333333333333333,\"#9c179e\"],[0.4444444444444444,\"#bd3786\"],[0.5555555555555556,\"#d8576b\"],[0.6666666666666666,\"#ed7953\"],[0.7777777777777778,\"#fb9f3a\"],[0.8888888888888888,\"#fdca26\"],[1.0,\"#f0f921\"]]}],\"heatmapgl\":[{\"type\":\"heatmapgl\",\"colorbar\":{\"outlinewidth\":0,\"ticks\":\"\"},\"colorscale\":[[0.0,\"#0d0887\"],[0.1111111111111111,\"#46039f\"],[0.2222222222222222,\"#7201a8\"],[0.3333333333333333,\"#9c179e\"],[0.4444444444444444,\"#bd3786\"],[0.5555555555555556,\"#d8576b\"],[0.6666666666666666,\"#ed7953\"],[0.7777777777777778,\"#fb9f3a\"],[0.8888888888888888,\"#fdca26\"],[1.0,\"#f0f921\"]]}],\"contourcarpet\":[{\"type\":\"contourcarpet\",\"colorbar\":{\"outlinewidth\":0,\"ticks\":\"\"}}],\"contour\":[{\"type\":\"contour\",\"colorbar\":{\"outlinewidth\":0,\"ticks\":\"\"},\"colorscale\":[[0.0,\"#0d0887\"],[0.1111111111111111,\"#46039f\"],[0.2222222222222222,\"#7201a8\"],[0.3333333333333333,\"#9c179e\"],[0.4444444444444444,\"#bd3786\"],[0.5555555555555556,\"#d8576b\"],[0.6666666666666666,\"#ed7953\"],[0.7777777777777778,\"#fb9f3a\"],[0.8888888888888888,\"#fdca26\"],[1.0,\"#f0f921\"]]}],\"surface\":[{\"type\":\"surface\",\"colorbar\":{\"outlinewidth\":0,\"ticks\":\"\"},\"colorscale\":[[0.0,\"#0d0887\"],[0.1111111111111111,\"#46039f\"],[0.2222222222222222,\"#7201a8\"],[0.3333333333333333,\"#9c179e\"],[0.4444444444444444,\"#bd3786\"],[0.5555555555555556,\"#d8576b\"],[0.6666666666666666,\"#ed7953\"],[0.7777777777777778,\"#fb9f3a\"],[0.8888888888888888,\"#fdca26\"],[1.0,\"#f0f921\"]]}],\"mesh3d\":[{\"type\":\"mesh3d\",\"colorbar\":{\"outlinewidth\":0,\"ticks\":\"\"}}],\"scatter\":[{\"fillpattern\":{\"fillmode\":\"overlay\",\"size\":10,\"solidity\":0.2},\"type\":\"scatter\"}],\"parcoords\":[{\"type\":\"parcoords\",\"line\":{\"colorbar\":{\"outlinewidth\":0,\"ticks\":\"\"}}}],\"scatterpolargl\":[{\"type\":\"scatterpolargl\",\"marker\":{\"colorbar\":{\"outlinewidth\":0,\"ticks\":\"\"}}}],\"bar\":[{\"error_x\":{\"color\":\"#2a3f5f\"},\"error_y\":{\"color\":\"#2a3f5f\"},\"marker\":{\"line\":{\"color\":\"#E5ECF6\",\"width\":0.5},\"pattern\":{\"fillmode\":\"overlay\",\"size\":10,\"solidity\":0.2}},\"type\":\"bar\"}],\"scattergeo\":[{\"type\":\"scattergeo\",\"marker\":{\"colorbar\":{\"outlinewidth\":0,\"ticks\":\"\"}}}],\"scatterpolar\":[{\"type\":\"scatterpolar\",\"marker\":{\"colorbar\":{\"outlinewidth\":0,\"ticks\":\"\"}}}],\"histogram\":[{\"marker\":{\"pattern\":{\"fillmode\":\"overlay\",\"size\":10,\"solidity\":0.2}},\"type\":\"histogram\"}],\"scattergl\":[{\"type\":\"scattergl\",\"marker\":{\"colorbar\":{\"outlinewidth\":0,\"ticks\":\"\"}}}],\"scatter3d\":[{\"type\":\"scatter3d\",\"line\":{\"colorbar\":{\"outlinewidth\":0,\"ticks\":\"\"}},\"marker\":{\"colorbar\":{\"outlinewidth\":0,\"ticks\":\"\"}}}],\"scattermapbox\":[{\"type\":\"scattermapbox\",\"marker\":{\"colorbar\":{\"outlinewidth\":0,\"ticks\":\"\"}}}],\"scatterternary\":[{\"type\":\"scatterternary\",\"marker\":{\"colorbar\":{\"outlinewidth\":0,\"ticks\":\"\"}}}],\"scattercarpet\":[{\"type\":\"scattercarpet\",\"marker\":{\"colorbar\":{\"outlinewidth\":0,\"ticks\":\"\"}}}],\"carpet\":[{\"aaxis\":{\"endlinecolor\":\"#2a3f5f\",\"gridcolor\":\"white\",\"linecolor\":\"white\",\"minorgridcolor\":\"white\",\"startlinecolor\":\"#2a3f5f\"},\"baxis\":{\"endlinecolor\":\"#2a3f5f\",\"gridcolor\":\"white\",\"linecolor\":\"white\",\"minorgridcolor\":\"white\",\"startlinecolor\":\"#2a3f5f\"},\"type\":\"carpet\"}],\"table\":[{\"cells\":{\"fill\":{\"color\":\"#EBF0F8\"},\"line\":{\"color\":\"white\"}},\"header\":{\"fill\":{\"color\":\"#C8D4E3\"},\"line\":{\"color\":\"white\"}},\"type\":\"table\"}],\"barpolar\":[{\"marker\":{\"line\":{\"color\":\"#E5ECF6\",\"width\":0.5},\"pattern\":{\"fillmode\":\"overlay\",\"size\":10,\"solidity\":0.2}},\"type\":\"barpolar\"}],\"pie\":[{\"automargin\":true,\"type\":\"pie\"}]},\"layout\":{\"autotypenumbers\":\"strict\",\"colorway\":[\"#636efa\",\"#EF553B\",\"#00cc96\",\"#ab63fa\",\"#FFA15A\",\"#19d3f3\",\"#FF6692\",\"#B6E880\",\"#FF97FF\",\"#FECB52\"],\"font\":{\"color\":\"#2a3f5f\"},\"hovermode\":\"closest\",\"hoverlabel\":{\"align\":\"left\"},\"paper_bgcolor\":\"white\",\"plot_bgcolor\":\"#E5ECF6\",\"polar\":{\"bgcolor\":\"#E5ECF6\",\"angularaxis\":{\"gridcolor\":\"white\",\"linecolor\":\"white\",\"ticks\":\"\"},\"radialaxis\":{\"gridcolor\":\"white\",\"linecolor\":\"white\",\"ticks\":\"\"}},\"ternary\":{\"bgcolor\":\"#E5ECF6\",\"aaxis\":{\"gridcolor\":\"white\",\"linecolor\":\"white\",\"ticks\":\"\"},\"baxis\":{\"gridcolor\":\"white\",\"linecolor\":\"white\",\"ticks\":\"\"},\"caxis\":{\"gridcolor\":\"white\",\"linecolor\":\"white\",\"ticks\":\"\"}},\"coloraxis\":{\"colorbar\":{\"outlinewidth\":0,\"ticks\":\"\"}},\"colorscale\":{\"sequential\":[[0.0,\"#0d0887\"],[0.1111111111111111,\"#46039f\"],[0.2222222222222222,\"#7201a8\"],[0.3333333333333333,\"#9c179e\"],[0.4444444444444444,\"#bd3786\"],[0.5555555555555556,\"#d8576b\"],[0.6666666666666666,\"#ed7953\"],[0.7777777777777778,\"#fb9f3a\"],[0.8888888888888888,\"#fdca26\"],[1.0,\"#f0f921\"]],\"sequentialminus\":[[0.0,\"#0d0887\"],[0.1111111111111111,\"#46039f\"],[0.2222222222222222,\"#7201a8\"],[0.3333333333333333,\"#9c179e\"],[0.4444444444444444,\"#bd3786\"],[0.5555555555555556,\"#d8576b\"],[0.6666666666666666,\"#ed7953\"],[0.7777777777777778,\"#fb9f3a\"],[0.8888888888888888,\"#fdca26\"],[1.0,\"#f0f921\"]],\"diverging\":[[0,\"#8e0152\"],[0.1,\"#c51b7d\"],[0.2,\"#de77ae\"],[0.3,\"#f1b6da\"],[0.4,\"#fde0ef\"],[0.5,\"#f7f7f7\"],[0.6,\"#e6f5d0\"],[0.7,\"#b8e186\"],[0.8,\"#7fbc41\"],[0.9,\"#4d9221\"],[1,\"#276419\"]]},\"xaxis\":{\"gridcolor\":\"white\",\"linecolor\":\"white\",\"ticks\":\"\",\"title\":{\"standoff\":15},\"zerolinecolor\":\"white\",\"automargin\":true,\"zerolinewidth\":2},\"yaxis\":{\"gridcolor\":\"white\",\"linecolor\":\"white\",\"ticks\":\"\",\"title\":{\"standoff\":15},\"zerolinecolor\":\"white\",\"automargin\":true,\"zerolinewidth\":2},\"scene\":{\"xaxis\":{\"backgroundcolor\":\"#E5ECF6\",\"gridcolor\":\"white\",\"linecolor\":\"white\",\"showbackground\":true,\"ticks\":\"\",\"zerolinecolor\":\"white\",\"gridwidth\":2},\"yaxis\":{\"backgroundcolor\":\"#E5ECF6\",\"gridcolor\":\"white\",\"linecolor\":\"white\",\"showbackground\":true,\"ticks\":\"\",\"zerolinecolor\":\"white\",\"gridwidth\":2},\"zaxis\":{\"backgroundcolor\":\"#E5ECF6\",\"gridcolor\":\"white\",\"linecolor\":\"white\",\"showbackground\":true,\"ticks\":\"\",\"zerolinecolor\":\"white\",\"gridwidth\":2}},\"shapedefaults\":{\"line\":{\"color\":\"#2a3f5f\"}},\"annotationdefaults\":{\"arrowcolor\":\"#2a3f5f\",\"arrowhead\":0,\"arrowwidth\":1},\"geo\":{\"bgcolor\":\"white\",\"landcolor\":\"#E5ECF6\",\"subunitcolor\":\"white\",\"showland\":true,\"showlakes\":true,\"lakecolor\":\"white\"},\"title\":{\"x\":0.05},\"mapbox\":{\"style\":\"light\"}}},\"scene\":{\"domain\":{\"x\":[0.0,1.0],\"y\":[0.0,1.0]},\"xaxis\":{\"title\":{\"text\":\"PC1\"}},\"yaxis\":{\"title\":{\"text\":\"PC2\"}},\"zaxis\":{\"title\":{\"text\":\"PC3\"}}},\"legend\":{\"title\":{\"text\":\"species\"},\"tracegroupgap\":0},\"margin\":{\"t\":60},\"height\":600,\"width\":800},                        {\"responsive\": true}                    ).then(function(){\n",
       "                            \n",
       "var gd = document.getElementById('21943524-b5c5-46e7-bc51-0f6db4f5f3a5');\n",
       "var x = new MutationObserver(function (mutations, observer) {{\n",
       "        var display = window.getComputedStyle(gd).display;\n",
       "        if (!display || display === 'none') {{\n",
       "            console.log([gd, 'removed!']);\n",
       "            Plotly.purge(gd);\n",
       "            observer.disconnect();\n",
       "        }}\n",
       "}});\n",
       "\n",
       "// Listen for the removal of the full notebook cells\n",
       "var notebookContainer = gd.closest('#notebook-container');\n",
       "if (notebookContainer) {{\n",
       "    x.observe(notebookContainer, {childList: true});\n",
       "}}\n",
       "\n",
       "// Listen for the clearing of the current output cell\n",
       "var outputEl = gd.closest('.output');\n",
       "if (outputEl) {{\n",
       "    x.observe(outputEl, {childList: true});\n",
       "}}\n",
       "\n",
       "                        })                };                });            </script>        </div>"
      ]
     },
     "metadata": {},
     "output_type": "display_data"
    }
   ],
   "source": [
    "# PC1=pca_df['PC1']\n",
    "# PC2=pca_df['PC2']\n",
    "# PC3=pca_df['PC3']\n",
    "# c=pca_df['species']\n",
    "# from mpl_toolkits import mplot3d\n",
    "# plt.rcParams[\"figure.figsize\"] = (8,8) #graphic size\n",
    "# fig = plt.figure()\n",
    "# ax = plt.axes(projection='3d')\n",
    "# ax.scatter3D(PC1, PC2, PC3)\n",
    "\n",
    "import plotly.express as px\n",
    "fig=px.scatter_3d(pca_df, x='PC1', y='PC2', z='PC3',color='species', symbol='species', width=800, height=600)\n",
    "fig.update_traces(marker=dict(size=3))"
   ]
  },
  {
   "cell_type": "markdown",
   "id": "2adca37e-000b-405d-8da8-4c7b27c04895",
   "metadata": {},
   "source": [
    "<div class=\"rq\">\n",
    "    \n",
    "The clusters are extremely easy to see: \n",
    "Iris Setosa (Blue), Iris Versicolor (Red), and Iris Virginica (Green)\n",
    "\n",
    "Note that species 0 (blue dots) is clearly separated in all these plots, but species 1 (green dots) and species 2 (yellow dots) are harder to separate.\n",
    "    \n",
    "</div>"
   ]
  },
  {
   "cell_type": "markdown",
   "id": "7c721ef8-b6aa-48ce-9cda-e9ffe02e4b85",
   "metadata": {},
   "source": [
    "### 4.2. Principal components used as features for ML"
   ]
  },
  {
   "cell_type": "markdown",
   "id": "6b07f849-149a-49a6-b49f-013ffc971a75",
   "metadata": {},
   "source": [
    "<div class=\"intro\">\n",
    "    \n",
    "PCA is an unsupervised, non-parametric statistical technique that can be used for **dimensionality reduction** (or **data compression**) in machine learning. \n",
    "</div>"
   ]
  },
  {
   "cell_type": "markdown",
   "id": "d0ea58ce-4d12-48a0-839e-9d4ae564a806",
   "metadata": {},
   "source": [
    "#### 4.2.a. Library import"
   ]
  },
  {
   "cell_type": "code",
   "execution_count": 32,
   "id": "d6ddd0b1-8731-4875-8d84-7280f7bd9511",
   "metadata": {},
   "outputs": [],
   "source": [
    "%matplotlib inline\n",
    "import pandas as pd\n",
    "import matplotlib as mp\n",
    "import matplotlib.pyplot as plt\n",
    "import numpy as np\n",
    "import tensorflow as tf\n",
    "from tensorflow import keras\n",
    "from keras.utils import np_utils\n",
    "\n",
    "from sklearn.decomposition import PCA"
   ]
  },
  {
   "cell_type": "markdown",
   "id": "05068338-54e4-40e5-be88-242ca295c685",
   "metadata": {},
   "source": [
    "#### 4.2.b. PCA"
   ]
  },
  {
   "cell_type": "markdown",
   "id": "e2e736df-669c-44dd-87b0-aa40c6093844",
   "metadata": {},
   "source": [
    "##### Reading of data (one hot encoding version)"
   ]
  },
  {
   "cell_type": "code",
   "execution_count": 33,
   "id": "1b875c4c-6047-4ba9-83e2-40daa95ee171",
   "metadata": {},
   "outputs": [
    {
     "name": "stdout",
     "output_type": "stream",
     "text": [
      "Dfi. Structure (shape) :(150, 8)\n"
     ]
    },
    {
     "data": {
      "text/html": [
       "<div>\n",
       "<style scoped>\n",
       "    .dataframe tbody tr th:only-of-type {\n",
       "        vertical-align: middle;\n",
       "    }\n",
       "\n",
       "    .dataframe tbody tr th {\n",
       "        vertical-align: top;\n",
       "    }\n",
       "\n",
       "    .dataframe thead th {\n",
       "        text-align: right;\n",
       "    }\n",
       "</style>\n",
       "<table border=\"1\" class=\"dataframe\">\n",
       "  <thead>\n",
       "    <tr style=\"text-align: right;\">\n",
       "      <th></th>\n",
       "      <th>sepal_length</th>\n",
       "      <th>sepal_width</th>\n",
       "      <th>petal_length</th>\n",
       "      <th>petal_width</th>\n",
       "      <th>species</th>\n",
       "      <th>setosa</th>\n",
       "      <th>versicolor</th>\n",
       "      <th>virginica</th>\n",
       "    </tr>\n",
       "  </thead>\n",
       "  <tbody>\n",
       "    <tr>\n",
       "      <th>0</th>\n",
       "      <td>5.1</td>\n",
       "      <td>3.5</td>\n",
       "      <td>1.4</td>\n",
       "      <td>0.2</td>\n",
       "      <td>setosa</td>\n",
       "      <td>1.0</td>\n",
       "      <td>0.0</td>\n",
       "      <td>0.0</td>\n",
       "    </tr>\n",
       "    <tr>\n",
       "      <th>1</th>\n",
       "      <td>4.9</td>\n",
       "      <td>3.0</td>\n",
       "      <td>1.4</td>\n",
       "      <td>0.2</td>\n",
       "      <td>setosa</td>\n",
       "      <td>1.0</td>\n",
       "      <td>0.0</td>\n",
       "      <td>0.0</td>\n",
       "    </tr>\n",
       "    <tr>\n",
       "      <th>2</th>\n",
       "      <td>4.7</td>\n",
       "      <td>3.2</td>\n",
       "      <td>1.3</td>\n",
       "      <td>0.2</td>\n",
       "      <td>setosa</td>\n",
       "      <td>1.0</td>\n",
       "      <td>0.0</td>\n",
       "      <td>0.0</td>\n",
       "    </tr>\n",
       "    <tr>\n",
       "      <th>3</th>\n",
       "      <td>4.6</td>\n",
       "      <td>3.1</td>\n",
       "      <td>1.5</td>\n",
       "      <td>0.2</td>\n",
       "      <td>setosa</td>\n",
       "      <td>1.0</td>\n",
       "      <td>0.0</td>\n",
       "      <td>0.0</td>\n",
       "    </tr>\n",
       "    <tr>\n",
       "      <th>4</th>\n",
       "      <td>5.0</td>\n",
       "      <td>3.6</td>\n",
       "      <td>1.4</td>\n",
       "      <td>0.2</td>\n",
       "      <td>setosa</td>\n",
       "      <td>1.0</td>\n",
       "      <td>0.0</td>\n",
       "      <td>0.0</td>\n",
       "    </tr>\n",
       "    <tr>\n",
       "      <th>...</th>\n",
       "      <td>...</td>\n",
       "      <td>...</td>\n",
       "      <td>...</td>\n",
       "      <td>...</td>\n",
       "      <td>...</td>\n",
       "      <td>...</td>\n",
       "      <td>...</td>\n",
       "      <td>...</td>\n",
       "    </tr>\n",
       "    <tr>\n",
       "      <th>145</th>\n",
       "      <td>6.7</td>\n",
       "      <td>3.0</td>\n",
       "      <td>5.2</td>\n",
       "      <td>2.3</td>\n",
       "      <td>virginica</td>\n",
       "      <td>0.0</td>\n",
       "      <td>0.0</td>\n",
       "      <td>1.0</td>\n",
       "    </tr>\n",
       "    <tr>\n",
       "      <th>146</th>\n",
       "      <td>6.3</td>\n",
       "      <td>2.5</td>\n",
       "      <td>5.0</td>\n",
       "      <td>1.9</td>\n",
       "      <td>virginica</td>\n",
       "      <td>0.0</td>\n",
       "      <td>0.0</td>\n",
       "      <td>1.0</td>\n",
       "    </tr>\n",
       "    <tr>\n",
       "      <th>147</th>\n",
       "      <td>6.5</td>\n",
       "      <td>3.0</td>\n",
       "      <td>5.2</td>\n",
       "      <td>2.0</td>\n",
       "      <td>virginica</td>\n",
       "      <td>0.0</td>\n",
       "      <td>0.0</td>\n",
       "      <td>1.0</td>\n",
       "    </tr>\n",
       "    <tr>\n",
       "      <th>148</th>\n",
       "      <td>6.2</td>\n",
       "      <td>3.4</td>\n",
       "      <td>5.4</td>\n",
       "      <td>2.3</td>\n",
       "      <td>virginica</td>\n",
       "      <td>0.0</td>\n",
       "      <td>0.0</td>\n",
       "      <td>1.0</td>\n",
       "    </tr>\n",
       "    <tr>\n",
       "      <th>149</th>\n",
       "      <td>5.9</td>\n",
       "      <td>3.0</td>\n",
       "      <td>5.1</td>\n",
       "      <td>1.8</td>\n",
       "      <td>virginica</td>\n",
       "      <td>0.0</td>\n",
       "      <td>0.0</td>\n",
       "      <td>1.0</td>\n",
       "    </tr>\n",
       "  </tbody>\n",
       "</table>\n",
       "<p>150 rows × 8 columns</p>\n",
       "</div>"
      ],
      "text/plain": [
       "     sepal_length  sepal_width  petal_length  petal_width    species  setosa  \\\n",
       "0             5.1          3.5           1.4          0.2     setosa     1.0   \n",
       "1             4.9          3.0           1.4          0.2     setosa     1.0   \n",
       "2             4.7          3.2           1.3          0.2     setosa     1.0   \n",
       "3             4.6          3.1           1.5          0.2     setosa     1.0   \n",
       "4             5.0          3.6           1.4          0.2     setosa     1.0   \n",
       "..            ...          ...           ...          ...        ...     ...   \n",
       "145           6.7          3.0           5.2          2.3  virginica     0.0   \n",
       "146           6.3          2.5           5.0          1.9  virginica     0.0   \n",
       "147           6.5          3.0           5.2          2.0  virginica     0.0   \n",
       "148           6.2          3.4           5.4          2.3  virginica     0.0   \n",
       "149           5.9          3.0           5.1          1.8  virginica     0.0   \n",
       "\n",
       "     versicolor  virginica  \n",
       "0           0.0        0.0  \n",
       "1           0.0        0.0  \n",
       "2           0.0        0.0  \n",
       "3           0.0        0.0  \n",
       "4           0.0        0.0  \n",
       "..          ...        ...  \n",
       "145         0.0        1.0  \n",
       "146         0.0        1.0  \n",
       "147         0.0        1.0  \n",
       "148         0.0        1.0  \n",
       "149         0.0        1.0  \n",
       "\n",
       "[150 rows x 8 columns]"
      ]
     },
     "metadata": {},
     "output_type": "display_data"
    }
   ],
   "source": [
    "dfi=pd.read_csv('./DS4B-iris-data/iris_ohe.csv', sep=\"\\t\") \n",
    "print(f\"Dfi. Structure (shape) :{dfi.shape}\")\n",
    "display(dfi)"
   ]
  },
  {
   "cell_type": "markdown",
   "id": "10987231-6c89-4950-bb62-04131510a765",
   "metadata": {},
   "source": [
    "##### Standardization"
   ]
  },
  {
   "cell_type": "code",
   "execution_count": 34,
   "id": "9b6adc5a-0d58-4380-9223-048331dd8adc",
   "metadata": {},
   "outputs": [
    {
     "data": {
      "text/html": [
       "<style type=\"text/css\">\n",
       "</style>\n",
       "<table id=\"T_4f75a\">\n",
       "  <caption>features after standardization</caption>\n",
       "  <thead>\n",
       "    <tr>\n",
       "      <th class=\"blank level0\" >&nbsp;</th>\n",
       "      <th id=\"T_4f75a_level0_col0\" class=\"col_heading level0 col0\" >sepal_length</th>\n",
       "      <th id=\"T_4f75a_level0_col1\" class=\"col_heading level0 col1\" >sepal_width</th>\n",
       "      <th id=\"T_4f75a_level0_col2\" class=\"col_heading level0 col2\" >petal_length</th>\n",
       "      <th id=\"T_4f75a_level0_col3\" class=\"col_heading level0 col3\" >petal_width</th>\n",
       "    </tr>\n",
       "  </thead>\n",
       "  <tbody>\n",
       "    <tr>\n",
       "      <th id=\"T_4f75a_level0_row0\" class=\"row_heading level0 row0\" >count</th>\n",
       "      <td id=\"T_4f75a_row0_col0\" class=\"data row0 col0\" >150.00</td>\n",
       "      <td id=\"T_4f75a_row0_col1\" class=\"data row0 col1\" >150.00</td>\n",
       "      <td id=\"T_4f75a_row0_col2\" class=\"data row0 col2\" >150.00</td>\n",
       "      <td id=\"T_4f75a_row0_col3\" class=\"data row0 col3\" >150.00</td>\n",
       "    </tr>\n",
       "    <tr>\n",
       "      <th id=\"T_4f75a_level0_row1\" class=\"row_heading level0 row1\" >mean</th>\n",
       "      <td id=\"T_4f75a_row1_col0\" class=\"data row1 col0\" >-0.00</td>\n",
       "      <td id=\"T_4f75a_row1_col1\" class=\"data row1 col1\" >-0.00</td>\n",
       "      <td id=\"T_4f75a_row1_col2\" class=\"data row1 col2\" >0.00</td>\n",
       "      <td id=\"T_4f75a_row1_col3\" class=\"data row1 col3\" >-0.00</td>\n",
       "    </tr>\n",
       "    <tr>\n",
       "      <th id=\"T_4f75a_level0_row2\" class=\"row_heading level0 row2\" >std</th>\n",
       "      <td id=\"T_4f75a_row2_col0\" class=\"data row2 col0\" >1.00</td>\n",
       "      <td id=\"T_4f75a_row2_col1\" class=\"data row2 col1\" >1.00</td>\n",
       "      <td id=\"T_4f75a_row2_col2\" class=\"data row2 col2\" >1.00</td>\n",
       "      <td id=\"T_4f75a_row2_col3\" class=\"data row2 col3\" >1.00</td>\n",
       "    </tr>\n",
       "    <tr>\n",
       "      <th id=\"T_4f75a_level0_row3\" class=\"row_heading level0 row3\" >min</th>\n",
       "      <td id=\"T_4f75a_row3_col0\" class=\"data row3 col0\" >-1.87</td>\n",
       "      <td id=\"T_4f75a_row3_col1\" class=\"data row3 col1\" >-2.44</td>\n",
       "      <td id=\"T_4f75a_row3_col2\" class=\"data row3 col2\" >-1.57</td>\n",
       "      <td id=\"T_4f75a_row3_col3\" class=\"data row3 col3\" >-1.44</td>\n",
       "    </tr>\n",
       "    <tr>\n",
       "      <th id=\"T_4f75a_level0_row4\" class=\"row_heading level0 row4\" >25%</th>\n",
       "      <td id=\"T_4f75a_row4_col0\" class=\"data row4 col0\" >-0.90</td>\n",
       "      <td id=\"T_4f75a_row4_col1\" class=\"data row4 col1\" >-0.59</td>\n",
       "      <td id=\"T_4f75a_row4_col2\" class=\"data row4 col2\" >-1.23</td>\n",
       "      <td id=\"T_4f75a_row4_col3\" class=\"data row4 col3\" >-1.18</td>\n",
       "    </tr>\n",
       "    <tr>\n",
       "      <th id=\"T_4f75a_level0_row5\" class=\"row_heading level0 row5\" >50%</th>\n",
       "      <td id=\"T_4f75a_row5_col0\" class=\"data row5 col0\" >-0.05</td>\n",
       "      <td id=\"T_4f75a_row5_col1\" class=\"data row5 col1\" >-0.12</td>\n",
       "      <td id=\"T_4f75a_row5_col2\" class=\"data row5 col2\" >0.34</td>\n",
       "      <td id=\"T_4f75a_row5_col3\" class=\"data row5 col3\" >0.13</td>\n",
       "    </tr>\n",
       "    <tr>\n",
       "      <th id=\"T_4f75a_level0_row6\" class=\"row_heading level0 row6\" >75%</th>\n",
       "      <td id=\"T_4f75a_row6_col0\" class=\"data row6 col0\" >0.67</td>\n",
       "      <td id=\"T_4f75a_row6_col1\" class=\"data row6 col1\" >0.57</td>\n",
       "      <td id=\"T_4f75a_row6_col2\" class=\"data row6 col2\" >0.76</td>\n",
       "      <td id=\"T_4f75a_row6_col3\" class=\"data row6 col3\" >0.79</td>\n",
       "    </tr>\n",
       "    <tr>\n",
       "      <th id=\"T_4f75a_level0_row7\" class=\"row_heading level0 row7\" >max</th>\n",
       "      <td id=\"T_4f75a_row7_col0\" class=\"data row7 col0\" >2.49</td>\n",
       "      <td id=\"T_4f75a_row7_col1\" class=\"data row7 col1\" >3.11</td>\n",
       "      <td id=\"T_4f75a_row7_col2\" class=\"data row7 col2\" >1.79</td>\n",
       "      <td id=\"T_4f75a_row7_col3\" class=\"data row7 col3\" >1.71</td>\n",
       "    </tr>\n",
       "  </tbody>\n",
       "</table>\n"
      ],
      "text/plain": [
       "<pandas.io.formats.style.Styler at 0x7f4060495180>"
      ]
     },
     "metadata": {},
     "output_type": "display_data"
    }
   ],
   "source": [
    "from sklearn import preprocessing\n",
    "scaler = preprocessing.StandardScaler()\n",
    "\n",
    "features=dfi[['sepal_length','sepal_width','petal_length','petal_width']]\n",
    "y=dfi.drop(features.columns, axis=1)\n",
    "yohe=y.drop('species',axis=1)\n",
    "\n",
    "scaler.fit(features.values)\n",
    "featuresS = scaler.transform(features.values) #returns a numpy array\n",
    "#conversion into a dataframe just for display and plotting purpose\n",
    "featuresSDF = pd.DataFrame(featuresS, columns=features.columns, index=features.index)\n",
    "\n",
    "display(featuresSDF.describe().style.format(\"{0:.2f}\").set_caption(\"features after standardization\"))"
   ]
  },
  {
   "cell_type": "markdown",
   "id": "0f54fb09-16f8-4e1a-b4e4-1f9101498ace",
   "metadata": {},
   "source": [
    "##### PCA: reduction of 4 features to the number principal components (PC) that contain 96% of the information"
   ]
  },
  {
   "cell_type": "code",
   "execution_count": 35,
   "id": "d003d534-64b0-41c8-913d-8cf5a61c8b54",
   "metadata": {},
   "outputs": [
    {
     "name": "stdout",
     "output_type": "stream",
     "text": [
      "Number of components that contain 96.0% of the information: 3\n",
      "Shape before PCA:  (150, 4)\n",
      "Shape after PCA:  (150, 3)\n"
     ]
    },
    {
     "data": {
      "text/html": [
       "<div>\n",
       "<style scoped>\n",
       "    .dataframe tbody tr th:only-of-type {\n",
       "        vertical-align: middle;\n",
       "    }\n",
       "\n",
       "    .dataframe tbody tr th {\n",
       "        vertical-align: top;\n",
       "    }\n",
       "\n",
       "    .dataframe thead th {\n",
       "        text-align: right;\n",
       "    }\n",
       "</style>\n",
       "<table border=\"1\" class=\"dataframe\">\n",
       "  <thead>\n",
       "    <tr style=\"text-align: right;\">\n",
       "      <th></th>\n",
       "      <th>PC1</th>\n",
       "      <th>PC2</th>\n",
       "      <th>PC3</th>\n",
       "      <th>species</th>\n",
       "      <th>setosa</th>\n",
       "      <th>versicolor</th>\n",
       "      <th>virginica</th>\n",
       "    </tr>\n",
       "  </thead>\n",
       "  <tbody>\n",
       "    <tr>\n",
       "      <th>0</th>\n",
       "      <td>-2.264542</td>\n",
       "      <td>0.505704</td>\n",
       "      <td>-0.121943</td>\n",
       "      <td>setosa</td>\n",
       "      <td>1.0</td>\n",
       "      <td>0.0</td>\n",
       "      <td>0.0</td>\n",
       "    </tr>\n",
       "    <tr>\n",
       "      <th>1</th>\n",
       "      <td>-2.086426</td>\n",
       "      <td>-0.655405</td>\n",
       "      <td>-0.227251</td>\n",
       "      <td>setosa</td>\n",
       "      <td>1.0</td>\n",
       "      <td>0.0</td>\n",
       "      <td>0.0</td>\n",
       "    </tr>\n",
       "    <tr>\n",
       "      <th>2</th>\n",
       "      <td>-2.367950</td>\n",
       "      <td>-0.318477</td>\n",
       "      <td>0.051480</td>\n",
       "      <td>setosa</td>\n",
       "      <td>1.0</td>\n",
       "      <td>0.0</td>\n",
       "      <td>0.0</td>\n",
       "    </tr>\n",
       "    <tr>\n",
       "      <th>3</th>\n",
       "      <td>-2.304197</td>\n",
       "      <td>-0.575368</td>\n",
       "      <td>0.098860</td>\n",
       "      <td>setosa</td>\n",
       "      <td>1.0</td>\n",
       "      <td>0.0</td>\n",
       "      <td>0.0</td>\n",
       "    </tr>\n",
       "    <tr>\n",
       "      <th>4</th>\n",
       "      <td>-2.388777</td>\n",
       "      <td>0.674767</td>\n",
       "      <td>0.021428</td>\n",
       "      <td>setosa</td>\n",
       "      <td>1.0</td>\n",
       "      <td>0.0</td>\n",
       "      <td>0.0</td>\n",
       "    </tr>\n",
       "    <tr>\n",
       "      <th>...</th>\n",
       "      <td>...</td>\n",
       "      <td>...</td>\n",
       "      <td>...</td>\n",
       "      <td>...</td>\n",
       "      <td>...</td>\n",
       "      <td>...</td>\n",
       "      <td>...</td>\n",
       "    </tr>\n",
       "    <tr>\n",
       "      <th>145</th>\n",
       "      <td>1.870522</td>\n",
       "      <td>0.382822</td>\n",
       "      <td>0.254532</td>\n",
       "      <td>virginica</td>\n",
       "      <td>0.0</td>\n",
       "      <td>0.0</td>\n",
       "      <td>1.0</td>\n",
       "    </tr>\n",
       "    <tr>\n",
       "      <th>146</th>\n",
       "      <td>1.558492</td>\n",
       "      <td>-0.905314</td>\n",
       "      <td>-0.025382</td>\n",
       "      <td>virginica</td>\n",
       "      <td>0.0</td>\n",
       "      <td>0.0</td>\n",
       "      <td>1.0</td>\n",
       "    </tr>\n",
       "    <tr>\n",
       "      <th>147</th>\n",
       "      <td>1.520845</td>\n",
       "      <td>0.266795</td>\n",
       "      <td>0.179277</td>\n",
       "      <td>virginica</td>\n",
       "      <td>0.0</td>\n",
       "      <td>0.0</td>\n",
       "      <td>1.0</td>\n",
       "    </tr>\n",
       "    <tr>\n",
       "      <th>148</th>\n",
       "      <td>1.376391</td>\n",
       "      <td>1.016362</td>\n",
       "      <td>0.931405</td>\n",
       "      <td>virginica</td>\n",
       "      <td>0.0</td>\n",
       "      <td>0.0</td>\n",
       "      <td>1.0</td>\n",
       "    </tr>\n",
       "    <tr>\n",
       "      <th>149</th>\n",
       "      <td>0.959299</td>\n",
       "      <td>-0.022284</td>\n",
       "      <td>0.528794</td>\n",
       "      <td>virginica</td>\n",
       "      <td>0.0</td>\n",
       "      <td>0.0</td>\n",
       "      <td>1.0</td>\n",
       "    </tr>\n",
       "  </tbody>\n",
       "</table>\n",
       "<p>150 rows × 7 columns</p>\n",
       "</div>"
      ],
      "text/plain": [
       "          PC1       PC2       PC3    species  setosa  versicolor  virginica\n",
       "0   -2.264542  0.505704 -0.121943     setosa     1.0         0.0        0.0\n",
       "1   -2.086426 -0.655405 -0.227251     setosa     1.0         0.0        0.0\n",
       "2   -2.367950 -0.318477  0.051480     setosa     1.0         0.0        0.0\n",
       "3   -2.304197 -0.575368  0.098860     setosa     1.0         0.0        0.0\n",
       "4   -2.388777  0.674767  0.021428     setosa     1.0         0.0        0.0\n",
       "..        ...       ...       ...        ...     ...         ...        ...\n",
       "145  1.870522  0.382822  0.254532  virginica     0.0         0.0        1.0\n",
       "146  1.558492 -0.905314 -0.025382  virginica     0.0         0.0        1.0\n",
       "147  1.520845  0.266795  0.179277  virginica     0.0         0.0        1.0\n",
       "148  1.376391  1.016362  0.931405  virginica     0.0         0.0        1.0\n",
       "149  0.959299 -0.022284  0.528794  virginica     0.0         0.0        1.0\n",
       "\n",
       "[150 rows x 7 columns]"
      ]
     },
     "metadata": {},
     "output_type": "display_data"
    },
    {
     "data": {
      "text/html": [
       "<style type=\"text/css\">\n",
       "</style>\n",
       "<table id=\"T_c3e93\">\n",
       "  <caption>Principal Components</caption>\n",
       "  <thead>\n",
       "    <tr>\n",
       "      <th class=\"blank level0\" >&nbsp;</th>\n",
       "      <th id=\"T_c3e93_level0_col0\" class=\"col_heading level0 col0\" >PC1</th>\n",
       "      <th id=\"T_c3e93_level0_col1\" class=\"col_heading level0 col1\" >PC2</th>\n",
       "      <th id=\"T_c3e93_level0_col2\" class=\"col_heading level0 col2\" >PC3</th>\n",
       "      <th id=\"T_c3e93_level0_col3\" class=\"col_heading level0 col3\" >setosa</th>\n",
       "      <th id=\"T_c3e93_level0_col4\" class=\"col_heading level0 col4\" >versicolor</th>\n",
       "      <th id=\"T_c3e93_level0_col5\" class=\"col_heading level0 col5\" >virginica</th>\n",
       "    </tr>\n",
       "  </thead>\n",
       "  <tbody>\n",
       "    <tr>\n",
       "      <th id=\"T_c3e93_level0_row0\" class=\"row_heading level0 row0\" >count</th>\n",
       "      <td id=\"T_c3e93_row0_col0\" class=\"data row0 col0\" >150.00</td>\n",
       "      <td id=\"T_c3e93_row0_col1\" class=\"data row0 col1\" >150.00</td>\n",
       "      <td id=\"T_c3e93_row0_col2\" class=\"data row0 col2\" >150.00</td>\n",
       "      <td id=\"T_c3e93_row0_col3\" class=\"data row0 col3\" >150.00</td>\n",
       "      <td id=\"T_c3e93_row0_col4\" class=\"data row0 col4\" >150.00</td>\n",
       "      <td id=\"T_c3e93_row0_col5\" class=\"data row0 col5\" >150.00</td>\n",
       "    </tr>\n",
       "    <tr>\n",
       "      <th id=\"T_c3e93_level0_row1\" class=\"row_heading level0 row1\" >mean</th>\n",
       "      <td id=\"T_c3e93_row1_col0\" class=\"data row1 col0\" >0.00</td>\n",
       "      <td id=\"T_c3e93_row1_col1\" class=\"data row1 col1\" >0.00</td>\n",
       "      <td id=\"T_c3e93_row1_col2\" class=\"data row1 col2\" >0.00</td>\n",
       "      <td id=\"T_c3e93_row1_col3\" class=\"data row1 col3\" >0.33</td>\n",
       "      <td id=\"T_c3e93_row1_col4\" class=\"data row1 col4\" >0.33</td>\n",
       "      <td id=\"T_c3e93_row1_col5\" class=\"data row1 col5\" >0.33</td>\n",
       "    </tr>\n",
       "    <tr>\n",
       "      <th id=\"T_c3e93_level0_row2\" class=\"row_heading level0 row2\" >std</th>\n",
       "      <td id=\"T_c3e93_row2_col0\" class=\"data row2 col0\" >1.71</td>\n",
       "      <td id=\"T_c3e93_row2_col1\" class=\"data row2 col1\" >0.96</td>\n",
       "      <td id=\"T_c3e93_row2_col2\" class=\"data row2 col2\" >0.39</td>\n",
       "      <td id=\"T_c3e93_row2_col3\" class=\"data row2 col3\" >0.47</td>\n",
       "      <td id=\"T_c3e93_row2_col4\" class=\"data row2 col4\" >0.47</td>\n",
       "      <td id=\"T_c3e93_row2_col5\" class=\"data row2 col5\" >0.47</td>\n",
       "    </tr>\n",
       "    <tr>\n",
       "      <th id=\"T_c3e93_level0_row3\" class=\"row_heading level0 row3\" >min</th>\n",
       "      <td id=\"T_c3e93_row3_col0\" class=\"data row3 col0\" >-2.77</td>\n",
       "      <td id=\"T_c3e93_row3_col1\" class=\"data row3 col1\" >-2.66</td>\n",
       "      <td id=\"T_c3e93_row3_col2\" class=\"data row3 col2\" >-0.86</td>\n",
       "      <td id=\"T_c3e93_row3_col3\" class=\"data row3 col3\" >0.00</td>\n",
       "      <td id=\"T_c3e93_row3_col4\" class=\"data row3 col4\" >0.00</td>\n",
       "      <td id=\"T_c3e93_row3_col5\" class=\"data row3 col5\" >0.00</td>\n",
       "    </tr>\n",
       "    <tr>\n",
       "      <th id=\"T_c3e93_level0_row4\" class=\"row_heading level0 row4\" >25%</th>\n",
       "      <td id=\"T_c3e93_row4_col0\" class=\"data row4 col0\" >-2.12</td>\n",
       "      <td id=\"T_c3e93_row4_col1\" class=\"data row4 col1\" >-0.59</td>\n",
       "      <td id=\"T_c3e93_row4_col2\" class=\"data row4 col2\" >-0.26</td>\n",
       "      <td id=\"T_c3e93_row4_col3\" class=\"data row4 col3\" >0.00</td>\n",
       "      <td id=\"T_c3e93_row4_col4\" class=\"data row4 col4\" >0.00</td>\n",
       "      <td id=\"T_c3e93_row4_col5\" class=\"data row4 col5\" >0.00</td>\n",
       "    </tr>\n",
       "    <tr>\n",
       "      <th id=\"T_c3e93_level0_row5\" class=\"row_heading level0 row5\" >50%</th>\n",
       "      <td id=\"T_c3e93_row5_col0\" class=\"data row5 col0\" >0.41</td>\n",
       "      <td id=\"T_c3e93_row5_col1\" class=\"data row5 col1\" >0.01</td>\n",
       "      <td id=\"T_c3e93_row5_col2\" class=\"data row5 col2\" >0.02</td>\n",
       "      <td id=\"T_c3e93_row5_col3\" class=\"data row5 col3\" >0.00</td>\n",
       "      <td id=\"T_c3e93_row5_col4\" class=\"data row5 col4\" >0.00</td>\n",
       "      <td id=\"T_c3e93_row5_col5\" class=\"data row5 col5\" >0.00</td>\n",
       "    </tr>\n",
       "    <tr>\n",
       "      <th id=\"T_c3e93_level0_row6\" class=\"row_heading level0 row6\" >75%</th>\n",
       "      <td id=\"T_c3e93_row6_col0\" class=\"data row6 col0\" >1.34</td>\n",
       "      <td id=\"T_c3e93_row6_col1\" class=\"data row6 col1\" >0.59</td>\n",
       "      <td id=\"T_c3e93_row6_col2\" class=\"data row6 col2\" >0.20</td>\n",
       "      <td id=\"T_c3e93_row6_col3\" class=\"data row6 col3\" >1.00</td>\n",
       "      <td id=\"T_c3e93_row6_col4\" class=\"data row6 col4\" >1.00</td>\n",
       "      <td id=\"T_c3e93_row6_col5\" class=\"data row6 col5\" >1.00</td>\n",
       "    </tr>\n",
       "    <tr>\n",
       "      <th id=\"T_c3e93_level0_row7\" class=\"row_heading level0 row7\" >max</th>\n",
       "      <td id=\"T_c3e93_row7_col0\" class=\"data row7 col0\" >3.31</td>\n",
       "      <td id=\"T_c3e93_row7_col1\" class=\"data row7 col1\" >2.72</td>\n",
       "      <td id=\"T_c3e93_row7_col2\" class=\"data row7 col2\" >1.00</td>\n",
       "      <td id=\"T_c3e93_row7_col3\" class=\"data row7 col3\" >1.00</td>\n",
       "      <td id=\"T_c3e93_row7_col4\" class=\"data row7 col4\" >1.00</td>\n",
       "      <td id=\"T_c3e93_row7_col5\" class=\"data row7 col5\" >1.00</td>\n",
       "    </tr>\n",
       "  </tbody>\n",
       "</table>\n"
      ],
      "text/plain": [
       "<pandas.io.formats.style.Styler at 0x7f40582330a0>"
      ]
     },
     "metadata": {},
     "output_type": "display_data"
    },
    {
     "name": "stdout",
     "output_type": "stream",
     "text": [
      "explained variance ratio: [0.72770452 0.23030523 0.03683832]\n",
      "sum of the first two components: 95.80%\n"
     ]
    }
   ],
   "source": [
    "pcPCA=0.96\n",
    "pca = PCA(pcPCA)\n",
    "\n",
    "featuresSPCA = pca.fit_transform(featuresS)\n",
    "print(f\"Number of components that contain {pcPCA*100:.1f}% of the information: {pca.n_components_}\")\n",
    "print('Shape before PCA: ', featuresS.shape)\n",
    "print('Shape after PCA: ', featuresSPCA.shape)\n",
    "\n",
    "PC=[]\n",
    "PC = [f\"PC{i}\" for i in range(1, pca.n_components_+1)]\n",
    " \n",
    "pca_df = pd.DataFrame(data=featuresSPCA,columns=PC, index=dfi.index)\n",
    "pca_df = pd.concat([pca_df,y],axis=1)\n",
    "display(pca_df)\n",
    "display(pca_df.describe().style.format(\"{0:.2f}\").set_caption(\"Principal Components\"))\n",
    "\n",
    "print(f\"explained variance ratio: {pca.explained_variance_ratio_}\")\n",
    "print(f\"sum of the first two components: {(pca.explained_variance_ratio_[0]+pca.explained_variance_ratio_[1])*100:.2f}%\")\n"
   ]
  },
  {
   "cell_type": "markdown",
   "id": "7009f7d5-0019-464f-ad57-52f150b9a3c2",
   "metadata": {},
   "source": [
    "#### 4.2.c. ML"
   ]
  },
  {
   "cell_type": "markdown",
   "id": "a2442697-ad36-4c8d-9a39-886f350a3351",
   "metadata": {},
   "source": [
    "##### Creation of the training and validation sets"
   ]
  },
  {
   "cell_type": "code",
   "execution_count": 36,
   "id": "63d947c6-91a0-401d-9d7c-4b6244df362b",
   "metadata": {},
   "outputs": [
    {
     "name": "stdout",
     "output_type": "stream",
     "text": [
      "x_train :  (120, 3)\n"
     ]
    },
    {
     "data": {
      "text/html": [
       "<div>\n",
       "<style scoped>\n",
       "    .dataframe tbody tr th:only-of-type {\n",
       "        vertical-align: middle;\n",
       "    }\n",
       "\n",
       "    .dataframe tbody tr th {\n",
       "        vertical-align: top;\n",
       "    }\n",
       "\n",
       "    .dataframe thead th {\n",
       "        text-align: right;\n",
       "    }\n",
       "</style>\n",
       "<table border=\"1\" class=\"dataframe\">\n",
       "  <thead>\n",
       "    <tr style=\"text-align: right;\">\n",
       "      <th></th>\n",
       "      <th>PC1</th>\n",
       "      <th>PC2</th>\n",
       "      <th>PC3</th>\n",
       "    </tr>\n",
       "  </thead>\n",
       "  <tbody>\n",
       "    <tr>\n",
       "      <th>149</th>\n",
       "      <td>0.959299</td>\n",
       "      <td>-0.022284</td>\n",
       "      <td>0.528794</td>\n",
       "    </tr>\n",
       "    <tr>\n",
       "      <th>72</th>\n",
       "      <td>1.227988</td>\n",
       "      <td>-0.940915</td>\n",
       "      <td>-0.366705</td>\n",
       "    </tr>\n",
       "    <tr>\n",
       "      <th>90</th>\n",
       "      <td>0.272335</td>\n",
       "      <td>-1.119442</td>\n",
       "      <td>0.098172</td>\n",
       "    </tr>\n",
       "    <tr>\n",
       "      <th>106</th>\n",
       "      <td>0.358374</td>\n",
       "      <td>-1.560095</td>\n",
       "      <td>0.991000</td>\n",
       "    </tr>\n",
       "    <tr>\n",
       "      <th>61</th>\n",
       "      <td>0.438730</td>\n",
       "      <td>-0.058881</td>\n",
       "      <td>0.206703</td>\n",
       "    </tr>\n",
       "    <tr>\n",
       "      <th>...</th>\n",
       "      <td>...</td>\n",
       "      <td>...</td>\n",
       "      <td>...</td>\n",
       "    </tr>\n",
       "    <tr>\n",
       "      <th>38</th>\n",
       "      <td>-2.435952</td>\n",
       "      <td>-0.882169</td>\n",
       "      <td>0.201558</td>\n",
       "    </tr>\n",
       "    <tr>\n",
       "      <th>70</th>\n",
       "      <td>0.738256</td>\n",
       "      <td>0.402470</td>\n",
       "      <td>0.616773</td>\n",
       "    </tr>\n",
       "    <tr>\n",
       "      <th>123</th>\n",
       "      <td>1.329194</td>\n",
       "      <td>-0.486761</td>\n",
       "      <td>-0.004707</td>\n",
       "    </tr>\n",
       "    <tr>\n",
       "      <th>116</th>\n",
       "      <td>1.471280</td>\n",
       "      <td>0.253192</td>\n",
       "      <td>0.036658</td>\n",
       "    </tr>\n",
       "    <tr>\n",
       "      <th>28</th>\n",
       "      <td>-2.140306</td>\n",
       "      <td>0.336640</td>\n",
       "      <td>-0.265315</td>\n",
       "    </tr>\n",
       "  </tbody>\n",
       "</table>\n",
       "<p>120 rows × 3 columns</p>\n",
       "</div>"
      ],
      "text/plain": [
       "          PC1       PC2       PC3\n",
       "149  0.959299 -0.022284  0.528794\n",
       "72   1.227988 -0.940915 -0.366705\n",
       "90   0.272335 -1.119442  0.098172\n",
       "106  0.358374 -1.560095  0.991000\n",
       "61   0.438730 -0.058881  0.206703\n",
       "..        ...       ...       ...\n",
       "38  -2.435952 -0.882169  0.201558\n",
       "70   0.738256  0.402470  0.616773\n",
       "123  1.329194 -0.486761 -0.004707\n",
       "116  1.471280  0.253192  0.036658\n",
       "28  -2.140306  0.336640 -0.265315\n",
       "\n",
       "[120 rows x 3 columns]"
      ]
     },
     "metadata": {},
     "output_type": "display_data"
    },
    {
     "name": "stdout",
     "output_type": "stream",
     "text": [
      "y_train :  (120, 3) y_train_species :  (120, 1)\n"
     ]
    },
    {
     "data": {
      "text/html": [
       "<div>\n",
       "<style scoped>\n",
       "    .dataframe tbody tr th:only-of-type {\n",
       "        vertical-align: middle;\n",
       "    }\n",
       "\n",
       "    .dataframe tbody tr th {\n",
       "        vertical-align: top;\n",
       "    }\n",
       "\n",
       "    .dataframe thead th {\n",
       "        text-align: right;\n",
       "    }\n",
       "</style>\n",
       "<table border=\"1\" class=\"dataframe\">\n",
       "  <thead>\n",
       "    <tr style=\"text-align: right;\">\n",
       "      <th></th>\n",
       "      <th>setosa</th>\n",
       "      <th>versicolor</th>\n",
       "      <th>virginica</th>\n",
       "    </tr>\n",
       "  </thead>\n",
       "  <tbody>\n",
       "    <tr>\n",
       "      <th>149</th>\n",
       "      <td>0.0</td>\n",
       "      <td>0.0</td>\n",
       "      <td>1.0</td>\n",
       "    </tr>\n",
       "    <tr>\n",
       "      <th>72</th>\n",
       "      <td>0.0</td>\n",
       "      <td>1.0</td>\n",
       "      <td>0.0</td>\n",
       "    </tr>\n",
       "    <tr>\n",
       "      <th>90</th>\n",
       "      <td>0.0</td>\n",
       "      <td>1.0</td>\n",
       "      <td>0.0</td>\n",
       "    </tr>\n",
       "    <tr>\n",
       "      <th>106</th>\n",
       "      <td>0.0</td>\n",
       "      <td>0.0</td>\n",
       "      <td>1.0</td>\n",
       "    </tr>\n",
       "    <tr>\n",
       "      <th>61</th>\n",
       "      <td>0.0</td>\n",
       "      <td>1.0</td>\n",
       "      <td>0.0</td>\n",
       "    </tr>\n",
       "    <tr>\n",
       "      <th>...</th>\n",
       "      <td>...</td>\n",
       "      <td>...</td>\n",
       "      <td>...</td>\n",
       "    </tr>\n",
       "    <tr>\n",
       "      <th>38</th>\n",
       "      <td>1.0</td>\n",
       "      <td>0.0</td>\n",
       "      <td>0.0</td>\n",
       "    </tr>\n",
       "    <tr>\n",
       "      <th>70</th>\n",
       "      <td>0.0</td>\n",
       "      <td>1.0</td>\n",
       "      <td>0.0</td>\n",
       "    </tr>\n",
       "    <tr>\n",
       "      <th>123</th>\n",
       "      <td>0.0</td>\n",
       "      <td>0.0</td>\n",
       "      <td>1.0</td>\n",
       "    </tr>\n",
       "    <tr>\n",
       "      <th>116</th>\n",
       "      <td>0.0</td>\n",
       "      <td>0.0</td>\n",
       "      <td>1.0</td>\n",
       "    </tr>\n",
       "    <tr>\n",
       "      <th>28</th>\n",
       "      <td>1.0</td>\n",
       "      <td>0.0</td>\n",
       "      <td>0.0</td>\n",
       "    </tr>\n",
       "  </tbody>\n",
       "</table>\n",
       "<p>120 rows × 3 columns</p>\n",
       "</div>"
      ],
      "text/plain": [
       "     setosa  versicolor  virginica\n",
       "149     0.0         0.0        1.0\n",
       "72      0.0         1.0        0.0\n",
       "90      0.0         1.0        0.0\n",
       "106     0.0         0.0        1.0\n",
       "61      0.0         1.0        0.0\n",
       "..      ...         ...        ...\n",
       "38      1.0         0.0        0.0\n",
       "70      0.0         1.0        0.0\n",
       "123     0.0         0.0        1.0\n",
       "116     0.0         0.0        1.0\n",
       "28      1.0         0.0        0.0\n",
       "\n",
       "[120 rows x 3 columns]"
      ]
     },
     "metadata": {},
     "output_type": "display_data"
    },
    {
     "data": {
      "text/html": [
       "<div>\n",
       "<style scoped>\n",
       "    .dataframe tbody tr th:only-of-type {\n",
       "        vertical-align: middle;\n",
       "    }\n",
       "\n",
       "    .dataframe tbody tr th {\n",
       "        vertical-align: top;\n",
       "    }\n",
       "\n",
       "    .dataframe thead th {\n",
       "        text-align: right;\n",
       "    }\n",
       "</style>\n",
       "<table border=\"1\" class=\"dataframe\">\n",
       "  <thead>\n",
       "    <tr style=\"text-align: right;\">\n",
       "      <th></th>\n",
       "      <th>species</th>\n",
       "    </tr>\n",
       "  </thead>\n",
       "  <tbody>\n",
       "    <tr>\n",
       "      <th>149</th>\n",
       "      <td>virginica</td>\n",
       "    </tr>\n",
       "    <tr>\n",
       "      <th>72</th>\n",
       "      <td>versicolor</td>\n",
       "    </tr>\n",
       "    <tr>\n",
       "      <th>90</th>\n",
       "      <td>versicolor</td>\n",
       "    </tr>\n",
       "    <tr>\n",
       "      <th>106</th>\n",
       "      <td>virginica</td>\n",
       "    </tr>\n",
       "    <tr>\n",
       "      <th>61</th>\n",
       "      <td>versicolor</td>\n",
       "    </tr>\n",
       "    <tr>\n",
       "      <th>...</th>\n",
       "      <td>...</td>\n",
       "    </tr>\n",
       "    <tr>\n",
       "      <th>38</th>\n",
       "      <td>setosa</td>\n",
       "    </tr>\n",
       "    <tr>\n",
       "      <th>70</th>\n",
       "      <td>versicolor</td>\n",
       "    </tr>\n",
       "    <tr>\n",
       "      <th>123</th>\n",
       "      <td>virginica</td>\n",
       "    </tr>\n",
       "    <tr>\n",
       "      <th>116</th>\n",
       "      <td>virginica</td>\n",
       "    </tr>\n",
       "    <tr>\n",
       "      <th>28</th>\n",
       "      <td>setosa</td>\n",
       "    </tr>\n",
       "  </tbody>\n",
       "</table>\n",
       "<p>120 rows × 1 columns</p>\n",
       "</div>"
      ],
      "text/plain": [
       "        species\n",
       "149   virginica\n",
       "72   versicolor\n",
       "90   versicolor\n",
       "106   virginica\n",
       "61   versicolor\n",
       "..          ...\n",
       "38       setosa\n",
       "70   versicolor\n",
       "123   virginica\n",
       "116   virginica\n",
       "28       setosa\n",
       "\n",
       "[120 rows x 1 columns]"
      ]
     },
     "metadata": {},
     "output_type": "display_data"
    }
   ],
   "source": [
    "data_train = pca_df.sample(frac=0.8, axis='index') # on sélectionne au hasard 80% de l'échantillon\n",
    "data_valid  = pca_df.drop(data_train.index) # on sélectionne le reste\n",
    "\n",
    "x_train = data_train[PC]\n",
    "y_train = data_train[['setosa','versicolor','virginica']]\n",
    "y_train_species = data_train[['species']] #sera utile à la fin pour comparer la prédiction et l'espèce réelle\n",
    "\n",
    "x_valid  = data_valid[PC]\n",
    "y_valid  = data_valid[['setosa','versicolor','virginica']]\n",
    "y_valid_species = data_valid[['species']] #sera utile à la fin pour comparer la prédiction et l'espèce réelle\n",
    "\n",
    "print('x_train : ',x_train.shape)\n",
    "display(x_train)\n",
    "print('y_train : ',y_train.shape,'y_train_species : ',y_train_species.shape)\n",
    "display(y_train, y_train_species)"
   ]
  },
  {
   "cell_type": "markdown",
   "id": "df1cc076-8839-498f-98e5-a4c1282e0bc7",
   "metadata": {},
   "source": [
    "##### Definition of the ANN model"
   ]
  },
  {
   "cell_type": "code",
   "execution_count": 37,
   "id": "4b3e2add-d5de-4000-9356-b41c64d3bd95",
   "metadata": {},
   "outputs": [],
   "source": [
    "def get_model(NI): #NI = number of input neurons\n",
    "    \n",
    "    model = keras.models.Sequential()\n",
    "    model.add(keras.layers.Input(NI, name='iLayer'))\n",
    "    model.add(keras.layers.Dense(7, activation='relu', name='hLayer1'))\n",
    "    model.add(keras.layers.Dense(5, activation='relu', name='hLayer2'))\n",
    "    model.add(keras.layers.Dense(3, activation='softmax', name='oLayer'))\n",
    "    \n",
    "    model.compile(optimizer = 'adam',\n",
    "                  loss      = 'categorical_crossentropy',\n",
    "                  metrics   = ['accuracy'] )\n",
    "    return model"
   ]
  },
  {
   "cell_type": "markdown",
   "id": "241899c9-e8ac-46dd-b5ad-4bf5489f9e29",
   "metadata": {},
   "source": [
    "##### Training of the model"
   ]
  },
  {
   "cell_type": "code",
   "execution_count": 38,
   "id": "01c2bf57-d263-4255-ab4f-982fa733a346",
   "metadata": {},
   "outputs": [
    {
     "name": "stdout",
     "output_type": "stream",
     "text": [
      "x_train. Structure (shape) : (120, 3)\n",
      "x_valid. Structure (shape) : (30, 3)\n",
      "y_train. Structure (shape) : (120, 3)\n",
      "y_valid. Structure (shape) : (30, 3)\n",
      "Model: \"sequential_1\"\n",
      "_________________________________________________________________\n",
      " Layer (type)                Output Shape              Param #   \n",
      "=================================================================\n",
      " hLayer1 (Dense)             (None, 7)                 28        \n",
      "                                                                 \n",
      " hLayer2 (Dense)             (None, 5)                 40        \n",
      "                                                                 \n",
      " oLayer (Dense)              (None, 3)                 18        \n",
      "                                                                 \n",
      "=================================================================\n",
      "Total params: 86\n",
      "Trainable params: 86\n",
      "Non-trainable params: 0\n",
      "_________________________________________________________________\n",
      "Epoch 1/700\n",
      "24/24 [==============================] - 1s 10ms/step - loss: 1.0560 - accuracy: 0.5083 - val_loss: 0.9628 - val_accuracy: 0.5333\n",
      "Epoch 2/700\n",
      "24/24 [==============================] - 0s 3ms/step - loss: 1.0349 - accuracy: 0.5750 - val_loss: 0.9370 - val_accuracy: 0.5667\n",
      "Epoch 3/700\n",
      "24/24 [==============================] - 0s 3ms/step - loss: 1.0136 - accuracy: 0.5917 - val_loss: 0.9109 - val_accuracy: 0.6333\n",
      "Epoch 4/700\n",
      "24/24 [==============================] - 0s 3ms/step - loss: 0.9887 - accuracy: 0.6250 - val_loss: 0.8839 - val_accuracy: 0.7000\n",
      "Epoch 5/700\n",
      "24/24 [==============================] - 0s 3ms/step - loss: 0.9565 - accuracy: 0.6417 - val_loss: 0.8483 - val_accuracy: 0.7000\n",
      "Epoch 6/700\n",
      "24/24 [==============================] - 0s 3ms/step - loss: 0.9144 - accuracy: 0.6917 - val_loss: 0.7997 - val_accuracy: 0.7667\n",
      "Epoch 7/700\n",
      "24/24 [==============================] - 0s 3ms/step - loss: 0.8616 - accuracy: 0.7167 - val_loss: 0.7432 - val_accuracy: 0.7667\n",
      "Epoch 8/700\n",
      "24/24 [==============================] - 0s 3ms/step - loss: 0.8018 - accuracy: 0.7333 - val_loss: 0.6832 - val_accuracy: 0.7667\n",
      "Epoch 9/700\n",
      "24/24 [==============================] - 0s 3ms/step - loss: 0.7417 - accuracy: 0.7417 - val_loss: 0.6255 - val_accuracy: 0.7667\n",
      "Epoch 10/700\n",
      "24/24 [==============================] - 0s 3ms/step - loss: 0.6855 - accuracy: 0.7583 - val_loss: 0.5735 - val_accuracy: 0.8333\n",
      "Epoch 11/700\n",
      "24/24 [==============================] - 0s 3ms/step - loss: 0.6341 - accuracy: 0.7833 - val_loss: 0.5287 - val_accuracy: 0.8333\n",
      "Epoch 12/700\n",
      "24/24 [==============================] - 0s 3ms/step - loss: 0.5901 - accuracy: 0.7833 - val_loss: 0.4887 - val_accuracy: 0.8333\n",
      "Epoch 13/700\n",
      "24/24 [==============================] - 0s 3ms/step - loss: 0.5499 - accuracy: 0.7917 - val_loss: 0.4556 - val_accuracy: 0.8333\n",
      "Epoch 14/700\n",
      "24/24 [==============================] - 0s 3ms/step - loss: 0.5159 - accuracy: 0.8167 - val_loss: 0.4260 - val_accuracy: 0.8333\n",
      "Epoch 15/700\n",
      "24/24 [==============================] - 0s 3ms/step - loss: 0.4857 - accuracy: 0.8167 - val_loss: 0.4004 - val_accuracy: 0.8667\n",
      "Epoch 16/700\n",
      "24/24 [==============================] - 0s 3ms/step - loss: 0.4601 - accuracy: 0.8333 - val_loss: 0.3771 - val_accuracy: 0.8667\n",
      "Epoch 17/700\n",
      "24/24 [==============================] - 0s 3ms/step - loss: 0.4373 - accuracy: 0.8333 - val_loss: 0.3571 - val_accuracy: 0.8667\n",
      "Epoch 18/700\n",
      "24/24 [==============================] - 0s 3ms/step - loss: 0.4178 - accuracy: 0.8333 - val_loss: 0.3414 - val_accuracy: 0.8667\n",
      "Epoch 19/700\n",
      "24/24 [==============================] - 0s 3ms/step - loss: 0.4020 - accuracy: 0.8500 - val_loss: 0.3257 - val_accuracy: 0.8667\n",
      "Epoch 20/700\n",
      "24/24 [==============================] - 0s 3ms/step - loss: 0.3880 - accuracy: 0.8583 - val_loss: 0.3120 - val_accuracy: 0.8667\n",
      "Epoch 21/700\n",
      "24/24 [==============================] - 0s 3ms/step - loss: 0.3750 - accuracy: 0.8583 - val_loss: 0.3023 - val_accuracy: 0.8667\n",
      "Epoch 22/700\n",
      "24/24 [==============================] - 0s 3ms/step - loss: 0.3648 - accuracy: 0.8583 - val_loss: 0.2929 - val_accuracy: 0.8667\n",
      "Epoch 23/700\n",
      "24/24 [==============================] - 0s 3ms/step - loss: 0.3546 - accuracy: 0.8583 - val_loss: 0.2850 - val_accuracy: 0.8667\n",
      "Epoch 24/700\n",
      "24/24 [==============================] - 0s 3ms/step - loss: 0.3459 - accuracy: 0.8667 - val_loss: 0.2772 - val_accuracy: 0.9000\n",
      "Epoch 25/700\n",
      "24/24 [==============================] - 0s 3ms/step - loss: 0.3373 - accuracy: 0.8667 - val_loss: 0.2687 - val_accuracy: 0.9000\n",
      "Epoch 26/700\n",
      "24/24 [==============================] - 0s 3ms/step - loss: 0.3301 - accuracy: 0.8667 - val_loss: 0.2616 - val_accuracy: 0.9000\n",
      "Epoch 27/700\n",
      "24/24 [==============================] - 0s 3ms/step - loss: 0.3233 - accuracy: 0.8667 - val_loss: 0.2561 - val_accuracy: 0.9000\n",
      "Epoch 28/700\n",
      "24/24 [==============================] - 0s 3ms/step - loss: 0.3166 - accuracy: 0.8667 - val_loss: 0.2508 - val_accuracy: 0.9000\n",
      "Epoch 29/700\n",
      "24/24 [==============================] - 0s 3ms/step - loss: 0.3098 - accuracy: 0.8750 - val_loss: 0.2457 - val_accuracy: 0.9000\n",
      "Epoch 30/700\n",
      "24/24 [==============================] - 0s 3ms/step - loss: 0.3037 - accuracy: 0.8750 - val_loss: 0.2418 - val_accuracy: 0.9000\n",
      "Epoch 31/700\n",
      "24/24 [==============================] - 0s 3ms/step - loss: 0.2975 - accuracy: 0.8667 - val_loss: 0.2367 - val_accuracy: 0.9000\n",
      "Epoch 32/700\n",
      "24/24 [==============================] - 0s 3ms/step - loss: 0.2921 - accuracy: 0.8833 - val_loss: 0.2292 - val_accuracy: 0.9000\n",
      "Epoch 33/700\n",
      "24/24 [==============================] - 0s 3ms/step - loss: 0.2856 - accuracy: 0.8917 - val_loss: 0.2257 - val_accuracy: 0.9000\n",
      "Epoch 34/700\n",
      "24/24 [==============================] - 0s 3ms/step - loss: 0.2812 - accuracy: 0.8917 - val_loss: 0.2210 - val_accuracy: 0.9000\n",
      "Epoch 35/700\n",
      "24/24 [==============================] - 0s 3ms/step - loss: 0.2747 - accuracy: 0.9083 - val_loss: 0.2173 - val_accuracy: 0.9000\n",
      "Epoch 36/700\n",
      "24/24 [==============================] - 0s 3ms/step - loss: 0.2700 - accuracy: 0.9000 - val_loss: 0.2122 - val_accuracy: 0.9000\n",
      "Epoch 37/700\n",
      "24/24 [==============================] - 0s 3ms/step - loss: 0.2642 - accuracy: 0.9000 - val_loss: 0.2082 - val_accuracy: 0.9000\n",
      "Epoch 38/700\n",
      "24/24 [==============================] - 0s 3ms/step - loss: 0.2574 - accuracy: 0.9000 - val_loss: 0.2042 - val_accuracy: 0.9000\n",
      "Epoch 39/700\n",
      "24/24 [==============================] - 0s 3ms/step - loss: 0.2516 - accuracy: 0.9000 - val_loss: 0.2011 - val_accuracy: 0.9000\n",
      "Epoch 40/700\n",
      "24/24 [==============================] - 0s 3ms/step - loss: 0.2463 - accuracy: 0.9167 - val_loss: 0.1922 - val_accuracy: 0.9000\n",
      "Epoch 41/700\n",
      "24/24 [==============================] - 0s 5ms/step - loss: 0.2397 - accuracy: 0.9167 - val_loss: 0.1920 - val_accuracy: 0.9000\n",
      "Epoch 42/700\n",
      "24/24 [==============================] - 0s 3ms/step - loss: 0.2333 - accuracy: 0.9250 - val_loss: 0.1859 - val_accuracy: 0.9000\n",
      "Epoch 43/700\n",
      "24/24 [==============================] - 0s 3ms/step - loss: 0.2288 - accuracy: 0.9250 - val_loss: 0.1852 - val_accuracy: 0.9000\n",
      "Epoch 44/700\n",
      "24/24 [==============================] - 0s 3ms/step - loss: 0.2207 - accuracy: 0.9250 - val_loss: 0.1785 - val_accuracy: 0.9333\n",
      "Epoch 45/700\n",
      "24/24 [==============================] - 0s 3ms/step - loss: 0.2148 - accuracy: 0.9250 - val_loss: 0.1726 - val_accuracy: 0.9333\n",
      "Epoch 46/700\n",
      "24/24 [==============================] - 0s 4ms/step - loss: 0.2100 - accuracy: 0.9250 - val_loss: 0.1644 - val_accuracy: 0.9333\n",
      "Epoch 47/700\n",
      "24/24 [==============================] - 0s 3ms/step - loss: 0.2030 - accuracy: 0.9333 - val_loss: 0.1653 - val_accuracy: 0.9333\n",
      "Epoch 48/700\n",
      "24/24 [==============================] - 0s 3ms/step - loss: 0.1961 - accuracy: 0.9333 - val_loss: 0.1604 - val_accuracy: 0.9333\n",
      "Epoch 49/700\n",
      "24/24 [==============================] - 0s 3ms/step - loss: 0.1893 - accuracy: 0.9333 - val_loss: 0.1555 - val_accuracy: 0.9333\n",
      "Epoch 50/700\n",
      "24/24 [==============================] - 0s 3ms/step - loss: 0.1825 - accuracy: 0.9500 - val_loss: 0.1517 - val_accuracy: 0.9333\n",
      "Epoch 51/700\n",
      "24/24 [==============================] - 0s 3ms/step - loss: 0.1763 - accuracy: 0.9500 - val_loss: 0.1476 - val_accuracy: 0.9333\n",
      "Epoch 52/700\n",
      "24/24 [==============================] - 0s 3ms/step - loss: 0.1697 - accuracy: 0.9500 - val_loss: 0.1423 - val_accuracy: 0.9333\n",
      "Epoch 53/700\n",
      "24/24 [==============================] - 0s 3ms/step - loss: 0.1635 - accuracy: 0.9667 - val_loss: 0.1383 - val_accuracy: 0.9333\n",
      "Epoch 54/700\n",
      "24/24 [==============================] - 0s 3ms/step - loss: 0.1573 - accuracy: 0.9667 - val_loss: 0.1318 - val_accuracy: 0.9333\n",
      "Epoch 55/700\n",
      "24/24 [==============================] - 0s 3ms/step - loss: 0.1509 - accuracy: 0.9667 - val_loss: 0.1302 - val_accuracy: 0.9333\n",
      "Epoch 56/700\n",
      "24/24 [==============================] - 0s 4ms/step - loss: 0.1458 - accuracy: 0.9667 - val_loss: 0.1254 - val_accuracy: 0.9667\n",
      "Epoch 57/700\n",
      "24/24 [==============================] - 0s 4ms/step - loss: 0.1398 - accuracy: 0.9750 - val_loss: 0.1193 - val_accuracy: 0.9667\n",
      "Epoch 58/700\n",
      "24/24 [==============================] - 0s 3ms/step - loss: 0.1346 - accuracy: 0.9750 - val_loss: 0.1136 - val_accuracy: 0.9667\n",
      "Epoch 59/700\n",
      "24/24 [==============================] - 0s 3ms/step - loss: 0.1294 - accuracy: 0.9750 - val_loss: 0.1130 - val_accuracy: 0.9667\n",
      "Epoch 60/700\n",
      "24/24 [==============================] - 0s 3ms/step - loss: 0.1257 - accuracy: 0.9750 - val_loss: 0.1045 - val_accuracy: 0.9667\n",
      "Epoch 61/700\n",
      "24/24 [==============================] - 0s 3ms/step - loss: 0.1194 - accuracy: 0.9750 - val_loss: 0.1074 - val_accuracy: 0.9667\n",
      "Epoch 62/700\n",
      "24/24 [==============================] - 0s 3ms/step - loss: 0.1145 - accuracy: 0.9750 - val_loss: 0.1051 - val_accuracy: 0.9667\n",
      "Epoch 63/700\n",
      "24/24 [==============================] - 0s 3ms/step - loss: 0.1105 - accuracy: 0.9750 - val_loss: 0.0941 - val_accuracy: 0.9667\n",
      "Epoch 64/700\n",
      "24/24 [==============================] - 0s 3ms/step - loss: 0.1057 - accuracy: 0.9833 - val_loss: 0.0924 - val_accuracy: 0.9667\n",
      "Epoch 65/700\n",
      "24/24 [==============================] - 0s 3ms/step - loss: 0.1018 - accuracy: 0.9833 - val_loss: 0.0922 - val_accuracy: 0.9667\n",
      "Epoch 66/700\n",
      "24/24 [==============================] - 0s 3ms/step - loss: 0.0979 - accuracy: 0.9833 - val_loss: 0.0869 - val_accuracy: 0.9667\n",
      "Epoch 67/700\n",
      "24/24 [==============================] - 0s 3ms/step - loss: 0.0953 - accuracy: 0.9833 - val_loss: 0.0826 - val_accuracy: 0.9667\n",
      "Epoch 68/700\n",
      "24/24 [==============================] - 0s 3ms/step - loss: 0.0923 - accuracy: 0.9833 - val_loss: 0.0856 - val_accuracy: 0.9667\n",
      "Epoch 69/700\n",
      "24/24 [==============================] - 0s 3ms/step - loss: 0.0891 - accuracy: 0.9833 - val_loss: 0.0780 - val_accuracy: 0.9667\n",
      "Epoch 70/700\n",
      "24/24 [==============================] - 0s 3ms/step - loss: 0.0882 - accuracy: 0.9833 - val_loss: 0.0804 - val_accuracy: 0.9667\n",
      "Epoch 71/700\n",
      "24/24 [==============================] - 0s 4ms/step - loss: 0.0843 - accuracy: 0.9833 - val_loss: 0.0732 - val_accuracy: 0.9667\n",
      "Epoch 72/700\n",
      "24/24 [==============================] - 0s 3ms/step - loss: 0.0828 - accuracy: 0.9750 - val_loss: 0.0708 - val_accuracy: 0.9667\n",
      "Epoch 73/700\n",
      "24/24 [==============================] - 0s 3ms/step - loss: 0.0805 - accuracy: 0.9917 - val_loss: 0.0777 - val_accuracy: 0.9667\n",
      "Epoch 74/700\n",
      "24/24 [==============================] - 0s 4ms/step - loss: 0.0789 - accuracy: 0.9833 - val_loss: 0.0734 - val_accuracy: 0.9667\n",
      "Epoch 75/700\n",
      "24/24 [==============================] - 0s 4ms/step - loss: 0.0769 - accuracy: 0.9833 - val_loss: 0.0693 - val_accuracy: 0.9667\n",
      "Epoch 76/700\n",
      "24/24 [==============================] - 0s 4ms/step - loss: 0.0752 - accuracy: 0.9833 - val_loss: 0.0704 - val_accuracy: 0.9667\n",
      "Epoch 77/700\n",
      "24/24 [==============================] - 0s 3ms/step - loss: 0.0743 - accuracy: 0.9750 - val_loss: 0.0670 - val_accuracy: 0.9667\n",
      "Epoch 78/700\n",
      "24/24 [==============================] - 0s 4ms/step - loss: 0.0734 - accuracy: 0.9750 - val_loss: 0.0678 - val_accuracy: 0.9667\n",
      "Epoch 79/700\n",
      "24/24 [==============================] - 0s 4ms/step - loss: 0.0711 - accuracy: 0.9833 - val_loss: 0.0690 - val_accuracy: 0.9667\n",
      "Epoch 80/700\n",
      "24/24 [==============================] - 0s 3ms/step - loss: 0.0704 - accuracy: 0.9833 - val_loss: 0.0687 - val_accuracy: 0.9667\n",
      "Epoch 81/700\n",
      "24/24 [==============================] - 0s 3ms/step - loss: 0.0698 - accuracy: 0.9833 - val_loss: 0.0630 - val_accuracy: 0.9667\n",
      "Epoch 82/700\n",
      "24/24 [==============================] - 0s 3ms/step - loss: 0.0683 - accuracy: 0.9833 - val_loss: 0.0676 - val_accuracy: 0.9667\n",
      "Epoch 83/700\n",
      "24/24 [==============================] - 0s 3ms/step - loss: 0.0674 - accuracy: 0.9917 - val_loss: 0.0634 - val_accuracy: 0.9667\n",
      "Epoch 84/700\n",
      "24/24 [==============================] - 0s 4ms/step - loss: 0.0669 - accuracy: 0.9833 - val_loss: 0.0668 - val_accuracy: 0.9667\n",
      "Epoch 85/700\n",
      "24/24 [==============================] - 0s 3ms/step - loss: 0.0650 - accuracy: 0.9833 - val_loss: 0.0643 - val_accuracy: 0.9667\n",
      "Epoch 86/700\n",
      "24/24 [==============================] - 0s 3ms/step - loss: 0.0650 - accuracy: 0.9750 - val_loss: 0.0589 - val_accuracy: 0.9667\n",
      "Epoch 87/700\n",
      "24/24 [==============================] - 0s 3ms/step - loss: 0.0639 - accuracy: 0.9833 - val_loss: 0.0633 - val_accuracy: 0.9667\n",
      "Epoch 88/700\n",
      "24/24 [==============================] - 0s 3ms/step - loss: 0.0636 - accuracy: 0.9750 - val_loss: 0.0668 - val_accuracy: 0.9667\n",
      "Epoch 89/700\n",
      "24/24 [==============================] - 0s 3ms/step - loss: 0.0618 - accuracy: 0.9833 - val_loss: 0.0587 - val_accuracy: 0.9667\n",
      "Epoch 90/700\n",
      "24/24 [==============================] - 0s 4ms/step - loss: 0.0615 - accuracy: 0.9750 - val_loss: 0.0606 - val_accuracy: 0.9667\n",
      "Epoch 91/700\n",
      "24/24 [==============================] - 0s 3ms/step - loss: 0.0609 - accuracy: 0.9750 - val_loss: 0.0597 - val_accuracy: 0.9667\n",
      "Epoch 92/700\n",
      "24/24 [==============================] - 0s 3ms/step - loss: 0.0605 - accuracy: 0.9833 - val_loss: 0.0584 - val_accuracy: 0.9667\n",
      "Epoch 93/700\n",
      "24/24 [==============================] - 0s 3ms/step - loss: 0.0608 - accuracy: 0.9750 - val_loss: 0.0645 - val_accuracy: 0.9667\n",
      "Epoch 94/700\n",
      "24/24 [==============================] - 0s 4ms/step - loss: 0.0592 - accuracy: 0.9750 - val_loss: 0.0595 - val_accuracy: 0.9667\n",
      "Epoch 95/700\n",
      "24/24 [==============================] - 0s 3ms/step - loss: 0.0591 - accuracy: 0.9833 - val_loss: 0.0570 - val_accuracy: 0.9667\n",
      "Epoch 96/700\n",
      "24/24 [==============================] - 0s 4ms/step - loss: 0.0589 - accuracy: 0.9750 - val_loss: 0.0568 - val_accuracy: 0.9667\n",
      "Epoch 97/700\n",
      "24/24 [==============================] - 0s 4ms/step - loss: 0.0591 - accuracy: 0.9750 - val_loss: 0.0642 - val_accuracy: 0.9667\n",
      "Epoch 98/700\n",
      "24/24 [==============================] - 0s 3ms/step - loss: 0.0582 - accuracy: 0.9750 - val_loss: 0.0619 - val_accuracy: 0.9667\n",
      "Epoch 99/700\n",
      "24/24 [==============================] - 0s 3ms/step - loss: 0.0565 - accuracy: 0.9750 - val_loss: 0.0564 - val_accuracy: 0.9667\n",
      "Epoch 100/700\n",
      "24/24 [==============================] - 0s 4ms/step - loss: 0.0569 - accuracy: 0.9750 - val_loss: 0.0530 - val_accuracy: 0.9667\n",
      "Epoch 101/700\n",
      "24/24 [==============================] - 0s 4ms/step - loss: 0.0565 - accuracy: 0.9833 - val_loss: 0.0584 - val_accuracy: 0.9667\n",
      "Epoch 102/700\n",
      "24/24 [==============================] - 0s 3ms/step - loss: 0.0581 - accuracy: 0.9750 - val_loss: 0.0513 - val_accuracy: 0.9667\n",
      "Epoch 103/700\n",
      "24/24 [==============================] - 0s 3ms/step - loss: 0.0548 - accuracy: 0.9833 - val_loss: 0.0602 - val_accuracy: 0.9667\n",
      "Epoch 104/700\n",
      "24/24 [==============================] - 0s 3ms/step - loss: 0.0565 - accuracy: 0.9750 - val_loss: 0.0572 - val_accuracy: 0.9667\n",
      "Epoch 105/700\n",
      "24/24 [==============================] - 0s 3ms/step - loss: 0.0554 - accuracy: 0.9750 - val_loss: 0.0572 - val_accuracy: 0.9667\n",
      "Epoch 106/700\n",
      "24/24 [==============================] - 0s 3ms/step - loss: 0.0549 - accuracy: 0.9750 - val_loss: 0.0588 - val_accuracy: 0.9667\n",
      "Epoch 107/700\n",
      "24/24 [==============================] - 0s 3ms/step - loss: 0.0556 - accuracy: 0.9750 - val_loss: 0.0573 - val_accuracy: 0.9667\n",
      "Epoch 108/700\n",
      "24/24 [==============================] - 0s 3ms/step - loss: 0.0556 - accuracy: 0.9750 - val_loss: 0.0553 - val_accuracy: 0.9667\n",
      "Epoch 109/700\n",
      "24/24 [==============================] - 0s 3ms/step - loss: 0.0540 - accuracy: 0.9750 - val_loss: 0.0621 - val_accuracy: 0.9667\n",
      "Epoch 110/700\n",
      "24/24 [==============================] - 0s 3ms/step - loss: 0.0539 - accuracy: 0.9750 - val_loss: 0.0608 - val_accuracy: 0.9667\n",
      "Epoch 111/700\n",
      "24/24 [==============================] - 0s 3ms/step - loss: 0.0541 - accuracy: 0.9750 - val_loss: 0.0581 - val_accuracy: 0.9667\n",
      "Epoch 112/700\n",
      "24/24 [==============================] - 0s 3ms/step - loss: 0.0547 - accuracy: 0.9750 - val_loss: 0.0543 - val_accuracy: 0.9667\n",
      "Epoch 112: early stopping\n",
      "\n",
      "Duration :  00:00:09 402ms\n"
     ]
    }
   ],
   "source": [
    "vID.chrono_start()\n",
    "from tensorflow.keras.callbacks import EarlyStopping\n",
    "es = EarlyStopping(monitor='val_loss', mode='min', verbose=1, patience=10)\n",
    "print(f\"x_train. Structure (shape) : {x_train.shape}\")\n",
    "print(f\"x_valid. Structure (shape) : {x_valid.shape}\")\n",
    "print(f\"y_train. Structure (shape) : {y_train.shape}\")\n",
    "print(f\"y_valid. Structure (shape) : {y_valid.shape}\")\n",
    "ANNmodel=get_model( (pca.n_components_,)) # pca.n_components_ PC => pca.n_components_ input neurons\n",
    "ANNmodel.summary()\n",
    "vID.chrono_start()\n",
    "ANNhistory = ANNmodel.fit(x_train,\n",
    "                    y_train,\n",
    "                    epochs          = 700,\n",
    "                    batch_size      = 5,\n",
    "                    verbose         = 1,\n",
    "                    validation_data = (x_valid, y_valid),\n",
    "                    callbacks=[es])\n",
    "vID.chrono_show()"
   ]
  },
  {
   "cell_type": "markdown",
   "id": "6a09c7ae-7ff4-4d96-8e5d-7d8a990ed9b4",
   "metadata": {},
   "source": [
    "##### Evaluation of the model"
   ]
  },
  {
   "cell_type": "code",
   "execution_count": 39,
   "id": "9df3c628-9dd4-4c02-ae0c-9b347ceadd18",
   "metadata": {},
   "outputs": [
    {
     "name": "stdout",
     "output_type": "stream",
     "text": [
      "\u001b[92mx_train / loss      : 0.0520\u001b[0m\n",
      "\u001b[92mx_train/ accurracy  : 0.9750\u001b[0m\n",
      "\n",
      "\u001b[94mx_valid / loss      : 0.0543\u001b[0m\n",
      "\u001b[94mx_valid/ accurracy  : 0.9667\u001b[0m\n"
     ]
    }
   ],
   "source": [
    "evalANN_on_Train = ANNmodel.evaluate(x_train, y_train, verbose=0)\n",
    "print(f\"{color.GREEN}x_train / loss      : {evalANN_on_Train[0]:5.4f}{color.OFF}\")\n",
    "print(f\"{color.GREEN}x_train/ accurracy  : {evalANN_on_Train[1]:5.4f}{color.OFF}\")\n",
    "print()\n",
    "evalANN_on_Valid = ANNmodel.evaluate(x_valid, y_valid, verbose=0)\n",
    "print(f\"{color.BLUE}x_valid / loss      : {evalANN_on_Valid[0]:5.4f}{color.OFF}\")\n",
    "print(f\"{color.BLUE}x_valid/ accurracy  : {evalANN_on_Valid[1]:5.4f}{color.OFF}\")"
   ]
  },
  {
   "cell_type": "markdown",
   "id": "7d6a342b-fae9-4955-ad27-00d8b7cd4d28",
   "metadata": {},
   "source": [
    "##### Confusion matrices"
   ]
  },
  {
   "cell_type": "code",
   "execution_count": 40,
   "id": "0223eba3-c189-4418-9b89-681fe9ef328f",
   "metadata": {},
   "outputs": [
    {
     "name": "stdout",
     "output_type": "stream",
     "text": [
      "4/4 [==============================] - 0s 2ms/step\n",
      "1/1 [==============================] - 0s 19ms/step\n"
     ]
    },
    {
     "data": {
      "image/png": "[encoded data removed]",
      "text/plain": [
       "<Figure size 1200x500 with 4 Axes>"
      ]
     },
     "metadata": {},
     "output_type": "display_data"
    }
   ],
   "source": [
    "from sklearn.metrics import ConfusionMatrixDisplay\n",
    "from sklearn.metrics import confusion_matrix\n",
    "import matplotlib.gridspec as gridspec\n",
    "import seaborn as sns\n",
    "\n",
    "usp = dfi['species'].unique()\n",
    "y_train_hat=ANNmodel.predict(x_train)\n",
    "y_valid_hat=ANNmodel.predict(x_valid)\n",
    "\n",
    "cm_labels = dfi['species'].unique()\n",
    "cm_tr = confusion_matrix(np.argmax(y_train.to_numpy(),axis=1), np.argmax(y_train_hat,axis=1))\n",
    "cm_tt = confusion_matrix(np.argmax(y_valid.to_numpy(),axis=1), np.argmax(y_valid_hat,axis=1))\n",
    "\n",
    "fig=plt.figure(figsize=(12, 5))\n",
    "gs = gridspec.GridSpec(nrows=1, ncols=2, width_ratios=[1, 1])\n",
    "\n",
    "ax00 = fig.add_subplot(gs[0, 0], title=\"Training set. Confusion matrix\")\n",
    "sns.heatmap(pd.DataFrame(cm_tr, columns=cm_labels, index=cm_labels), ax=ax00, cmap=plt.cm.Blues, annot = True)\n",
    "ax00.set_xlabel(\"predicted\", fontsize = 20)\n",
    "ax00.set_ylabel(\"actual\", fontsize = 20)\n",
    "\n",
    "ax01=fig.add_subplot(gs[0, 1], title=\"Validation set. Confusion matrix\")\n",
    "sns.heatmap(pd.DataFrame(cm_tt, columns=cm_labels, index=cm_labels), ax=ax01, cmap=plt.cm.Blues, annot = True)\n",
    "ax01.set_xlabel(\"predicted\", fontsize = 20)\n",
    "ax01.set_ylabel(\"actual\", fontsize = 20)\n",
    "plt.show()"
   ]
  },
  {
   "cell_type": "markdown",
   "id": "8137ac93-a9dc-460e-84a4-81e05619c86c",
   "metadata": {},
   "source": [
    "<div class=\"rq\">\n",
    "    \n",
    "This 3 principal components-based ML does almost as good as the 4 features ML developped in [Exercice 3](./Iris3-ExoCorrigé.ipynb). It is a modest lowering of the features space, but this simple example examplifies the interest and relevance of doing **data compression**.\n",
    "</div>"
   ]
  },
  {
   "cell_type": "code",
   "execution_count": 2,
   "id": "af354bcb",
   "metadata": {
    "scrolled": true,
    "tags": []
   },
   "outputs": [
    {
     "data": {
      "text/markdown": [
       "**End at:** Sunday 30 October 2022, 18:48:10  \n",
       "**Duration:** 00:00:09 534ms"
      ],
      "text/plain": [
       "<IPython.core.display.Markdown object>"
      ]
     },
     "metadata": {},
     "output_type": "display_data"
    },
    {
     "data": {
      "text/markdown": [
       "<p style=\"text-align: center\"><img width=\"800px\" src=\"./config/svg/logoEnd.svg\" style=\"margin-left:auto; margin-right:auto\"/></p>"
      ],
      "text/plain": [
       "<IPython.core.display.Markdown object>"
      ]
     },
     "metadata": {},
     "output_type": "display_data"
    }
   ],
   "source": [
    "vID.end(cwd0)"
   ]
  },
  {
   "cell_type": "code",
   "execution_count": null,
   "id": "e50b614c-473e-4f72-acaa-e8202e8ce7e5",
   "metadata": {},
   "outputs": [],
   "source": []
  }
 ],
 "metadata": {
  "kernelspec": {
   "display_name": "Python 3 (ipykernel)",
   "language": "python",
   "name": "python3"
  },
  "language_info": {
   "codemirror_mode": {
    "name": "ipython",
    "version": 3
   },
   "file_extension": ".py",
   "mimetype": "text/x-python",
   "name": "python",
   "nbconvert_exporter": "python",
   "pygments_lexer": "ipython3",
   "version": "3.10.10"
  },
  "toc-autonumbering": false,
  "toc-showmarkdowntxt": false
 },
 "nbformat": 4,
 "nbformat_minor": 5
}
