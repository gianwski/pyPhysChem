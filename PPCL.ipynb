{
 "cells": [
  {
   "cell_type": "code",
   "execution_count": 12,
   "id": "c8f0e76a-d0dc-4db7-8a3e-a642f2fe1b7e",
   "metadata": {},
   "outputs": [
    {
     "name": "stdout",
     "output_type": "stream",
     "text": [
      "/home/romuald/ENSEIGNEMENT/0-JupyterNotebooks/PytChem\n"
     ]
    },
    {
     "data": {
      "text/html": [
       "<style>\n",
       "h1, h2, h3, h4, h5, h6 {\n",
       "  font-family: Verdana, \"DejaVu Sans\", \"Bitstream Vera Sans\", Geneva, sans-serif;\n",
       "  font-weight: bold;\n",
       "}\n",
       "body, exercice {\n",
       "  font-family: Verdana, \"DejaVu Sans\", \"Bitstream Vera Sans\", Geneva, sans-serif;\n",
       "  font-weight: 200;\n",
       "}\n",
       "h1 {\n",
       "  border: 0 solid #333;\n",
       "  padding: 30px ;\n",
       "  color: white;\n",
       "  background: #b11d01;\n",
       "  text-align: center;\n",
       "}\n",
       "h2 {\n",
       "  border: 3px solid #333;\n",
       "  padding: 18px ;\n",
       "  color: #b11d01;\n",
       "  background: #ffffff;\n",
       "  text-align: center;\n",
       "}\n",
       "h3 {\n",
       "  border: 0 solid #333;\n",
       "  padding: 12px ;\n",
       "  color: #000000;\n",
       "  background: #c1c1c1;\n",
       "  text-align: left;\n",
       "}\n",
       "h4 {\n",
       "  border: 0 solid #333;\n",
       "  padding: 2px ;\n",
       "  color: #000000;\n",
       "  background: #d9fffc;\n",
       "  text-align: left;\n",
       "}\n",
       "h5 {\n",
       "  border: 1px solid #333;\n",
       "  padding: 2px ;\n",
       "  color: #000000;\n",
       "  background: #ffffff;\n",
       "  text-align: left;\n",
       "}\n",
       ".rq {    \n",
       "    background-color: #fcf2f2;\n",
       "    border-color: #dFb5b4;\n",
       "    border-left: 5px solid #dfb5b4;\n",
       "    padding: 0.5em;\n",
       "    font-weight: 200;\n",
       "    }\n",
       ".intro {    \n",
       "    background-color: #f1f1f1;\n",
       "    border-color: #969696;\n",
       "    border-left: 5px solid #969696;\n",
       "    padding: 0.5em;\n",
       "    font-weight: 200;\n",
       "    }\n",
       ".exold {    \n",
       "    background-color: #b2dbea80;\n",
       "    border-color: #0055ff;\n",
       "    border-left: 10px solid #0055ff;\n",
       "    padding: 0.5em;\n",
       "    font-weight: 200;\n",
       "    }\n",
       ".ex {    \n",
       "    background-color: #b2dbea80;\n",
       "    padding: 0.5em;\n",
       "    padding-top: 0em;\n",
       "    font-weight: 200;\n",
       "    position:relative;\n",
       "    }\n",
       ".ex::before {\n",
       "    background-color: #b2dbea;\n",
       "    content:\"Exercice\";\n",
       "    margin-left:-0.5em;\n",
       "    margin-right:-0.5em;\n",
       "    padding-left:0.5em;\n",
       "    padding-right:0.5em;\n",
       "    font-weight: 600;\n",
       "    display: block;\n",
       "    }\n",
       ".app {    \n",
       "    background-color: #b2dbea80;\n",
       "    padding: 0.5em;\n",
       "    padding-top: 0em;\n",
       "    font-weight: 200;\n",
       "    position:relative;\n",
       "    }\n",
       ".app::before {\n",
       "    background-color: #b2dbea;\n",
       "    content:\"Application\";\n",
       "    margin-left:-0.5em;\n",
       "    margin-right:-0.5em;\n",
       "    padding-left:0.5em;\n",
       "    padding-right:0.5em;\n",
       "    font-weight: 600;\n",
       "    display: block;\n",
       "    }\n",
       "</style>\n"
      ],
      "text/plain": [
       "<IPython.core.display.HTML object>"
      ]
     },
     "metadata": {},
     "output_type": "display_data"
    },
    {
     "data": {
      "text/markdown": [
       "**Start at:** Wednesday 11 January 2023, 10:12:29  \n",
       "**Hostname:** insa-12842 (Linux)"
      ],
      "text/plain": [
       "<IPython.core.display.Markdown object>"
      ]
     },
     "metadata": {},
     "output_type": "display_data"
    },
    {
     "data": {
      "text/markdown": [
       "<p style=\"text-align: center\"><img width=\"800px\" src=\"./config/svg/logoPytChem.svg\" style=\"margin-left:auto; margin-right:auto\"/></p>"
      ],
      "text/plain": [
       "<IPython.core.display.Markdown object>"
      ]
     },
     "metadata": {},
     "output_type": "display_data"
    }
   ],
   "source": [
    "import os\n",
    "import sys\n",
    "\n",
    "print(os.getcwd())\n",
    "cwd0 = './config/'\n",
    "sys.path.append(cwd0)\n",
    "\n",
    "import visualID_Eng as vID\n",
    "from visualID_Eng import color\n",
    "vID.init(cwd0)\n",
    "import tools4PytChem as t4p"
   ]
  },
  {
   "cell_type": "markdown",
   "id": "7da5f784-11d5-4b2a-8f4a-659939ba129d",
   "metadata": {},
   "source": [
    "# \"Python in the Physical Chemistry Lab (PPCL)\" in a nutshell\n",
    "\n",
    "<div class=\"rq\">\n",
    "\n",
    "This Python computer lab assumes a very basic knowledge of a programming language and algorithm development.\n",
    "\n",
    "**To run the content of a cell:** click on a cell to select it. Then press SHIFT+ENTER on your keyboard, or press the play button in the top left corner of this window\n",
    "\n",
    "<img src=\"MiscImages/ToolbarJupyterNotebook.svg\" style=\"margin-left:auto; margin-right:auto; display: block; width:300px\" id=\"img_TBJN\" alt=\"Jupyter notebook toolbar\"/>\n",
    "</div>"
   ]
  },
  {
   "cell_type": "markdown",
   "id": "b5394af8-3e89-484e-ab89-c90d6eb57f96",
   "metadata": {},
   "source": [
    "## Simple calculations\n",
    "\n",
    "### Basic mathematical operations"
   ]
  },
  {
   "cell_type": "code",
   "execution_count": 13,
   "id": "c5ca8ecf-9e92-4880-a35d-6e7acaf0b485",
   "metadata": {},
   "outputs": [
    {
     "data": {
      "text/plain": [
       "5"
      ]
     },
     "execution_count": 13,
     "metadata": {},
     "output_type": "execute_result"
    }
   ],
   "source": [
    "# Every line that starts with a # character is a comment\n",
    "\n",
    "# addition\n",
    "3 + 2 # it a also possible to add a comment after a command"
   ]
  },
  {
   "cell_type": "code",
   "execution_count": 14,
   "id": "31382ecd-477f-46cb-b2fd-848261ba9331",
   "metadata": {},
   "outputs": [
    {
     "data": {
      "text/plain": [
       "6"
      ]
     },
     "execution_count": 14,
     "metadata": {},
     "output_type": "execute_result"
    },
    {
     "data": {
      "text/plain": [
       "3.5"
      ]
     },
     "execution_count": 14,
     "metadata": {},
     "output_type": "execute_result"
    }
   ],
   "source": [
    "#This is a new cell. It is possible to define several operations or commands in a cell\n",
    "# multiplication\n",
    "3*2\n",
    "\n",
    "#division\n",
    "7/2"
   ]
  },
  {
   "cell_type": "code",
   "execution_count": 15,
   "id": "9da162e5-9d01-4d87-a921-e2333efcdc87",
   "metadata": {},
   "outputs": [
    {
     "name": "stdout",
     "output_type": "stream",
     "text": [
      "6\n",
      "3.5\n"
     ]
    }
   ],
   "source": [
    "# As you can understand, only the result of the last operation is shown in Jupyter notebooks' cells\n",
    "# Let's use the print command to see the outcome of each operation\n",
    "print(3*2)\n",
    "print(7/2)"
   ]
  },
  {
   "cell_type": "markdown",
   "id": "b529e884-225d-4cd5-be80-84f363bfe0e2",
   "metadata": {},
   "source": [
    "<div class=\"rq\">\n",
    "\n",
    "**It's not very convenient to print operations, isn't it?** This 'last operation show-up' is specific to Jupyter Notebooks.\n",
    "\n",
    "There is actually a trick that consists in importing a so-called `InteractiveShell` and then to setup a config option\n",
    "</div>"
   ]
  },
  {
   "cell_type": "code",
   "execution_count": 16,
   "id": "8930f4da-e6fc-4414-9e67-9f4c72f59ce1",
   "metadata": {},
   "outputs": [],
   "source": [
    "#these two lines can be added at the beginning of a Jupyter notebook if you find this behavior more convenient\n",
    "# !! this configuration will be applied from the next executed cell\n",
    "from IPython.core.interactiveshell import InteractiveShell\n",
    "InteractiveShell.ast_node_interactivity = \"all\""
   ]
  },
  {
   "cell_type": "code",
   "execution_count": 17,
   "id": "9528c24c-5c9e-448b-95fe-bff70fd40ede",
   "metadata": {},
   "outputs": [
    {
     "data": {
      "text/plain": [
       "6"
      ]
     },
     "execution_count": 17,
     "metadata": {},
     "output_type": "execute_result"
    },
    {
     "data": {
      "text/plain": [
       "3.5"
      ]
     },
     "execution_count": 17,
     "metadata": {},
     "output_type": "execute_result"
    },
    {
     "data": {
      "text/plain": [
       "3"
      ]
     },
     "execution_count": 17,
     "metadata": {},
     "output_type": "execute_result"
    },
    {
     "data": {
      "text/plain": [
       "1"
      ]
     },
     "execution_count": 17,
     "metadata": {},
     "output_type": "execute_result"
    },
    {
     "data": {
      "text/plain": [
       "100"
      ]
     },
     "execution_count": 17,
     "metadata": {},
     "output_type": "execute_result"
    },
    {
     "data": {
      "text/plain": [
       "5.196152422706632"
      ]
     },
     "execution_count": 17,
     "metadata": {},
     "output_type": "execute_result"
    },
    {
     "data": {
      "text/plain": [
       "5.196152422706632"
      ]
     },
     "execution_count": 17,
     "metadata": {},
     "output_type": "execute_result"
    }
   ],
   "source": [
    "3*2\n",
    "7/2\n",
    "\n",
    "#Let's continue this initiation to simple operations\n",
    "#Euclidean division - or division with remainder\n",
    "7//2 #quotient\n",
    "7%2  #remainder\n",
    "\n",
    "#exponent\n",
    "10**2\n",
    "3**(3/2)\n",
    "(3**3)**(1/2)"
   ]
  },
  {
   "cell_type": "markdown",
   "id": "e882b771-864d-42b3-9220-fd40141f89e2",
   "metadata": {},
   "source": [
    "<div class=\"intro\">\n",
    "\n",
    "Now we want to use basic functions such as sine, cosine, logarithm, exponential, etc... Let's start first with the sine function, aka `sin`\n",
    "\n",
    "</div>"
   ]
  },
  {
   "cell_type": "code",
   "execution_count": 18,
   "id": "42f3d96c-d8e2-4e35-9966-5a5f2e672591",
   "metadata": {},
   "outputs": [
    {
     "ename": "NameError",
     "evalue": "name 'sin' is not defined",
     "output_type": "error",
     "traceback": [
      "\u001b[0;31m---------------------------------------------------------------------------\u001b[0m",
      "\u001b[0;31mNameError\u001b[0m                                 Traceback (most recent call last)",
      "Input \u001b[0;32mIn [18]\u001b[0m, in \u001b[0;36m<cell line: 1>\u001b[0;34m()\u001b[0m\n\u001b[0;32m----> 1\u001b[0m \u001b[43msin\u001b[49m(\u001b[38;5;241m10\u001b[39m)\n",
      "\u001b[0;31mNameError\u001b[0m: name 'sin' is not defined"
     ]
    }
   ],
   "source": [
    "sin(10)"
   ]
  },
  {
   "cell_type": "markdown",
   "id": "76b0c563-261a-4506-ab55-9d718bd17272",
   "metadata": {},
   "source": [
    "<div class=\"rq\">\n",
    "\n",
    "**This basic calculator is crap!???** Not exactly. But we need to use a math library that knows all the usual math functions. To do this, we need to import the libraries at some point in the python code, before calling the function\n",
    "    \n",
    "There are two main libraries: `math` and `numpy`.\n",
    "    \n",
    "Let's now compare them\n",
    "\n",
    "</div>"
   ]
  },
  {
   "cell_type": "code",
   "execution_count": 19,
   "id": "2effa44e-6ca4-44ba-b7f0-2f5124bd22d5",
   "metadata": {},
   "outputs": [
    {
     "data": {
      "text/plain": [
       "0.9999999999932537"
      ]
     },
     "execution_count": 19,
     "metadata": {},
     "output_type": "execute_result"
    },
    {
     "data": {
      "text/plain": [
       "0.9999999999932537"
      ]
     },
     "execution_count": 19,
     "metadata": {},
     "output_type": "execute_result"
    },
    {
     "data": {
      "text/plain": [
       "3.141592653589793"
      ]
     },
     "execution_count": 19,
     "metadata": {},
     "output_type": "execute_result"
    },
    {
     "data": {
      "text/plain": [
       "3.141592653589793"
      ]
     },
     "execution_count": 19,
     "metadata": {},
     "output_type": "execute_result"
    },
    {
     "data": {
      "text/plain": [
       "1.0"
      ]
     },
     "execution_count": 19,
     "metadata": {},
     "output_type": "execute_result"
    },
    {
     "data": {
      "text/plain": [
       "1.0"
      ]
     },
     "execution_count": 19,
     "metadata": {},
     "output_type": "execute_result"
    },
    {
     "data": {
      "text/plain": [
       "1.0"
      ]
     },
     "execution_count": 19,
     "metadata": {},
     "output_type": "execute_result"
    },
    {
     "data": {
      "text/plain": [
       "1.0"
      ]
     },
     "execution_count": 19,
     "metadata": {},
     "output_type": "execute_result"
    }
   ],
   "source": [
    "import math\n",
    "import numpy as np #np is now a shortcut for numpy\n",
    "\n",
    "#Hopefully, both functions will give the same values\n",
    "math.sin(3.1416/2)\n",
    "np.sin(3.1416/2)\n",
    "\n",
    "# by the way, the pi number is not known by default, it must be called either from the math or numpy libraries\n",
    "math.pi\n",
    "np.pi\n",
    "\n",
    "#let's now calculate the sine of pi. You can of course mix functions and variables from different libraries\n",
    "math.sin(math.pi/2)\n",
    "math.sin(np.pi/2)\n",
    "np.sin(math.pi/2)\n",
    "np.sin(np.pi/2)"
   ]
  },
  {
   "cell_type": "markdown",
   "id": "486afcdb-75a5-4df5-ad2b-49e8328a7d78",
   "metadata": {},
   "source": [
    "<div class=\"rq\">\n",
    "\n",
    "**What is the best choice between `math` and `numpy`?** It depends. `math.sin` works on a single number, whilst the numpy version works on numpy arrays and is tremendously faster due to the benefits of vectorization. For the moment, this notion of arrays may seem obscure to you, but we will soon introduce them, together with lists.\n",
    "    \n",
    "All mathematical functions available in `numpy` are listed on [this webpage](https://numpy.org/doc/stable/reference/routines.math.html#), whereas those available in the `math` library are listed [here](https://docs.python.org/3/library/math.html). The `math` library is actually a module of the [Python Standard Library](https://docs.python.org/3/library/index.html#the-python-standard-library).\n",
    "\n",
    "</div>"
   ]
  },
  {
   "cell_type": "markdown",
   "id": "2f462887-6dbb-4b2a-891a-940e02ce679f",
   "metadata": {},
   "source": [
    "### Variables\n",
    "\n",
    "<div class=\"intro\">\n",
    "They are useful if you want to store a number to use later in another calculation.\n",
    "</div>"
   ]
  },
  {
   "cell_type": "code",
   "execution_count": 20,
   "id": "043f0075-2f52-4d60-b5af-611acfd148c5",
   "metadata": {
    "tags": []
   },
   "outputs": [
    {
     "name": "stdout",
     "output_type": "stream",
     "text": [
      "6\n"
     ]
    },
    {
     "data": {
      "text/plain": [
       "298.15"
      ]
     },
     "execution_count": 20,
     "metadata": {},
     "output_type": "execute_result"
    },
    {
     "data": {
      "text/plain": [
       "423.15"
      ]
     },
     "execution_count": 20,
     "metadata": {},
     "output_type": "execute_result"
    },
    {
     "data": {
      "text/plain": [
       "263.15"
      ]
     },
     "execution_count": 20,
     "metadata": {},
     "output_type": "execute_result"
    }
   ],
   "source": [
    "c = 2*3 #the result of the operation will not be displayed. You must use print to do so\n",
    "print(c)\n",
    "\n",
    "# Let's now use a variable to perform several celsius to kelvin conversions\n",
    "C2K = 273.15 #Don't make a mistake here, or all your calculations will be wrong\n",
    "C2K+25\n",
    "C2K+150\n",
    "C2K-10"
   ]
  },
  {
   "cell_type": "markdown",
   "id": "028278f2-bb0f-4c88-8825-2fe7706f8cda",
   "metadata": {},
   "source": [
    "<div class=\"rq\">\n",
    "\n",
    "An alternative would be to systematically type in the 273.15 conversion factor or copy and paste its value every time you need it. This is a bad idea. In such a situation it is strongly recommended to use variables\n",
    "\n",
    "</div>"
   ]
  },
  {
   "cell_type": "code",
   "execution_count": 21,
   "id": "3640bdcb-277b-4c76-8e21-128e86fa7995",
   "metadata": {},
   "outputs": [
    {
     "ename": "NameError",
     "evalue": "name 'c2K' is not defined",
     "output_type": "error",
     "traceback": [
      "\u001b[0;31m---------------------------------------------------------------------------\u001b[0m",
      "\u001b[0;31mNameError\u001b[0m                                 Traceback (most recent call last)",
      "Input \u001b[0;32mIn [21]\u001b[0m, in \u001b[0;36m<cell line: 3>\u001b[0;34m()\u001b[0m\n\u001b[1;32m      1\u001b[0m \u001b[38;5;66;03m#let's use again the C2K conversion factor\u001b[39;00m\n\u001b[0;32m----> 3\u001b[0m \u001b[43mc2K\u001b[49m \u001b[38;5;241m+\u001b[39m \u001b[38;5;241m1047.3\u001b[39m\n",
      "\u001b[0;31mNameError\u001b[0m: name 'c2K' is not defined"
     ]
    }
   ],
   "source": [
    "#let's use again the C2K conversion factor\n",
    "\n",
    "c2K + 1047.3"
   ]
  },
  {
   "cell_type": "code",
   "execution_count": 22,
   "id": "eac296f7-35d9-403f-b16d-8f1ffdfa3570",
   "metadata": {
    "tags": []
   },
   "outputs": [
    {
     "data": {
      "text/plain": [
       "1320.4499999999998"
      ]
     },
     "execution_count": 22,
     "metadata": {},
     "output_type": "execute_result"
    }
   ],
   "source": [
    "#what is actually illustrated here is that the c2K variable is unknown as opposed to C2K. Yes, in Python upper-case and lower-case letters are not the same\n",
    "C2K + 1047.3"
   ]
  },
  {
   "cell_type": "markdown",
   "id": "e28bd108-3a1d-40e3-a743-11a50f39245a",
   "metadata": {},
   "source": [
    "<div class=\"intro\">\n",
    "\n",
    "Let's now use variables to apply the Law of Mass Action to the calculation of equilibrium constants. We introduce it by using a general chemical reaction equation in which reactants A and B react to give products C and D:\n",
    "    \n",
    "*a*A + *b*B = *c*C + *d*C\n",
    "    \n",
    "The mass action law states that if the system is at equilibrium at a given temperature *T*, then the following ratio is a constant, the so-called equilibrium constant $K_\\mathrm{eq}(T)$.\n",
    "\n",
    "$$\\frac{[\\mathrm{C}]_\\mathrm{eq}^c [\\mathrm{D}]_\\mathrm{eq}^d}{[\\mathrm{A}]_\\mathrm{eq}^a [\\mathrm{B}]_\\mathrm{eq}^b}=K_\\mathrm{eq}$$\n",
    "\n",
    "Another useful quantity if the so-called Gibbs free energy change of the reaction, $\\Delta_rG°$, that is directly related to the equilibrium constant by to the following equation:\n",
    "    \n",
    "$$\\Delta_rG° = -RT \\ln K_\\mathrm{eq}(T)$$\n",
    "    \n",
    "where *R* is the ideal gas constant, which is exactly 8.31446261815324 J⋅K$^{-1}$⋅mol$^{-1}$\n",
    "    \n",
    "There are several interests in calculating $\\Delta_rG°$, one of them being that its sign can be used to predict the ratio of products to reactants:\n",
    "    \n",
    "- if $\\Delta_rG°$ < 0, then K > 1 ⟺ products are favored over reactants at equilibrium\n",
    "- if $\\Delta_rG°$ > 0, then K < 1 ⟺ reactants are favored over products at equilibrium\n",
    "- if $\\Delta_rG°$ = 0, then K = 1 ⟺ the amount of products will be roughly equal to the amount of reactants at equilibrium\n",
    "\n",
    "</div>\n",
    "\n",
    "<br>\n",
    "    \n",
    "<div class=\"app\">\n",
    "\n",
    "The decomposition reaction of N$_2$O$_4$ to NO$_2$ can be summarized as N$_2$O$_4$ = 2NO$_2$.\n",
    "\n",
    "Starting, at 25°C, from [N$_2$O$_4$]$_0$ = 0.0500 mol.L$^{-1}$, the N$_2$O$_4$ mixtures at equilibrium is found to be [N$_2$O$_4$]$_\\mathrm{eq}$ = 0.0417 mol⋅L$^{-1}$ and [NO$_2$]$_\\mathrm{eq}$ = 0.0165 mol.L$^{-1}$.\n",
    "\n",
    "**1.** Calculate $K_\\mathrm{eq}$ at 25°C.\n",
    "\n",
    "**2.** Then calculate $\\Delta_rG°$ for this reaction (hint: the natural logarithm can be either calculated by the `np.log` or `math.log` functions).\n",
    "</div>"
   ]
  },
  {
   "cell_type": "code",
   "execution_count": 23,
   "id": "ed73bf00-6ceb-48dc-bd76-0bed50127414",
   "metadata": {},
   "outputs": [
    {
     "data": {
      "text/plain": [
       "0.0065287769784172665"
      ]
     },
     "execution_count": 23,
     "metadata": {},
     "output_type": "execute_result"
    },
    {
     "data": {
      "text/plain": [
       "12472.9606592818"
      ]
     },
     "execution_count": 23,
     "metadata": {},
     "output_type": "execute_result"
    },
    {
     "name": "stdout",
     "output_type": "stream",
     "text": [
      "0.0065287769784172665 12472.9606592818\n"
     ]
    }
   ],
   "source": [
    "#very basic (ugly) calculator way\n",
    "# Question 1\n",
    "0.0165**2/0.0417\n",
    "# Question 2\n",
    "-8.31446261815324*298.15*np.log(0.0065287769784172665)\n",
    "\n",
    "#basic algorithmic way\n",
    "# Question 1\n",
    "CP = 0.0165 #as concentration of product\n",
    "CR = 0.0417 #as concentration of reactant\n",
    "K = CP**2/CR\n",
    "# Question 2\n",
    "R = 8.31446261815324 # J K−1 mol−1\n",
    "T = C2K + 25\n",
    "DG = -R*T*math.log(K)\n",
    "print(K, DG)"
   ]
  },
  {
   "cell_type": "markdown",
   "id": "e5fe4328-9edd-4237-9d7f-c115d5e5b31e",
   "metadata": {},
   "source": [
    "### Physical and mathematical constants"
   ]
  },
  {
   "cell_type": "markdown",
   "id": "74f84cd7-23e2-4d2b-a637-2f37323509a4",
   "metadata": {},
   "source": [
    "<div class=\"intro\">\n",
    "\n",
    "The \"algorithmic\" is obviously less straightforward than the \"calculator\" way. **Yet, such longer piece of code is to be preferred.**\n",
    "- First, it is more readable. So if you save your notebook as a sort of well-organized calculation spreadsheet, you can later use the same code and variables, or redo the same application\n",
    "- Secondly, it can be generalized in terms of a function that could be used several times. This is the purpose of the following subsection, which consists of defining a function with *T* and *K* as arguments, that will return $\\Delta_rG°$\n",
    "    \n",
    "But before that, it is time to introduce an interesting module that is worth to be known by physicists and chemists, the `constants` module of the `scipy` library, where SciPy is is an open-source library for mathematics, science, and engineering. \n",
    "\n",
    "The list of constants is available [online](https://docs.scipy.org/doc/scipy/reference/constants.html). The code below illustrates how to call the module, and how to use the physical and mathematical constants.\n",
    "\n",
    "</div>"
   ]
  },
  {
   "cell_type": "code",
   "execution_count": 24,
   "id": "2f48a0e3-23ed-4246-8b56-fa465b17c94b",
   "metadata": {},
   "outputs": [
    {
     "name": "stdout",
     "output_type": "stream",
     "text": [
      "8.314462618\n",
      "J mol^-1 K^-1\n",
      "273.15\n",
      "0.0065287769784172665 12472.96065905192\n"
     ]
    }
   ],
   "source": [
    "import scipy.constants as sc\n",
    "print(sc.value(\"molar gas constant\"))\n",
    "print(sc.unit(\"molar gas constant\"))\n",
    "\n",
    "print(sc.zero_Celsius) # it is not defined as a constant in SciPy, but with units\n",
    "\n",
    "# the previous code becomes:\n",
    "# Question 1\n",
    "CP = 0.0165 #as concentration of product\n",
    "CR = 0.0417 #as concentration of reactant\n",
    "K = CP**2/CR\n",
    "# Question 2\n",
    "R = sc.value(\"molar gas constant\") #the sc.unit(\"molar gas constant\") command let us know that it is defined in the SI\n",
    "C2K = sc.zero_Celsius\n",
    "T = C2K + 25\n",
    "DG = -R*T*math.log(K)\n",
    "print(K, DG)"
   ]
  },
  {
   "cell_type": "markdown",
   "id": "e63eb1d4-0e5e-48a5-9293-3d60bccc8a11",
   "metadata": {
    "tags": []
   },
   "source": [
    "### Formatted printing and significant figures\n",
    "\n",
    "<div class=\"intro\">\n",
    "\n",
    "As seen in the previous lines, we can easily print things to the screen. It is also possible to use \"\" and commas to print text.\n",
    "    \n",
    "</div>"
   ]
  },
  {
   "cell_type": "code",
   "execution_count": 25,
   "id": "89a617f1-7a3b-4d34-b345-44d4ad60ddec",
   "metadata": {},
   "outputs": [
    {
     "name": "stdout",
     "output_type": "stream",
     "text": [
      "K =  0.0065287769784172665    DeltaG =  12472.96065905192\n"
     ]
    }
   ],
   "source": [
    "print(\"K = \",K,\"   DeltaG = \",DG)"
   ]
  },
  {
   "cell_type": "markdown",
   "id": "f49c25f4-2a3b-47e8-a044-09650a6b7b2a",
   "metadata": {},
   "source": [
    "<div class=\"intro\">\n",
    "\n",
    "The `print` command displays as many digits as Python's precision allows: floating point numbers are represented with a precision of up to 15 significant digits. So how can you manage significant figures? Well, it is recommended to store floating point numbers in variables with the highest precision of Python, and to print them with the desired precision.\n",
    "\n",
    "To do so, we can specify how many significant figures we want overall, or we can specify how many significant figures we want after the decimal point. Let's start with the former, using the so-called f-string formatting of the `print` command. To specify a level of precision, we need to use a colon (:), followed by a decimal point, along with some integer representing the degree of precision. We place this inside the curly braces for an f-string, after the value we want to format\n",
    "    \n",
    "</div>"
   ]
  },
  {
   "cell_type": "code",
   "execution_count": 26,
   "id": "1809e8e0-d4e8-4f45-b4c4-5e358882712a",
   "metadata": {},
   "outputs": [
    {
     "name": "stdout",
     "output_type": "stream",
     "text": [
      "K = 0.006529  DeltaG = 1.247e+04\n",
      "This formatting operation actually performs rounding or converts a number in scientific notation, with the appropriate nbumber of digits\n"
     ]
    }
   ],
   "source": [
    "print(f\"K = {K:.4}  DeltaG = {DG:.4}\")\n",
    "print(\"This formatting operation actually performs rounding or converts a number in scientific notation, with the appropriate nbumber of digits\")"
   ]
  },
  {
   "cell_type": "markdown",
   "id": "2e4a9ba5-0ea1-424b-bae7-33008e152e9d",
   "metadata": {},
   "source": [
    "<div class=\"intro\">\n",
    "So how do we specify 4 decimal places? We just need to add an `f`, which means that we want our floatting point number displayed as a \"fixed point number\":\n",
    "</div>"
   ]
  },
  {
   "cell_type": "code",
   "execution_count": 27,
   "id": "70838774-243d-4af1-954f-711344c877f0",
   "metadata": {},
   "outputs": [
    {
     "name": "stdout",
     "output_type": "stream",
     "text": [
      "K = 0.0065  DeltaG = 12472.9607\n"
     ]
    }
   ],
   "source": [
    "print(f\"K = {K:.4f}  DeltaG = {DG:.4f}\")"
   ]
  },
  {
   "cell_type": "markdown",
   "id": "7857b8a5-4cd7-4533-8071-d950e9478ffb",
   "metadata": {},
   "source": [
    "## Lists and arrays"
   ]
  },
  {
   "cell_type": "markdown",
   "id": "f7939f38-cd4e-4280-aa6b-1af5e0ae09a2",
   "metadata": {},
   "source": [
    "### Lists\n",
    "\n",
    "<div class=\"intro\">\n",
    "    \n",
    "A list is a data structure that's built into Python and holds a collection of items. Their main characteristics are:\n",
    "\n",
    "- list items are enclosed in square brackets, like this: [item1, item2, item3]\n",
    "- lists are ordered – *i.e.* the items in the list appear in a specific order. This enables us to use an index to access to any item\n",
    "- it is possible to add or remove items after a list's creation\n",
    "- Elements can be of different data types: you can combine strings, integers, and objects in the same list\n",
    "\n",
    "Lists can be the preferred choice if you need to store a relatively short sequence of items and you don't plan to do any mathematical operations with it.\n",
    "\n",
    "Let's first start with a list that contains only integers. It will also be shown how to add new items to a list and how to remove an item:\n",
    "</div>"
   ]
  },
  {
   "cell_type": "code",
   "execution_count": 28,
   "id": "87416f4b-17c0-4566-bf4b-bc2ca2adf815",
   "metadata": {},
   "outputs": [
    {
     "name": "stdout",
     "output_type": "stream",
     "text": [
      "my_list =  [3, 2, 10, 12, 3, 1]\n",
      "my_list extended =  [3, 2, 10, 12, 3, 1, 6, 2, 8]\n",
      "my_list after deletion of item [1] =  [3, 10, 12, 3, 1, 6, 2, 8]\n"
     ]
    }
   ],
   "source": [
    "my_list = [3, 2, 10, 12, 3, 1]\n",
    "print(\"my_list = \",my_list)\n",
    "my_list.extend([6, 2, 8])\n",
    "print(\"my_list extended = \",my_list)\n",
    "del my_list[1]\n",
    "print(\"my_list after deletion of item [1] = \",my_list)"
   ]
  },
  {
   "cell_type": "markdown",
   "id": "922bec6c-a01c-4249-80b8-2c902d0f7277",
   "metadata": {},
   "source": [
    "<div class=\"rq\">\n",
    "\n",
    "It's actually the second item that has been deleted. **It's because the list index starts with 0 in Python**. So, the index value of the first item is 0, that of the second item is 1, etc...\n",
    "\n",
    "</div>"
   ]
  },
  {
   "cell_type": "markdown",
   "id": "d73391f4-b3d6-44b4-a1f8-f1784c223d31",
   "metadata": {},
   "source": [
    "### Arrays\n",
    "\n",
    "<div class=\"intro\">\n",
    "    \n",
    "An array is also a data structure that stores a collection of items. Like lists, arrays are enclosed in square brackets, they are ordered, and they can be modified\n",
    "\n",
    "But the array's ability to store different data types is less obvious, it depends on the kind of array used.\n",
    "\n",
    "To use arrays in Python, you need to import either an `array` module or the `NumPy` package, which is the fundamental package for numerical computing in Python. `NumPy` arrays support different data types. Let's give an example:\n",
    "</div>"
   ]
  },
  {
   "cell_type": "code",
   "execution_count": 29,
   "id": "31ab2fca-3109-4456-9293-c15c8cfbc589",
   "metadata": {},
   "outputs": [
    {
     "name": "stdout",
     "output_type": "stream",
     "text": [
      "my_array =  [ 3  2 10 12  3  1]\n",
      "item 1 of my_array =  2\n",
      "my_array =  [  3   2  10  12   3   1  55 147 309]\n"
     ]
    }
   ],
   "source": [
    "import numpy as np #np is now a shortcut for numpy\n",
    "\n",
    "my_array = np.array([3, 2, 10, 12, 3, 1])\n",
    "print(\"my_array = \",my_array) #you will see that items are not separated with commas\n",
    "print(\"item 1 of my_array = \",my_array[1])\n",
    "my_array = np.append(my_array,[55, 147, 309])\n",
    "print(\"my_array = \",my_array)"
   ]
  },
  {
   "cell_type": "markdown",
   "id": "4cd01830-c7c3-4b43-be9d-e75f8e09b0bb",
   "metadata": {},
   "source": [
    "<div class=\"rq\">\n",
    "\n",
    "Arrays are great for numerical operations, whereas lists cannot directly handle math operations. **An important feature is that operations can simultaneously be applied to all array elements**. Let's illustrate this: \n",
    "\n",
    "</div>"
   ]
  },
  {
   "cell_type": "code",
   "execution_count": 30,
   "id": "4b821013-53c6-4bae-b62c-fc698ca3f1f1",
   "metadata": {},
   "outputs": [
    {
     "name": "stdout",
     "output_type": "stream",
     "text": [
      "array2 =  [  5   3  19  23   5   1 109 293 617]\n"
     ]
    }
   ],
   "source": [
    "array2 = 2*my_array - 1\n",
    "print(\"array2 = \",array2)"
   ]
  },
  {
   "cell_type": "code",
   "execution_count": 31,
   "id": "2908312b-49ff-4469-b4f9-a25e18203c7c",
   "metadata": {},
   "outputs": [
    {
     "name": "stdout",
     "output_type": "stream",
     "text": [
      "['3' '2' '10' '12' '3' '1' 'Albert Einstein']\n"
     ]
    },
    {
     "ename": "UFuncTypeError",
     "evalue": "ufunc 'multiply' did not contain a loop with signature matching types (dtype('int64'), dtype('<U21')) -> None",
     "output_type": "error",
     "traceback": [
      "\u001b[0;31m---------------------------------------------------------------------------\u001b[0m",
      "\u001b[0;31mUFuncTypeError\u001b[0m                            Traceback (most recent call last)",
      "Input \u001b[0;32mIn [31]\u001b[0m, in \u001b[0;36m<cell line: 3>\u001b[0;34m()\u001b[0m\n\u001b[1;32m      1\u001b[0m my_array \u001b[38;5;241m=\u001b[39m np\u001b[38;5;241m.\u001b[39marray([\u001b[38;5;241m3\u001b[39m, \u001b[38;5;241m2\u001b[39m, \u001b[38;5;241m10\u001b[39m, \u001b[38;5;241m12\u001b[39m, \u001b[38;5;241m3\u001b[39m, \u001b[38;5;241m1\u001b[39m, \u001b[38;5;124m\"\u001b[39m\u001b[38;5;124mAlbert Einstein\u001b[39m\u001b[38;5;124m\"\u001b[39m])\n\u001b[1;32m      2\u001b[0m \u001b[38;5;28mprint\u001b[39m(my_array)\n\u001b[0;32m----> 3\u001b[0m array2 \u001b[38;5;241m=\u001b[39m \u001b[38;5;241;43m2\u001b[39;49m\u001b[38;5;241;43m*\u001b[39;49m\u001b[43mmy_array\u001b[49m \u001b[38;5;241m-\u001b[39m \u001b[38;5;241m1\u001b[39m\n",
      "\u001b[0;31mUFuncTypeError\u001b[0m: ufunc 'multiply' did not contain a loop with signature matching types (dtype('int64'), dtype('<U21')) -> None"
     ]
    }
   ],
   "source": [
    "my_array = np.array([3, 2, 10, 12, 3, 1, \"Albert Einstein\"])\n",
    "print(my_array)\n",
    "array2 = 2*my_array - 1 #this command will generate an error, since it is not possible to do numerical applications on hybrid arrays"
   ]
  },
  {
   "cell_type": "markdown",
   "id": "5663ef69-58b7-4e56-83b6-2964688c4741",
   "metadata": {
    "tags": []
   },
   "source": [
    "### How to easily read arrays from text files in Python?\n",
    "\n",
    "<div class=\"intro\">\n",
    "    \n",
    "Data files can be loaded into a Python code in several ways. We will concentrate here on the reading of data saved as columns under the so-called CSV format, using the `genfromtxt` function of the NumPy library. \n",
    "\n",
    "CSV stands for \"comma-separated values\". A CSV file is a delimited text file that uses a comma, or any other delimiter such a ; or TAB, etc... to separate values.\n",
    "A CSV file consists of one or more lines which consists of one or more values separated by commas. In addition, all the lines of a CSV file have the same number of values.\n",
    "\n",
    "Typically, you use a CSV file to store tabular data in plain text. The CSV file format is quite popular and supported by many software applications such as Microsoft Excel and Google Spreadsheet.read CSV files.\n",
    "    \n",
    "</div>\n",
    "\n",
    "<br>\n",
    "<div class=\"app\">\n",
    "    \n",
    "Let's now have a look at the content of a file named `VolcanoPlot-woA.csv`, contained in the `MiscData/` folder. If you open it with an editor, or directly with this Jupyter tool, you will see\n",
    "```\n",
    "DGads;log i0\n",
    "-12.876146;-6.5492228\n",
    "-8.5595008;-6.7668394\n",
    "-9.9983824;-5.7029361\n",
    "-6.3089424;-5.1830743\n",
    "-6.272048;-4.9775475\n",
    "-7.4526688;-2.8013817\n",
    "-3.3573904;-2.91019\n",
    "-2.3243472;-3.4784111\n",
    "-2.1029808;-2.5958549\n",
    "0.6272048;-3.611399\n",
    "1.8816144;-4.9654577\n",
    "4.3904336;-5.2314335\n",
    "10.441115;-6.3316062\n",
    "11.806208;-7.5889465\n",
    "17.008318;-7.4075993\n",
    "```\n",
    "\n",
    "The CSV file has a header row that includes the titles of each column. Each row in the file contains the same number of cells, which are separated by semicolons. \n",
    "\n",
    "You can also import it in a spreadsheet program, that will display:\n",
    "<img src=\"MiscData/VolcanoPlot-SpreadSheet-woA.png\" style=\"margin-left:auto; margin-right:auto; display: block; width:220px\" id=\"img_VolcanoPlotData\" alt=\"Volcano plot data for the hydrogen reaction\"/>\n",
    "\n",
    "**1.** Use the `genfromtxt` function of `numpy` to read the content of `MiscData/VolcanoPlot-woA.csv`. Don't forget to remove the first line, *i.e.* the header, and to setup the appropriate delimiter.\n",
    "\n",
    "**2.** Use again `genfromtxt` function of `numpy` to read the content of `MiscData/VolcanoPlot-woA.csv`. Now setup the `unpack` option to `True`. If True, the returned array is transposed, so that each column may be returned using, for example `x, y, z = genfromtxt(...)` for a 3-column CSV datafile.\n",
    "</div>"
   ]
  },
  {
   "cell_type": "code",
   "execution_count": 32,
   "id": "fb3c570e-1f42-40be-adb0-599e1f80eab4",
   "metadata": {},
   "outputs": [
    {
     "name": "stdout",
     "output_type": "stream",
     "text": [
      "[[-12.876146   -6.5492228]\n",
      " [ -8.5595008  -6.7668394]\n",
      " [ -9.9983824  -5.7029361]\n",
      " [ -6.3089424  -5.1830743]\n",
      " [ -6.272048   -4.9775475]\n",
      " [ -7.4526688  -2.8013817]\n",
      " [ -3.3573904  -2.91019  ]\n",
      " [ -2.3243472  -3.4784111]\n",
      " [ -2.1029808  -2.5958549]\n",
      " [  0.6272048  -3.611399 ]\n",
      " [  1.8816144  -4.9654577]\n",
      " [  4.3904336  -5.2314335]\n",
      " [ 10.441115   -6.3316062]\n",
      " [ 11.806208   -7.5889465]\n",
      " [ 17.008318   -7.4075993]]\n"
     ]
    }
   ],
   "source": [
    "data = np.genfromtxt(\"./MiscData/VolcanoPlot-woA.csv\",delimiter=\";\",skip_header=1)\n",
    "print(data)"
   ]
  },
  {
   "cell_type": "code",
   "execution_count": 33,
   "id": "4588a5ed-54fe-4e33-8ead-910d5e333063",
   "metadata": {},
   "outputs": [
    {
     "name": "stdout",
     "output_type": "stream",
     "text": [
      "DeltaG =  [-12.876146   -8.5595008  -9.9983824  -6.3089424  -6.272048   -7.4526688\n",
      "  -3.3573904  -2.3243472  -2.1029808   0.6272048   1.8816144   4.3904336\n",
      "  10.441115   11.806208   17.008318 ]\n",
      "log(i0) =  [-6.5492228 -6.7668394 -5.7029361 -5.1830743 -4.9775475 -2.8013817\n",
      " -2.91019   -3.4784111 -2.5958549 -3.611399  -4.9654577 -5.2314335\n",
      " -6.3316062 -7.5889465 -7.4075993]\n"
     ]
    }
   ],
   "source": [
    "DG, logi0 = np.genfromtxt(\"./MiscData/VolcanoPlot-woA.csv\", delimiter=\";\", skip_header=1, unpack=True)\n",
    "print(\"DeltaG = \",DG)\n",
    "print(\"log(i0) = \",logi0)"
   ]
  },
  {
   "cell_type": "markdown",
   "id": "4651727c-dcc7-4354-a662-bb4619e48010",
   "metadata": {},
   "source": [
    "## Functions and plotting, with a word about indentation\n",
    "\n",
    "\n",
    "### Definition of a function\n",
    "\n",
    "<div class=\"intro\">\n",
    "\n",
    "A function is a piece of code that we want to use multiple times but don't want to write out each time. This typically involves taking some input, manipulating the input and returning an output. It only runs when it is called. In Python a function is defined using the `def` keyword:\n",
    "```\n",
    "def my_function1(message):\n",
    "  print(message)\n",
    "```\n",
    "\n",
    "To call a function, use the function name followed by parenthesis. Arguments are specified inside the parentheses. You can add as many arguments as you want, just separate them with a comma.\n",
    "\n",
    "```\n",
    "my_function1(\"Hello from a function\")\n",
    "```\n",
    "\n",
    "This call will simply return `My message is:  Hello from a function`.\n",
    "\n",
    "Let's implement it:\n",
    "</div>"
   ]
  },
  {
   "cell_type": "code",
   "execution_count": 34,
   "id": "8ec978a4-34b3-45db-8b8a-342239f06539",
   "metadata": {},
   "outputs": [
    {
     "name": "stdout",
     "output_type": "stream",
     "text": [
      "This is outside the function\n",
      "My message is:  Hello from a function\n"
     ]
    }
   ],
   "source": [
    "def my_function1(message):\n",
    "    print(\"My message is: \",message)\n",
    "print(\"This is outside the function\")\n",
    "my_function1(\"Hello from a function\")"
   ]
  },
  {
   "cell_type": "markdown",
   "id": "21b18d2b-4e53-4482-be3b-9d28e4c70fee",
   "metadata": {},
   "source": [
    "<div class=\"rq\">\n",
    "\n",
    "The `print(\"My message is: \",message)` statement belongs to an **indented block**, consisting in this case of one statement. The indentation tells Python which statements are in the function, and which are outside it.\n",
    "\n",
    "In the main block of the previous cell, you first print  `This is outside the function` and then you call  `my_function1`, that has been previously defined at the beginning of this cell.\n",
    "</div>"
   ]
  },
  {
   "cell_type": "markdown",
   "id": "7d9677ee-2aec-48d0-808e-74522b7b03f0",
   "metadata": {},
   "source": [
    "To let a function return a value, use the return statement:\n",
    "\n",
    "```\n",
    "def my_function2(a,b,x):\n",
    "  return a*x+b\n",
    "```\n",
    "\n",
    "For example, the call `my_function2(2,1,3)` will return `7`.\n",
    "\n",
    "You can either print it (`print(my_function2(2,1,3))`) or store it in a variable (`y = my_function2(2,1,3)`)."
   ]
  },
  {
   "cell_type": "code",
   "execution_count": 35,
   "id": "e63a733e-88e0-41b5-adac-d777b6a989ad",
   "metadata": {},
   "outputs": [
    {
     "name": "stdout",
     "output_type": "stream",
     "text": [
      "7\n"
     ]
    }
   ],
   "source": [
    "def my_function2(a,b,x):\n",
    "  return a*x+b\n",
    "y = my_function2(2,1,3)\n",
    "print(y)"
   ]
  },
  {
   "cell_type": "markdown",
   "id": "14e3d885-b818-4741-8b21-e1dd9dadec6d",
   "metadata": {},
   "source": [
    "<div class=\"app\">\n",
    "\n",
    "We are now going to define a function that will return the standard change in free energy of a reaction, $\\Delta_rG°$, as a function of the equilibrium constant (*K*) and the temperature (*T*). The function will start with a docstring section. They are documentation strings that are used as comments and they are added below a function or module to describe what it does.\n",
    "</div>"
   ]
  },
  {
   "cell_type": "code",
   "execution_count": 36,
   "id": "e4b06ca5-9142-4c7a-9158-5f072b873c72",
   "metadata": {},
   "outputs": [
    {
     "name": "stdout",
     "output_type": "stream",
     "text": [
      "K = 0.006529  DeltaG = 1.247e+04\n"
     ]
    }
   ],
   "source": [
    "def DrG(K,t):\n",
    "    # this is a docstring\n",
    "    \"\"\"\n",
    "    This function returns the standard change in free energy of a reaction, ΔrG°\n",
    "    \n",
    "    input:\n",
    "        - K = equilibrium constant\n",
    "        - t = temperature in Celsius\n",
    "    output:\n",
    "        - ΔrG° in J K-1 mol-1\n",
    "    prints/saves: nothing\n",
    "    \"\"\" #end of the docstring\n",
    "    import numpy as np\n",
    "    import scipy.constants as sc\n",
    "    R = sc.value(\"molar gas constant\") #the sc.unit(\"molar gas constant\") command previously applied let us know that it is defined in the SI\n",
    "    C2K = sc.zero_Celsius\n",
    "    T = C2K + t\n",
    "    return -R*T*np.log(K)\n",
    "\n",
    "CP = 0.0165 #as concentration of product\n",
    "CR = 0.0417 #as concentration of reactant\n",
    "K = CP**2/CR\n",
    "print(f\"K = {K:.4}  DeltaG = {DrG(K,25):.4}\")"
   ]
  },
  {
   "cell_type": "markdown",
   "id": "cfa2f06f-5f9b-43ae-81c7-6922c865cbcb",
   "metadata": {},
   "source": [
    "<div class=\"rq\">\n",
    "    \n",
    "**Why a docstring section?**\n",
    "    \n",
    "There is no obligation. But let's suppose that you have stored the DrG function in an external python library. You do not remember how `DrG` exactly works and which arguments it needs. Probably an equilibrium constant and a temperature, but in which order? Must the temperature be given in Celsius or directly in Kelvin? Whats is the unit of the returned DrG value? Such answers can be obtained thanks to a well-written `docstring` section:\n",
    "- it helps users to properly address a function\n",
    "- it also helps the main coder remember the function of any code after a long time\n",
    "- it also helps other coders who want to work on the same project\n",
    "- **could it be relevant in the Physical Chemistry lab?** Of course. First of all for the main developer, that is you. But let's also assume that you develop a collaborative lab notebook in the framework of a lab project. An accurate and concise `docstring` section will be of utmost importance to make the notebook and its functions usable and improvable by all group members.\n",
    "\n",
    "As a user, you just have to type:\n",
    "</div>"
   ]
  },
  {
   "cell_type": "code",
   "execution_count": 37,
   "id": "a8df32ad-8723-47d4-8ab7-1c6e511d4dad",
   "metadata": {},
   "outputs": [
    {
     "name": "stdout",
     "output_type": "stream",
     "text": [
      "Help on function DrG in module __main__:\n",
      "\n",
      "DrG(K, t)\n",
      "    This function returns the standard change in free energy of a reaction, ΔrG°\n",
      "    \n",
      "    input:\n",
      "        - K = equilibrium constant\n",
      "        - t = temperature in Celsius\n",
      "    output:\n",
      "        - ΔrG° in J K-1 mol-1\n",
      "    prints/saves: nothing\n",
      "\n"
     ]
    }
   ],
   "source": [
    "help(DrG)"
   ]
  },
  {
   "cell_type": "markdown",
   "id": "01dd49b5-96ab-499d-9055-8ba3344567c1",
   "metadata": {},
   "source": [
    "<div class=\"app\">\n",
    "\n",
    "**1.** Define an array `K` with the following equilibrium constants values: 0.05, 0.1, 0.5, 1, 5, 10, 30, 50, 100, 500, 1000\n",
    "\n",
    "**2.** Use the previously defined `DrG` function to calculate all corresponding $\\Delta_rG°$ at once\n",
    "    \n",
    "</div>"
   ]
  },
  {
   "cell_type": "code",
   "execution_count": 38,
   "id": "8131f60d-c247-422b-881e-a8eaf33abe73",
   "metadata": {},
   "outputs": [
    {
     "data": {
      "text/plain": [
       "array([  7426.2915782 ,   5708.00950243,   1718.28207577,     -0.        ,\n",
       "        -3989.72742666,  -5708.00950243,  -8431.42215818,  -9697.73692909,\n",
       "       -11416.01900486, -15405.74643152, -17124.02850729])"
      ]
     },
     "execution_count": 38,
     "metadata": {},
     "output_type": "execute_result"
    }
   ],
   "source": [
    "import numpy as np #np is now a shortcut for numpy\n",
    "\n",
    "K = [0.05, 0.1, 0.5, 1, 5, 10, 30, 50, 100, 500, 1000] # we first define a list with various values of the equilibrium constant\n",
    "K = np.array(K) # the list is converted into a numpy array\n",
    "DrG(K,25) # DG returns an array "
   ]
  },
  {
   "cell_type": "markdown",
   "id": "cced3e3c-9096-4bc1-998d-395b036f68f7",
   "metadata": {},
   "source": [
    "### Plotting\n",
    "\n",
    "<div class=\"intro\">\n",
    "    \n",
    "There are no plotting functions in the Python Standard Library Python, so we have to import a module for this task. The most widely used one is the `pyplot` module of the [Matplotlib library](https://matplotlib.org/stable/tutorials/introductory/quick_start.html), which is a widely used and useful plotting library. Simple plots are then easy to create and customize. \n",
    "</div>\n",
    "<br>\n",
    "<div class=\"app\">\n",
    "\n",
    "\n",
    "Let's start by plotting $\\Delta_rG°(25)$ as a function of *K*\n",
    "</div>"
   ]
  },
  {
   "cell_type": "code",
   "execution_count": 39,
   "id": "bac66527-60d9-4675-aeba-f3740dfe46a4",
   "metadata": {},
   "outputs": [
    {
     "data": {
      "text/plain": [
       "[<matplotlib.lines.Line2D at 0x7f0ee8a00c40>]"
      ]
     },
     "execution_count": 39,
     "metadata": {},
     "output_type": "execute_result"
    },
    {
     "data": {
      "text/plain": [
       "Text(0.5, 0, 'equilibrium constant K')"
      ]
     },
     "execution_count": 39,
     "metadata": {},
     "output_type": "execute_result"
    },
    {
     "data": {
      "text/plain": [
       "Text(0, 0.5, 'Gibbs free energy')"
      ]
     },
     "execution_count": 39,
     "metadata": {},
     "output_type": "execute_result"
    },
    {
     "data": {
      "text/plain": [
       "Text(0.5, 1.0, 'My first graph: DrG° as a function of K, at 25°C')"
      ]
     },
     "execution_count": 39,
     "metadata": {},
     "output_type": "execute_result"
    },
    {
     "data": {
      "image/png": "[encoded data removed]",
      "text/plain": [
       "<Figure size 432x288 with 1 Axes>"
      ]
     },
     "metadata": {
      "needs_background": "light"
     },
     "output_type": "display_data"
    }
   ],
   "source": [
    "# import the required module\n",
    "import matplotlib.pyplot as plt\n",
    "\n",
    "# plotting the points \n",
    "plt.plot(K, DrG(K,25))\n",
    "  \n",
    "# naming the x axis\n",
    "plt.xlabel('equilibrium constant K')\n",
    "\n",
    "# naming the y axis\n",
    "plt.ylabel('Gibbs free energy')\n",
    "  \n",
    "# giving a title to my graph\n",
    "plt.title('My first graph: DrG° as a function of K, at 25°C')\n",
    "  \n",
    "# function to show the plot\n",
    "plt.show()"
   ]
  },
  {
   "cell_type": "code",
   "execution_count": 40,
   "id": "d1de62c5-9c46-49a3-9891-30ce6ac00ea6",
   "metadata": {},
   "outputs": [],
   "source": [
    "#set the interactivity parameter to 'none'. Function calls will display nothing from now on\n",
    "from IPython.core.interactiveshell import InteractiveShell\n",
    "InteractiveShell.ast_node_interactivity = \"none\""
   ]
  },
  {
   "cell_type": "code",
   "execution_count": 41,
   "id": "75d84a7f-dce6-4a90-b862-7f7fded88c4a",
   "metadata": {},
   "outputs": [
    {
     "data": {
      "image/png": "[encoded data removed]",
      "text/plain": [
       "<Figure size 864x576 with 1 Axes>"
      ]
     },
     "metadata": {
      "needs_background": "light"
     },
     "output_type": "display_data"
    }
   ],
   "source": [
    "#this sets the figure size\n",
    "plt.figure(figsize=(12,8))\n",
    "\n",
    "# plot the points \n",
    "plt.plot(K, DrG(K,25), color='r', linewidth=3, marker=\"o\")\n",
    "\n",
    "# name the x and y axis\n",
    "plt.xlabel('equilibrium constant K',size=14,fontweight='bold',color='blue')\n",
    "plt.ylabel('Gibbs free energy',size=14,fontweight='bold',color='blue')\n",
    "# set tick labels font size\n",
    "plt.xticks(fontsize=16,fontweight='bold')\n",
    "plt.yticks(fontsize=16,fontweight='bold')\n",
    "# give a title to the graph\n",
    "plt.title('My first graph: Delta_rG° as a function of K, at 25°C',fontweight='bold')\n",
    "\n",
    "# it is also possible to save a plot, if you want to insert it in a document (text, presentation, ...)\n",
    "plt.savefig('./FiguresCreatedInNotebooks/fig1-Pyt4PC.png',dpi=300,transparent=True)\n",
    "\n",
    "# show the plot. The image is then closed and freed from memory. This is why plt.savefig or any other option must be called before plt.show\n",
    "plt.show()\n"
   ]
  },
  {
   "cell_type": "markdown",
   "id": "c3d60916-ed65-4add-a6d7-9890dc2171ca",
   "metadata": {},
   "source": [
    "<div class=\"app\">\n",
    "\n",
    "Let's now work again on the `VolcanoPlot-woA.csv` datafile, contained in the `MiscData/` folder. According to the header, this file contains a first property named DGads and a second one named log i0. Explaining in details would be far beyond the scope of this notebook. Let's just say that what is reported here is related to the electrocatalytic production of molecular hydrogen at a metal electrode. $\\log(i_0)$, the exchange current density, is related the quantity of hydrogen produced. DGads is the so-called Gibbs energy of adsorption of hydrogen at the electrode, $\\Delta_\\mathrm{ads}G°$. Each ($\\Delta_\\mathrm{ads}G°$, $\\log(i_0)$) couple characterizes the efficiency of a specific metal electrode. The plot is expected to look like a **Sabatier-like volcano**, with the best electrode materials on the peak. Well. It's time to bring the digression to an end.\n",
    "    \n",
    "</div>"
   ]
  },
  {
   "cell_type": "code",
   "execution_count": 42,
   "id": "979eb9a3-e04d-4329-a553-859f48904041",
   "metadata": {},
   "outputs": [],
   "source": [
    "from IPython.core.interactiveshell import InteractiveShell\n",
    "InteractiveShell.ast_node_interactivity = \"none\""
   ]
  },
  {
   "cell_type": "code",
   "execution_count": 43,
   "id": "82133a22-de87-4efb-839b-ec7076e02cf3",
   "metadata": {},
   "outputs": [
    {
     "data": {
      "image/png": "[encoded data removed]",
      "text/plain": [
       "<Figure size 864x576 with 1 Axes>"
      ]
     },
     "metadata": {
      "needs_background": "light"
     },
     "output_type": "display_data"
    }
   ],
   "source": [
    "# import the required module\n",
    "import matplotlib.pyplot as plt\n",
    "\n",
    "plt.figure(figsize=(12,8))\n",
    "plt.plot(DG, logi0, color='r', linestyle='', marker=\"o\",markersize=16)\n",
    "plt.xlabel('Gibbs adsorption energy',size=14,fontweight='bold',color='blue')\n",
    "plt.ylabel('log(i0)',size=14,fontweight='bold',color='blue')\n",
    "plt.xticks(fontsize=16,fontweight='bold')\n",
    "plt.yticks(fontsize=16,fontweight='bold')\n",
    "\n",
    "plt.show()"
   ]
  },
  {
   "cell_type": "markdown",
   "id": "c828abfc-11e2-4646-9d78-022c1a954b01",
   "metadata": {},
   "source": [
    "<div class=\"rq\">\n",
    "\n",
    "**Hey!** It barely looks as a volcano!\n",
    "    \n",
    "</div>\n",
    "<br>\n",
    "<div class=\"intro\">\n",
    "\n",
    "Well, the volcano plot is a somewhat idealized concept, not to mention the experimental uncertainties on $\\Delta_\\mathrm{ads}G°$ and $\\log(i_0)$. To highlight the volcano shape of these data, we need to **smooth** them. The idea is to create an approximating function that attempts to capture important patterns in the data, while leaving out noise. We will use for that the Savitzky–Golay digital filter available in a library called **SciPy**. This library provides fundamental algorithms for scientific computing in Python. One of its modules, `scipy.signal` is a signal processing toolbox that currently contains some filtering functions. The Savitzky–Golay digital filter, `savgol_filter`, is part of the `scipy.signal` toolbox.\n",
    "    \n",
    "</div>\n",
    "<br>\n",
    "<div class=\"app\">\n",
    "\n",
    "Compare the next cell with the previous one to find the differences between them.\n",
    "</div>"
   ]
  },
  {
   "cell_type": "code",
   "execution_count": 44,
   "id": "53ec5a79-2ce3-456b-a73a-d507b4fa9333",
   "metadata": {},
   "outputs": [
    {
     "data": {
      "image/png": "[encoded data removed]",
      "text/plain": [
       "<Figure size 864x576 with 1 Axes>"
      ]
     },
     "metadata": {
      "needs_background": "light"
     },
     "output_type": "display_data"
    }
   ],
   "source": [
    "from scipy.signal import savgol_filter\n",
    "DGhat, logi0hat = savgol_filter((DG,logi0), 11, 3)  # These two parameters are the length of the filter window,\n",
    "                                                    # Followed by the order of the polynomial used to fit the samples\n",
    "                                                    # We have played a bit to find a combination of parameters that nicely smooths the data\n",
    "\n",
    "plt.figure(figsize=(12,8))\n",
    "plt.plot(DG, logi0, color='r', linestyle='', marker=\"o\",markersize=16) # plot of the experimental (DG, logi0) couple \n",
    "plt.plot(DGhat, logi0hat, color='b', linestyle='--', linewidth=4)  # plot of the smoothed data, displayed as a dashed line\n",
    "plt.xlabel('Gibbs adsorption energy',size=14,fontweight='bold',color='blue')\n",
    "plt.ylabel('log(i0)',size=14,fontweight='bold',color='blue')\n",
    "plt.ylabel('log(i0)',size=14,fontweight='bold',color='blue')\n",
    "plt.xticks(fontsize=16,fontweight='bold')\n",
    "plt.yticks(fontsize=16,fontweight='bold')\n",
    "\n",
    "plt.show()"
   ]
  },
  {
   "cell_type": "markdown",
   "id": "cbfbb0af-f799-484b-918a-8e9673b424bf",
   "metadata": {},
   "source": [
    "<div class=\"rq\">\n",
    "\n",
    "The volcano shape of the ($\\Delta_\\mathrm{ads}G°$, $\\log(i_0)$) data is somewhat more convincing now, isn't it?\n",
    "    \n",
    "</div>"
   ]
  },
  {
   "cell_type": "markdown",
   "id": "337cf4c9-b006-41c5-95e8-d660fdc74c38",
   "metadata": {},
   "source": [
    "## Numerical integrals and derivatives\n",
    "\n",
    "### Integrals"
   ]
  },
  {
   "cell_type": "code",
   "execution_count": 45,
   "id": "bca1950f-5d66-496e-b54a-6fa26c06e6ae",
   "metadata": {
    "tags": []
   },
   "outputs": [
    {
     "data": {
      "image/png": "[encoded data removed]",
      "text/plain": [
       "<Figure size 864x432 with 1 Axes>"
      ]
     },
     "metadata": {
      "needs_background": "light"
     },
     "output_type": "display_data"
    }
   ],
   "source": [
    "import numpy as np #np is now a shortcut for numpy\n",
    "import matplotlib.pyplot as plt #plt is now a shortcut for matplotlib.pyplot\n",
    "\n",
    "delta, I = np.genfromtxt(\"./MiscData/NMR-Propan-1-ol.csv\", delimiter=\";\", skip_header=1, unpack=True)\n",
    "\n",
    "import matplotlib.ticker as ticker\n",
    "plt.figure(figsize=(12,6))\n",
    "plt.plot(delta, I)\n",
    "plt.xticks(fontsize=16,fontweight='bold')\n",
    "plt.yticks(fontsize=16,fontweight='bold')\n",
    "plt.xlabel('chemical shift / ppm',size=14,fontweight='bold',color='blue')\n",
    "plt.ylabel('intensity / arb. unit',size=14,fontweight='bold',color='blue')\n",
    "plt.title('1H NMR spectrum of propan-1-ol in CDCl3',size=14)\n",
    "plt.grid(which='major', axis='x', linestyle='-.')\n",
    "ax = plt.gca()\n",
    "ax.invert_xaxis()\n",
    "ax.xaxis.set_major_locator(ticker.MultipleLocator(1))\n",
    "  \n",
    "plt.show()"
   ]
  },
  {
   "cell_type": "code",
   "execution_count": 46,
   "id": "de90e80b-086d-463b-9ac4-1108ea531694",
   "metadata": {},
   "outputs": [
    {
     "data": {
      "image/png": "[encoded data removed]",
      "text/plain": [
       "<Figure size 432x288 with 1 Axes>"
      ]
     },
     "metadata": {
      "needs_background": "light"
     },
     "output_type": "display_data"
    },
    {
     "name": "stdout",
     "output_type": "stream",
     "text": [
      "peak(s) area =  8.612727008467587\n"
     ]
    },
    {
     "data": {
      "image/png": "[encoded data removed]",
      "text/plain": [
       "<Figure size 432x288 with 1 Axes>"
      ]
     },
     "metadata": {
      "needs_background": "light"
     },
     "output_type": "display_data"
    },
    {
     "name": "stdout",
     "output_type": "stream",
     "text": [
      "peak(s) area =  4.434464355440707\n"
     ]
    },
    {
     "data": {
      "image/png": "[encoded data removed]",
      "text/plain": [
       "<Figure size 432x288 with 1 Axes>"
      ]
     },
     "metadata": {
      "needs_background": "light"
     },
     "output_type": "display_data"
    },
    {
     "name": "stdout",
     "output_type": "stream",
     "text": [
      "peak(s) area =  8.56588636676551\n"
     ]
    },
    {
     "data": {
      "image/png": "[encoded data removed]",
      "text/plain": [
       "<Figure size 432x288 with 1 Axes>"
      ]
     },
     "metadata": {
      "needs_background": "light"
     },
     "output_type": "display_data"
    },
    {
     "name": "stdout",
     "output_type": "stream",
     "text": [
      "peak(s) area =  12.791438130836596\n",
      "2.0026968652921435 1.0311354179877779 1.991805122617286 2.9743625941027934\n"
     ]
    }
   ],
   "source": [
    "from scipy.integrate import simpson\n",
    "\n",
    "a = 3.5\n",
    "b = 3.65\n",
    "interval = (delta > a) & (delta < b)\n",
    "ind = np.nonzero(interval)\n",
    "I_xtr = I[ind]\n",
    "delta_xtr=delta[ind]\n",
    "plt.plot(delta_xtr, I_xtr)\n",
    "plt.fill_between(delta_xtr, I_xtr, alpha=0.15, color='#00aaff')\n",
    "ax = plt.gca()\n",
    "ax.invert_xaxis()\n",
    "plt.show()\n",
    "A1 = simpson(I_xtr, x=delta_xtr)\n",
    "print(\"peak(s) area = \",A1)\n",
    "\n",
    "a = 2.25\n",
    "b = 2.35\n",
    "interval = (delta > a) & (delta < b)\n",
    "ind = np.nonzero(interval)\n",
    "I_xtr = I[ind]\n",
    "delta_xtr=delta[ind]\n",
    "plt.plot(delta_xtr, I_xtr)\n",
    "plt.fill_between(delta_xtr, I_xtr, alpha=0.15, color='#00aaff')\n",
    "ax = plt.gca()\n",
    "ax.invert_xaxis()\n",
    "plt.show()\n",
    "A2 = simpson(I_xtr, x=delta_xtr)\n",
    "print(\"peak(s) area = \",A2)\n",
    "\n",
    "a = 1.45\n",
    "b = 1.70\n",
    "interval = (delta > a) & (delta < b)\n",
    "ind = np.nonzero(interval)\n",
    "I_xtr = I[ind]\n",
    "delta_xtr=delta[ind]\n",
    "plt.plot(delta_xtr, I_xtr)\n",
    "plt.fill_between(delta_xtr, I_xtr, alpha=0.15, color='#00aaff')\n",
    "ax = plt.gca()\n",
    "ax.invert_xaxis()\n",
    "plt.show()\n",
    "A3 = simpson(I_xtr, x=delta_xtr)\n",
    "print(\"peak(s) area = \",A3)\n",
    "\n",
    "a = 0.85\n",
    "b = 1.0\n",
    "interval = (delta > a) & (delta < b)\n",
    "ind = np.nonzero(interval)\n",
    "I_xtr = I[ind]\n",
    "delta_xtr=delta[ind]\n",
    "plt.plot(delta_xtr, I_xtr)\n",
    "plt.fill_between(delta_xtr, I_xtr, alpha=0.15, color='#00aaff')\n",
    "ax = plt.gca()\n",
    "ax.invert_xaxis()\n",
    "plt.show()\n",
    "A4 = simpson(I_xtr, x=delta_xtr)\n",
    "print(\"peak(s) area = \",A4)\n",
    "\n",
    "nH = 8\n",
    "sumA = A1 + A2 + A3 + A4\n",
    "n1 = nH * A1/sumA\n",
    "n2 = nH * A2/sumA\n",
    "n3 = nH * A3/sumA\n",
    "n4 = nH * A4/sumA\n",
    "print(n1,n2,n3,n4)"
   ]
  },
  {
   "cell_type": "code",
   "execution_count": 53,
   "id": "d18a6b2f-50b8-4e0a-a832-a155630a7316",
   "metadata": {},
   "outputs": [
    {
     "data": {
      "image/png": "[encoded data removed]",
      "text/plain": [
       "<Figure size 432x288 with 1 Axes>"
      ]
     },
     "metadata": {
      "needs_background": "light"
     },
     "output_type": "display_data"
    },
    {
     "data": {
      "image/png": "[encoded data removed]",
      "text/plain": [
       "<Figure size 432x288 with 1 Axes>"
      ]
     },
     "metadata": {
      "needs_background": "light"
     },
     "output_type": "display_data"
    },
    {
     "data": {
      "image/png": "[encoded data removed]",
      "text/plain": [
       "<Figure size 432x288 with 1 Axes>"
      ]
     },
     "metadata": {
      "needs_background": "light"
     },
     "output_type": "display_data"
    },
    {
     "data": {
      "image/png": "[encoded data removed]",
      "text/plain": [
       "<Figure size 432x288 with 1 Axes>"
      ]
     },
     "metadata": {
      "needs_background": "light"
     },
     "output_type": "display_data"
    },
    {
     "name": "stdout",
     "output_type": "stream",
     "text": [
      "[3.50-3.65] ppm --> 2.0 H\n"
     ]
    }
   ],
   "source": [
    "def zoomNMR(limits,delta,I,plot):\n",
    "    from scipy.integrate import simpson\n",
    "    interval = (delta > limits[0]) & (delta < limits[1])\n",
    "    ind = np.nonzero(interval)\n",
    "    I_zoom = I[ind]\n",
    "    delta_zoom=delta[ind]\n",
    "    if (plot):\n",
    "        plt.plot(delta_zoom, I_zoom)\n",
    "        plt.fill_between(delta_zoom, I_zoom, alpha=0.15, color='#00aaff')\n",
    "        ax = plt.gca()\n",
    "        ax.invert_xaxis()\n",
    "        plt.show()\n",
    "    A = simpson(I_zoom, x=delta_zoom)\n",
    "    return A\n",
    "\n",
    "def nXperMultiplet(nXtot,nMultiplets,AMultiplets):\n",
    "    sumA = 0.\n",
    "    n = np.zeros(nMultiplets)\n",
    "    for i in range(nMultiplets):\n",
    "        sumA += AMultiplets[i]\n",
    "    for i in range(nMultiplets):\n",
    "        n[i] = nXtot * AMultiplets[i]/sumA\n",
    "    return n\n",
    "    \n",
    "nMultiplets = 4\n",
    "limits=np.array([[0.85,1.0],\n",
    "                 [2.25,2.35],\n",
    "                 [1.45,1.70],\n",
    "                 [3.5,3.65]\n",
    "                 ])\n",
    "\n",
    "A=np.zeros(nMultiplets)\n",
    "\n",
    "for i in range(nMultiplets):\n",
    "    A[i] = zoomNMR(limits[i],delta,I,True)\n",
    "    \n",
    "    \n",
    "nH = 8\n",
    "print(f\"[{limits[i][0]:.2f}-{limits[i][1]:.2f}] ppm --> {n:.1f} H\")"
   ]
  },
  {
   "cell_type": "markdown",
   "id": "b65a0e1b-a3cf-4598-82cc-a57f1286c9ce",
   "metadata": {
    "tags": []
   },
   "source": [
    "### Derivatives\n",
    "\n",
    "<div class=\"intro\">\n",
    "\n",
    "Let's now move to thermodynamics, and more specifically to two thermodynamic properties: the enthalpy, $H$, and the heat capacity at constant pressure, $C_P$. The enthalpy value of a chemical system is determined entirely by the temperature, pressure, and composition of this system. $H$ has the dimensions of **energy**.\n",
    "\n",
    "If we consider a constant pressure process, it can be shown that the first derivative of *H* with respect to temperature is nothing else but $C_P$:\n",
    "\n",
    "$$C_{P}(T)=\\left(\\frac{\\partial H}{\\partial T}\\right)_{P}$$\n",
    "\n",
    "$C_P(T)$ is actually the amount of heat to be supplied to an object to produce a unit change in its temperature *T*. It is usually expressed as Joules per Kelvin in terms of the actual amount of material being considered, most commonly a mole.\n",
    "\n",
    "</div>\n",
    "<br>\n",
    "<div class=\"app\">\n",
    "\n",
    "In the next cell, we will:\n",
    "    \n",
    "**1.** load with `np.genfromtxt` *H* values experimentally found for copper (Cu) under *P* = 1 bar, at various temperatures (first column = *T* in K, second column = *H* in kJ․mol$^{-1}$)\n",
    "\n",
    "**2.** plot *H* as a function of *T*. It will give the opportunity to annotate specific parts on the graph\n",
    "\n",
    "**3.** convert *H* in J․mol$^{-1}$, before the calculation of $C_P$ as $\\left(\\frac{\\partial H}{\\partial T}\\right)_{P}$\n",
    "    \n",
    "</div>"
   ]
  },
  {
   "cell_type": "code",
   "execution_count": null,
   "id": "03b7d865-dd31-4c02-b956-6d6865e7510f",
   "metadata": {},
   "outputs": [],
   "source": [
    "T,H = np.genfromtxt(\"./MiscData/H0-Cu.csv\", delimiter=\"\\t\", skip_header=1, unpack=True)\n",
    "#T and H are numpy arrays\n",
    "print(\"Temperature = \",T)\n",
    "print(\"Enthalpy = \",H)\n",
    "\n",
    "plt.figure(figsize=(12,8))\n",
    "plt.plot(T, H, color='darkblue', linestyle='-', marker=\"o\",markersize=10)\n",
    "plt.xlabel('Temperature / K',size=14,fontweight='bold',color='blue')\n",
    "plt.ylabel('H° - H°(298.15K) / kJ.mol-1',size=14,fontweight='bold',color='blue')\n",
    "plt.xticks(fontsize=16,fontweight='bold')\n",
    "plt.yticks(fontsize=16,fontweight='bold')\n",
    "\n",
    "#play a bit with the xoff and yoff values to see what happens\n",
    "xoff = -10\n",
    "yoff = 50\n",
    "plt.annotate(\"1st phase transition\", ha='center', xy=(1358,42.798), xytext=(xoff, yoff), textcoords='offset points',fontsize=14,color='r',arrowprops=dict(color='red', width=0.1))\n",
    "plt.annotate(\"2nd phase transition\", ha='center', xy=(2843.261,392.257), xytext=(xoff, yoff), textcoords='offset points',fontsize=14,color='r',arrowprops=dict(color='red', width=0.1))\n",
    "\n",
    "plt.show()\n",
    "\n",
    "# conversion of H in J.mol-1\n",
    "H *= 1000."
   ]
  },
  {
   "cell_type": "markdown",
   "id": "299da978-fbc0-467b-8b49-85fc64685897",
   "metadata": {},
   "source": [
    "<div class=\"rq\">\n",
    "\n",
    "**There are two very interesting features at ∼1350 K and ∼2850 K**: a sudden increase of *H*. This pattern is characteristic of **phase transitions** (e.g. solid ↔ liquid or liquid ↔ gas). During these transitions very large changes in the value of the enthalpy for a substance occur without any noticeable change in temperature.\n",
    "    \n",
    "Two phase transitions occur in this temperature domain:\n",
    "- a fusion of solid Cu at $T_\\mathrm{fus}$ = 1358 K (*i.e.* a phase transition solid ↔ liquid)\n",
    "- a vaporization of liquid Cu at $T_\\mathrm{vap}$ = 2843.2 K (*i.e.* a phase transition liquid ↔ gas)\n",
    "    \n",
    "</div>\n",
    "<br>\n",
    "<div class=\"intro\">\n",
    "    \n",
    "We are now going to calculate $C_P$ as the firt derivative of *H* with respect to *T*. Yet, we do not have a function $H(T)$, but values of *H* measured for different temperatures. So we have to numerically calculate the first derivative. The simplest way to do that is by calculating for each temperature $T_i$:\n",
    "\n",
    "$$C_p(T_i) = H'(T_{i}) = \\frac{\\Delta H}{\\Delta T} = \\frac{H(T_{i+1})-H(T_{i})}{T_{i+1}-T_{i}}$$\n",
    "\n",
    "The `gradient(y,x)` function of `NumPy` can do such calculation, using a more accurate formulation. In practice, it returns the first derivative at each point of an array y, which values are located at the positions contained in the x array.\n",
    "</div>\n",
    "<br>\n",
    "<div class=\"app\">\n",
    "\n",
    "In the next cell, we are going to:\n",
    "\n",
    "**1.** calculate $C_P$ as the derivative of *H* with respect to *T*, using `np.gradient`\n",
    "\n",
    "**2.** plot $C_P$ as a function of *T*\n",
    "</div>\n",
    "<br>\n",
    "<div class=\"rq\">\n",
    "\n",
    "But first of all, a gentle mathematical reminder... The plot of $H(T)$ shows two discontinuities of the curve at each phase transition. Given the genuine definition of the first derivative, *i.e.*:\n",
    "\n",
    "$$f'(a)=\\lim_{h\\rightarrow0}\\frac{f(a+h)-f(x)}{h}$$\n",
    "\n",
    "and given as well what you know about derivatives, what is the expected value of $C_P$ at phase transitions?...    \n",
    "\n",
    "$C_{P}\\rightarrow+\\infty$ !! (since *h* = 0 either at $T_\\mathrm{fus}$ and $T_\\mathrm{vap}$)\n",
    "    \n",
    "In other words, if *f* is differentiable at *a*, then *f* must also be **continuous** at *a*\n",
    "    \n",
    "This why a very large numerical value is found for $C_P$ at $T_\\mathrm{fus}$ and $T_\\mathrm{vap}$. It involves to set the limits of the y axis (see code below).\n",
    "\n",
    "</div>"
   ]
  },
  {
   "cell_type": "code",
   "execution_count": null,
   "id": "6e1c9128-7f35-466e-a2eb-bea162f09cd3",
   "metadata": {},
   "outputs": [],
   "source": [
    "# first calculate Cp as the gradient of H with respect to T\n",
    "Cp = np.gradient(H, T)\n",
    "\n",
    "# now plot Cp as a function of T\n",
    "plt.figure(figsize=(12,8))\n",
    "plt.plot(T, Cp, color='r', linestyle='-', marker=\"o\",markersize=5)\n",
    "plt.xlabel('Temperature / K',size=14,fontweight='bold',color='blue')\n",
    "plt.ylabel('Cp / J.mol-1.K-1',size=14,fontweight='bold',color='blue')\n",
    "plt.xticks(fontsize=16,fontweight='bold')\n",
    "plt.yticks(fontsize=16,fontweight='bold')\n",
    "#set the limits of the y axis due to the high Cp values\n",
    "plt.ylim(0,200)"
   ]
  },
  {
   "cell_type": "markdown",
   "id": "897851df-67b5-43a5-9fa8-bfb0f641b2a2",
   "metadata": {},
   "source": [
    "## Advanced control using conditional branching and looping structures\n",
    "\n",
    "### Loops\n",
    "\n",
    "<div class=\"intro\">\n",
    "\n",
    "In computer programming, loops are used to repeat a block of code. The `for` loop is used to run a block of code for a certain number of times. It is used to iterate over any sequences such as lists, range of numbers,.. The simplest way to figure out how it works is to run the blocks of codes below:\n",
    "</div>"
   ]
  },
  {
   "cell_type": "code",
   "execution_count": null,
   "id": "9ccc28bb-7381-4df5-9838-7fd8a955b22f",
   "metadata": {},
   "outputs": [],
   "source": [
    "superheroes = [\"Superman\", \"Homelander\", \"Silver Surfer\", \"Batman\"]\n",
    "for i in superheroes:\n",
    "    print(i)\n",
    "    print(\"-- End of the list ?? --\") #this print command belongs to the indented block => it's part of the loop"
   ]
  },
  {
   "cell_type": "code",
   "execution_count": null,
   "id": "8f22322b-6d49-4a5d-9f88-e9ea87718ffa",
   "metadata": {},
   "outputs": [],
   "source": [
    "superheroes = [\"Superman\", \"Homelander\", \"Silver Surfer\", \"Batman\"]\n",
    "for i in superheroes:\n",
    "    print(i)\n",
    "print(\"-- End of the list !! --\") #this print command does not belong to the indented block => it's outside the loop"
   ]
  },
  {
   "cell_type": "markdown",
   "id": "a33f5549-50ed-449f-935e-e5a2a81f8b84",
   "metadata": {},
   "source": [
    "<div class=\"rq\">\n",
    "\n",
    "The `print(i)` command must belong to an **indented block**, consisting in this case of one statement. The indentation tells Python which statements are in the loop, and which are outside the loop.\n",
    "</div>"
   ]
  },
  {
   "cell_type": "markdown",
   "id": "6cdd18ac-c4e6-41ef-bb58-c0b8c0c8a232",
   "metadata": {},
   "source": [
    "<div class=\"app\">\n",
    "\n",
    "We want to annotate all the points on the graph with the name of the electrode, using a built-in `annotate` function of `matplotlib.pyplot` (aka `plt`) that takes the text, and then the x and y coordinates of the point.\n",
    "    \n",
    "A `VolcanoPlot-wA.csv` file, contained in the `MiscData/` folder differs from the previoulsy loaded `VolcanoPlot-woA.csv` file by a third column that contains the chemical composition of the electrode:\n",
    "\n",
    "<img src=\"MiscData/VolcanoPlot-SpreadSheet-wA.png\" style=\"margin-left:auto; margin-right:auto; display: block; width:300px\" id=\"img_VolcanoPlotData2\" alt=\"Volcano plot data for the hydrogen reaction\"/>\n",
    "    \n",
    "**1.** Read this file with `np.genfromtxt`. \n",
    "\n",
    "**2.** Then plot again $\\log(i_0)$ as a function of $\\Delta_\\mathrm{ads}G$ and smooth the function\n",
    "\n",
    "**3.** Finally annotate each point by the corresponding chemical composition of the electrode. Mind that `np.annotate` cannot receive arrrays as arguments. Use a loop to annotate all points.\n",
    "</div>"
   ]
  },
  {
   "cell_type": "code",
   "execution_count": null,
   "id": "84d02462-e813-4e32-bfdb-3b11e72e4cad",
   "metadata": {},
   "outputs": [],
   "source": [
    "import numpy as np #np is now a shortcut for numpy\n",
    "import matplotlib.pyplot as plt #plt is now a shortcut for matplotlib.pyplot\n",
    "\n",
    "# np.genfromtxt can be a pain in the ass when you have to read both floats and text\n",
    "# the most reliable way is to explicitly define each column type, namely float, float and '|U10'\n",
    "# '|U10'??? yes, as unicode 10-character string. Well, never mind, just copy/paste\n",
    "# And if the width of the text column increases 10 caracters, increase '|U10' to the appropriate '|Un' statement\n",
    "DG, logi0, electrode = np.genfromtxt(\"./MiscData/VolcanoPlot-wA.csv\", delimiter=\";\", skip_header=1, dtype=(float,float,'|U10'), unpack=True)\n",
    "# that was the tricky part, now it's easy\n",
    "print(\"DeltaG = \",DG)\n",
    "print(\"log(i0) = \",logi0)\n",
    "print(\"electrode = \",electrode)"
   ]
  },
  {
   "cell_type": "code",
   "execution_count": null,
   "id": "c77870e0-d7bf-407b-81cd-83227e3e4dd1",
   "metadata": {},
   "outputs": [],
   "source": [
    "from scipy.signal import savgol_filter\n",
    "DGhat, logi0hat = savgol_filter((DG,logi0), 11, 3)\n",
    "\n",
    "plt.figure(figsize=(12,8))\n",
    "plt.plot(DG, logi0, color='r', linestyle='', marker=\"o\",markersize=16)\n",
    "plt.plot(DGhat, logi0hat, color='b', linestyle='--', linewidth=4, alpha=0.3) #alpha is the degree of transparency of the graph (opaque -> alpha = 1, fully translucent -> alpha = 0)\n",
    "plt.xlabel('Gibbs adsorption energy',size=14,fontweight='bold',color='blue')\n",
    "plt.ylabel('log(i0)',size=14,fontweight='bold',color='blue')\n",
    "plt.xticks(fontsize=16,fontweight='bold')\n",
    "plt.yticks(fontsize=16,fontweight='bold')\n",
    "\n",
    "# annotation\n",
    "for i in range(len(electrode)):\n",
    "    plt.annotate(electrode[i], xy=(DG[i]+0.6,logi0[i]),fontsize=14,fontweight='bold')\n",
    "\n",
    "plt.savefig('./FiguresCreatedInNotebooks/fig2-Pyt4PC.png',dpi=300,transparent=True)\n",
    "plt.show()\n"
   ]
  },
  {
   "cell_type": "markdown",
   "id": "08ae871c-54ce-4253-98a8-a2349fbba8ec",
   "metadata": {},
   "source": [
    "<div class=\"rq\">\n",
    "\n",
    "Provided that you know how to analyze such volcano plots, the identification of the best electrocatalytic electrodes for the production of molecular hydrogen is now straightforward: it is pure platinum electrodes, because they lie on top of the volcano.\n",
    "</div>"
   ]
  },
  {
   "cell_type": "markdown",
   "id": "9fd68672-9151-4581-a0c5-6d1babb2b2f5",
   "metadata": {},
   "source": [
    "### Conditional branching and interactive script with `input()`\n",
    "\n",
    "<div class=\"intro\">\n",
    " \n",
    "Conditional branching is the term used to describe the set of operations such as `if <condition> do <something> else do <something else>`\n",
    "\n",
    "Let's start simple. It also gives the opportunity to introduce the `input` command, that takes input from the user and returns it *as a string*:\n",
    "</div>"
   ]
  },
  {
   "cell_type": "code",
   "execution_count": null,
   "id": "e6a484ca-56fa-43b5-a9ac-5d11442a86a3",
   "metadata": {},
   "outputs": [],
   "source": [
    "#The input() function reads a line from the input and converts it into a string\n",
    "a = input(\"Please give a number\")\n",
    "# conversion of the input into a float using the float() function\n",
    "a = float(a)\n",
    "if a >= 0:\n",
    "    print(\"the input value is >= zero\") # this print command belongs to the \"do <something>\"\" indented block\n",
    "                                        # it will be ran if the a >= 0 condition returns True\n",
    "else:\n",
    "    print(\"the input value is < zero\") #this print command belongs to the \"do <something else>\" indented block\n",
    "                                       # it will be ran if the a >= 0 condition returns False"
   ]
  },
  {
   "cell_type": "markdown",
   "id": "af5ace3a-2b89-4b6c-bfe1-41564a8292fe",
   "metadata": {},
   "source": [
    "<div class=\"intro\">\n",
    " \n",
    "There are often choices programs have to make that are not simply `True` or `False`. For situations in which there are three or more choices, there is the `elif` keyword, which is an abbreviation for else, if:\n",
    "</div>"
   ]
  },
  {
   "cell_type": "code",
   "execution_count": null,
   "id": "e7161d7b-b9ae-48a5-b545-1a38ca164042",
   "metadata": {},
   "outputs": [],
   "source": [
    "#the string can directly be imported an a float\n",
    "a = float(input(\"Please give a number\"))\n",
    "if a > 0:\n",
    "    print(\"the input value is > zero\")\n",
    "elif a == 0: # it's an == operator that compares the value or equality of two objects\n",
    "    print(\"the input value is = zero\")\n",
    "else:\n",
    "    print(\"the input value is < zero\")"
   ]
  },
  {
   "cell_type": "markdown",
   "id": "99ee1df8-f0a7-4d2b-8ee0-58aa3647b20e",
   "metadata": {},
   "source": [
    "## A word about object-oriented programming in Python\n",
    "\n",
    "<div class=\"intro\">\n",
    "\n",
    "The next short Python script illustrates the practical consequence of **object-oriented programming** (OOP) in Python. Let's consider a NumPy array, named `dummy`. Since it is declared as `dummy = np.array([items])`, it is a **NumPy object**. It is actually NumPy’s main object. As such, all methods (or functions) defined in the NumPy library apply to this `dummy` object.\n",
    "    \n",
    "NumPy provides several methods, among them the calculation of the mean value of an array (`mean()`), its maximum (`max()`) and minimum (`min()`) value. As you can see in the next cell, you can use them either by calling:\n",
    "- `np.function(dummy)` → It is quite straightforward to understand this statement: the `np.function()` is applied to the `dummy` argument\n",
    "- `dummy.function()` → This second statement is directly related to OOP: `dummy` being a `numpy` object, `dummy.function()` is the so-called **dot notation** that also involves that the `function()` method is applied to the `dummy` object. \n",
    "\n",
    "Both notations yield the same results... hopefully :-):\n",
    "</div>"
   ]
  },
  {
   "cell_type": "code",
   "execution_count": null,
   "id": "b2482979-0f6e-4a3d-ad7f-c85414cb8c25",
   "metadata": {},
   "outputs": [],
   "source": [
    "import numpy as np #np is now a shortcut for numpy\n",
    "\n",
    "dummy = np.array([-20, -10, -5, -3, -2, -1, -0.1, 0, 0.1, 1, 2, 3, 5, 10, 20])\n",
    "print(\"mean = \",np.mean(dummy), \"max = \", np.max(dummy), \"min = \", np.min(dummy))\n",
    "print(\"mean = \",dummy.mean(), \"max = \", dummy.max(), \"min = \", dummy.min())"
   ]
  },
  {
   "cell_type": "markdown",
   "id": "4dd7bdf7-1c56-4cd1-b71a-6286ca1ccbf3",
   "metadata": {},
   "source": [
    "<div class=\"rq\">\n",
    "\n",
    "**Don't forget, in the dot notation, the () after the name of the function (or method)**. Otherwise, the Python interpreter will assume that you are calling a variable (a so-called *instance attribute* or *class attribute*) associated to the `dummy` object. For example, `dummy.size` returns the number of elements of the `dummy` array.\n",
    "</div>"
   ]
  },
  {
   "cell_type": "code",
   "execution_count": null,
   "id": "feca8efe-b0d6-4655-8615-4765550b3b11",
   "metadata": {},
   "outputs": [],
   "source": [
    "print(\"Test 1. Number of elements of the dummy array = \",dummy.size)"
   ]
  },
  {
   "cell_type": "code",
   "execution_count": null,
   "id": "750b8de2-f4d3-4653-8dd6-14ea06e45be4",
   "metadata": {},
   "outputs": [],
   "source": [
    "print(\"Test 2. Number of elements of the dummy array = \",dummy.size())"
   ]
  },
  {
   "cell_type": "markdown",
   "id": "5d6a73ba-2eca-4841-9779-d53b44a50f52",
   "metadata": {},
   "source": [
    "<div class=\"rq\">\n",
    "\n",
    "The second statement (Test 2) returned an error, saying that the `'int' object is not callable`. It's because since `size` returns an integer number, `size()` means that you try to call an integer value as a function, which makes no sense.\n",
    "    \n",
    "**FAQ: \"<i>It seems a little bit complicated. <span style=\"color:red\">Can I skip this part?</span></i>\"** \n",
    "\n",
    "At the beginning, why not. But understanding this kind of behavior will save you a lot of trouble when you develop your applications in Python, even simple ones. Don't waste too much time trying to Google the origin of the errors generated by your codes. **Understanding this very important \"OOP stuff\" will save you a lot of time.**\n",
    "\n",
    "And if you want to develop advanced applications, it is a must. And a valuable skill on the labor market.\n",
    "</div>"
   ]
  },
  {
   "cell_type": "markdown",
   "id": "d407f4a7-9a5d-4b9c-a092-28a5162fb3a0",
   "metadata": {},
   "source": [
    "<div class=\"rq\">\n",
    "\n",
    "<span style=\"color:red\">**Do you want to know more?**</span> Let's develop a simple application. If you don't feel comfortable, skip this part and come back to it later.\n",
    "</div>\n",
    "<br>\n",
    "<div class=\"app\">\n",
    "\n",
    "We will now define a class named [`square`](https://en.wikipedia.org/wiki/Square). \n",
    "\n",
    "**1.** Define as **class attributes** (or class variables) all properties inherited by any square\n",
    "- \"regular quadrilateral\" species string variable\n",
    "- logical variable to specify that a square is a regular polygon\n",
    "- \"number of sides\" integer variable\n",
    "- \"internal and central angles\" (in Degrees) float variables\n",
    "\n",
    "**2.** Every new square object will be defined by its side length variable, *i.e.* it must be a so-called **instance attribute**\n",
    "    \n",
    "**3.** Implement several **class methods** (or class functions) that can be applied to square objects:\n",
    "- perimeter()\n",
    "- area()\n",
    "- circumradius()\n",
    "- inscribed circle radius()\n",
    "</div>"
   ]
  },
  {
   "cell_type": "code",
   "execution_count": null,
   "id": "8b1664b9-bbf9-4c3b-9c09-5a3802c19400",
   "metadata": {},
   "outputs": [],
   "source": [
    "#Question 1\n",
    "class square:\n",
    "    # class attributes are class variables that are inherited by every object of a class. The value of class attributes remain the same for every new object\n",
    "    species = \"regular quadrilateral\"\n",
    "    RegPolygon = True\n",
    "    nsides = 4\n",
    "    InternalAngle= 360.0/nsides # class variables can also be defined by simple operations\n",
    "    CentralAngle = InternalAngle\n",
    "\n",
    "#Question 2\n",
    "    #  instance attributes, which are defined in the __init__() function, are class variables that allow us to define different values for each object of a class\n",
    "    def __init__(self, sidelength): #self stands for square,and it is used to access variables that belongs to the class\n",
    "        self.sidelength = sidelength\n",
    "\n",
    "#Question 3\n",
    "    # class Methods: you can define as many methods as you want in a class using the def keyword.\n",
    "    # Each method must have the first parameter, generally named as self, which refers to the calling instance\n",
    "    def perimeter(self):\n",
    "        \"\"\"returns the perimeter of a square as a function of the side length\"\"\"\n",
    "        return self.nsides*self.sidelength;\n",
    "    def area(self):\n",
    "        \"\"\"returns the area of a square as a function of the side length\"\"\"\n",
    "        return self.sidelength**2\n",
    "    def cradius(self):\n",
    "        \"\"\"returns the circumradius of a square as a function of the side length\"\"\"\n",
    "        return self.sidelength*np.sqrt(2)/2\n",
    "    def iradius(self):\n",
    "        \"\"\"returns the radius of the circle inscribed in the square as a function of the side length\"\"\"\n",
    "        return self.sidelength/2"
   ]
  },
  {
   "cell_type": "markdown",
   "id": "785dfe8c-b7e3-4a85-aa03-c4ae13dfd34d",
   "metadata": {},
   "source": [
    "<div class=\"app\">\n",
    "\n",
    "\n",
    "**4.** Now, use the square class:\n",
    "\n",
    "- define a new square, with a side length of 4\n",
    "- check that the side length instance attribute is 4, indeed\n",
    "- print the class attributes: species, regular polygon, number of sides, internal angle, central angle\n",
    "- print its perimeter, calculated either through the dot notation or the method(instance attribute) notation\n",
    "- print the three other properties,calculated through dot notation \n",
    "</div>"
   ]
  },
  {
   "cell_type": "code",
   "execution_count": null,
   "id": "a6ddf9ad-7fcd-4416-866d-74e36d6fd7a6",
   "metadata": {},
   "outputs": [],
   "source": [
    "#Question 4\n",
    "square1 = square(4) #we create an instance of our square class to create a square1 object. Given the __init__ definition of the class, 2 is the length instance attribute\n",
    "\n",
    "print(\"instance attribute\")\n",
    "print(\"side length = \",square1.sidelength, \"unit of length\") # checking instance attribute through dot notation\n",
    "\n",
    "print()\n",
    "print(\"class attributes\")\n",
    "print(\"Species = \",square1.species) # checking class attribute through dot notation\n",
    "print(\"Regular polygon = \",square1.RegPolygon) # checking class attribute through dot notation\n",
    "print(\"Number of sides = \",square1.nsides) # checking class attribute through dot notation\n",
    "print(\"Internal angle = \",square1.InternalAngle,\"°\") # checking class attribute through dot notation\n",
    "print(\"Central angle = \",square1.CentralAngle,\"°\") # checking class attribute through dot notation\n",
    "\n",
    "print()\n",
    "print(\"perimeter function\")\n",
    "#accessing the perimeter method through dot notation and through method(instance attribute) notation\n",
    "print(\"Perimeter = \",square1.perimeter(), \"unit of length\") \n",
    "print(\"Perimeter = \",square.perimeter(square1), \"unit of length\")\n",
    "\n",
    "print()\n",
    "print(\"other functions\")\n",
    "#accessing other properties through dot notation \n",
    "print(\"Area = \",square1.area(), \"(unit of length)^2\") \n",
    "print(\"Circumradius = \",square1.cradius(), \"unit of length\") \n",
    "print(\"Radius of the inner circle = \",square1.iradius(), \"unit of length\") "
   ]
  },
  {
   "cell_type": "markdown",
   "id": "b846e35b-ad61-46d2-974e-0e729643701d",
   "metadata": {},
   "source": [
    "## Python fancy plotting: animated plots"
   ]
  },
  {
   "cell_type": "markdown",
   "id": "660f6494-9824-4660-8ae8-3377fe1f96bf",
   "metadata": {},
   "source": [
    "## Final words\n",
    "\n",
    "Let's cite Bravenec and Ward [1]: \"*Programming in Python empowers scientists to apply their knowledge to scales beyond what can be accomplished with manual effort. Whether automating operations for large volumes of data, solving numerical problems, or creating simulations, there's a wealth of applications out there. **We've only just scratched the surface**.*\"\n",
    "\n",
    "Going deeper into the fantastic and vast capabilities of python and its libraries is the goal of this open course."
   ]
  },
  {
   "cell_type": "markdown",
   "id": "c453c5df-7854-45b8-b110-35ad9f4c6278",
   "metadata": {},
   "source": [
    "## Bibliography\n",
    "\n",
    "[1] A. D. Bravenec & K. D. Ward (**2022**). Interactive Python Notebooks for Physical Chemistry, *J. Chem. Ed.* xx:xx-xx, [10.1021/acs.jchemed.2c00665](https://doi.org/10.1021/acs.jchemed.2c00665)"
   ]
  },
  {
   "cell_type": "code",
   "execution_count": null,
   "id": "33152a52-ebcf-4cf2-8058-90d0fbaf35b1",
   "metadata": {},
   "outputs": [],
   "source": [
    "vID.end(cwd0)"
   ]
  },
  {
   "cell_type": "code",
   "execution_count": null,
   "id": "1523467e-65a7-4fec-9543-b3e3a14fc398",
   "metadata": {},
   "outputs": [],
   "source": []
  }
 ],
 "metadata": {
  "kernelspec": {
   "display_name": "Python 3 (ipykernel)",
   "language": "python",
   "name": "python3"
  },
  "language_info": {
   "codemirror_mode": {
    "name": "ipython",
    "version": 3
   },
   "file_extension": ".py",
   "mimetype": "text/x-python",
   "name": "python",
   "nbconvert_exporter": "python",
   "pygments_lexer": "ipython3",
   "version": "3.9.12"
  },
  "toc-autonumbering": true,
  "toc-showcode": false,
  "toc-showmarkdowntxt": false
 },
 "nbformat": 4,
 "nbformat_minor": 5
}
