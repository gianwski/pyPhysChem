{
 "cells": [
  {
   "cell_type": "code",
   "execution_count": 2,
   "id": "c8f0e76a-d0dc-4db7-8a3e-a642f2fe1b7e",
   "metadata": {},
   "outputs": [
    {
     "name": "stdout",
     "output_type": "stream",
     "text": [
      "/home/romuald/ENSEIGNEMENT/0-JupyterNotebooks/PytChem\n"
     ]
    },
    {
     "data": {
      "text/html": [
       "<style>\n",
       "h1, h2, h3, h4, h5, h6 {\n",
       "  font-family: Verdana, \"DejaVu Sans\", \"Bitstream Vera Sans\", Geneva, sans-serif;\n",
       "  font-weight: bold;\n",
       "}\n",
       "body, exercice {\n",
       "  font-family: Verdana, \"DejaVu Sans\", \"Bitstream Vera Sans\", Geneva, sans-serif;\n",
       "  font-weight: 200;\n",
       "}\n",
       "h1 {\n",
       "  border: 0 solid #333;\n",
       "  padding: 30px ;\n",
       "  color: white;\n",
       "  background: #b11d01;\n",
       "  text-align: center;\n",
       "}\n",
       "h2 {\n",
       "  border: 3px solid #333;\n",
       "  padding: 18px ;\n",
       "  color: #b11d01;\n",
       "  background: #ffffff;\n",
       "  text-align: center;\n",
       "}\n",
       "h3 {\n",
       "  border: 0 solid #333;\n",
       "  padding: 12px ;\n",
       "  color: #000000;\n",
       "  background: #c1c1c1;\n",
       "  text-align: left;\n",
       "}\n",
       "h4 {\n",
       "  border: 0 solid #333;\n",
       "  padding: 2px ;\n",
       "  color: #000000;\n",
       "  background: #d9fffc;\n",
       "  text-align: left;\n",
       "}\n",
       "h5 {\n",
       "  border: 1px solid #333;\n",
       "  padding: 2px ;\n",
       "  color: #000000;\n",
       "  background: #ffffff;\n",
       "  text-align: left;\n",
       "}\n",
       ".rq {    \n",
       "    background-color: #fcf2f2;\n",
       "    border-color: #dFb5b4;\n",
       "    border-left: 5px solid #dfb5b4;\n",
       "    padding: 0.5em;\n",
       "    font-weight: 200;\n",
       "    }\n",
       ".intro {    \n",
       "    background-color: #f1f1f1;\n",
       "    border-color: #969696;\n",
       "    border-left: 5px solid #969696;\n",
       "    padding: 0.5em;\n",
       "    font-weight: 200;\n",
       "    }\n",
       ".exold {    \n",
       "    background-color: #b2dbea80;\n",
       "    border-color: #0055ff;\n",
       "    border-left: 10px solid #0055ff;\n",
       "    padding: 0.5em;\n",
       "    font-weight: 200;\n",
       "    }\n",
       ".ex {    \n",
       "    background-color: #b2dbea80;\n",
       "    padding: 0.5em;\n",
       "    padding-top: 0em;\n",
       "    font-weight: 200;\n",
       "    position:relative;\n",
       "    }\n",
       ".ex::before {\n",
       "    background-color: #b2dbea;\n",
       "    content:\"Exercice\";\n",
       "    margin-left:-0.5em;\n",
       "    margin-right:-0.5em;\n",
       "    padding-left:0.5em;\n",
       "    padding-right:0.5em;\n",
       "    font-weight: 600;\n",
       "    display: block;\n",
       "    }\n",
       ".app {    \n",
       "    background-color: #b2dbea80;\n",
       "    padding: 0.5em;\n",
       "    padding-top: 0em;\n",
       "    font-weight: 200;\n",
       "    position:relative;\n",
       "    }\n",
       ".app::before {\n",
       "    background-color: #b2dbea;\n",
       "    content:\"Application\";\n",
       "    margin-left:-0.5em;\n",
       "    margin-right:-0.5em;\n",
       "    padding-left:0.5em;\n",
       "    padding-right:0.5em;\n",
       "    font-weight: 600;\n",
       "    display: block;\n",
       "    }\n",
       "</style>\n"
      ],
      "text/plain": [
       "<IPython.core.display.HTML object>"
      ]
     },
     "metadata": {},
     "output_type": "display_data"
    },
    {
     "data": {
      "text/markdown": [
       "**Start at:** Monday 20 February 2023, 13:51:23  \n",
       "**Hostname:** insa-12842 (Linux)"
      ],
      "text/plain": [
       "<IPython.core.display.Markdown object>"
      ]
     },
     "metadata": {},
     "output_type": "display_data"
    },
    {
     "data": {
      "text/markdown": [
       "<p style=\"text-align: center\"><img width=\"800px\" src=\"./config/svg/PytChemBanner.svg\" style=\"margin-left:auto; margin-right:auto\"/></p>"
      ],
      "text/plain": [
       "<IPython.core.display.Markdown object>"
      ]
     },
     "metadata": {},
     "output_type": "display_data"
    }
   ],
   "source": [
    "import os\n",
    "import sys\n",
    "\n",
    "print(os.getcwd())\n",
    "cwd0 = './config/'\n",
    "sys.path.append(cwd0)\n",
    "\n",
    "import visualID_Eng as vID\n",
    "from visualID_Eng import color\n",
    "vID.init(cwd0)\n",
    "import tools4PytChem as t4p"
   ]
  },
  {
   "cell_type": "markdown",
   "id": "7da5f784-11d5-4b2a-8f4a-659939ba129d",
   "metadata": {},
   "source": [
    "# \"Python in the Physical Chemistry Lab (PPCL)\" in a nutshell\n",
    "\n",
    "<div class=\"rq\">\n",
    "\n",
    "This Python computer lab assumes a very basic knowledge of a programming language and algorithm development.\n",
    "\n",
    "**To run the content of a Python cell:** click on a cell to select it. Then press SHIFT+ENTER on your keyboard, or press the play button in the top left corner of this window\n",
    "\n",
    "<img src=\"MiscImages/ToolbarJupyterNotebook.svg\" style=\"margin-left:auto; margin-right:auto; display: block; width:300px\" id=\"img_TBJN\" alt=\"Jupyter notebook toolbar\"/>\n",
    "\n",
    "<br>\n",
    "If you click on a text cell by accident, you will see the so-called markdown coding of this cell (it is closely related to the HTML language). The corresponding formatted text/images/tables will be rendered by running the cell (SHIT-ENTER or play button).\n",
    "<br>\n",
    "<br>\n",
    "    \n",
    "**Ready?** Put down your mobile phone &#x1F4F5;, please, and let's enter into the Python realm. &#x1F451;&#x1F40D;&#x1F451;\n",
    "\n",
    "</div>"
   ]
  },
  {
   "cell_type": "markdown",
   "id": "b5394af8-3e89-484e-ab89-c90d6eb57f96",
   "metadata": {},
   "source": [
    "## Simple calculations\n",
    "\n",
    "### Basic mathematical operations"
   ]
  },
  {
   "cell_type": "code",
   "execution_count": 3,
   "id": "c5ca8ecf-9e92-4880-a35d-6e7acaf0b485",
   "metadata": {},
   "outputs": [
    {
     "data": {
      "text/plain": [
       "5"
      ]
     },
     "execution_count": 3,
     "metadata": {},
     "output_type": "execute_result"
    }
   ],
   "source": [
    "# Every line that starts with a # character is a comment\n",
    "\n",
    "# addition\n",
    "3 + 2 # it a also possible to add a comment after a command"
   ]
  },
  {
   "cell_type": "code",
   "execution_count": 4,
   "id": "31382ecd-477f-46cb-b2fd-848261ba9331",
   "metadata": {},
   "outputs": [
    {
     "data": {
      "text/plain": [
       "3.5"
      ]
     },
     "execution_count": 4,
     "metadata": {},
     "output_type": "execute_result"
    }
   ],
   "source": [
    "#This is a new cell. It is possible to define several operations or commands in a cell\n",
    "# multiplication\n",
    "3*2\n",
    "\n",
    "#division\n",
    "7/2"
   ]
  },
  {
   "cell_type": "code",
   "execution_count": 5,
   "id": "9da162e5-9d01-4d87-a921-e2333efcdc87",
   "metadata": {},
   "outputs": [
    {
     "name": "stdout",
     "output_type": "stream",
     "text": [
      "6\n",
      "3.5\n"
     ]
    }
   ],
   "source": [
    "# As you can understand, only the result of the last operation is shown in Jupyter notebooks' cells\n",
    "# Let's use the print command to see the outcome of each operation\n",
    "print(3*2)\n",
    "print(7/2)"
   ]
  },
  {
   "cell_type": "markdown",
   "id": "b529e884-225d-4cd5-be80-84f363bfe0e2",
   "metadata": {},
   "source": [
    "<div class=\"rq\">\n",
    "\n",
    "**It's not very convenient to print operations, isn't it?** &#x1F615; This '*last operation show-up*' is specific to Jupyter Notebooks.\n",
    "\n",
    "There is actually a trick that consists in importing a so-called `InteractiveShell` and then to setup a config option\n",
    "</div>"
   ]
  },
  {
   "cell_type": "code",
   "execution_count": 6,
   "id": "8930f4da-e6fc-4414-9e67-9f4c72f59ce1",
   "metadata": {},
   "outputs": [],
   "source": [
    "#these two lines can be added at the beginning of a Jupyter notebook if you find this behavior more convenient\n",
    "# !! this configuration will be applied from the next executed cell\n",
    "from IPython.core.interactiveshell import InteractiveShell\n",
    "InteractiveShell.ast_node_interactivity = \"all\""
   ]
  },
  {
   "cell_type": "code",
   "execution_count": 7,
   "id": "9528c24c-5c9e-448b-95fe-bff70fd40ede",
   "metadata": {},
   "outputs": [
    {
     "data": {
      "text/plain": [
       "6"
      ]
     },
     "execution_count": 7,
     "metadata": {},
     "output_type": "execute_result"
    },
    {
     "data": {
      "text/plain": [
       "3.5"
      ]
     },
     "execution_count": 7,
     "metadata": {},
     "output_type": "execute_result"
    },
    {
     "data": {
      "text/plain": [
       "3"
      ]
     },
     "execution_count": 7,
     "metadata": {},
     "output_type": "execute_result"
    },
    {
     "data": {
      "text/plain": [
       "1"
      ]
     },
     "execution_count": 7,
     "metadata": {},
     "output_type": "execute_result"
    },
    {
     "data": {
      "text/plain": [
       "100"
      ]
     },
     "execution_count": 7,
     "metadata": {},
     "output_type": "execute_result"
    },
    {
     "data": {
      "text/plain": [
       "5.196152422706632"
      ]
     },
     "execution_count": 7,
     "metadata": {},
     "output_type": "execute_result"
    },
    {
     "data": {
      "text/plain": [
       "5.196152422706632"
      ]
     },
     "execution_count": 7,
     "metadata": {},
     "output_type": "execute_result"
    }
   ],
   "source": [
    "3*2\n",
    "7/2\n",
    "\n",
    "#Euclidean division - or division with remainder\n",
    "7//2 #quotient\n",
    "7%2  #remainder\n",
    "\n",
    "#exponent\n",
    "10**2\n",
    "3**(3/2)\n",
    "(3**3)**(1/2)"
   ]
  },
  {
   "cell_type": "markdown",
   "id": "e882b771-864d-42b3-9220-fd40141f89e2",
   "metadata": {},
   "source": [
    "<div class=\"intro\">\n",
    "\n",
    "Now we want to use basic functions such as sine, cosine, logarithm, exponential, etc... Let's start first with the sine function, aka `sin`\n",
    "\n",
    "</div>"
   ]
  },
  {
   "cell_type": "code",
   "execution_count": 8,
   "id": "42f3d96c-d8e2-4e35-9966-5a5f2e672591",
   "metadata": {},
   "outputs": [
    {
     "ename": "NameError",
     "evalue": "name 'sin' is not defined",
     "output_type": "error",
     "traceback": [
      "\u001b[0;31m---------------------------------------------------------------------------\u001b[0m",
      "\u001b[0;31mNameError\u001b[0m                                 Traceback (most recent call last)",
      "Input \u001b[0;32mIn [8]\u001b[0m, in \u001b[0;36m<cell line: 1>\u001b[0;34m()\u001b[0m\n\u001b[0;32m----> 1\u001b[0m \u001b[43msin\u001b[49m(\u001b[38;5;241m10\u001b[39m)\n",
      "\u001b[0;31mNameError\u001b[0m: name 'sin' is not defined"
     ]
    }
   ],
   "source": [
    "sin(10)"
   ]
  },
  {
   "cell_type": "markdown",
   "id": "76b0c563-261a-4506-ab55-9d718bd17272",
   "metadata": {},
   "source": [
    "<div class=\"rq\">\n",
    "\n",
    "`name 'sin' is not defined` !!??\n",
    "    \n",
    "**What the hell! This basic calculator is crap &#x1F4A9;!!???** Not exactly. But we need to use a math library that knows all the usual math functions. To do this, we need to import the libraries at some point in the python code, before calling the function\n",
    "    \n",
    "There are two main mathematical libraries: `math` and `numpy`.\n",
    "    \n",
    "Let's compare them in the next Python cell\n",
    "\n",
    "</div>"
   ]
  },
  {
   "cell_type": "code",
   "execution_count": 9,
   "id": "2effa44e-6ca4-44ba-b7f0-2f5124bd22d5",
   "metadata": {},
   "outputs": [
    {
     "data": {
      "text/plain": [
       "0.9999999999932537"
      ]
     },
     "execution_count": 9,
     "metadata": {},
     "output_type": "execute_result"
    },
    {
     "data": {
      "text/plain": [
       "0.9999999999932537"
      ]
     },
     "execution_count": 9,
     "metadata": {},
     "output_type": "execute_result"
    },
    {
     "data": {
      "text/plain": [
       "3.141592653589793"
      ]
     },
     "execution_count": 9,
     "metadata": {},
     "output_type": "execute_result"
    },
    {
     "data": {
      "text/plain": [
       "3.141592653589793"
      ]
     },
     "execution_count": 9,
     "metadata": {},
     "output_type": "execute_result"
    },
    {
     "data": {
      "text/plain": [
       "1.0"
      ]
     },
     "execution_count": 9,
     "metadata": {},
     "output_type": "execute_result"
    },
    {
     "data": {
      "text/plain": [
       "1.0"
      ]
     },
     "execution_count": 9,
     "metadata": {},
     "output_type": "execute_result"
    },
    {
     "data": {
      "text/plain": [
       "1.0"
      ]
     },
     "execution_count": 9,
     "metadata": {},
     "output_type": "execute_result"
    },
    {
     "data": {
      "text/plain": [
       "1.0"
      ]
     },
     "execution_count": 9,
     "metadata": {},
     "output_type": "execute_result"
    }
   ],
   "source": [
    "import math\n",
    "import numpy as np #np is now a shortcut for numpy\n",
    "\n",
    "#Hopefully, both functions will give the same values\n",
    "math.sin(3.1416/2)\n",
    "np.sin(3.1416/2)\n",
    "\n",
    "# by the way, the pi number is not known by default, it must be called either from the math or numpy libraries\n",
    "math.pi\n",
    "np.pi\n",
    "\n",
    "#let's now calculate the sine of pi. You can of course mix functions and variables from different libraries\n",
    "math.sin(math.pi/2)\n",
    "math.sin(np.pi/2)\n",
    "np.sin(math.pi/2)\n",
    "np.sin(np.pi/2)"
   ]
  },
  {
   "cell_type": "markdown",
   "id": "486afcdb-75a5-4df5-ad2b-49e8328a7d78",
   "metadata": {},
   "source": [
    "<div class=\"rq\">\n",
    "\n",
    "**What is the best choice between `math` and `numpy`?** It depends. `math.sin` works on a single number, whilst the numpy version works on numpy arrays and is tremendously faster due to the benefits of vectorization. For the moment, this notion of arrays may seem obscure to you, but we will soon introduce them, together with lists.\n",
    "    \n",
    "All mathematical functions available in `numpy` are listed on [this webpage](https://numpy.org/doc/stable/reference/routines.math.html#), whereas those available in the `math` library are listed [here](https://docs.python.org/3/library/math.html). The `math` library is actually a module of the [Python Standard Library](https://docs.python.org/3/library/index.html#the-python-standard-library).\n",
    "\n",
    "</div>"
   ]
  },
  {
   "cell_type": "markdown",
   "id": "2f462887-6dbb-4b2a-891a-940e02ce679f",
   "metadata": {},
   "source": [
    "### Variables\n",
    "\n",
    "<div class=\"intro\">\n",
    "They are useful if you want to store a number to use later in another calculation.\n",
    "</div>"
   ]
  },
  {
   "cell_type": "code",
   "execution_count": 10,
   "id": "043f0075-2f52-4d60-b5af-611acfd148c5",
   "metadata": {
    "tags": []
   },
   "outputs": [
    {
     "name": "stdout",
     "output_type": "stream",
     "text": [
      "6\n"
     ]
    },
    {
     "data": {
      "text/plain": [
       "298.15"
      ]
     },
     "execution_count": 10,
     "metadata": {},
     "output_type": "execute_result"
    },
    {
     "data": {
      "text/plain": [
       "423.15"
      ]
     },
     "execution_count": 10,
     "metadata": {},
     "output_type": "execute_result"
    },
    {
     "data": {
      "text/plain": [
       "263.15"
      ]
     },
     "execution_count": 10,
     "metadata": {},
     "output_type": "execute_result"
    }
   ],
   "source": [
    "c = 2*3 #the result of the operation will not be displayed. You must use print to do so\n",
    "print(c)\n",
    "\n",
    "# Let's now use a variable to perform several celsius to kelvin conversions\n",
    "C2K = 273.15 #Don't make a mistake here, or all your calculations will be wrong\n",
    "C2K+25\n",
    "C2K+150\n",
    "C2K-10"
   ]
  },
  {
   "cell_type": "markdown",
   "id": "028278f2-bb0f-4c88-8825-2fe7706f8cda",
   "metadata": {},
   "source": [
    "<div class=\"rq\">\n",
    "\n",
    "An alternative would be to systematically type in the 273.15 conversion factor or copy and paste its value every time you need it. This is a bad idea. In such a situation it is strongly recommended to use variables\n",
    "\n",
    "</div>"
   ]
  },
  {
   "cell_type": "code",
   "execution_count": 11,
   "id": "3640bdcb-277b-4c76-8e21-128e86fa7995",
   "metadata": {},
   "outputs": [
    {
     "ename": "NameError",
     "evalue": "name 'c2K' is not defined",
     "output_type": "error",
     "traceback": [
      "\u001b[0;31m---------------------------------------------------------------------------\u001b[0m",
      "\u001b[0;31mNameError\u001b[0m                                 Traceback (most recent call last)",
      "Input \u001b[0;32mIn [11]\u001b[0m, in \u001b[0;36m<cell line: 3>\u001b[0;34m()\u001b[0m\n\u001b[1;32m      1\u001b[0m \u001b[38;5;66;03m#let's use again the C2K conversion factor\u001b[39;00m\n\u001b[0;32m----> 3\u001b[0m \u001b[43mc2K\u001b[49m \u001b[38;5;241m+\u001b[39m \u001b[38;5;241m1047.3\u001b[39m\n",
      "\u001b[0;31mNameError\u001b[0m: name 'c2K' is not defined"
     ]
    }
   ],
   "source": [
    "#let's use again the C2K conversion factor\n",
    "\n",
    "c2K + 1047.3"
   ]
  },
  {
   "cell_type": "markdown",
   "id": "80814fef-2274-4c8c-a59a-b8c6c5e1b695",
   "metadata": {},
   "source": [
    "<div class=\"rq\">\n",
    "\n",
    "what is actually illustrated here is that the `c2K` variable is unknown, as opposed to `C2K`. Yes, in Python **upper-case and lower-case letters are not the same**\n",
    "\n",
    "</div>"
   ]
  },
  {
   "cell_type": "code",
   "execution_count": 12,
   "id": "eac296f7-35d9-403f-b16d-8f1ffdfa3570",
   "metadata": {
    "tags": []
   },
   "outputs": [
    {
     "data": {
      "text/plain": [
       "1320.4499999999998"
      ]
     },
     "execution_count": 12,
     "metadata": {},
     "output_type": "execute_result"
    }
   ],
   "source": [
    "C2K + 1047.3"
   ]
  },
  {
   "cell_type": "markdown",
   "id": "e28bd108-3a1d-40e3-a743-11a50f39245a",
   "metadata": {},
   "source": [
    "<div class=\"intro\">\n",
    "\n",
    "Let's now use variables to apply the Law of Mass Action to the calculation of equilibrium constants. We introduce it by using a general chemical reaction equation in which reactants A and B react to give products C and D:\n",
    "    \n",
    "*a*A + *b*B = *c*C + *d*C\n",
    "    \n",
    "The mass action law states that if the system is at equilibrium at a given temperature *T*, then the following ratio is a constant, the so-called equilibrium constant *K*.\n",
    "\n",
    "$$\\frac{[\\mathrm{C}]_\\mathrm{eq}^c [\\mathrm{D}]_\\mathrm{eq}^d}{[\\mathrm{A}]_\\mathrm{eq}^a [\\mathrm{B}]_\\mathrm{eq}^b}=K$$\n",
    "\n",
    "Another useful quantity if the so-called Gibbs free energy change of the reaction, $\\Delta_rG°$, that is directly related to the equilibrium constant by to the following equation:\n",
    "    \n",
    "$$\\Delta_rG° = -RT \\ln K(T)$$\n",
    "    \n",
    "where *R* is the ideal gas constant, which is exactly 8.31446261815324 J⋅K$^{-1}$⋅mol$^{-1}$\n",
    "    \n",
    "There are several interests in calculating $\\Delta_rG°$, one of them being that its sign can be used to predict the ratio of products to reactants:\n",
    "    \n",
    "- if $\\Delta_rG°$ < 0, then $K$ > 1 ⟺ products are favored over reactants at equilibrium\n",
    "- if $\\Delta_rG°$ > 0, then $K$ < 1 ⟺ reactants are favored over products at equilibrium\n",
    "- if $\\Delta_rG°$ $\\sim$ 0, then $K$ $\\sim$ 1 ⟺ the amount of products will be roughly equal to the amount of reactants at equilibrium\n",
    "\n",
    "</div>\n",
    "\n",
    "<br>\n",
    "    \n",
    "<div class=\"app\">\n",
    "\n",
    "The decomposition reaction of N$_2$O$_4$ to NO$_2$ can be summarized as N$_2$O$_4$ = 2NO$_2$.\n",
    "\n",
    "Starting, at 25°C, from [N$_2$O$_4$]$_0$ = 0.0500 mol.L$^{-1}$, the N$_2$O$_4$ mixtures at equilibrium is found to be [N$_2$O$_4$]$_\\mathrm{eq}$ = 0.0417 mol⋅L$^{-1}$ and [NO$_2$]$_\\mathrm{eq}$ = 0.0165 mol.L$^{-1}$.\n",
    "\n",
    "**1.** Calculate *K* at 25°C.\n",
    "\n",
    "**2.** Then calculate $\\Delta_rG°$ for this reaction (hint: the natural logarithm can be either calculated by the `np.log` or `math.log` functions).\n",
    "</div>"
   ]
  },
  {
   "cell_type": "code",
   "execution_count": 13,
   "id": "ed73bf00-6ceb-48dc-bd76-0bed50127414",
   "metadata": {},
   "outputs": [
    {
     "data": {
      "text/plain": [
       "0.0065287769784172665"
      ]
     },
     "execution_count": 13,
     "metadata": {},
     "output_type": "execute_result"
    },
    {
     "data": {
      "text/plain": [
       "12472.9606592818"
      ]
     },
     "execution_count": 13,
     "metadata": {},
     "output_type": "execute_result"
    },
    {
     "name": "stdout",
     "output_type": "stream",
     "text": [
      "0.0065287769784172665 12472.9606592818\n"
     ]
    }
   ],
   "source": [
    "#very basic (ugly) calculator way\n",
    "# Question 1\n",
    "0.0165**2/0.0417\n",
    "# Question 2 (the values for R and for 0.0165**2/0.0417 are cut and pasted in the next line)\n",
    "-8.31446261815324*298.15*np.log(0.0065287769784172665)\n",
    "\n",
    "#basic algorithmic way\n",
    "# Question 1\n",
    "CP = 0.0165 #as concentration of product\n",
    "CR = 0.0417 #as concentration of reactant\n",
    "K = CP**2/CR\n",
    "# Question 2\n",
    "R = 8.31446261815324 # J K−1 mol−1\n",
    "T = C2K + 25\n",
    "DG = -R*T*math.log(K)\n",
    "print(K, DG)"
   ]
  },
  {
   "cell_type": "markdown",
   "id": "e5fe4328-9edd-4237-9d7f-c115d5e5b31e",
   "metadata": {},
   "source": [
    "### Physical and mathematical constants"
   ]
  },
  {
   "cell_type": "markdown",
   "id": "74f84cd7-23e2-4d2b-a637-2f37323509a4",
   "metadata": {},
   "source": [
    "<div class=\"intro\">\n",
    "\n",
    "The \"algorithmic\" is obviously less straightforward than the \"calculator\" way. **Yet, such longer piece of code is to be preferred.**\n",
    "- First, it is more readable. So if you save your notebook as a kind of well-organized calculation spreadsheet, you can later on use the same code and variables, or redo the same application\n",
    "- Secondly, it can be generalized in terms of a function that could be used several times. This is the purpose of the following subsection, which consists of defining a function with *T* and *K* as arguments, that will return $\\Delta_rG°$\n",
    "    \n",
    "But before that, it is time to introduce an interesting module that is worth to be known by physicists and chemists, the `constants` module of the SciPy library, where SciPy is is an open-source library for mathematics, science, and engineering. \n",
    "\n",
    "The list of constants is available [online](https://docs.scipy.org/doc/scipy/reference/constants.html). The code below illustrates how to call the module, and how to use the physical and mathematical constants.\n",
    "\n",
    "</div>"
   ]
  },
  {
   "cell_type": "code",
   "execution_count": 14,
   "id": "2f48a0e3-23ed-4246-8b56-fa465b17c94b",
   "metadata": {},
   "outputs": [
    {
     "name": "stdout",
     "output_type": "stream",
     "text": [
      "8.314462618\n",
      "J mol^-1 K^-1\n",
      "273.15\n",
      "0.0065287769784172665 12472.96065905192\n"
     ]
    }
   ],
   "source": [
    "import scipy.constants as sc\n",
    "print(sc.value(\"molar gas constant\"))\n",
    "print(sc.unit(\"molar gas constant\"))\n",
    "\n",
    "print(sc.zero_Celsius) # it is not defined as a constant in SciPy, but with units\n",
    "\n",
    "# the previous code becomes:\n",
    "# Question 1\n",
    "CP = 0.0165 #as concentration of product\n",
    "CR = 0.0417 #as concentration of reactant\n",
    "K = CP**2/CR\n",
    "# Question 2\n",
    "R = sc.value(\"molar gas constant\") #the sc.unit(\"molar gas constant\") command let us know that it is defined in the SI\n",
    "C2K = sc.zero_Celsius\n",
    "T = C2K + 25\n",
    "DG = -R*T*math.log(K)\n",
    "print(K, DG)"
   ]
  },
  {
   "cell_type": "markdown",
   "id": "e63eb1d4-0e5e-48a5-9293-3d60bccc8a11",
   "metadata": {
    "tags": []
   },
   "source": [
    "### Formatted printing and significant figures\n",
    "\n",
    "<div class=\"intro\">\n",
    "\n",
    "As seen in the previous lines, we can easily print things to the screen. It is also possible to use \"\" and commas to print text, as done below:\n",
    "    \n",
    "</div>"
   ]
  },
  {
   "cell_type": "code",
   "execution_count": 15,
   "id": "89a617f1-7a3b-4d34-b345-44d4ad60ddec",
   "metadata": {},
   "outputs": [
    {
     "name": "stdout",
     "output_type": "stream",
     "text": [
      "K =  0.0065287769784172665    DeltaG =  12472.96065905192\n"
     ]
    }
   ],
   "source": [
    "print(\"K = \",K,\"   DeltaG = \",DG)"
   ]
  },
  {
   "cell_type": "markdown",
   "id": "f49c25f4-2a3b-47e8-a044-09650a6b7b2a",
   "metadata": {},
   "source": [
    "<div class=\"intro\">\n",
    "\n",
    "The `print` command displays as many digits as Python's precision allows: floating point numbers are represented with a precision of up to 15 significant digits. So how can you manage significant figures? Well, it is recommended to store floating point numbers in variables with the highest precision of Python, and to print them with the desired precision.\n",
    "\n",
    "To do so, we can specify how many significant figures we want overall, or we can specify how many significant figures we want after the decimal point. Let's start with the former, using the so-called f-string formatting of the `print` command. To specify a level of precision, we need to use a colon (:), followed by a decimal point, along with some integer representing the degree of precision. We place this inside the curly braces for an f-string, after the value we want to format.\n",
    "    \n",
    "What a loooooong explanation! &#x1F914; &#x1F635;&#x200D;&#x1F4AB; Let's move to the next Python cell to see that it's quite easy to understand and manage: \n",
    "    \n",
    "</div>"
   ]
  },
  {
   "cell_type": "code",
   "execution_count": 16,
   "id": "1809e8e0-d4e8-4f45-b4c4-5e358882712a",
   "metadata": {},
   "outputs": [
    {
     "name": "stdout",
     "output_type": "stream",
     "text": [
      "K = 0.006529  DeltaG = 1.247e+04\n",
      "This formatting operation actually performs rounding or converts a number in scientific notation, with the appropriate number of digits\n"
     ]
    }
   ],
   "source": [
    "print(f\"K = {K:.4}  DeltaG = {DG:.4}\")\n",
    "print(\"This formatting operation actually performs rounding or converts a number in scientific notation, with the appropriate number of digits\")"
   ]
  },
  {
   "cell_type": "markdown",
   "id": "2e4a9ba5-0ea1-424b-bae7-33008e152e9d",
   "metadata": {},
   "source": [
    "<div class=\"intro\">\n",
    "So how do we specify 4 decimal places? We just need to add an `f`, which means that we want our floatting point number displayed as a \"fixed point number\":\n",
    "</div>"
   ]
  },
  {
   "cell_type": "code",
   "execution_count": 17,
   "id": "70838774-243d-4af1-954f-711344c877f0",
   "metadata": {},
   "outputs": [
    {
     "name": "stdout",
     "output_type": "stream",
     "text": [
      "K = 0.0065  DeltaG = 12472.9607\n"
     ]
    }
   ],
   "source": [
    "print(f\"K = {K:.4f}  DeltaG = {DG:.4f}\")"
   ]
  },
  {
   "cell_type": "markdown",
   "id": "7857b8a5-4cd7-4533-8071-d950e9478ffb",
   "metadata": {},
   "source": [
    "## Lists and arrays"
   ]
  },
  {
   "cell_type": "markdown",
   "id": "f7939f38-cd4e-4280-aa6b-1af5e0ae09a2",
   "metadata": {},
   "source": [
    "### Lists\n",
    "\n",
    "<div class=\"intro\">\n",
    "    \n",
    "A list is a data structure that's built into Python and holds a collection of items. Their main characteristics are:\n",
    "\n",
    "- list items are enclosed in square brackets, like this: [item1, item2, item3]\n",
    "- lists are ordered – *i.e.* the items in the list appear in a specific order. This enables us to use an index to access to any item\n",
    "- it is possible to add or remove items after a list's creation\n",
    "- Elements can be of different data types: you can combine strings, integers, and objects in the same list\n",
    "\n",
    "Lists can be the preferred choice if you need to store a relatively short sequence of items and you don't plan to do any mathematical operations with it.\n",
    "\n",
    "Let's first start with a list that contains only integers. It will also be shown how to add new items to a list and how to remove an item:\n",
    "</div>"
   ]
  },
  {
   "cell_type": "code",
   "execution_count": 18,
   "id": "87416f4b-17c0-4566-bf4b-bc2ca2adf815",
   "metadata": {},
   "outputs": [
    {
     "name": "stdout",
     "output_type": "stream",
     "text": [
      "my_list =  [3, 2, 10, 12, 3, 1]\n",
      "my_list extended =  [3, 2, 10, 12, 3, 1, 6, 2, 8]\n",
      "my_list after deletion of item [1] =  [3, 10, 12, 3, 1, 6, 2, 8]\n"
     ]
    }
   ],
   "source": [
    "my_list = [3, 2, 10, 12, 3, 1]\n",
    "print(\"my_list = \",my_list)\n",
    "my_list.extend([6, 2, 8])\n",
    "print(\"my_list extended = \",my_list)\n",
    "del my_list[1]\n",
    "print(\"my_list after deletion of item [1] = \",my_list)"
   ]
  },
  {
   "cell_type": "markdown",
   "id": "922bec6c-a01c-4249-80b8-2c902d0f7277",
   "metadata": {},
   "source": [
    "<div class=\"rq\">\n",
    "\n",
    "It's actually the second item that has been deleted. **It's because the list index starts with 0 in Python**. So, the index value of the first item is 0, that of the second item is 1, etc...\n",
    "\n",
    "</div>"
   ]
  },
  {
   "cell_type": "markdown",
   "id": "d73391f4-b3d6-44b4-a1f8-f1784c223d31",
   "metadata": {},
   "source": [
    "### Arrays\n",
    "\n",
    "<div class=\"intro\">\n",
    "    \n",
    "An array is also a data structure that stores a collection of items. Like lists, arrays are enclosed in square brackets, they are ordered, and they can be modified\n",
    "\n",
    "But the array's ability to store different data types is less obvious, it depends on the kind of array used.\n",
    "\n",
    "To use arrays in Python, you need to import either an `array` module or the `NumPy` package, which is the fundamental package for numerical computing in Python. `NumPy` arrays support different data types. Let's give an example:\n",
    "</div>"
   ]
  },
  {
   "cell_type": "code",
   "execution_count": 19,
   "id": "31ab2fca-3109-4456-9293-c15c8cfbc589",
   "metadata": {},
   "outputs": [
    {
     "name": "stdout",
     "output_type": "stream",
     "text": [
      "my_array =  [ 3  2 10 12  3  1]\n",
      "item 1 of my_array =  2\n",
      "my_array =  [  3   2  10  12   3   1  55 147 309]\n"
     ]
    }
   ],
   "source": [
    "import numpy as np #np is now a shortcut for numpy\n",
    "\n",
    "my_array = np.array([3, 2, 10, 12, 3, 1])\n",
    "print(\"my_array = \",my_array) #you will see that items are not separated with commas\n",
    "print(\"item 1 of my_array = \",my_array[1])\n",
    "my_array = np.append(my_array,[55, 147, 309])\n",
    "print(\"my_array = \",my_array)"
   ]
  },
  {
   "cell_type": "markdown",
   "id": "4cd01830-c7c3-4b43-be9d-e75f8e09b0bb",
   "metadata": {},
   "source": [
    "<div class=\"rq\">\n",
    "\n",
    "Arrays are great for numerical operations, whereas lists cannot directly handle math operations. **An important feature is that operations can simultaneously be applied to all array elements**. Let's illustrate this: \n",
    "\n",
    "</div>"
   ]
  },
  {
   "cell_type": "code",
   "execution_count": 20,
   "id": "4b821013-53c6-4bae-b62c-fc698ca3f1f1",
   "metadata": {},
   "outputs": [
    {
     "name": "stdout",
     "output_type": "stream",
     "text": [
      "array2 =  [  5   3  19  23   5   1 109 293 617]\n"
     ]
    }
   ],
   "source": [
    "array2 = 2*my_array - 1\n",
    "print(\"array2 = \",array2)"
   ]
  },
  {
   "cell_type": "code",
   "execution_count": 21,
   "id": "2908312b-49ff-4469-b4f9-a25e18203c7c",
   "metadata": {},
   "outputs": [
    {
     "name": "stdout",
     "output_type": "stream",
     "text": [
      "['3' '2' '10' '12' '3' '1' 'Albert Einstein']\n"
     ]
    },
    {
     "ename": "UFuncTypeError",
     "evalue": "ufunc 'multiply' did not contain a loop with signature matching types (dtype('int64'), dtype('<U21')) -> None",
     "output_type": "error",
     "traceback": [
      "\u001b[0;31m---------------------------------------------------------------------------\u001b[0m",
      "\u001b[0;31mUFuncTypeError\u001b[0m                            Traceback (most recent call last)",
      "Input \u001b[0;32mIn [21]\u001b[0m, in \u001b[0;36m<cell line: 3>\u001b[0;34m()\u001b[0m\n\u001b[1;32m      1\u001b[0m my_array \u001b[38;5;241m=\u001b[39m np\u001b[38;5;241m.\u001b[39marray([\u001b[38;5;241m3\u001b[39m, \u001b[38;5;241m2\u001b[39m, \u001b[38;5;241m10\u001b[39m, \u001b[38;5;241m12\u001b[39m, \u001b[38;5;241m3\u001b[39m, \u001b[38;5;241m1\u001b[39m, \u001b[38;5;124m\"\u001b[39m\u001b[38;5;124mAlbert Einstein\u001b[39m\u001b[38;5;124m\"\u001b[39m])\n\u001b[1;32m      2\u001b[0m \u001b[38;5;28mprint\u001b[39m(my_array)\n\u001b[0;32m----> 3\u001b[0m array2 \u001b[38;5;241m=\u001b[39m \u001b[38;5;241;43m2\u001b[39;49m\u001b[38;5;241;43m*\u001b[39;49m\u001b[43mmy_array\u001b[49m \u001b[38;5;241m-\u001b[39m \u001b[38;5;241m1\u001b[39m\n",
      "\u001b[0;31mUFuncTypeError\u001b[0m: ufunc 'multiply' did not contain a loop with signature matching types (dtype('int64'), dtype('<U21')) -> None"
     ]
    }
   ],
   "source": [
    "my_array = np.array([3, 2, 10, 12, 3, 1, \"Albert Einstein\"])\n",
    "print(my_array)\n",
    "array2 = 2*my_array - 1"
   ]
  },
  {
   "cell_type": "markdown",
   "id": "9d954b49-716a-45e2-b5a0-73fdfc515c12",
   "metadata": {},
   "source": [
    "<div class=\"rq\">\n",
    "\n",
    "The last cell execution returned the following error. Why? It's because `my_array` contains both numbers (`int64` type, as integer) and strings (`<U21` type, as unicode). This `2*my_array` command generates an error, since it is not possible to do numerical applications on such hybrid arrays.\n",
    "\n",
    "\n",
    "```Python\n",
    "---------------------------------------------------------------------------\n",
    "UFuncTypeError                            Traceback (most recent call last)\n",
    "Input In [20], in <cell line: 3>()\n",
    "      1 my_array = np.array([3, 2, 10, 12, 3, 1, \"Albert Einstein\"])\n",
    "      2 print(my_array)\n",
    "----> 3 array2 = 2*my_array - 1\n",
    "\n",
    "UFuncTypeError: ufunc 'multiply' did not contain a loop with signature matching types (dtype('int64'), dtype('<U21')) -> None\n",
    "```\n",
    "\n",
    "</div>"
   ]
  },
  {
   "cell_type": "markdown",
   "id": "5663ef69-58b7-4e56-83b6-2964688c4741",
   "metadata": {
    "tags": []
   },
   "source": [
    "### How to easily read arrays from text files in Python?\n",
    "\n",
    "<div class=\"intro\">\n",
    "    \n",
    "Data files can be loaded into a Python code in several ways. We will concentrate here on the reading of data saved as columns under the so-called CSV format, using the `genfromtxt` function of the NumPy library. \n",
    "\n",
    "CSV stands for \"comma-separated values\". A CSV file is a delimited text file that uses a comma, or any other delimiter such a ; or TAB, etc... to separate values.\n",
    "A CSV file consists of one or more lines which consists of one or more values separated by commas. In addition, all the lines of a CSV file have the same number of values.\n",
    "\n",
    "Typically, you use a CSV file to store tabular data in plain text. The CSV file format is quite popular and supported by many software applications such as Microsoft Excel and Google Spreadsheet.read CSV files.\n",
    "    \n",
    "</div>\n",
    "\n",
    "<br>\n",
    "<div class=\"app\">\n",
    "    \n",
    "Let's now have a look at the content of a file named `VolcanoPlot-woA.csv`, contained in the `MiscData/` folder. If you open it with an editor, or directly with this Jupyter tool, you will see\n",
    "```\n",
    "DGads;log i0\n",
    "-12.876146;-6.5492228\n",
    "-8.5595008;-6.7668394\n",
    "-9.9983824;-5.7029361\n",
    "-6.3089424;-5.1830743\n",
    "-6.272048;-4.9775475\n",
    "-7.4526688;-2.8013817\n",
    "-3.3573904;-2.91019\n",
    "-2.3243472;-3.4784111\n",
    "-2.1029808;-2.5958549\n",
    "0.6272048;-3.611399\n",
    "1.8816144;-4.9654577\n",
    "4.3904336;-5.2314335\n",
    "10.441115;-6.3316062\n",
    "11.806208;-7.5889465\n",
    "17.008318;-7.4075993\n",
    "```\n",
    "\n",
    "The CSV file has a header row that includes the titles of each column. Each row in the file contains the same number of cells, which are separated by semicolons. \n",
    "\n",
    "You can also import it in a spreadsheet program, that will display:\n",
    "<img src=\"MiscData/VolcanoPlot-SpreadSheet-woA.png\" style=\"margin-left:auto; margin-right:auto; display: block; width:220px\" id=\"img_VolcanoPlotData\" alt=\"Volcano plot data for the hydrogen reaction\"/>\n",
    "\n",
    "**1.** Use the `genfromtxt` function of `numpy` to read the content of `MiscData/VolcanoPlot-woA.csv`. Don't forget to remove the first line, *i.e.* the header, and to setup the appropriate delimiter.\n",
    "\n",
    "**2.** Use again `genfromtxt` function of `numpy` to read the content of `MiscData/VolcanoPlot-woA.csv`. Now setup the `unpack` option to `True`. If True, the returned array is transposed, so that each column may be returned using, for example `x, y, z = genfromtxt(...)` for a 3-column CSV datafile.\n",
    "</div>"
   ]
  },
  {
   "cell_type": "code",
   "execution_count": 22,
   "id": "fb3c570e-1f42-40be-adb0-599e1f80eab4",
   "metadata": {},
   "outputs": [
    {
     "name": "stdout",
     "output_type": "stream",
     "text": [
      "[[-12.876146   -6.5492228]\n",
      " [ -8.5595008  -6.7668394]\n",
      " [ -9.9983824  -5.7029361]\n",
      " [ -6.3089424  -5.1830743]\n",
      " [ -6.272048   -4.9775475]\n",
      " [ -7.4526688  -2.8013817]\n",
      " [ -3.3573904  -2.91019  ]\n",
      " [ -2.3243472  -3.4784111]\n",
      " [ -2.1029808  -2.5958549]\n",
      " [  0.6272048  -3.611399 ]\n",
      " [  1.8816144  -4.9654577]\n",
      " [  4.3904336  -5.2314335]\n",
      " [ 10.441115   -6.3316062]\n",
      " [ 11.806208   -7.5889465]\n",
      " [ 17.008318   -7.4075993]]\n"
     ]
    }
   ],
   "source": [
    "#Q1\n",
    "data = np.genfromtxt(\"./MiscData/VolcanoPlot-woA.csv\",delimiter=\";\",skip_header=1)\n",
    "print(data)"
   ]
  },
  {
   "cell_type": "code",
   "execution_count": 23,
   "id": "4588a5ed-54fe-4e33-8ead-910d5e333063",
   "metadata": {},
   "outputs": [
    {
     "name": "stdout",
     "output_type": "stream",
     "text": [
      "DeltaG =  [-12.876146   -8.5595008  -9.9983824  -6.3089424  -6.272048   -7.4526688\n",
      "  -3.3573904  -2.3243472  -2.1029808   0.6272048   1.8816144   4.3904336\n",
      "  10.441115   11.806208   17.008318 ]\n",
      "log(i0) =  [-6.5492228 -6.7668394 -5.7029361 -5.1830743 -4.9775475 -2.8013817\n",
      " -2.91019   -3.4784111 -2.5958549 -3.611399  -4.9654577 -5.2314335\n",
      " -6.3316062 -7.5889465 -7.4075993]\n"
     ]
    }
   ],
   "source": [
    "#Q2\n",
    "DG, logi0 = np.genfromtxt(\"./MiscData/VolcanoPlot-woA.csv\", delimiter=\";\", skip_header=1, unpack=True)\n",
    "print(\"DeltaG = \",DG)\n",
    "print(\"log(i0) = \",logi0)"
   ]
  },
  {
   "cell_type": "markdown",
   "id": "4651727c-dcc7-4354-a662-bb4619e48010",
   "metadata": {},
   "source": [
    "## Functions and plotting, with a word about indentation\n",
    "\n",
    "**Do you want to plot a function?** Then you need to know how to define it. Among other applications\n",
    "\n",
    "\n",
    "### Definition of a function\n",
    "\n",
    "<div class=\"intro\">\n",
    "\n",
    "A function is a piece of code that we want to use multiple times but don't want to write out each time. This typically involves taking some input, manipulating the input and returning an output. It only runs when it is called. In Python a function is defined using the `def` keyword:\n",
    "```Python\n",
    "def my_function1(message):\n",
    "  print(message)\n",
    "```\n",
    "\n",
    "To call a function, use the function name followed by parenthesis. Arguments are specified inside the parentheses. You can add as many arguments as you want, just separate them with a comma.\n",
    "\n",
    "```Python\n",
    "my_function1(\"Hello from a function\")\n",
    "```\n",
    "\n",
    "This call will simply return `My message is:  Hello from a function`.\n",
    "\n",
    "Let's implement it:\n",
    "</div>"
   ]
  },
  {
   "cell_type": "code",
   "execution_count": 24,
   "id": "8ec978a4-34b3-45db-8b8a-342239f06539",
   "metadata": {},
   "outputs": [
    {
     "name": "stdout",
     "output_type": "stream",
     "text": [
      "This is outside the function\n",
      "My message is:  Hello from a function\n"
     ]
    }
   ],
   "source": [
    "def my_function1(message):\n",
    "    print(\"My message is: \",message)\n",
    "print(\"This is outside the function\")\n",
    "my_function1(\"Hello from a function\")"
   ]
  },
  {
   "cell_type": "markdown",
   "id": "21b18d2b-4e53-4482-be3b-9d28e4c70fee",
   "metadata": {},
   "source": [
    "<div class=\"rq\">\n",
    "\n",
    "The `print(\"My message is: \",message)` statement belongs to an **indented block**, consisting in this case of one statement. The indentation tells Python which statements are in the function, and which are outside it.\n",
    "\n",
    "In the main block of the previous cell, you first print  `This is outside the function` and then you call  `my_function1`, that has been previously defined at the beginning of this cell.\n",
    "</div>"
   ]
  },
  {
   "cell_type": "markdown",
   "id": "7d9677ee-2aec-48d0-808e-74522b7b03f0",
   "metadata": {},
   "source": [
    "To let a function return a value, use the return statement:\n",
    "\n",
    "```\n",
    "def my_function2(a,b,x):\n",
    "  return a*x+b\n",
    "```\n",
    "\n",
    "For example, the call `my_function2(2,1,3)` will return `7`.\n",
    "\n",
    "You can either print it (`print(my_function2(2,1,3))`) or store it in a variable (`y = my_function2(2,1,3)`)."
   ]
  },
  {
   "cell_type": "code",
   "execution_count": 25,
   "id": "e63a733e-88e0-41b5-adac-d777b6a989ad",
   "metadata": {},
   "outputs": [
    {
     "name": "stdout",
     "output_type": "stream",
     "text": [
      "7\n"
     ]
    }
   ],
   "source": [
    "def my_function2(a,b,x):\n",
    "  return a*x+b\n",
    "y = my_function2(2,1,3)\n",
    "print(y)"
   ]
  },
  {
   "cell_type": "markdown",
   "id": "14e3d885-b818-4741-8b21-e1dd9dadec6d",
   "metadata": {},
   "source": [
    "<div class=\"app\">\n",
    "\n",
    "We are now going to define a function that will return the standard change in free energy of a reaction, $\\Delta_rG°$, as a function of the equilibrium constant (*K*) and the temperature (*T*):\n",
    "$$\\Delta_rG° = -RT \\ln K(T)$$\n",
    "\n",
    "The function will start with a docstring section. They are documentation strings that are used as comments and they are added below a function or module to describe what it does.\n",
    "</div>"
   ]
  },
  {
   "cell_type": "code",
   "execution_count": 26,
   "id": "e4b06ca5-9142-4c7a-9158-5f072b873c72",
   "metadata": {},
   "outputs": [
    {
     "name": "stdout",
     "output_type": "stream",
     "text": [
      "K = 0.006529  DeltaG = 1.247e+04\n"
     ]
    }
   ],
   "source": [
    "def DrG(K,t):\n",
    "    # this is a docstring\n",
    "    \"\"\"\n",
    "    This function returns the standard change in free energy of a reaction, ΔrG°\n",
    "    \n",
    "    input:\n",
    "        - K = equilibrium constant\n",
    "        - t = temperature in Celsius\n",
    "    output:\n",
    "        - ΔrG° in J K-1 mol-1\n",
    "    prints/saves: nothing\n",
    "    \"\"\" #end of the docstring\n",
    "    import numpy as np\n",
    "    import scipy.constants as sc\n",
    "    R = sc.value(\"molar gas constant\") #the sc.unit(\"molar gas constant\") command previously applied let us know that it is defined in the SI\n",
    "    C2K = sc.zero_Celsius\n",
    "    T = C2K + t\n",
    "    return -R*T*np.log(K)\n",
    "\n",
    "CP = 0.0165 #as concentration of product\n",
    "CR = 0.0417 #as concentration of reactant\n",
    "K = CP**2/CR\n",
    "print(f\"K = {K:.4}  DeltaG = {DrG(K,25):.4}\")"
   ]
  },
  {
   "cell_type": "markdown",
   "id": "cfa2f06f-5f9b-43ae-81c7-6922c865cbcb",
   "metadata": {},
   "source": [
    "<div class=\"rq\">\n",
    "    \n",
    "<span style=\"color:red\">**Why a docstring section?**</span> **<u>It's part of a good practice</u>** &#x1F44C;\n",
    "    \n",
    "There is no obligation. But let's suppose that you have stored the previous `DrG` function in an external python library. You do not remember how `DrG` exactly works and which arguments it needs. Probably an equilibrium constant and a temperature, but in which order? Must the temperature be given in Celsius or directly in Kelvin? Whats is the unit of the returned DrG value? Such answers can be obtained thanks to a well-written `docstring` section:\n",
    "- it helps users to properly address a function\n",
    "- it also helps the main coder remember the function of any code after a long time\n",
    "- it also helps other coders who want to work on the same project\n",
    "- **could it be relevant in the Physical Chemistry lab?** Of course. First of all for the main developer, that is you. But let's also assume that you **develop a collaborative lab notebook** in the framework of a **lab project**. An accurate and concise `docstring` section will be of utmost importance to make the notebook and its functions usable and improvable by all group members.\n",
    "\n",
    "As a user, you just have to type `help(method)` in order to know how to use it:\n",
    "</div>"
   ]
  },
  {
   "cell_type": "code",
   "execution_count": 27,
   "id": "a8df32ad-8723-47d4-8ab7-1c6e511d4dad",
   "metadata": {},
   "outputs": [
    {
     "name": "stdout",
     "output_type": "stream",
     "text": [
      "Help on function DrG in module __main__:\n",
      "\n",
      "DrG(K, t)\n",
      "    This function returns the standard change in free energy of a reaction, ΔrG°\n",
      "    \n",
      "    input:\n",
      "        - K = equilibrium constant\n",
      "        - t = temperature in Celsius\n",
      "    output:\n",
      "        - ΔrG° in J K-1 mol-1\n",
      "    prints/saves: nothing\n",
      "\n"
     ]
    }
   ],
   "source": [
    "help(DrG)"
   ]
  },
  {
   "cell_type": "markdown",
   "id": "01dd49b5-96ab-499d-9055-8ba3344567c1",
   "metadata": {},
   "source": [
    "<div class=\"app\">\n",
    "\n",
    "**1.** Define an array `K` with the following equilibrium constants values: 0.05, 0.1, 0.5, 1, 5, 10, 30, 50, 100, 500, 1000\n",
    "\n",
    "**2.** Use the previously defined `DrG` function to calculate all corresponding $\\Delta_rG°$ at once\n",
    "    \n",
    "</div>"
   ]
  },
  {
   "cell_type": "code",
   "execution_count": 28,
   "id": "8131f60d-c247-422b-881e-a8eaf33abe73",
   "metadata": {},
   "outputs": [
    {
     "name": "stdout",
     "output_type": "stream",
     "text": [
      "[  7426.2915782    5708.00950243   1718.28207577     -0.\n",
      "  -3989.72742666  -5708.00950243  -8431.42215818  -9697.73692909\n",
      " -11416.01900486 -15405.74643152 -17124.02850729]\n"
     ]
    }
   ],
   "source": [
    "import numpy as np #np is now a shortcut for numpy\n",
    "\n",
    "K = [0.05, 0.1, 0.5, 1, 5, 10, 30, 50, 100, 500, 1000] # we first define a list with various values of the equilibrium constant\n",
    "K = np.array(K) # the list is converted into a numpy array\n",
    "print(DrG(K,25)) # DG returns an array "
   ]
  },
  {
   "cell_type": "markdown",
   "id": "cced3e3c-9096-4bc1-998d-395b036f68f7",
   "metadata": {},
   "source": [
    "### Plotting\n",
    "\n",
    "<div class=\"intro\">\n",
    "    \n",
    "There are no plotting functions in the Python Standard Library Python, so we have to import a module for this task. The most widely used one is the `pyplot` module of the [Matplotlib library](https://matplotlib.org/stable/tutorials/introductory/quick_start.html), which is a widely used and useful plotting library. Simple plots are then easy to create and customize. \n",
    "</div>\n",
    "<br>\n",
    "<div class=\"app\">\n",
    "\n",
    "\n",
    "Let's start by plotting $\\Delta_rG°(25)$ as a function of *K*\n",
    "</div>"
   ]
  },
  {
   "cell_type": "code",
   "execution_count": 29,
   "id": "bac66527-60d9-4675-aeba-f3740dfe46a4",
   "metadata": {},
   "outputs": [
    {
     "data": {
      "text/plain": [
       "[<matplotlib.lines.Line2D at 0x7f8e8c59fa90>]"
      ]
     },
     "execution_count": 29,
     "metadata": {},
     "output_type": "execute_result"
    },
    {
     "data": {
      "text/plain": [
       "Text(0.5, 0, 'equilibrium constant K')"
      ]
     },
     "execution_count": 29,
     "metadata": {},
     "output_type": "execute_result"
    },
    {
     "data": {
      "text/plain": [
       "Text(0, 0.5, 'Gibbs free energy')"
      ]
     },
     "execution_count": 29,
     "metadata": {},
     "output_type": "execute_result"
    },
    {
     "data": {
      "text/plain": [
       "Text(0.5, 1.0, 'My first graph: DrG° as a function of K, at 25°C')"
      ]
     },
     "execution_count": 29,
     "metadata": {},
     "output_type": "execute_result"
    },
    {
     "data": {
      "image/png": "[encoded data removed]",
      "text/plain": [
       "<Figure size 432x288 with 1 Axes>"
      ]
     },
     "metadata": {
      "needs_background": "light"
     },
     "output_type": "display_data"
    }
   ],
   "source": [
    "# import the required module\n",
    "import matplotlib.pyplot as plt\n",
    "\n",
    "# plotting the points \n",
    "plt.plot(K, DrG(K,25))\n",
    "  \n",
    "# naming the x axis\n",
    "plt.xlabel('equilibrium constant K')\n",
    "\n",
    "# naming the y axis\n",
    "plt.ylabel('Gibbs free energy')\n",
    "  \n",
    "# giving a title to my graph\n",
    "plt.title('My first graph: DrG° as a function of K, at 25°C')\n",
    "  \n",
    "# function to show the plot\n",
    "plt.show()"
   ]
  },
  {
   "cell_type": "code",
   "execution_count": 30,
   "id": "d1de62c5-9c46-49a3-9891-30ce6ac00ea6",
   "metadata": {},
   "outputs": [],
   "source": [
    "#set the interactivity parameter to 'none'. Function calls will display nothing from now on\n",
    "from IPython.core.interactiveshell import InteractiveShell\n",
    "InteractiveShell.ast_node_interactivity = \"none\""
   ]
  },
  {
   "cell_type": "code",
   "execution_count": 31,
   "id": "75d84a7f-dce6-4a90-b862-7f7fded88c4a",
   "metadata": {},
   "outputs": [
    {
     "data": {
      "image/png": "[encoded data removed]",
      "text/plain": [
       "<Figure size 864x576 with 1 Axes>"
      ]
     },
     "metadata": {
      "needs_background": "light"
     },
     "output_type": "display_data"
    }
   ],
   "source": [
    "#this sets the figure size\n",
    "plt.figure(figsize=(12,8))\n",
    "\n",
    "# plot the points \n",
    "plt.plot(K, DrG(K,25), color='r', linewidth=3, marker=\"o\")\n",
    "\n",
    "# name the x and y axis\n",
    "plt.xlabel('equilibrium constant K',size=14,fontweight='bold',color='blue')\n",
    "plt.ylabel('Gibbs free energy',size=14,fontweight='bold',color='blue')\n",
    "# set tick labels font size\n",
    "plt.xticks(fontsize=16,fontweight='bold')\n",
    "plt.yticks(fontsize=16,fontweight='bold')\n",
    "# give a title to the graph\n",
    "plt.title('My first graph: Delta_rG° as a function of K, at 25°C',fontweight='bold')\n",
    "\n",
    "# it is also possible to save a plot, if you want to insert it in a document (text, presentation, ...)\n",
    "plt.savefig('./FiguresCreatedInNotebooks/fig1-Pyt4PC.png',dpi=300,transparent=True)\n",
    "\n",
    "# show the plot. The image is then closed and freed from memory. This is why plt.savefig or any other option must be called before plt.show\n",
    "plt.show()\n"
   ]
  },
  {
   "cell_type": "markdown",
   "id": "c3d60916-ed65-4add-a6d7-9890dc2171ca",
   "metadata": {},
   "source": [
    "<div class=\"app\">\n",
    "\n",
    "Let's now work again on the `VolcanoPlot-woA.csv` datafile, contained in the `MiscData/` folder. According to its header, this file contains a first column named DGads and a second one named log i0. Explaining in details what these properties are would be far beyond the scope of this notebook. Let's just say that what is reported here is related to the electrocatalytic production of molecular hydrogen at a metal electrode. The $\\log(i_0)$ property is the exchange current density, it is related the quantity of hydrogen produced. DGads is the so-called Gibbs energy of adsorption of hydrogen at the electrode, $\\Delta_\\mathrm{ads}G°$. Each ($\\Delta_\\mathrm{ads}G°$, $\\log(i_0)$) couple characterizes the efficiency of a specific metal electrode. The plot is expected to look like a **Sabatier-like volcano**, with the best electrode materials on the peak. Well. It's time to bring this digression to an end.\n",
    "    \n",
    "</div>"
   ]
  },
  {
   "cell_type": "code",
   "execution_count": 32,
   "id": "979eb9a3-e04d-4329-a553-859f48904041",
   "metadata": {},
   "outputs": [],
   "source": [
    "from IPython.core.interactiveshell import InteractiveShell\n",
    "InteractiveShell.ast_node_interactivity = \"none\""
   ]
  },
  {
   "cell_type": "code",
   "execution_count": 33,
   "id": "82133a22-de87-4efb-839b-ec7076e02cf3",
   "metadata": {},
   "outputs": [
    {
     "data": {
      "image/png": "[encoded data removed]",
      "text/plain": [
       "<Figure size 864x576 with 1 Axes>"
      ]
     },
     "metadata": {
      "needs_background": "light"
     },
     "output_type": "display_data"
    }
   ],
   "source": [
    "# import the required module\n",
    "import matplotlib.pyplot as plt\n",
    "\n",
    "plt.figure(figsize=(12,8))\n",
    "plt.plot(DG, logi0, color='r', linestyle='', marker=\"o\",markersize=16)\n",
    "plt.xlabel('Gibbs adsorption energy',size=14,fontweight='bold',color='blue')\n",
    "plt.ylabel('log(i0)',size=14,fontweight='bold',color='blue')\n",
    "plt.xticks(fontsize=16,fontweight='bold')\n",
    "plt.yticks(fontsize=16,fontweight='bold')\n",
    "\n",
    "plt.show()"
   ]
  },
  {
   "cell_type": "markdown",
   "id": "c828abfc-11e2-4646-9d78-022c1a954b01",
   "metadata": {},
   "source": [
    "<div class=\"rq\">\n",
    "\n",
    "**Hey!** It barely looks as a volcano &#x1F30B;! &#x1F914;\n",
    "    \n",
    "</div>\n",
    "<br>\n",
    "<div class=\"intro\">\n",
    "\n",
    "Well, the volcano plot is a somewhat idealized concept, not to mention the experimental uncertainties on $\\Delta_\\mathrm{ads}G°$ and $\\log(i_0)$. To highlight the volcano shape of these data, we need to **smooth** them. The idea is to create an approximating function that attempts to capture important patterns in the data, while leaving out noise. We will use for that the Savitzky–Golay digital filter available in a library called **SciPy**. This library provides fundamental algorithms for scientific computing in Python. One of its modules, `scipy.signal` is a signal processing toolbox that currently contains some filtering functions. The Savitzky–Golay digital filter, `savgol_filter`, is part of the `scipy.signal` toolbox.\n",
    "    \n",
    "</div>\n",
    "<br>\n",
    "<div class=\"app\">\n",
    "\n",
    "Compare the next cell with the previous one to find the differences between them.\n",
    "</div>"
   ]
  },
  {
   "cell_type": "code",
   "execution_count": 34,
   "id": "53ec5a79-2ce3-456b-a73a-d507b4fa9333",
   "metadata": {},
   "outputs": [
    {
     "data": {
      "image/png": "[encoded data removed]",
      "text/plain": [
       "<Figure size 864x576 with 1 Axes>"
      ]
     },
     "metadata": {
      "needs_background": "light"
     },
     "output_type": "display_data"
    }
   ],
   "source": [
    "from scipy.signal import savgol_filter\n",
    "DGhat, logi0hat = savgol_filter((DG,logi0), 11, 3)  # These two parameters are the length of the filter window,\n",
    "                                                    # Followed by the order of the polynomial used to fit the samples\n",
    "                                                    # We have played a bit to find a combination of parameters that nicely smooths the data\n",
    "\n",
    "plt.figure(figsize=(12,8))\n",
    "plt.plot(DG, logi0, color='r', linestyle='', marker=\"o\",markersize=16) # plot of the experimental (DG, logi0) couple \n",
    "plt.plot(DGhat, logi0hat, color='b', linestyle='--', linewidth=4)  # plot of the smoothed data, displayed as a dashed line\n",
    "plt.xlabel('Gibbs adsorption energy',size=14,fontweight='bold',color='blue')\n",
    "plt.ylabel('log(i0)',size=14,fontweight='bold',color='blue')\n",
    "plt.ylabel('log(i0)',size=14,fontweight='bold',color='blue')\n",
    "plt.xticks(fontsize=16,fontweight='bold')\n",
    "plt.yticks(fontsize=16,fontweight='bold')\n",
    "\n",
    "plt.show()"
   ]
  },
  {
   "cell_type": "markdown",
   "id": "cbfbb0af-f799-484b-918a-8e9673b424bf",
   "metadata": {},
   "source": [
    "<div class=\"rq\">\n",
    "\n",
    "The volcano shape of the ($\\Delta_\\mathrm{ads}G°$, $\\log(i_0)$) data is somewhat more convincing now, isn't it? &#x1F4AA;\n",
    "    \n",
    "**Take-home message**: there is probably a method or function somewhere in a general python library that meets your needs and that is worth using instead of developing your own code. Just ask your favorite search engine... And try to find a simple tutorial, not a one written ~~by a nerd~~ by a pythonic programmer &#x1F913;. At least not in the first place.\n",
    "    \n",
    "</div>"
   ]
  },
  {
   "cell_type": "markdown",
   "id": "a39b5810-dd85-4b3c-a2d1-e74fa921e820",
   "metadata": {},
   "source": [
    "## Model fitting\n",
    "### The linear regression case\n",
    "\n",
    "<div class=\"intro\">\n",
    "    \n",
    "Regression is a basic and commonly used type of predictive analysis, that can be applied to various areas in business and academic studies. It predicts the value of unknown data by using another related and known data value. **Linear** regression mathematically models the unknown (or dependent) variable and the known (or independent) variable as a linear equation.\n",
    "\n",
    "In this context, a lot of chemical analysis relies on our ability to fit a line as close as possible to a whole dataset. If necessary and if possible, an equation, hereafter called the model, is linearized. This the case of the Arrhenius equation, widely used in chemical kinetics:\n",
    "$$k=A\\exp(-E_a/RT)$$\n",
    "\n",
    "where, *k* is the rate constant at temperature *T*, *A* is the pre-exponential factor, and *R* is the ideal gas constant. $E_a$ is the minimum energy molecules must possess in order to react to form a product. The following table contains *k* values experimentally measured at various temperatures *T*.\n",
    "    \n",
    "| Experiment | *T* / K | *k* / s$^{-1}$ |\n",
    "| :---------------: |:---------------:| :---------------:|\n",
    "|A|283|0.13|\n",
    "|B|293|0.29|\n",
    "|C|308|0.45|\n",
    "|D|318|0.70|\n",
    "\n",
    "Given the Arrhenius equation, there is an exponential relationship between *k* and *T*, and fitting the model with the data will give access to two kinetic values specific of the underlying reaction mechanism: *A* and $E_a$.\n",
    "\n",
    "The model can be easily transformed into a linear equation by considering its logarithm:\n",
    "\n",
    "$$\\ln (k) = -E_a/RT + \\ln (A) $$\n",
    "\n",
    "The plot of $\\ln (k)$ as a function of $\\frac{1}{RT}$ is expected to be a line, $-E_a$ being its slope and $\\ln (A)$ its *y*-intercept.\n",
    "\n",
    "</div>\n",
    "<br>\n",
    "<div class=\"rq\">\n",
    "\n",
    "**Do not make a confusion between smoothing and model fitting**. Let's adapt what is said in [Wikipedia](https://en.wikipedia.org/wiki/Smoothing) on this topic: curve fitting often involves the use of an **explicit function form** for the result, whereas the immediate results from smoothing are the \"smoothed\" values with no final explicit functional form\n",
    "</div>"
   ]
  },
  {
   "cell_type": "markdown",
   "id": "b3a4a0b3-06b3-4a09-b944-cf71d1c4b60d",
   "metadata": {},
   "source": [
    "<div class=\"app\">\n",
    "\n",
    "Linear regression is illustrated in the next python cell, using the `linregress` method of the `stats` module of the `scipy` library. Accordinf to the [online manual](https://docs.scipy.org/doc/scipy/reference/generated/scipy.stats.linregress.html), `linregress` returns the slope, the intercept, and the *R*-value, which square  is equal to the coefficient of determination $R^2$.\n",
    "\n",
    "**1.** Define two arrays, `Texp` and `kexp`, with the experimental data measured in experiments A-D.\n",
    "    \n",
    "**2.** Plot $\\ln(k_\\mathrm{exp})$ as a function of $\\frac{1}{RT_\\mathrm{exp}}$. Yet, the experimental uncertainty involves that the 4 couples are not perfectly aligned. Plot $\\ln(k_\\mathrm{exp})$ as a function of $\\frac{1}{RT_\\mathrm{exp}}$ using markers only, *i.e.* do not connect data with lines.\n",
    "</div>"
   ]
  },
  {
   "cell_type": "code",
   "execution_count": 35,
   "id": "11623f9f-09d7-4a5e-b581-37deabd9c797",
   "metadata": {},
   "outputs": [
    {
     "data": {
      "image/png": "[encoded data removed]",
      "text/plain": [
       "<Figure size 864x576 with 1 Axes>"
      ]
     },
     "metadata": {
      "needs_background": "light"
     },
     "output_type": "display_data"
    },
    {
     "data": {
      "image/png": "[encoded data removed]",
      "text/plain": [
       "<Figure size 864x576 with 1 Axes>"
      ]
     },
     "metadata": {
      "needs_background": "light"
     },
     "output_type": "display_data"
    }
   ],
   "source": [
    "import numpy as np\n",
    "#Q1\n",
    "Texp = np.array([283,293,308,318])\n",
    "kexp = np.array([0.13,0.29,0.45,0.70])\n",
    "\n",
    "#Q2\n",
    "import scipy.constants as sc\n",
    "R = sc.value(\"molar gas constant\")\n",
    "RTinv = 1/(R*Texp)\n",
    "lnk = np.log(kexp)\n",
    "\n",
    "import matplotlib.pyplot as plt\n",
    "#this sets the figure size\n",
    "plt.figure(figsize=(12,8))\n",
    "\n",
    "# plot the points \n",
    "plt.plot(RTinv, lnk, color='r', linewidth=3, marker=\"o\")\n",
    "\n",
    "# name the x and y axis\n",
    "plt.xlabel('1/RT / mol.J-1',size=14,fontweight='bold',color='blue')\n",
    "plt.ylabel('ln(k)',size=14,fontweight='bold',color='blue')\n",
    "# set tick labels font size\n",
    "plt.xticks(fontsize=16,fontweight='bold')\n",
    "plt.yticks(fontsize=16,fontweight='bold')\n",
    "plt.show()\n",
    "\n",
    "# The experimental uncertainty involves that the 4 couples are not perfectly aligned\n",
    "# Let's redo the plot with only markers and no connecting line\n",
    "plt.figure(figsize=(12,8))\n",
    "plt.plot(RTinv, lnk, color='r', linestyle='', marker=\"o\", markersize=14)\n",
    "plt.xlabel('1/RT / mol.J-1',size=14,fontweight='bold',color='blue')\n",
    "plt.ylabel('ln(k)',size=14,fontweight='bold',color='blue')\n",
    "plt.xticks(fontsize=16,fontweight='bold')\n",
    "plt.yticks(fontsize=16,fontweight='bold')\n",
    "plt.show()\n",
    "#that's better. Now it's time to fit the data"
   ]
  },
  {
   "cell_type": "markdown",
   "id": "2b63feb3-2823-4577-976b-754e08aa25af",
   "metadata": {},
   "source": [
    "<div class=\"app\">\n",
    "\n",
    "**3.** Use the `linregress` function of `scipy.stats` to find $E_a$ and $\\ln (A)$. Evaluate the performance of this regression model with the coefficient of determination, $R^2$ (R-squared). The closer to 1 the R-squared value is, the better the model is.\n",
    "\n",
    "**4.** $R^2$ tells how well the values fit compared to the original values. But the best way to evaluate the quality of the fit and the actual linear behavior of the data is to plot the couples of data and the fitted line on the same graph. To do that:\n",
    "- first define a function `kArr` (Arr as Arrhenius) that will take the temperature $T$ and the fitted $A$ and $E_a$ parameters as arguments\n",
    "- do a scatter plot $\\ln(k_\\mathrm{exp})$ as a function of $\\frac{1}{RT_\\mathrm{exp}}$, *i.e.* using the option `linestyle=''`\n",
    "- superimpose on the same graph the plot of `np.log(kArr(Texp,A,Ea))` as a function of $\\frac{1}{RT_\\mathrm{exp}}$\n",
    "\n",
    "**5.** Use the fitted linear model to predict the value of the rate constant *k* at *T* = 300K and at *T* = 373.15K.\n",
    "</div>"
   ]
  },
  {
   "cell_type": "code",
   "execution_count": 36,
   "id": "b0f3606b-d0da-4b9b-b58d-cdbdd57ee9ac",
   "metadata": {},
   "outputs": [
    {
     "name": "stdout",
     "output_type": "stream",
     "text": [
      "Ea  = 33950.020 J.mol-1\n",
      "A   = 270281.181 s-1\n",
      "R^2 =  0.965\n"
     ]
    }
   ],
   "source": [
    "#Q3\n",
    "from scipy.stats import linregress\n",
    "\n",
    "fitlin = linregress(x=RTinv, y=lnk)\n",
    "\n",
    "Ea = -fitlin.slope\n",
    "lnA = fitlin.intercept #lnA is a variable!!\n",
    "A = np.exp(lnA)\n",
    "Rscore = fitlin.rvalue\n",
    "\n",
    "print(f\"Ea  = {Ea:8.3f} J.mol-1\\nA   = {A:8.3f} s-1\\nR^2 = {Rscore**2:6.3f}\") # \\n = new line"
   ]
  },
  {
   "cell_type": "code",
   "execution_count": 37,
   "id": "c6410e30-6323-41a7-87b0-8bc1dc84a5e5",
   "metadata": {},
   "outputs": [
    {
     "data": {
      "image/png": "[encoded data removed]",
      "text/plain": [
       "<Figure size 864x576 with 1 Axes>"
      ]
     },
     "metadata": {
      "needs_background": "light"
     },
     "output_type": "display_data"
    },
    {
     "name": "stdout",
     "output_type": "stream",
     "text": [
      "k = 0.332 at 300K\n",
      "k = 4.781 at 373.15K\n"
     ]
    }
   ],
   "source": [
    "#Q4\n",
    "\n",
    "def kArr(T,A,Ea):\n",
    "    \"\"\"\n",
    "    input:\n",
    "        - T = temperarture, in K\n",
    "        - A = pre-exponental factor\n",
    "        - Ea = activation energy, in J.mol-1\n",
    "    returns:\n",
    "        the rate constant, k, in the same unit as A\n",
    "    \"\"\"\n",
    "    import numpy as np\n",
    "    import scipy.constants as sc\n",
    "    R = sc.value(\"molar gas constant\")\n",
    "    return A*np.exp(-Ea/(R*T))\n",
    "\n",
    "kfit = kArr(Texp,A,Ea)\n",
    "plt.figure(figsize=(12,8))\n",
    "plt.plot(RTinv, np.log(kexp), color='r', linestyle='', marker=\"o\", markersize=14, label=\"exp. values\")\n",
    "plt.plot(RTinv, np.log(kfit), color='b', linestyle='-', marker=\"X\", markersize=14, label=\"fitted values (linear regression)\")\n",
    "plt.xlabel('1/RT / mol.J-1',size=14,fontweight='bold',color='blue')\n",
    "plt.ylabel('ln(k)',size=14,fontweight='bold',color='blue')\n",
    "plt.xticks(fontsize=16,fontweight='bold')\n",
    "plt.yticks(fontsize=16,fontweight='bold')\n",
    "plt.legend()\n",
    "plt.show()\n",
    "\n",
    "#Q5\n",
    "\n",
    "k300 = kArr(300,A,Ea)\n",
    "k373 = kArr(373.15,A,Ea)\n",
    "print(f\"k = {k300:.3f} at 300K\")\n",
    "print(f\"k = {k373:.3f} at 373.15K\")"
   ]
  },
  {
   "cell_type": "markdown",
   "id": "4ead2899-2770-4860-bef0-5382f11d18fe",
   "metadata": {},
   "source": [
    "<div class=\"rq\">\n",
    "\n",
    "Given that the temperature domain of the experimental data couples is [283-318]K, the 300K value for *k* is an interpolated value, whilst the 373.15K value for *k* is extrapolated.\n",
    "\n",
    "</div>\n",
    "<br>\n",
    "\n",
    "<div class=\"app\">\n",
    "\n",
    "**5.** Plot again the [$\\frac{1}{RT_\\mathrm{exp}}$, $\\ln(k_\\mathrm{exp})$] couples on a graph as well as the [$\\frac{1}{RT_\\mathrm{exp}}$, $\\ln(k_\\mathrm{Arr})$] couples.\n",
    "<br>\n",
    "But this time, plot the line in the [273.15, 400]K domain in order to highlight that the $k_\\mathrm{Arr}$ model applies beyond the [283-318]K domain. It is suggested to use the `np.linspace` function. The `numpy` manual says that:\n",
    "\n",
    "`np.linspace(start, stop, n)` returns *n* evenly spaced samples, calculated over the interval [*start*, *stop*]\n",
    "\n",
    "</div>"
   ]
  },
  {
   "cell_type": "code",
   "execution_count": 38,
   "id": "639670f7-1448-40a1-9c44-63831547c772",
   "metadata": {},
   "outputs": [
    {
     "data": {
      "image/png": "[encoded data removed]",
      "text/plain": [
       "<Figure size 864x576 with 1 Axes>"
      ]
     },
     "metadata": {
      "needs_background": "light"
     },
     "output_type": "display_data"
    }
   ],
   "source": [
    "#Q5\n",
    "T_extrap = np.array([273.15, 400]) #Two values is enough for a line, isn't it?\n",
    "kfit_extrap = kArr(T_extrap,A,Ea) # a new kfit_extrap array is created, with k calculated for each temperature. Again, this is a strong advantage of the numpy library\n",
    "RTinv_extrap = 1/(R*T_extrap) # ln(k) will be plotted as a function of 1/RT (ln(k) = -E_a/RT + ln(A))\n",
    "\n",
    "plt.figure(figsize=(12,8))\n",
    "plt.plot(RTinv, np.log(kexp), color='r', linestyle='', marker=\"o\", markersize=14, label=\"exp. values\")\n",
    "plt.plot(RTinv, np.log(kfit), color='b', linestyle='', marker=\"X\", markersize=14, label=\"fitted values (linear regression)\")\n",
    "plt.plot(RTinv_extrap, np.log(kfit_extrap), color='b', linestyle='-', marker=\"\", markersize=14, label=\"fitted values (linear regression)\")\n",
    "plt.xlabel('1/RT / mol.J-1',size=14,fontweight='bold',color='blue')\n",
    "plt.ylabel('ln(k)',size=14,fontweight='bold',color='blue')\n",
    "plt.xticks(fontsize=16,fontweight='bold')\n",
    "plt.yticks(fontsize=16,fontweight='bold')\n",
    "plt.legend()\n",
    "plt.show()"
   ]
  },
  {
   "cell_type": "markdown",
   "id": "80ea5ddb-56ba-404f-9bb8-f8a2ab7758c8",
   "metadata": {},
   "source": [
    "<div class=\"rq\">\n",
    "    \n",
    "**I have the feeling that you have a question !!** &#x1F642;\n",
    "    \n",
    "\n",
    "&#x1F64B; \"*Would-it be possible to directly find values for the parameters $E_a$ and $A$ of the $k(T)=\\exp (-\\frac{E_a}{RT})$ function that best describe the $[T_\\mathrm{exp}, k_\\mathrm{exp}]$ set of data?*\"\n",
    "    \n",
    "**I knew it!**  &#x1F643; Yes, of course. This is a [nonlinear regression](https://en.wikipedia.org/wiki/Nonlinear_regression) problem. It will be introduced in the next subsection.\n",
    "\n",
    "<div>"
   ]
  },
  {
   "cell_type": "code",
   "execution_count": 62,
   "id": "33152a52-ebcf-4cf2-8058-90d0fbaf35b1",
   "metadata": {},
   "outputs": [
    {
     "data": {
      "text/markdown": [
       "**End at:** Monday 20 February 2023, 13:52:35  \n",
       "**Duration:** 00:01:12 663ms"
      ],
      "text/plain": [
       "<IPython.core.display.Markdown object>"
      ]
     },
     "metadata": {},
     "output_type": "display_data"
    },
    {
     "data": {
      "text/markdown": [
       "<p style=\"text-align: center\"><img width=\"800px\" src=\"./config/svg/logoEnd.svg\" style=\"margin-left:auto; margin-right:auto\"/></p>"
      ],
      "text/plain": [
       "<IPython.core.display.Markdown object>"
      ]
     },
     "metadata": {},
     "output_type": "display_data"
    }
   ],
   "source": [
    "vID.end(cwd0)"
   ]
  },
  {
   "cell_type": "code",
   "execution_count": null,
   "id": "1523467e-65a7-4fec-9543-b3e3a14fc398",
   "metadata": {},
   "outputs": [],
   "source": []
  },
  {
   "cell_type": "code",
   "execution_count": null,
   "id": "f123f738-6f3a-4d34-bf07-dc5363c999e2",
   "metadata": {},
   "outputs": [],
   "source": []
  }
 ],
 "metadata": {
  "kernelspec": {
   "display_name": "Python 3 (ipykernel)",
   "language": "python",
   "name": "python3"
  },
  "language_info": {
   "codemirror_mode": {
    "name": "ipython",
    "version": 3
   },
   "file_extension": ".py",
   "mimetype": "text/x-python",
   "name": "python",
   "nbconvert_exporter": "python",
   "pygments_lexer": "ipython3",
   "version": "3.9.12"
  },
  "toc-autonumbering": true,
  "toc-showcode": false,
  "toc-showmarkdowntxt": false
 },
 "nbformat": 4,
 "nbformat_minor": 5
}
