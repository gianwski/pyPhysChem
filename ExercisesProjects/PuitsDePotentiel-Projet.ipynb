{
 "cells": [
  {
   "cell_type": "code",
   "execution_count": 4,
   "id": "de881717-04e8-473e-9384-751b48119e50",
   "metadata": {},
   "outputs": [
    {
     "name": "stdout",
     "output_type": "stream",
     "text": [
      "/home/romuald/ENSEIGNEMENT/0-JupyterNotebooks/PytChem/ExercisesProjects\n"
     ]
    },
    {
     "data": {
      "text/html": [
       "<style>\n",
       "h1, h2, h3, h4, h5, h6 {\n",
       "  font-family: Verdana, \"DejaVu Sans\", \"Bitstream Vera Sans\", Geneva, sans-serif;\n",
       "  font-weight: bold;\n",
       "}\n",
       "body {\n",
       "  font-family: Verdana, \"DejaVu Sans\", \"Bitstream Vera Sans\", Geneva, sans-serif;\n",
       "  font-weight: 200;\n",
       "}\n",
       "h1 {\n",
       "  border: 0 solid #333;\n",
       "  padding: 30px ;\n",
       "  color: white;\n",
       "  background: #b11d01;\n",
       "  text-align: center;\n",
       "}\n",
       "h2 {\n",
       "  border: 3px solid #333;\n",
       "  padding: 18px ;\n",
       "  color: #b11d01;\n",
       "  background: #ffffff;\n",
       "  text-align: center;\n",
       "}\n",
       "h3 {\n",
       "  border: 0 solid #333;\n",
       "  padding: 12px ;\n",
       "  color: #000000;\n",
       "  background: #c1c1c1;\n",
       "  text-align: left;\n",
       "}\n",
       "h4 {\n",
       "  border: 0 solid #333;\n",
       "  padding: 2px ;\n",
       "  color: #000000;\n",
       "  background: #d9fffc;\n",
       "  text-align: left;\n",
       "}\n",
       "h5 {\n",
       "  border: 1px solid #333;\n",
       "  padding: 2px ;\n",
       "  color: #000000;\n",
       "  background: #ffffff;\n",
       "  text-align: left;\n",
       "}\n",
       ".warn {    \n",
       "    background-color: #fcf2f2;\n",
       "    border-color: #dFb5b4;\n",
       "    border-left: 5px solid #dfb5b4;\n",
       "    padding: 0.5em;\n",
       "    font-weight: 200;\n",
       "    }\n",
       ".rq {    \n",
       "    background-color: #e2e2e2;\n",
       "    border-color: #969696;\n",
       "    border-left: 5px solid #969696;\n",
       "    padding: 0.5em;\n",
       "    font-weight: 200;\n",
       "    }\n",
       "</style>\n"
      ],
      "text/plain": [
       "<IPython.core.display.HTML object>"
      ]
     },
     "metadata": {},
     "output_type": "display_data"
    },
    {
     "data": {
      "text/markdown": [
       "**Start at:** Sunday 01 January 2023, 15:24:04  \n",
       "**Hostname:** ip-sw-install-nico.insa-toulouse.fr (Linux)"
      ],
      "text/plain": [
       "<IPython.core.display.Markdown object>"
      ]
     },
     "metadata": {},
     "output_type": "display_data"
    },
    {
     "data": {
      "text/markdown": [
       "<p style=\"text-align: center\"><img width=\"800px\" src=\"../config/svg/logoPytChem.svg\" style=\"margin-left:auto; margin-right:auto\"/></p>"
      ],
      "text/plain": [
       "<IPython.core.display.Markdown object>"
      ]
     },
     "metadata": {},
     "output_type": "display_data"
    }
   ],
   "source": [
    "import os\n",
    "import sys\n",
    "\n",
    "print(os.getcwd())\n",
    "cwd0 = '../config/'\n",
    "sys.path.append(cwd0)\n",
    "\n",
    "import visualID_Eng as vID\n",
    "from visualID_Eng import color\n",
    "vID.init(cwd0)\n",
    "import tools4PytChem as t4p"
   ]
  },
  {
   "cell_type": "markdown",
   "id": "1ad4118e-0e81-471b-8bea-ee2b141a9b48",
   "metadata": {},
   "source": [
    "# Projet : interprétation des spectres d'absorption UV-visibles de cyanines et de polyènes conjugués\n",
    "\n",
    "## Objectif\n",
    "\n",
    "Le projet est basé sur l'article *Why the Particle-in-a-Box Model Works Well for Cyanine Dyes but Not for Conjugated Polyenes*  de J. Autschbach (*J. Chem. Educ.* **84**: 1840-1845, **2007**, Ref. [1])\n",
    "\n",
    "Il s'agit d'interpréter les spectres d'absorption UV-visibles de molécules conjuguées linéaires, telles que le butadène, l'hexatriène, l'octatetraène... On sait de longue date (voir Ref. [2]), que la longueur d'onde maximale d'absorption des polyènes augmente en fonction de la taille du système conjugué : on parle **d'effet batochrome**. Ci-dessous les spectres de plusieurs diméthylpolyènes, qui montrent ce décalage des spectres d'absorption vers des domaines de longueur d'onde élevée :\n",
    "\n",
    "<p style=\"text-align: center\"><img width=\"450px\" src=\"MiscImages/VUV-ConjugatedSystems/SpectresVis-DiMePolyenes.png\" style=\"margin-left:auto; margin-right:auto\" id=\"img_VisPolyenes\"></img><br> <b>Figure 1</b>. Extrait de la Réf. [2]</p>\n",
    "\n",
    "<div class=\"warn\">\n",
    "    \n",
    "On va chercher à comprendre cet effet batochrome, c'est-à-dire si on peut trouver une relation entre la bande d'intensité maximale de chaque spectre, observée à la longueur d'onde $\\lambda_\\mathrm{max}$, et la taille du système conjugué, *n*. On va considérer deux cas différents : des **cyanines** et des **diméthylpolyènes**. \n",
    "    \n",
    "</div>"
   ]
  },
  {
   "cell_type": "markdown",
   "id": "cb6dd2a3-8250-4fef-be35-57e392a67da5",
   "metadata": {
    "tags": []
   },
   "source": [
    "## Cadre théorique\n",
    "\n",
    "### Origine des bandes d'absorption d'un spectre Visible-UV de molécules\n",
    "\n",
    "On rappelle d'abord que l'énergie des atomes et des molécules est *quantifiée*\n",
    "\n",
    "L'interaction entre entre un photon du domaine Visible - UV et une molécule entraîne l'excitation des électrons depuis une orbitale occupée vers une orbitale vide, à condition que la différence d'énergie entre les deux orbitales soit reliée à la longueur d'onde du photon. Dans le cas des spectres d'absorption de molécules possédant un système π, la bande expérimentale observée à $\\lambda_\\mathrm{max}$ est généralement due à l'excitation d'un électron qui occupe la plus haute orbitale occupée π (la **HO**) vers la plus basse des orbitales vides π (la **BV**) :\n",
    "<p style=\"text-align: center\"><img width=\"450px\" src=\"MiscImages/VUV-ConjugatedSystems/PrincipeAbsorption.png\" style=\"margin-left:auto; margin-right:auto\" id=\"img_PpeAbsHOBV\"></img><br> <b>Figure 2</b></p>\n",
    "\n",
    "Et $\\lambda_\\mathrm{max}$ est reliée à la différence d'énergie HO-BV *via* la relation de Planck-Einstein :\n",
    "\n",
    "$$\\Delta E = E(\\mathrm{BV})-E(\\mathrm{HO}) = \\frac{hc}{\\lambda_\\mathrm{max}}$$\n",
    "\n",
    "où *c* est la vitesse de la lumière et *h* est la constante de Planck."
   ]
  },
  {
   "cell_type": "markdown",
   "id": "72c7f78e-b77f-4b63-b5bf-b3440ae95c4f",
   "metadata": {},
   "source": [
    "### Rappel sur la conjugaison\n",
    "\n",
    "Un système conjugué est un système chimique constitué d'atomes liés par des liaisons covalentes avec au moins une liaison π délocalisée. C'est le cas par exemple du benzène. Sa structure de Lewis présente 3 liaisons doubles sur les 6 liaisons présentes entre les atomes de carbone. Du fait de l'existence de 2 formes mésomères équivalentes, les électrons π se délocalisent sur l'ensemble du squelette carboné en apportant un caractère de liaison double sur l'ensemble des 6 liaisons C-C. C'est ce qu'on résumé par l'hybride de résonance ci-dessous :\n",
    "\n",
    "<p style=\"text-align: center\"><img width=\"550px\" src=\"MiscImages/VUV-ConjugatedSystems/resonanceBenzene.png\" style=\"margin-left:auto; margin-right:auto\" id=\"img_PpeAbsHOBV\"></img><br> <b>Figure 3</b></p>\n",
    "\n",
    "On constate exactement le même phénomène dans tout polyène ouvert ou cyclique qui présente une \"alternance\" liaison double - liaison simple - liaison double etc..., résumé par **π-σ-π**, ce qui est le cas des polyènes linéaires conjugués tel que le diméthyl-hexatriène ci-dessous :\n",
    "\n",
    "<p style=\"text-align: center\"><img width=\"550px\" src=\"MiscImages/VUV-ConjugatedSystems/deloc-diMehexatriène.png\" style=\"margin-left:auto; margin-right:auto\" id=\"img_PpeAbsHOBV\"></img><br> <b>Figure 4</b></p>\n",
    "\n",
    "Les électrons π se délocalisent tout le long du squelette carboné, c'est-à-dire que ils ne restent pas localisés entre deux atomes au contraire d'électrons σ."
   ]
  },
  {
   "cell_type": "markdown",
   "id": "d989df2a-02af-402d-b1a0-c8ab7413ac6c",
   "metadata": {
    "tags": []
   },
   "source": [
    "### Expression théorique des énergies $E(\\mathrm{HO})$ et $E(\\mathrm{BV})$\n",
    "\n",
    "Il existe un modèle théorique qui consiste à considérer que les électrons π sont libres de se déplacer librement tout le long du squelette carboné. Ont dit qu'ils ont libres dans un puits de potentiel, dont les limites correspondent à la dimension du squelette carboné, comme illustré ci-dessous pour l'hexatriène :\n",
    "\n",
    "<p style=\"text-align: center\"><img width=\"340px\" src=\"MiscImages/VUV-ConjugatedSystems/Puis1D-hexatrieneSmall.png\" style=\"margin-left:auto; margin-right:auto\" id=\"img_Hexatriene-Puits1DSmall\"></img><br> <b>Figure 5</b></p>\n",
    "\n",
    "On ne va pas rentrer ici dans des détails théoriques, mais ce modèle dit du \"**puits de potentiel infiniment profond**\" se résoud dans le cadre de la théorique quantique, ce qui fait fait apparaître la **quantification de l'énergie** des électrons π des molécules conjuguées linéaires. L'équation à résoudre s'écrit :\n",
    "$$-\\frac{\\hbar^{2}}{2m}\\frac{d^{2}\\psi}{dx^{2}}=E\\psi(x)$$\n",
    "\n",
    "La résolution de cette équation différentielle, en prenant en compte les conditions aux limites, mène aux solutions :\n",
    "\n",
    "$$\\psi_{n}(x)=\\sqrt{\\frac{2}{L}}\\sin\\left(\\frac{n\\pi}{L}x\\right)$$\n",
    "\n",
    "$$E_{n}=n^{2}\\frac{\\pi^{2}\\hbar^{2}}{2m_eL^{2}}$$\n",
    "\n",
    "où *L* est la largeur du puits, $\\hbar$ est la constante de Planck réduite et $m_e$ est la masse de l'électron.\n",
    "\n",
    "$E_{n}$ est l'énergie des états accessibles aux électrons π, qu'on va appeler des orbitales. Elle dépend d'un nombre entier $n$, qui est un nombre entier qui peut prendre toute valeur comprise entre 1 et +∞.\n",
    "\n",
    "$\\psi_{n}(x)$ est l'orbitale elle-même. Elle contient une information sur la probabilité de présence des électrons dans l'espace qui leur est accessible le long du squelette σ. Une orbitale ne peut héberger plus de deux électrons en vertu du **principe d'exclusion de Pauli**, lequel imposé galement que les moments magnétiques de spin soient opposés (états de spin α et β). Enfin, il faut savoir que l'ordre de remplissage des orbitales se fait en fonction de leur ordre énergétique. Pour l'hexa-2,4,6-triène, voici à quoi ressemble qualitativement le diagramme énergétique de ses orbitales π :\n",
    "\n",
    "<p style=\"text-align: center\"><img width=\"170px\" src=\"MiscImages/VUV-ConjugatedSystems/MOs-hexatriene.png\" style=\"margin-left:auto; margin-right:auto\" id=\"img_Hexatriene-MOs\"></img><br> <b>Figure 6</b></p>\n",
    "\n",
    "### Plan de travail\n",
    "\n",
    "<div class=\"rq\">\n",
    "    \n",
    "Dans ce projet on va principalement chercher à interpréter l'effet batochrome d'une part en ayant en tête le schéma de principe ci-dessous :\n",
    "    \n",
    "<p style=\"text-align: center\"><img width=\"450px\" src=\"MiscImages/VUV-ConjugatedSystems/PrincipeAbsorption.png\" style=\"margin-left:auto; margin-right:auto\" id=\"img_PpeAbsHOBV\"></img><br> <b>Figure 7</b></p>\n",
    "\n",
    "et en utilisant les relations :\n",
    "    \n",
    "$$E_{n}=n^{2}\\frac{\\pi^{2}\\hbar^{2}}{2m_eL^{2}}$$\n",
    "    \n",
    "$$\\Delta E = E(\\mathrm{BV})-E(\\mathrm{HO}) = \\frac{hc}{\\lambda_\\mathrm{max}}$$\n",
    "\n",
    "On va voir dans un **premier temps (cas des cyanines)**, que ce modèle permet de bien reproduire les longueurs d'onde expérimentales, à condition **d'ajuster** la dimension du puits. On va voir qu'il faut augmenter un peu sa taille, afin de prendre en compte des **effets de bord**. Il n'est pas déraisonnable en effet de penser que les électrons π ne vont pas brutalement s'arrêter à la frontière définie par la position des atomes terminaux du squelette carboné. C'est ce qui est résumé ci-dessous, toujours pour l'hexatriène : \n",
    "\n",
    "<p style=\"text-align: center\"><img width=\"430px\" src=\"MiscImages/VUV-ConjugatedSystems/Puis1D-hexatrieneLarge.png\" style=\"margin-left:auto; margin-right:auto\" id=\"img_Hexatriene-Puits1DLarge\"></img><br> <b>Figure 8</b></p>\n",
    "\n",
    "Puis dans un **deuxième temps (cas des polyènes conjugués)**, on va voir que ce modèle permet de bien reproduire les longueurs d'onde expérimentales, à condition **d'ajuster** à la fois la dimension du puits ainsi qu'un paramètre correctif de l'énergie de HO, qui sera le même quelle que soit la taille du polyène. \n",
    "\n",
    "</div>"
   ]
  },
  {
   "cell_type": "markdown",
   "id": "1703ce17-eb25-488a-a2d7-d0d897628a8e",
   "metadata": {},
   "source": [
    "### Comment va-t-on comparer longueurs d'onde issues des modèles et longueur d'onde expérimentales ?\n",
    "\n",
    "Le plus courant est de vérifier graphiquement l'accord entyre modèles et expérience. On suggère de reporter sur un graphique les valeurs théoriques en fonction des valeurs expérimentales sur un graphe carré ayant la même échelle des abscisses et des ordonnées, et de tracer également la diagonale du carré. Si les valeurs théoriques sont proches de la diagonale, c'est que l'accord théorie-expérience est bon. Sinon à vous de juger si l'écart est significatif ou pas. Par exemple :\n",
    "\n",
    "<p style=\"text-align: center\"><img width=\"1200px\" src=\"MiscImages/VUV-ConjugatedSystems/Comparaison théorie-expérience.png\" style=\"margin-left:auto; margin-right:auto\" id=\"img_CompTheoExp\"></img><br> <b>Figure 9</b></p>\n",
    "\n",
    "- (a) Le modèle théorique, une fois ajusté, reproduit parfaitement les données expérimentales. Le modèle physique est donc validé\n",
    "- (b) Le modèle théorique ne permet pas de reproduire la tendance expérimentale sur toute la gamme des exemples, malgré l'ajustement. Le modèle théorique ne semble pas faux, mais il doit être adapté (concrètement : il manque un terme à la fonction dont on a cherché à ajuster les paramètres)\n",
    "- (c) Le modèle théorique semble complètement inadapté\n",
    "- (d) Le modèle théorique est bon, mais il a été mal ajusté : les longueurs théoriques sont surestimées de façon systématique par rapport à l'expérience. "
   ]
  },
  {
   "cell_type": "markdown",
   "id": "d9cac16d-a3f0-41fa-a94f-57c1ae6565d3",
   "metadata": {},
   "source": [
    "## Préparation du terrain"
   ]
  },
  {
   "cell_type": "markdown",
   "id": "85b6db4d-875b-43b6-b6a7-8e0e96e9096b",
   "metadata": {},
   "source": [
    "### Constantes fondamentales\n",
    "\n",
    "La bibliothèque `scipy` contient des constantes physiques à jour, dans le module `constants`. Toutes les constantes utiles dans ce projet seront connues du notebook après exécution de la cellule ci-dessous :"
   ]
  },
  {
   "cell_type": "code",
   "execution_count": 2,
   "id": "2920986c-4556-4c56-a6b2-2804a57c9dbb",
   "metadata": {},
   "outputs": [
    {
     "name": "stdout",
     "output_type": "stream",
     "text": [
      "Charge élémentaire e = 1.602176634e-19 C\n",
      "Constante de Planck h = 6.62607015e-34 J s\n",
      "Constante de Planck réduite \"h-barre\" hbar = 1.0545718176461565e-34 J s\n",
      "Masse de l'électron me = 9.1093837015e-31 kg\n",
      "Vitesse de la lumière dans le vide c = 299792458.0 m/s\n"
     ]
    }
   ],
   "source": [
    "from scipy.constants import h, hbar, m_e, elementary_charge, c\n",
    "print(f\"Charge élémentaire e = {elementary_charge} C\")\n",
    "print(f\"Constante de Planck h = {h} J s\")\n",
    "print(f\"Constante de Planck réduite \\\"h-barre\\\" hbar = {hbar} J s\")\n",
    "print(f\"Masse de l'électron me = {m_e} kg\")\n",
    "print(f\"Vitesse de la lumière dans le vide c = {c} m/s\")"
   ]
  },
  {
   "cell_type": "markdown",
   "id": "45229eb3-d0a3-4e97-a8ff-24637de3401d",
   "metadata": {},
   "source": [
    "### Définition de fonctions utiles\n",
    "\n",
    "On suggère d'importer les bibliothèques utiles ici. Et de définir également dans cette partie toutes les fonctions dont la plupart seront utilisées tout au long du sujet.\n",
    "\n",
    "<div class=\"warn\">\n",
    "    \n",
    "**Attention** à la gestion des unités !\n",
    "On suggère de travailler dans le système SI au sein de chacune des fonctions et de renvoyer des grandeurs SI (longueur d'onde en m, énergie en J, etc...)\n",
    "   \n",
    "</div>"
   ]
  },
  {
   "cell_type": "code",
   "execution_count": null,
   "id": "11641e7c-44da-4c77-9149-d1981f76b10b",
   "metadata": {},
   "outputs": [],
   "source": [
    "# insérer votre code ici\n"
   ]
  },
  {
   "cell_type": "markdown",
   "id": "380ad59f-6ef9-4435-927f-578f645778bd",
   "metadata": {},
   "source": [
    "## Interprétation de spectres d'absorption UV-visible de cyanines\n",
    "\n",
    "L'objectif de la première partie de ce projet est d'interpéter le spectre d'absorption UV-visible de [cyanines](https://fr.wikipedia.org/wiki/Cyanine). Les formes mésomères, complétées par les \"principes d\"alternance\" **π-σ-π** et **π-σ-n** (où n est un DNL), permettent d'identifier que le système π s'étend entre les deux atomes d'azote. \n",
    "\n",
    "<p style=\"text-align: center\"><img width=\"650px\" src=\"MiscImages/VUV-ConjugatedSystems/Streptocyanines.png\" style=\"margin-left:auto; margin-right:auto\" id=\"img_Streptocyanines\"></img><br> <b>Figure 10</b></p>\n",
    "\n",
    "L'enregistrement des spectres visibles des 4 composés ci-dessous a permis de déterminer la longueur d'onde correspondant au maximum d'aborbance, $\\lambda_\\mathrm{max}$, dont les valeurs sont données dans le tableau qui suit.\n",
    "\n",
    "<p style=\"text-align: center\"><img width=\"350px\" src=\"MiscImages/VUV-ConjugatedSystems/Streptocyanines1-4.png\" style=\"margin-left:auto; margin-right:auto\" id=\"img_Streptocyanines1-4\"></img><br> <b>Figure 11</b></p>\n",
    "\n",
    "| *k* | *nombre d'électrons π*   | λ$_{max}$ / nm |\n",
    "|:---:|:--------:|:---------------------------:|\n",
    "|  1  |     6    |             313             |\n",
    "|  2  |     8    |             416             |\n",
    "|  3  |    10    |             519             |\n",
    "|  4  |    12    |             625             |\n",
    "*Valeurs extraites de la référence [3]*\n",
    "\n",
    "Le nombre d'électrons π est simplement obtenu par la relation 2(*k*+1)+2, qui prend en compte les 2(*k*+1) électrons π des liaisons doubles ainsi que les 2 électrons π du DNL qui se délocalisent également."
   ]
  },
  {
   "cell_type": "markdown",
   "id": "19c5717f-35b4-48a7-a730-6295dfd757c6",
   "metadata": {},
   "source": [
    "### Calcul des longueurs d'onde de transition dans l'hypothèse où la largeur du puits est celle de la partie conjuguée de la molécule\n",
    "\n",
    "C'est-à-dire qu'on se place dans le contexte de la **Figure 5**. Pour calculer la longueur d'un segment de 2 liaisons CCC, aussi bien que CCN :\n",
    "- on va considérer qu'une liaison simple mesure en moyenne 154 pm et que la longueur d'une liaison double est de 133 pm. \n",
    "- une liaison partielle a une longueur qui est prise comme la moyenne (simple + double)\n",
    "- l'angle entre les 2 liaisons est de 120° (car les atomes sont hybridés sp2)\n",
    "\n",
    "Il est demandé ci-dessous :\n",
    "- de tracer EHO et EBV en fonction de k, le nombre d'unités monomères. Quel commentaire pouvez-vous faire ?\n",
    "- puis de tracer les longueurs d'onde théorique en fonction des longueurs d'onde expérimentales, sur le modèle de la **Figure 9**. Commenter.\n"
   ]
  },
  {
   "cell_type": "code",
   "execution_count": null,
   "id": "d9eb9a30-371e-4744-b44a-687b88c2910f",
   "metadata": {},
   "outputs": [],
   "source": [
    "# insérer votre code ici\n"
   ]
  },
  {
   "cell_type": "markdown",
   "id": "b772c9b6-b3ca-4256-bfe2-231dad51ccb7",
   "metadata": {},
   "source": [
    "<div class=\"rq\">\n",
    "\n",
    "- Les orbitales frontières HO et BV se rapprochent quand *k* augmente. Si le modèle du puits infiniment profond est validé, l'effet batochrome serait dû à un rapprochement HO/BV quand *k* augmente.\n",
    "\n",
    "- Le modèle théorique sous-estime de façon systématique les longueurs d'onde. On va voir si améliorer le modèle en augmentant la dimension du puits permet de se rapprocher de l'expérience. \n",
    "    \n",
    "</div>"
   ]
  },
  {
   "cell_type": "markdown",
   "id": "5f511ead-c903-4813-8d4d-5d69377481ca",
   "metadata": {},
   "source": [
    "### Recherche de combien il faut systématiquement augmenter la taille de la boîte (du puits) pour prendre en compte les effets de bord\n",
    "\n",
    "Vous avez en principe trouvé que le modèle théorique sous-estime de façon systématique les longueurs d'onde. On va évaluer maintenant si améliorer le modèle en augmentant la dimension du puits permet de se rapprocher de l'expérience. On va ainsi prendre en compte de façon systématique la possibilité qu'ont les électrons π de se délocaliser au-delà des carbones conjugués terminaux (cf **Figure 8**).\n",
    "\n",
    "Il est demandé ci-dessous :\n",
    "\n",
    "- d'ajuster le modèle en introduisant un paramètre supplémentaire, noté *b* sur la **Figure 8**. On va ainsi prendre en compte de façon systématique la possibilité qu'ont les électrons π de se délocaliser au-delà des azotes conjugués terminaux. Le paramètre est censé être le même quelle que soit la cyanine, puisque les atomes d'azote sont liés à des méthyl dans chacune des cyanines (1) à (4).\n",
    "- de tracer les longueurs d'onde théorique en fonction des longueurs d'onde expérimentales, sur le modèle de la **Figure 9**. Commenter.\n",
    "- de tracer EHO et EBV en fonction de k, le nombre d'unités monomères. Quel commentaire pouvez-vous faire ?\n"
   ]
  },
  {
   "cell_type": "code",
   "execution_count": null,
   "id": "00a6ea81-2b41-49f3-ae9a-a30d4ddd51b1",
   "metadata": {},
   "outputs": [],
   "source": [
    "# insérer votre code ici\n"
   ]
  },
  {
   "cell_type": "markdown",
   "id": "93c954d2-6619-42cb-8b30-3b6ba8d00c8f",
   "metadata": {},
   "source": [
    "<div class=\"rq\">\n",
    "    \n",
    "- Le modèle théorique reproduit parfaitement les longueurs d'onde expérimentales. Le modèle des électrons π libres de se déplacer le long de la chaîne conjuguée semble validé, à condition qu'on étende un peu le puits au-delà des atomes qui participent au système conjugué. \n",
    "\n",
    "- Les orbitales frontières HO et BV se rapprochent quand *k* augmente. Plus précisément, la HO est déstabilisée, alors que la BV est stabilisée (c'est ce qu'on trouve dans tous les textbooks sur le sujet, même si on fait ce genre de calcul avec des hamiltoniens plus sophistiqués)\n",
    "    \n",
    "</div>"
   ]
  },
  {
   "cell_type": "markdown",
   "id": "a4a788d9-8c5d-413b-bc26-a9acc2252542",
   "metadata": {},
   "source": [
    "## On va maintenant chercher à interpréter les spectres d'absorption UV-visible de polyènes\n",
    "\n",
    "L'unité monomérique est dessinée ci-dessous. Le \"principes d\"alternance\" **π-σ-π** permet d'identifier que le système π s'étend entre les deux atomes de carbone qui sont liés aux fonctions méthyle.\n",
    "\n",
    "<p style=\"text-align: center\"><img width=\"650px\" src=\"MiscImages/VUV-ConjugatedSystems/ConjugatedPolyenes.png\" style=\"margin-left:auto; margin-right:auto\" id=\"img_Polyenes\"></img><br> <b>Figure 12</b></p>\n",
    "\n",
    "| *k* | *nombre d'électrons π*   | λ$_{max}$ / nm |\n",
    "|:---:|:--------:|:---------------------------:|\n",
    "|  1  |     4    |             227             |\n",
    "|  2  |     6    |             273             |\n",
    "|  3  |     8    |             312             |\n",
    "|  4  |    10    |             345             |\n",
    "|  5  |    12    |             374             |\n",
    "|  6  |    14    |             399             |\n",
    "| 10  |    22    |             474             |\n",
    "| 14  |    30    |             524             |\n",
    "*Valeurs extraites de la référence [4]*\n",
    "\n",
    "Le nombre d'électrons π est dans ce cas obtenu par la relation 2(*k*+1)+2, qui prend en compte les 2(*k*+1) électrons π des liaisons doubles."
   ]
  },
  {
   "cell_type": "markdown",
   "id": "b00a891d-aa79-4a11-b50e-7beed5708d83",
   "metadata": {},
   "source": [
    "### Calcul des longueurs d'onde de transition dans l'hypothèse où la largeur du puits est celle de la partie conjuguée de la molécule\n",
    "\n",
    "C'est-à-dire qu'on se place à nouveau dans le contexte de la **Figure 5**. Pour calculer la longueur d'un segment de 2 liaisons CCC, on considère toujours que :\n",
    "- on va considérer qu'une liaison simple mesure en moyenne 154 pm et que la longueur d'une liaison double est de 133 pm. \n",
    "- une liaison partielle a une longueur qui est prise comme la moyenne (simple + double)\n",
    "- l'angle entre les 2 liaisons est de 120° (car les atomes sont hybridés sp2)\n",
    "\n",
    "Vous pouvez donc utiliser la même fonction que celle développée pour les cyanines. \n",
    "\n",
    "Il est demandé ci-dessous de tracer les longueurs d'onde théorique en fonction des longueurs d'onde expérimentales, sur le modèle de la **Figure 9**. Commenter."
   ]
  },
  {
   "cell_type": "code",
   "execution_count": null,
   "id": "264dc202-34ff-4f54-acde-1937acf374e6",
   "metadata": {},
   "outputs": [],
   "source": [
    "# insérer votre code ici\n"
   ]
  },
  {
   "cell_type": "markdown",
   "id": "0be718f0-e219-4014-9bca-d88ace0dc90a",
   "metadata": {},
   "source": [
    "### Prise en compte de l'effet de bord et d'un paramètre supplémentaire : le shift en énergie de la HO\n",
    "\n",
    "Le graphe que vous venez de tracer montre que le modèle de puits de potentiel infiniment profond est insuffisant. Et au vu de l'évolution des longueurs d'onde théoriques en fonction des longueurs d'onde expérimentales, augmenter la lareur du puits ne suffira pas. Le modèle ne capture pas les effets physico-chimiques à l'oeuvre dans ces polyènes. En fait, il est connu que la délocalisation est moins forte dans les polyènes que dans les cyanines. Le modèle d'électrons π libres de se déplacer le long d'un squelette carboné est donc trop permissif. Il a été démontré dans la Réf. [1], par des méthodes théoriques qui dépassent de très loin le cadre de cet enseignement, que d'un point de vue pragmatique il est possible de corriger ce comportement en décalant de façon systématique l'énergie de la HO, l'énergie de la BV étant très peu affectée par cette délocalisation plus faible. \n",
    "\n",
    "On va donc ajuster le modèle avec deux paramètres :\n",
    "- l'augmentation de la dimension de la boîte par un paramètre *b*, caractéristique des fonctions terminales (ici les fonctions -CH3)\n",
    "- la variation de l'énergie de la HO par un paramètre *shiftHO* indépendant de la taille du polyène, qui prend en compte une moins forte déstabilisation de la HO pour cause de délocalisation moins élevée\n",
    "\n",
    "Vous devez dans la cellule ci-dessous :\n",
    "- définir la nouvelle fonction à ajuster\n",
    "- procéder à l'ajustement des paramètres *b* et *shiftHO* de façon à essayer de reproduire les longueurs d'onde expérimentales (il est conseillé de donner deux valeurs initiales pour faciliter l'ajustement)\n",
    "- tracer les longueurs d'onde théorique en fonction des longueurs d'onde expérimentales, sur le modèle de la **Figure 9**. Commenter.\n",
    "- tracer EHO et EBV en fonction de k, le nombre d'unités monomères. Quel commentaire pouvez-vous faire ?\n"
   ]
  },
  {
   "cell_type": "code",
   "execution_count": null,
   "id": "cb5de8c1-e74b-40bf-8a48-3842e9b00b9e",
   "metadata": {},
   "outputs": [],
   "source": [
    "# insérer votre code ici\n"
   ]
  },
  {
   "cell_type": "markdown",
   "id": "41bbe940-46ef-483f-ba7e-4d529690d983",
   "metadata": {},
   "source": [
    "<div class=\"rq\">\n",
    "    \n",
    "- Le modèle théorique reproduit parfaitement les longueurs d'onde expérimentales. Le modèle des électrons π libres de se déplacer le long de la chaîne conjuguée semble validé, à condition qu'on étende un peu le puits au-delà des atomes qui participent au système conjugué et qu'on introduise de façon empirique l'effet sur la posotion de la HO d'une délocalisation moins forte. \n",
    "\n",
    "- Les orbitales frontières HO et BV se rapprochent quand *k* augmente. Plus précisément, la HO est déstabilisée, alors que la BV est stabilisée. C'est le même phénomène déjà observé pour les cyanines, même si ici l'évolution en fonction de *k* est différente.\n",
    "    \n",
    "</div>"
   ]
  },
  {
   "cell_type": "markdown",
   "id": "0956e691-3cf6-4a8f-8c53-697c54305eb0",
   "metadata": {},
   "source": [
    "### Examen des fonctions d'onde HO et BV et de leur énergie\n",
    "\n",
    "#### Sélection d'un des polyènes\n",
    "\n",
    "Sélectionnez l'octatétraène (*k* = 4). Sauvez dans des variables et affichez :\n",
    "- Le nombre d'atomes appartenant au système pi\n",
    "- Le nombre d'électrons pi\n",
    "- La largeur de la partie conjuguée (*L*)\n",
    "- La largeur effective du puits (*L*')\n",
    "- Le nombre quantique de la HO\n",
    "- Le nombre quantique de la BV\n",
    "- L'énergie de chacune de ces deux orbitales\n",
    "\n",
    "Puis créez un tableau `xAtomes` qui contient les positions des atomes qui appartiennent au système conjugué."
   ]
  },
  {
   "cell_type": "code",
   "execution_count": null,
   "id": "f8b307d4-159b-4e2a-8cf3-5728db0845f3",
   "metadata": {},
   "outputs": [],
   "source": [
    "# insérer votre code ici\n"
   ]
  },
  {
   "cell_type": "markdown",
   "id": "485d7b49-a93d-42a9-9d2b-b23951d4f7af",
   "metadata": {},
   "source": [
    "#### Vérification que les fonctions d'onde de ce polyène sont normées\n",
    "\n",
    "Au passage, on va vérifier que les fonctions d'onde $\\psi_1$ à $\\psi_\\mathrm{BV}$ sont toutes normées. C'est-à-dire que l'intégrale *I* ci-dessous est égale à 1 quelle que soit la valeur de *i*.\n",
    "\n",
    "$$I=\\int_{0}^{L'}\\psi_{i}{}^{2}dx$$"
   ]
  },
  {
   "cell_type": "code",
   "execution_count": null,
   "id": "4646ead8-399c-458b-9962-26902b72e597",
   "metadata": {},
   "outputs": [],
   "source": [
    "# insérer votre code ici\n"
   ]
  },
  {
   "cell_type": "markdown",
   "id": "1f6ecf10-bc78-42e2-aff3-12986bea63ec",
   "metadata": {},
   "source": [
    "#### États HO & BV : tracé des fonctions d'onde et des niveaux d'énergie\n",
    "\n",
    "On demande maintenant de reporter sur un graphique qui aura la largeur du puits de l'octatétraène ($k$ = 4)\n",
    "- de tracer des traits horizontaux qui correspondent aux énergies des HO et BV\n",
    "- d'y tracer les fonctions d'onde $\\psi_\\mathrm{HO}$ et $\\psi_\\mathrm{BV}$\n",
    "- de représenter également la position des atomes de carbones impliqués dans le système conjugué, afin de voir ce qu'on appelle les noeuds de la fonction d'onde, c'est-à-dire entre quels atomes la fonction d'onde s'annule\n",
    "\n",
    "On demande un graphe qui ressemble à ceci :\n",
    "\n",
    "<p style=\"text-align: center\"><img width=\"250px\" src=\"MiscImages/VUV-ConjugatedSystems/PsiHOBV-Puits-keep.png\" style=\"margin-left:auto; margin-right:auto\" id=\"img_PsiHOBV-Puits1D\"></img><br> <b>Figure 13</b></p>"
   ]
  },
  {
   "cell_type": "code",
   "execution_count": null,
   "id": "eb47d072-7c46-4160-9679-70db5d59d0d1",
   "metadata": {},
   "outputs": [],
   "source": [
    "# insérer votre code ici\n"
   ]
  },
  {
   "cell_type": "markdown",
   "id": "6aa35988-6482-44bb-80e1-5e6c73c614ec",
   "metadata": {
    "tags": []
   },
   "source": [
    "## Transférabilité des paramètres au β-carotène\n",
    "\n",
    "Le [β-carotène](https://fr.wikipedia.org/wiki/B%C3%AAta-Carot%C3%A8ne) est un antioxydant de la famille des caroténoïdes. Principalement retrouvé dans les produits d’origine végétale tels que les carottes, les épinards ou encore les tomates, il joue un rôle essentiel dans l'organisme dans la synthèse de la viamine A. Sous forme pure, il se présente comme une poudre rouge. Sa structure de Lewis et son spectre d'absorption sont les suivants :\n",
    "\n",
    "<p style=\"text-align: center\"><img width=\"700px\" src=\"MiscImages/VUV-ConjugatedSystems/Figure-beta-carotene.png\" style=\"margin-left:auto; margin-right:auto\" id=\"img_VisPolyenes\"></img><br> <b>Figure 13</b></p>\n",
    "\n",
    "Utilisez le modèle théorique approprié pour prédire la longueur d'onde d'absorption théorique du β-carotène. "
   ]
  },
  {
   "cell_type": "code",
   "execution_count": null,
   "id": "1ae0d3a7-f2a3-450f-919d-df03136bbfcb",
   "metadata": {},
   "outputs": [],
   "source": [
    "# insérer votre code ici\n",
    "# C'est un polyène conjugué. On va se servir du modèle fitté pour les polyènes, càd des paramètres ShiftHOP & boptP,\n",
    "# même si boptP est peut-être inadapté ici, puiqu'il a été optimisé pour des méthyl terminaux et des ployènes relativement courts\n"
   ]
  },
  {
   "cell_type": "markdown",
   "id": "0c8afc87-1b01-4015-8bee-fbf5a80329cd",
   "metadata": {},
   "source": [
    "Vous avez en principe trouvé 488 nm, une longueur d'onde légèrement surestimée par rapport à l'expérience (450nm). C'est probablement la dimension de la boîte qui est surestimée, car en pratique un polyène d'une telle longueur a tendance a légèrement \"onduler\" :\n",
    "\n",
    "<p style=\"text-align: center\"><img width=\"700px\" src=\"MiscImages/VUV-ConjugatedSystems/beta-carotene3D.png\" style=\"margin-left:auto; margin-right:auto\" id=\"img_betacarotene3D\"></img><br> <b>Figure 14</b></p>\n",
    "\n",
    "Faire la même estimation en réduisant légèrement la largeur de la boîte de 200 pm. Vous devriez constater que ça va dans le bon sens."
   ]
  },
  {
   "cell_type": "code",
   "execution_count": null,
   "id": "5288d54b-ece6-4020-aa35-92698e392186",
   "metadata": {},
   "outputs": [],
   "source": [
    "# insérer votre code ici\n"
   ]
  },
  {
   "cell_type": "markdown",
   "id": "4df02d9e-ac73-43bf-840c-2701ad94b7a1",
   "metadata": {},
   "source": [
    "## Bilan\n",
    "\n",
    "<div class=\"warn\">\n",
    "    \n",
    "Il est assez inespéré que l'ajustement théorie-expérience soit aussi bon, compte tenu de la simplicité du modèle théorique sous-jacent, le puits de potentiel infiniment profond (\"particle in a box\") .\n",
    "    \n",
    "L'intérêt des deux modèles dérivés du puits de potentiel est qu'on a mis en avant et exploité :\n",
    "    \n",
    "- le fait que la délocalisation est plus forte dans les cyanines que dans polyènes conjugués\n",
    "- que la conséquence d'une délocalisation moins forte dans les polyènes conjugués entraîne une stabilisation de l'énergie de la HO, qui est un paramètre constant indépendant de $k$, le nombre d'unités monomères\n",
    "    \n",
    "</div>"
   ]
  },
  {
   "cell_type": "markdown",
   "id": "c9ef329a-1b2a-4ed5-ad3a-3820e56eee8c",
   "metadata": {},
   "source": [
    "## Références bibliographiques\n",
    "\n",
    "[1] J. Autschbach, \"[Why the Particle-in-a-Box Model Works Well for Cyanine Dyes but Not for Conjugated Polyenes](https://dx.doi.org/10.1021/ed084p1840)\" (**2007**), *J. Chem. Educ.* **84**: 1840-1845\n",
    "\n",
    "[2] P. Nayler et M. C. Whitting, \"[Researches on Polyenes. Part III. The Synthesis and Light Absorption of Dimethylpolyenes](https://dx.doi.org/10.1039/JR9550003037)\" (**1955**), *J. Chem. Soc.* 3037-3047\n",
    "\n",
    "[3] M. Klessinger, \"[Konstitution und Lichtabsorption organischer Farbstoffe](https://dx.doi.org/10.1002/ciuz.19780120102)\" (**1978**), *Chem. Unserer Zeit* **12**: 1-11\n",
    "\n",
    "[4] M. Klessinger et J. Michl, Excited States and Photo-Chemistry of Organic Molecules, Revised and Improved English-Language Edition (**1996**), Wiley-VCH. \n"
   ]
  },
  {
   "cell_type": "code",
   "execution_count": 3,
   "id": "0df0ea50-7844-46cb-b7fd-a560031f73f9",
   "metadata": {},
   "outputs": [
    {
     "data": {
      "text/markdown": [
       "**End at:** Sunday 01 January 2023, 15:24:00  \n",
       "**Duration:** 00:01:49 953ms"
      ],
      "text/plain": [
       "<IPython.core.display.Markdown object>"
      ]
     },
     "metadata": {},
     "output_type": "display_data"
    },
    {
     "data": {
      "text/markdown": [
       "<p style=\"text-align: center\"><img width=\"800px\" src=\"../config/svg/logoEnd.svg\" style=\"margin-left:auto; margin-right:auto\"/></p>"
      ],
      "text/plain": [
       "<IPython.core.display.Markdown object>"
      ]
     },
     "metadata": {},
     "output_type": "display_data"
    }
   ],
   "source": [
    "vID.end(cwd0)"
   ]
  },
  {
   "cell_type": "code",
   "execution_count": null,
   "id": "92a045f6-9ee5-44ed-bd72-d17de3ee2bb9",
   "metadata": {},
   "outputs": [],
   "source": []
  }
 ],
 "metadata": {
  "kernelspec": {
   "display_name": "Python 3 (ipykernel)",
   "language": "python",
   "name": "python3"
  },
  "language_info": {
   "codemirror_mode": {
    "name": "ipython",
    "version": 3
   },
   "file_extension": ".py",
   "mimetype": "text/x-python",
   "name": "python",
   "nbconvert_exporter": "python",
   "pygments_lexer": "ipython3",
   "version": "3.9.12"
  },
  "toc-autonumbering": true
 },
 "nbformat": 4,
 "nbformat_minor": 5
}
