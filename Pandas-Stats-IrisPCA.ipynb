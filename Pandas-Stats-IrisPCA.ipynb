{
 "cells": [
  {
   "cell_type": "code",
   "execution_count": 1,
   "id": "8de690ce-49d6-4387-b242-fe36280ca9dd",
   "metadata": {},
   "outputs": [
    {
     "data": {
      "text/html": [
       "<style>\n",
       "h1, h2, h3, h4, h5, h6 {\n",
       "  font-family: Verdana, \"DejaVu Sans\", \"Bitstream Vera Sans\", Geneva, sans-serif;\n",
       "  font-weight: bold;\n",
       "}\n",
       "body {\n",
       "  font-family: Verdana, \"DejaVu Sans\", \"Bitstream Vera Sans\", Geneva, sans-serif;\n",
       "  font-weight: 200;\n",
       "}\n",
       "h1 {\n",
       "  border: 0 solid #333;\n",
       "  padding: 30px ;\n",
       "  color: white;\n",
       "  background: #b11d01;\n",
       "  text-align: center;\n",
       "}\n",
       "h2 {\n",
       "  border: 3px solid #333;\n",
       "  padding: 18px ;\n",
       "  color: #b11d01;\n",
       "  background: #ffffff;\n",
       "  text-align: center;\n",
       "}\n",
       "h3 {\n",
       "  border: 0 solid #333;\n",
       "  padding: 12px ;\n",
       "  color: #000000;\n",
       "  background: #c1c1c1;\n",
       "  text-align: left;\n",
       "}\n",
       "h4 {\n",
       "  border: 0 solid #333;\n",
       "  padding: 2px ;\n",
       "  color: #000000;\n",
       "  background: #d9fffc;\n",
       "  text-align: left;\n",
       "}\n",
       "h5 {\n",
       "  border: 1px solid #333;\n",
       "  padding: 2px ;\n",
       "  color: #000000;\n",
       "  background: #ffffff;\n",
       "  text-align: left;\n",
       "}\n",
       ".warn {    \n",
       "    background-color: #fcf2f2;\n",
       "    border-color: #dFb5b4;\n",
       "    border-left: 5px solid #dfb5b4;\n",
       "    padding: 0.5em;\n",
       "    font-weight: 200;\n",
       "    }\n",
       ".rq {    \n",
       "    background-color: #e2e2e2;\n",
       "    border-color: #969696;\n",
       "    border-left: 5px solid #969696;\n",
       "    padding: 0.5em;\n",
       "    font-weight: 200;\n",
       "    }\n",
       "</style>\n"
      ],
      "text/plain": [
       "<IPython.core.display.HTML object>"
      ]
     },
     "metadata": {},
     "output_type": "display_data"
    },
    {
     "data": {
      "text/markdown": [
       "**Start at:** Thursday 30 June 2022, 12:35:16  \n",
       "**Hostname:** localhost.localdomain (Linux)"
      ],
      "text/plain": [
       "<IPython.core.display.Markdown object>"
      ]
     },
     "metadata": {},
     "output_type": "display_data"
    },
    {
     "data": {
      "text/markdown": [
       "<p style=\"text-align: center\"><img width=\"800px\" src=\"./svg/logoPytChem.svg\" style=\"margin-left:auto; margin-right:auto\"/></p>"
      ],
      "text/plain": [
       "<IPython.core.display.Markdown object>"
      ]
     },
     "metadata": {},
     "output_type": "display_data"
    }
   ],
   "source": [
    "# ACP Topic (aka Iris 4)\n",
    "import visualID_Eng as vID\n",
    "from visualID import color\n",
    "vID.init()"
   ]
  },
  {
   "cell_type": "markdown",
   "id": "c5b71cea",
   "metadata": {
    "tags": []
   },
   "source": [
    "# Statistical treatment of data<br>(data science for beginners)\n",
    "## 4. Principal Component Analysis (PCA)\n",
    "\n",
    "<div class=\"rq\">\n",
    "\n",
    "Principal component analysis (PCA) is a statistical procedure that uses an orthogonal transformation to **convert** a set of observations of **possibly correlated variables** into a set of values of **linearly uncorrelated variables** called **principal components** (PC). \n",
    "    \n",
    "It helps you interpret your data and simplifies the complexity in high-dimensional data while retaining trends and patterns. It does this by transforming the data into fewer dimensions, which act as summaries of features. It can be seen as a compression algorithm.\n",
    "    \n",
    "This transformation is defined in such a way that the first principal component has the largest possible variance, and each succeeding component in turn has the highest variance possible under the constraint that it is orthogonal to the preceding components. The resulting vectors (each being a linear combination of the variables and containing *n* observations) are an uncorrelated orthogonal basis set.\n",
    "\n",
    "PCA is sensitive to the relative scaling of the original variables\n",
    "    \n",
    "(*From Wikipedia*)\n",
    "</div>"
   ]
  },
  {
   "cell_type": "markdown",
   "id": "db070fc1-3d3b-4eb4-aa9a-b75fc78f459b",
   "metadata": {},
   "source": [
    "### 4.1. PCA in a nutshell"
   ]
  },
  {
   "cell_type": "markdown",
   "id": "03612123-5860-4e4f-b9ba-03355f2ceb14",
   "metadata": {},
   "source": [
    "#### 4.1.a. Library import"
   ]
  },
  {
   "cell_type": "code",
   "execution_count": 2,
   "id": "301536da-87a2-4a9f-aea6-7e0cdb84f7d9",
   "metadata": {},
   "outputs": [],
   "source": [
    "%matplotlib inline\n",
    "import pandas as pd\n",
    "import matplotlib as mp\n",
    "import matplotlib.pyplot as plt\n",
    "import numpy as np\n",
    "from sklearn.decomposition import PCA"
   ]
  },
  {
   "cell_type": "code",
   "execution_count": 3,
   "id": "a25b58b8-1ccf-4b37-9848-c6d3c617c7fb",
   "metadata": {},
   "outputs": [
    {
     "name": "stdout",
     "output_type": "stream",
     "text": [
      "Dfi. Structure (shape) :(150, 5)\n"
     ]
    },
    {
     "data": {
      "text/html": [
       "<div>\n",
       "<style scoped>\n",
       "    .dataframe tbody tr th:only-of-type {\n",
       "        vertical-align: middle;\n",
       "    }\n",
       "\n",
       "    .dataframe tbody tr th {\n",
       "        vertical-align: top;\n",
       "    }\n",
       "\n",
       "    .dataframe thead th {\n",
       "        text-align: right;\n",
       "    }\n",
       "</style>\n",
       "<table border=\"1\" class=\"dataframe\">\n",
       "  <thead>\n",
       "    <tr style=\"text-align: right;\">\n",
       "      <th></th>\n",
       "      <th>sepal_length</th>\n",
       "      <th>sepal_width</th>\n",
       "      <th>petal_length</th>\n",
       "      <th>petal_width</th>\n",
       "      <th>species</th>\n",
       "    </tr>\n",
       "  </thead>\n",
       "  <tbody>\n",
       "    <tr>\n",
       "      <th>0</th>\n",
       "      <td>5.1</td>\n",
       "      <td>3.5</td>\n",
       "      <td>1.4</td>\n",
       "      <td>0.2</td>\n",
       "      <td>setosa</td>\n",
       "    </tr>\n",
       "    <tr>\n",
       "      <th>1</th>\n",
       "      <td>4.9</td>\n",
       "      <td>3.0</td>\n",
       "      <td>1.4</td>\n",
       "      <td>0.2</td>\n",
       "      <td>setosa</td>\n",
       "    </tr>\n",
       "    <tr>\n",
       "      <th>2</th>\n",
       "      <td>4.7</td>\n",
       "      <td>3.2</td>\n",
       "      <td>1.3</td>\n",
       "      <td>0.2</td>\n",
       "      <td>setosa</td>\n",
       "    </tr>\n",
       "    <tr>\n",
       "      <th>3</th>\n",
       "      <td>4.6</td>\n",
       "      <td>3.1</td>\n",
       "      <td>1.5</td>\n",
       "      <td>0.2</td>\n",
       "      <td>setosa</td>\n",
       "    </tr>\n",
       "    <tr>\n",
       "      <th>4</th>\n",
       "      <td>5.0</td>\n",
       "      <td>3.6</td>\n",
       "      <td>1.4</td>\n",
       "      <td>0.2</td>\n",
       "      <td>setosa</td>\n",
       "    </tr>\n",
       "    <tr>\n",
       "      <th>...</th>\n",
       "      <td>...</td>\n",
       "      <td>...</td>\n",
       "      <td>...</td>\n",
       "      <td>...</td>\n",
       "      <td>...</td>\n",
       "    </tr>\n",
       "    <tr>\n",
       "      <th>145</th>\n",
       "      <td>6.7</td>\n",
       "      <td>3.0</td>\n",
       "      <td>5.2</td>\n",
       "      <td>2.3</td>\n",
       "      <td>virginica</td>\n",
       "    </tr>\n",
       "    <tr>\n",
       "      <th>146</th>\n",
       "      <td>6.3</td>\n",
       "      <td>2.5</td>\n",
       "      <td>5.0</td>\n",
       "      <td>1.9</td>\n",
       "      <td>virginica</td>\n",
       "    </tr>\n",
       "    <tr>\n",
       "      <th>147</th>\n",
       "      <td>6.5</td>\n",
       "      <td>3.0</td>\n",
       "      <td>5.2</td>\n",
       "      <td>2.0</td>\n",
       "      <td>virginica</td>\n",
       "    </tr>\n",
       "    <tr>\n",
       "      <th>148</th>\n",
       "      <td>6.2</td>\n",
       "      <td>3.4</td>\n",
       "      <td>5.4</td>\n",
       "      <td>2.3</td>\n",
       "      <td>virginica</td>\n",
       "    </tr>\n",
       "    <tr>\n",
       "      <th>149</th>\n",
       "      <td>5.9</td>\n",
       "      <td>3.0</td>\n",
       "      <td>5.1</td>\n",
       "      <td>1.8</td>\n",
       "      <td>virginica</td>\n",
       "    </tr>\n",
       "  </tbody>\n",
       "</table>\n",
       "<p>150 rows × 5 columns</p>\n",
       "</div>"
      ],
      "text/plain": [
       "     sepal_length  sepal_width  petal_length  petal_width    species\n",
       "0             5.1          3.5           1.4          0.2     setosa\n",
       "1             4.9          3.0           1.4          0.2     setosa\n",
       "2             4.7          3.2           1.3          0.2     setosa\n",
       "3             4.6          3.1           1.5          0.2     setosa\n",
       "4             5.0          3.6           1.4          0.2     setosa\n",
       "..            ...          ...           ...          ...        ...\n",
       "145           6.7          3.0           5.2          2.3  virginica\n",
       "146           6.3          2.5           5.0          1.9  virginica\n",
       "147           6.5          3.0           5.2          2.0  virginica\n",
       "148           6.2          3.4           5.4          2.3  virginica\n",
       "149           5.9          3.0           5.1          1.8  virginica\n",
       "\n",
       "[150 rows x 5 columns]"
      ]
     },
     "metadata": {},
     "output_type": "display_data"
    }
   ],
   "source": [
    "dfi=pd.read_csv('./iris-data/iris.csv', sep=\";\") \n",
    "print(f\"Dfi. Structure (shape) :{dfi.shape}\")\n",
    "display(dfi)"
   ]
  },
  {
   "cell_type": "markdown",
   "id": "f9026f86-34fc-422b-8459-6a657cb47e06",
   "metadata": {},
   "source": [
    "The clusters are extremely easy to see, the data requires no preprocessing, and there are only 3 targets, corresponding to the clusters above:\n",
    "\n",
    "Iris setosa (Blue), Iris Versicolor (Orange), and Iris virginica (Green)\n",
    "\n",
    "Note that species 0 (blue dots) is clearly separated in all these plots, but species 1 (green dots) and species 2 (yellow dots) are harder to separate"
   ]
  },
  {
   "cell_type": "markdown",
   "id": "44ce611e-c6ef-427d-89d3-395b6fb28b70",
   "metadata": {},
   "source": [
    "Because the features in the Iris dataset are on totally different scales (e.g. the sepal lengths are much longer than the petal widths), we need to scale them so that the new principal components treat all features equally via singular value decomposition."
   ]
  },
  {
   "cell_type": "markdown",
   "id": "62f83c3d-06fc-4e3b-b702-a95587e976f6",
   "metadata": {},
   "source": [
    "#### 4.1.b. Standardization"
   ]
  },
  {
   "cell_type": "code",
   "execution_count": 4,
   "id": "33b2532c-0af6-4d36-b548-e11980f1045b",
   "metadata": {},
   "outputs": [
    {
     "data": {
      "text/html": [
       "<style type=\"text/css\">\n",
       "</style>\n",
       "<table id=\"T_64095\">\n",
       "  <caption>features after standardization</caption>\n",
       "  <thead>\n",
       "    <tr>\n",
       "      <th class=\"blank level0\" >&nbsp;</th>\n",
       "      <th id=\"T_64095_level0_col0\" class=\"col_heading level0 col0\" >sepal_length</th>\n",
       "      <th id=\"T_64095_level0_col1\" class=\"col_heading level0 col1\" >sepal_width</th>\n",
       "      <th id=\"T_64095_level0_col2\" class=\"col_heading level0 col2\" >petal_length</th>\n",
       "      <th id=\"T_64095_level0_col3\" class=\"col_heading level0 col3\" >petal_width</th>\n",
       "    </tr>\n",
       "  </thead>\n",
       "  <tbody>\n",
       "    <tr>\n",
       "      <th id=\"T_64095_level0_row0\" class=\"row_heading level0 row0\" >count</th>\n",
       "      <td id=\"T_64095_row0_col0\" class=\"data row0 col0\" >150.00</td>\n",
       "      <td id=\"T_64095_row0_col1\" class=\"data row0 col1\" >150.00</td>\n",
       "      <td id=\"T_64095_row0_col2\" class=\"data row0 col2\" >150.00</td>\n",
       "      <td id=\"T_64095_row0_col3\" class=\"data row0 col3\" >150.00</td>\n",
       "    </tr>\n",
       "    <tr>\n",
       "      <th id=\"T_64095_level0_row1\" class=\"row_heading level0 row1\" >mean</th>\n",
       "      <td id=\"T_64095_row1_col0\" class=\"data row1 col0\" >-0.00</td>\n",
       "      <td id=\"T_64095_row1_col1\" class=\"data row1 col1\" >-0.00</td>\n",
       "      <td id=\"T_64095_row1_col2\" class=\"data row1 col2\" >0.00</td>\n",
       "      <td id=\"T_64095_row1_col3\" class=\"data row1 col3\" >0.00</td>\n",
       "    </tr>\n",
       "    <tr>\n",
       "      <th id=\"T_64095_level0_row2\" class=\"row_heading level0 row2\" >std</th>\n",
       "      <td id=\"T_64095_row2_col0\" class=\"data row2 col0\" >1.00</td>\n",
       "      <td id=\"T_64095_row2_col1\" class=\"data row2 col1\" >1.00</td>\n",
       "      <td id=\"T_64095_row2_col2\" class=\"data row2 col2\" >1.00</td>\n",
       "      <td id=\"T_64095_row2_col3\" class=\"data row2 col3\" >1.00</td>\n",
       "    </tr>\n",
       "    <tr>\n",
       "      <th id=\"T_64095_level0_row3\" class=\"row_heading level0 row3\" >min</th>\n",
       "      <td id=\"T_64095_row3_col0\" class=\"data row3 col0\" >-1.87</td>\n",
       "      <td id=\"T_64095_row3_col1\" class=\"data row3 col1\" >-2.44</td>\n",
       "      <td id=\"T_64095_row3_col2\" class=\"data row3 col2\" >-1.57</td>\n",
       "      <td id=\"T_64095_row3_col3\" class=\"data row3 col3\" >-1.44</td>\n",
       "    </tr>\n",
       "    <tr>\n",
       "      <th id=\"T_64095_level0_row4\" class=\"row_heading level0 row4\" >25%</th>\n",
       "      <td id=\"T_64095_row4_col0\" class=\"data row4 col0\" >-0.90</td>\n",
       "      <td id=\"T_64095_row4_col1\" class=\"data row4 col1\" >-0.59</td>\n",
       "      <td id=\"T_64095_row4_col2\" class=\"data row4 col2\" >-1.23</td>\n",
       "      <td id=\"T_64095_row4_col3\" class=\"data row4 col3\" >-1.18</td>\n",
       "    </tr>\n",
       "    <tr>\n",
       "      <th id=\"T_64095_level0_row5\" class=\"row_heading level0 row5\" >50%</th>\n",
       "      <td id=\"T_64095_row5_col0\" class=\"data row5 col0\" >-0.05</td>\n",
       "      <td id=\"T_64095_row5_col1\" class=\"data row5 col1\" >-0.12</td>\n",
       "      <td id=\"T_64095_row5_col2\" class=\"data row5 col2\" >0.34</td>\n",
       "      <td id=\"T_64095_row5_col3\" class=\"data row5 col3\" >0.13</td>\n",
       "    </tr>\n",
       "    <tr>\n",
       "      <th id=\"T_64095_level0_row6\" class=\"row_heading level0 row6\" >75%</th>\n",
       "      <td id=\"T_64095_row6_col0\" class=\"data row6 col0\" >0.67</td>\n",
       "      <td id=\"T_64095_row6_col1\" class=\"data row6 col1\" >0.57</td>\n",
       "      <td id=\"T_64095_row6_col2\" class=\"data row6 col2\" >0.76</td>\n",
       "      <td id=\"T_64095_row6_col3\" class=\"data row6 col3\" >0.79</td>\n",
       "    </tr>\n",
       "    <tr>\n",
       "      <th id=\"T_64095_level0_row7\" class=\"row_heading level0 row7\" >max</th>\n",
       "      <td id=\"T_64095_row7_col0\" class=\"data row7 col0\" >2.49</td>\n",
       "      <td id=\"T_64095_row7_col1\" class=\"data row7 col1\" >3.11</td>\n",
       "      <td id=\"T_64095_row7_col2\" class=\"data row7 col2\" >1.79</td>\n",
       "      <td id=\"T_64095_row7_col3\" class=\"data row7 col3\" >1.71</td>\n",
       "    </tr>\n",
       "  </tbody>\n",
       "</table>\n"
      ],
      "text/plain": [
       "<pandas.io.formats.style.Styler at 0x7f14cd200370>"
      ]
     },
     "metadata": {},
     "output_type": "display_data"
    }
   ],
   "source": [
    "from sklearn import preprocessing\n",
    "scaler = preprocessing.StandardScaler()\n",
    "\n",
    "features=dfi[['sepal_length','sepal_width','petal_length','petal_width']]\n",
    "y=dfi[['species']]\n",
    "scaler.fit(features.values)\n",
    "featuresS = scaler.transform(features.values) #returns a numpy array\n",
    "#conversion into a dataframe just for display and plotting purpose\n",
    "featuresSDF = pd.DataFrame(featuresS, columns=features.columns, index=features.index)\n",
    "\n",
    "display(featuresSDF.describe().style.format(\"{0:.2f}\").set_caption(\"features after standardization\"))"
   ]
  },
  {
   "cell_type": "markdown",
   "id": "b6163ec3-a1f6-4b3e-b910-5cde46ccf68e",
   "metadata": {},
   "source": [
    "The explained variance ratio tells us how much information (variance) can be attributed to each of the principal components"
   ]
  },
  {
   "cell_type": "markdown",
   "id": "65055e1d-bc70-4f87-9c14-2e98c718a16e",
   "metadata": {},
   "source": [
    "#### 4.1.c. PCA\n",
    "##### PCA fit"
   ]
  },
  {
   "cell_type": "code",
   "execution_count": 5,
   "id": "fe8f4b8b-0da3-4fab-94b7-2a5a7b9491c8",
   "metadata": {},
   "outputs": [],
   "source": [
    "pca = PCA(0.98)\n",
    "featuresSPCA = pca.fit_transform(featuresS)"
   ]
  },
  {
   "cell_type": "markdown",
   "id": "55451adb-2092-4d85-9ae8-ea9c5e0bc822",
   "metadata": {},
   "source": [
    "##### Explained variance ratio"
   ]
  },
  {
   "cell_type": "code",
   "execution_count": 6,
   "id": "a1ed8284-0cd0-4bc5-99f2-99e4ba6b4af7",
   "metadata": {},
   "outputs": [
    {
     "name": "stdout",
     "output_type": "stream",
     "text": [
      "explained variance ratio: [0.72770452 0.23030523 0.03683832]\n"
     ]
    },
    {
     "data": {
      "image/png": "[encoded data removed]",
      "text/plain": [
       "<Figure size 576x576 with 1 Axes>"
      ]
     },
     "metadata": {
      "needs_background": "light"
     },
     "output_type": "display_data"
    }
   ],
   "source": [
    "plt.rcParams[\"figure.figsize\"] = (8,8)\n",
    "plt.rcParams[\"font.size\"] = (16)\n",
    "print(f\"explained variance ratio: {pca.explained_variance_ratio_}\")\n",
    "\n",
    "plt.bar(range(1,len(pca.explained_variance_ratio_)+1),pca.explained_variance_ratio_*100, label=\"Explained Variance Ratio\")\n",
    "plt.plot(range(1,len(pca.explained_variance_ratio_)+1),np.cumsum(pca.explained_variance_ratio_*100), marker='s', c='red', label=\"Cumulative EVR\")\n",
    "plt.xlabel('Principal Component', size='16')\n",
    "plt.xticks(range(1,len(pca.explained_variance_ratio_)+1))\n",
    "plt.ylabel('Explained Variance / %', size='16')\n",
    "plt.ylim(0,110)\n",
    "plt.legend()\n",
    "for i, v in enumerate(np.cumsum(pca.explained_variance_ratio_*100)):\n",
    "    plt.text(i+1, v+2, f\"{v:.2f}\", ha=\"center\")\n",
    "plt.show()"
   ]
  },
  {
   "cell_type": "markdown",
   "id": "d01ad54f-17c6-454d-8af2-0b73d5c3ca3e",
   "metadata": {},
   "source": [
    "<div class=\"warn\">\n",
    "    \n",
    "The first two components capture 95.8% of the information, whereas the first three ones capture 99.5% of it.\n",
    "    \n",
    "The 3rd variance is obviously not very significant. And for sure the 4th component (PC4, not shown here) won't be helpful to separate the three species into three classes.\n",
    "</div>"
   ]
  },
  {
   "cell_type": "markdown",
   "id": "92c5bf29-8958-457d-b279-bacca352f324",
   "metadata": {},
   "source": [
    "##### Transformation of the four widths and lengths features into the 3 PCA components"
   ]
  },
  {
   "cell_type": "code",
   "execution_count": 1,
   "id": "7c06526b-a6b8-4087-8714-720fb470e636",
   "metadata": {},
   "outputs": [
    {
     "ename": "NameError",
     "evalue": "name 'featuresS' is not defined",
     "output_type": "error",
     "traceback": [
      "\u001b[0;31m---------------------------------------------------------------------------\u001b[0m",
      "\u001b[0;31mNameError\u001b[0m                                 Traceback (most recent call last)",
      "Input \u001b[0;32mIn [1]\u001b[0m, in \u001b[0;36m<cell line: 1>\u001b[0;34m()\u001b[0m\n\u001b[0;32m----> 1\u001b[0m \u001b[38;5;28mprint\u001b[39m(\u001b[38;5;124m'\u001b[39m\u001b[38;5;124mShape before PCA: \u001b[39m\u001b[38;5;124m'\u001b[39m, \u001b[43mfeaturesS\u001b[49m\u001b[38;5;241m.\u001b[39mshape)\n\u001b[1;32m      2\u001b[0m \u001b[38;5;28mprint\u001b[39m(\u001b[38;5;124m'\u001b[39m\u001b[38;5;124mShape after PCA: \u001b[39m\u001b[38;5;124m'\u001b[39m, featuresSPCA\u001b[38;5;241m.\u001b[39mshape)\n\u001b[1;32m      4\u001b[0m PC\u001b[38;5;241m=\u001b[39m[]\n",
      "\u001b[0;31mNameError\u001b[0m: name 'featuresS' is not defined"
     ]
    }
   ],
   "source": [
    "print('Shape before PCA: ', featuresS.shape)\n",
    "print('Shape after PCA: ', featuresSPCA.shape)\n",
    "\n",
    "PC=[]\n",
    "PC = [f\"PC{i}\" for i in range(1, pca.n_components_+1)]\n",
    " \n",
    "pca_df = pd.DataFrame(data=featuresSPCA,columns=PC, index=dfi.index)\n",
    "pca_df = pd.concat([pca_df,y],axis=1)\n",
    "display(pca_df)\n",
    "display(pca_df.describe().style.format(\"{0:.2f}\").set_caption(\"Principal Components\"))"
   ]
  },
  {
   "cell_type": "markdown",
   "id": "ee2c8c1e-3747-4417-a80c-2366b1c9fb30",
   "metadata": {},
   "source": [
    "<div class=\"warn\">\n",
    "The original features have been transformed thanks to this matrix transformation: \n",
    "<div>"
   ]
  },
  {
   "cell_type": "code",
   "execution_count": 8,
   "id": "928e1bda-a306-41a7-8ad9-c8d0c2f15298",
   "metadata": {},
   "outputs": [
    {
     "name": "stdout",
     "output_type": "stream",
     "text": [
      "[[ 0.52237162 -0.26335492  0.58125401  0.56561105]\n",
      " [ 0.37231836  0.92555649  0.02109478  0.06541577]\n",
      " [-0.72101681  0.24203288  0.14089226  0.6338014 ]]\n"
     ]
    }
   ],
   "source": [
    "print(pca.components_)"
   ]
  },
  {
   "cell_type": "code",
   "execution_count": 10,
   "id": "814361c6-fca9-4e31-836b-796aac481715",
   "metadata": {},
   "outputs": [
    {
     "data": {
      "application/vnd.plotly.v1+json": {
       "config": {
        "plotlyServerURL": "https://plot.ly"
       },
       "data": [
        {
         "hovertemplate": "species=setosa<br>PC1=%{x}<br>PC2=%{y}<br>PC3=%{z}<extra></extra>",
         "legendgroup": "setosa",
         "marker": {
          "color": "#636efa",
          "size": 3,
          "symbol": "circle"
         },
         "mode": "markers",
         "name": "setosa",
         "scene": "scene",
         "showlegend": true,
         "type": "scatter3d",
         "x": [
          -2.2645417283949034,
          -2.086425500616158,
          -2.3679504490625254,
          -2.3041971611520085,
          -2.3887774935056414,
          -2.070536807180553,
          -2.445711339630283,
          -2.233841858709265,
          -2.34195767645539,
          -2.1886757552808693,
          -2.1634865562665224,
          -2.3273777541343734,
          -2.2240827220450017,
          -2.6397162608446285,
          -2.1922915084984287,
          -2.2514652145840643,
          -2.202750480080085,
          -2.1901791637910515,
          -1.8940742930236676,
          -2.3399490704234074,
          -1.9145563949595166,
          -2.2046453975338136,
          -2.7741697937051564,
          -1.8204115633372133,
          -2.2282174994597246,
          -1.9570240073413965,
          -2.052063311276686,
          -2.168193653345021,
          -2.140305963284157,
          -2.2687901943878765,
          -2.1445544292771346,
          -1.8319381022015864,
          -2.6082028676633464,
          -2.437950859095142,
          -2.1886757552808693,
          -2.2111198968124217,
          -2.0444165193198,
          -2.1886757552808693,
          -2.4359522029660194,
          -2.17054720188427,
          -2.2865272388409297,
          -1.8717072235369505,
          -2.557834419537513,
          -1.9642792903547366,
          -2.1333728329200277,
          -2.075357592837306,
          -2.3812582168023724,
          -2.398191687662638,
          -2.226781213091518,
          -2.2059541686484017
         ],
         "y": [
          0.5057039027737841,
          -0.6554047293691346,
          -0.3184773108472492,
          -0.5753677125331953,
          0.6747673967025152,
          1.518548559888513,
          0.07456267500687389,
          0.24761393175226507,
          -1.0951463625829554,
          -0.44862904833755896,
          1.0705955760377264,
          0.15858745465947602,
          -0.709118158030226,
          -0.938281982107854,
          1.8899785123164656,
          2.722371076574469,
          1.5137502825462188,
          0.5143043082206927,
          1.431110706941237,
          1.1580334289850007,
          0.4304651632801381,
          0.952457317288998,
          0.48951702650349477,
          0.10675079283540627,
          0.16218616266619693,
          -0.6078925674838078,
          0.26601431198165504,
          0.5520164953235399,
          0.3366404088450542,
          -0.31487860284052827,
          -0.48394209676925876,
          0.4452668355028073,
          1.8284751927341,
          2.1853916156308917,
          -0.44862904833755896,
          -0.18433781054027856,
          0.6849564262949368,
          -0.44862904833755896,
          -0.882169414775617,
          0.29272695496644646,
          0.46799171567093784,
          -2.3276916061149096,
          -0.45381638048979317,
          0.4973916400183832,
          1.1714321117742033,
          -0.6919173471364096,
          1.1506325928736663,
          -0.3623907647258571,
          1.0254825528235447,
          0.0322378452737796
         ],
         "z": [
          -0.12194334778175998,
          -0.22725083239924815,
          0.05147962364496686,
          0.09886044443740301,
          0.021427848973115612,
          0.03068425828072543,
          0.34219763621375454,
          -0.08257446445485098,
          0.15356239869462499,
          -0.24655952238860812,
          -0.26400937334710467,
          0.10016561562692805,
          -0.22321451399276113,
          0.18957003015127183,
          -0.46948009463594725,
          0.03260379665903335,
          -0.0013634915813940118,
          -0.03861559488011966,
          -0.37074283399203317,
          0.1374177189256545,
          -0.4160068747562896,
          0.1647383463805436,
          0.33883638434349445,
          0.04006147242624758,
          0.12420142802351761,
          -0.2985910287763137,
          0.09209297881395304,
          -0.2012954816243518,
          -0.2653145445366299,
          0.07551543604155617,
          -0.06785576071331634,
          -0.265375243884075,
          0.05141951815449983,
          -0.07934975488701793,
          -0.24655952238860812,
          -0.2186245277449367,
          -0.47941157047978483,
          -0.24655952238860812,
          0.20155758667584342,
          -0.16993853576297513,
          0.04073653896247463,
          -0.19452860985788084,
          0.3135718375693399,
          0.31475561006397534,
          0.252793221689411,
          -0.05655900818948713,
          0.062101903489547215,
          0.1468556324186213,
          -0.17664530203897957,
          -0.14659352736712902
         ]
        },
        {
         "hovertemplate": "species=versicolor<br>PC1=%{x}<br>PC2=%{y}<br>PC3=%{z}<extra></extra>",
         "legendgroup": "versicolor",
         "marker": {
          "color": "#EF553B",
          "size": 3,
          "symbol": "diamond"
         },
         "mode": "markers",
         "name": "versicolor",
         "scene": "scene",
         "showlegend": true,
         "type": "scatter3d",
         "x": [
          1.1039936528045722,
          0.7324814400086807,
          1.2421095053189377,
          0.3973072828233272,
          1.072593948201545,
          0.3844581461690013,
          0.7487150759515526,
          -0.4978633877981182,
          0.9262223675330984,
          0.004968025584318978,
          -0.12469746138037062,
          0.4387301177805465,
          0.5516339814225077,
          0.7171650662368513,
          -0.03725838296568845,
          0.8758905359406832,
          0.3480064019802084,
          0.15339254456866705,
          1.215303209216154,
          0.15694117564425067,
          0.7382561043698956,
          0.47236968234456844,
          1.2279882140834424,
          0.6293810453149018,
          0.7004727992084582,
          0.8735369874014337,
          1.25422219052245,
          1.3582398473872712,
          0.6621261375659374,
          -0.04728151331988002,
          0.12153420888011869,
          0.014118226051387753,
          0.23601083732659692,
          1.0566914280905764,
          0.22141708833021762,
          0.43178316074105333,
          1.0494133552191802,
          1.0358782103228246,
          0.06706759987298008,
          0.27542506625183405,
          0.2723350662617718,
          0.6231705397262214,
          0.3300053638372265,
          -0.3736276226873762,
          0.2829443429551026,
          0.08905311031901127,
          0.22435678320860597,
          0.5738834855584669,
          -0.4570128725046748,
          0.25224447326946914
         ],
         "y": [
          0.8631124458513245,
          0.5986355733419972,
          0.6148224496122869,
          -1.7581689474435256,
          -0.2117579026798954,
          -0.5910624686227365,
          0.7786986113887819,
          -1.8488687712754417,
          0.03033082678338136,
          -1.029401112403088,
          -2.6580626779617607,
          -0.05888128502145437,
          -1.7725815648562542,
          -0.18543431450504383,
          -0.4327950987141687,
          0.5099981510591476,
          -0.19062164665727788,
          -0.7907254562344853,
          -1.633355644515482,
          -1.3031032701729108,
          0.4024703816185357,
          -0.4166082224438792,
          -0.940914792530272,
          -0.4168116425417719,
          -0.06349392765170202,
          0.25070861070205414,
          -0.0826200998131122,
          0.3288202662704021,
          -0.22434607094346407,
          -1.0572124126050202,
          -1.5635923798655775,
          -1.5733923546480593,
          -0.7759237840118163,
          -0.6369012837689368,
          -0.2808476930856404,
          0.8551369202180025,
          0.5221972645127767,
          -1.39246648438778,
          -0.21262073489338879,
          -1.3298159131577019,
          -1.1194415241194038,
          0.027542633302294464,
          -0.9889007318191547,
          -2.017932265204172,
          -0.85395071698655,
          -0.17490854779054174,
          -0.3804846594865455,
          -0.15371997408006488,
          -1.5394645102639806,
          -0.595860745965031
         ],
         "z": [
          -0.6855551077942373,
          -0.09406680197491321,
          -0.5548465341001644,
          -0.018569482353449428,
          -0.39744743760450035,
          0.1267976895916914,
          0.14865602261265656,
          0.2555552499784254,
          -0.5954598892691505,
          0.5428670487940238,
          -0.03981344818563184,
          0.20670349127562324,
          -0.7613802230457309,
          -0.06729984236136119,
          0.19806144915679597,
          -0.5035058317132016,
          0.49283151759658705,
          -0.29860451573021124,
          -0.4794099138261456,
          -0.16858674603688112,
          0.61677262566721,
          -0.26271828296845523,
          -0.3667048589319061,
          -0.28996247361138344,
          -0.44476755904949167,
          -0.472148885851825,
          -0.7268435294994512,
          -0.26145807366185964,
          0.0873681069173404,
          -0.31531919466201436,
          -0.145241737641035,
          -0.23658142800820198,
          -0.1479728848579969,
          0.10675323371866048,
          0.6675596602128353,
          0.4507314870527183,
          -0.3961422664149752,
          -0.6854343029563257,
          0.2941282619311934,
          0.09344476854004695,
          0.09817189094727745,
          -0.019304654380142876,
          -0.19596807283921527,
          0.11218405322355292,
          0.13411882305647888,
          0.13144837518696117,
          0.15876900264185015,
          -0.2700394164332425,
          0.1961261733139727,
          0.09474993972957203
         ]
        },
        {
         "hovertemplate": "species=virginica<br>PC1=%{x}<br>PC2=%{y}<br>PC3=%{z}<extra></extra>",
         "legendgroup": "virginica",
         "marker": {
          "color": "#00cc96",
          "size": 3,
          "symbol": "square"
         },
         "mode": "markers",
         "name": "virginica",
         "scene": "scene",
         "showlegend": true,
         "type": "scatter3d",
         "x": [
          1.8476725943096637,
          1.1531898082521288,
          2.206349497126593,
          1.4386854023261815,
          1.867890702555584,
          2.7541967088257526,
          0.35837447484166746,
          2.3030058981503188,
          2.0017352992189164,
          2.267554599102268,
          1.3659094292022136,
          1.5990645856518693,
          1.8842518537520743,
          1.253086514377591,
          1.4640615229856224,
          1.5918093026385283,
          1.4712801894655434,
          2.437378482193507,
          3.309141182676078,
          1.2539809866905776,
          2.0404962596630387,
          0.9739151144704733,
          2.8980644358432763,
          1.3291936913234932,
          1.7042407085196052,
          1.957727661793435,
          1.1719045079878683,
          1.0197810528162627,
          1.786008861248468,
          1.8647779127074662,
          2.4354973914151428,
          2.3160824119611534,
          1.8603714258523156,
          1.1112717256759688,
          1.1974691551180376,
          2.800949403734028,
          1.5801552485205363,
          1.3470444243548017,
          0.923432977766384,
          1.8535519840664405,
          2.0161572006777586,
          1.9031168585994869,
          1.1531898082521288,
          2.043308439287809,
          2.0016909669349974,
          1.870522071460125,
          1.558491890723717,
          1.5208450639985898,
          1.3763911906419273,
          0.9592985756160376
         ],
         "y": [
          0.8716966617734127,
          -0.7013261138565754,
          0.5544701049349228,
          -0.05001052226888553,
          0.29119280176116913,
          0.7884322063548452,
          -1.560094583977289,
          0.4095166952219437,
          -0.723865359312659,
          1.9214429914653548,
          0.6939480398041611,
          -0.42824883590033935,
          0.4143327579500842,
          -1.1673913352452454,
          -0.4441475694791236,
          0.6770353716018516,
          0.25319247196681555,
          2.5567573414948015,
          -0.0023613201020824923,
          -1.7175838442659768,
          0.9073987650150531,
          -0.5711743763662661,
          0.3977913591718686,
          -0.4867605419037237,
          1.014148424835785,
          1.0033345154297773,
          -0.3188966173105676,
          0.06554296309664809,
          -0.19327279985689128,
          0.55538153157899,
          0.24665446806897456,
          2.6261838690226273,
          -0.18467239440998312,
          -0.29598610243039014,
          -0.8171677419136159,
          0.8447481937849748,
          1.0724744961271222,
          0.42225596589554615,
          0.019230370546893197,
          0.672422728971604,
          0.6103970375551129,
          0.6860248318586996,
          -0.7013261138565754,
          0.8646848804720187,
          1.0485500466234177,
          0.3828218376229984,
          -0.9053136014070654,
          0.2667945748539109,
          1.0163619287948853,
          -0.022283944660567125
         ],
         "z": [
          1.002760985779278,
          0.5314646350398206,
          -0.20549591009804036,
          0.16339046381870664,
          0.39400433318681355,
          -0.5862327043799539,
          0.9909998953229909,
          -0.6541666870038293,
          -0.39407044826972454,
          0.39251765781193165,
          0.28327951601832685,
          0.023304082122132967,
          0.024548553964213574,
          0.5821302708905556,
          1.0041105249947537,
          0.6366507209624217,
          0.03665750918367596,
          -0.13420008174692682,
          -0.7069339592752082,
          -0.2646220838822472,
          0.23187811428391875,
          0.8295037810733951,
          -0.8609268420176824,
          -0.0047073493334984584,
          0.2959578765436418,
          -0.42281705175205014,
          0.13065190995584375,
          0.3380421696229951,
          0.2700025257687445,
          -0.7175106833798804,
          -0.7302340057881253,
          -0.4996195425630397,
          0.35333027867038164,
          -0.182659607660602,
          -0.16321378151183688,
          -0.5470009572124543,
          0.9433926084622694,
          0.18002870593854817,
          0.41739430346558937,
          -0.01482032936269286,
          0.42591494688952675,
          0.12779936404399145,
          0.5314646350398206,
          0.33526606052310326,
          0.6292688881501901,
          0.2545323186790221,
          -0.025381909859828047,
          0.1792772025903603,
          0.9314050519376967,
          0.5287941871703031
         ]
        }
       ],
       "layout": {
        "height": 600,
        "legend": {
         "title": {
          "text": "species"
         },
         "tracegroupgap": 0
        },
        "margin": {
         "t": 60
        },
        "scene": {
         "domain": {
          "x": [
           0,
           1
          ],
          "y": [
           0,
           1
          ]
         },
         "xaxis": {
          "title": {
           "text": "PC1"
          }
         },
         "yaxis": {
          "title": {
           "text": "PC2"
          }
         },
         "zaxis": {
          "title": {
           "text": "PC3"
          }
         }
        },
        "template": {
         "data": {
          "bar": [
           {
            "error_x": {
             "color": "#2a3f5f"
            },
            "error_y": {
             "color": "#2a3f5f"
            },
            "marker": {
             "line": {
              "color": "#E5ECF6",
              "width": 0.5
             },
             "pattern": {
              "fillmode": "overlay",
              "size": 10,
              "solidity": 0.2
             }
            },
            "type": "bar"
           }
          ],
          "barpolar": [
           {
            "marker": {
             "line": {
              "color": "#E5ECF6",
              "width": 0.5
             },
             "pattern": {
              "fillmode": "overlay",
              "size": 10,
              "solidity": 0.2
             }
            },
            "type": "barpolar"
           }
          ],
          "carpet": [
           {
            "aaxis": {
             "endlinecolor": "#2a3f5f",
             "gridcolor": "white",
             "linecolor": "white",
             "minorgridcolor": "white",
             "startlinecolor": "#2a3f5f"
            },
            "baxis": {
             "endlinecolor": "#2a3f5f",
             "gridcolor": "white",
             "linecolor": "white",
             "minorgridcolor": "white",
             "startlinecolor": "#2a3f5f"
            },
            "type": "carpet"
           }
          ],
          "choropleth": [
           {
            "colorbar": {
             "outlinewidth": 0,
             "ticks": ""
            },
            "type": "choropleth"
           }
          ],
          "contour": [
           {
            "colorbar": {
             "outlinewidth": 0,
             "ticks": ""
            },
            "colorscale": [
             [
              0,
              "#0d0887"
             ],
             [
              0.1111111111111111,
              "#46039f"
             ],
             [
              0.2222222222222222,
              "#7201a8"
             ],
             [
              0.3333333333333333,
              "#9c179e"
             ],
             [
              0.4444444444444444,
              "#bd3786"
             ],
             [
              0.5555555555555556,
              "#d8576b"
             ],
             [
              0.6666666666666666,
              "#ed7953"
             ],
             [
              0.7777777777777778,
              "#fb9f3a"
             ],
             [
              0.8888888888888888,
              "#fdca26"
             ],
             [
              1,
              "#f0f921"
             ]
            ],
            "type": "contour"
           }
          ],
          "contourcarpet": [
           {
            "colorbar": {
             "outlinewidth": 0,
             "ticks": ""
            },
            "type": "contourcarpet"
           }
          ],
          "heatmap": [
           {
            "colorbar": {
             "outlinewidth": 0,
             "ticks": ""
            },
            "colorscale": [
             [
              0,
              "#0d0887"
             ],
             [
              0.1111111111111111,
              "#46039f"
             ],
             [
              0.2222222222222222,
              "#7201a8"
             ],
             [
              0.3333333333333333,
              "#9c179e"
             ],
             [
              0.4444444444444444,
              "#bd3786"
             ],
             [
              0.5555555555555556,
              "#d8576b"
             ],
             [
              0.6666666666666666,
              "#ed7953"
             ],
             [
              0.7777777777777778,
              "#fb9f3a"
             ],
             [
              0.8888888888888888,
              "#fdca26"
             ],
             [
              1,
              "#f0f921"
             ]
            ],
            "type": "heatmap"
           }
          ],
          "heatmapgl": [
           {
            "colorbar": {
             "outlinewidth": 0,
             "ticks": ""
            },
            "colorscale": [
             [
              0,
              "#0d0887"
             ],
             [
              0.1111111111111111,
              "#46039f"
             ],
             [
              0.2222222222222222,
              "#7201a8"
             ],
             [
              0.3333333333333333,
              "#9c179e"
             ],
             [
              0.4444444444444444,
              "#bd3786"
             ],
             [
              0.5555555555555556,
              "#d8576b"
             ],
             [
              0.6666666666666666,
              "#ed7953"
             ],
             [
              0.7777777777777778,
              "#fb9f3a"
             ],
             [
              0.8888888888888888,
              "#fdca26"
             ],
             [
              1,
              "#f0f921"
             ]
            ],
            "type": "heatmapgl"
           }
          ],
          "histogram": [
           {
            "marker": {
             "pattern": {
              "fillmode": "overlay",
              "size": 10,
              "solidity": 0.2
             }
            },
            "type": "histogram"
           }
          ],
          "histogram2d": [
           {
            "colorbar": {
             "outlinewidth": 0,
             "ticks": ""
            },
            "colorscale": [
             [
              0,
              "#0d0887"
             ],
             [
              0.1111111111111111,
              "#46039f"
             ],
             [
              0.2222222222222222,
              "#7201a8"
             ],
             [
              0.3333333333333333,
              "#9c179e"
             ],
             [
              0.4444444444444444,
              "#bd3786"
             ],
             [
              0.5555555555555556,
              "#d8576b"
             ],
             [
              0.6666666666666666,
              "#ed7953"
             ],
             [
              0.7777777777777778,
              "#fb9f3a"
             ],
             [
              0.8888888888888888,
              "#fdca26"
             ],
             [
              1,
              "#f0f921"
             ]
            ],
            "type": "histogram2d"
           }
          ],
          "histogram2dcontour": [
           {
            "colorbar": {
             "outlinewidth": 0,
             "ticks": ""
            },
            "colorscale": [
             [
              0,
              "#0d0887"
             ],
             [
              0.1111111111111111,
              "#46039f"
             ],
             [
              0.2222222222222222,
              "#7201a8"
             ],
             [
              0.3333333333333333,
              "#9c179e"
             ],
             [
              0.4444444444444444,
              "#bd3786"
             ],
             [
              0.5555555555555556,
              "#d8576b"
             ],
             [
              0.6666666666666666,
              "#ed7953"
             ],
             [
              0.7777777777777778,
              "#fb9f3a"
             ],
             [
              0.8888888888888888,
              "#fdca26"
             ],
             [
              1,
              "#f0f921"
             ]
            ],
            "type": "histogram2dcontour"
           }
          ],
          "mesh3d": [
           {
            "colorbar": {
             "outlinewidth": 0,
             "ticks": ""
            },
            "type": "mesh3d"
           }
          ],
          "parcoords": [
           {
            "line": {
             "colorbar": {
              "outlinewidth": 0,
              "ticks": ""
             }
            },
            "type": "parcoords"
           }
          ],
          "pie": [
           {
            "automargin": true,
            "type": "pie"
           }
          ],
          "scatter": [
           {
            "fillpattern": {
             "fillmode": "overlay",
             "size": 10,
             "solidity": 0.2
            },
            "type": "scatter"
           }
          ],
          "scatter3d": [
           {
            "line": {
             "colorbar": {
              "outlinewidth": 0,
              "ticks": ""
             }
            },
            "marker": {
             "colorbar": {
              "outlinewidth": 0,
              "ticks": ""
             }
            },
            "type": "scatter3d"
           }
          ],
          "scattercarpet": [
           {
            "marker": {
             "colorbar": {
              "outlinewidth": 0,
              "ticks": ""
             }
            },
            "type": "scattercarpet"
           }
          ],
          "scattergeo": [
           {
            "marker": {
             "colorbar": {
              "outlinewidth": 0,
              "ticks": ""
             }
            },
            "type": "scattergeo"
           }
          ],
          "scattergl": [
           {
            "marker": {
             "colorbar": {
              "outlinewidth": 0,
              "ticks": ""
             }
            },
            "type": "scattergl"
           }
          ],
          "scattermapbox": [
           {
            "marker": {
             "colorbar": {
              "outlinewidth": 0,
              "ticks": ""
             }
            },
            "type": "scattermapbox"
           }
          ],
          "scatterpolar": [
           {
            "marker": {
             "colorbar": {
              "outlinewidth": 0,
              "ticks": ""
             }
            },
            "type": "scatterpolar"
           }
          ],
          "scatterpolargl": [
           {
            "marker": {
             "colorbar": {
              "outlinewidth": 0,
              "ticks": ""
             }
            },
            "type": "scatterpolargl"
           }
          ],
          "scatterternary": [
           {
            "marker": {
             "colorbar": {
              "outlinewidth": 0,
              "ticks": ""
             }
            },
            "type": "scatterternary"
           }
          ],
          "surface": [
           {
            "colorbar": {
             "outlinewidth": 0,
             "ticks": ""
            },
            "colorscale": [
             [
              0,
              "#0d0887"
             ],
             [
              0.1111111111111111,
              "#46039f"
             ],
             [
              0.2222222222222222,
              "#7201a8"
             ],
             [
              0.3333333333333333,
              "#9c179e"
             ],
             [
              0.4444444444444444,
              "#bd3786"
             ],
             [
              0.5555555555555556,
              "#d8576b"
             ],
             [
              0.6666666666666666,
              "#ed7953"
             ],
             [
              0.7777777777777778,
              "#fb9f3a"
             ],
             [
              0.8888888888888888,
              "#fdca26"
             ],
             [
              1,
              "#f0f921"
             ]
            ],
            "type": "surface"
           }
          ],
          "table": [
           {
            "cells": {
             "fill": {
              "color": "#EBF0F8"
             },
             "line": {
              "color": "white"
             }
            },
            "header": {
             "fill": {
              "color": "#C8D4E3"
             },
             "line": {
              "color": "white"
             }
            },
            "type": "table"
           }
          ]
         },
         "layout": {
          "annotationdefaults": {
           "arrowcolor": "#2a3f5f",
           "arrowhead": 0,
           "arrowwidth": 1
          },
          "autotypenumbers": "strict",
          "coloraxis": {
           "colorbar": {
            "outlinewidth": 0,
            "ticks": ""
           }
          },
          "colorscale": {
           "diverging": [
            [
             0,
             "#8e0152"
            ],
            [
             0.1,
             "#c51b7d"
            ],
            [
             0.2,
             "#de77ae"
            ],
            [
             0.3,
             "#f1b6da"
            ],
            [
             0.4,
             "#fde0ef"
            ],
            [
             0.5,
             "#f7f7f7"
            ],
            [
             0.6,
             "#e6f5d0"
            ],
            [
             0.7,
             "#b8e186"
            ],
            [
             0.8,
             "#7fbc41"
            ],
            [
             0.9,
             "#4d9221"
            ],
            [
             1,
             "#276419"
            ]
           ],
           "sequential": [
            [
             0,
             "#0d0887"
            ],
            [
             0.1111111111111111,
             "#46039f"
            ],
            [
             0.2222222222222222,
             "#7201a8"
            ],
            [
             0.3333333333333333,
             "#9c179e"
            ],
            [
             0.4444444444444444,
             "#bd3786"
            ],
            [
             0.5555555555555556,
             "#d8576b"
            ],
            [
             0.6666666666666666,
             "#ed7953"
            ],
            [
             0.7777777777777778,
             "#fb9f3a"
            ],
            [
             0.8888888888888888,
             "#fdca26"
            ],
            [
             1,
             "#f0f921"
            ]
           ],
           "sequentialminus": [
            [
             0,
             "#0d0887"
            ],
            [
             0.1111111111111111,
             "#46039f"
            ],
            [
             0.2222222222222222,
             "#7201a8"
            ],
            [
             0.3333333333333333,
             "#9c179e"
            ],
            [
             0.4444444444444444,
             "#bd3786"
            ],
            [
             0.5555555555555556,
             "#d8576b"
            ],
            [
             0.6666666666666666,
             "#ed7953"
            ],
            [
             0.7777777777777778,
             "#fb9f3a"
            ],
            [
             0.8888888888888888,
             "#fdca26"
            ],
            [
             1,
             "#f0f921"
            ]
           ]
          },
          "colorway": [
           "#636efa",
           "#EF553B",
           "#00cc96",
           "#ab63fa",
           "#FFA15A",
           "#19d3f3",
           "#FF6692",
           "#B6E880",
           "#FF97FF",
           "#FECB52"
          ],
          "font": {
           "color": "#2a3f5f"
          },
          "geo": {
           "bgcolor": "white",
           "lakecolor": "white",
           "landcolor": "#E5ECF6",
           "showlakes": true,
           "showland": true,
           "subunitcolor": "white"
          },
          "hoverlabel": {
           "align": "left"
          },
          "hovermode": "closest",
          "mapbox": {
           "style": "light"
          },
          "paper_bgcolor": "white",
          "plot_bgcolor": "#E5ECF6",
          "polar": {
           "angularaxis": {
            "gridcolor": "white",
            "linecolor": "white",
            "ticks": ""
           },
           "bgcolor": "#E5ECF6",
           "radialaxis": {
            "gridcolor": "white",
            "linecolor": "white",
            "ticks": ""
           }
          },
          "scene": {
           "xaxis": {
            "backgroundcolor": "#E5ECF6",
            "gridcolor": "white",
            "gridwidth": 2,
            "linecolor": "white",
            "showbackground": true,
            "ticks": "",
            "zerolinecolor": "white"
           },
           "yaxis": {
            "backgroundcolor": "#E5ECF6",
            "gridcolor": "white",
            "gridwidth": 2,
            "linecolor": "white",
            "showbackground": true,
            "ticks": "",
            "zerolinecolor": "white"
           },
           "zaxis": {
            "backgroundcolor": "#E5ECF6",
            "gridcolor": "white",
            "gridwidth": 2,
            "linecolor": "white",
            "showbackground": true,
            "ticks": "",
            "zerolinecolor": "white"
           }
          },
          "shapedefaults": {
           "line": {
            "color": "#2a3f5f"
           }
          },
          "ternary": {
           "aaxis": {
            "gridcolor": "white",
            "linecolor": "white",
            "ticks": ""
           },
           "baxis": {
            "gridcolor": "white",
            "linecolor": "white",
            "ticks": ""
           },
           "bgcolor": "#E5ECF6",
           "caxis": {
            "gridcolor": "white",
            "linecolor": "white",
            "ticks": ""
           }
          },
          "title": {
           "x": 0.05
          },
          "xaxis": {
           "automargin": true,
           "gridcolor": "white",
           "linecolor": "white",
           "ticks": "",
           "title": {
            "standoff": 15
           },
           "zerolinecolor": "white",
           "zerolinewidth": 2
          },
          "yaxis": {
           "automargin": true,
           "gridcolor": "white",
           "linecolor": "white",
           "ticks": "",
           "title": {
            "standoff": 15
           },
           "zerolinecolor": "white",
           "zerolinewidth": 2
          }
         }
        },
        "width": 800
       }
      },
      "text/html": [
       "<div>                            <div id=\"062c2d03-183d-4395-ac4e-dedd948dd8a6\" class=\"plotly-graph-div\" style=\"height:600px; width:800px;\"></div>            <script type=\"text/javascript\">                require([\"plotly\"], function(Plotly) {                    window.PLOTLYENV=window.PLOTLYENV || {};                                    if (document.getElementById(\"062c2d03-183d-4395-ac4e-dedd948dd8a6\")) {                    Plotly.newPlot(                        \"062c2d03-183d-4395-ac4e-dedd948dd8a6\",                        [{\"hovertemplate\":\"species=setosa<br>PC1=%{x}<br>PC2=%{y}<br>PC3=%{z}<extra></extra>\",\"legendgroup\":\"setosa\",\"marker\":{\"color\":\"#636efa\",\"symbol\":\"circle\",\"size\":3},\"mode\":\"markers\",\"name\":\"setosa\",\"scene\":\"scene\",\"showlegend\":true,\"x\":[-2.2645417283949034,-2.086425500616158,-2.3679504490625254,-2.3041971611520085,-2.3887774935056414,-2.070536807180553,-2.445711339630283,-2.233841858709265,-2.34195767645539,-2.1886757552808693,-2.1634865562665224,-2.3273777541343734,-2.2240827220450017,-2.6397162608446285,-2.1922915084984287,-2.2514652145840643,-2.202750480080085,-2.1901791637910515,-1.8940742930236676,-2.3399490704234074,-1.9145563949595166,-2.2046453975338136,-2.7741697937051564,-1.8204115633372133,-2.2282174994597246,-1.9570240073413965,-2.052063311276686,-2.168193653345021,-2.140305963284157,-2.2687901943878765,-2.1445544292771346,-1.8319381022015864,-2.6082028676633464,-2.437950859095142,-2.1886757552808693,-2.2111198968124217,-2.0444165193198,-2.1886757552808693,-2.4359522029660194,-2.17054720188427,-2.2865272388409297,-1.8717072235369505,-2.557834419537513,-1.9642792903547366,-2.1333728329200277,-2.075357592837306,-2.3812582168023724,-2.398191687662638,-2.226781213091518,-2.2059541686484017],\"y\":[0.5057039027737841,-0.6554047293691346,-0.3184773108472492,-0.5753677125331953,0.6747673967025152,1.518548559888513,0.07456267500687389,0.24761393175226507,-1.0951463625829554,-0.44862904833755896,1.0705955760377264,0.15858745465947602,-0.709118158030226,-0.938281982107854,1.8899785123164656,2.722371076574469,1.5137502825462188,0.5143043082206927,1.431110706941237,1.1580334289850007,0.4304651632801381,0.952457317288998,0.48951702650349477,0.10675079283540627,0.16218616266619693,-0.6078925674838078,0.26601431198165504,0.5520164953235399,0.3366404088450542,-0.31487860284052827,-0.48394209676925876,0.4452668355028073,1.8284751927341,2.1853916156308917,-0.44862904833755896,-0.18433781054027856,0.6849564262949368,-0.44862904833755896,-0.882169414775617,0.29272695496644646,0.46799171567093784,-2.3276916061149096,-0.45381638048979317,0.4973916400183832,1.1714321117742033,-0.6919173471364096,1.1506325928736663,-0.3623907647258571,1.0254825528235447,0.0322378452737796],\"z\":[-0.12194334778175998,-0.22725083239924815,0.05147962364496686,0.09886044443740301,0.021427848973115612,0.03068425828072543,0.34219763621375454,-0.08257446445485098,0.15356239869462499,-0.24655952238860812,-0.26400937334710467,0.10016561562692805,-0.22321451399276113,0.18957003015127183,-0.46948009463594725,0.03260379665903335,-0.0013634915813940118,-0.03861559488011966,-0.37074283399203317,0.1374177189256545,-0.4160068747562896,0.1647383463805436,0.33883638434349445,0.04006147242624758,0.12420142802351761,-0.2985910287763137,0.09209297881395304,-0.2012954816243518,-0.2653145445366299,0.07551543604155617,-0.06785576071331634,-0.265375243884075,0.05141951815449983,-0.07934975488701793,-0.24655952238860812,-0.2186245277449367,-0.47941157047978483,-0.24655952238860812,0.20155758667584342,-0.16993853576297513,0.04073653896247463,-0.19452860985788084,0.3135718375693399,0.31475561006397534,0.252793221689411,-0.05655900818948713,0.062101903489547215,0.1468556324186213,-0.17664530203897957,-0.14659352736712902],\"type\":\"scatter3d\"},{\"hovertemplate\":\"species=versicolor<br>PC1=%{x}<br>PC2=%{y}<br>PC3=%{z}<extra></extra>\",\"legendgroup\":\"versicolor\",\"marker\":{\"color\":\"#EF553B\",\"symbol\":\"diamond\",\"size\":3},\"mode\":\"markers\",\"name\":\"versicolor\",\"scene\":\"scene\",\"showlegend\":true,\"x\":[1.1039936528045722,0.7324814400086807,1.2421095053189377,0.3973072828233272,1.072593948201545,0.3844581461690013,0.7487150759515526,-0.4978633877981182,0.9262223675330984,0.004968025584318978,-0.12469746138037062,0.4387301177805465,0.5516339814225077,0.7171650662368513,-0.03725838296568845,0.8758905359406832,0.3480064019802084,0.15339254456866705,1.215303209216154,0.15694117564425067,0.7382561043698956,0.47236968234456844,1.2279882140834424,0.6293810453149018,0.7004727992084582,0.8735369874014337,1.25422219052245,1.3582398473872712,0.6621261375659374,-0.04728151331988002,0.12153420888011869,0.014118226051387753,0.23601083732659692,1.0566914280905764,0.22141708833021762,0.43178316074105333,1.0494133552191802,1.0358782103228246,0.06706759987298008,0.27542506625183405,0.2723350662617718,0.6231705397262214,0.3300053638372265,-0.3736276226873762,0.2829443429551026,0.08905311031901127,0.22435678320860597,0.5738834855584669,-0.4570128725046748,0.25224447326946914],\"y\":[0.8631124458513245,0.5986355733419972,0.6148224496122869,-1.7581689474435256,-0.2117579026798954,-0.5910624686227365,0.7786986113887819,-1.8488687712754417,0.03033082678338136,-1.029401112403088,-2.6580626779617607,-0.05888128502145437,-1.7725815648562542,-0.18543431450504383,-0.4327950987141687,0.5099981510591476,-0.19062164665727788,-0.7907254562344853,-1.633355644515482,-1.3031032701729108,0.4024703816185357,-0.4166082224438792,-0.940914792530272,-0.4168116425417719,-0.06349392765170202,0.25070861070205414,-0.0826200998131122,0.3288202662704021,-0.22434607094346407,-1.0572124126050202,-1.5635923798655775,-1.5733923546480593,-0.7759237840118163,-0.6369012837689368,-0.2808476930856404,0.8551369202180025,0.5221972645127767,-1.39246648438778,-0.21262073489338879,-1.3298159131577019,-1.1194415241194038,0.027542633302294464,-0.9889007318191547,-2.017932265204172,-0.85395071698655,-0.17490854779054174,-0.3804846594865455,-0.15371997408006488,-1.5394645102639806,-0.595860745965031],\"z\":[-0.6855551077942373,-0.09406680197491321,-0.5548465341001644,-0.018569482353449428,-0.39744743760450035,0.1267976895916914,0.14865602261265656,0.2555552499784254,-0.5954598892691505,0.5428670487940238,-0.03981344818563184,0.20670349127562324,-0.7613802230457309,-0.06729984236136119,0.19806144915679597,-0.5035058317132016,0.49283151759658705,-0.29860451573021124,-0.4794099138261456,-0.16858674603688112,0.61677262566721,-0.26271828296845523,-0.3667048589319061,-0.28996247361138344,-0.44476755904949167,-0.472148885851825,-0.7268435294994512,-0.26145807366185964,0.0873681069173404,-0.31531919466201436,-0.145241737641035,-0.23658142800820198,-0.1479728848579969,0.10675323371866048,0.6675596602128353,0.4507314870527183,-0.3961422664149752,-0.6854343029563257,0.2941282619311934,0.09344476854004695,0.09817189094727745,-0.019304654380142876,-0.19596807283921527,0.11218405322355292,0.13411882305647888,0.13144837518696117,0.15876900264185015,-0.2700394164332425,0.1961261733139727,0.09474993972957203],\"type\":\"scatter3d\"},{\"hovertemplate\":\"species=virginica<br>PC1=%{x}<br>PC2=%{y}<br>PC3=%{z}<extra></extra>\",\"legendgroup\":\"virginica\",\"marker\":{\"color\":\"#00cc96\",\"symbol\":\"square\",\"size\":3},\"mode\":\"markers\",\"name\":\"virginica\",\"scene\":\"scene\",\"showlegend\":true,\"x\":[1.8476725943096637,1.1531898082521288,2.206349497126593,1.4386854023261815,1.867890702555584,2.7541967088257526,0.35837447484166746,2.3030058981503188,2.0017352992189164,2.267554599102268,1.3659094292022136,1.5990645856518693,1.8842518537520743,1.253086514377591,1.4640615229856224,1.5918093026385283,1.4712801894655434,2.437378482193507,3.309141182676078,1.2539809866905776,2.0404962596630387,0.9739151144704733,2.8980644358432763,1.3291936913234932,1.7042407085196052,1.957727661793435,1.1719045079878683,1.0197810528162627,1.786008861248468,1.8647779127074662,2.4354973914151428,2.3160824119611534,1.8603714258523156,1.1112717256759688,1.1974691551180376,2.800949403734028,1.5801552485205363,1.3470444243548017,0.923432977766384,1.8535519840664405,2.0161572006777586,1.9031168585994869,1.1531898082521288,2.043308439287809,2.0016909669349974,1.870522071460125,1.558491890723717,1.5208450639985898,1.3763911906419273,0.9592985756160376],\"y\":[0.8716966617734127,-0.7013261138565754,0.5544701049349228,-0.05001052226888553,0.29119280176116913,0.7884322063548452,-1.560094583977289,0.4095166952219437,-0.723865359312659,1.9214429914653548,0.6939480398041611,-0.42824883590033935,0.4143327579500842,-1.1673913352452454,-0.4441475694791236,0.6770353716018516,0.25319247196681555,2.5567573414948015,-0.0023613201020824923,-1.7175838442659768,0.9073987650150531,-0.5711743763662661,0.3977913591718686,-0.4867605419037237,1.014148424835785,1.0033345154297773,-0.3188966173105676,0.06554296309664809,-0.19327279985689128,0.55538153157899,0.24665446806897456,2.6261838690226273,-0.18467239440998312,-0.29598610243039014,-0.8171677419136159,0.8447481937849748,1.0724744961271222,0.42225596589554615,0.019230370546893197,0.672422728971604,0.6103970375551129,0.6860248318586996,-0.7013261138565754,0.8646848804720187,1.0485500466234177,0.3828218376229984,-0.9053136014070654,0.2667945748539109,1.0163619287948853,-0.022283944660567125],\"z\":[1.002760985779278,0.5314646350398206,-0.20549591009804036,0.16339046381870664,0.39400433318681355,-0.5862327043799539,0.9909998953229909,-0.6541666870038293,-0.39407044826972454,0.39251765781193165,0.28327951601832685,0.023304082122132967,0.024548553964213574,0.5821302708905556,1.0041105249947537,0.6366507209624217,0.03665750918367596,-0.13420008174692682,-0.7069339592752082,-0.2646220838822472,0.23187811428391875,0.8295037810733951,-0.8609268420176824,-0.0047073493334984584,0.2959578765436418,-0.42281705175205014,0.13065190995584375,0.3380421696229951,0.2700025257687445,-0.7175106833798804,-0.7302340057881253,-0.4996195425630397,0.35333027867038164,-0.182659607660602,-0.16321378151183688,-0.5470009572124543,0.9433926084622694,0.18002870593854817,0.41739430346558937,-0.01482032936269286,0.42591494688952675,0.12779936404399145,0.5314646350398206,0.33526606052310326,0.6292688881501901,0.2545323186790221,-0.025381909859828047,0.1792772025903603,0.9314050519376967,0.5287941871703031],\"type\":\"scatter3d\"}],                        {\"template\":{\"data\":{\"histogram2dcontour\":[{\"type\":\"histogram2dcontour\",\"colorbar\":{\"outlinewidth\":0,\"ticks\":\"\"},\"colorscale\":[[0.0,\"#0d0887\"],[0.1111111111111111,\"#46039f\"],[0.2222222222222222,\"#7201a8\"],[0.3333333333333333,\"#9c179e\"],[0.4444444444444444,\"#bd3786\"],[0.5555555555555556,\"#d8576b\"],[0.6666666666666666,\"#ed7953\"],[0.7777777777777778,\"#fb9f3a\"],[0.8888888888888888,\"#fdca26\"],[1.0,\"#f0f921\"]]}],\"choropleth\":[{\"type\":\"choropleth\",\"colorbar\":{\"outlinewidth\":0,\"ticks\":\"\"}}],\"histogram2d\":[{\"type\":\"histogram2d\",\"colorbar\":{\"outlinewidth\":0,\"ticks\":\"\"},\"colorscale\":[[0.0,\"#0d0887\"],[0.1111111111111111,\"#46039f\"],[0.2222222222222222,\"#7201a8\"],[0.3333333333333333,\"#9c179e\"],[0.4444444444444444,\"#bd3786\"],[0.5555555555555556,\"#d8576b\"],[0.6666666666666666,\"#ed7953\"],[0.7777777777777778,\"#fb9f3a\"],[0.8888888888888888,\"#fdca26\"],[1.0,\"#f0f921\"]]}],\"heatmap\":[{\"type\":\"heatmap\",\"colorbar\":{\"outlinewidth\":0,\"ticks\":\"\"},\"colorscale\":[[0.0,\"#0d0887\"],[0.1111111111111111,\"#46039f\"],[0.2222222222222222,\"#7201a8\"],[0.3333333333333333,\"#9c179e\"],[0.4444444444444444,\"#bd3786\"],[0.5555555555555556,\"#d8576b\"],[0.6666666666666666,\"#ed7953\"],[0.7777777777777778,\"#fb9f3a\"],[0.8888888888888888,\"#fdca26\"],[1.0,\"#f0f921\"]]}],\"heatmapgl\":[{\"type\":\"heatmapgl\",\"colorbar\":{\"outlinewidth\":0,\"ticks\":\"\"},\"colorscale\":[[0.0,\"#0d0887\"],[0.1111111111111111,\"#46039f\"],[0.2222222222222222,\"#7201a8\"],[0.3333333333333333,\"#9c179e\"],[0.4444444444444444,\"#bd3786\"],[0.5555555555555556,\"#d8576b\"],[0.6666666666666666,\"#ed7953\"],[0.7777777777777778,\"#fb9f3a\"],[0.8888888888888888,\"#fdca26\"],[1.0,\"#f0f921\"]]}],\"contourcarpet\":[{\"type\":\"contourcarpet\",\"colorbar\":{\"outlinewidth\":0,\"ticks\":\"\"}}],\"contour\":[{\"type\":\"contour\",\"colorbar\":{\"outlinewidth\":0,\"ticks\":\"\"},\"colorscale\":[[0.0,\"#0d0887\"],[0.1111111111111111,\"#46039f\"],[0.2222222222222222,\"#7201a8\"],[0.3333333333333333,\"#9c179e\"],[0.4444444444444444,\"#bd3786\"],[0.5555555555555556,\"#d8576b\"],[0.6666666666666666,\"#ed7953\"],[0.7777777777777778,\"#fb9f3a\"],[0.8888888888888888,\"#fdca26\"],[1.0,\"#f0f921\"]]}],\"surface\":[{\"type\":\"surface\",\"colorbar\":{\"outlinewidth\":0,\"ticks\":\"\"},\"colorscale\":[[0.0,\"#0d0887\"],[0.1111111111111111,\"#46039f\"],[0.2222222222222222,\"#7201a8\"],[0.3333333333333333,\"#9c179e\"],[0.4444444444444444,\"#bd3786\"],[0.5555555555555556,\"#d8576b\"],[0.6666666666666666,\"#ed7953\"],[0.7777777777777778,\"#fb9f3a\"],[0.8888888888888888,\"#fdca26\"],[1.0,\"#f0f921\"]]}],\"mesh3d\":[{\"type\":\"mesh3d\",\"colorbar\":{\"outlinewidth\":0,\"ticks\":\"\"}}],\"scatter\":[{\"fillpattern\":{\"fillmode\":\"overlay\",\"size\":10,\"solidity\":0.2},\"type\":\"scatter\"}],\"parcoords\":[{\"type\":\"parcoords\",\"line\":{\"colorbar\":{\"outlinewidth\":0,\"ticks\":\"\"}}}],\"scatterpolargl\":[{\"type\":\"scatterpolargl\",\"marker\":{\"colorbar\":{\"outlinewidth\":0,\"ticks\":\"\"}}}],\"bar\":[{\"error_x\":{\"color\":\"#2a3f5f\"},\"error_y\":{\"color\":\"#2a3f5f\"},\"marker\":{\"line\":{\"color\":\"#E5ECF6\",\"width\":0.5},\"pattern\":{\"fillmode\":\"overlay\",\"size\":10,\"solidity\":0.2}},\"type\":\"bar\"}],\"scattergeo\":[{\"type\":\"scattergeo\",\"marker\":{\"colorbar\":{\"outlinewidth\":0,\"ticks\":\"\"}}}],\"scatterpolar\":[{\"type\":\"scatterpolar\",\"marker\":{\"colorbar\":{\"outlinewidth\":0,\"ticks\":\"\"}}}],\"histogram\":[{\"marker\":{\"pattern\":{\"fillmode\":\"overlay\",\"size\":10,\"solidity\":0.2}},\"type\":\"histogram\"}],\"scattergl\":[{\"type\":\"scattergl\",\"marker\":{\"colorbar\":{\"outlinewidth\":0,\"ticks\":\"\"}}}],\"scatter3d\":[{\"type\":\"scatter3d\",\"line\":{\"colorbar\":{\"outlinewidth\":0,\"ticks\":\"\"}},\"marker\":{\"colorbar\":{\"outlinewidth\":0,\"ticks\":\"\"}}}],\"scattermapbox\":[{\"type\":\"scattermapbox\",\"marker\":{\"colorbar\":{\"outlinewidth\":0,\"ticks\":\"\"}}}],\"scatterternary\":[{\"type\":\"scatterternary\",\"marker\":{\"colorbar\":{\"outlinewidth\":0,\"ticks\":\"\"}}}],\"scattercarpet\":[{\"type\":\"scattercarpet\",\"marker\":{\"colorbar\":{\"outlinewidth\":0,\"ticks\":\"\"}}}],\"carpet\":[{\"aaxis\":{\"endlinecolor\":\"#2a3f5f\",\"gridcolor\":\"white\",\"linecolor\":\"white\",\"minorgridcolor\":\"white\",\"startlinecolor\":\"#2a3f5f\"},\"baxis\":{\"endlinecolor\":\"#2a3f5f\",\"gridcolor\":\"white\",\"linecolor\":\"white\",\"minorgridcolor\":\"white\",\"startlinecolor\":\"#2a3f5f\"},\"type\":\"carpet\"}],\"table\":[{\"cells\":{\"fill\":{\"color\":\"#EBF0F8\"},\"line\":{\"color\":\"white\"}},\"header\":{\"fill\":{\"color\":\"#C8D4E3\"},\"line\":{\"color\":\"white\"}},\"type\":\"table\"}],\"barpolar\":[{\"marker\":{\"line\":{\"color\":\"#E5ECF6\",\"width\":0.5},\"pattern\":{\"fillmode\":\"overlay\",\"size\":10,\"solidity\":0.2}},\"type\":\"barpolar\"}],\"pie\":[{\"automargin\":true,\"type\":\"pie\"}]},\"layout\":{\"autotypenumbers\":\"strict\",\"colorway\":[\"#636efa\",\"#EF553B\",\"#00cc96\",\"#ab63fa\",\"#FFA15A\",\"#19d3f3\",\"#FF6692\",\"#B6E880\",\"#FF97FF\",\"#FECB52\"],\"font\":{\"color\":\"#2a3f5f\"},\"hovermode\":\"closest\",\"hoverlabel\":{\"align\":\"left\"},\"paper_bgcolor\":\"white\",\"plot_bgcolor\":\"#E5ECF6\",\"polar\":{\"bgcolor\":\"#E5ECF6\",\"angularaxis\":{\"gridcolor\":\"white\",\"linecolor\":\"white\",\"ticks\":\"\"},\"radialaxis\":{\"gridcolor\":\"white\",\"linecolor\":\"white\",\"ticks\":\"\"}},\"ternary\":{\"bgcolor\":\"#E5ECF6\",\"aaxis\":{\"gridcolor\":\"white\",\"linecolor\":\"white\",\"ticks\":\"\"},\"baxis\":{\"gridcolor\":\"white\",\"linecolor\":\"white\",\"ticks\":\"\"},\"caxis\":{\"gridcolor\":\"white\",\"linecolor\":\"white\",\"ticks\":\"\"}},\"coloraxis\":{\"colorbar\":{\"outlinewidth\":0,\"ticks\":\"\"}},\"colorscale\":{\"sequential\":[[0.0,\"#0d0887\"],[0.1111111111111111,\"#46039f\"],[0.2222222222222222,\"#7201a8\"],[0.3333333333333333,\"#9c179e\"],[0.4444444444444444,\"#bd3786\"],[0.5555555555555556,\"#d8576b\"],[0.6666666666666666,\"#ed7953\"],[0.7777777777777778,\"#fb9f3a\"],[0.8888888888888888,\"#fdca26\"],[1.0,\"#f0f921\"]],\"sequentialminus\":[[0.0,\"#0d0887\"],[0.1111111111111111,\"#46039f\"],[0.2222222222222222,\"#7201a8\"],[0.3333333333333333,\"#9c179e\"],[0.4444444444444444,\"#bd3786\"],[0.5555555555555556,\"#d8576b\"],[0.6666666666666666,\"#ed7953\"],[0.7777777777777778,\"#fb9f3a\"],[0.8888888888888888,\"#fdca26\"],[1.0,\"#f0f921\"]],\"diverging\":[[0,\"#8e0152\"],[0.1,\"#c51b7d\"],[0.2,\"#de77ae\"],[0.3,\"#f1b6da\"],[0.4,\"#fde0ef\"],[0.5,\"#f7f7f7\"],[0.6,\"#e6f5d0\"],[0.7,\"#b8e186\"],[0.8,\"#7fbc41\"],[0.9,\"#4d9221\"],[1,\"#276419\"]]},\"xaxis\":{\"gridcolor\":\"white\",\"linecolor\":\"white\",\"ticks\":\"\",\"title\":{\"standoff\":15},\"zerolinecolor\":\"white\",\"automargin\":true,\"zerolinewidth\":2},\"yaxis\":{\"gridcolor\":\"white\",\"linecolor\":\"white\",\"ticks\":\"\",\"title\":{\"standoff\":15},\"zerolinecolor\":\"white\",\"automargin\":true,\"zerolinewidth\":2},\"scene\":{\"xaxis\":{\"backgroundcolor\":\"#E5ECF6\",\"gridcolor\":\"white\",\"linecolor\":\"white\",\"showbackground\":true,\"ticks\":\"\",\"zerolinecolor\":\"white\",\"gridwidth\":2},\"yaxis\":{\"backgroundcolor\":\"#E5ECF6\",\"gridcolor\":\"white\",\"linecolor\":\"white\",\"showbackground\":true,\"ticks\":\"\",\"zerolinecolor\":\"white\",\"gridwidth\":2},\"zaxis\":{\"backgroundcolor\":\"#E5ECF6\",\"gridcolor\":\"white\",\"linecolor\":\"white\",\"showbackground\":true,\"ticks\":\"\",\"zerolinecolor\":\"white\",\"gridwidth\":2}},\"shapedefaults\":{\"line\":{\"color\":\"#2a3f5f\"}},\"annotationdefaults\":{\"arrowcolor\":\"#2a3f5f\",\"arrowhead\":0,\"arrowwidth\":1},\"geo\":{\"bgcolor\":\"white\",\"landcolor\":\"#E5ECF6\",\"subunitcolor\":\"white\",\"showland\":true,\"showlakes\":true,\"lakecolor\":\"white\"},\"title\":{\"x\":0.05},\"mapbox\":{\"style\":\"light\"}}},\"scene\":{\"domain\":{\"x\":[0.0,1.0],\"y\":[0.0,1.0]},\"xaxis\":{\"title\":{\"text\":\"PC1\"}},\"yaxis\":{\"title\":{\"text\":\"PC2\"}},\"zaxis\":{\"title\":{\"text\":\"PC3\"}}},\"legend\":{\"title\":{\"text\":\"species\"},\"tracegroupgap\":0},\"margin\":{\"t\":60},\"height\":600,\"width\":800},                        {\"responsive\": true}                    ).then(function(){\n",
       "                            \n",
       "var gd = document.getElementById('062c2d03-183d-4395-ac4e-dedd948dd8a6');\n",
       "var x = new MutationObserver(function (mutations, observer) {{\n",
       "        var display = window.getComputedStyle(gd).display;\n",
       "        if (!display || display === 'none') {{\n",
       "            console.log([gd, 'removed!']);\n",
       "            Plotly.purge(gd);\n",
       "            observer.disconnect();\n",
       "        }}\n",
       "}});\n",
       "\n",
       "// Listen for the removal of the full notebook cells\n",
       "var notebookContainer = gd.closest('#notebook-container');\n",
       "if (notebookContainer) {{\n",
       "    x.observe(notebookContainer, {childList: true});\n",
       "}}\n",
       "\n",
       "// Listen for the clearing of the current output cell\n",
       "var outputEl = gd.closest('.output');\n",
       "if (outputEl) {{\n",
       "    x.observe(outputEl, {childList: true});\n",
       "}}\n",
       "\n",
       "                        })                };                });            </script>        </div>"
      ]
     },
     "metadata": {},
     "output_type": "display_data"
    }
   ],
   "source": [
    "# PC1=pca_df['PC1']\n",
    "# PC2=pca_df['PC2']\n",
    "# PC3=pca_df['PC3']\n",
    "# c=pca_df['species']\n",
    "# from mpl_toolkits import mplot3d\n",
    "# plt.rcParams[\"figure.figsize\"] = (8,8) #graphic size\n",
    "# fig = plt.figure()\n",
    "# ax = plt.axes(projection='3d')\n",
    "# ax.scatter3D(PC1, PC2, PC3)\n",
    "\n",
    "import plotly.express as px\n",
    "fig=px.scatter_3d(pca_df, x='PC1', y='PC2', z='PC3',color='species', symbol='species', width=800, height=600)\n",
    "fig.update_traces(marker=dict(size=3))"
   ]
  },
  {
   "cell_type": "markdown",
   "id": "7c721ef8-b6aa-48ce-9cda-e9ffe02e4b85",
   "metadata": {},
   "source": [
    "### 4.2. Principal components used as features for ML"
   ]
  },
  {
   "cell_type": "markdown",
   "id": "6b07f849-149a-49a6-b49f-013ffc971a75",
   "metadata": {},
   "source": [
    "Dimensionality reduction"
   ]
  },
  {
   "cell_type": "markdown",
   "id": "d0ea58ce-4d12-48a0-839e-9d4ae564a806",
   "metadata": {},
   "source": [
    "#### 4.2.a. Library import"
   ]
  },
  {
   "cell_type": "code",
   "execution_count": 11,
   "id": "d6ddd0b1-8731-4875-8d84-7280f7bd9511",
   "metadata": {},
   "outputs": [
    {
     "name": "stderr",
     "output_type": "stream",
     "text": [
      "2022-06-30 12:35:47.291384: W tensorflow/stream_executor/platform/default/dso_loader.cc:64] Could not load dynamic library 'libcudart.so.11.0'; dlerror: libcudart.so.11.0: cannot open shared object file: No such file or directory\n",
      "2022-06-30 12:35:47.291413: I tensorflow/stream_executor/cuda/cudart_stub.cc:29] Ignore above cudart dlerror if you do not have a GPU set up on your machine.\n"
     ]
    }
   ],
   "source": [
    "%matplotlib inline\n",
    "import pandas as pd\n",
    "import matplotlib as mp\n",
    "import matplotlib.pyplot as plt\n",
    "import numpy as np\n",
    "import tensorflow as tf\n",
    "from tensorflow import keras\n",
    "from keras.utils import np_utils\n",
    "\n",
    "from sklearn.decomposition import PCA"
   ]
  },
  {
   "cell_type": "markdown",
   "id": "05068338-54e4-40e5-be88-242ca295c685",
   "metadata": {},
   "source": [
    "#### 4.2.b. PCA"
   ]
  },
  {
   "cell_type": "markdown",
   "id": "e2e736df-669c-44dd-87b0-aa40c6093844",
   "metadata": {},
   "source": [
    "##### Reading of data (one hot encoding version)"
   ]
  },
  {
   "cell_type": "code",
   "execution_count": 12,
   "id": "1b875c4c-6047-4ba9-83e2-40daa95ee171",
   "metadata": {},
   "outputs": [
    {
     "name": "stdout",
     "output_type": "stream",
     "text": [
      "Dfi. Structure (shape) :(150, 8)\n"
     ]
    },
    {
     "data": {
      "text/html": [
       "<div>\n",
       "<style scoped>\n",
       "    .dataframe tbody tr th:only-of-type {\n",
       "        vertical-align: middle;\n",
       "    }\n",
       "\n",
       "    .dataframe tbody tr th {\n",
       "        vertical-align: top;\n",
       "    }\n",
       "\n",
       "    .dataframe thead th {\n",
       "        text-align: right;\n",
       "    }\n",
       "</style>\n",
       "<table border=\"1\" class=\"dataframe\">\n",
       "  <thead>\n",
       "    <tr style=\"text-align: right;\">\n",
       "      <th></th>\n",
       "      <th>sepal_length</th>\n",
       "      <th>sepal_width</th>\n",
       "      <th>petal_length</th>\n",
       "      <th>petal_width</th>\n",
       "      <th>species</th>\n",
       "      <th>setosa</th>\n",
       "      <th>versicolor</th>\n",
       "      <th>virginica</th>\n",
       "    </tr>\n",
       "  </thead>\n",
       "  <tbody>\n",
       "    <tr>\n",
       "      <th>0</th>\n",
       "      <td>5.1</td>\n",
       "      <td>3.5</td>\n",
       "      <td>1.4</td>\n",
       "      <td>0.2</td>\n",
       "      <td>setosa</td>\n",
       "      <td>1.0</td>\n",
       "      <td>0.0</td>\n",
       "      <td>0.0</td>\n",
       "    </tr>\n",
       "    <tr>\n",
       "      <th>1</th>\n",
       "      <td>4.9</td>\n",
       "      <td>3.0</td>\n",
       "      <td>1.4</td>\n",
       "      <td>0.2</td>\n",
       "      <td>setosa</td>\n",
       "      <td>1.0</td>\n",
       "      <td>0.0</td>\n",
       "      <td>0.0</td>\n",
       "    </tr>\n",
       "    <tr>\n",
       "      <th>2</th>\n",
       "      <td>4.7</td>\n",
       "      <td>3.2</td>\n",
       "      <td>1.3</td>\n",
       "      <td>0.2</td>\n",
       "      <td>setosa</td>\n",
       "      <td>1.0</td>\n",
       "      <td>0.0</td>\n",
       "      <td>0.0</td>\n",
       "    </tr>\n",
       "    <tr>\n",
       "      <th>3</th>\n",
       "      <td>4.6</td>\n",
       "      <td>3.1</td>\n",
       "      <td>1.5</td>\n",
       "      <td>0.2</td>\n",
       "      <td>setosa</td>\n",
       "      <td>1.0</td>\n",
       "      <td>0.0</td>\n",
       "      <td>0.0</td>\n",
       "    </tr>\n",
       "    <tr>\n",
       "      <th>4</th>\n",
       "      <td>5.0</td>\n",
       "      <td>3.6</td>\n",
       "      <td>1.4</td>\n",
       "      <td>0.2</td>\n",
       "      <td>setosa</td>\n",
       "      <td>1.0</td>\n",
       "      <td>0.0</td>\n",
       "      <td>0.0</td>\n",
       "    </tr>\n",
       "    <tr>\n",
       "      <th>...</th>\n",
       "      <td>...</td>\n",
       "      <td>...</td>\n",
       "      <td>...</td>\n",
       "      <td>...</td>\n",
       "      <td>...</td>\n",
       "      <td>...</td>\n",
       "      <td>...</td>\n",
       "      <td>...</td>\n",
       "    </tr>\n",
       "    <tr>\n",
       "      <th>145</th>\n",
       "      <td>6.7</td>\n",
       "      <td>3.0</td>\n",
       "      <td>5.2</td>\n",
       "      <td>2.3</td>\n",
       "      <td>virginica</td>\n",
       "      <td>0.0</td>\n",
       "      <td>0.0</td>\n",
       "      <td>1.0</td>\n",
       "    </tr>\n",
       "    <tr>\n",
       "      <th>146</th>\n",
       "      <td>6.3</td>\n",
       "      <td>2.5</td>\n",
       "      <td>5.0</td>\n",
       "      <td>1.9</td>\n",
       "      <td>virginica</td>\n",
       "      <td>0.0</td>\n",
       "      <td>0.0</td>\n",
       "      <td>1.0</td>\n",
       "    </tr>\n",
       "    <tr>\n",
       "      <th>147</th>\n",
       "      <td>6.5</td>\n",
       "      <td>3.0</td>\n",
       "      <td>5.2</td>\n",
       "      <td>2.0</td>\n",
       "      <td>virginica</td>\n",
       "      <td>0.0</td>\n",
       "      <td>0.0</td>\n",
       "      <td>1.0</td>\n",
       "    </tr>\n",
       "    <tr>\n",
       "      <th>148</th>\n",
       "      <td>6.2</td>\n",
       "      <td>3.4</td>\n",
       "      <td>5.4</td>\n",
       "      <td>2.3</td>\n",
       "      <td>virginica</td>\n",
       "      <td>0.0</td>\n",
       "      <td>0.0</td>\n",
       "      <td>1.0</td>\n",
       "    </tr>\n",
       "    <tr>\n",
       "      <th>149</th>\n",
       "      <td>5.9</td>\n",
       "      <td>3.0</td>\n",
       "      <td>5.1</td>\n",
       "      <td>1.8</td>\n",
       "      <td>virginica</td>\n",
       "      <td>0.0</td>\n",
       "      <td>0.0</td>\n",
       "      <td>1.0</td>\n",
       "    </tr>\n",
       "  </tbody>\n",
       "</table>\n",
       "<p>150 rows × 8 columns</p>\n",
       "</div>"
      ],
      "text/plain": [
       "     sepal_length  sepal_width  petal_length  petal_width    species  setosa  \\\n",
       "0             5.1          3.5           1.4          0.2     setosa     1.0   \n",
       "1             4.9          3.0           1.4          0.2     setosa     1.0   \n",
       "2             4.7          3.2           1.3          0.2     setosa     1.0   \n",
       "3             4.6          3.1           1.5          0.2     setosa     1.0   \n",
       "4             5.0          3.6           1.4          0.2     setosa     1.0   \n",
       "..            ...          ...           ...          ...        ...     ...   \n",
       "145           6.7          3.0           5.2          2.3  virginica     0.0   \n",
       "146           6.3          2.5           5.0          1.9  virginica     0.0   \n",
       "147           6.5          3.0           5.2          2.0  virginica     0.0   \n",
       "148           6.2          3.4           5.4          2.3  virginica     0.0   \n",
       "149           5.9          3.0           5.1          1.8  virginica     0.0   \n",
       "\n",
       "     versicolor  virginica  \n",
       "0           0.0        0.0  \n",
       "1           0.0        0.0  \n",
       "2           0.0        0.0  \n",
       "3           0.0        0.0  \n",
       "4           0.0        0.0  \n",
       "..          ...        ...  \n",
       "145         0.0        1.0  \n",
       "146         0.0        1.0  \n",
       "147         0.0        1.0  \n",
       "148         0.0        1.0  \n",
       "149         0.0        1.0  \n",
       "\n",
       "[150 rows x 8 columns]"
      ]
     },
     "metadata": {},
     "output_type": "display_data"
    }
   ],
   "source": [
    "dfi=pd.read_csv('./iris-data/iris_ohe.csv', sep=\"\\t\") \n",
    "print(f\"Dfi. Structure (shape) :{dfi.shape}\")\n",
    "display(dfi)"
   ]
  },
  {
   "cell_type": "markdown",
   "id": "10987231-6c89-4950-bb62-04131510a765",
   "metadata": {},
   "source": [
    "##### Standardization"
   ]
  },
  {
   "cell_type": "code",
   "execution_count": 13,
   "id": "9b6adc5a-0d58-4380-9223-048331dd8adc",
   "metadata": {},
   "outputs": [
    {
     "data": {
      "text/html": [
       "<style type=\"text/css\">\n",
       "</style>\n",
       "<table id=\"T_49bf5\">\n",
       "  <caption>features after standardization</caption>\n",
       "  <thead>\n",
       "    <tr>\n",
       "      <th class=\"blank level0\" >&nbsp;</th>\n",
       "      <th id=\"T_49bf5_level0_col0\" class=\"col_heading level0 col0\" >sepal_length</th>\n",
       "      <th id=\"T_49bf5_level0_col1\" class=\"col_heading level0 col1\" >sepal_width</th>\n",
       "      <th id=\"T_49bf5_level0_col2\" class=\"col_heading level0 col2\" >petal_length</th>\n",
       "      <th id=\"T_49bf5_level0_col3\" class=\"col_heading level0 col3\" >petal_width</th>\n",
       "    </tr>\n",
       "  </thead>\n",
       "  <tbody>\n",
       "    <tr>\n",
       "      <th id=\"T_49bf5_level0_row0\" class=\"row_heading level0 row0\" >count</th>\n",
       "      <td id=\"T_49bf5_row0_col0\" class=\"data row0 col0\" >150.00</td>\n",
       "      <td id=\"T_49bf5_row0_col1\" class=\"data row0 col1\" >150.00</td>\n",
       "      <td id=\"T_49bf5_row0_col2\" class=\"data row0 col2\" >150.00</td>\n",
       "      <td id=\"T_49bf5_row0_col3\" class=\"data row0 col3\" >150.00</td>\n",
       "    </tr>\n",
       "    <tr>\n",
       "      <th id=\"T_49bf5_level0_row1\" class=\"row_heading level0 row1\" >mean</th>\n",
       "      <td id=\"T_49bf5_row1_col0\" class=\"data row1 col0\" >-0.00</td>\n",
       "      <td id=\"T_49bf5_row1_col1\" class=\"data row1 col1\" >-0.00</td>\n",
       "      <td id=\"T_49bf5_row1_col2\" class=\"data row1 col2\" >0.00</td>\n",
       "      <td id=\"T_49bf5_row1_col3\" class=\"data row1 col3\" >0.00</td>\n",
       "    </tr>\n",
       "    <tr>\n",
       "      <th id=\"T_49bf5_level0_row2\" class=\"row_heading level0 row2\" >std</th>\n",
       "      <td id=\"T_49bf5_row2_col0\" class=\"data row2 col0\" >1.00</td>\n",
       "      <td id=\"T_49bf5_row2_col1\" class=\"data row2 col1\" >1.00</td>\n",
       "      <td id=\"T_49bf5_row2_col2\" class=\"data row2 col2\" >1.00</td>\n",
       "      <td id=\"T_49bf5_row2_col3\" class=\"data row2 col3\" >1.00</td>\n",
       "    </tr>\n",
       "    <tr>\n",
       "      <th id=\"T_49bf5_level0_row3\" class=\"row_heading level0 row3\" >min</th>\n",
       "      <td id=\"T_49bf5_row3_col0\" class=\"data row3 col0\" >-1.87</td>\n",
       "      <td id=\"T_49bf5_row3_col1\" class=\"data row3 col1\" >-2.44</td>\n",
       "      <td id=\"T_49bf5_row3_col2\" class=\"data row3 col2\" >-1.57</td>\n",
       "      <td id=\"T_49bf5_row3_col3\" class=\"data row3 col3\" >-1.44</td>\n",
       "    </tr>\n",
       "    <tr>\n",
       "      <th id=\"T_49bf5_level0_row4\" class=\"row_heading level0 row4\" >25%</th>\n",
       "      <td id=\"T_49bf5_row4_col0\" class=\"data row4 col0\" >-0.90</td>\n",
       "      <td id=\"T_49bf5_row4_col1\" class=\"data row4 col1\" >-0.59</td>\n",
       "      <td id=\"T_49bf5_row4_col2\" class=\"data row4 col2\" >-1.23</td>\n",
       "      <td id=\"T_49bf5_row4_col3\" class=\"data row4 col3\" >-1.18</td>\n",
       "    </tr>\n",
       "    <tr>\n",
       "      <th id=\"T_49bf5_level0_row5\" class=\"row_heading level0 row5\" >50%</th>\n",
       "      <td id=\"T_49bf5_row5_col0\" class=\"data row5 col0\" >-0.05</td>\n",
       "      <td id=\"T_49bf5_row5_col1\" class=\"data row5 col1\" >-0.12</td>\n",
       "      <td id=\"T_49bf5_row5_col2\" class=\"data row5 col2\" >0.34</td>\n",
       "      <td id=\"T_49bf5_row5_col3\" class=\"data row5 col3\" >0.13</td>\n",
       "    </tr>\n",
       "    <tr>\n",
       "      <th id=\"T_49bf5_level0_row6\" class=\"row_heading level0 row6\" >75%</th>\n",
       "      <td id=\"T_49bf5_row6_col0\" class=\"data row6 col0\" >0.67</td>\n",
       "      <td id=\"T_49bf5_row6_col1\" class=\"data row6 col1\" >0.57</td>\n",
       "      <td id=\"T_49bf5_row6_col2\" class=\"data row6 col2\" >0.76</td>\n",
       "      <td id=\"T_49bf5_row6_col3\" class=\"data row6 col3\" >0.79</td>\n",
       "    </tr>\n",
       "    <tr>\n",
       "      <th id=\"T_49bf5_level0_row7\" class=\"row_heading level0 row7\" >max</th>\n",
       "      <td id=\"T_49bf5_row7_col0\" class=\"data row7 col0\" >2.49</td>\n",
       "      <td id=\"T_49bf5_row7_col1\" class=\"data row7 col1\" >3.11</td>\n",
       "      <td id=\"T_49bf5_row7_col2\" class=\"data row7 col2\" >1.79</td>\n",
       "      <td id=\"T_49bf5_row7_col3\" class=\"data row7 col3\" >1.71</td>\n",
       "    </tr>\n",
       "  </tbody>\n",
       "</table>\n"
      ],
      "text/plain": [
       "<pandas.io.formats.style.Styler at 0x7f14483bc730>"
      ]
     },
     "metadata": {},
     "output_type": "display_data"
    }
   ],
   "source": [
    "from sklearn import preprocessing\n",
    "scaler = preprocessing.StandardScaler()\n",
    "\n",
    "features=dfi[['sepal_length','sepal_width','petal_length','petal_width']]\n",
    "y=dfi.drop(features.columns, axis=1)\n",
    "yohe=y.drop('species',axis=1)\n",
    "\n",
    "scaler.fit(features.values)\n",
    "featuresS = scaler.transform(features.values) #returns a numpy array\n",
    "#conversion into a dataframe just for display and plotting purpose\n",
    "featuresSDF = pd.DataFrame(featuresS, columns=features.columns, index=features.index)\n",
    "\n",
    "display(featuresSDF.describe().style.format(\"{0:.2f}\").set_caption(\"features after standardization\"))"
   ]
  },
  {
   "cell_type": "markdown",
   "id": "0f54fb09-16f8-4e1a-b4e4-1f9101498ace",
   "metadata": {},
   "source": [
    "##### PCA: reduction of 4 features to the number principal components (PC) that contain 96% of the information"
   ]
  },
  {
   "cell_type": "code",
   "execution_count": 14,
   "id": "d003d534-64b0-41c8-913d-8cf5a61c8b54",
   "metadata": {},
   "outputs": [
    {
     "name": "stdout",
     "output_type": "stream",
     "text": [
      "Number of components that contain 96.0% of the information: 3\n",
      "Shape before PCA:  (150, 4)\n",
      "Shape after PCA:  (150, 3)\n"
     ]
    },
    {
     "data": {
      "text/html": [
       "<div>\n",
       "<style scoped>\n",
       "    .dataframe tbody tr th:only-of-type {\n",
       "        vertical-align: middle;\n",
       "    }\n",
       "\n",
       "    .dataframe tbody tr th {\n",
       "        vertical-align: top;\n",
       "    }\n",
       "\n",
       "    .dataframe thead th {\n",
       "        text-align: right;\n",
       "    }\n",
       "</style>\n",
       "<table border=\"1\" class=\"dataframe\">\n",
       "  <thead>\n",
       "    <tr style=\"text-align: right;\">\n",
       "      <th></th>\n",
       "      <th>PC1</th>\n",
       "      <th>PC2</th>\n",
       "      <th>PC3</th>\n",
       "      <th>species</th>\n",
       "      <th>setosa</th>\n",
       "      <th>versicolor</th>\n",
       "      <th>virginica</th>\n",
       "    </tr>\n",
       "  </thead>\n",
       "  <tbody>\n",
       "    <tr>\n",
       "      <th>0</th>\n",
       "      <td>-2.264542</td>\n",
       "      <td>0.505704</td>\n",
       "      <td>-0.121943</td>\n",
       "      <td>setosa</td>\n",
       "      <td>1.0</td>\n",
       "      <td>0.0</td>\n",
       "      <td>0.0</td>\n",
       "    </tr>\n",
       "    <tr>\n",
       "      <th>1</th>\n",
       "      <td>-2.086426</td>\n",
       "      <td>-0.655405</td>\n",
       "      <td>-0.227251</td>\n",
       "      <td>setosa</td>\n",
       "      <td>1.0</td>\n",
       "      <td>0.0</td>\n",
       "      <td>0.0</td>\n",
       "    </tr>\n",
       "    <tr>\n",
       "      <th>2</th>\n",
       "      <td>-2.367950</td>\n",
       "      <td>-0.318477</td>\n",
       "      <td>0.051480</td>\n",
       "      <td>setosa</td>\n",
       "      <td>1.0</td>\n",
       "      <td>0.0</td>\n",
       "      <td>0.0</td>\n",
       "    </tr>\n",
       "    <tr>\n",
       "      <th>3</th>\n",
       "      <td>-2.304197</td>\n",
       "      <td>-0.575368</td>\n",
       "      <td>0.098860</td>\n",
       "      <td>setosa</td>\n",
       "      <td>1.0</td>\n",
       "      <td>0.0</td>\n",
       "      <td>0.0</td>\n",
       "    </tr>\n",
       "    <tr>\n",
       "      <th>4</th>\n",
       "      <td>-2.388777</td>\n",
       "      <td>0.674767</td>\n",
       "      <td>0.021428</td>\n",
       "      <td>setosa</td>\n",
       "      <td>1.0</td>\n",
       "      <td>0.0</td>\n",
       "      <td>0.0</td>\n",
       "    </tr>\n",
       "    <tr>\n",
       "      <th>...</th>\n",
       "      <td>...</td>\n",
       "      <td>...</td>\n",
       "      <td>...</td>\n",
       "      <td>...</td>\n",
       "      <td>...</td>\n",
       "      <td>...</td>\n",
       "      <td>...</td>\n",
       "    </tr>\n",
       "    <tr>\n",
       "      <th>145</th>\n",
       "      <td>1.870522</td>\n",
       "      <td>0.382822</td>\n",
       "      <td>0.254532</td>\n",
       "      <td>virginica</td>\n",
       "      <td>0.0</td>\n",
       "      <td>0.0</td>\n",
       "      <td>1.0</td>\n",
       "    </tr>\n",
       "    <tr>\n",
       "      <th>146</th>\n",
       "      <td>1.558492</td>\n",
       "      <td>-0.905314</td>\n",
       "      <td>-0.025382</td>\n",
       "      <td>virginica</td>\n",
       "      <td>0.0</td>\n",
       "      <td>0.0</td>\n",
       "      <td>1.0</td>\n",
       "    </tr>\n",
       "    <tr>\n",
       "      <th>147</th>\n",
       "      <td>1.520845</td>\n",
       "      <td>0.266795</td>\n",
       "      <td>0.179277</td>\n",
       "      <td>virginica</td>\n",
       "      <td>0.0</td>\n",
       "      <td>0.0</td>\n",
       "      <td>1.0</td>\n",
       "    </tr>\n",
       "    <tr>\n",
       "      <th>148</th>\n",
       "      <td>1.376391</td>\n",
       "      <td>1.016362</td>\n",
       "      <td>0.931405</td>\n",
       "      <td>virginica</td>\n",
       "      <td>0.0</td>\n",
       "      <td>0.0</td>\n",
       "      <td>1.0</td>\n",
       "    </tr>\n",
       "    <tr>\n",
       "      <th>149</th>\n",
       "      <td>0.959299</td>\n",
       "      <td>-0.022284</td>\n",
       "      <td>0.528794</td>\n",
       "      <td>virginica</td>\n",
       "      <td>0.0</td>\n",
       "      <td>0.0</td>\n",
       "      <td>1.0</td>\n",
       "    </tr>\n",
       "  </tbody>\n",
       "</table>\n",
       "<p>150 rows × 7 columns</p>\n",
       "</div>"
      ],
      "text/plain": [
       "          PC1       PC2       PC3    species  setosa  versicolor  virginica\n",
       "0   -2.264542  0.505704 -0.121943     setosa     1.0         0.0        0.0\n",
       "1   -2.086426 -0.655405 -0.227251     setosa     1.0         0.0        0.0\n",
       "2   -2.367950 -0.318477  0.051480     setosa     1.0         0.0        0.0\n",
       "3   -2.304197 -0.575368  0.098860     setosa     1.0         0.0        0.0\n",
       "4   -2.388777  0.674767  0.021428     setosa     1.0         0.0        0.0\n",
       "..        ...       ...       ...        ...     ...         ...        ...\n",
       "145  1.870522  0.382822  0.254532  virginica     0.0         0.0        1.0\n",
       "146  1.558492 -0.905314 -0.025382  virginica     0.0         0.0        1.0\n",
       "147  1.520845  0.266795  0.179277  virginica     0.0         0.0        1.0\n",
       "148  1.376391  1.016362  0.931405  virginica     0.0         0.0        1.0\n",
       "149  0.959299 -0.022284  0.528794  virginica     0.0         0.0        1.0\n",
       "\n",
       "[150 rows x 7 columns]"
      ]
     },
     "metadata": {},
     "output_type": "display_data"
    },
    {
     "data": {
      "text/html": [
       "<style type=\"text/css\">\n",
       "</style>\n",
       "<table id=\"T_2623e\">\n",
       "  <caption>Principal Components</caption>\n",
       "  <thead>\n",
       "    <tr>\n",
       "      <th class=\"blank level0\" >&nbsp;</th>\n",
       "      <th id=\"T_2623e_level0_col0\" class=\"col_heading level0 col0\" >PC1</th>\n",
       "      <th id=\"T_2623e_level0_col1\" class=\"col_heading level0 col1\" >PC2</th>\n",
       "      <th id=\"T_2623e_level0_col2\" class=\"col_heading level0 col2\" >PC3</th>\n",
       "      <th id=\"T_2623e_level0_col3\" class=\"col_heading level0 col3\" >setosa</th>\n",
       "      <th id=\"T_2623e_level0_col4\" class=\"col_heading level0 col4\" >versicolor</th>\n",
       "      <th id=\"T_2623e_level0_col5\" class=\"col_heading level0 col5\" >virginica</th>\n",
       "    </tr>\n",
       "  </thead>\n",
       "  <tbody>\n",
       "    <tr>\n",
       "      <th id=\"T_2623e_level0_row0\" class=\"row_heading level0 row0\" >count</th>\n",
       "      <td id=\"T_2623e_row0_col0\" class=\"data row0 col0\" >150.00</td>\n",
       "      <td id=\"T_2623e_row0_col1\" class=\"data row0 col1\" >150.00</td>\n",
       "      <td id=\"T_2623e_row0_col2\" class=\"data row0 col2\" >150.00</td>\n",
       "      <td id=\"T_2623e_row0_col3\" class=\"data row0 col3\" >150.00</td>\n",
       "      <td id=\"T_2623e_row0_col4\" class=\"data row0 col4\" >150.00</td>\n",
       "      <td id=\"T_2623e_row0_col5\" class=\"data row0 col5\" >150.00</td>\n",
       "    </tr>\n",
       "    <tr>\n",
       "      <th id=\"T_2623e_level0_row1\" class=\"row_heading level0 row1\" >mean</th>\n",
       "      <td id=\"T_2623e_row1_col0\" class=\"data row1 col0\" >0.00</td>\n",
       "      <td id=\"T_2623e_row1_col1\" class=\"data row1 col1\" >0.00</td>\n",
       "      <td id=\"T_2623e_row1_col2\" class=\"data row1 col2\" >0.00</td>\n",
       "      <td id=\"T_2623e_row1_col3\" class=\"data row1 col3\" >0.33</td>\n",
       "      <td id=\"T_2623e_row1_col4\" class=\"data row1 col4\" >0.33</td>\n",
       "      <td id=\"T_2623e_row1_col5\" class=\"data row1 col5\" >0.33</td>\n",
       "    </tr>\n",
       "    <tr>\n",
       "      <th id=\"T_2623e_level0_row2\" class=\"row_heading level0 row2\" >std</th>\n",
       "      <td id=\"T_2623e_row2_col0\" class=\"data row2 col0\" >1.71</td>\n",
       "      <td id=\"T_2623e_row2_col1\" class=\"data row2 col1\" >0.96</td>\n",
       "      <td id=\"T_2623e_row2_col2\" class=\"data row2 col2\" >0.39</td>\n",
       "      <td id=\"T_2623e_row2_col3\" class=\"data row2 col3\" >0.47</td>\n",
       "      <td id=\"T_2623e_row2_col4\" class=\"data row2 col4\" >0.47</td>\n",
       "      <td id=\"T_2623e_row2_col5\" class=\"data row2 col5\" >0.47</td>\n",
       "    </tr>\n",
       "    <tr>\n",
       "      <th id=\"T_2623e_level0_row3\" class=\"row_heading level0 row3\" >min</th>\n",
       "      <td id=\"T_2623e_row3_col0\" class=\"data row3 col0\" >-2.77</td>\n",
       "      <td id=\"T_2623e_row3_col1\" class=\"data row3 col1\" >-2.66</td>\n",
       "      <td id=\"T_2623e_row3_col2\" class=\"data row3 col2\" >-0.86</td>\n",
       "      <td id=\"T_2623e_row3_col3\" class=\"data row3 col3\" >0.00</td>\n",
       "      <td id=\"T_2623e_row3_col4\" class=\"data row3 col4\" >0.00</td>\n",
       "      <td id=\"T_2623e_row3_col5\" class=\"data row3 col5\" >0.00</td>\n",
       "    </tr>\n",
       "    <tr>\n",
       "      <th id=\"T_2623e_level0_row4\" class=\"row_heading level0 row4\" >25%</th>\n",
       "      <td id=\"T_2623e_row4_col0\" class=\"data row4 col0\" >-2.12</td>\n",
       "      <td id=\"T_2623e_row4_col1\" class=\"data row4 col1\" >-0.59</td>\n",
       "      <td id=\"T_2623e_row4_col2\" class=\"data row4 col2\" >-0.26</td>\n",
       "      <td id=\"T_2623e_row4_col3\" class=\"data row4 col3\" >0.00</td>\n",
       "      <td id=\"T_2623e_row4_col4\" class=\"data row4 col4\" >0.00</td>\n",
       "      <td id=\"T_2623e_row4_col5\" class=\"data row4 col5\" >0.00</td>\n",
       "    </tr>\n",
       "    <tr>\n",
       "      <th id=\"T_2623e_level0_row5\" class=\"row_heading level0 row5\" >50%</th>\n",
       "      <td id=\"T_2623e_row5_col0\" class=\"data row5 col0\" >0.41</td>\n",
       "      <td id=\"T_2623e_row5_col1\" class=\"data row5 col1\" >0.01</td>\n",
       "      <td id=\"T_2623e_row5_col2\" class=\"data row5 col2\" >0.02</td>\n",
       "      <td id=\"T_2623e_row5_col3\" class=\"data row5 col3\" >0.00</td>\n",
       "      <td id=\"T_2623e_row5_col4\" class=\"data row5 col4\" >0.00</td>\n",
       "      <td id=\"T_2623e_row5_col5\" class=\"data row5 col5\" >0.00</td>\n",
       "    </tr>\n",
       "    <tr>\n",
       "      <th id=\"T_2623e_level0_row6\" class=\"row_heading level0 row6\" >75%</th>\n",
       "      <td id=\"T_2623e_row6_col0\" class=\"data row6 col0\" >1.34</td>\n",
       "      <td id=\"T_2623e_row6_col1\" class=\"data row6 col1\" >0.59</td>\n",
       "      <td id=\"T_2623e_row6_col2\" class=\"data row6 col2\" >0.20</td>\n",
       "      <td id=\"T_2623e_row6_col3\" class=\"data row6 col3\" >1.00</td>\n",
       "      <td id=\"T_2623e_row6_col4\" class=\"data row6 col4\" >1.00</td>\n",
       "      <td id=\"T_2623e_row6_col5\" class=\"data row6 col5\" >1.00</td>\n",
       "    </tr>\n",
       "    <tr>\n",
       "      <th id=\"T_2623e_level0_row7\" class=\"row_heading level0 row7\" >max</th>\n",
       "      <td id=\"T_2623e_row7_col0\" class=\"data row7 col0\" >3.31</td>\n",
       "      <td id=\"T_2623e_row7_col1\" class=\"data row7 col1\" >2.72</td>\n",
       "      <td id=\"T_2623e_row7_col2\" class=\"data row7 col2\" >1.00</td>\n",
       "      <td id=\"T_2623e_row7_col3\" class=\"data row7 col3\" >1.00</td>\n",
       "      <td id=\"T_2623e_row7_col4\" class=\"data row7 col4\" >1.00</td>\n",
       "      <td id=\"T_2623e_row7_col5\" class=\"data row7 col5\" >1.00</td>\n",
       "    </tr>\n",
       "  </tbody>\n",
       "</table>\n"
      ],
      "text/plain": [
       "<pandas.io.formats.style.Styler at 0x7f14a2a61ff0>"
      ]
     },
     "metadata": {},
     "output_type": "display_data"
    },
    {
     "name": "stdout",
     "output_type": "stream",
     "text": [
      "explained variance ratio: [0.72770452 0.23030523 0.03683832]\n",
      "sum of the first two components: 95.80%\n"
     ]
    }
   ],
   "source": [
    "pcPCA=0.96\n",
    "pca = PCA(pcPCA)\n",
    "\n",
    "featuresSPCA = pca.fit_transform(featuresS)\n",
    "print(f\"Number of components that contain {pcPCA*100:.1f}% of the information: {pca.n_components_}\")\n",
    "print('Shape before PCA: ', featuresS.shape)\n",
    "print('Shape after PCA: ', featuresSPCA.shape)\n",
    "\n",
    "PC=[]\n",
    "PC = [f\"PC{i}\" for i in range(1, pca.n_components_+1)]\n",
    " \n",
    "pca_df = pd.DataFrame(data=featuresSPCA,columns=PC, index=dfi.index)\n",
    "pca_df = pd.concat([pca_df,y],axis=1)\n",
    "display(pca_df)\n",
    "display(pca_df.describe().style.format(\"{0:.2f}\").set_caption(\"Principal Components\"))\n",
    "\n",
    "print(f\"explained variance ratio: {pca.explained_variance_ratio_}\")\n",
    "print(f\"sum of the first two components: {(pca.explained_variance_ratio_[0]+pca.explained_variance_ratio_[1])*100:.2f}%\")\n"
   ]
  },
  {
   "cell_type": "markdown",
   "id": "7009f7d5-0019-464f-ad57-52f150b9a3c2",
   "metadata": {},
   "source": [
    "#### 4.2.c. ML"
   ]
  },
  {
   "cell_type": "markdown",
   "id": "a2442697-ad36-4c8d-9a39-886f350a3351",
   "metadata": {},
   "source": [
    "##### Creation of the training and validation sets"
   ]
  },
  {
   "cell_type": "code",
   "execution_count": 15,
   "id": "63d947c6-91a0-401d-9d7c-4b6244df362b",
   "metadata": {},
   "outputs": [
    {
     "name": "stdout",
     "output_type": "stream",
     "text": [
      "x_train :  (120, 3)\n"
     ]
    },
    {
     "data": {
      "text/html": [
       "<div>\n",
       "<style scoped>\n",
       "    .dataframe tbody tr th:only-of-type {\n",
       "        vertical-align: middle;\n",
       "    }\n",
       "\n",
       "    .dataframe tbody tr th {\n",
       "        vertical-align: top;\n",
       "    }\n",
       "\n",
       "    .dataframe thead th {\n",
       "        text-align: right;\n",
       "    }\n",
       "</style>\n",
       "<table border=\"1\" class=\"dataframe\">\n",
       "  <thead>\n",
       "    <tr style=\"text-align: right;\">\n",
       "      <th></th>\n",
       "      <th>PC1</th>\n",
       "      <th>PC2</th>\n",
       "      <th>PC3</th>\n",
       "    </tr>\n",
       "  </thead>\n",
       "  <tbody>\n",
       "    <tr>\n",
       "      <th>141</th>\n",
       "      <td>1.903117</td>\n",
       "      <td>0.686025</td>\n",
       "      <td>0.127799</td>\n",
       "    </tr>\n",
       "    <tr>\n",
       "      <th>60</th>\n",
       "      <td>-0.124697</td>\n",
       "      <td>-2.658063</td>\n",
       "      <td>-0.039813</td>\n",
       "    </tr>\n",
       "    <tr>\n",
       "      <th>100</th>\n",
       "      <td>1.847673</td>\n",
       "      <td>0.871697</td>\n",
       "      <td>1.002761</td>\n",
       "    </tr>\n",
       "    <tr>\n",
       "      <th>112</th>\n",
       "      <td>1.884252</td>\n",
       "      <td>0.414333</td>\n",
       "      <td>0.024549</td>\n",
       "    </tr>\n",
       "    <tr>\n",
       "      <th>84</th>\n",
       "      <td>0.221417</td>\n",
       "      <td>-0.280848</td>\n",
       "      <td>0.667560</td>\n",
       "    </tr>\n",
       "    <tr>\n",
       "      <th>...</th>\n",
       "      <td>...</td>\n",
       "      <td>...</td>\n",
       "      <td>...</td>\n",
       "    </tr>\n",
       "    <tr>\n",
       "      <th>138</th>\n",
       "      <td>0.923433</td>\n",
       "      <td>0.019230</td>\n",
       "      <td>0.417394</td>\n",
       "    </tr>\n",
       "    <tr>\n",
       "      <th>56</th>\n",
       "      <td>0.748715</td>\n",
       "      <td>0.778699</td>\n",
       "      <td>0.148656</td>\n",
       "    </tr>\n",
       "    <tr>\n",
       "      <th>144</th>\n",
       "      <td>2.001691</td>\n",
       "      <td>1.048550</td>\n",
       "      <td>0.629269</td>\n",
       "    </tr>\n",
       "    <tr>\n",
       "      <th>88</th>\n",
       "      <td>0.067068</td>\n",
       "      <td>-0.212621</td>\n",
       "      <td>0.294128</td>\n",
       "    </tr>\n",
       "    <tr>\n",
       "      <th>57</th>\n",
       "      <td>-0.497863</td>\n",
       "      <td>-1.848869</td>\n",
       "      <td>0.255555</td>\n",
       "    </tr>\n",
       "  </tbody>\n",
       "</table>\n",
       "<p>120 rows × 3 columns</p>\n",
       "</div>"
      ],
      "text/plain": [
       "          PC1       PC2       PC3\n",
       "141  1.903117  0.686025  0.127799\n",
       "60  -0.124697 -2.658063 -0.039813\n",
       "100  1.847673  0.871697  1.002761\n",
       "112  1.884252  0.414333  0.024549\n",
       "84   0.221417 -0.280848  0.667560\n",
       "..        ...       ...       ...\n",
       "138  0.923433  0.019230  0.417394\n",
       "56   0.748715  0.778699  0.148656\n",
       "144  2.001691  1.048550  0.629269\n",
       "88   0.067068 -0.212621  0.294128\n",
       "57  -0.497863 -1.848869  0.255555\n",
       "\n",
       "[120 rows x 3 columns]"
      ]
     },
     "metadata": {},
     "output_type": "display_data"
    },
    {
     "name": "stdout",
     "output_type": "stream",
     "text": [
      "y_train :  (120, 3) y_train_species :  (120, 1)\n"
     ]
    },
    {
     "data": {
      "text/html": [
       "<div>\n",
       "<style scoped>\n",
       "    .dataframe tbody tr th:only-of-type {\n",
       "        vertical-align: middle;\n",
       "    }\n",
       "\n",
       "    .dataframe tbody tr th {\n",
       "        vertical-align: top;\n",
       "    }\n",
       "\n",
       "    .dataframe thead th {\n",
       "        text-align: right;\n",
       "    }\n",
       "</style>\n",
       "<table border=\"1\" class=\"dataframe\">\n",
       "  <thead>\n",
       "    <tr style=\"text-align: right;\">\n",
       "      <th></th>\n",
       "      <th>setosa</th>\n",
       "      <th>versicolor</th>\n",
       "      <th>virginica</th>\n",
       "    </tr>\n",
       "  </thead>\n",
       "  <tbody>\n",
       "    <tr>\n",
       "      <th>141</th>\n",
       "      <td>0.0</td>\n",
       "      <td>0.0</td>\n",
       "      <td>1.0</td>\n",
       "    </tr>\n",
       "    <tr>\n",
       "      <th>60</th>\n",
       "      <td>0.0</td>\n",
       "      <td>1.0</td>\n",
       "      <td>0.0</td>\n",
       "    </tr>\n",
       "    <tr>\n",
       "      <th>100</th>\n",
       "      <td>0.0</td>\n",
       "      <td>0.0</td>\n",
       "      <td>1.0</td>\n",
       "    </tr>\n",
       "    <tr>\n",
       "      <th>112</th>\n",
       "      <td>0.0</td>\n",
       "      <td>0.0</td>\n",
       "      <td>1.0</td>\n",
       "    </tr>\n",
       "    <tr>\n",
       "      <th>84</th>\n",
       "      <td>0.0</td>\n",
       "      <td>1.0</td>\n",
       "      <td>0.0</td>\n",
       "    </tr>\n",
       "    <tr>\n",
       "      <th>...</th>\n",
       "      <td>...</td>\n",
       "      <td>...</td>\n",
       "      <td>...</td>\n",
       "    </tr>\n",
       "    <tr>\n",
       "      <th>138</th>\n",
       "      <td>0.0</td>\n",
       "      <td>0.0</td>\n",
       "      <td>1.0</td>\n",
       "    </tr>\n",
       "    <tr>\n",
       "      <th>56</th>\n",
       "      <td>0.0</td>\n",
       "      <td>1.0</td>\n",
       "      <td>0.0</td>\n",
       "    </tr>\n",
       "    <tr>\n",
       "      <th>144</th>\n",
       "      <td>0.0</td>\n",
       "      <td>0.0</td>\n",
       "      <td>1.0</td>\n",
       "    </tr>\n",
       "    <tr>\n",
       "      <th>88</th>\n",
       "      <td>0.0</td>\n",
       "      <td>1.0</td>\n",
       "      <td>0.0</td>\n",
       "    </tr>\n",
       "    <tr>\n",
       "      <th>57</th>\n",
       "      <td>0.0</td>\n",
       "      <td>1.0</td>\n",
       "      <td>0.0</td>\n",
       "    </tr>\n",
       "  </tbody>\n",
       "</table>\n",
       "<p>120 rows × 3 columns</p>\n",
       "</div>"
      ],
      "text/plain": [
       "     setosa  versicolor  virginica\n",
       "141     0.0         0.0        1.0\n",
       "60      0.0         1.0        0.0\n",
       "100     0.0         0.0        1.0\n",
       "112     0.0         0.0        1.0\n",
       "84      0.0         1.0        0.0\n",
       "..      ...         ...        ...\n",
       "138     0.0         0.0        1.0\n",
       "56      0.0         1.0        0.0\n",
       "144     0.0         0.0        1.0\n",
       "88      0.0         1.0        0.0\n",
       "57      0.0         1.0        0.0\n",
       "\n",
       "[120 rows x 3 columns]"
      ]
     },
     "metadata": {},
     "output_type": "display_data"
    },
    {
     "data": {
      "text/html": [
       "<div>\n",
       "<style scoped>\n",
       "    .dataframe tbody tr th:only-of-type {\n",
       "        vertical-align: middle;\n",
       "    }\n",
       "\n",
       "    .dataframe tbody tr th {\n",
       "        vertical-align: top;\n",
       "    }\n",
       "\n",
       "    .dataframe thead th {\n",
       "        text-align: right;\n",
       "    }\n",
       "</style>\n",
       "<table border=\"1\" class=\"dataframe\">\n",
       "  <thead>\n",
       "    <tr style=\"text-align: right;\">\n",
       "      <th></th>\n",
       "      <th>species</th>\n",
       "    </tr>\n",
       "  </thead>\n",
       "  <tbody>\n",
       "    <tr>\n",
       "      <th>141</th>\n",
       "      <td>virginica</td>\n",
       "    </tr>\n",
       "    <tr>\n",
       "      <th>60</th>\n",
       "      <td>versicolor</td>\n",
       "    </tr>\n",
       "    <tr>\n",
       "      <th>100</th>\n",
       "      <td>virginica</td>\n",
       "    </tr>\n",
       "    <tr>\n",
       "      <th>112</th>\n",
       "      <td>virginica</td>\n",
       "    </tr>\n",
       "    <tr>\n",
       "      <th>84</th>\n",
       "      <td>versicolor</td>\n",
       "    </tr>\n",
       "    <tr>\n",
       "      <th>...</th>\n",
       "      <td>...</td>\n",
       "    </tr>\n",
       "    <tr>\n",
       "      <th>138</th>\n",
       "      <td>virginica</td>\n",
       "    </tr>\n",
       "    <tr>\n",
       "      <th>56</th>\n",
       "      <td>versicolor</td>\n",
       "    </tr>\n",
       "    <tr>\n",
       "      <th>144</th>\n",
       "      <td>virginica</td>\n",
       "    </tr>\n",
       "    <tr>\n",
       "      <th>88</th>\n",
       "      <td>versicolor</td>\n",
       "    </tr>\n",
       "    <tr>\n",
       "      <th>57</th>\n",
       "      <td>versicolor</td>\n",
       "    </tr>\n",
       "  </tbody>\n",
       "</table>\n",
       "<p>120 rows × 1 columns</p>\n",
       "</div>"
      ],
      "text/plain": [
       "        species\n",
       "141   virginica\n",
       "60   versicolor\n",
       "100   virginica\n",
       "112   virginica\n",
       "84   versicolor\n",
       "..          ...\n",
       "138   virginica\n",
       "56   versicolor\n",
       "144   virginica\n",
       "88   versicolor\n",
       "57   versicolor\n",
       "\n",
       "[120 rows x 1 columns]"
      ]
     },
     "metadata": {},
     "output_type": "display_data"
    }
   ],
   "source": [
    "data_train = pca_df.sample(frac=0.8, axis='index') # on sélectionne au hasard 80% de l'échantillon\n",
    "data_valid  = pca_df.drop(data_train.index) # on sélectionne le reste\n",
    "\n",
    "x_train = data_train[PC]\n",
    "y_train = data_train[['setosa','versicolor','virginica']]\n",
    "y_train_species = data_train[['species']] #sera utile à la fin pour comparer la prédiction et l'espèce réelle\n",
    "\n",
    "x_valid  = data_valid[PC]\n",
    "y_valid  = data_valid[['setosa','versicolor','virginica']]\n",
    "y_valid_species = data_valid[['species']] #sera utile à la fin pour comparer la prédiction et l'espèce réelle\n",
    "\n",
    "print('x_train : ',x_train.shape)\n",
    "display(x_train)\n",
    "print('y_train : ',y_train.shape,'y_train_species : ',y_train_species.shape)\n",
    "display(y_train, y_train_species)"
   ]
  },
  {
   "cell_type": "markdown",
   "id": "df1cc076-8839-498f-98e5-a4c1282e0bc7",
   "metadata": {},
   "source": [
    "##### Definition of the ANN model"
   ]
  },
  {
   "cell_type": "code",
   "execution_count": 16,
   "id": "4b3e2add-d5de-4000-9356-b41c64d3bd95",
   "metadata": {},
   "outputs": [],
   "source": [
    "def get_model(NI): #NI = number of input neurons\n",
    "    \n",
    "    model = keras.models.Sequential()\n",
    "    model.add(keras.layers.Input(NI, name='iLayer'))\n",
    "    model.add(keras.layers.Dense(7, activation='relu', name='hLayer1'))\n",
    "    model.add(keras.layers.Dense(5, activation='relu', name='hLayer2'))\n",
    "    model.add(keras.layers.Dense(3, activation='softmax', name='oLayer'))\n",
    "    \n",
    "    model.compile(optimizer = 'adam',\n",
    "                  loss      = 'categorical_crossentropy',\n",
    "                  metrics   = ['accuracy'] )\n",
    "    return model"
   ]
  },
  {
   "cell_type": "markdown",
   "id": "241899c9-e8ac-46dd-b5ad-4bf5489f9e29",
   "metadata": {},
   "source": [
    "##### Training of the model"
   ]
  },
  {
   "cell_type": "code",
   "execution_count": 17,
   "id": "01c2bf57-d263-4255-ab4f-982fa733a346",
   "metadata": {},
   "outputs": [
    {
     "name": "stdout",
     "output_type": "stream",
     "text": [
      "x_train. Structure (shape) : (120, 3)\n",
      "x_valid. Structure (shape) : (30, 3)\n",
      "y_train. Structure (shape) : (120, 3)\n",
      "y_valid. Structure (shape) : (30, 3)\n",
      "Model: \"sequential\"\n",
      "_________________________________________________________________\n",
      " Layer (type)                Output Shape              Param #   \n",
      "=================================================================\n",
      " hLayer1 (Dense)             (None, 7)                 28        \n",
      "                                                                 \n",
      " hLayer2 (Dense)             (None, 5)                 40        \n",
      "                                                                 \n",
      " oLayer (Dense)              (None, 3)                 18        \n",
      "                                                                 \n",
      "=================================================================\n",
      "Total params: 86\n",
      "Trainable params: 86\n",
      "Non-trainable params: 0\n",
      "_________________________________________________________________\n",
      "Epoch 1/700\n"
     ]
    },
    {
     "name": "stderr",
     "output_type": "stream",
     "text": [
      "2022-06-30 12:36:03.146818: W tensorflow/stream_executor/platform/default/dso_loader.cc:64] Could not load dynamic library 'libcuda.so.1'; dlerror: libcuda.so.1: cannot open shared object file: No such file or directory\n",
      "2022-06-30 12:36:03.146861: W tensorflow/stream_executor/cuda/cuda_driver.cc:269] failed call to cuInit: UNKNOWN ERROR (303)\n",
      "2022-06-30 12:36:03.146891: I tensorflow/stream_executor/cuda/cuda_diagnostics.cc:156] kernel driver does not appear to be running on this host (localhost.localdomain): /proc/driver/nvidia/version does not exist\n",
      "2022-06-30 12:36:03.147234: I tensorflow/core/platform/cpu_feature_guard.cc:193] This TensorFlow binary is optimized with oneAPI Deep Neural Network Library (oneDNN) to use the following CPU instructions in performance-critical operations:  AVX2 FMA\n",
      "To enable them in other operations, rebuild TensorFlow with the appropriate compiler flags.\n"
     ]
    },
    {
     "name": "stdout",
     "output_type": "stream",
     "text": [
      "24/24 [==============================] - 1s 14ms/step - loss: 1.2943 - accuracy: 0.4667 - val_loss: 1.2647 - val_accuracy: 0.5333\n",
      "Epoch 2/700\n",
      "24/24 [==============================] - 0s 3ms/step - loss: 1.2109 - accuracy: 0.5500 - val_loss: 1.1832 - val_accuracy: 0.5333\n",
      "Epoch 3/700\n",
      "24/24 [==============================] - 0s 3ms/step - loss: 1.1382 - accuracy: 0.6083 - val_loss: 1.1081 - val_accuracy: 0.6333\n",
      "Epoch 4/700\n",
      "24/24 [==============================] - 0s 3ms/step - loss: 1.0692 - accuracy: 0.6417 - val_loss: 1.0389 - val_accuracy: 0.6333\n",
      "Epoch 5/700\n",
      "24/24 [==============================] - 0s 3ms/step - loss: 1.0045 - accuracy: 0.6667 - val_loss: 0.9756 - val_accuracy: 0.6333\n",
      "Epoch 6/700\n",
      "24/24 [==============================] - 0s 3ms/step - loss: 0.9426 - accuracy: 0.6667 - val_loss: 0.9162 - val_accuracy: 0.6333\n",
      "Epoch 7/700\n",
      "24/24 [==============================] - 0s 3ms/step - loss: 0.8842 - accuracy: 0.6667 - val_loss: 0.8583 - val_accuracy: 0.6333\n",
      "Epoch 8/700\n",
      "24/24 [==============================] - 0s 3ms/step - loss: 0.8300 - accuracy: 0.6417 - val_loss: 0.8042 - val_accuracy: 0.6333\n",
      "Epoch 9/700\n",
      "24/24 [==============================] - 0s 4ms/step - loss: 0.7802 - accuracy: 0.6167 - val_loss: 0.7551 - val_accuracy: 0.6333\n",
      "Epoch 10/700\n",
      "24/24 [==============================] - 0s 3ms/step - loss: 0.7343 - accuracy: 0.6333 - val_loss: 0.7118 - val_accuracy: 0.6333\n",
      "Epoch 11/700\n",
      "24/24 [==============================] - 0s 3ms/step - loss: 0.6940 - accuracy: 0.6833 - val_loss: 0.6716 - val_accuracy: 0.6333\n",
      "Epoch 12/700\n",
      "24/24 [==============================] - 0s 4ms/step - loss: 0.6563 - accuracy: 0.7250 - val_loss: 0.6345 - val_accuracy: 0.6000\n",
      "Epoch 13/700\n",
      "24/24 [==============================] - 0s 3ms/step - loss: 0.6207 - accuracy: 0.7750 - val_loss: 0.5999 - val_accuracy: 0.6333\n",
      "Epoch 14/700\n",
      "24/24 [==============================] - 0s 3ms/step - loss: 0.5879 - accuracy: 0.7833 - val_loss: 0.5618 - val_accuracy: 0.7000\n",
      "Epoch 15/700\n",
      "24/24 [==============================] - 0s 3ms/step - loss: 0.5571 - accuracy: 0.8167 - val_loss: 0.5284 - val_accuracy: 0.7333\n",
      "Epoch 16/700\n",
      "24/24 [==============================] - 0s 4ms/step - loss: 0.5304 - accuracy: 0.8000 - val_loss: 0.4988 - val_accuracy: 0.7667\n",
      "Epoch 17/700\n",
      "24/24 [==============================] - 0s 4ms/step - loss: 0.5077 - accuracy: 0.7917 - val_loss: 0.4747 - val_accuracy: 0.8667\n",
      "Epoch 18/700\n",
      "24/24 [==============================] - 0s 4ms/step - loss: 0.4887 - accuracy: 0.7750 - val_loss: 0.4505 - val_accuracy: 0.8667\n",
      "Epoch 19/700\n",
      "24/24 [==============================] - 0s 3ms/step - loss: 0.4711 - accuracy: 0.7917 - val_loss: 0.4324 - val_accuracy: 0.8667\n",
      "Epoch 20/700\n",
      "24/24 [==============================] - 0s 4ms/step - loss: 0.4559 - accuracy: 0.8000 - val_loss: 0.4171 - val_accuracy: 0.9000\n",
      "Epoch 21/700\n",
      "24/24 [==============================] - 0s 3ms/step - loss: 0.4422 - accuracy: 0.8083 - val_loss: 0.3987 - val_accuracy: 0.9000\n",
      "Epoch 22/700\n",
      "24/24 [==============================] - 0s 3ms/step - loss: 0.4306 - accuracy: 0.8083 - val_loss: 0.3831 - val_accuracy: 0.9000\n",
      "Epoch 23/700\n",
      "24/24 [==============================] - 0s 3ms/step - loss: 0.4195 - accuracy: 0.8000 - val_loss: 0.3723 - val_accuracy: 0.9000\n",
      "Epoch 24/700\n",
      "24/24 [==============================] - 0s 3ms/step - loss: 0.4100 - accuracy: 0.8000 - val_loss: 0.3592 - val_accuracy: 0.9333\n",
      "Epoch 25/700\n",
      "24/24 [==============================] - 0s 3ms/step - loss: 0.4011 - accuracy: 0.8000 - val_loss: 0.3486 - val_accuracy: 0.9333\n",
      "Epoch 26/700\n",
      "24/24 [==============================] - 0s 3ms/step - loss: 0.3922 - accuracy: 0.8167 - val_loss: 0.3377 - val_accuracy: 0.9333\n",
      "Epoch 27/700\n",
      "24/24 [==============================] - 0s 3ms/step - loss: 0.3836 - accuracy: 0.8333 - val_loss: 0.3267 - val_accuracy: 0.9333\n",
      "Epoch 28/700\n",
      "24/24 [==============================] - 0s 4ms/step - loss: 0.3747 - accuracy: 0.8500 - val_loss: 0.3178 - val_accuracy: 0.9333\n",
      "Epoch 29/700\n",
      "24/24 [==============================] - 0s 3ms/step - loss: 0.3664 - accuracy: 0.8583 - val_loss: 0.3080 - val_accuracy: 0.9333\n",
      "Epoch 30/700\n",
      "24/24 [==============================] - 0s 3ms/step - loss: 0.3580 - accuracy: 0.8583 - val_loss: 0.2987 - val_accuracy: 0.9333\n",
      "Epoch 31/700\n",
      "24/24 [==============================] - 0s 3ms/step - loss: 0.3503 - accuracy: 0.8750 - val_loss: 0.2915 - val_accuracy: 0.9333\n",
      "Epoch 32/700\n",
      "24/24 [==============================] - 0s 3ms/step - loss: 0.3406 - accuracy: 0.8750 - val_loss: 0.2804 - val_accuracy: 0.9333\n",
      "Epoch 33/700\n",
      "24/24 [==============================] - 0s 4ms/step - loss: 0.3308 - accuracy: 0.8750 - val_loss: 0.2707 - val_accuracy: 0.9333\n",
      "Epoch 34/700\n",
      "24/24 [==============================] - 0s 3ms/step - loss: 0.3211 - accuracy: 0.8833 - val_loss: 0.2610 - val_accuracy: 0.9333\n",
      "Epoch 35/700\n",
      "24/24 [==============================] - 0s 3ms/step - loss: 0.3112 - accuracy: 0.8917 - val_loss: 0.2517 - val_accuracy: 0.9333\n",
      "Epoch 36/700\n",
      "24/24 [==============================] - 0s 4ms/step - loss: 0.3012 - accuracy: 0.9000 - val_loss: 0.2382 - val_accuracy: 0.9667\n",
      "Epoch 37/700\n",
      "24/24 [==============================] - 0s 3ms/step - loss: 0.2880 - accuracy: 0.9083 - val_loss: 0.2275 - val_accuracy: 0.9667\n",
      "Epoch 38/700\n",
      "24/24 [==============================] - 0s 3ms/step - loss: 0.2760 - accuracy: 0.9167 - val_loss: 0.2163 - val_accuracy: 0.9667\n",
      "Epoch 39/700\n",
      "24/24 [==============================] - 0s 3ms/step - loss: 0.2653 - accuracy: 0.9083 - val_loss: 0.2065 - val_accuracy: 0.9667\n",
      "Epoch 40/700\n",
      "24/24 [==============================] - 0s 4ms/step - loss: 0.2542 - accuracy: 0.9000 - val_loss: 0.1936 - val_accuracy: 0.9667\n",
      "Epoch 41/700\n",
      "24/24 [==============================] - 0s 3ms/step - loss: 0.2422 - accuracy: 0.9250 - val_loss: 0.1837 - val_accuracy: 0.9667\n",
      "Epoch 42/700\n",
      "24/24 [==============================] - 0s 3ms/step - loss: 0.2307 - accuracy: 0.9333 - val_loss: 0.1727 - val_accuracy: 0.9667\n",
      "Epoch 43/700\n",
      "24/24 [==============================] - 0s 3ms/step - loss: 0.2201 - accuracy: 0.9333 - val_loss: 0.1631 - val_accuracy: 0.9667\n",
      "Epoch 44/700\n",
      "24/24 [==============================] - 0s 3ms/step - loss: 0.2103 - accuracy: 0.9500 - val_loss: 0.1557 - val_accuracy: 0.9667\n",
      "Epoch 45/700\n",
      "24/24 [==============================] - 0s 3ms/step - loss: 0.2008 - accuracy: 0.9500 - val_loss: 0.1475 - val_accuracy: 0.9667\n",
      "Epoch 46/700\n",
      "24/24 [==============================] - 0s 3ms/step - loss: 0.1924 - accuracy: 0.9500 - val_loss: 0.1402 - val_accuracy: 0.9667\n",
      "Epoch 47/700\n",
      "24/24 [==============================] - 0s 5ms/step - loss: 0.1837 - accuracy: 0.9500 - val_loss: 0.1332 - val_accuracy: 0.9667\n",
      "Epoch 48/700\n",
      "24/24 [==============================] - 0s 4ms/step - loss: 0.1765 - accuracy: 0.9583 - val_loss: 0.1274 - val_accuracy: 0.9667\n",
      "Epoch 49/700\n",
      "24/24 [==============================] - 0s 3ms/step - loss: 0.1689 - accuracy: 0.9667 - val_loss: 0.1221 - val_accuracy: 0.9667\n",
      "Epoch 50/700\n",
      "24/24 [==============================] - 0s 3ms/step - loss: 0.1622 - accuracy: 0.9667 - val_loss: 0.1162 - val_accuracy: 0.9667\n",
      "Epoch 51/700\n",
      "24/24 [==============================] - 0s 3ms/step - loss: 0.1554 - accuracy: 0.9583 - val_loss: 0.1115 - val_accuracy: 0.9667\n",
      "Epoch 52/700\n",
      "24/24 [==============================] - 0s 4ms/step - loss: 0.1491 - accuracy: 0.9667 - val_loss: 0.1071 - val_accuracy: 0.9667\n",
      "Epoch 53/700\n",
      "24/24 [==============================] - 0s 3ms/step - loss: 0.1436 - accuracy: 0.9667 - val_loss: 0.1035 - val_accuracy: 0.9667\n",
      "Epoch 54/700\n",
      "24/24 [==============================] - 0s 3ms/step - loss: 0.1378 - accuracy: 0.9667 - val_loss: 0.0996 - val_accuracy: 0.9667\n",
      "Epoch 55/700\n",
      "24/24 [==============================] - 0s 3ms/step - loss: 0.1319 - accuracy: 0.9667 - val_loss: 0.0961 - val_accuracy: 0.9667\n",
      "Epoch 56/700\n",
      "24/24 [==============================] - 0s 3ms/step - loss: 0.1261 - accuracy: 0.9667 - val_loss: 0.0931 - val_accuracy: 0.9667\n",
      "Epoch 57/700\n",
      "24/24 [==============================] - 0s 3ms/step - loss: 0.1217 - accuracy: 0.9667 - val_loss: 0.0891 - val_accuracy: 0.9667\n",
      "Epoch 58/700\n",
      "24/24 [==============================] - 0s 3ms/step - loss: 0.1147 - accuracy: 0.9667 - val_loss: 0.0879 - val_accuracy: 0.9667\n",
      "Epoch 59/700\n",
      "24/24 [==============================] - 0s 3ms/step - loss: 0.1105 - accuracy: 0.9667 - val_loss: 0.0832 - val_accuracy: 0.9667\n",
      "Epoch 60/700\n",
      "24/24 [==============================] - 0s 3ms/step - loss: 0.1065 - accuracy: 0.9750 - val_loss: 0.0820 - val_accuracy: 0.9667\n",
      "Epoch 61/700\n",
      "24/24 [==============================] - 0s 3ms/step - loss: 0.1021 - accuracy: 0.9750 - val_loss: 0.0784 - val_accuracy: 0.9667\n",
      "Epoch 62/700\n",
      "24/24 [==============================] - 0s 3ms/step - loss: 0.0985 - accuracy: 0.9750 - val_loss: 0.0779 - val_accuracy: 0.9667\n",
      "Epoch 63/700\n",
      "24/24 [==============================] - 0s 3ms/step - loss: 0.0948 - accuracy: 0.9750 - val_loss: 0.0752 - val_accuracy: 0.9667\n",
      "Epoch 64/700\n",
      "24/24 [==============================] - 0s 3ms/step - loss: 0.0921 - accuracy: 0.9750 - val_loss: 0.0748 - val_accuracy: 0.9667\n",
      "Epoch 65/700\n",
      "24/24 [==============================] - 0s 3ms/step - loss: 0.0881 - accuracy: 0.9750 - val_loss: 0.0737 - val_accuracy: 0.9667\n",
      "Epoch 66/700\n",
      "24/24 [==============================] - 0s 3ms/step - loss: 0.0870 - accuracy: 0.9750 - val_loss: 0.0692 - val_accuracy: 0.9667\n",
      "Epoch 67/700\n",
      "24/24 [==============================] - 0s 4ms/step - loss: 0.0844 - accuracy: 0.9750 - val_loss: 0.0743 - val_accuracy: 0.9667\n",
      "Epoch 68/700\n",
      "24/24 [==============================] - 0s 3ms/step - loss: 0.0806 - accuracy: 0.9750 - val_loss: 0.0715 - val_accuracy: 0.9667\n",
      "Epoch 69/700\n",
      "24/24 [==============================] - 0s 3ms/step - loss: 0.0793 - accuracy: 0.9750 - val_loss: 0.0747 - val_accuracy: 0.9667\n",
      "Epoch 70/700\n",
      "24/24 [==============================] - 0s 4ms/step - loss: 0.0777 - accuracy: 0.9750 - val_loss: 0.0688 - val_accuracy: 0.9667\n",
      "Epoch 71/700\n",
      "24/24 [==============================] - 0s 3ms/step - loss: 0.0742 - accuracy: 0.9833 - val_loss: 0.0693 - val_accuracy: 0.9667\n",
      "Epoch 72/700\n",
      "24/24 [==============================] - 0s 3ms/step - loss: 0.0727 - accuracy: 0.9833 - val_loss: 0.0707 - val_accuracy: 0.9667\n",
      "Epoch 73/700\n",
      "24/24 [==============================] - 0s 3ms/step - loss: 0.0713 - accuracy: 0.9833 - val_loss: 0.0678 - val_accuracy: 0.9667\n",
      "Epoch 74/700\n",
      "24/24 [==============================] - 0s 3ms/step - loss: 0.0700 - accuracy: 0.9833 - val_loss: 0.0686 - val_accuracy: 0.9667\n",
      "Epoch 75/700\n",
      "24/24 [==============================] - 0s 3ms/step - loss: 0.0685 - accuracy: 0.9833 - val_loss: 0.0712 - val_accuracy: 0.9667\n",
      "Epoch 76/700\n",
      "24/24 [==============================] - 0s 3ms/step - loss: 0.0683 - accuracy: 0.9833 - val_loss: 0.0644 - val_accuracy: 0.9667\n",
      "Epoch 77/700\n",
      "24/24 [==============================] - 0s 3ms/step - loss: 0.0666 - accuracy: 0.9833 - val_loss: 0.0726 - val_accuracy: 0.9667\n",
      "Epoch 78/700\n",
      "24/24 [==============================] - 0s 3ms/step - loss: 0.0642 - accuracy: 0.9833 - val_loss: 0.0672 - val_accuracy: 0.9667\n",
      "Epoch 79/700\n",
      "24/24 [==============================] - 0s 3ms/step - loss: 0.0646 - accuracy: 0.9833 - val_loss: 0.0634 - val_accuracy: 0.9667\n",
      "Epoch 80/700\n",
      "24/24 [==============================] - 0s 3ms/step - loss: 0.0645 - accuracy: 0.9833 - val_loss: 0.0644 - val_accuracy: 0.9667\n",
      "Epoch 81/700\n",
      "24/24 [==============================] - 0s 3ms/step - loss: 0.0619 - accuracy: 0.9833 - val_loss: 0.0711 - val_accuracy: 0.9667\n",
      "Epoch 82/700\n",
      "24/24 [==============================] - 0s 3ms/step - loss: 0.0610 - accuracy: 0.9833 - val_loss: 0.0714 - val_accuracy: 0.9667\n",
      "Epoch 83/700\n",
      "24/24 [==============================] - 0s 3ms/step - loss: 0.0620 - accuracy: 0.9833 - val_loss: 0.0628 - val_accuracy: 0.9667\n",
      "Epoch 84/700\n",
      "24/24 [==============================] - 0s 4ms/step - loss: 0.0600 - accuracy: 0.9833 - val_loss: 0.0689 - val_accuracy: 0.9667\n",
      "Epoch 85/700\n",
      "24/24 [==============================] - 0s 3ms/step - loss: 0.0584 - accuracy: 0.9833 - val_loss: 0.0691 - val_accuracy: 0.9667\n",
      "Epoch 86/700\n",
      "24/24 [==============================] - 0s 3ms/step - loss: 0.0580 - accuracy: 0.9833 - val_loss: 0.0653 - val_accuracy: 0.9667\n",
      "Epoch 87/700\n",
      "24/24 [==============================] - 0s 4ms/step - loss: 0.0587 - accuracy: 0.9833 - val_loss: 0.0663 - val_accuracy: 0.9667\n",
      "Epoch 88/700\n",
      "24/24 [==============================] - 0s 3ms/step - loss: 0.0566 - accuracy: 0.9833 - val_loss: 0.0654 - val_accuracy: 0.9667\n",
      "Epoch 89/700\n",
      "24/24 [==============================] - 0s 3ms/step - loss: 0.0560 - accuracy: 0.9833 - val_loss: 0.0621 - val_accuracy: 0.9667\n",
      "Epoch 90/700\n",
      "24/24 [==============================] - 0s 3ms/step - loss: 0.0552 - accuracy: 0.9833 - val_loss: 0.0668 - val_accuracy: 0.9667\n",
      "Epoch 91/700\n",
      "24/24 [==============================] - 0s 3ms/step - loss: 0.0548 - accuracy: 0.9833 - val_loss: 0.0716 - val_accuracy: 0.9667\n",
      "Epoch 92/700\n",
      "24/24 [==============================] - 0s 3ms/step - loss: 0.0552 - accuracy: 0.9833 - val_loss: 0.0637 - val_accuracy: 0.9667\n",
      "Epoch 93/700\n",
      "24/24 [==============================] - 0s 3ms/step - loss: 0.0537 - accuracy: 0.9833 - val_loss: 0.0656 - val_accuracy: 0.9667\n",
      "Epoch 94/700\n",
      "24/24 [==============================] - 0s 3ms/step - loss: 0.0542 - accuracy: 0.9833 - val_loss: 0.0697 - val_accuracy: 0.9667\n",
      "Epoch 95/700\n",
      "24/24 [==============================] - 0s 3ms/step - loss: 0.0528 - accuracy: 0.9833 - val_loss: 0.0683 - val_accuracy: 0.9667\n",
      "Epoch 96/700\n",
      "24/24 [==============================] - 0s 3ms/step - loss: 0.0517 - accuracy: 0.9833 - val_loss: 0.0647 - val_accuracy: 0.9667\n",
      "Epoch 97/700\n",
      "24/24 [==============================] - 0s 3ms/step - loss: 0.0518 - accuracy: 0.9833 - val_loss: 0.0663 - val_accuracy: 0.9667\n",
      "Epoch 98/700\n",
      "24/24 [==============================] - 0s 3ms/step - loss: 0.0515 - accuracy: 0.9833 - val_loss: 0.0687 - val_accuracy: 0.9667\n",
      "Epoch 99/700\n",
      "24/24 [==============================] - 0s 3ms/step - loss: 0.0505 - accuracy: 0.9833 - val_loss: 0.0650 - val_accuracy: 0.9667\n",
      "Epoch 99: early stopping\n",
      "\n",
      "Duration :  00:00:09 098ms\n"
     ]
    }
   ],
   "source": [
    "vID.chrono_start()\n",
    "from tensorflow.keras.callbacks import EarlyStopping\n",
    "es = EarlyStopping(monitor='val_loss', mode='min', verbose=1, patience=10)\n",
    "print(f\"x_train. Structure (shape) : {x_train.shape}\")\n",
    "print(f\"x_valid. Structure (shape) : {x_valid.shape}\")\n",
    "print(f\"y_train. Structure (shape) : {y_train.shape}\")\n",
    "print(f\"y_valid. Structure (shape) : {y_valid.shape}\")\n",
    "ANNmodel=get_model( (pca.n_components_,)) # pca.n_components_ PC => pca.n_components_ input neurons\n",
    "ANNmodel.summary()\n",
    "vID.chrono_start()\n",
    "ANNhistory = ANNmodel.fit(x_train,\n",
    "                    y_train,\n",
    "                    epochs          = 700,\n",
    "                    batch_size      = 5,\n",
    "                    verbose         = 1,\n",
    "                    validation_data = (x_valid, y_valid),\n",
    "                    callbacks=[es])\n",
    "vID.chrono_show()"
   ]
  },
  {
   "cell_type": "markdown",
   "id": "6a09c7ae-7ff4-4d96-8e5d-7d8a990ed9b4",
   "metadata": {},
   "source": [
    "##### Evaluation of the model"
   ]
  },
  {
   "cell_type": "code",
   "execution_count": 18,
   "id": "9df3c628-9dd4-4c02-ae0c-9b347ceadd18",
   "metadata": {},
   "outputs": [
    {
     "name": "stdout",
     "output_type": "stream",
     "text": [
      "\u001b[92mx_train / loss      : 0.0500\u001b[0m\n",
      "\u001b[92mx_train/ accurracy  : 0.9833\u001b[0m\n",
      "\n",
      "\u001b[94mx_valid / loss      : 0.0650\u001b[0m\n",
      "\u001b[94mx_valid/ accurracy  : 0.9667\u001b[0m\n"
     ]
    }
   ],
   "source": [
    "evalANN_on_Train = ANNmodel.evaluate(x_train, y_train, verbose=0)\n",
    "print(f\"{color.GREEN}x_train / loss      : {evalANN_on_Train[0]:5.4f}{color.OFF}\")\n",
    "print(f\"{color.GREEN}x_train/ accurracy  : {evalANN_on_Train[1]:5.4f}{color.OFF}\")\n",
    "print()\n",
    "evalANN_on_Valid = ANNmodel.evaluate(x_valid, y_valid, verbose=0)\n",
    "print(f\"{color.BLUE}x_valid / loss      : {evalANN_on_Valid[0]:5.4f}{color.OFF}\")\n",
    "print(f\"{color.BLUE}x_valid/ accurracy  : {evalANN_on_Valid[1]:5.4f}{color.OFF}\")"
   ]
  },
  {
   "cell_type": "markdown",
   "id": "7d6a342b-fae9-4955-ad27-00d8b7cd4d28",
   "metadata": {},
   "source": [
    "##### Confusion matrices"
   ]
  },
  {
   "cell_type": "code",
   "execution_count": 19,
   "id": "0223eba3-c189-4418-9b89-681fe9ef328f",
   "metadata": {},
   "outputs": [
    {
     "name": "stdout",
     "output_type": "stream",
     "text": [
      "4/4 [==============================] - 0s 2ms/step\n",
      "1/1 [==============================] - 0s 24ms/step\n"
     ]
    },
    {
     "data": {
      "image/png": "[encoded data removed]",
      "text/plain": [
       "<Figure size 864x360 with 4 Axes>"
      ]
     },
     "metadata": {
      "needs_background": "light"
     },
     "output_type": "display_data"
    }
   ],
   "source": [
    "from sklearn.metrics import ConfusionMatrixDisplay\n",
    "from sklearn.metrics import confusion_matrix\n",
    "import matplotlib.gridspec as gridspec\n",
    "import seaborn as sb\n",
    "\n",
    "usp = dfi['species'].unique()\n",
    "y_train_hat=ANNmodel.predict(x_train)\n",
    "y_valid_hat=ANNmodel.predict(x_valid)\n",
    "\n",
    "cm_labels = dfi['species'].unique()\n",
    "cm_tr = confusion_matrix(np.argmax(y_train.to_numpy(),axis=1), np.argmax(y_train_hat,axis=1))\n",
    "cm_tt = confusion_matrix(np.argmax(y_valid.to_numpy(),axis=1), np.argmax(y_valid_hat,axis=1))\n",
    "\n",
    "fig=plt.figure(figsize=(12, 5))\n",
    "gs = gridspec.GridSpec(nrows=1, ncols=2, width_ratios=[1, 1])\n",
    "\n",
    "ax00 = fig.add_subplot(gs[0, 0], title=\"Training set. Confusion matrix\")\n",
    "sb.heatmap(pd.DataFrame(cm_tr, columns=cm_labels, index=cm_labels), ax=ax00, cmap=plt.cm.Blues, annot = True)\n",
    "ax00.set_xlabel(\"predicted\", fontsize = 20)\n",
    "ax00.set_ylabel(\"actual\", fontsize = 20)\n",
    "\n",
    "ax01=fig.add_subplot(gs[0, 1], title=\"Validation set. Confusion matrix\")\n",
    "sb.heatmap(pd.DataFrame(cm_tt, columns=cm_labels, index=cm_labels), ax=ax01, cmap=plt.cm.Blues, annot = True)\n",
    "ax01.set_xlabel(\"predicted\", fontsize = 20)\n",
    "ax01.set_ylabel(\"actual\", fontsize = 20)\n",
    "plt.show()"
   ]
  },
  {
   "cell_type": "markdown",
   "id": "8137ac93-a9dc-460e-84a4-81e05619c86c",
   "metadata": {},
   "source": [
    "<div class=\"warn\">\n",
    "    \n",
    "This 3 principal components-based ML does almost as good as the 4 features ML developped in [Exercice 3](./Iris3-ExoCorrigé.ipynb). It is a modest lowering of the features space, but this simple example examplifies the interest and relevance of doing **data compression**.\n",
    "</div>"
   ]
  },
  {
   "cell_type": "code",
   "execution_count": 20,
   "id": "af354bcb",
   "metadata": {
    "scrolled": true,
    "tags": []
   },
   "outputs": [
    {
     "data": {
      "text/markdown": [
       "**End at:** Thursday 30 June 2022, 12:36:44  \n",
       "**Duration:** 00:01:28 871ms"
      ],
      "text/plain": [
       "<IPython.core.display.Markdown object>"
      ]
     },
     "metadata": {},
     "output_type": "display_data"
    },
    {
     "data": {
      "text/markdown": [
       "<p style=\"text-align: center\"><img width=\"800px\" src=\"./svg/logoEnd.svg\" style=\"margin-left:auto; margin-right:auto\"/></p>"
      ],
      "text/plain": [
       "<IPython.core.display.Markdown object>"
      ]
     },
     "metadata": {},
     "output_type": "display_data"
    }
   ],
   "source": [
    "vID.end()"
   ]
  },
  {
   "cell_type": "code",
   "execution_count": null,
   "id": "e50b614c-473e-4f72-acaa-e8202e8ce7e5",
   "metadata": {},
   "outputs": [],
   "source": []
  }
 ],
 "metadata": {
  "kernelspec": {
   "display_name": "Python 3 (ipykernel)",
   "language": "python",
   "name": "python3"
  },
  "language_info": {
   "codemirror_mode": {
    "name": "ipython",
    "version": 3
   },
   "file_extension": ".py",
   "mimetype": "text/x-python",
   "name": "python",
   "nbconvert_exporter": "python",
   "pygments_lexer": "ipython3",
   "version": "3.10.5"
  },
  "toc-autonumbering": false,
  "toc-showmarkdowntxt": false
 },
 "nbformat": 4,
 "nbformat_minor": 5
}
