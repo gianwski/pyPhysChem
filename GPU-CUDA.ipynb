{
 "cells": [
  {
   "cell_type": "code",
   "execution_count": 1,
   "id": "ccf01dd1-6a31-4f35-95a1-cca0b05d4dd4",
   "metadata": {},
   "outputs": [
    {
     "name": "stderr",
     "output_type": "stream",
     "text": [
      "2023-12-28 12:07:26.185653: I tensorflow/core/util/port.cc:113] oneDNN custom operations are on. You may see slightly different numerical results due to floating-point round-off errors from different computation orders. To turn them off, set the environment variable `TF_ENABLE_ONEDNN_OPTS=0`.\n",
      "2023-12-28 12:07:26.296942: E external/local_xla/xla/stream_executor/cuda/cuda_dnn.cc:9261] Unable to register cuDNN factory: Attempting to register factory for plugin cuDNN when one has already been registered\n",
      "2023-12-28 12:07:26.296974: E external/local_xla/xla/stream_executor/cuda/cuda_fft.cc:607] Unable to register cuFFT factory: Attempting to register factory for plugin cuFFT when one has already been registered\n",
      "2023-12-28 12:07:26.305840: E external/local_xla/xla/stream_executor/cuda/cuda_blas.cc:1515] Unable to register cuBLAS factory: Attempting to register factory for plugin cuBLAS when one has already been registered\n",
      "2023-12-28 12:07:26.334017: I tensorflow/core/platform/cpu_feature_guard.cc:182] This TensorFlow binary is optimized to use available CPU instructions in performance-critical operations.\n",
      "To enable the following instructions: AVX2 AVX_VNNI FMA, in other operations, rebuild TensorFlow with the appropriate compiler flags.\n",
      "2023-12-28 12:07:27.215613: W tensorflow/compiler/tf2tensorrt/utils/py_utils.cc:38] TF-TRT Warning: Could not find TensorRT\n"
     ]
    },
    {
     "name": "stdout",
     "output_type": "stream",
     "text": [
      "WARNING:tensorflow:From /tmp/ipykernel_10844/2015153539.py:19: is_gpu_available (from tensorflow.python.framework.test_util) is deprecated and will be removed in a future version.\n",
      "Instructions for updating:\n",
      "Use `tf.config.list_physical_devices('GPU')` instead.\n",
      "GPU ?  False\n",
      "[name: \"/device:CPU:0\"\n",
      "device_type: \"CPU\"\n",
      "memory_limit: 268435456\n",
      "locality {\n",
      "}\n",
      "incarnation: 6817752373277914551\n",
      "xla_global_id: -1\n",
      "]\n"
     ]
    },
    {
     "name": "stderr",
     "output_type": "stream",
     "text": [
      "2023-12-28 12:07:28.391877: E external/local_xla/xla/stream_executor/cuda/cuda_driver.cc:274] failed call to cuInit: CUDA_ERROR_NO_DEVICE: no CUDA-capable device is detected\n"
     ]
    },
    {
     "ename": "AttributeError",
     "evalue": "module 'tensorflow' has no attribute 'ConfigProto'",
     "output_type": "error",
     "traceback": [
      "\u001b[0;31m---------------------------------------------------------------------------\u001b[0m",
      "\u001b[0;31mAttributeError\u001b[0m                            Traceback (most recent call last)",
      "Cell \u001b[0;32mIn[1], line 39\u001b[0m\n\u001b[1;32m     33\u001b[0m num_cores \u001b[38;5;241m=\u001b[39m \u001b[38;5;241m6\u001b[39m\n\u001b[1;32m     35\u001b[0m \u001b[38;5;66;03m# control of GPU or CPU usage in the TF environment\u001b[39;00m\n\u001b[1;32m     36\u001b[0m \u001b[38;5;66;03m# -------------------------------------------------\u001b[39;00m\n\u001b[1;32m     37\u001b[0m \u001b[38;5;66;03m# See the literature links at the article's end for more information  \u001b[39;00m\n\u001b[0;32m---> 39\u001b[0m config \u001b[38;5;241m=\u001b[39m \u001b[43mtf\u001b[49m\u001b[38;5;241;43m.\u001b[39;49m\u001b[43mConfigProto\u001b[49m(intra_op_parallelism_threads\u001b[38;5;241m=\u001b[39mnum_cores,\n\u001b[1;32m     40\u001b[0m                         inter_op_parallelism_threads\u001b[38;5;241m=\u001b[39mnum_cores, \n\u001b[1;32m     41\u001b[0m                         allow_soft_placement\u001b[38;5;241m=\u001b[39m\u001b[38;5;28;01mTrue\u001b[39;00m,\n\u001b[1;32m     42\u001b[0m                         device_count \u001b[38;5;241m=\u001b[39m {\u001b[38;5;124m'\u001b[39m\u001b[38;5;124mCPU\u001b[39m\u001b[38;5;124m'\u001b[39m : num_CPU,\n\u001b[1;32m     43\u001b[0m                                         \u001b[38;5;124m'\u001b[39m\u001b[38;5;124mGPU\u001b[39m\u001b[38;5;124m'\u001b[39m : num_GPU}, \n\u001b[1;32m     44\u001b[0m                         log_device_placement\u001b[38;5;241m=\u001b[39m\u001b[38;5;28;01mTrue\u001b[39;00m\n\u001b[1;32m     45\u001b[0m \n\u001b[1;32m     46\u001b[0m                        )\n\u001b[1;32m     47\u001b[0m config\u001b[38;5;241m.\u001b[39mgpu_options\u001b[38;5;241m.\u001b[39mper_process_gpu_memory_\n\u001b[1;32m     48\u001b[0m fraction\u001b[38;5;241m=\u001b[39m\u001b[38;5;241m0.4\u001b[39m\n",
      "\u001b[0;31mAttributeError\u001b[0m: module 'tensorflow' has no attribute 'ConfigProto'"
     ]
    }
   ],
   "source": [
    "import time \n",
    "import tensorflow as tf\n",
    "from keras import backend as K\n",
    "from tensorflow.python.client import device_lib\n",
    "from keras.datasets import mnist\n",
    "from keras import models\n",
    "from keras import layers\n",
    "from keras.utils import to_categorical\n",
    "\n",
    "# function to provide CPU/GPU information \n",
    "# ---------------------------------------\n",
    "def get_CPU_GPU_details():\n",
    "    print(\"GPU ? \", tf.test.is_gpu_available())\n",
    "    tf.test.gpu_device_name()\n",
    "    print(device_lib.list_local_devices())\n",
    "\n",
    "# information on available CPUs/GPUs\n",
    "# --------------------------------------\n",
    "if tf.test.is_gpu_available(\n",
    "    cuda_only=False,\n",
    "    min_cuda_compute_capability=None):\n",
    "    print (\"GPU is available\")\n",
    "get_CPU_GPU_details()\n",
    "\n",
    "# Setting a parameter GPU or CPU usage \n",
    "#--------------------------------------\n",
    "#gpu = False \n",
    "gpu = True\n",
    "if gpu: \n",
    "    GPU = True;  CPU = False; num_GPU = 1; num_CPU = 1\n",
    "else: \n",
    "    GPU = False; CPU = True;  num_CPU = 1; num_GPU = 0\n",
    "num_cores = 6\n",
    "\n",
    "# control of GPU or CPU usage in the TF environment\n",
    "# -------------------------------------------------\n",
    "# See the literature links at the article's end for more information  \n",
    "\n",
    "config = tf.ConfigProto(intra_op_parallelism_threads=num_cores,\n",
    "                        inter_op_parallelism_threads=num_cores, \n",
    "                        allow_soft_placement=True,\n",
    "                        device_count = {'CPU' : num_CPU,\n",
    "                                        'GPU' : num_GPU}, \n",
    "                        log_device_placement=True\n",
    "\n",
    "                       )\n",
    "config.gpu_options.per_process_gpu_memory_\n",
    "fraction=0.4\n",
    "config.gpu_options.force_gpu_compatible = True\n",
    "session = tf.Session(config=config)\n",
    "K.set_session(session)\n",
    "\n",
    "#--------------------------\n",
    "# Loading the mnist datatset via Keras \n",
    "#--------------------------\n",
    "(train_images, train_labels), (test_images, test_labels) = mnist.load_data()\n",
    "network = models.Sequential()\n",
    "network.add(layers.Dense(512, activation='relu', input_shape=(28*28,)))\n",
    "network.add(layers.Dense(10, activation='softmax'))\n",
    "network.compile(optimizer='rmsprop', loss='categorical_crossentropy', metrics=['accuracy'])\n",
    "train_images = train_images.reshape((60000, 28*28))\n",
    "train_images = train_images.astype('float32') / 255\n",
    "test_images = test_images.reshape((10000, 28*28))\n",
    "test_images = test_images.astype('float32') / 255\n",
    "train_labels = to_categorical(train_labels)\n",
    "test_labels = to_categorical(test_labels)"
   ]
  },
  {
   "cell_type": "code",
   "execution_count": null,
   "id": "deded459-6306-4c69-9517-08811479047f",
   "metadata": {},
   "outputs": [],
   "source": []
  }
 ],
 "metadata": {
  "kernelspec": {
   "display_name": "Python 3 (ipykernel)",
   "language": "python",
   "name": "python3"
  },
  "language_info": {
   "codemirror_mode": {
    "name": "ipython",
    "version": 3
   },
   "file_extension": ".py",
   "mimetype": "text/x-python",
   "name": "python",
   "nbconvert_exporter": "python",
   "pygments_lexer": "ipython3",
   "version": "3.11.6"
  }
 },
 "nbformat": 4,
 "nbformat_minor": 5
}
