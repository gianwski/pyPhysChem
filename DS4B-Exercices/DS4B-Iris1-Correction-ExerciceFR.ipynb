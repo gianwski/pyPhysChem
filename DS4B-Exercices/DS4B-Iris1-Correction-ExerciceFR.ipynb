{
 "cells": [
  {
   "cell_type": "code",
   "execution_count": null,
   "id": "1c082d1a-68f5-4753-ba48-1960c2eae64f",
   "metadata": {},
   "outputs": [],
   "source": [
    "import os\n",
    "import sys\n",
    "\n",
    "cwd0 = '../config/'\n",
    "sys.path.append(cwd0)\n",
    "\n",
    "import visualID as vID\n",
    "from visualID import color\n",
    "vID.init(cwd0)"
   ]
  },
  {
   "cell_type": "markdown",
   "id": "a3dbeee0-b1d0-45c1-b4ea-015d4bdcad2b",
   "metadata": {
    "tags": []
   },
   "source": [
    "### **Exercices.** Lecture et analyse de la base de données par la librairie pandas.<br>Corrigé"
   ]
  },
  {
   "cell_type": "markdown",
   "id": "7c74e1d9-cb96-497f-9850-7055980ffda5",
   "metadata": {},
   "source": [
    "#### Importation des modules utiles"
   ]
  },
  {
   "cell_type": "code",
   "execution_count": null,
   "id": "980c6253-4599-424e-9f27-58458ce5dfce",
   "metadata": {},
   "outputs": [],
   "source": [
    "# exécutez cette cellule, sans la modifier\n",
    "%matplotlib inline\n",
    "import numpy as np \n",
    "from pylab import *\n",
    "# d'autres bibliothèques seront importées au fur et à mesure des besoins"
   ]
  },
  {
   "cell_type": "markdown",
   "id": "4eaa0817-b483-4b65-a7cc-5881af9d9695",
   "metadata": {},
   "source": [
    "#### **Exercice 1**. Création des données au format np.array, puis au format pandas"
   ]
  },
  {
   "cell_type": "markdown",
   "id": "b92757b9-fe7a-4ef0-99b5-d88d36311284",
   "metadata": {
    "tags": []
   },
   "source": [
    "<div class=\"rq\">La première partie a pour but de créer des données au format <code>pandas</code>. Certaines sont corrélées entre elles. On vérifiera dans la deuxième partie que la carte thermique est cohérente avec les corrélations</div>"
   ]
  },
  {
   "cell_type": "markdown",
   "id": "d37f2fb2-e7e9-4265-bdc5-b7b2ea3b6a6d",
   "metadata": {},
   "source": [
    "##### **1.** Création des données.\n",
    "\n",
    "Vous n'avez aucune intervention à faire dans cette cellule, à part l'exécuter. On va générer :\n",
    "- un jeu de 100 valeurs aléatoires X1, comprises entre [-10, 10]\n",
    "- un deuxième jeu de 100 valeurs aléatoires X2, dans le même intervalle\n",
    "- des valeurs bruitées, autour d'une fonction $f_1(x)=2x$\n",
    "- des valeurs bruitées, autour d'une fonction $f_2(x)=-3x$  \n",
    "\n",
    "\n",
    "Pour $f_1$ et $f_2$, les valeurs de $x$ seront celles du tableau X1. Les données sont stockées dans deux tableaux `data1` et `data2`."
   ]
  },
  {
   "cell_type": "code",
   "execution_count": null,
   "id": "0609668d-5c13-4d62-9b58-5021edec44ae",
   "metadata": {
    "tags": []
   },
   "outputs": [],
   "source": [
    "# exécutez cette cellule, sans la modifier\n",
    "import random\n",
    "\n",
    "def noiseF(f, X):\n",
    "    noise = 2\n",
    "    N = noise * np.random.normal(0,1,nbp)\n",
    "    # c_ \"translates slice objects to concatenation along the second axis of the resulting 2D array\" (cf doc)\n",
    "    # en d'autres termes on concatène les colonnes de A & B quand on appelle c_(A,B) \n",
    "    tab = np.c_[X,f(X)+N]\n",
    "    return tab \n",
    "\n",
    "def f1(x):\n",
    "    return 2*x\n",
    "def f2(x):\n",
    "    return -3*x\n",
    "\n",
    "nbp = 100\n",
    "xmin = -10\n",
    "xmax = 10. \n",
    "# vecteurs X1 & X2\n",
    "# random.uniform(low=0.0, high=1.0, size=None)\n",
    "X1 = np.random.uniform(xmin,xmax,nbp)\n",
    "X2 = np.random.uniform(xmin,xmax,nbp)\n",
    "\n",
    "data1 = noiseF(f1,X1)\n",
    "data2 = noiseF(f2,X1)"
   ]
  },
  {
   "cell_type": "markdown",
   "id": "f76d2877",
   "metadata": {},
   "source": [
    "##### **2a.** Affichage des données contenues dans `data1` et `data2`\n",
    "\n",
    "Affichez le type (`type`) des variables `data1` et `data2` ainsi que leur forme (`shape`), puis enfin leur contenu"
   ]
  },
  {
   "cell_type": "code",
   "execution_count": null,
   "id": "72a6f50f",
   "metadata": {},
   "outputs": [],
   "source": [
    "# entrez ci-dessous votre code python\n",
    "\n",
    "print(type(data1),type(data2))\n",
    "print(shape(data1),shape(data2))\n",
    "print(\"data1\",data1)\n",
    "print(\"data2\",data2)"
   ]
  },
  {
   "cell_type": "markdown",
   "id": "221c8c5a",
   "metadata": {},
   "source": [
    "<div class=\"warn\">\n",
    "\n",
    "Vous venez de vérifier que `data1` et `data2` sont des tableaux à deux dimensions au format `numpy`. La première colonne contient 100 valeurs de $x$, et la deuxième chacune des valeurs de $f_i(x)$ \n",
    "\n",
    "</div>"
   ]
  },
  {
   "cell_type": "markdown",
   "id": "8e632d27-4c4c-4eb2-8c78-bb86f611de00",
   "metadata": {},
   "source": [
    "##### **2b.** Quelques manipulations de tableaux\n",
    "\n",
    "Affichez seulement les valeurs de $x$ contenues dans `data1`, puis seulement les valeurs de $f_1(x)$, c'est-à-dire les contenus de la première puis de la deuxième colonne. Vérifiez au passage que $f_2(x)$ a été évaluée pour les mêmes valeurs de $x$ que $f_1(x)$, et ce *sans afficher les valeurs de $x$ contenues dans `data2`* "
   ]
  },
  {
   "cell_type": "code",
   "execution_count": null,
   "id": "cc8cd3dc",
   "metadata": {},
   "outputs": [],
   "source": [
    "# entrez ci-dessous votre code python\n",
    "print(\"X1 : \",data1[:,0])\n",
    "print(\"f1 : \",data1[:,1])\n",
    "print(data1[:,0] == data2[:,0])\n",
    "\n",
    "# Remarque : on peut faire un peu mieux, en utilisant np.all(), qui renvoie True si tous les éléments\n",
    "# d'un tableau numpy sont True et qui renvoie False dans le cas contraire\n",
    "print()\n",
    "print(\"numpy.all() : \",(data1[:,0] == data2[:,0]).all())"
   ]
  },
  {
   "cell_type": "markdown",
   "id": "5571a9f0",
   "metadata": {},
   "source": [
    "<div class=\"rq\">\n",
    "\n",
    "Par la suite, les tableaux $x$, $f_1(x)$ et $f_2(x)$ seront désignés X1, X2, f1 et f2\n",
    "\n",
    "</div>"
   ]
  },
  {
   "cell_type": "markdown",
   "id": "f76be34f-d139-465c-bc3c-9b94888c71f0",
   "metadata": {
    "tags": []
   },
   "source": [
    "##### **3.** Tracé des fonctions f1 et f2\n",
    "\n",
    "On va tracer les 2 fonctions pour voir à quoi elles ressemblent.  Vérifiez de visu que les distributions de points sont cohérentes avec les expressions des fonctions. On suggère d'utiliser la fonction `scatter`, qui prend principalement 2 variables. On recommande d'ajouter un label à chaque tracé : `scatter(tableau des valeurs de x, tableau des valeurs de y, label='votrelabel')`"
   ]
  },
  {
   "cell_type": "code",
   "execution_count": null,
   "id": "8e895c21-5dc6-4645-80c3-c4f1373dae25",
   "metadata": {
    "tags": []
   },
   "outputs": [],
   "source": [
    "# définition de la taille de la figure\n",
    "figure(figsize = (10,8))\n",
    "\n",
    "# entrez ci-dessous votre code python\n",
    "scatter(data1[:,0],data1[:,1],label='f1')\n",
    "scatter(data2[:,0],data2[:,1],label='f2')\n",
    "legend(loc=\"upper left\")"
   ]
  },
  {
   "cell_type": "markdown",
   "id": "1bd9925d-0f34-4c23-8694-ad5d9ab41420",
   "metadata": {},
   "source": [
    "##### **4.** Création et affichage d'un dataframe au format pandas\n",
    "\n",
    "- Stocker ces données au format pandas dans un tableau nommé `df`. Les deux premières colonnes du tableau `df` vont contenir les valeurs de X1 et X2, et les suivantes les valeurs que prennent les fonctions f1 et f2 pour chacune des valeurs de X1\n",
    "\n",
    "-  Afficher le tableau `df`, qui contient les données"
   ]
  },
  {
   "cell_type": "code",
   "execution_count": null,
   "id": "df00dc62-0e25-4245-b559-c775ad89eddc",
   "metadata": {
    "tags": []
   },
   "outputs": [],
   "source": [
    "import pandas as pd\n",
    "\n",
    "# le tableau df est crée par cette ligne, X1 étant la première colonne\n",
    "df = pd.DataFrame(X1, columns = ['X1'])\n",
    "\n",
    "# entrez ci-dessous votre code python pour compléter le dataframe df\n",
    "df['X2'] = pd.DataFrame(X2)\n",
    "df['f1'] = pd.DataFrame(data1[:,1])\n",
    "df['f2'] = pd.DataFrame(data2[:,1])\n",
    "\n",
    "# entrez ci-dessous votre code python pour afficher le contenu de df\n",
    "display(df)"
   ]
  },
  {
   "cell_type": "markdown",
   "id": "d6f37d34",
   "metadata": {},
   "source": [
    "#### **Exercice 2.** Analyse statistique basique des données et recherche de possibles corrélations entre données"
   ]
  },
  {
   "cell_type": "markdown",
   "id": "89b66888-4ff2-4db6-a7dc-0dfac066d150",
   "metadata": {},
   "source": [
    "##### **1.** Statistiques descriptives\n",
    "\n",
    "Afficher les statistiques descriptives des données contenues dans `df`, c'est-à-dire moyenne, écart-type, etc... (*suggestion*: utiliser la fonction `describe` de pandas)"
   ]
  },
  {
   "cell_type": "code",
   "execution_count": null,
   "id": "6ebbd7ab-dad2-410e-aef7-3537fc3620dd",
   "metadata": {
    "tags": []
   },
   "outputs": [],
   "source": [
    "# entrez ci-dessous votre code python\n",
    "df.describe()"
   ]
  },
  {
   "cell_type": "markdown",
   "id": "9aac5cb2-2a82-4c14-938e-6d8c679e2e17",
   "metadata": {
    "tags": []
   },
   "source": [
    "##### **2a.** Recherche des possibles corrélations entre les données\n",
    "Tracer toutes ces données les unes en fonctions des autres (*suggestion*: utiliser la fonction `pairplot` de seaborn)"
   ]
  },
  {
   "cell_type": "code",
   "execution_count": null,
   "id": "31b8481d-f068-4437-ba73-f98a123c0626",
   "metadata": {
    "tags": []
   },
   "outputs": [],
   "source": [
    "import seaborn as sns\n",
    "# entrez ci-dessous votre code python\n",
    "sns.pairplot(df)"
   ]
  },
  {
   "cell_type": "markdown",
   "id": "49d415f5-b70b-4420-b9ff-48220311110a",
   "metadata": {
    "tags": []
   },
   "source": [
    "##### **2b.** Carte thermique\n",
    "\n",
    "Tracer une carte thermique (*suggestion*: utiliser la fonction `heatmap` de seaborn, avec les options `annot = True, cmap='coolwarm'` et en utilisant les bornes appropriées `vmin` et `vmax`. Le tableau (matrice) de corrélation entre données est quant à lui calculé avec la fonction `corr` de `pandas`)"
   ]
  },
  {
   "cell_type": "code",
   "execution_count": null,
   "id": "2c2b2230-d70b-4a03-9ba2-71f8fc78184d",
   "metadata": {
    "tags": []
   },
   "outputs": [],
   "source": [
    "# définition de la taille de la figure et d'une dimension de caractères qui rende la figure lisible\n",
    "plt.figure(figsize = (10,8))\n",
    "sns.set(font_scale=1.2)\n",
    "\n",
    "# entrez ci-dessous votre code python\n",
    "fig = sns.heatmap(df.corr(), vmin = -1, vmax = +1, annot = True, cmap='coolwarm')\n",
    "savefig(\"svg-images/heatmap1.png\")"
   ]
  },
  {
   "cell_type": "markdown",
   "id": "ad2c66a5-4b03-4d8b-8446-6bf54a03af9d",
   "metadata": {},
   "source": [
    "<div class=\"warn\">\n",
    "Si tout va bien, vous venez d'obtenir la carte thermique suivante (<i>les valeurs peuvent légèrement changer compte tenu du bruit statistique,</i> cf variable <code>noise</code></i>):\n",
    "<p style=\"text-align: center\"><img src=\"./svg-images/heatmap1-saved.png\" style=\"margin-left:auto; margin-right:auto\" id=\"img_heatmap1\"/></p>   \n",
    "    \n",
    "<b>Commentaires</b><br>\n",
    "    <li> les deux séries de variables X1 et X2 ont été générées aléatoirement. Les deux séries sont indépendantes l'une de l'autre, ou bien cela signifierait qu'il y a un problème avec le générateur utilisé\n",
    "    <li> f1 et f2 sont des fonctions des nombres contenus dans X1. Il ne peut donc pas y avoir de corrélation statistique avec X2.\n",
    "    <li> f1 étant une fonction croissante de X1 (au bruit statistique près), il y a corrélation positive entre les deux. On ne peut pas obtenir 1 à cause de la petite fluctuation positive introduite (reprenez le sujet et créez un bruit élevé en augmentant la valeur de <code>noise</code>). \n",
    "    <li> il y a une forte corrélation négative entre f2 et X1, puisque f2 est une fonction qui décroit en fonction de X1\n",
    "    <li> la forte corrélation négative entre f1 et f2 est également attendue\n",
    "</div>"
   ]
  },
  {
   "cell_type": "code",
   "execution_count": null,
   "id": "5d5b4fc5-0398-4ff3-84a2-2e2110ded1c5",
   "metadata": {},
   "outputs": [],
   "source": [
    "vID.end(cwd0)"
   ]
  },
  {
   "cell_type": "code",
   "execution_count": null,
   "id": "baa5e3a5-143a-4172-81e8-cfb631ea74df",
   "metadata": {},
   "outputs": [],
   "source": []
  }
 ],
 "metadata": {
  "kernelspec": {
   "display_name": "Python 3 (ipykernel)",
   "language": "python",
   "name": "python3"
  },
  "language_info": {
   "codemirror_mode": {
    "name": "ipython",
    "version": 3
   },
   "file_extension": ".py",
   "mimetype": "text/x-python",
   "name": "python",
   "nbconvert_exporter": "python",
   "pygments_lexer": "ipython3",
   "version": "3.10.11"
  }
 },
 "nbformat": 4,
 "nbformat_minor": 5
}
