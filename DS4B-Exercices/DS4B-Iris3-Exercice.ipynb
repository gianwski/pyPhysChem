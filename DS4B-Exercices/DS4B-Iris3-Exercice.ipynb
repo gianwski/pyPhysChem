{
 "cells": [
  {
   "cell_type": "code",
   "execution_count": 2,
   "id": "8de690ce-49d6-4387-b242-fe36280ca9dd",
   "metadata": {},
   "outputs": [
    {
     "data": {
      "text/html": [
       "<style>\n",
       "h1, h2, h3, h4, h5, h6 {\n",
       "  font-family: Verdana, \"DejaVu Sans\", \"Bitstream Vera Sans\", Geneva, sans-serif;\n",
       "  font-weight: bold;\n",
       "}\n",
       "body {\n",
       "  font-family: Verdana, \"DejaVu Sans\", \"Bitstream Vera Sans\", Geneva, sans-serif;\n",
       "  font-weight: 200;\n",
       "}\n",
       "h1 {\n",
       "  border: 0 solid #333;\n",
       "  padding: 30px ;\n",
       "  color: white;\n",
       "  background: #b11d01;\n",
       "  text-align: center;\n",
       "}\n",
       "h2 {\n",
       "  border: 3px solid #333;\n",
       "  padding: 18px ;\n",
       "  color: #b11d01;\n",
       "  background: #ffffff;\n",
       "  text-align: center;\n",
       "}\n",
       "h3 {\n",
       "  border: 0 solid #333;\n",
       "  padding: 12px ;\n",
       "  color: #000000;\n",
       "  background: #c1c1c1;\n",
       "  text-align: left;\n",
       "}\n",
       "h4 {\n",
       "  border: 0 solid #333;\n",
       "  padding: 2px ;\n",
       "  color: #000000;\n",
       "  background: #d9fffc;\n",
       "  text-align: left;\n",
       "}\n",
       "h5 {\n",
       "  border: 1px solid #333;\n",
       "  padding: 2px ;\n",
       "  color: #000000;\n",
       "  background: #ffffff;\n",
       "  text-align: left;\n",
       "}\n",
       ".warn {    \n",
       "    background-color: #fcf2f2;\n",
       "    border-color: #dFb5b4;\n",
       "    border-left: 5px solid #dfb5b4;\n",
       "    padding: 0.5em;\n",
       "    font-weight: 200;\n",
       "    }\n",
       ".rq {    \n",
       "    background-color: #e2e2e2;\n",
       "    border-color: #969696;\n",
       "    border-left: 5px solid #969696;\n",
       "    padding: 0.5em;\n",
       "    font-weight: 200;\n",
       "    }\n",
       "</style>\n"
      ],
      "text/plain": [
       "<IPython.core.display.HTML object>"
      ]
     },
     "metadata": {},
     "output_type": "display_data"
    },
    {
     "data": {
      "text/markdown": [
       "**Début à:** Thursday 03 November 2022, 21:35:16  \n",
       "**Hostname:** localhost.localdomain (Linux)"
      ],
      "text/plain": [
       "<IPython.core.display.Markdown object>"
      ]
     },
     "metadata": {},
     "output_type": "display_data"
    },
    {
     "data": {
      "text/markdown": [
       "<p style=\"text-align: center\"><img width=\"800px\" src=\"../config/svg/logoDebut.svg\" style=\"margin-left:auto; margin-right:auto\"/></p>"
      ],
      "text/plain": [
       "<IPython.core.display.Markdown object>"
      ]
     },
     "metadata": {},
     "output_type": "display_data"
    }
   ],
   "source": [
    "import os\n",
    "import sys\n",
    "\n",
    "cwd0 = '../config/'\n",
    "sys.path.append(cwd0)\n",
    "\n",
    "import visualID as vID\n",
    "from visualID import color\n",
    "vID.init(cwd0)"
   ]
  },
  {
   "cell_type": "markdown",
   "id": "9a2f60c2-8759-4019-8dea-b692e73eaee6",
   "metadata": {},
   "source": [
    "### **Exercice.** Apprentissage supervisé (*supervised Machine Learning*) appliqué à la classification.<br>Corrigé\n",
    "\n",
    "On a développé dans le cours un algorithme de reconnaissance basé sur deux caractéristiques, les **longueur et largeur des pétales** d'iris. L'exercice qui est proposé ici vise à développer un algorithme capable d'établir une corrélation plus complexe, en prenant simultanément en compte les **longueurs et largeurs des pétales et des sépales**.\n",
    "\n",
    "<p><img width=\"450px\" src=\"../DS4B-svg/IA-petales-sepales.png\" style=\"margin-left:auto; margin-right:auto; display: block;\" id=\"img_IA_jpc\"/></p>  \n",
    "\n",
    "Et on va voir que ça permet effectivement de diminuer l'erreur commise. On conviendra que ça devient plus compliqué pour nos cerveaux de rechercher si les corrélations croisées, reportées dans la figure ci-dessous, permettent une meilleure classification. C'est pour ce type de tâche, au-delà de corrélations simples, que l'utilisation de ces algorithmes prend tout son sens. \n",
    "\n",
    "<div class=\"warn\">\n",
    "\n",
    "**<span style=\"color:red\">Vous êtes encouragés à \"tricher\" &#128578; ! </span>**, c'est-à-dire à vous inspirer du [notebook de cours](../DS4B-Iris3.ipynb), dont le code n'a qu'à être légèrement adapté pour accepter quatre informations en entrée au lieu de deux seulement.\n",
    "\n",
    "</div>"
   ]
  },
  {
   "cell_type": "markdown",
   "id": "a02aa070-ddf4-4bb4-bb26-5043ee7ca53f",
   "metadata": {},
   "source": [
    "#### Importation des modules utiles"
   ]
  },
  {
   "cell_type": "code",
   "execution_count": null,
   "id": "b6568ba3-8b12-4725-a890-132a9de260b7",
   "metadata": {},
   "outputs": [],
   "source": [
    "# exécutez cette cellule, sans la modifier\n",
    "%matplotlib inline\n",
    "import pandas as pd\n",
    "import matplotlib as mp\n",
    "import matplotlib.pyplot as plt\n",
    "import numpy as np\n",
    "import tensorflow as tf\n",
    "from tensorflow import keras\n",
    "from keras.utils import np_utils"
   ]
  },
  {
   "cell_type": "markdown",
   "id": "59355df4-7b76-4a77-a204-13008cc96dc9",
   "metadata": {},
   "source": [
    "#### **Exercice 1.** Lecture, analyse et adaptation des données"
   ]
  },
  {
   "cell_type": "markdown",
   "id": "7334ed83-f6aa-4f7e-b6a1-7e49b8b9da66",
   "metadata": {},
   "source": [
    "##### **1.** Lecture de la base de données qui ont été adaptées au problème"
   ]
  },
  {
   "cell_type": "code",
   "execution_count": null,
   "id": "ef2fe4da-b86e-4c95-8f97-84f8c0f56215",
   "metadata": {},
   "outputs": [],
   "source": [
    "# exécutez cette commande, sans la modifier\n",
    "dfi=pd.read_csv('../DS4B-iris-data/iris_ohe.csv', sep=\"\\t\") #les colonnes sont séparées par des tabulations\n",
    "print(f\"Dfi. Structure (shape) :{dfi.shape}\")\n",
    "\n",
    "# ajouter ci-dessous la commande permettant d'afficher le dataframe dfi - ne pas utiliser print()\n"
   ]
  },
  {
   "cell_type": "markdown",
   "id": "139cdc56-49f8-4775-abb6-1e9b2ff1b292",
   "metadata": {},
   "source": [
    "##### **2.** Séparation des données en deux sous-ensembles d'apprentissage et de test"
   ]
  },
  {
   "cell_type": "markdown",
   "id": "005db419-4aa4-4433-95ab-425b265c2e6b",
   "metadata": {},
   "source": [
    "Séparer le jeu de données stocké dans `dfi` en deux sous-ensembles :\n",
    "- un jeu de données d'apprentissage (80% des données de `dfi`)\n",
    "- un jeu de données de test, indépendantes du jeu de données d'apprentissage (20% des données de `dfi`) \n",
    "\n",
    "On définira 4 nouveaux dataframes, `x_train`, `x_test`, `y_train`, `y_test` qui ont pour but d'entraîner et de tester un réseau de neurones conçu pour identifier un type d'iris sur la base de 4 descripteurs : longueur et largeur des pétales & longueur et largeur des sépales. "
   ]
  },
  {
   "cell_type": "code",
   "execution_count": null,
   "id": "f0470f71-6f34-4ccf-9e56-836928e32004",
   "metadata": {
    "tags": []
   },
   "outputs": [],
   "source": [
    "# entrez ci-dessous votre code python\n"
   ]
  },
  {
   "cell_type": "markdown",
   "id": "e94b4f9b-46d6-4988-a3f3-ab75734b6ffa",
   "metadata": {},
   "source": [
    "##### **3.** Adaptation des données à la régression logistique par le réseau de neurones\n",
    "\n",
    "On a indiqué dans le cours que toute donnée soumise à l'algorithme (c'est-à-dire toute donnée d'*entrée*) doit au préalable être standardisée à l'aide de la commande `scaler.transform()` du module `scikit learn`.\n",
    "\n",
    "- Appliquer la procédure de façon appropriée\n",
    "- Afficher les données d'apprentissage après standardisation\n",
    "- Faire de même pour les données de test si vous leur avez appliqué la standardisation \n"
   ]
  },
  {
   "cell_type": "code",
   "execution_count": null,
   "id": "70779f6b-4820-427f-a2ce-96ac775809a8",
   "metadata": {
    "tags": []
   },
   "outputs": [],
   "source": [
    "# entrez ci-dessous votre code python\n"
   ]
  },
  {
   "cell_type": "markdown",
   "id": "4048710b-2eaf-4e50-a45e-359c84a939ca",
   "metadata": {},
   "source": [
    "#### **Exercice 2.** Définition et apprentissage du modèle"
   ]
  },
  {
   "cell_type": "markdown",
   "id": "80b4958f-6063-4497-bcd0-95b54b0ace64",
   "metadata": {},
   "source": [
    "##### **1.** Définition du modèle\n",
    "\n",
    "Définir un réseau de neurones par l'implémentation d'une fonction `get_model(NE)` adaptée, où `NE` est le nombre de neurones de la couche d'entrée, passé en paramètre.\n",
    "\n",
    "On propose l'architecture suivante :\n",
    "- une couche de neurones d'entrée\n",
    "- une couche cachée de 7 neurones, activés par la fonction `relu`\n",
    "- une deuxième couche cachée, de 5 neurones, eux aussi activés par la fonction `relu`\n",
    "- une couche de sortie, avec le nombre de neurones approprié. On vous laisse le choix d'utiliser ou pas la fonction d'activation `softmax `\n",
    "\n",
    "L'apprentissage se fera à l'aide de l'optimiseur `adam`, qui cherchera à minimiser la fonction `categorical_crossentropy`. On utilisera le mot-clef `accuracy` pour la métrique. "
   ]
  },
  {
   "cell_type": "code",
   "execution_count": null,
   "id": "776ea4a4-a5f4-4898-886d-cec103569b63",
   "metadata": {},
   "outputs": [],
   "source": [
    "# entrez ci-dessous votre code python\n"
   ]
  },
  {
   "cell_type": "markdown",
   "id": "c32938fc-ef05-46d6-9f26-80a727d0bc8f",
   "metadata": {},
   "source": [
    "##### **2.** Apprentissage supervisé du réseau de neurones\n",
    "\n",
    "C'est maitenant qu'on lance l'apprentissage. On rappelle que :\n",
    "- on définit d'abord le modèle `ANNmodel=define_model( (4,)) `\n",
    "- on lance son optimisation `ANNmodel.fit`\n",
    "- l'algorithme (l'IA) optimal ainsi que les algorithmes intermédiaires vont être sauvegardés en tant que `ANNhistory`"
   ]
  },
  {
   "cell_type": "code",
   "execution_count": null,
   "id": "877b00e0-83b3-4540-ad09-ffa631fde346",
   "metadata": {},
   "outputs": [],
   "source": [
    "# exécutez cette cellule, sans la modifier\n",
    "vID.chrono_start()\n",
    "from tensorflow.keras.callbacks import EarlyStopping\n",
    "es = EarlyStopping(monitor='val_loss', mode='min', verbose=1, patience=10)\n",
    "print(f\"x_train. Structure (shape) : {x_train.shape}\")\n",
    "print(f\"x_test. Structure (shape) : {x_test.shape}\")\n",
    "print(f\"y_train. Structure (shape) : {y_train.shape}\")\n",
    "print(f\"y_test. Structure (shape) : {y_test.shape}\")\n",
    "ANNmodel=get_model( (4,)) # 4 neurones d'entrée\n",
    "ANNmodel.summary()\n",
    "vID.chrono_start()\n",
    "ANNhistory = ANNmodel.fit(x_train,\n",
    "                    y_train,\n",
    "                    epochs          = 700,\n",
    "                    batch_size      = 5,\n",
    "                    verbose         = 1,\n",
    "                    validation_data = (x_test, y_test),\n",
    "                    callbacks=[es])\n",
    "vID.chrono_show()"
   ]
  },
  {
   "cell_type": "markdown",
   "id": "d024f113-ac6b-4f13-a3cc-10bd4234a98b",
   "metadata": {},
   "source": [
    "#### **Exercice 3.** Évaluation du modèle"
   ]
  },
  {
   "cell_type": "markdown",
   "id": "90f927a6-ce28-443a-b4f9-0c47140e51ef",
   "metadata": {},
   "source": [
    "##### **1.** Évaluation globale de la précision du modèle\n",
    "\n",
    "Utiliser la fonction `evaluate` de `Keras` afin de renvoyer les valeurs des erreurs \"loss\" et \"accuracy\"."
   ]
  },
  {
   "cell_type": "code",
   "execution_count": null,
   "id": "fe7d2f5f-14a3-4484-9cc6-69a080e0212b",
   "metadata": {},
   "outputs": [],
   "source": [
    "# entrez ci-dessous votre code python\n"
   ]
  },
  {
   "cell_type": "markdown",
   "id": "5149669f-0ee6-4f8f-9f40-1cb91e4929ad",
   "metadata": {},
   "source": [
    "##### **2.** Comportement du modèle vis-à-vis de chaque espèce d'iris\n",
    "\n",
    "- Afficher les probailités pour chacun des échantillons du jeu d'apprentissage (`xtrain` et `y_train`).\n",
    "- Les convertir en espèce d'iris grâce à `argmax` et à la liste `dfi['species'].unique()` qu'on sauvera dans une variable nomée `usp`. On peut ainsi directement comparer avec les espèces réellement observées\n",
    "- comptabiliser enfin les erreurs commises"
   ]
  },
  {
   "cell_type": "code",
   "execution_count": null,
   "id": "35c740a5-53e5-4776-8cea-b53af7589366",
   "metadata": {},
   "outputs": [],
   "source": [
    "# entrez ci-dessous votre code python\n"
   ]
  },
  {
   "cell_type": "markdown",
   "id": "e55fe30e-ce3d-49bf-b488-6fe9bff3291b",
   "metadata": {},
   "source": [
    "##### **3.** Bilan de la performance du modèle prédictif sous forme de matrice de confusion\n",
    "\n",
    "- Tracer les matrices de confusion du jeu de données d'apprentissage et de celui de test. \n",
    "- Comparer aux résultats de la [partie cours](../DS4B-Iris3.ipynb).\n",
    "- Le modèle a-t-il été amélioré ou bien la connaisssance de la largeur et de la longueur de sépales en plus de celles des pétales n'est-il pas informatif ?"
   ]
  },
  {
   "cell_type": "code",
   "execution_count": null,
   "id": "866bd474-9393-4311-b165-0f66d021e221",
   "metadata": {
    "tags": []
   },
   "outputs": [],
   "source": [
    "# entrez ci-dessous votre code python\n"
   ]
  },
  {
   "cell_type": "markdown",
   "id": "0387725f-c6ae-430e-a9b8-d692c8893dae",
   "metadata": {},
   "source": [
    "### Bilan\n",
    "\n",
    "<div class=\"warn\">\n",
    "\n",
    "Si tout s'est bien passé, vous avez trouvé des matrices de confusion proches du résultat ci-dessous :\n",
    "    \n",
    "<p><img width=\"950px\" src=\"./svg-images/Iris3-ConfusionMatrix-petals-sepals-saved.png\" style=\"margin-left:auto; margin-right:auto; display: block;\" id=\"img_MLIris_p\"/></p>  \n",
    "\n",
    "Il y a donc une nette amélioration par rapport à une IA qui a exploité deux descripteurs uniquement :\n",
    "    \n",
    "<p><img width=\"950px\" src=\"../DS4B-svg/Iris3-ConfusionMatrix-petals-saved.png\" style=\"margin-left:auto; margin-right:auto; display: block;\" id=\"img_MLIris_ps\"/></p>  \n",
    "    \n",
    "**<span style=\"color:red\"> Il n'y a pas d'amélioration ?</span>** Pas de chance. Relancez l'algorithme depuis le début\n",
    "    \n",
    "</div>"
   ]
  },
  {
   "cell_type": "code",
   "execution_count": 3,
   "id": "af354bcb",
   "metadata": {
    "tags": []
   },
   "outputs": [
    {
     "data": {
      "text/markdown": [
       "**Fin à:** Thursday 03 November 2022, 21:37:55  \n",
       "**Durée:** 00:02:38 434ms"
      ],
      "text/plain": [
       "<IPython.core.display.Markdown object>"
      ]
     },
     "metadata": {},
     "output_type": "display_data"
    },
    {
     "data": {
      "text/markdown": [
       "<p style=\"text-align: center\"><img width=\"800px\" src=\"../config/svg/logoFin.svg\" style=\"margin-left:auto; margin-right:auto\"/></p>"
      ],
      "text/plain": [
       "<IPython.core.display.Markdown object>"
      ]
     },
     "metadata": {},
     "output_type": "display_data"
    }
   ],
   "source": [
    "vID.end(cwd0)"
   ]
  },
  {
   "cell_type": "code",
   "execution_count": null,
   "id": "d2fad06d-6413-4793-b945-a7d707839fee",
   "metadata": {},
   "outputs": [],
   "source": []
  }
 ],
 "metadata": {
  "kernelspec": {
   "display_name": "Python 3 (ipykernel)",
   "language": "python",
   "name": "python3"
  },
  "language_info": {
   "codemirror_mode": {
    "name": "ipython",
    "version": 3
   },
   "file_extension": ".py",
   "mimetype": "text/x-python",
   "name": "python",
   "nbconvert_exporter": "python",
   "pygments_lexer": "ipython3",
   "version": "3.10.6"
  },
  "toc-autonumbering": false,
  "toc-showmarkdowntxt": false
 },
 "nbformat": 4,
 "nbformat_minor": 5
}
