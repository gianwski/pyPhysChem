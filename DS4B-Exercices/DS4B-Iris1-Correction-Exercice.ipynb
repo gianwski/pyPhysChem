{
 "cells": [
  {
   "cell_type": "code",
   "execution_count": 4,
   "id": "1c082d1a-68f5-4753-ba48-1960c2eae64f",
   "metadata": {},
   "outputs": [
    {
     "data": {
      "text/html": [
       "<style>\n",
       "h1, h2, h3, h4, h5, h6 {\n",
       "  font-family: Verdana, \"DejaVu Sans\", \"Bitstream Vera Sans\", Geneva, sans-serif;\n",
       "  font-weight: bold;\n",
       "}\n",
       "body, ex, exE {\n",
       "  font-family: Verdana, \"DejaVu Sans\", \"Bitstream Vera Sans\", Geneva, sans-serif;\n",
       "  font-weight: 200;\n",
       "}\n",
       "h1 {\n",
       "  border: 0 solid #333;\n",
       "  padding: 30px ;\n",
       "  color: white;\n",
       "  background: #b11d01;\n",
       "  text-align: center;\n",
       "}\n",
       "h2 {\n",
       "  border: 3px solid #333;\n",
       "  padding: 18px ;\n",
       "  color: #b11d01;\n",
       "  background: #ffffff;\n",
       "  text-align: center;\n",
       "}\n",
       "h3 {\n",
       "  border: 0 solid #333;\n",
       "  padding: 12px ;\n",
       "  color: #000000;\n",
       "  background: #c1c1c1;\n",
       "  text-align: left;\n",
       "}\n",
       "h4 {\n",
       "  border: 0 solid #333;\n",
       "  padding: 2px ;\n",
       "  color: #000000;\n",
       "  background: #d9fffc;\n",
       "  text-align: left;\n",
       "}\n",
       "h5 {\n",
       "  border: 1px solid #333;\n",
       "  padding: 2px ;\n",
       "  color: #000000;\n",
       "  background: #ffffff;\n",
       "  text-align: left;\n",
       "}\n",
       ".intro {    \n",
       "    background-color: #f1f1f1;\n",
       "    border-color: #969696;\n",
       "    border-left: 5px solid #969696;\n",
       "    padding: 0.5em;\n",
       "    font-weight: 200;\n",
       "    }\n",
       ".introE {    \n",
       "    background-color: #f1f1f1;\n",
       "    border-color: #969696;\n",
       "    border-left: 5px solid #969696;\n",
       "    padding: 0.5em;\n",
       "    font-weight: 200;\n",
       "    color : #117996;\n",
       "    }\n",
       ".rq {    \n",
       "    background-color: #fcf2f2;\n",
       "    border-color: #dFb5b4;\n",
       "    border-left: 5px solid #dfb5b4;\n",
       "    padding: 0.5em;\n",
       "    font-weight: 200;\n",
       "    }\n",
       ".rqE {    \n",
       "    background-color: #fcf2f2;\n",
       "    border-color: #dFb5b4;\n",
       "    border-left: 5px solid #dfb5b4;\n",
       "    padding: 0.5em;\n",
       "    font-weight: 200;\n",
       "    color : #117996;\n",
       "    }\n",
       ".exold {    \n",
       "    background-color: #b2dbea80;\n",
       "    border-color: #0055ff;\n",
       "    border-left: 10px solid #0055ff;\n",
       "    padding: 0.5em;\n",
       "    font-weight: 200;\n",
       "    }\n",
       ".ex {    \n",
       "    background-color: #b2dbea80;\n",
       "    padding: 0.5em;\n",
       "    padding-top: 0em;\n",
       "    font-weight: 200;\n",
       "    position:relative;\n",
       "    }\n",
       ".ex::before {\n",
       "    background-color: #b2dbea;\n",
       "    content:\"Exercice\";\n",
       "    margin-left:-0.5em;\n",
       "    margin-right:-0.5em;\n",
       "    padding-left:0.5em;\n",
       "    padding-right:0.5em;\n",
       "    font-weight: 600;\n",
       "    display: block;\n",
       "    }\n",
       ".exE {    \n",
       "    background-color: #b2dbea80;\n",
       "    padding: 0.5em;\n",
       "    padding-top: 0em;\n",
       "    font-weight: 200;\n",
       "    position:relative;\n",
       "    color : #117996;\n",
       "    }\n",
       ".exE::before {\n",
       "    background-color: #b2dbea;\n",
       "    content:\"Exercise\";\n",
       "    margin-left:-0.5em;\n",
       "    margin-right:-0.5em;\n",
       "    padding-left:0.5em;\n",
       "    padding-right:0.5em;\n",
       "    font-weight: 600;\n",
       "    display: block;\n",
       "    color : #117996;\n",
       "    }\n",
       ".app {    \n",
       "    background-color: #b2dbea80;\n",
       "    padding: 0.5em;\n",
       "    padding-top: 0em;\n",
       "    font-weight: 200;\n",
       "    position:relative;\n",
       "    }\n",
       ".app::before {\n",
       "    background-color: #b2dbea;\n",
       "    content:\"Application\";\n",
       "    margin-left:-0.5em;\n",
       "    margin-right:-0.5em;\n",
       "    padding-left:0.5em;\n",
       "    padding-right:0.5em;\n",
       "    font-weight: 600;\n",
       "    display: block;\n",
       "    }\n",
       ".appE {    \n",
       "    background-color: #b2dbea80;\n",
       "    padding: 0.5em;\n",
       "    padding-top: 0em;\n",
       "    font-weight: 200;\n",
       "    color : #117996;\n",
       "    position:relative;\n",
       "    }\n",
       ".appE::before {\n",
       "    background-color: #b2dbea;\n",
       "    content:\"Application\";\n",
       "    margin-left:-0.5em;\n",
       "    margin-right:-0.5em;\n",
       "    padding-left:0.5em;\n",
       "    padding-right:0.5em;\n",
       "    font-weight: 600;\n",
       "    color : #117996;\n",
       "    display: block;\n",
       "    }\n",
       "</style>\n"
      ],
      "text/plain": [
       "<IPython.core.display.HTML object>"
      ]
     },
     "metadata": {},
     "output_type": "display_data"
    },
    {
     "data": {
      "text/markdown": [
       "**Début à:** Sunday 21 May 2023, 19:43:11  \n",
       "**Hostname:** localhost.localdomain (Linux)"
      ],
      "text/plain": [
       "<IPython.core.display.Markdown object>"
      ]
     },
     "metadata": {},
     "output_type": "display_data"
    },
    {
     "data": {
      "text/markdown": [
       "<p style=\"text-align: center\"><img width=\"800px\" src=\"../config/svg/logoDebut.svg\" style=\"margin-left:auto; margin-right:auto\"/></p>"
      ],
      "text/plain": [
       "<IPython.core.display.Markdown object>"
      ]
     },
     "metadata": {},
     "output_type": "display_data"
    }
   ],
   "source": [
    "import os\n",
    "import sys\n",
    "\n",
    "cwd0 = '../config/'\n",
    "sys.path.append(cwd0)\n",
    "\n",
    "import visualID as vID\n",
    "from visualID import color\n",
    "vID.init(cwd0)"
   ]
  },
  {
   "cell_type": "markdown",
   "id": "a3dbeee0-b1d0-45c1-b4ea-015d4bdcad2b",
   "metadata": {
    "tags": []
   },
   "source": [
    "## **Exercices.** Lecture et analyse de bases de données par la librairie pandas.<br><br>*Reading and analyzis of databases with the pandas library*"
   ]
  },
  {
   "cell_type": "markdown",
   "id": "7c74e1d9-cb96-497f-9850-7055980ffda5",
   "metadata": {},
   "source": [
    "### Importation des modules utiles<br>*Importation of the useful libraries*"
   ]
  },
  {
   "cell_type": "code",
   "execution_count": 5,
   "id": "980c6253-4599-424e-9f27-58458ce5dfce",
   "metadata": {},
   "outputs": [],
   "source": [
    "# exécutez cette cellule, sans la modifier\n",
    "# run this cell, without any modification\n",
    "%matplotlib inline\n",
    "import numpy as np \n",
    "from pylab import *\n",
    "# d'autres bibliothèques seront importées au fur et à mesure des besoins\n",
    "# other libraries will be imported \"on the fly\", when necessary"
   ]
  },
  {
   "cell_type": "markdown",
   "id": "4eaa0817-b483-4b65-a7cc-5881af9d9695",
   "metadata": {},
   "source": [
    "### **Exercice 1**. Création des données aux formats `np.array` & `pandas`<br>*Creation of data under the `np.array` & `pandas` formats*"
   ]
  },
  {
   "cell_type": "markdown",
   "id": "b92757b9-fe7a-4ef0-99b5-d88d36311284",
   "metadata": {
    "tags": []
   },
   "source": [
    "<div class=\"intro\">La première partie a pour but de créer des données au format <code>pandas</code>. Certaines séries de données sont corrélées entre elles. On vérifiera dans la deuxième partie que la carte thermique est cohérente avec les corrélations</div>\n",
    "<div class=\"introE\">The goal of the first part is to create data and to store them as <code>pandas</code> dataframes. Some series are correlated. We will check in the second part that the heatmap is consistent with these correlations.</div>"
   ]
  },
  {
   "cell_type": "markdown",
   "id": "d37f2fb2-e7e9-4265-bdc5-b7b2ea3b6a6d",
   "metadata": {},
   "source": [
    "#### **1.** Création des données<br>*Creation of datas*\n",
    "\n",
    "<div class=\"intro\">\n",
    "\n",
    "Vous n'avez aucune intervention à faire dans la cellule suivante, à part l'exécuter. On va générer :\n",
    "- un jeu de 100 valeurs aléatoires `X1`, comprises entre [-10, 10]\n",
    "- un deuxième jeu de 100 valeurs aléatoires `X2`, dans le même intervalle\n",
    "- des valeurs bruitées, autour d'une fonction $f_1(x)=2x$, calculées pour chacune des valeurs de `X1`\n",
    "- des valeurs bruitées, autour d'une fonction $f_2(x)=-3x$, calculées également pour chacune des valeurs de `X1`\n",
    "\n",
    "Les données `(X1, f1(X1))` et `(X1, f2(X1))` sont stockées dans deux tableaux `data1` et `data2`.\n",
    "</div>\n",
    "<div class=\"introE\">\n",
    "\n",
    "Do not change anything in the next cell, just run it. This piece of code will generate:\n",
    "- a set of 100 random numbers `X1`, ranging between [-10, 10]\n",
    "- a second set of 100 random numbers `X2`, ranging in the same domain\n",
    "- numbers that follow the $f_1(x)=2x$ function, after addition of a random noise, and calculated for all data of the `X1` array\n",
    "- numbers that follow the $f_2(x)=-3x$ function, after addition of a random noise, and also calculated for all data of the `X1` array\n",
    "    \n",
    "`(X1, f1(X1))` et `(X1, f2(X1))` data are stored into two arrays, `data1` and `data2`.\n",
    "\n",
    "</div>"
   ]
  },
  {
   "cell_type": "code",
   "execution_count": 6,
   "id": "0609668d-5c13-4d62-9b58-5021edec44ae",
   "metadata": {
    "tags": []
   },
   "outputs": [],
   "source": [
    "# exécutez cette cellule, sans la modifier\n",
    "# run this cell, without any modification\n",
    "import random\n",
    "\n",
    "def noiseF(f, X):\n",
    "    noise = 2\n",
    "    N = noise * np.random.normal(0,1,nbp)\n",
    "    # c_ \"translates slice objects to concatenation along the second axis of the resulting 2D array\" (cf doc)\n",
    "    # en d'autres termes on concatène les colonnes de A & B quand on appelle c_(A,B) \n",
    "    tab = np.c_[X,f(X)+N]\n",
    "    return tab \n",
    "\n",
    "def f1(x):\n",
    "    return 2*x\n",
    "def f2(x):\n",
    "    return -3*x\n",
    "\n",
    "nbp = 100\n",
    "xmin = -10\n",
    "xmax = 10. \n",
    "# tableaux/arrays X1 & X2\n",
    "# random.uniform(low=0.0, high=1.0, size=None)\n",
    "X1 = np.random.uniform(xmin,xmax,nbp)\n",
    "X2 = np.random.uniform(xmin,xmax,nbp)\n",
    "\n",
    "data1 = noiseF(f1,X1)\n",
    "data2 = noiseF(f2,X1)"
   ]
  },
  {
   "cell_type": "markdown",
   "id": "f76d2877",
   "metadata": {},
   "source": [
    "#### **2.** Affichage des données contenues dans `data1` et `data2`<br>*Displaying the data stored in `data1` and `data2`*\n",
    "\n",
    "<div class=\"intro\">\n",
    "\n",
    "Affichez le `type` des tableaux `data1` et `data2` ainsi que leur forme (`shape`), puis enfin leur contenu\n",
    "    \n",
    "</div>\n",
    "<div class=\"introE\">\n",
    "\n",
    "Display the `type` of arrays `data1` and `data2`, as well as their `shape`, and finally their content\n",
    "</div>"
   ]
  },
  {
   "cell_type": "code",
   "execution_count": 7,
   "id": "72a6f50f",
   "metadata": {},
   "outputs": [
    {
     "name": "stdout",
     "output_type": "stream",
     "text": [
      "<class 'numpy.ndarray'> <class 'numpy.ndarray'>\n",
      "(100, 2) (100, 2)\n",
      "data1 [[  6.45548292   9.26292346]\n",
      " [ -4.0375071  -11.27214156]\n",
      " [ -5.29291595 -11.99446826]\n",
      " [  4.86376573  13.90957298]\n",
      " [  9.49490925  18.35729593]\n",
      " [ -5.61546583 -16.29005764]\n",
      " [  5.08458791  10.17572123]\n",
      " [  4.27202766   9.10895831]\n",
      " [ -7.81843397 -16.99249214]\n",
      " [ -8.51035285 -22.78009778]\n",
      " [ -3.95193094  -9.25188508]\n",
      " [ -6.76144022 -13.35386129]\n",
      " [ -3.02169079  -5.73519287]\n",
      " [ -3.15171869  -9.91710819]\n",
      " [  1.67585154   0.32736253]\n",
      " [  6.68456569  12.43795537]\n",
      " [  3.32756301   7.05981381]\n",
      " [  3.5850247   11.55231254]\n",
      " [  3.0601997    5.37561151]\n",
      " [ -3.11239549  -8.10025798]\n",
      " [ -2.54529142  -6.21968459]\n",
      " [ -2.2023366   -6.45077151]\n",
      " [  7.64362653  12.19820444]\n",
      " [  3.92697355   5.01896125]\n",
      " [ -6.91251548 -17.1841206 ]\n",
      " [ -2.04839582  -5.69686354]\n",
      " [  7.6578935   17.54990811]\n",
      " [ -6.86956143 -13.95526008]\n",
      " [  8.81290039  15.26119348]\n",
      " [  9.39769574  19.02473937]\n",
      " [  6.98193365  16.05892066]\n",
      " [ -6.33546282 -15.04766872]\n",
      " [ -9.27975183 -17.40766402]\n",
      " [ -8.38872483 -15.41654717]\n",
      " [ -5.5901807  -14.65986145]\n",
      " [ -7.41183101 -16.85784524]\n",
      " [  4.03230745   6.09503241]\n",
      " [  2.7371708    5.28016405]\n",
      " [  0.70541893   3.16634137]\n",
      " [  1.27669515   6.34745686]\n",
      " [  6.25184653  12.89852388]\n",
      " [  7.15638539  13.26494959]\n",
      " [ -5.70127408 -12.28043971]\n",
      " [ -4.86387374  -7.43788776]\n",
      " [  8.36169423  18.44751455]\n",
      " [ -5.41165614 -15.21468284]\n",
      " [  7.24712767  18.86174202]\n",
      " [ -7.46453723 -14.58933837]\n",
      " [ -1.02364983  -3.42818424]\n",
      " [ -2.99343104  -5.06667405]\n",
      " [ -1.33999801  -5.71637483]\n",
      " [  9.63161278  16.17374428]\n",
      " [ -3.801488    -8.90218901]\n",
      " [ -9.76106816 -18.09053896]\n",
      " [ -0.89107259  -2.9550957 ]\n",
      " [  8.52857764  16.46478624]\n",
      " [  8.29155979  17.15221051]\n",
      " [ -7.46688835 -13.80257154]\n",
      " [ -3.97148985  -9.47565818]\n",
      " [  9.3753366   19.49483158]\n",
      " [  3.04155644   8.46965256]\n",
      " [  9.4831369   22.20604279]\n",
      " [  9.06430147  18.05854239]\n",
      " [  8.06688594  15.07403942]\n",
      " [ -5.76936533 -10.39728133]\n",
      " [ -8.43000048 -15.92784882]\n",
      " [  6.2516234   12.38030195]\n",
      " [  5.17496973  10.59949775]\n",
      " [ -5.31767301 -11.30535123]\n",
      " [ -9.50525688 -21.49723628]\n",
      " [  5.1541557    7.82039339]\n",
      " [ -7.10501342 -13.42611754]\n",
      " [ -3.03151277  -6.77624282]\n",
      " [  1.44013513   2.13903461]\n",
      " [  3.27891782   5.16892714]\n",
      " [ -1.31979222  -2.99497551]\n",
      " [  7.14900899  13.69550104]\n",
      " [  3.91260732   9.4711759 ]\n",
      " [  9.5711068   21.46061125]\n",
      " [  2.97016156   6.49690211]\n",
      " [ -2.04402205  -5.95024801]\n",
      " [ -9.58117336 -17.79255907]\n",
      " [ -9.04957841 -16.84038259]\n",
      " [  0.57430067   0.72354129]\n",
      " [  6.54824872  14.58324234]\n",
      " [  5.42840792  12.60137026]\n",
      " [ -6.27934144 -13.75925691]\n",
      " [ -5.56027062 -13.64280299]\n",
      " [ -8.78943016 -19.82251886]\n",
      " [  9.89620056  20.23991254]\n",
      " [ -1.60464843  -1.03903437]\n",
      " [  6.03124546  10.7427292 ]\n",
      " [  2.09222303   2.39029614]\n",
      " [ -1.39211422   0.2493828 ]\n",
      " [  8.15341196  18.27334272]\n",
      " [ -5.58958341 -12.81001672]\n",
      " [  3.04182972   4.58364675]\n",
      " [  3.37322187   6.63876745]\n",
      " [  7.81842236  17.06380739]\n",
      " [ -0.42901742  -1.27558356]]\n",
      "data2 [[  6.45548292 -19.97796164]\n",
      " [ -4.0375071   13.9203374 ]\n",
      " [ -5.29291595  15.74287725]\n",
      " [  4.86376573 -19.10725436]\n",
      " [  9.49490925 -32.03202613]\n",
      " [ -5.61546583  14.42445362]\n",
      " [  5.08458791 -13.22000834]\n",
      " [  4.27202766 -16.42475359]\n",
      " [ -7.81843397  24.5244034 ]\n",
      " [ -8.51035285  23.09779218]\n",
      " [ -3.95193094  11.07006783]\n",
      " [ -6.76144022  19.64334319]\n",
      " [ -3.02169079   9.99896179]\n",
      " [ -3.15171869  11.79870199]\n",
      " [  1.67585154  -2.66223118]\n",
      " [  6.68456569 -20.72156037]\n",
      " [  3.32756301 -10.67152174]\n",
      " [  3.5850247   -9.83969983]\n",
      " [  3.0601997   -8.5939768 ]\n",
      " [ -3.11239549   8.93920079]\n",
      " [ -2.54529142   5.48580206]\n",
      " [ -2.2023366    7.33527999]\n",
      " [  7.64362653 -20.18530071]\n",
      " [  3.92697355  -9.84223431]\n",
      " [ -6.91251548  20.26281039]\n",
      " [ -2.04839582   4.73583298]\n",
      " [  7.6578935  -24.84462735]\n",
      " [ -6.86956143  21.12202865]\n",
      " [  8.81290039 -25.20739154]\n",
      " [  9.39769574 -23.74981906]\n",
      " [  6.98193365 -22.65168418]\n",
      " [ -6.33546282  16.97659412]\n",
      " [ -9.27975183  28.7323095 ]\n",
      " [ -8.38872483  22.68275875]\n",
      " [ -5.5901807   17.71267119]\n",
      " [ -7.41183101  22.57944177]\n",
      " [  4.03230745 -12.86104769]\n",
      " [  2.7371708   -6.89688009]\n",
      " [  0.70541893  -4.99212063]\n",
      " [  1.27669515  -0.6241398 ]\n",
      " [  6.25184653 -17.37977096]\n",
      " [  7.15638539 -20.94369062]\n",
      " [ -5.70127408  14.45270238]\n",
      " [ -4.86387374  16.11888682]\n",
      " [  8.36169423 -29.46114894]\n",
      " [ -5.41165614  16.48464051]\n",
      " [  7.24712767 -22.91366682]\n",
      " [ -7.46453723  22.53240678]\n",
      " [ -1.02364983   4.00532087]\n",
      " [ -2.99343104   6.12574918]\n",
      " [ -1.33999801   3.52555933]\n",
      " [  9.63161278 -26.10530687]\n",
      " [ -3.801488    11.57195754]\n",
      " [ -9.76106816  28.79849372]\n",
      " [ -0.89107259   1.90750619]\n",
      " [  8.52857764 -24.04225977]\n",
      " [  8.29155979 -26.63808148]\n",
      " [ -7.46688835  20.92297398]\n",
      " [ -3.97148985  11.97589142]\n",
      " [  9.3753366  -29.20793436]\n",
      " [  3.04155644 -10.62858065]\n",
      " [  9.4831369  -28.14353459]\n",
      " [  9.06430147 -26.3093036 ]\n",
      " [  8.06688594 -22.38561116]\n",
      " [ -5.76936533  18.00609873]\n",
      " [ -8.43000048  26.5249755 ]\n",
      " [  6.2516234  -21.09665149]\n",
      " [  5.17496973 -19.362958  ]\n",
      " [ -5.31767301  12.20096216]\n",
      " [ -9.50525688  28.2192783 ]\n",
      " [  5.1541557  -18.04058406]\n",
      " [ -7.10501342  22.61137073]\n",
      " [ -3.03151277  11.06510716]\n",
      " [  1.44013513  -4.13515183]\n",
      " [  3.27891782 -10.55344064]\n",
      " [ -1.31979222   3.17155304]\n",
      " [  7.14900899 -23.9718984 ]\n",
      " [  3.91260732 -11.50718429]\n",
      " [  9.5711068  -28.84944477]\n",
      " [  2.97016156 -11.69300478]\n",
      " [ -2.04402205   3.63157457]\n",
      " [ -9.58117336  30.5819096 ]\n",
      " [ -9.04957841  28.87306097]\n",
      " [  0.57430067   2.68689113]\n",
      " [  6.54824872 -15.79734886]\n",
      " [  5.42840792 -16.61423653]\n",
      " [ -6.27934144  17.0821024 ]\n",
      " [ -5.56027062  13.60274589]\n",
      " [ -8.78943016  25.83619095]\n",
      " [  9.89620056 -28.46278692]\n",
      " [ -1.60464843   5.42845885]\n",
      " [  6.03124546 -15.89923642]\n",
      " [  2.09222303  -5.74746937]\n",
      " [ -1.39211422   5.80974458]\n",
      " [  8.15341196 -24.47083132]\n",
      " [ -5.58958341  16.26666062]\n",
      " [  3.04182972  -9.14618637]\n",
      " [  3.37322187  -9.28620842]\n",
      " [  7.81842236 -21.17582312]\n",
      " [ -0.42901742   2.78353926]]\n"
     ]
    }
   ],
   "source": [
    "# entrez ci-dessous votre code python / write your code here\n",
    "\n",
    "print(type(data1),type(data2))\n",
    "print(shape(data1),shape(data2))\n",
    "print(\"data1\",data1)\n",
    "print(\"data2\",data2)"
   ]
  },
  {
   "cell_type": "markdown",
   "id": "221c8c5a",
   "metadata": {},
   "source": [
    "<div class=\"rq\">\n",
    "\n",
    "Vous venez de vérifier que `data1` et `data2` sont des tableaux à deux dimensions au format `numpy`. La première colonne contient 100 valeurs de $x$, et la deuxième les valeurs de $f_i(x)$ correspondantes \n",
    "\n",
    "</div>\n",
    "<div class=\"rqE\">\n",
    "\n",
    "You have just checked that `data1` et `data2` are `numpy` 2D arrays. 100 $x$ values are stored in the first column, whilst the second one contains the 100 corresponding $f_i(x)$ values. \n",
    "\n",
    "</div>"
   ]
  },
  {
   "cell_type": "markdown",
   "id": "8e632d27-4c4c-4eb2-8c78-bb86f611de00",
   "metadata": {},
   "source": [
    "#### **3.** Quelques manipulations simples de tableaux<br>*Basic manipulation of arrays*\n",
    "\n",
    "<div class=\"intro\">\n",
    "\n",
    "Affichez seulement les valeurs de $x$ contenues dans `data1`, puis seulement les valeurs de $f_1(x)$, c'est-à-dire les contenus de la première puis de la deuxième colonne. Vérifiez au passage que $f_2(x)$ a bien été évaluée pour les mêmes valeurs de $x$ que $f_1(x)$, et ce *sans afficher les valeurs de $x$ de `data2`* \n",
    "\n",
    "</div>\n",
    "\n",
    "<div class=\"introE\">\n",
    "\n",
    "Display only the values of $x$ contained in `data1`, then only the values of $f_1(x)$ , *i.e.*, the contents of the first and then the second column. Check that $f_2(x)$ has been evaluated for the same values of $x$ as $f_1(x)$ , without displaying the values of $x$ of `data2`\n",
    "\n",
    "</div>"
   ]
  },
  {
   "cell_type": "code",
   "execution_count": 9,
   "id": "cc8cd3dc",
   "metadata": {},
   "outputs": [
    {
     "name": "stdout",
     "output_type": "stream",
     "text": [
      "X1 :  [ 6.45548292 -4.0375071  -5.29291595  4.86376573  9.49490925 -5.61546583\n",
      "  5.08458791  4.27202766 -7.81843397 -8.51035285 -3.95193094 -6.76144022\n",
      " -3.02169079 -3.15171869  1.67585154  6.68456569  3.32756301  3.5850247\n",
      "  3.0601997  -3.11239549 -2.54529142 -2.2023366   7.64362653  3.92697355\n",
      " -6.91251548 -2.04839582  7.6578935  -6.86956143  8.81290039  9.39769574\n",
      "  6.98193365 -6.33546282 -9.27975183 -8.38872483 -5.5901807  -7.41183101\n",
      "  4.03230745  2.7371708   0.70541893  1.27669515  6.25184653  7.15638539\n",
      " -5.70127408 -4.86387374  8.36169423 -5.41165614  7.24712767 -7.46453723\n",
      " -1.02364983 -2.99343104 -1.33999801  9.63161278 -3.801488   -9.76106816\n",
      " -0.89107259  8.52857764  8.29155979 -7.46688835 -3.97148985  9.3753366\n",
      "  3.04155644  9.4831369   9.06430147  8.06688594 -5.76936533 -8.43000048\n",
      "  6.2516234   5.17496973 -5.31767301 -9.50525688  5.1541557  -7.10501342\n",
      " -3.03151277  1.44013513  3.27891782 -1.31979222  7.14900899  3.91260732\n",
      "  9.5711068   2.97016156 -2.04402205 -9.58117336 -9.04957841  0.57430067\n",
      "  6.54824872  5.42840792 -6.27934144 -5.56027062 -8.78943016  9.89620056\n",
      " -1.60464843  6.03124546  2.09222303 -1.39211422  8.15341196 -5.58958341\n",
      "  3.04182972  3.37322187  7.81842236 -0.42901742]\n",
      "f1 :  [  9.26292346 -11.27214156 -11.99446826  13.90957298  18.35729593\n",
      " -16.29005764  10.17572123   9.10895831 -16.99249214 -22.78009778\n",
      "  -9.25188508 -13.35386129  -5.73519287  -9.91710819   0.32736253\n",
      "  12.43795537   7.05981381  11.55231254   5.37561151  -8.10025798\n",
      "  -6.21968459  -6.45077151  12.19820444   5.01896125 -17.1841206\n",
      "  -5.69686354  17.54990811 -13.95526008  15.26119348  19.02473937\n",
      "  16.05892066 -15.04766872 -17.40766402 -15.41654717 -14.65986145\n",
      " -16.85784524   6.09503241   5.28016405   3.16634137   6.34745686\n",
      "  12.89852388  13.26494959 -12.28043971  -7.43788776  18.44751455\n",
      " -15.21468284  18.86174202 -14.58933837  -3.42818424  -5.06667405\n",
      "  -5.71637483  16.17374428  -8.90218901 -18.09053896  -2.9550957\n",
      "  16.46478624  17.15221051 -13.80257154  -9.47565818  19.49483158\n",
      "   8.46965256  22.20604279  18.05854239  15.07403942 -10.39728133\n",
      " -15.92784882  12.38030195  10.59949775 -11.30535123 -21.49723628\n",
      "   7.82039339 -13.42611754  -6.77624282   2.13903461   5.16892714\n",
      "  -2.99497551  13.69550104   9.4711759   21.46061125   6.49690211\n",
      "  -5.95024801 -17.79255907 -16.84038259   0.72354129  14.58324234\n",
      "  12.60137026 -13.75925691 -13.64280299 -19.82251886  20.23991254\n",
      "  -1.03903437  10.7427292    2.39029614   0.2493828   18.27334272\n",
      " -12.81001672   4.58364675   6.63876745  17.06380739  -1.27558356]\n",
      "[ True  True  True  True  True  True  True  True  True  True  True  True\n",
      "  True  True  True  True  True  True  True  True  True  True  True  True\n",
      "  True  True  True  True  True  True  True  True  True  True  True  True\n",
      "  True  True  True  True  True  True  True  True  True  True  True  True\n",
      "  True  True  True  True  True  True  True  True  True  True  True  True\n",
      "  True  True  True  True  True  True  True  True  True  True  True  True\n",
      "  True  True  True  True  True  True  True  True  True  True  True  True\n",
      "  True  True  True  True  True  True  True  True  True  True  True  True\n",
      "  True  True  True  True]\n",
      "\n",
      "numpy.all() :  True\n"
     ]
    }
   ],
   "source": [
    "# entrez ci-dessous votre code python / write your code here\n",
    "\n",
    "print(\"X1 : \",data1[:,0])\n",
    "print(\"f1 : \",data1[:,1])\n",
    "print(data1[:,0] == data2[:,0])\n",
    "\n",
    "# Remarque : on peut faire un peu mieux, en utilisant np.all(), qui renvoie True si tous les éléments\n",
    "# d'un tableau numpy sont True et qui renvoie False dans le cas contraire\n",
    "# Note: we can do a little better, using np.all(), which returns True if all elements\n",
    "# of a numpy array are True and returns False otherwise\n",
    "print()\n",
    "print(\"numpy.all() : \",(data1[:,0] == data2[:,0]).all())"
   ]
  },
  {
   "cell_type": "markdown",
   "id": "5571a9f0",
   "metadata": {},
   "source": [
    "<div class=\"rq\">\n",
    "\n",
    "Par la suite, les tableaux $x$, $f_1(x)$ et $f_2(x)$ seront désignés `X1`, `X2`, `f1` et `f2`\n",
    "\n",
    "</div>\n",
    "\n",
    "<div class=\"rqE\">\n",
    "\n",
    "From now on, arrays $x$, $f_1(x)$ and $f_2(x)$ will be named `X1`, `X2`, `f1` et `f2`\n",
    "\n",
    "</div>"
   ]
  },
  {
   "cell_type": "markdown",
   "id": "f76be34f-d139-465c-bc3c-9b94888c71f0",
   "metadata": {
    "tags": []
   },
   "source": [
    "#### **4.** Tracé des fonctions `f1` et `f2`<br>*Plotting of the `f1` and `f2` functions* \n",
    "\n",
    "<div class=\"intro\">\n",
    "\n",
    "On va tracer les 2 fonctions pour voir à quoi elles ressemblent.  Vérifiez *de visu* que les distributions de points sont cohérentes avec les expressions des fonctions. On suggère d'utiliser la fonction `scatter`, qui prend principalement 2 variables. On recommande d'ajouter un label à chaque tracé : <br>\n",
    "`scatter(tableau des valeurs de x, tableau des valeurs de y, label='votrelabel')`\n",
    "    \n",
    "</div>\n",
    "<div class=\"introE\">\n",
    "\n",
    "We will plot the 2 functions to see what they look like.  Visually check that the data distributions are consistent with the expressions of the functions. It is advisable to use the `scatter` function, which mainly takes 2 variables. It is recommended to add a label to each graph: <br>\n",
    "`scatter(x array, y array, label='yourlabel')`\n",
    "    \n",
    "</div>"
   ]
  },
  {
   "cell_type": "code",
   "execution_count": 11,
   "id": "8e895c21-5dc6-4645-80c3-c4f1373dae25",
   "metadata": {
    "tags": []
   },
   "outputs": [
    {
     "data": {
      "text/plain": [
       "<matplotlib.legend.Legend at 0x7f418270a170>"
      ]
     },
     "execution_count": 11,
     "metadata": {},
     "output_type": "execute_result"
    },
    {
     "data": {
      "image/png": "[encoded data removed]",
      "text/plain": [
       "<Figure size 800x600 with 1 Axes>"
      ]
     },
     "metadata": {},
     "output_type": "display_data"
    }
   ],
   "source": [
    "# définition de la taille de la figure / figure size\n",
    "figure(figsize = (8,6))\n",
    "\n",
    "# entrez ci-dessous votre code python / write your code here\n",
    "scatter(data1[:,0],data1[:,1],label='f1')\n",
    "scatter(data2[:,0],data2[:,1],label='f2')\n",
    "legend(loc=\"upper left\")"
   ]
  },
  {
   "cell_type": "markdown",
   "id": "1bd9925d-0f34-4c23-8694-ad5d9ab41420",
   "metadata": {},
   "source": [
    "#### **5.** Création et affichage d'un dataframe au format pandas<br>*Creating and displaying a pandas dataframe*\n",
    "\n",
    "<div class=\"intro\">\n",
    "\n",
    "- Stockez ces données au format pandas dans un dataframe nommé `df`. Les deux premières colonnes du tableau `df` vont contenir les valeurs de X1 et X2, et les suivantes les valeurs que prennent les fonctions f1 et f2 pour chacune des valeurs de X1\n",
    "\n",
    "-  Affichez le tableau `df`, qui contient les données</div>\n",
    "\n",
    "<div class=\"introE\">\n",
    "\n",
    "- Store this data in pandas format in dataframe named `df`. The first two columns of the array `df` will contain the values for `X1` and `X2`, and the following columns will contain the values that the functions `f1` and `f2` take for each of the values of `X1`\n",
    "\n",
    "- Display the `df` dataframe, which contains the data</div>"
   ]
  },
  {
   "cell_type": "code",
   "execution_count": 12,
   "id": "df00dc62-0e25-4245-b559-c775ad89eddc",
   "metadata": {
    "tags": []
   },
   "outputs": [
    {
     "data": {
      "text/html": [
       "<div>\n",
       "<style scoped>\n",
       "    .dataframe tbody tr th:only-of-type {\n",
       "        vertical-align: middle;\n",
       "    }\n",
       "\n",
       "    .dataframe tbody tr th {\n",
       "        vertical-align: top;\n",
       "    }\n",
       "\n",
       "    .dataframe thead th {\n",
       "        text-align: right;\n",
       "    }\n",
       "</style>\n",
       "<table border=\"1\" class=\"dataframe\">\n",
       "  <thead>\n",
       "    <tr style=\"text-align: right;\">\n",
       "      <th></th>\n",
       "      <th>X1</th>\n",
       "      <th>X2</th>\n",
       "      <th>f1</th>\n",
       "      <th>f2</th>\n",
       "    </tr>\n",
       "  </thead>\n",
       "  <tbody>\n",
       "    <tr>\n",
       "      <th>0</th>\n",
       "      <td>6.455483</td>\n",
       "      <td>-4.049115</td>\n",
       "      <td>9.262923</td>\n",
       "      <td>-19.977962</td>\n",
       "    </tr>\n",
       "    <tr>\n",
       "      <th>1</th>\n",
       "      <td>-4.037507</td>\n",
       "      <td>8.492137</td>\n",
       "      <td>-11.272142</td>\n",
       "      <td>13.920337</td>\n",
       "    </tr>\n",
       "    <tr>\n",
       "      <th>2</th>\n",
       "      <td>-5.292916</td>\n",
       "      <td>7.157954</td>\n",
       "      <td>-11.994468</td>\n",
       "      <td>15.742877</td>\n",
       "    </tr>\n",
       "    <tr>\n",
       "      <th>3</th>\n",
       "      <td>4.863766</td>\n",
       "      <td>-9.403327</td>\n",
       "      <td>13.909573</td>\n",
       "      <td>-19.107254</td>\n",
       "    </tr>\n",
       "    <tr>\n",
       "      <th>4</th>\n",
       "      <td>9.494909</td>\n",
       "      <td>-8.515990</td>\n",
       "      <td>18.357296</td>\n",
       "      <td>-32.032026</td>\n",
       "    </tr>\n",
       "    <tr>\n",
       "      <th>...</th>\n",
       "      <td>...</td>\n",
       "      <td>...</td>\n",
       "      <td>...</td>\n",
       "      <td>...</td>\n",
       "    </tr>\n",
       "    <tr>\n",
       "      <th>95</th>\n",
       "      <td>-5.589583</td>\n",
       "      <td>3.396987</td>\n",
       "      <td>-12.810017</td>\n",
       "      <td>16.266661</td>\n",
       "    </tr>\n",
       "    <tr>\n",
       "      <th>96</th>\n",
       "      <td>3.041830</td>\n",
       "      <td>-0.787861</td>\n",
       "      <td>4.583647</td>\n",
       "      <td>-9.146186</td>\n",
       "    </tr>\n",
       "    <tr>\n",
       "      <th>97</th>\n",
       "      <td>3.373222</td>\n",
       "      <td>4.151590</td>\n",
       "      <td>6.638767</td>\n",
       "      <td>-9.286208</td>\n",
       "    </tr>\n",
       "    <tr>\n",
       "      <th>98</th>\n",
       "      <td>7.818422</td>\n",
       "      <td>-1.239580</td>\n",
       "      <td>17.063807</td>\n",
       "      <td>-21.175823</td>\n",
       "    </tr>\n",
       "    <tr>\n",
       "      <th>99</th>\n",
       "      <td>-0.429017</td>\n",
       "      <td>-6.494035</td>\n",
       "      <td>-1.275584</td>\n",
       "      <td>2.783539</td>\n",
       "    </tr>\n",
       "  </tbody>\n",
       "</table>\n",
       "<p>100 rows × 4 columns</p>\n",
       "</div>"
      ],
      "text/plain": [
       "          X1        X2         f1         f2\n",
       "0   6.455483 -4.049115   9.262923 -19.977962\n",
       "1  -4.037507  8.492137 -11.272142  13.920337\n",
       "2  -5.292916  7.157954 -11.994468  15.742877\n",
       "3   4.863766 -9.403327  13.909573 -19.107254\n",
       "4   9.494909 -8.515990  18.357296 -32.032026\n",
       "..       ...       ...        ...        ...\n",
       "95 -5.589583  3.396987 -12.810017  16.266661\n",
       "96  3.041830 -0.787861   4.583647  -9.146186\n",
       "97  3.373222  4.151590   6.638767  -9.286208\n",
       "98  7.818422 -1.239580  17.063807 -21.175823\n",
       "99 -0.429017 -6.494035  -1.275584   2.783539\n",
       "\n",
       "[100 rows x 4 columns]"
      ]
     },
     "metadata": {},
     "output_type": "display_data"
    }
   ],
   "source": [
    "import pandas as pd\n",
    "\n",
    "# le tableau pandas (i.e. un dataframe) df est crée par cette ligne, X1 étant la première colonne\n",
    "# a pandas table (i.e. a dataframe) df is created below, X1 being the first column\n",
    "df = pd.DataFrame(X1, columns = ['X1'])\n",
    "\n",
    "# entrez ci-dessous votre code python pour compléter le dataframe df / write your code here to complete the df dataframe\n",
    "df['X2'] = pd.DataFrame(X2)\n",
    "df['f1'] = pd.DataFrame(data1[:,1])\n",
    "df['f2'] = pd.DataFrame(data2[:,1])\n",
    "\n",
    "# entrez ci-dessous votre code python pour afficher le contenu de df / write your code here to display the df dataframe\n",
    "display(df)"
   ]
  },
  {
   "cell_type": "markdown",
   "id": "d6f37d34",
   "metadata": {},
   "source": [
    "### **Exercice 2.** Analyse statistique basique des données et recherche de possibles corrélations entre données<br>*Basic statistical analysis of the data and correlation analysis*"
   ]
  },
  {
   "cell_type": "markdown",
   "id": "89b66888-4ff2-4db6-a7dc-0dfac066d150",
   "metadata": {},
   "source": [
    "#### **1.** Statistiques descriptives<br>*Descriptive statistics*\n",
    "\n",
    "<div class=\"intro\">\n",
    "\n",
    "Afficher les statistiques descriptives des données contenues dans `df`, c'est-à-dire moyenne, écart-type, etc... (*suggestion*: utiliser la fonction `describe` de `pandas`)\n",
    "\n",
    "</div>\n",
    "\n",
    "<div class=\"introE\">\n",
    "\n",
    "Print the descriptive statistics of the data stored in `df`, *i.e.* mean, standard deviation, etc... (*hint*: use the`describe` function of `pandas`)\n",
    "\n",
    "</div>"
   ]
  },
  {
   "cell_type": "code",
   "execution_count": 13,
   "id": "6ebbd7ab-dad2-410e-aef7-3537fc3620dd",
   "metadata": {
    "tags": []
   },
   "outputs": [
    {
     "data": {
      "text/html": [
       "<div>\n",
       "<style scoped>\n",
       "    .dataframe tbody tr th:only-of-type {\n",
       "        vertical-align: middle;\n",
       "    }\n",
       "\n",
       "    .dataframe tbody tr th {\n",
       "        vertical-align: top;\n",
       "    }\n",
       "\n",
       "    .dataframe thead th {\n",
       "        text-align: right;\n",
       "    }\n",
       "</style>\n",
       "<table border=\"1\" class=\"dataframe\">\n",
       "  <thead>\n",
       "    <tr style=\"text-align: right;\">\n",
       "      <th></th>\n",
       "      <th>X1</th>\n",
       "      <th>X2</th>\n",
       "      <th>f1</th>\n",
       "      <th>f2</th>\n",
       "    </tr>\n",
       "  </thead>\n",
       "  <tbody>\n",
       "    <tr>\n",
       "      <th>count</th>\n",
       "      <td>100.000000</td>\n",
       "      <td>100.000000</td>\n",
       "      <td>100.000000</td>\n",
       "      <td>100.000000</td>\n",
       "    </tr>\n",
       "    <tr>\n",
       "      <th>mean</th>\n",
       "      <td>0.396907</td>\n",
       "      <td>0.049214</td>\n",
       "      <td>0.406565</td>\n",
       "      <td>-1.314856</td>\n",
       "    </tr>\n",
       "    <tr>\n",
       "      <th>std</th>\n",
       "      <td>6.133485</td>\n",
       "      <td>5.101728</td>\n",
       "      <td>12.927726</td>\n",
       "      <td>18.387936</td>\n",
       "    </tr>\n",
       "    <tr>\n",
       "      <th>min</th>\n",
       "      <td>-9.761068</td>\n",
       "      <td>-9.403327</td>\n",
       "      <td>-22.780098</td>\n",
       "      <td>-32.032026</td>\n",
       "    </tr>\n",
       "    <tr>\n",
       "      <th>25%</th>\n",
       "      <td>-5.448810</td>\n",
       "      <td>-4.534642</td>\n",
       "      <td>-12.065961</td>\n",
       "      <td>-19.171180</td>\n",
       "    </tr>\n",
       "    <tr>\n",
       "      <th>50%</th>\n",
       "      <td>0.639860</td>\n",
       "      <td>0.224373</td>\n",
       "      <td>0.525452</td>\n",
       "      <td>0.641683</td>\n",
       "    </tr>\n",
       "    <tr>\n",
       "      <th>75%</th>\n",
       "      <td>6.251679</td>\n",
       "      <td>3.950654</td>\n",
       "      <td>12.394715</td>\n",
       "      <td>14.775246</td>\n",
       "    </tr>\n",
       "    <tr>\n",
       "      <th>max</th>\n",
       "      <td>9.896201</td>\n",
       "      <td>9.566874</td>\n",
       "      <td>22.206043</td>\n",
       "      <td>30.581910</td>\n",
       "    </tr>\n",
       "  </tbody>\n",
       "</table>\n",
       "</div>"
      ],
      "text/plain": [
       "               X1          X2          f1          f2\n",
       "count  100.000000  100.000000  100.000000  100.000000\n",
       "mean     0.396907    0.049214    0.406565   -1.314856\n",
       "std      6.133485    5.101728   12.927726   18.387936\n",
       "min     -9.761068   -9.403327  -22.780098  -32.032026\n",
       "25%     -5.448810   -4.534642  -12.065961  -19.171180\n",
       "50%      0.639860    0.224373    0.525452    0.641683\n",
       "75%      6.251679    3.950654   12.394715   14.775246\n",
       "max      9.896201    9.566874   22.206043   30.581910"
      ]
     },
     "execution_count": 13,
     "metadata": {},
     "output_type": "execute_result"
    }
   ],
   "source": [
    "# entrez ci-dessous votre code python / write your code here\n",
    "df.describe()"
   ]
  },
  {
   "cell_type": "markdown",
   "id": "9aac5cb2-2a82-4c14-938e-6d8c679e2e17",
   "metadata": {
    "tags": []
   },
   "source": [
    "#### **2.** Recherche des possibles corrélations entre les données<br>*Correlation analysis*\n",
    "\n",
    "<div class=\"intro\">\n",
    "\n",
    "Tracer toutes ces données les unes en fonctions des autres (*suggestion*: utiliser la fonction `pairplot` de `seaborn`)\n",
    "</div>\n",
    "\n",
    "<div class=\"introE\">\n",
    "    \n",
    "Plot pairwise relationships between variables within the `df`  dataset. (*hint*: use the `pairplot` function of `seaborn`)\n",
    "</div>"
   ]
  },
  {
   "cell_type": "code",
   "execution_count": 14,
   "id": "31b8481d-f068-4437-ba73-f98a123c0626",
   "metadata": {
    "tags": []
   },
   "outputs": [
    {
     "data": {
      "text/plain": [
       "<seaborn.axisgrid.PairGrid at 0x7f417a243820>"
      ]
     },
     "execution_count": 14,
     "metadata": {},
     "output_type": "execute_result"
    },
    {
     "data": {
      "image/png": "[encoded data removed]",
      "text/plain": [
       "<Figure size 1000x1000 with 20 Axes>"
      ]
     },
     "metadata": {},
     "output_type": "display_data"
    }
   ],
   "source": [
    "import seaborn as sns\n",
    "# entrez ci-dessous votre code python / write your code here\n",
    "sns.pairplot(df)"
   ]
  },
  {
   "cell_type": "markdown",
   "id": "49d415f5-b70b-4420-b9ff-48220311110a",
   "metadata": {
    "tags": []
   },
   "source": [
    "#### **3.** Carte thermique<br>*Heatmap*\n",
    "\n",
    "<div class=\"intro\">\n",
    "\n",
    "Tracer une carte thermique (*suggestion*: utiliser la fonction `heatmap` de `seaborn`, avec les options `annot = True, cmap='coolwarm'` et en utilisant les bornes appropriées `vmin` et `vmax`. Le tableau (matrice) de corrélation entre données est quant à lui calculé avec la fonction `corr` de `pandas`)\n",
    "\n",
    "</div>\n",
    "\n",
    "<div class=\"introE\">\n",
    "\n",
    "Plot a heatmap (*hint*: use the `heatmap` tool of `seaborn`, with arguments `annot = True, cmap='coolwarm'` and by using appropriate `vmin` et `vmax` values. The pairwise correlation matrix will be computed with the `corr` function imported from `pandas`)\n",
    "\n",
    "</div>"
   ]
  },
  {
   "cell_type": "code",
   "execution_count": 16,
   "id": "2c2b2230-d70b-4a03-9ba2-71f8fc78184d",
   "metadata": {
    "tags": []
   },
   "outputs": [
    {
     "data": {
      "text/plain": [
       "<Axes: >"
      ]
     },
     "execution_count": 16,
     "metadata": {},
     "output_type": "execute_result"
    },
    {
     "data": {
      "image/png": "[encoded data removed]",
      "text/plain": [
       "<Figure size 800x600 with 2 Axes>"
      ]
     },
     "metadata": {},
     "output_type": "display_data"
    }
   ],
   "source": [
    "# définition de la taille de la figure et d'une dimension de caractères qui rende la figure lisible\n",
    "# setup of the figure and font sizes\n",
    "plt.figure(figsize = (8,6))\n",
    "sns.set(font_scale=1.2)\n",
    "\n",
    "# entrez ci-dessous votre code python / write your code here\n",
    "sns.heatmap(df.corr(), vmin = -1, vmax = +1, annot = True, cmap='coolwarm')\n",
    "# fig = sns.heatmap(df.corr(), vmin = -1, vmax = +1, annot = True, cmap='coolwarm')\n",
    "# savefig(\"svg-images/heatmap1.png\")"
   ]
  },
  {
   "cell_type": "markdown",
   "id": "ad2c66a5-4b03-4d8b-8446-6bf54a03af9d",
   "metadata": {},
   "source": [
    "<div class=\"rq\">\n",
    "Si tout va bien, vous venez d'obtenir la carte thermique suivante (<i>les valeurs peuvent légèrement changer compte tenu du bruit statistique,</i> cf variable <code>noise</code></i>).\n",
    "<br><br>\n",
    "<b>Commentaires</b><br>\n",
    "    <li> les deux séries de variables `X1` et `X2` ont été générées aléatoirement. Les deux séries sont indépendantes l'une de l'autre, ou bien cela signifierait qu'il y a un problème avec le générateur utilisé\n",
    "    <li> `f1` et `f2` sont des fonctions des nombres contenus dans `X1`. Il ne peut donc pas y avoir de corrélation statistique avec `X2`.\n",
    "    <li> `f1` étant une fonction croissante de `X1` (au bruit statistique près), il y a corrélation positive entre les deux. On ne peut pas obtenir 1 à cause de la petite fluctuation positive introduite (reprenez le sujet et créez un bruit élevé en augmentant la valeur de <code>noise</code>). \n",
    "    <li> il y a une forte corrélation négative entre `f2` et `X1`, puisque `f2` est une fonction qui décroit en fonction de `X1`\n",
    "    <li> la forte corrélation négative entre `f1` et `f2` est également attendue\n",
    "\n",
    "<p style=\"text-align: center\"><img width=\"500px\" src=\"./svg-images/heatmap1-saved-C.png\" style=\"margin-left:auto; margin-right:auto\" id=\"img_heatmap1\"/></p>   \n",
    "\n",
    "</div>\n",
    "\n",
    "<div class=\"rqE\">\n",
    "\n",
    "If all went well, you have just obtained the previous heat map (<i>the values may change slightly due to statistical noise</i>, see variable `noise`).\n",
    "\n",
    "<b>Comments</b><br>\n",
    "- the two series of variables `X1` and `X2` were generated randomly. The two series are independent of each other, or it would mean that there is a problem with the generator used\n",
    "- `f1` and `f2` are functions of the numbers contained in `X1`. Therefore, there can be no statistical correlation with `X2`.\n",
    "- `f1` being an increasing function of `X1` (except for statistical noise), there is a positive correlation between the two. We cannot obtain 1 because of the small positive fluctuation introduced (go back to the subject and create a high noise by increasing the value of `noise`).\n",
    "- there is a strong negative correlation between `f2` and `X1`, since `f2` is a function that decreases as a function of `X1`\n",
    "- the strong negative correlation between `f1` and `f2` is also expected\n",
    "</div>"
   ]
  },
  {
   "cell_type": "code",
   "execution_count": 17,
   "id": "5d5b4fc5-0398-4ff3-84a2-2e2110ded1c5",
   "metadata": {},
   "outputs": [
    {
     "data": {
      "text/markdown": [
       "**Fin à:** Sunday 21 May 2023, 19:51:25  \n",
       "**Durée:** 00:08:14 018ms"
      ],
      "text/plain": [
       "<IPython.core.display.Markdown object>"
      ]
     },
     "metadata": {},
     "output_type": "display_data"
    },
    {
     "data": {
      "text/markdown": [
       "<p style=\"text-align: center\"><img width=\"800px\" src=\"../config/svg/logoFin.svg\" style=\"margin-left:auto; margin-right:auto\"/></p>"
      ],
      "text/plain": [
       "<IPython.core.display.Markdown object>"
      ]
     },
     "metadata": {},
     "output_type": "display_data"
    }
   ],
   "source": [
    "vID.end(cwd0)"
   ]
  },
  {
   "cell_type": "code",
   "execution_count": null,
   "id": "baa5e3a5-143a-4172-81e8-cfb631ea74df",
   "metadata": {},
   "outputs": [],
   "source": []
  }
 ],
 "metadata": {
  "kernelspec": {
   "display_name": "Python 3 (ipykernel)",
   "language": "python",
   "name": "python3"
  },
  "language_info": {
   "codemirror_mode": {
    "name": "ipython",
    "version": 3
   },
   "file_extension": ".py",
   "mimetype": "text/x-python",
   "name": "python",
   "nbconvert_exporter": "python",
   "pygments_lexer": "ipython3",
   "version": "3.10.11"
  },
  "toc-autonumbering": false
 },
 "nbformat": 4,
 "nbformat_minor": 5
}
