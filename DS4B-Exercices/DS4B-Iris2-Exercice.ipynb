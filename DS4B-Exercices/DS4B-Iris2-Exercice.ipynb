{
 "cells": [
  {
   "cell_type": "code",
   "execution_count": 1,
   "id": "766c2789-5e86-4382-8858-9bd69564beac",
   "metadata": {},
   "outputs": [
    {
     "data": {
      "text/html": [
       "<style>\n",
       "h1, h2, h3, h4, h5, h6 {\n",
       "  font-family: Verdana, \"DejaVu Sans\", \"Bitstream Vera Sans\", Geneva, sans-serif;\n",
       "  font-weight: bold;\n",
       "}\n",
       "body {\n",
       "  font-family: Verdana, \"DejaVu Sans\", \"Bitstream Vera Sans\", Geneva, sans-serif;\n",
       "  font-weight: 200;\n",
       "}\n",
       "h1 {\n",
       "  border: 0 solid #333;\n",
       "  padding: 30px ;\n",
       "  color: white;\n",
       "  background: #b11d01;\n",
       "  text-align: center;\n",
       "}\n",
       "h2 {\n",
       "  border: 3px solid #333;\n",
       "  padding: 18px ;\n",
       "  color: #b11d01;\n",
       "  background: #ffffff;\n",
       "  text-align: center;\n",
       "}\n",
       "h3 {\n",
       "  border: 0 solid #333;\n",
       "  padding: 12px ;\n",
       "  color: #000000;\n",
       "  background: #c1c1c1;\n",
       "  text-align: left;\n",
       "}\n",
       "h4 {\n",
       "  border: 0 solid #333;\n",
       "  padding: 2px ;\n",
       "  color: #000000;\n",
       "  background: #d9fffc;\n",
       "  text-align: left;\n",
       "}\n",
       "h5 {\n",
       "  border: 1px solid #333;\n",
       "  padding: 2px ;\n",
       "  color: #000000;\n",
       "  background: #ffffff;\n",
       "  text-align: left;\n",
       "}\n",
       ".warn {    \n",
       "    background-color: #fcf2f2;\n",
       "    border-color: #dFb5b4;\n",
       "    border-left: 5px solid #dfb5b4;\n",
       "    padding: 0.5em;\n",
       "    font-weight: 200;\n",
       "    }\n",
       ".rq {    \n",
       "    background-color: #e2e2e2;\n",
       "    border-color: #969696;\n",
       "    border-left: 5px solid #969696;\n",
       "    padding: 0.5em;\n",
       "    font-weight: 200;\n",
       "    }\n",
       "</style>\n"
      ],
      "text/plain": [
       "<IPython.core.display.HTML object>"
      ]
     },
     "metadata": {},
     "output_type": "display_data"
    },
    {
     "data": {
      "text/markdown": [
       "**Début à:** Thursday 03 November 2022, 21:31:28  \n",
       "**Hostname:** localhost.localdomain (Linux)"
      ],
      "text/plain": [
       "<IPython.core.display.Markdown object>"
      ]
     },
     "metadata": {},
     "output_type": "display_data"
    },
    {
     "data": {
      "text/markdown": [
       "<p style=\"text-align: center\"><img width=\"800px\" src=\"../config/svg/logoDebut.svg\" style=\"margin-left:auto; margin-right:auto\"/></p>"
      ],
      "text/plain": [
       "<IPython.core.display.Markdown object>"
      ]
     },
     "metadata": {},
     "output_type": "display_data"
    }
   ],
   "source": [
    "import os\n",
    "import sys\n",
    "\n",
    "cwd0 = '../config/'\n",
    "sys.path.append(cwd0)\n",
    "\n",
    "import visualID as vID\n",
    "from visualID import color\n",
    "vID.init(cwd0)"
   ]
  },
  {
   "cell_type": "markdown",
   "id": "2e309e2b-1061-4059-95c8-2a69c171bc5f",
   "metadata": {},
   "source": [
    "###  **Exercices**. Statistiques et régression"
   ]
  },
  {
   "cell_type": "markdown",
   "id": "85f68cef-1270-4d0a-a3c3-ff4b943a7b44",
   "metadata": {},
   "source": [
    "#### Importation des modules"
   ]
  },
  {
   "cell_type": "code",
   "execution_count": null,
   "id": "61158d4b-55d5-4b67-aa46-ffd9e71dbd02",
   "metadata": {},
   "outputs": [],
   "source": [
    "# exécutez cette cellule, sans la modifier\n",
    "%matplotlib inline\n",
    "# lecture des data avec la fonction loadtxt de numpy & tracé du nuage de points\n",
    "from pylab import *\n",
    "# d'autres bibliothèques seront importées au fur et à mesure des besoins"
   ]
  },
  {
   "cell_type": "markdown",
   "id": "dc6e8e30",
   "metadata": {},
   "source": [
    "<div class=\"rq\">\n",
    "    \n",
    "On va à nouveau faire de l'ajustement de courbes. Pour citer [wikipedia](https://fr.wikipedia.org/wiki/Ajustement_de_courbe), \"*c'est une technique d'analyse d'une courbe expérimentale, consistant à **construire une courbe à partir de fonctions mathématiques** et d'ajuster les paramètres de ces fonctions pour se **rapprocher de la courbe mesurée** — on parle donc aussi d'ajustement de paramètres. On utilise souvent le terme anglais curve fitting, profile fitting ou simplement **fitting**, pour désigner cette méthode ; on utilise souvent le franglais « fitter une courbe » pour dire « ajuster une courbe »*\"\n",
    "    \n",
    "On va systématiquement tracer le **résidu** de cet ajustement, une mesure importante en statistiques. On a vu dans le cours que les <b>résidus</b> sont définis comme étant les différences entre les valeurs observées, $y(x_i)$, et les valeurs prédites par un modèle de régression,$\\hat{y}(x_i)$ :\n",
    "\n",
    "$$e(x_i)=y(x_i)-\\hat{y}(x_i)$$\n",
    "\n",
    "Les résidus $e(x_i)$ sont calculés pour chacun des points $x_i$ qui a servi à déterminer le modèle de régression.\n",
    "\n",
    "    \n",
    "L'**analyse graphique** des résidus $e(x_i)$ permet de vérifier qu'ils ne présentent aucune structure particulière, ce qui est une condition importante pour juger de la qualité du \"*fit*\".\n",
    "\n",
    "</div>"
   ]
  },
  {
   "cell_type": "markdown",
   "id": "e4fe5ae6",
   "metadata": {},
   "source": [
    "#### **Exercice 1.** Régression linéaire\n",
    "##### **1.** Lecture et visualisation des données"
   ]
  },
  {
   "cell_type": "markdown",
   "id": "0754568b",
   "metadata": {},
   "source": [
    "On va d'abord lire à l'aide de la fonction `loadtxt` le contenu d'un fichier `f2.csv`, qui est contenu dans le répertoire `data` (son chemin d'accès est donc `data/f2.csv`). Le fichier contient 100 couples de données  $x_i$ et $y_i$, rangés dans deux colonnes séparées par une marque de tabulation.\n",
    "- le contenu des deux colonnes va être stocké dans deux variables `X` et `Y`.\n",
    "- on va ensuite tracer `Y` en fonction de `X` avec les options `linestyle='', marker='o'` "
   ]
  },
  {
   "cell_type": "code",
   "execution_count": null,
   "id": "8432d4c8-5630-455f-9d50-b0cee969ee3a",
   "metadata": {},
   "outputs": [],
   "source": [
    "# définition de la taille de la figure et des polices de caractères\n",
    "plt.rcParams[\"figure.figsize\"] = (12,6) #on ajuste la taille du graphique\n",
    "plt.rcParams[\"font.size\"] = (16) #on ajuste la taille des caractères\n",
    "ylim(-5,5)\n",
    "\n",
    "# corrigez le code python de la ligne ci-dessous\n",
    "loadtxt('data/f2.csv', delimiter='\\t', unpack=True)\n",
    "\n",
    "# entrez ci-dessous votre code python pour tracer Y en fonction de X\n"
   ]
  },
  {
   "cell_type": "markdown",
   "id": "0795aca3",
   "metadata": {},
   "source": [
    "<div class=\"warn\">\n",
    "D'après ce tracé, il pourrait y avoir une relation linéaire entre les $y_i$ et les $x_i$. C'est ce qu'on va évaluer.\n",
    "</div>"
   ]
  },
  {
   "cell_type": "markdown",
   "id": "f2ef33df",
   "metadata": {},
   "source": [
    "##### **2.** Régression linéaire\n",
    "\n",
    "On va utliser la fonction `linregress` de la bibliothèque `scipy`. Elle retourne 5 valeurs, dans l'ordre suivant : la pente (`slope`), l'ordonnée à l'origine (`intercept`), le coefficient de corrélation (`rvalue`), l'erreur sur la pente (`stderr`), l'erreur sur l'ordonnée à l'origine (`intercept_stderr`).\n",
    "\n",
    "- Après avoir appliqué `linregress`, afficher ces cinq quantités après les avoir récupérées dans les variables `a`, `b`, `r`, `stderr` et `istderr`.  Calculer puis afficher également le coefficient de détermination $R^2$ (\"R-carré\"), qui le carré du coefficient de corrélation.\n",
    "\n",
    "- Quelle est l'équation de la fonction linéaire ? Pourquoi faut-il noter $y$ avec \"un chapeau\", $\\hat{y}$ ?\n",
    "\n",
    "- Prédire la valeur de $y$ si $x$ = 0,1\n",
    "\n",
    "- Que pensez-vous de la qualité de cet ajustement ?"
   ]
  },
  {
   "cell_type": "code",
   "execution_count": null,
   "id": "ff85be05-2682-48c2-8570-b09fa03173f6",
   "metadata": {},
   "outputs": [],
   "source": [
    "from scipy.stats import linregress\n",
    "\n",
    "# ajouter le code pour appeler linregress\n",
    "\n",
    "\n",
    "# compléter ces lignes\n",
    "a = \n",
    "b = \n",
    "r = \n",
    "stderr = \n",
    "istderr = \n",
    "\n",
    "# ajouter le code pour afficher les valeurs de a, b, r, stderr, istderr et R2\n",
    "\n",
    "\n",
    "# ajouter ici le code pour prédire de la valeur de y pour x = 0,05\n"
   ]
  },
  {
   "cell_type": "markdown",
   "id": "a853f3bf",
   "metadata": {},
   "source": [
    "<div class=\"warn\">\n",
    "\n",
    "L'équation de la droite qui passe au plus près de l'ensemble des points est de la forme $\\hat{y}=ax+b$ avec $a$ = 4.291 et $b$ = -3.202.\n",
    "    \n",
    "Une relation linéaire vérifiée *simultanément* pour tous les couples de valeur $(x_i,y_i)$ est notre hypothèse qui, si elle est juste, va nous permettre de prédire $y$ en fonction de n'importe quelle valeur de $x$. Par exemple ici, vous avez **prédit** que y = -2,77 pour x= 0,1.\n",
    "    \n",
    "Le coefficient de corrélation, $R^2$ = 0.980, étant très proche de 1, cela semble valider l'hypothèse que les observations $y_i$ sont reliées aux variables $x_i$ par une relation linéaire, hypothèse renforcée par de faibles erreurs standards sur la pente et l'ordonnée à l'origine.\n",
    "\n",
    "</div>"
   ]
  },
  {
   "cell_type": "markdown",
   "id": "15588d5b",
   "metadata": {},
   "source": [
    "##### **3.** Évaluation de la qualité du fit\n",
    "\n",
    "On va maintenant calculer l'écart global entre valeurs mesurées $y$ et valeurs prédites $\\hat{y}$.\n",
    "\n",
    "<div class=\"rq\">\n",
    "    \n",
    "On a indiqué dans le cours qu'il est également possible de calculer l'erreur commise sur l'ensemble des valeurs observées. Il existe plusieurs \"métriques\", en particulier l'erreur moyenne absolue (en anglais <b>MAE</b> = Mean Absolute Error) ou encore l'erreur quadratique moyenne (en anglais **MSE** = Mean Squared Error). Les éuqations permettant de calculer la MAE ou la MSE sont rappelées ci-dessous. \n",
    "\n",
    "$$\\mathrm{MAE}=\\frac{1}{n}\\sum_{i}\\left|y(x_{i}-\\hat{y}(x_{i})\\right|$$\n",
    "\n",
    "\n",
    "$$\\mathrm{MSE}=\\frac{1}{n}\\sum_{i}\\left[y(x_{i}-\\hat{y}(x_{i})\\right]^{2}$$\n",
    "\n",
    "</div>\n",
    "\n",
    "On pourrait les calculer avec une instruction `for`, mais on va préférer utiliser les deux fonctions MAE et MSE fournies par la bibliothèque `scikit-learn`. Elles ont deux paramètres, qui sont la valeur observée et la valeur prédite.\n",
    "\n",
    "La première partie du code consiste à définir une fonction `y_hat` qui va dépendre des paramètres `a`, `b` ainsi que d'une variable `x`. On vous demande ensuite :\n",
    "\n",
    "- de calculer et d'afficher les valeurs des fonctions MAE et MSE\n",
    "- de commenter ces valeurs (*indice* : comparer à l'amplitude de la variation de $y$)"
   ]
  },
  {
   "cell_type": "code",
   "execution_count": null,
   "id": "8562bf0a",
   "metadata": {},
   "outputs": [],
   "source": [
    "# définition de la fonction y_hat\n",
    "def y_hat(a,b,x):\n",
    "    return a * x + b\n",
    "\n",
    "#importation des deux fonctions MAE et MSE du module sklearn\n",
    "from sklearn.metrics import mean_squared_error as MSE\n",
    "from sklearn.metrics import mean_absolute_error as MAE\n",
    "\n",
    "# ajouter le code pour afficher ci-dessous les valeurs de la MAE et la MSE\n"
   ]
  },
  {
   "cell_type": "markdown",
   "id": "36140932",
   "metadata": {},
   "source": [
    "<div class=\"warn\">\n",
    "\n",
    "Vous venez en principe de trouver MAE = 0,103 et MSE = 0,015. Dans l'intervalle 0,4 $\\leq x \\leq$ 1,1, $y$ varie dans une plage d'environ 3 (entre -1,5 et 1,5). Une MAE de 0,1 est donc très petite en comparaison avec 3. Ça renforce la validité de l'hypothèse d'une relation linéaire entre $y_i$ et $x_i$.\n",
    "\n",
    "</div>"
   ]
  },
  {
   "cell_type": "markdown",
   "id": "919a2c79",
   "metadata": {},
   "source": [
    "##### **4.** Évaluation graphique de l'ajustement par une fonction affine\n",
    "\n",
    "On va maintenant superposer le tracé des variables mesurées, c'est-à-dire `Y` en fonction de `X`, avec le tracé de la fonction $\\hat{y}=ax+b$. \n",
    "\n",
    "- appeler la fonction plot afin de tracer les valeurs observées `Y` en fonction de `X`. On utilisera les options `linestyle='', marker='o', color='blue', label='valeurs de y observées'`.\n",
    "\n",
    "- appeler à nouveau la fonction plot de façon à superposer les valeurs de y prédites `y_hat(a,b,X)` pour chacune des 100 variables $x_i$, contenues dans `X`. On utilisera les options `linestyle='--', color='red', label='valeurs de y prédites'`.\n",
    "\n",
    "- l'hypothèse d'une relation linéaire entre les $y_i$ et les $x_i$ vous semble-t-elle justifiée ?"
   ]
  },
  {
   "cell_type": "code",
   "execution_count": null,
   "id": "51609cc0-45e2-4023-9c19-eb811418f510",
   "metadata": {},
   "outputs": [],
   "source": [
    "# ajouter le code permettant de tracer Y en fonction de X et y_hat en fonction de X\n",
    "\n",
    "\n",
    "# options du tracé. Rien à modifier dans ces lignes, que vous pouvez néanmoins analyser\n",
    "xlabel(\"x\") # label de l'axe des abscisses\n",
    "ylabel(\"y\") # label de l'axe des ordonnées\n",
    "plt.legend() # affichage de la légende sur le graphe\n",
    "savefig(\"svg-images/Iris2-LinearCorr.png\")  # sauvegarde dans un fichier png,\n",
    "                                            #par exemple pour l'inclure dans un rapport"
   ]
  },
  {
   "cell_type": "markdown",
   "id": "6c3663cb",
   "metadata": {},
   "source": [
    "<div class=\"warn\">\n",
    "\n",
    "Vous venez en principe de trouver le tracé ci-dessous :\n",
    "<p style=\"text-align: center\"><img src=\"./svg-images/Iris2-LinearCorr-saved.png\" style=\"width:700px; margin-left:auto; margin-right:auto\" id=\"img_lincorr2\"/></p>   \n",
    "\n",
    "On voit que la corrélation linéaire ne passe pas au milieu de l'ensemble des points. La fonction semble légèrement concave. Ce type de tracé est **impératif**. Même si c'est subjectif, il permet de porter un regard critique sur l'hypothèse initiale d'une relation linéaire entre $y_i$ et $x_i$, les métriques type MAE ou MSE ou le coefficient de corrélation $R^2$ ne donnant qu'une indication globale et insuffisante.\n",
    "\n",
    "</div>"
   ]
  },
  {
   "cell_type": "markdown",
   "id": "17b77030",
   "metadata": {},
   "source": [
    "##### **5.** Tracé des résidus\n",
    "\n",
    "**5a.** On va maintenant tracer les résidus. Cette analyse graphique va justement mettre en évidence cette concavité.\n",
    "\n",
    "La première partie du code consiste à définir une fonction `résidus` qui va dépendre de tableaux `y` et `y_hat`\n",
    "\n",
    "- tracer les résidus en fonction de `X`\n",
    "- commenter"
   ]
  },
  {
   "cell_type": "code",
   "execution_count": null,
   "id": "a7a13e74-57dd-4fb5-835e-74c3c1b9c91f",
   "metadata": {},
   "outputs": [],
   "source": [
    "# définition de la fonction y_hat\n",
    "def residus(y,y_hat):\n",
    "    return y-y_hat\n",
    "\n",
    "#on ajuste la taille du graphique\n",
    "plt.rcParams[\"figure.figsize\"] = (10,8)\n",
    "# on va tracer une ligne horizontale qui passe par 0 \n",
    "axhline(y = 0, color = 'b',linestyle='--')\n",
    "\n",
    "# entrez ci-dessous votre code python pour tracer les résidus en fonction de X\n",
    "\n",
    "\n",
    "# options du tracé. Rien à modifier dans ces lignes, que vous pouvez néanmoins analyser\n",
    "xlabel(\"x\")\n",
    "ylabel(\"résidu\")\n",
    "ylim(-0.35,0.35)"
   ]
  },
  {
   "cell_type": "markdown",
   "id": "328455ba",
   "metadata": {},
   "source": [
    "<div class=\"warn\">\n",
    "\n",
    "La \"courbe en cloche\" que vous venez de tracer est sans équivoque : les résidus ne sont pas répartis de façon aléatoire autour de zéro. Ils sont structurés. **L'hypothèse d'une relation linéaire entre $y_i$ et $x_i$ est fausse.**\n",
    "\n",
    "</div>"
   ]
  },
  {
   "cell_type": "markdown",
   "id": "07f0b998",
   "metadata": {},
   "source": [
    "<div class=\"rq\">\n",
    "    \n",
    "**5b.  Question facultative.** Comme dans le notebook de cours associé (**Statistiques et régression**), on veut tracer côte-à-côte le graphe des résidus $e(x_i)$ en fonction des $x_i$ et le graphe de distribution des résidus $e(x_i)$.\n",
    "\n",
    "La fonction `résidus`, qui dépend des tableaux `y` et `y_hat`, a été déjà définie dans la question précédente.\n",
    "\n",
    "On recommande de faire un copier/coller à partir du [notebook de cours associé](../Pandas-Stats-Iris2.ipynb).\n",
    "    \n",
    "*Vous verrez avec votre enseignant si vous avez le temps de traiter cette question. Si le temps est compté ou si ça vous semble trop compliqué, il vaut mieux passer à la partie suivante.*\n",
    "    \n",
    "</div>"
   ]
  },
  {
   "cell_type": "code",
   "execution_count": null,
   "id": "664f05d7",
   "metadata": {},
   "outputs": [],
   "source": [
    "import seaborn as sns\n",
    "from matplotlib import gridspec\n",
    "plt.rcParams[\"figure.figsize\"] = (16,8) #on ajuste la taille du graphique\n",
    "\n",
    "# entrez ci-dessous votre code python\n"
   ]
  },
  {
   "cell_type": "markdown",
   "id": "1f6cbd28-6584-45dc-9430-217c50d764a8",
   "metadata": {},
   "source": [
    "#### **Exercice 2.** Régression logarithmique"
   ]
  },
  {
   "cell_type": "markdown",
   "id": "bf932799",
   "metadata": {},
   "source": [
    "<div class=\"rq\">\n",
    "    \n",
    "On va chercher à ajuster $Y=f(X)$ par une fonction du type $c\\times\\ln(x)+d$. Il s'agit donc de rechercher une corrélation plus complexe que des fonctions affines ou polynomiales.\n",
    "    \n",
    "On va pour cela utiliser la fonction `curve_fit` du module `scipy`.\n",
    "    \n",
    "</div>\n",
    "\n",
    "Pourquoi $c\\times\\ln(x)+d$ ? Car on sait que les points de l'intervalle \\[0,4 - 1,1\\] qui vous ont été fournis sont en réalité bien représentés par la loi $3\\times\\ln(x)+1$, l'écart par rapport à la fonction provenant de l'incertitude de leur mesure. Si on ne prend pas garde à l'échelle choisie, le logarithme népérien dans un intervalle $[x_1,x_2]$ étroit peut ressembler à une fonction linéaire. Après exécution du code python donné ci-dessous, vous pourrez comparer le tracé de $3\\times\\ln(x)+1$ avec celui des données que vous venez d'étudier.\n",
    "\n",
    "*NB. On utilise des variables c et d pour ne pas écraser les variables a et b de l'exercice précédent*"
   ]
  },
  {
   "cell_type": "code",
   "execution_count": null,
   "id": "3e7bdf5c",
   "metadata": {},
   "outputs": [],
   "source": [
    "# exécutez cette cellule, sans la modifier\n",
    "# son rôle est de comparer la fonction 3ln(x)+1 et les données étudiées dans la partie précédente \n",
    "mosaic = [[1,2]]\n",
    "fig, ax = subplot_mosaic(mosaic, constrained_layout=True,figsize=(10,4),sharex=True,sharey=True)\n",
    "\n",
    "xmin = 0.05\n",
    "xmax = 4\n",
    "npt = 100\n",
    "# génération de npt points équirépartis entre xmin et xmax\n",
    "x = np.linspace(xmin, xmax, npt)\n",
    "          \n",
    "ax[1].plot(x, 3*log(x)+1,color='red')\n",
    "ax[1].set_title(\"$y=3\\ln(x)+1$\", fontsize=14, color=\"blue\")\n",
    "ax[1].axvline(x = 0, color = '0.7',linestyle='--')\n",
    "ax[1].axhline(y = 0, color = '0.7',linestyle='--')\n",
    "          \n",
    "ax[2].plot(X, Y,color='blue', marker='o', linestyle='')\n",
    "ax[2].set_title(\"$Y=f(X)$\", fontsize=14, color=\"blue\")\n",
    "ax[2].axvline(x = 0, color = '0.7',linestyle='--')\n",
    "ax[2].axhline(y = 0, color = '0.7',linestyle='--')"
   ]
  },
  {
   "cell_type": "markdown",
   "id": "f02a8bfa",
   "metadata": {},
   "source": [
    "##### **1.** Définition de la fonction à modéliser et lecture des données\n",
    "\n",
    "**1.a.** Définir la relation à modéliser ($c\\times\\ln(x)+d$) sous forme d'une fonction python `fln_hat` qui prend comme arguments la valeur en abscisse, *puis* les coefficients du modèle à déterminer."
   ]
  },
  {
   "cell_type": "code",
   "execution_count": null,
   "id": "5d808f19",
   "metadata": {},
   "outputs": [],
   "source": [
    "# le logarithme népérien de la bibliothèque numpy est appelé log\n",
    "# La ligne ci-dessous consiste à remplacer l'appel à log par un appel à ln\n",
    "from numpy import log as ln\n",
    "\n",
    "# entrez ci-dessous votre code python\n"
   ]
  },
  {
   "cell_type": "markdown",
   "id": "01299a06-0a66-4e26-a03c-f6d56c9d7fe0",
   "metadata": {},
   "source": [
    "**1.b.** Même si X et Y ont déjà été initialisés dans l'exercice précédent, on préfère les relire au cas où ils auraient été modifiés par erreur."
   ]
  },
  {
   "cell_type": "code",
   "execution_count": null,
   "id": "fbe0e475-b455-4f93-8dc6-0359d08c78a0",
   "metadata": {},
   "outputs": [],
   "source": [
    "# compléter ce code pour ranger les données dans deux tableaux X et Y \n",
    "np.loadtxt('data/f2.csv', delimiter='\\t', unpack=True)"
   ]
  },
  {
   "cell_type": "markdown",
   "id": "7bb7db6a",
   "metadata": {},
   "source": [
    "**2.** Utiliser la fonction `curve_fit` du module `scipy` avec comme arguments la fonction python `fln_hat`, et les tableaux `X` et `Y`. Puis afficher les paramètres $c$ et $d$ de la fonction $c\\times\\ln(x)+d$ qui a été ajustée de façon à passer au plus près de l'ensemble des points expérimentaux. Que pensez-vous du résultat ?"
   ]
  },
  {
   "cell_type": "code",
   "execution_count": null,
   "id": "99863608",
   "metadata": {},
   "outputs": [],
   "source": [
    "from scipy.optimize import curve_fit\n",
    "\n",
    "# entrez ci-dessous votre code python\n",
    "\n",
    "#affichage des paramètres de la fonction\n",
    "\n"
   ]
  },
  {
   "cell_type": "markdown",
   "id": "a890b15e",
   "metadata": {},
   "source": [
    "<div class=\"warn\">\n",
    "    \n",
    "Il était dit dans l'introduction de cet exercice que les données obéissent à la loi $3\\times\\ln(x)+1$. C'est bien ce qu'on retrouve, à quelques centièmes près, dûs à l'incertitude de la mesure expérimentale.\n",
    "\n",
    "</div>"
   ]
  },
  {
   "cell_type": "markdown",
   "id": "9dde49c3",
   "metadata": {},
   "source": [
    "##### **3.** Évaluation de la qualité du fit\n",
    "\n",
    "Calculer et afficher l'erreur moyenne absolue (MAE) ainsi que l'erreur quadratique moyenne (MSE). Comparer aux MAE et MSE calculées dans l'exercice 1. "
   ]
  },
  {
   "cell_type": "code",
   "execution_count": null,
   "id": "62f2aeb6-c451-48ac-9ce9-84507b9e00dd",
   "metadata": {},
   "outputs": [],
   "source": [
    "from sklearn.metrics import mean_squared_error as MSE\n",
    "from sklearn.metrics import mean_absolute_error as MAE\n",
    "# entrez ci-dessous votre code python\n"
   ]
  },
  {
   "cell_type": "markdown",
   "id": "b1017da5",
   "metadata": {},
   "source": [
    "<div class=\"warn\">\n",
    "    \n",
    "Les valeurs sont plus faibles, la régressioon logarithmique semble donc meilleure. **Attention !** Seule une analyse graphique portée avec un regard critique permettra de réellement trancher.\n",
    "    \n",
    "Même si ici il n'y a plus de suspense puiqu'on sait que la fonction ajustée est bien celle qui décrit les données, on va quand même jouer le jeu. \n",
    "\n",
    "</div>"
   ]
  },
  {
   "cell_type": "markdown",
   "id": "b2592d52",
   "metadata": {},
   "source": [
    "##### **4.** Évaluation graphique de l'ajustement par une fonction logarithmique\n",
    "\n",
    "Superposer le tracé des variables mesurées, c'est-à-dire Y en fonction de X, avec le tracé de la fonction  $\\hat{y}=c\\times\\ln(x)+d$ (appelée `fln_hat` dans le code). Pour cela :\n",
    "\n",
    "- appeler la fonction plot afin de tracer les valeurs observées `Y` en fonction de `X`. On utilisera les options `linestyle='', marker='o', color='blue', label='valeurs de y observées'`.\n",
    "\n",
    "- appeler à nouveau la fonction plot de façon à superposer les valeurs de y prédites `fln_hat(X,c,d)` pour chacune des 100 variables $x_i$, contenues dans `X`. On utilisera les options `linestyle='--', color='red', label='valeurs de y prédites'`.\n",
    "\n",
    "- l'hypothèse d'une relation logarithmique entre les $y_i$ et les $x_i$ vous semble-t-elle justifiée ?\n",
    "\n",
    "- Prédire la valeur de $y$ si $x$ = 0,1\n"
   ]
  },
  {
   "cell_type": "code",
   "execution_count": null,
   "id": "c539a686",
   "metadata": {},
   "outputs": [],
   "source": [
    "# définition de la dimension du tracé\n",
    "plt.rcParams[\"figure.figsize\"] = (12,6) #on ajuste la taille du graphique\n",
    "\n",
    "# ajouter le code permettant de tracer Y en fonction de X et fln_hat en fonction de X\n",
    "\n",
    "\n",
    "# options du tracé. Rien à modifier dans ces lignes, que vous pouvez néanmoins analyser\n",
    "xlabel(\"x\") # label de l'axe des abscisses\n",
    "ylabel(\"y\") # label de l'axe des ordonnées\n",
    "plt.legend() #affichage de la légende sur le graphe\n",
    "\n",
    "# ajouter ici le code pour prédire de la valeur de y pour x = 0,05\n"
   ]
  },
  {
   "cell_type": "markdown",
   "id": "5d144ec9",
   "metadata": {},
   "source": [
    "<div class=\"warn\">\n",
    "\n",
    "- La fonction `fln_hat(X)` passe de façon remarquable au plus près de l'ensemble des points $(x_i,y_i)$. On va quand même tracer les résidus par acquit de conscience.\n",
    "    \n",
    "- la valeur prédite pour $x$ = 0,1 est très différente de la précédente. Pour se convaincre qu'il n'y a pas d'erreur, on peut superposer la  fonction linéaire `y_hat`, la fonction logarithmique `fln_hat` et enfin les points expérimentaux `Y`. C'est ce qui est fait dans la cellule ci-dessous (*l'exécuter sans la modifier*)\n",
    "\n",
    "</div>"
   ]
  },
  {
   "cell_type": "code",
   "execution_count": null,
   "id": "86693068",
   "metadata": {},
   "outputs": [],
   "source": [
    "# exécutez cette cellule, sans la modifier\n",
    "# définition de la dimension du tracé\n",
    "plt.rcParams[\"figure.figsize\"] = (12,8) #on ajuste la taille du graphique\n",
    "X2 = np.linspace(xmin, xmax, npt)\n",
    "# plots\n",
    "plot(X, Y,linestyle='', marker='o', color='blue', label='valeurs de y observées')\n",
    "plot(X2,fln_hat(X2,c,d),linestyle='--', color='red', label='valeurs de y prédites (fonction logarithmique)')\n",
    "plot(X2,y_hat(a,b,X2),linestyle='--', color='green', label='valeurs de y prédites (fonction linéaire)')\n",
    "axvline(x = 0.1, color = '0.7',linestyle='--')\n",
    "# options du tracé. Rien à modifier dans ces lignes, que vous pouvez néanmoins analyser\n",
    "xlim(0,1.1)\n",
    "ylim(-10,2)\n",
    "xlabel(\"x\") # label de l'axe des abscisses\n",
    "ylabel(\"y\") # label de l'axe des ordonnées\n",
    "plt.legend() #affichage de la légende sur le graphe"
   ]
  },
  {
   "cell_type": "markdown",
   "id": "8d77e05b",
   "metadata": {},
   "source": [
    "##### **5.** Tracé des résidus\n",
    "\n",
    "On va maintenant tracer les résidus. Cette analyse graphique va cette fois-ci mettre en évidence qu'ils n'ont aucune structure.\n",
    "\n",
    "La première partie du code consiste à définir une fonction `résidus` qui va dépendre de tableaux `y` et `y_hat`. Puis :\n",
    "\n",
    "- tracer les résidus en fonction de `X`\n",
    "- commenter"
   ]
  },
  {
   "cell_type": "code",
   "execution_count": null,
   "id": "a991e4e2",
   "metadata": {},
   "outputs": [],
   "source": [
    "# définition de la fonction y_hat\n",
    "def residus(y,y_hat):\n",
    "    return y-y_hat\n",
    "\n",
    "#on ajuste la taille du graphique\n",
    "plt.rcParams[\"figure.figsize\"] = (10,8)\n",
    "# on va tracer une ligne horizontale qui passe par 0 \n",
    "axhline(y = 0, color = 'b',linestyle='--')\n",
    "\n",
    "# entrez ci-dessous votre code python pour tracer les résidus en fonction de X\n",
    "\n",
    "\n",
    "# options du tracé. Rien à modifier dans ces lignes, que vous pouvez néanmoins analyser\n",
    "xlabel(\"x\")\n",
    "ylabel(\"résidu\")\n",
    "ylim(-0.35,0.35)"
   ]
  },
  {
   "cell_type": "markdown",
   "id": "829789ac",
   "metadata": {},
   "source": [
    "<div class=\"rq\">\n",
    "    \n",
    "##### **6.** Question bonus\n",
    "\n",
    "On vous donne le code ci-dessous, qui permet de tracer côte-à-côte le graphe des résidus $e(x_i)$ en fonction des $x_i$ et le graphe de distribution des résidus $e(x_i)$.\n",
    "\n",
    "L'exécuter et le commenter.\n",
    "    \n",
    "</div>"
   ]
  },
  {
   "cell_type": "code",
   "execution_count": null,
   "id": "7c5ea9e0",
   "metadata": {},
   "outputs": [],
   "source": [
    "# exécutez cette cellule, sans la modifier\n",
    "import seaborn as sns\n",
    "from matplotlib import gridspec # c'est pour un joli affichage de deux graphiques côte-à-côte : les résidus & leur distribution statistique\n",
    "nbins=20\n",
    "limit=0.2\n",
    "plt.rcParams[\"figure.figsize\"] = (16,8) #on ajuste la taille du graphique\n",
    "gs = gridspec.GridSpec(1, 2, width_ratios=[2.5, 1])\n",
    "plt.subplot(gs[0])\n",
    "axhline(y = 0, color = 'b',linestyle='--')\n",
    "plt.plot(X,residus(Y,fln_hat(X,c,d)), linestyle='', marker=\"D\", color='red')\n",
    "xlabel(\"x\")\n",
    "ylabel(\"résidu\")\n",
    "plt.ylim(-limit,limit)\n",
    "plt.subplot(gs[1])\n",
    "xlabel(\"x\")\n",
    "xlabel(\"distribution\")\n",
    "sns.histplot(y=residus(Y,fln_hat(X,c,d)),bins=nbins,kde=True)\n",
    "plt.ylim(-limit,limit)"
   ]
  },
  {
   "cell_type": "markdown",
   "id": "804bfa71",
   "metadata": {},
   "source": [
    "<div class=\"warn\">\n",
    "\n",
    "- les erreurs sont dispersées autour de 0, sans présenter de structure particulière\n",
    "\n",
    "- leur distribution est centrée en 0, et elle a globalement l'allure d'une gaussienne. En d'autres termes, les résidus possèdent les propriétés d’une distribution normale : courbe « en cloche », symétrique autour de 0, avec un aplatissement régulier des extrémités\n",
    "\n",
    "</div>"
   ]
  },
  {
   "cell_type": "markdown",
   "id": "23b110bd-b2d7-44ee-af47-6ca41e3eb606",
   "metadata": {},
   "source": [
    "#### **Exercice 3.** Régression d'un polynôme non bruité d'ordre 3"
   ]
  },
  {
   "cell_type": "markdown",
   "id": "a52b03f1",
   "metadata": {},
   "source": [
    "##### **1.** Lecture des données\n",
    "\n",
    "On va d'abord lire à l'aide de la fonction `loadtxt` le contenu d'un fichier `fpolNoNoise.csv`, qui est contenu dans le répertoire `data` (son chemin d'accès est donc `data/fpolNoNoise.csv`). Le fichier contient 100 couples de données  $x_i$ et $y_i$, rangés dans deux colonnes séparées par une marque de tabulation.\n",
    "- le contenu des deux colonnes va être stocké dans deux variables `X3` et `Y3`.\n",
    "- on va ensuite tracer `Y3` en fonction de `X3` avec les options `linestyle='', marker='o'` "
   ]
  },
  {
   "cell_type": "code",
   "execution_count": null,
   "id": "f76ca2f1",
   "metadata": {},
   "outputs": [],
   "source": [
    "# corrigez le code python de la ligne ci-dessous\n",
    "np.loadtxt('data/fpolNoNoise.csv', delimiter='\\t', unpack=True)\n",
    "#if unpack is True, the returned array is transposed, so that arguments may be unpacked using x, y, z = loadtxt(...)\n",
    "\n",
    "# ne pas changer la ligne ci-dessous\n",
    "plt.rcParams[\"figure.figsize\"] = (10,6) #on ajuste la taille du graphique\n",
    "\n",
    "# entrez ci-dessous votre code python pour tracer Y3 en fonction de X3\n",
    "plt.plot(X3, Y3,linestyle='', marker='o')"
   ]
  },
  {
   "cell_type": "markdown",
   "id": "c51fadaa",
   "metadata": {},
   "source": [
    "##### **2.** Régression polynomiale\n",
    "\n",
    "Les points semblent suivre une loi polynomiale d'ordre 3, avec une incertitude expérimentale très faible. On va utliser la fonction `polyfit` de la bibliothèque `numpy`. Elle a comme paramètres les tableaux `X3` et `Y3`, suivi de l'ordre du polynôme. Elle retourne un tableau qui contient les coefficients du polynôme.\n",
    "\n",
    "- Après avoir appliqué `polyfit`, afficher les paramètres du polynôme.\n",
    "\n",
    "- Quelle est l'équation de la fonction polynomiale ? "
   ]
  },
  {
   "cell_type": "code",
   "execution_count": null,
   "id": "f0946e34-71c3-4416-965a-d4e1f078e2e3",
   "metadata": {},
   "outputs": [],
   "source": [
    "# On appellera ici la routine polyfit avec les valeurs de X & Y, ainsi que l'ordre du polynôme.\n",
    "# Elle va renvoyer les coefficients a, b, c, & d du polynôme, stockés dans la liste PFit5\n",
    "\n",
    "\n",
    "# afficher ci-dessous les paramètres du polynôme\n",
    "\n"
   ]
  },
  {
   "cell_type": "markdown",
   "id": "8900876e",
   "metadata": {},
   "source": [
    "##### **3.** Évaluation de la qualité du fit\n",
    "\n",
    "Calculer et afficher l'erreur moyenne absolue (MAE) ainsi que l'erreur quadratique moyenne (MSE). Commenter. \n",
    "\n",
    "*Astuce*. La fonction `poly1d` de la bibliothèque `numpy` est bien utile, elle permet de définir une fonction polynomiale à partir des coefficients optimisés par `polyfit`. Soit PFit le tableau qui contient les coefficients du polynôme. `P_hat  = np.poly1d(PFit)` renvoie une fonction polynomiale. Avant de calculer MAE et MSE, on affichera la fonction polynomiale."
   ]
  },
  {
   "cell_type": "code",
   "execution_count": null,
   "id": "161425a7",
   "metadata": {},
   "outputs": [],
   "source": [
    "#inutile de faire des copier/coller des valeurs de a, b, c, d. On va utiliser directement poly1d,\n",
    "# en lui passant PFit3 en paramètre\n",
    "P3_hat  = np.poly1d(PFit3)\n",
    "print(P3_hat)\n",
    "\n",
    "# entrez ci-dessous votre code python pour calculer MAE et MSE\n"
   ]
  },
  {
   "cell_type": "markdown",
   "id": "b861c75b",
   "metadata": {},
   "source": [
    "<div class=\"warn\">\n",
    "\n",
    "L'incertitude expérimentale semble effectivement nulle.\n",
    "\n",
    "</div>"
   ]
  },
  {
   "cell_type": "markdown",
   "id": "98f6175d",
   "metadata": {},
   "source": [
    "##### **4.** Évaluation graphique de l'ajustement par une fonction polynomiale\n",
    "\n",
    "Superposer le tracé des variables mesurées, c'est-à-dire Y en fonction de X, avec le tracé de la fonction  $\\hat{P}_3(x)=ax^3+bx^2+cx+d$ (appelée `P3_hat` dans le code). Pour cela :\n",
    "\n",
    "- appeler la fonction plot afin de tracer les valeurs observées `Y3` en fonction de `X3`. On utilisera les options `linestyle='', marker='o', color='blue', label='valeurs de y observées'`.\n",
    "\n",
    "- appeler à nouveau la fonction plot de façon à superposer les valeurs de y prédites `fln_hat(X,c,d)` pour chacune des 100 variables $x_i$, contenues dans `X`. On utilisera les options `linestyle='--', color='red', label='valeurs de y prédites'`."
   ]
  },
  {
   "cell_type": "code",
   "execution_count": null,
   "id": "b6d6906c",
   "metadata": {},
   "outputs": [],
   "source": [
    "# tracé des points\n"
   ]
  },
  {
   "cell_type": "markdown",
   "id": "aa0f2c26",
   "metadata": {},
   "source": [
    "##### **5.** Tracé des résidus\n",
    "\n",
    "On va maintenant tracer les résidus en fonction de `X`. Commenter."
   ]
  },
  {
   "cell_type": "code",
   "execution_count": null,
   "id": "07971534",
   "metadata": {},
   "outputs": [],
   "source": [
    "# définition de la fonction y_hat\n",
    "def residus(y,y_hat):\n",
    "    return y-y_hat\n",
    "\n",
    "#on ajuste la taille du graphique\n",
    "plt.rcParams[\"figure.figsize\"] = (10,8)\n",
    "# on va tracer une ligne horizontale qui passe par 0 \n",
    "axhline(y = 0, color = 'b',linestyle='--')\n",
    "\n",
    "# entrez ci-dessous votre code python pour tracer les résidus en fonction de X\n",
    "\n",
    "\n",
    "# options du tracé. Rien à modifier dans ces lignes, que vous pouvez néanmoins analyser\n",
    "xlabel(\"x\")\n",
    "ylabel(\"résidu\")\n",
    "ylim(-0.01,0.01)"
   ]
  },
  {
   "cell_type": "markdown",
   "id": "f53485c3",
   "metadata": {},
   "source": [
    "<div class=\"warn\">\n",
    "\n",
    "L'incertitude expérimentale semble effectivement nulle. Le *fit* est parfait.\n",
    "\n",
    "</div>"
   ]
  },
  {
   "cell_type": "code",
   "execution_count": 2,
   "id": "a2202e23-ce43-4946-a919-7c6d01ec6611",
   "metadata": {},
   "outputs": [
    {
     "data": {
      "text/markdown": [
       "**Fin à:** Thursday 03 November 2022, 21:34:45  \n",
       "**Durée:** 00:03:17 429ms"
      ],
      "text/plain": [
       "<IPython.core.display.Markdown object>"
      ]
     },
     "metadata": {},
     "output_type": "display_data"
    },
    {
     "data": {
      "text/markdown": [
       "<p style=\"text-align: center\"><img width=\"800px\" src=\"../config/svg/logoFin.svg\" style=\"margin-left:auto; margin-right:auto\"/></p>"
      ],
      "text/plain": [
       "<IPython.core.display.Markdown object>"
      ]
     },
     "metadata": {},
     "output_type": "display_data"
    }
   ],
   "source": [
    "vID.end(cwd0)"
   ]
  },
  {
   "cell_type": "code",
   "execution_count": null,
   "id": "5e8b7f65-612f-47bb-b117-fffcaa223857",
   "metadata": {},
   "outputs": [],
   "source": []
  }
 ],
 "metadata": {
  "kernelspec": {
   "display_name": "Python 3 (ipykernel)",
   "language": "python",
   "name": "python3"
  },
  "language_info": {
   "codemirror_mode": {
    "name": "ipython",
    "version": 3
   },
   "file_extension": ".py",
   "mimetype": "text/x-python",
   "name": "python",
   "nbconvert_exporter": "python",
   "pygments_lexer": "ipython3",
   "version": "3.10.6"
  }
 },
 "nbformat": 4,
 "nbformat_minor": 5
}
