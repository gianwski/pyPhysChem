{
 "cells": [
  {
   "cell_type": "code",
   "execution_count": 1,
   "id": "c6ca1da4-e8f0-422d-a646-f1e2b330715f",
   "metadata": {},
   "outputs": [
    {
     "name": "stdout",
     "output_type": "stream",
     "text": [
      "/home/romuald/ENSEIGNEMENT/0-JupyterNotebooks/PytChem/UnderDevelopment\n"
     ]
    },
    {
     "data": {
      "text/html": [
       "<style>\n",
       "h1, h2, h3, h4, h5, h6 {\n",
       "  font-family: Verdana, \"DejaVu Sans\", \"Bitstream Vera Sans\", Geneva, sans-serif;\n",
       "  font-weight: bold;\n",
       "}\n",
       "body, exercice {\n",
       "  font-family: Verdana, \"DejaVu Sans\", \"Bitstream Vera Sans\", Geneva, sans-serif;\n",
       "  font-weight: 200;\n",
       "}\n",
       "h1 {\n",
       "  border: 0 solid #333;\n",
       "  padding: 30px ;\n",
       "  color: white;\n",
       "  background: #b11d01;\n",
       "  text-align: center;\n",
       "}\n",
       "h2 {\n",
       "  border: 3px solid #333;\n",
       "  padding: 18px ;\n",
       "  color: #b11d01;\n",
       "  background: #ffffff;\n",
       "  text-align: center;\n",
       "}\n",
       "h3 {\n",
       "  border: 0 solid #333;\n",
       "  padding: 12px ;\n",
       "  color: #000000;\n",
       "  background: #c1c1c1;\n",
       "  text-align: left;\n",
       "}\n",
       "h4 {\n",
       "  border: 0 solid #333;\n",
       "  padding: 2px ;\n",
       "  color: #000000;\n",
       "  background: #d9fffc;\n",
       "  text-align: left;\n",
       "}\n",
       "h5 {\n",
       "  border: 1px solid #333;\n",
       "  padding: 2px ;\n",
       "  color: #000000;\n",
       "  background: #ffffff;\n",
       "  text-align: left;\n",
       "}\n",
       ".rq {    \n",
       "    background-color: #fcf2f2;\n",
       "    border-color: #dFb5b4;\n",
       "    border-left: 5px solid #dfb5b4;\n",
       "    padding: 0.5em;\n",
       "    font-weight: 200;\n",
       "    }\n",
       ".intro {    \n",
       "    background-color: #f1f1f1;\n",
       "    border-color: #969696;\n",
       "    border-left: 5px solid #969696;\n",
       "    padding: 0.5em;\n",
       "    font-weight: 200;\n",
       "    }\n",
       ".exold {    \n",
       "    background-color: #b2dbea80;\n",
       "    border-color: #0055ff;\n",
       "    border-left: 10px solid #0055ff;\n",
       "    padding: 0.5em;\n",
       "    font-weight: 200;\n",
       "    }\n",
       ".ex {    \n",
       "    background-color: #b2dbea80;\n",
       "    padding: 0.5em;\n",
       "    padding-top: 0em;\n",
       "    font-weight: 200;\n",
       "    position:relative;\n",
       "    }\n",
       ".ex::before {\n",
       "    background-color: #b2dbea;\n",
       "    content:\"Exercice\";\n",
       "    margin-left:-0.5em;\n",
       "    margin-right:-0.5em;\n",
       "    padding-left:0.5em;\n",
       "    padding-right:0.5em;\n",
       "    font-weight: 600;\n",
       "    display: block;\n",
       "    }\n",
       ".app {    \n",
       "    background-color: #b2dbea80;\n",
       "    padding: 0.5em;\n",
       "    padding-top: 0em;\n",
       "    font-weight: 200;\n",
       "    position:relative;\n",
       "    }\n",
       ".app::before {\n",
       "    background-color: #b2dbea;\n",
       "    content:\"Application\";\n",
       "    margin-left:-0.5em;\n",
       "    margin-right:-0.5em;\n",
       "    padding-left:0.5em;\n",
       "    padding-right:0.5em;\n",
       "    font-weight: 600;\n",
       "    display: block;\n",
       "    }\n",
       "</style>\n"
      ],
      "text/plain": [
       "<IPython.core.display.HTML object>"
      ]
     },
     "metadata": {},
     "output_type": "display_data"
    },
    {
     "data": {
      "text/markdown": [
       "**Start at:** Thursday 09 February 2023, 14:35:12  \n",
       "**Hostname:** insa-12842 (Linux)"
      ],
      "text/plain": [
       "<IPython.core.display.Markdown object>"
      ]
     },
     "metadata": {},
     "output_type": "display_data"
    },
    {
     "data": {
      "text/markdown": [
       "<p style=\"text-align: center\"><img width=\"800px\" src=\"../config/svg/PytChemBanner.svg\" style=\"margin-left:auto; margin-right:auto\"/></p>"
      ],
      "text/plain": [
       "<IPython.core.display.Markdown object>"
      ]
     },
     "metadata": {},
     "output_type": "display_data"
    }
   ],
   "source": [
    "import os\n",
    "import sys\n",
    "\n",
    "print(os.getcwd())\n",
    "cwd0 = '../config/'\n",
    "sys.path.append(cwd0)\n",
    "\n",
    "import visualID_Eng as vID\n",
    "from visualID_Eng import color\n",
    "vID.init(cwd0)\n",
    "import tools4PytChem as t4p"
   ]
  },
  {
   "cell_type": "markdown",
   "id": "9c28e66e-79ac-4700-b33a-1003889e8378",
   "metadata": {},
   "source": [
    "# VUV simulation from TDDFT calculations"
   ]
  },
  {
   "cell_type": "markdown",
   "id": "27eb9ff4-fc6f-44b9-852b-ff82258af68e",
   "metadata": {},
   "source": [
    "## Simple version (BIPS in MeCN case)"
   ]
  },
  {
   "cell_type": "code",
   "execution_count": null,
   "id": "5a8a45e2-7c83-4dd9-9e76-f6c571a848e6",
   "metadata": {},
   "outputs": [],
   "source": [
    "import numpy as np\n",
    "import matplotlib.pyplot as plt\n",
    "import scipy.constants as sc\n",
    "\n",
    "def epsi(lambdaX,lambdai,fi,sigma):\n",
    "    '''\n",
    "    input:\n",
    "        - lambdaX = wavelength\n",
    "        - lambdai = vertical excitation wavelength for ith state\n",
    "        - fi = oscillator strength for state i (dimensionless)\n",
    "        - sigma = half-width of the Gaussian band\n",
    "    output :\n",
    "        gaussian distribution\n",
    "    '''\n",
    "    epsi = (fi / (sigma * np.sqrt(2*np.pi))) * np.exp(-0.5*((lambdaX - lambdai)/sigma)**2)\n",
    "    return epsi"
   ]
  },
  {
   "cell_type": "code",
   "execution_count": null,
   "id": "b2be41e5-f5f5-49db-8e1c-119e6631334e",
   "metadata": {},
   "outputs": [],
   "source": [
    "istateN,stateN,wavelN,feN,SSqN = np.genfromtxt(\"./BIPS/N-MeCN-TDDFT-LBS_Te_fe.csv\",skip_header=1,dtype=\"<U20,<U20,float,float,<U20\",unpack=True)\n",
    "istateMC,stateMC,wavelMC,feMC,SSqMC = np.genfromtxt(\"./BIPS/MC-MeCN-TDDFT-LBS_Te_fe.csv\",skip_header=1,dtype=\"<U20,<U20,float,float,<U20\",unpack=True)\n",
    "sigma = 15\n",
    "\n",
    "lambdaL = np.arange(200,601,1)\n",
    "sumfN = np.zeros(len(lambdaL))\n",
    "sumfMC = np.zeros(len(lambdaL))\n",
    "for l in lambdaL:\n",
    "    for i in range(len(wavelN)):\n",
    "        sumfN[np.argwhere(l==lambdaL)[0][0]] += epsi(l,wavelN[i],feN[i],sigma)\n",
    "        sumfMC[np.argwhere(l==lambdaL)[0][0]] += epsi(l,wavelMC[i],feMC[i],sigma)"
   ]
  },
  {
   "cell_type": "code",
   "execution_count": null,
   "id": "a36bffe4-6c60-44b4-8755-3b7b40eb65ab",
   "metadata": {
    "tags": []
   },
   "outputs": [],
   "source": [
    "plt.figure(figsize=(12,8))\n",
    "plt.xlim(200,600)\n",
    "for i in range(len(wavelN)):\n",
    "    plt.vlines(x = wavelN[i], ymin = 0, ymax = epsi(wavelN[i],wavelN[i],feN[i],sigma), colors = 'red')\n",
    "plt.xlabel('wavelength / nm',size=14,fontweight='bold',color='blue')\n",
    "plt.ylabel('fe',size=14,fontweight='bold',color='blue')\n",
    "plt.xticks(fontsize=16,fontweight='bold')\n",
    "plt.yticks(fontsize=16,fontweight='bold')\n",
    "plt.show()\n",
    "\n",
    "plt.figure(figsize=(12,8))\n",
    "plt.xlim(200,600)\n",
    "for i in range(len(wavelMC)):\n",
    "    plt.vlines(x = wavelMC[i], ymin = 0, ymax = epsi(wavelMC[i],wavelMC[i],feMC[i],sigma), colors = 'red')\n",
    "plt.xlabel('wavelength / nm',size=14,fontweight='bold',color='blue')\n",
    "plt.ylabel('fe',size=14,fontweight='bold',color='blue')\n",
    "plt.xticks(fontsize=16,fontweight='bold')\n",
    "plt.yticks(fontsize=16,fontweight='bold')\n",
    "plt.show()"
   ]
  },
  {
   "cell_type": "code",
   "execution_count": null,
   "id": "d312bce8-50e5-430c-83f4-904bfc8d5508",
   "metadata": {},
   "outputs": [],
   "source": [
    "plt.figure(figsize=(12,8))\n",
    "for i in range(len(wavelN)):\n",
    "    plt.vlines(x = wavelN[i], ymin = 0, ymax = epsi(wavelN[i],wavelN[i],feN[i],sigma), colors = 'red')\n",
    "for i in range(len(wavelN)):\n",
    "    plt.vlines(x = wavelMC[i], ymin = 0, ymax = epsi(wavelMC[i],wavelMC[i],feMC[i],sigma), colors = 'blue')\n",
    "plt.xlabel('wavelength / nm',size=14,fontweight='bold',color='blue')\n",
    "plt.ylabel('fe',size=14,fontweight='bold',color='blue')\n",
    "plt.xticks(fontsize=16,fontweight='bold')\n",
    "plt.yticks(fontsize=16,fontweight='bold')\n",
    "plt.plot(lambdaL,sumfN,color='purple',linewidth=2,label=\"N\")\n",
    "plt.plot(lambdaL,sumfMC,color='black',linewidth=2,linestyle='--',label=\"MC\")\n",
    "plt.xlim(250,600)\n",
    "plt.legend()\n",
    "plt.show()"
   ]
  },
  {
   "cell_type": "markdown",
   "id": "cd2908ee-155c-4fbf-8416-4064dae09802",
   "metadata": {},
   "source": [
    "## Test case (Gaussian website Whitepaper)"
   ]
  },
  {
   "cell_type": "markdown",
   "id": "89bbe488-db3b-4864-b95e-d31e71d9ca72",
   "metadata": {},
   "source": [
    "$$\\varepsilon_{i}(\\bar{\\nu})=\\varepsilon_{i}^{\\mathrm{max}}\\exp\\left[-\\left(\\frac{\\bar{\\nu}-\\bar{\\nu}_{i}}{\\sigma}\\right)^{2}\\right]$$\n",
    "It is demonstrated, in a [Gaussian whitepaper](https://gaussian.com/uvvisplot/), that the previous equation becomes, in the cgs units system:\n",
    "$$\\varepsilon_{i}(\\bar{\\nu})=\\frac{\\sqrt{\\pi}e^{2}N_{\\mathrm{A}}}{1000\\ln(10)c^{2}m_{e}}\\frac{f_{i}}{\\sigma}\\exp\\left[-\\left(\\frac{\\bar{\\nu}-\\bar{\\nu}_{i}}{\\sigma}\\right)^{2}\\right]$$\n",
    "\n",
    "where:\n",
    "- $\\varepsilon_i$ is in units of L∙mol$^{-1}$∙cm$^{-1}$\n",
    "- $f_i$ is the oscillator strength\n",
    "- $\\sigma$, the half-width of the Gaussian band at each $\\varepsilon^{\\mathrm{max}}$, is in cm$^{-1}$\n",
    "- $c$ is the speed of light in cm∙s$^{-1}$\n",
    "- $N_\\mathrm{A}$ is the Avogadro number, in mol$^{-1}$\n",
    "- $m_e$ is the electron mass in kg\n",
    "- $e$ is the elementary charge, in electrostatic unit of charge (esu)\n",
    "- $f_i$ is the dimensionless oscillator strength"
   ]
  },
  {
   "cell_type": "code",
   "execution_count": null,
   "id": "b955f0ae-ec65-4983-9a2e-f5cce3807a62",
   "metadata": {},
   "outputs": [],
   "source": [
    "import numpy as np\n",
    "import matplotlib.pyplot as plt\n",
    "import scipy.constants as sc\n",
    "\n",
    "c = sc.c*1e2 #cm-1\n",
    "NA = sc.N_A #mol-1\n",
    "me = sc.m_e*1000 #g\n",
    "e = sc.e*sc.c*10 #elementary charge in esu \n",
    "print(f\"c = {c:.2e} cm.s-1.   NA = {NA:.3e} mol-1.  me = {me:.2e} g.  e = {e:.2e} esu\")\n",
    "#calculation of the pre-factor\n",
    "pf = np.sqrt(np.pi)*e**2*NA/(1000*np.log(10)*c**2*me)\n",
    "print(f\"pf = {pf:8e}\")\n",
    "\n",
    "sigma = 0.4 #eV this the default value in GaussView\n",
    "eV2cm1 = sc.e / (sc.h * sc.c *100)\n",
    "eV2nm = (sc.h * sc.c)*1e9 / (sc.e)\n",
    "print(\"eV to cm-1\",eV2cm1)\n",
    "print(\"eV to nm\",eV2nm)\n",
    "\n",
    "sigmanm = eV2nm/sigma\n",
    "sigmabar = 1e7 / sigmanm\n",
    "print(\"sigma = \", sigma ,\"eV ->\",sigmanm,\" nm. sigmabar = \", sigmabar)\n",
    "\n",
    "def epsi(lambdaX,lambdai,fi,sigma):\n",
    "    '''\n",
    "    input:\n",
    "        - lambdaX = wavelength variable, in nm\n",
    "        - lambdai = vertical excitation wavelength for ith state, in nm\n",
    "        - fi = oscillator strength for state i (dimensionless)\n",
    "        - sigma = half-width of the Gaussian band, in nm\n",
    "    output :\n",
    "        molar absorption coefficient, in L mol-1 cm-1\n",
    "    '''\n",
    "    import scipy.constants as sc\n",
    "    c = sc.c*1e2 #cm-1\n",
    "    NA = sc.N_A #mol-1\n",
    "    me = sc.m_e*1000 #g\n",
    "    e = sc.e*sc.c*10 #elementary charge in esu \n",
    "    pf = np.sqrt(np.pi)*e**2*NA/(1000*np.log(10)*c**2*me)\n",
    "    nubarX = 1e7 / lambdaX # nm to cm-1\n",
    "    nubari = 1e7 / lambdai\n",
    "    sigmabar = 1e7 / sigma \n",
    "    epsi = pf * (fi / sigmabar) * np.exp(-((nubarX - nubari)/sigmabar)**2)\n",
    "    return epsi"
   ]
  },
  {
   "cell_type": "code",
   "execution_count": null,
   "id": "d42580c3-aa67-4f4f-a956-e5c0b271d77d",
   "metadata": {},
   "outputs": [],
   "source": [
    "wavel = np.array([154.07,192.80,284.45])\n",
    "print(1e7/sigmanm,1e7/wavel)\n",
    "fe = [0.0061,0.5035,0.0002]\n",
    "plt.figure(figsize=(12,8))\n",
    "for i in range(len(wavel)):\n",
    "    plt.vlines(x = wavel[i], ymin = 0, ymax = fe[i], colors = 'red')\n",
    "plt.xlabel('wavelength / nm',size=14,fontweight='bold',color='blue')\n",
    "plt.ylabel('oscillator strength',size=14,fontweight='bold',color='blue')\n",
    "plt.xticks(fontsize=16,fontweight='bold')\n",
    "plt.yticks(fontsize=16,fontweight='bold')\n",
    "plt.show()\n",
    "\n",
    "plt.figure(figsize=(12,8))\n",
    "for i in range(len(wavel)):\n",
    "    plt.vlines(x = wavel[i], ymin = 0, ymax = epsi(wavel[i],wavel[i],fe[i],sigmanm), colors = 'red')\n",
    "plt.xlabel('wavelength / nm',size=14,fontweight='bold',color='blue')\n",
    "plt.ylabel('molar absorption coefficient / L mol$^{-1}$ cm$^{-1}$',size=14,fontweight='bold',color='blue')\n",
    "plt.xticks(fontsize=16,fontweight='bold')\n",
    "plt.yticks(fontsize=16,fontweight='bold')\n",
    "plt.show()"
   ]
  },
  {
   "cell_type": "code",
   "execution_count": null,
   "id": "860050e1-8a30-41b6-b416-32470d5d47b1",
   "metadata": {},
   "outputs": [],
   "source": [
    "lambdaL = np.arange(100,301,1)\n",
    "sumf = np.zeros(len(lambdaL))\n",
    "k = -1\n",
    "for l in lambdaL:\n",
    "    k += 1\n",
    "    for i in range(len(wavel)):\n",
    "        sumf[np.argwhere(l==lambdaL)[0][0]] += epsi(l,wavel[i],fe[i],sigmanm)\n"
   ]
  },
  {
   "cell_type": "code",
   "execution_count": null,
   "id": "7cc6a1ee-1e51-4fc6-99f1-e246ba7810f3",
   "metadata": {},
   "outputs": [],
   "source": [
    "plt.figure(figsize=(12,8))\n",
    "for i in range(len(wavel)):\n",
    "    plt.vlines(x = wavel[i], ymin = 0, ymax = epsi(wavel[i],wavel[i],fe[i],sigmanm), colors = '#0000ff')\n",
    "plt.xlabel('wavelength / nm',size=14,fontweight='bold',color='blue')\n",
    "plt.ylabel('molar absorption coefficient / L mol$^{-1}$ cm$^{-1}$',size=14,fontweight='bold',color='blue')\n",
    "plt.xticks(fontsize=16,fontweight='bold')\n",
    "plt.yticks(fontsize=16,fontweight='bold')\n",
    "plt.plot(lambdaL,sumf,linewidth=3,color=\"#00007f\")\n",
    "plt.show()"
   ]
  },
  {
   "cell_type": "markdown",
   "id": "bc5d30b5-9f0d-4ef9-acc5-5f4e587e6f89",
   "metadata": {},
   "source": [
    "<div class=\"rq\">\n",
    "\n",
    "Same as on the [Gaussian16](https://gaussian.com/uvvisplot/) website. Yes!\n",
    "</div>"
   ]
  },
  {
   "cell_type": "code",
   "execution_count": 29,
   "id": "9e5f2550-2478-4141-b135-5b8a4a86c520",
   "metadata": {},
   "outputs": [
    {
     "data": {
      "text/markdown": [
       "**End at:** Wednesday 08 February 2023, 18:16:54  \n",
       "**Duration:** 01:12:05 952ms"
      ],
      "text/plain": [
       "<IPython.core.display.Markdown object>"
      ]
     },
     "metadata": {},
     "output_type": "display_data"
    },
    {
     "data": {
      "text/markdown": [
       "<p style=\"text-align: center\"><img width=\"800px\" src=\"../config/svg/logoEnd.svg\" style=\"margin-left:auto; margin-right:auto\"/></p>"
      ],
      "text/plain": [
       "<IPython.core.display.Markdown object>"
      ]
     },
     "metadata": {},
     "output_type": "display_data"
    }
   ],
   "source": [
    "vID.end(cwd0)"
   ]
  },
  {
   "cell_type": "code",
   "execution_count": null,
   "id": "ddb5b8e2-116d-4a0a-a27d-fbecf5e3d624",
   "metadata": {},
   "outputs": [],
   "source": []
  }
 ],
 "metadata": {
  "kernelspec": {
   "display_name": "Python 3 (ipykernel)",
   "language": "python",
   "name": "python3"
  },
  "language_info": {
   "codemirror_mode": {
    "name": "ipython",
    "version": 3
   },
   "file_extension": ".py",
   "mimetype": "text/x-python",
   "name": "python",
   "nbconvert_exporter": "python",
   "pygments_lexer": "ipython3",
   "version": "3.9.12"
  },
  "toc-autonumbering": true
 },
 "nbformat": 4,
 "nbformat_minor": 5
}
