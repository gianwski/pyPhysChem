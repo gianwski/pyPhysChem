{
 "cells": [
  {
   "cell_type": "code",
   "execution_count": null,
   "id": "b44b0b54-05e5-4bc0-a39e-5858baf780b1",
   "metadata": {},
   "outputs": [],
   "source": [
    "import os\n",
    "import sys\n",
    "\n",
    "cwd0 = './config/'\n",
    "sys.path.append(cwd0)\n",
    "\n",
    "import visualID_Eng as vID\n",
    "from visualID_Eng import color\n",
    "vID.init(cwd0)"
   ]
  },
  {
   "cell_type": "markdown",
   "id": "4ed64ee2-90fe-4171-a272-3bfd9a3f8b84",
   "metadata": {
    "tags": []
   },
   "source": [
    "# Table of Contents\n",
    "\n",
    "## Quelques pré-requis / Some prerequisite\n",
    "\n",
    "### \"Python in the Physical Chemistry Lab (PPCL)\" in a nutshell \n",
    "\n",
    "[Jupyter notebook](./PPCL.ipynb). *in English*\n",
    "\n",
    "### Constantes physiques et mathématiques\n",
    "\n",
    "<span style='color:red'>**work in progress**</span>\n",
    "\n",
    "[Jupyter notebook](./Constantes.ipynb). en Français / *in French*\n",
    "\n",
    "### Dérivées, intégrales et primitives, équations différentielles\n",
    "\n",
    "<span style='color:red'>**work in progress**</span>\n",
    "\n",
    "- **1.** Dérivées, intégrales et primitives. [Jupyter notebook](./DeriveesIntegrales1.ipynb). en Français / *in French*\n",
    "- **2.** Équations différentielles. [Jupyter notebook](./DeriveesIntegrales2.ipynb). en Français / *in French*\n",
    "\n",
    "### Computer Algebra System with Python (pCAS) in a nutshell\n",
    "\n",
    "[Jupyter notebook](./pCAS.ipynb). *in English*\n",
    "\n"
   ]
  },
  {
   "cell_type": "markdown",
   "id": "ad479af1-76ff-44d0-b5df-a7c1005ef110",
   "metadata": {
    "tags": []
   },
   "source": [
    "<div class=\"intro\">\n",
    "\n",
    "## Physical chemistry\n",
    "\n",
    "### General topics\n",
    "\n",
    "Physical Chemistry Problems and Solutions notebook. [Jupyter notebook](./PhysChem_ProblemsAndSolutions.ipynb). *in English*\n",
    "</div>\n"
   ]
  },
  {
   "cell_type": "markdown",
   "id": "75199e88-89f6-4b4d-9811-95b823b86d0f",
   "metadata": {
    "tags": []
   },
   "source": [
    "<div class=\"intro\">\n",
    "\n",
    "## Quantum chemistry\n",
    "\n",
    "### Atoms\n",
    "\n",
    "Hydrogen atom wavefunctions. [Jupyter notebook](./HydrogenAtom.ipynb). *in English*\n",
    "\n",
    "### Molecular dynamics\n",
    "\n",
    "Velocity Verlet algorithm applied to simple 1D and 2D potentials. [Jupyter notebook](./MD_VVERLET_Student.ipynb). *in English*\n",
    "\n",
    "### Spectroscopy\n",
    "\n",
    "The quantum harmonic oscillator, a \"basic\" model to interpret the vibrational properties of molecules. [Jupyter notebook](./Harmonic_Oscillator.ipynb). *in English*\n",
    "\n",
    "2nd-order NMR. [Jupyter notebook](./NMR.ipynb). *in English*\n",
    "\n",
    "### Solid-state\n",
    "\n",
    "[Tight-Binding Approach : fundamentals. A physicist point of view for theoretical chemists (pdf)](./MiscPDF/Theory-TB.pdf)\n",
    "\n",
    "[Parametrized tight-binding for calculating a material's energy and electronic structure](./TB.ipynb). *in English*\n",
    "\n",
    "</div>\n"
   ]
  },
  {
   "cell_type": "markdown",
   "id": "b4b29e9a-1cce-4eb3-b6e1-3425b7a4cfac",
   "metadata": {
    "tags": []
   },
   "source": [
    "<div class=\"intro\">\n",
    "\n",
    "## Traitement statistique de données (data science pour débutants) & introduction à l'apprentissage automatique / *Statistical treatment of data (data science for beginners) and introduction to machine learning*\n",
    "\n",
    "### Context\n",
    "\n",
    "[Start Here (pdf)](./DS4B-Slides//intro.pdf)\n",
    "\n",
    "</div>"
   ]
  },
  {
   "cell_type": "code",
   "execution_count": null,
   "id": "aebd98f6-3c74-4386-b84c-0e5f3b0f84cf",
   "metadata": {},
   "outputs": [],
   "source": [
    "from IPython.display import IFrame\n",
    "\n",
    "IFrame(\"./DS4B-Slides/intro.pdf\", width=1000, height=800)"
   ]
  },
  {
   "cell_type": "markdown",
   "id": "83a4bee0-a56e-4538-8404-f573000b9498",
   "metadata": {
    "tags": []
   },
   "source": [
    "<div class=\"intro\">\n",
    "\n",
    "### Notebooks\n",
    "\n",
    "- [Introduction](./DS4B-TOC.ipynb). en Français / *in French*\n",
    "- **1.** [Lecture et analyse de la base de données \"iris\" par la bibliothèque pandas <br> *Reading and analyzis of the \"iris\" database with the pandas library*](./DS4B-Iris1.ipynb). en Français & en Anglais / *in French and in English*\n",
    "    - [Exercices/*Exercises*.](./DS4B-Exercices/DS4B-Iris1-Exercice.ipynb)\n",
    "    - [Solution](./DS4B-Exercices/DS4B-Iris1-Correction-Exercice.ipynb)\n",
    "<br>\n",
    "<br>\n",
    "\n",
    "- **2.** [Statistiques et régression <br> *Statistics and regression*](./DS4B-Iris2.ipynb). en Français & en Anglais / *in French and in English*\n",
    "    - [Exercices.](./DS4B-Exercices/DS4B-Iris2-Exercice.ipynb)\n",
    "    - [Corrigé.](./DS4B-Exercices/DS4B-Iris2-Correction-Exercice.ipynb)\n",
    "<br>\n",
    "<br>\n",
    "\n",
    "- **3.** [*Basics of Artificial Neural Networks for supervised learning*](./DS4B-BasicsOfANN.ipynb). *in English*\n",
    "<br>\n",
    "- **3'.** [Apprentissage supervisé (supervised Machine Learning) appliqué à la classification (régression logistique) <br> *Supervised Machine Learning applied to classification*](./DS4B-Iris3.ipynb). en Français & en Anglais / *in French and in English*\n",
    "    - [Exercices.](./DS4B-Exercices/DS4B-Iris3-Exercice.ipynb)\n",
    "    - [Corrigé.](./DS4B-Exercices/DS4B-Iris3-Correction-Exercice.ipynb)\n",
    "<br>\n",
    "<br>\n",
    "- **4.** [*e**X**plainable **AI** (XAI)*](./DS4B-Iris4.ipynb). *in English*\n",
    "<br>\n",
    "- **5.** [*Unsupervised Machine Learning*](./DS4B-IrisUML.ipynb). *in English*\n",
    "</div>\n",
    "<br>\n",
    "<br>\n",
    "<div class=\"intro\">\n",
    "\n",
    "## Machine Learning (ML) in the Physical Chemistry lab\n",
    "\n",
    "### Machine learning in chemistry. Short lecture\n",
    "\n",
    "[pdf](./DS4B-Slides//MLChem.pdf)\n",
    "\n",
    "### Molecular representations\n",
    "\n",
    "- [3D representation & RDKit, a toolkit for cheminformatics](./MolecularRepresentations.ipynb). *in English*\n",
    "\n",
    "### Regression with ML: Prediction of the solubility of CO<sub>2</sub> in ionic liquids. *in English*\n",
    "\n",
    "- **1.** [Prediction by Support Vector Regression (SVR)](./DS4B-CO2_solubility-SVR.ipynb). *in English*\n",
    "    - [Exercise. Application of an SVR model with optimized hyperparameters](./DS4B-Exercices/DS4B-CO2_solubility-SVR-Exercise.ipynb)\n",
    "    - [Solution to the previous exercise](./DS4B-Exercices/DS4B-CO2_solubility-SVR-ExerciseWithAnswer.ipynb)\n",
    "\n",
    "- **2.** [Prediction by an Artificial Neural Network (ANN)](./DS4B-CO2_solubility-ANN.ipynb). *in English*\n",
    "    - [Exercise. Assessment of the stability of the original ML algorithm of Song *et al*. by *K*-fold cross validation](./DS4B-Exercices/DS4B-CO2_solubility-ANN-Exercise.ipynb)\n",
    "    - [Solution to the previous exercise](./DS4B-Exercices/DS4B-CO2_solubility-ANN-ExerciseWithAnswer.ipynb)\n",
    "\n",
    "- **3.** [Homework](./DS4B-TCCM-HW.ipynb). *in English*\n",
    "\n",
    "### Convolutional neural networks (CNN)\n",
    "\n",
    "- 1D CNN **under development** *in English*\n",
    "- Regression and classification with the same NN **under development** *in English*\n",
    "- 2D CNN **under development** *in English*\n",
    "\n",
    "### Recurrent neural networks (RNN)\n",
    "\n",
    "notebook **under development** *in English*\n",
    "\n",
    "### Autoencoders\n",
    "\n",
    "<span style='color:red'>**work in progress**</span>\n",
    "\n",
    "[Jupyter notebook](./ML-Autoencoders.ipynb). *in English*\n",
    "\n",
    "### Misc.\n",
    "- [Annexes / *Appendixes*](./DS4B-Appendix.ipynb)\n",
    "- [\"Talktorials\" in physical chemistry and data science, Pau (France), 2023](./Misc-Slides/pyPhysChem.pdf)\n",
    "\n",
    "</div>"
   ]
  },
  {
   "cell_type": "markdown",
   "id": "57b50d35-ea3c-4674-941a-66e4800fdbce",
   "metadata": {},
   "source": [
    "<div class=\"rqT\" title=\"Advanced(?) python commands\">\n",
    "\n",
    "[Advanced python notebook](AdvancedPython.ipynb)\n",
    "</div>"
   ]
  },
  {
   "cell_type": "code",
   "execution_count": null,
   "id": "2667988e-7e85-46e1-b99e-8e48ca12d92b",
   "metadata": {},
   "outputs": [],
   "source": [
    "vID.end(cwd0)"
   ]
  },
  {
   "cell_type": "code",
   "execution_count": null,
   "id": "9fff6bd6-6e7e-4a06-a497-6a85057243da",
   "metadata": {},
   "outputs": [],
   "source": []
  }
 ],
 "metadata": {
  "kernelspec": {
   "display_name": "Python 3 (ipykernel)",
   "language": "python",
   "name": "python3"
  },
  "language_info": {
   "codemirror_mode": {
    "name": "ipython",
    "version": 3
   },
   "file_extension": ".py",
   "mimetype": "text/x-python",
   "name": "python",
   "nbconvert_exporter": "python",
   "pygments_lexer": "ipython3",
   "version": "3.11.8"
  },
  "toc-autonumbering": false,
  "toc-showmarkdowntxt": false
 },
 "nbformat": 4,
 "nbformat_minor": 5
}
