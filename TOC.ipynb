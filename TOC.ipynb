{
 "cells": [
  {
   "cell_type": "code",
   "execution_count": 1,
   "id": "b44b0b54-05e5-4bc0-a39e-5858baf780b1",
   "metadata": {},
   "outputs": [
    {
     "data": {
      "text/html": [
       "<style>\n",
       "h1, h2, h3, h4, h5, h6 {\n",
       "  font-family: Verdana, \"DejaVu Sans\", \"Bitstream Vera Sans\", Geneva, sans-serif;\n",
       "  font-weight: bold;\n",
       "}\n",
       "body, exercice {\n",
       "  font-family: Verdana, \"DejaVu Sans\", \"Bitstream Vera Sans\", Geneva, sans-serif;\n",
       "  font-weight: 200;\n",
       "}\n",
       "h1 {\n",
       "  border: 0 solid #333;\n",
       "  padding: 30px ;\n",
       "  color: white;\n",
       "  background: #b11d01;\n",
       "  text-align: center;\n",
       "}\n",
       "h2 {\n",
       "  border: 3px solid #333;\n",
       "  padding: 18px ;\n",
       "  color: #b11d01;\n",
       "  background: #ffffff;\n",
       "  text-align: center;\n",
       "}\n",
       "h3 {\n",
       "  border: 0 solid #333;\n",
       "  padding: 12px ;\n",
       "  color: #000000;\n",
       "  background: #c1c1c1;\n",
       "  text-align: left;\n",
       "}\n",
       "h4 {\n",
       "  border: 0 solid #333;\n",
       "  padding: 2px ;\n",
       "  color: #000000;\n",
       "  background: #d9fffc;\n",
       "  text-align: left;\n",
       "}\n",
       "h5 {\n",
       "  border: 1px solid #333;\n",
       "  padding: 2px ;\n",
       "  color: #000000;\n",
       "  background: #ffffff;\n",
       "  text-align: left;\n",
       "}\n",
       ".rq {    \n",
       "    background-color: #fcf2f2;\n",
       "    border-color: #dFb5b4;\n",
       "    border-left: 5px solid #dfb5b4;\n",
       "    padding: 0.5em;\n",
       "    font-weight: 200;\n",
       "    }\n",
       ".intro {    \n",
       "    background-color: #f1f1f1;\n",
       "    border-color: #969696;\n",
       "    border-left: 5px solid #969696;\n",
       "    padding: 0.5em;\n",
       "    font-weight: 200;\n",
       "    }\n",
       ".exold {    \n",
       "    background-color: #b2dbea80;\n",
       "    border-color: #0055ff;\n",
       "    border-left: 10px solid #0055ff;\n",
       "    padding: 0.5em;\n",
       "    font-weight: 200;\n",
       "    }\n",
       ".ex {    \n",
       "    background-color: #b2dbea80;\n",
       "    padding: 0.5em;\n",
       "    padding-top: 0em;\n",
       "    font-weight: 200;\n",
       "    position:relative;\n",
       "    }\n",
       ".ex::before {\n",
       "    background-color: #b2dbea;\n",
       "    content:\"Exercice\";\n",
       "    margin-left:-0.5em;\n",
       "    margin-right:-0.5em;\n",
       "    padding-left:0.5em;\n",
       "    padding-right:0.5em;\n",
       "    font-weight: 600;\n",
       "    display: block;\n",
       "    }\n",
       ".app {    \n",
       "    background-color: #b2dbea80;\n",
       "    padding: 0.5em;\n",
       "    padding-top: 0em;\n",
       "    font-weight: 200;\n",
       "    position:relative;\n",
       "    }\n",
       ".app::before {\n",
       "    background-color: #b2dbea;\n",
       "    content:\"Application\";\n",
       "    margin-left:-0.5em;\n",
       "    margin-right:-0.5em;\n",
       "    padding-left:0.5em;\n",
       "    padding-right:0.5em;\n",
       "    font-weight: 600;\n",
       "    display: block;\n",
       "    }\n",
       "</style>\n"
      ],
      "text/plain": [
       "<IPython.core.display.HTML object>"
      ]
     },
     "metadata": {},
     "output_type": "display_data"
    },
    {
     "data": {
      "text/markdown": [
       "**Start at:** Thursday 12 January 2023, 22:18:11  \n",
       "**Hostname:** desktop-5h3j30j.home (Linux)"
      ],
      "text/plain": [
       "<IPython.core.display.Markdown object>"
      ]
     },
     "metadata": {},
     "output_type": "display_data"
    },
    {
     "data": {
      "text/markdown": [
       "<p style=\"text-align: center\"><img width=\"800px\" src=\"./config/svg/logoPytChem.svg\" style=\"margin-left:auto; margin-right:auto\"/></p>"
      ],
      "text/plain": [
       "<IPython.core.display.Markdown object>"
      ]
     },
     "metadata": {},
     "output_type": "display_data"
    }
   ],
   "source": [
    "import os\n",
    "import sys\n",
    "\n",
    "cwd0 = './config/'\n",
    "sys.path.append(cwd0)\n",
    "\n",
    "import visualID_Eng as vID\n",
    "from visualID_Eng import color\n",
    "vID.init(cwd0)"
   ]
  },
  {
   "cell_type": "markdown",
   "id": "b4b29e9a-1cce-4eb3-b6e1-3425b7a4cfac",
   "metadata": {
    "tags": []
   },
   "source": [
    "## Table of Contents\n",
    "### Quelques pré-requis\n",
    "#### \"Python in the Physical Chemistry Lab (PPCL)\" in a nutshell \n",
    "\n",
    "[Jupyter notebook](./PPCL.ipynb). *in English*\n",
    "\n",
    "#### Constantes physiques et mathématiques\n",
    "\n",
    "<span style='color:red'>**work in progress**</span>\n",
    "\n",
    "[Jupyter notebook](./Constantes.ipynb). en Français / *in French*\n",
    "\n",
    "#### Dérivées, intégrales et primitives, équations différentielles\n",
    "\n",
    "<span style='color:red'>**work in progress**</span>\n",
    "\n",
    "- **1.** Dérivées, intégrales et primitives. [Jupyter notebook](./DeriveesIntegrales1.ipynb). en Français / *in French*\n",
    "- **2.** Équations différentielles. [Jupyter notebook](./DeriveesIntegrales2.ipynb). en Français / *in French*\n",
    "\n",
    "### Atomistique\n",
    "\n",
    "<span style='color:red'>**work in progress**</span>\n",
    "\n",
    "Hydrogen atom wavefunctions. [Jupyter notebook](./HydrogenAtom.ipynb). *in English*\n",
    "\n",
    "### Spectroscopy\n",
    "\n",
    "<span style='color:red'>**work in progress**</span>\n",
    "\n",
    "2nd-order NMR. [Jupyter notebook](./NMR.ipynb). *in English*\n",
    "\n",
    "[Download the associated NMR White Paper](https://drive.google.com/file/d/1bjzzwnD37iQ6sTSIpKOmWwxJ9Q6pbXVI/view?usp=sharing)\n",
    "\n",
    "### Introduction to Machine Learning for Chemists: Visualization, Data Processing, Analysis\n",
    "\n",
    "#### Course materials\n",
    "[Download the ML Slides](https://drive.google.com/file/d/10n2RyNfXEgz2t8EICo1wAJluJCXNBwrJ/view?usp=sharing) (*in English*)\n",
    "\n",
    "#### Jupyter notebooks\n",
    "\n",
    "- [Traitement statistique de données (data science pour débutants) / *Statistical treatment of data (data science for beginners)*](./DS4B-TOC.ipynb). en Français / *in French*\n",
    "    - **1.** [Lecture et analyse de la base de données par la librairie pandas](./DS4B-Iris1.ipynb). en Français / *in French*\n",
    "        - [Exercices.](./DS4B-Exercices/DS4B-Iris1-Exercice.ipynb)\n",
    "        - [Corrigé.](./DS4B-Exercices/DS4B-Iris1-Correction-Exercice.ipynb)\n",
    "    - **2.** [Statistiques et régression](./DS4B-Iris2.ipynb). en Français / *in French*\n",
    "        - [Exercices.](./DS4B-Exercices/DS4B-Iris2-Exercice.ipynb)\n",
    "        - [Corrigé.](./DS4B-Exercices/DS4B-Iris2-Correction-Exercice.ipynb)\n",
    "    - **3.** [Apprentissage supervisé (supervised Machine Learning) appliqué à la classification (régression logistique)](./DS4B-Iris3.ipynb). en Français / *in French*\n",
    "        - [Exercices.](./DS4B-Exercices/DS4B-Iris3-Exercice.ipynb)\n",
    "        - [Corrigé.](./DS4B-Exercices/DS4B-Iris3-Correction-Exercice.ipynb)\n",
    "    - **4.** [Advanced statistical analysis: principal component analysis](./DS4B-IrisPCA.ipynb). *in English*\n",
    "<br><br>\n",
    "\n",
    "- [Prediction by an artificial neural network of the solubility of CO<sub>2</sub> in ionic liquids](./DS4B-CO2_solubility.ipynb). *in English*\n",
    "    - [Exercise. Assessment of the stability of the original ML algorithm of Song *et al*. by *K*-fold cross validation](./DS4B-Exercices/DS4B-CO2_solubility-Exercise.ipynb)\n",
    "    - [Solution to the previous exercise](./DS4B-Exercices/DS4B-CO2_solubility-ExerciseWithAnswer.ipynb)\n",
    "<br><br> \n",
    "\n",
    "- [Annexes / *Appendixes*](./DS4B-Appendix.ipynb)"
   ]
  },
  {
   "cell_type": "code",
   "execution_count": 2,
   "id": "2667988e-7e85-46e1-b99e-8e48ca12d92b",
   "metadata": {},
   "outputs": [
    {
     "data": {
      "text/markdown": [
       "**End at:** Friday 06 January 2023, 16:46:21  \n",
       "**Duration:** 00:00:05 380ms"
      ],
      "text/plain": [
       "<IPython.core.display.Markdown object>"
      ]
     },
     "metadata": {},
     "output_type": "display_data"
    },
    {
     "data": {
      "text/markdown": [
       "<p style=\"text-align: center\"><img width=\"800px\" src=\"./config/svg/logoEnd.svg\" style=\"margin-left:auto; margin-right:auto\"/></p>"
      ],
      "text/plain": [
       "<IPython.core.display.Markdown object>"
      ]
     },
     "metadata": {},
     "output_type": "display_data"
    }
   ],
   "source": [
    "vID.end(cwd0)"
   ]
  },
  {
   "cell_type": "code",
   "execution_count": null,
   "id": "9fff6bd6-6e7e-4a06-a497-6a85057243da",
   "metadata": {},
   "outputs": [],
   "source": []
  }
 ],
 "metadata": {
  "kernelspec": {
   "display_name": "Python 3 (ipykernel)",
   "language": "python",
   "name": "python3"
  },
  "language_info": {
   "codemirror_mode": {
    "name": "ipython",
    "version": 3
   },
   "file_extension": ".py",
   "mimetype": "text/x-python",
   "name": "python",
   "nbconvert_exporter": "python",
   "pygments_lexer": "ipython3",
   "version": "3.10.6"
  },
  "toc-autonumbering": false,
  "toc-showmarkdowntxt": false
 },
 "nbformat": 4,
 "nbformat_minor": 5
}
