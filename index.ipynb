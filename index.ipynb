{
 "cells": [
  {
   "cell_type": "markdown",
   "id": "8a01427f",
   "metadata": {
    "tags": []
   },
   "source": [
    "<p style=\"text-align: center\"><img width=\"800px\" src=\"./svg/logoReadme.svg\" style=\"margin-left:auto; margin-right:auto\" id=\"img_PytChem\"></img></p>\n"
   ]
  },
  {
   "cell_type": "markdown",
   "id": "b4b29e9a-1cce-4eb3-b6e1-3425b7a4cfac",
   "metadata": {},
   "source": [
    "- [**Traitement statistique de données (data science pour débutants)**](./index-DataSc.ipynb). En français\n",
    "- [**XXX**]"
   ]
  },
  {
   "cell_type": "code",
   "execution_count": null,
   "id": "23550d42-7fbe-4463-9459-6e94a77a16a2",
   "metadata": {},
   "outputs": [],
   "source": []
  }
 ],
 "metadata": {
  "kernelspec": {
   "display_name": "Python 3 (ipykernel)",
   "language": "python",
   "name": "python3"
  },
  "language_info": {
   "codemirror_mode": {
    "name": "ipython",
    "version": 3
   },
   "file_extension": ".py",
   "mimetype": "text/x-python",
   "name": "python",
   "nbconvert_exporter": "python",
   "pygments_lexer": "ipython3",
   "version": "3.9.0"
  },
  "toc-autonumbering": false,
  "toc-showmarkdowntxt": false
 },
 "nbformat": 4,
 "nbformat_minor": 5
}
