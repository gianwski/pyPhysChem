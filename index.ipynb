{
 "cells": [
  {
   "cell_type": "code",
   "execution_count": 1,
   "id": "c98662e7",
   "metadata": {
    "scrolled": true,
    "tags": []
   },
   "outputs": [
    {
     "data": {
      "text/html": [
       "<style>\n",
       "h1, h2, h3, h4, h5, h6 {\n",
       "  font-family: Verdana, \"DejaVu Sans\", \"Bitstream Vera Sans\", Geneva, sans-serif;\n",
       "  font-weight: bold;\n",
       "}\n",
       "body {\n",
       "  font-family: Verdana, \"DejaVu Sans\", \"Bitstream Vera Sans\", Geneva, sans-serif;\n",
       "  font-weight: 200;\n",
       "}\n",
       "h1 {\n",
       "  border: 0px solid #333;\n",
       "  padding: 30px ;\n",
       "  color: white;\n",
       "  background: #b11d01;\n",
       "  text-align: center;\n",
       "}\n",
       "h2 {\n",
       "  border: 3px solid #333;\n",
       "  padding: 18px ;\n",
       "  color: #b11d01;\n",
       "  background: #ffffff;\n",
       "  text-align: center;\n",
       "}\n",
       "h3 {\n",
       "  border: 0px solid #333;\n",
       "  padding: 12px ;\n",
       "  color: #000000;\n",
       "  background: #c1c1c1;\n",
       "  text-align: left;\n",
       "}\n",
       "h4 {\n",
       "  border: 0px solid #333;\n",
       "  padding: 2px ;\n",
       "  color: #000000;\n",
       "  background: #d9fffc;\n",
       "  text-align: left;\n",
       "}\n",
       "div.warn {    \n",
       "    background-color: #fcf2f2;\n",
       "    border-color: #dFb5b4;\n",
       "    border-left: 5px solid #dfb5b4;\n",
       "    padding: 0.5em;\n",
       "    font-weight: 200;\n",
       "    }\n",
       "div.rq {    \n",
       "    background-color: #e2e2e2;\n",
       "    border-color: #969696;\n",
       "    border-left: 5px solid #969696;\n",
       "    padding: 0.5em;\n",
       "    font-weight: 200;\n",
       "    }\n",
       "</style>\n"
      ],
      "text/plain": [
       "<IPython.core.display.HTML object>"
      ]
     },
     "metadata": {},
     "output_type": "display_data"
    },
    {
     "data": {
      "text/markdown": [
       "**Début à:** Monday 30 May 2022, 13:34:53  \n",
       "**Hostname:** insa-11357 (Linux)"
      ],
      "text/plain": [
       "<IPython.core.display.Markdown object>"
      ]
     },
     "metadata": {},
     "output_type": "display_data"
    },
    {
     "data": {
      "text/markdown": [
       "<p style=\"text-align: center\"><img width=\"800px\" src=\"./svg/logoBegin.svg\" style=\"margin-left:auto; margin-right:auto\"></img></p>"
      ],
      "text/plain": [
       "<IPython.core.display.Markdown object>"
      ]
     },
     "metadata": {},
     "output_type": "display_data"
    }
   ],
   "source": [
    "import visualID as vID\n",
    "from visualID import color\n",
    "vID.init()"
   ]
  },
  {
   "cell_type": "markdown",
   "id": "8a01427f",
   "metadata": {
    "tags": []
   },
   "source": [
    "# Traitement statistique de données\n",
    "contact: romuald.poteau@univ-tlse3.fr\n",
    "\n",
    "## Introduction  \n",
    "\n",
    "### Prérequis\n",
    "- matplotlib & seaborn\n",
    "- listes\n",
    "- boucles (for)\n",
    "\n",
    "### Objectifs\n",
    "- xx\n",
    "- xx\n",
    "- xx\n",
    "\n",
    "### Compétences\n",
    "à l'issue de cette série de TP, vous saurez :  \n",
    "\n",
    "**1ère partie (Lecture et analyse de la base de données par la librairie pandas)**  \n",
    "- xx\n",
    "- xx\n",
    "- xx\n",
    "\n",
    "**2ème partie (statistique et régression)**  \n",
    "- xx\n",
    "- xx\n",
    "- xx\n",
    "\n",
    "**3ème partie (Machine learning appliqué à la classification = régression logistique)**  \n",
    "- xx\n",
    "- xx\n",
    "- xx\n",
    "\n",
    "### Contexte du TP\n",
    "Ce sujet exploite une base de données très utilisées pour l'apprentissage de méthodes statistiques, la base **IRIS** : \n",
    "- elle regroupe les caractéristiques de trois espèces de fleurs d’Iris : Setosa, Versicolor et Virginica\n",
    "- la base regroupe 50 observations par espèce (soit 150 **individus**)\n",
    "- chaque observation repose sur 4 caractéristiques (c'est-à-dire 4 **variables**): longueur et largeur de sépales ainsi que longueur et largeur de pétales\n",
    "\n",
    "<p style=\"text-align: center\"><img width=\"500px\" src=\"./iris-images/iris.png\" style=\"margin-left:auto; margin-right:auto\" id=\"img_iris\"></img></p>\n",
    "\n",
    "Une page [wikipedia](https://fr.wikipedia.org/wiki/Iris_de_Fisher) porte sur ce dataset."
   ]
  },
  {
   "cell_type": "markdown",
   "id": "b4b29e9a-1cce-4eb3-b6e1-3425b7a4cfac",
   "metadata": {},
   "source": [
    "## Table des matières\n",
    "\n",
    "- 1. [**Lecture et analyse de la base de données par la librairie pandas**](./Pandas-Stats-Iris1.ipynb)\n",
    "    - [Pandas. Suggestion de petite(s) application(s) en autonomie. Sujet] TODO quand le corrigé sera finalisé\n",
    "    - [Corrigé Pandas](./Iris1-ExoCorrigé.ipynb)\n",
    "- 2. [**Statistiques et régression**](./Pandas-Stats-Iris2.ipynb)\n",
    "    - [Stats & régression. Suggestion de petite(s) application(s) en autonomie. Sujet] TODO quand le corrigé sera finalisé\n",
    "    - [Corrigé Stats & régression](./Iris2-ExoCorrigé.ipynb)\n",
    "- 3. [**Apprentissage supervisé (supervised Machine Learning) appliqué à la classification (régression logistique)**](./Pandas-Stats-Iris3.ipynb)\n",
    "    - [ML. Suggestion de petite(s) application(s) en autonomie. Sujet] TODO quand le corrigé sera finalisé\n",
    "    - [Corrigé ML](./Iris3-ExoCorrigé.ipynb)\n",
    "\n",
    "[**Annexes & fonds de tiroir**](./Pandas-Stats-IrisAnnex.ipynb)"
   ]
  },
  {
   "cell_type": "code",
   "execution_count": null,
   "id": "423c8904-9e4e-443d-ac7b-8fe8f5333963",
   "metadata": {},
   "outputs": [],
   "source": []
  }
 ],
 "metadata": {
  "kernelspec": {
   "display_name": "Python 3 (ipykernel)",
   "language": "python",
   "name": "python3"
  },
  "language_info": {
   "codemirror_mode": {
    "name": "ipython",
    "version": 3
   },
   "file_extension": ".py",
   "mimetype": "text/x-python",
   "name": "python",
   "nbconvert_exporter": "python",
   "pygments_lexer": "ipython3",
   "version": "3.9.0"
  },
  "toc-autonumbering": false,
  "toc-showmarkdowntxt": false
 },
 "nbformat": 4,
 "nbformat_minor": 5
}
