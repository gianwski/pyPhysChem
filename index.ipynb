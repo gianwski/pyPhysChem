{
 "cells": [
  {
   "cell_type": "code",
   "execution_count": null,
   "id": "b44b0b54-05e5-4bc0-a39e-5858baf780b1",
   "metadata": {},
   "outputs": [],
   "source": [
    "import visualID_Eng as vID\n",
    "from visualID import color\n",
    "vID.init()"
   ]
  },
  {
   "cell_type": "markdown",
   "id": "b4b29e9a-1cce-4eb3-b6e1-3425b7a4cfac",
   "metadata": {},
   "source": [
    "## Introduction to Machine Learning for Chemists: Visualization, Data Processing, Analysis\n",
    "### Course materials\n",
    "[**Slides**](https://drive.google.com/file/d/10n2RyNfXEgz2t8EICo1wAJluJCXNBwrJ/view?usp=sharing) (*in English*)\n",
    "### Jupyter notebooks\n",
    "\n",
    "- [**Traitement statistique de données (data science pour débutants) / *Statistical treatment of data (data science for beginners)***](./index-DataSc.ipynb). en Français / *in French*\n",
    "    - **1**. [**Lecture et analyse de la base de données par la librairie pandas**](./Pandas-Stats-Iris1.ipynb). en Français / *in French*\n",
    "        - [Pandas. Suggestion de petite(s) application(s) en autonomie. Sujet] TODO quand le corrigé sera finalisé\n",
    "        - [Corrigé Pandas](./Iris1-ExoCorrigé.ipynb)\n",
    "    - **2**. [**Statistiques et régression**](./Pandas-Stats-Iris2.ipynb). en Français / *in French*\n",
    "        - [Stats & régression. Suggestion de petite(s) application(s) en autonomie. Sujet] TODO quand le corrigé sera finalisé\n",
    "        - [Corrigé Stats & régression](./Iris2-ExoCorrigé.ipynb)\n",
    "    - **3**. [**Apprentissage supervisé (supervised Machine Learning) appliqué à la classification (régression logistique)**](./Pandas-Stats-Iris3.ipynb). en Français / *in French*\n",
    "        - [ML. Suggestion de petite(s) application(s) en autonomie. Sujet] TODO quand le corrigé sera finalisé\n",
    "        - [Corrigé ML](./Iris3-ExoCorrigé.ipynb)\n",
    "    - **4**. [**Advanced statistical analysis: principal component analysis**](./Pandas-Stats-IrisPCA.ipynb). *in English*\n",
    "- [**Prediction by an artificial neural network of the solubility of CO<sub>2</sub> in ionic liquids**](./CO2_solubility.ipynb). *in English*\n",
    "    - [**Exercise: Assessment of the stability of the original ML algorithm of Song *et al*. by *K*-fold cross validation**](./CO2_solubility-Exercise.ipynb)\n",
    "    - [**Answers to the previous exercise**](./CO2_solubility-ExerciseWithAnswer.ipynb)"
   ]
  },
  {
   "cell_type": "code",
   "execution_count": 2,
   "id": "2667988e-7e85-46e1-b99e-8e48ca12d92b",
   "metadata": {},
   "outputs": [
    {
     "data": {
      "text/markdown": [
       "**End at:** Friday 29 July 2022, 14:43:39  \n",
       "**Duration:** 00:00:02 959ms"
      ],
      "text/plain": [
       "<IPython.core.display.Markdown object>"
      ]
     },
     "metadata": {},
     "output_type": "display_data"
    },
    {
     "data": {
      "text/markdown": [
       "<p style=\"text-align: center\"><img width=\"800px\" src=\"./svg/logoEnd.svg\" style=\"margin-left:auto; margin-right:auto\"/></p>"
      ],
      "text/plain": [
       "<IPython.core.display.Markdown object>"
      ]
     },
     "metadata": {},
     "output_type": "display_data"
    }
   ],
   "source": [
    "vID.end()"
   ]
  },
  {
   "cell_type": "code",
   "execution_count": null,
   "id": "0da4e9eb-56a2-4ddf-a167-2378a54d24af",
   "metadata": {},
   "outputs": [],
   "source": []
  }
 ],
 "metadata": {
  "kernelspec": {
   "display_name": "Python 3 (ipykernel)",
   "language": "python",
   "name": "python3"
  },
  "language_info": {
   "codemirror_mode": {
    "name": "ipython",
    "version": 3
   },
   "file_extension": ".py",
   "mimetype": "text/x-python",
   "name": "python",
   "nbconvert_exporter": "python",
   "pygments_lexer": "ipython3",
   "version": "3.10.5"
  },
  "toc-autonumbering": false,
  "toc-showmarkdowntxt": false
 },
 "nbformat": 4,
 "nbformat_minor": 5
}
