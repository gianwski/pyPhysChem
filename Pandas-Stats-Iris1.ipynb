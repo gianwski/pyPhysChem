{
 "cells": [
  {
   "cell_type": "code",
   "execution_count": 2,
   "id": "c98662e7",
   "metadata": {
    "scrolled": true,
    "tags": []
   },
   "outputs": [
    {
     "data": {
      "text/html": [
       "<style>\n",
       "h1, h2, h3, h4, h5, h6 {\n",
       "  font-family: Verdana, \"DejaVu Sans\", \"Bitstream Vera Sans\", Geneva, sans-serif;\n",
       "  font-weight: bold;\n",
       "}\n",
       "body {\n",
       "  font-family: Verdana, \"DejaVu Sans\", \"Bitstream Vera Sans\", Geneva, sans-serif;\n",
       "  font-weight: 200;\n",
       "}\n",
       "h1 {\n",
       "  border: 0 solid #333;\n",
       "  padding: 30px ;\n",
       "  color: white;\n",
       "  background: #b11d01;\n",
       "  text-align: center;\n",
       "}\n",
       "h2 {\n",
       "  border: 3px solid #333;\n",
       "  padding: 18px ;\n",
       "  color: #b11d01;\n",
       "  background: #ffffff;\n",
       "  text-align: center;\n",
       "}\n",
       "h3 {\n",
       "  border: 0 solid #333;\n",
       "  padding: 12px ;\n",
       "  color: #000000;\n",
       "  background: #c1c1c1;\n",
       "  text-align: left;\n",
       "}\n",
       "h4 {\n",
       "  border: 0 solid #333;\n",
       "  padding: 2px ;\n",
       "  color: #000000;\n",
       "  background: #d9fffc;\n",
       "  text-align: left;\n",
       "}\n",
       "h5 {\n",
       "  border: 1px solid #333;\n",
       "  padding: 2px ;\n",
       "  color: #000000;\n",
       "  background: #ffffff;\n",
       "  text-align: left;\n",
       "}\n",
       ".warn {    \n",
       "    background-color: #fcf2f2;\n",
       "    border-color: #dFb5b4;\n",
       "    border-left: 5px solid #dfb5b4;\n",
       "    padding: 0.5em;\n",
       "    font-weight: 200;\n",
       "    }\n",
       ".rq {    \n",
       "    background-color: #e2e2e2;\n",
       "    border-color: #969696;\n",
       "    border-left: 5px solid #969696;\n",
       "    padding: 0.5em;\n",
       "    font-weight: 200;\n",
       "    }\n",
       "</style>\n"
      ],
      "text/plain": [
       "<IPython.core.display.HTML object>"
      ]
     },
     "metadata": {},
     "output_type": "display_data"
    },
    {
     "data": {
      "text/markdown": [
       "**Début à:** Thursday 23 June 2022, 15:09:10  \n",
       "**Hostname:** localhost.localdomain (Linux)"
      ],
      "text/plain": [
       "<IPython.core.display.Markdown object>"
      ]
     },
     "metadata": {},
     "output_type": "display_data"
    },
    {
     "data": {
      "text/markdown": [
       "<p style=\"text-align: center\"><img width=\"800px\" src=\"./svg/logoBegin.svg\" style=\"margin-left:auto; margin-right:auto\"/></p>"
      ],
      "text/plain": [
       "<IPython.core.display.Markdown object>"
      ]
     },
     "metadata": {},
     "output_type": "display_data"
    }
   ],
   "source": [
    "import visualID as vID\n",
    "from visualID import color\n",
    "vID.init()"
   ]
  },
  {
   "cell_type": "markdown",
   "id": "b4e0aaf6",
   "metadata": {},
   "source": [
    "# Traitement statistique de données<br>(data science pour débutants)\n",
    "## 1. Lecture et analyse de la base de données par la librairie pandas"
   ]
  },
  {
   "cell_type": "markdown",
   "id": "4dd5fbdf",
   "metadata": {},
   "source": [
    "- **pandas** est une librairie python qui permet de **manipuler facilement des données** et des les **analyser**\n",
    "- elle permet en particulier de manipuler des tableaux de données avec des étiquettes de variables (colonnes) et d'individus (lignes)\n",
    "- ces **tableaux** sont appelés *DataFrames** (df)\n",
    "- on peut facilement lire et écrire ces dataframes à partir ou vers un fichier tabulé (format **excel**, csv, etc)\n",
    "- on peut faciler **tracer des graphes** à partir de ces DataFrames grâce à **matplotlib**, ou bien à l'aide d'autres librairies dédiées à l'analyse statistique de données.\n",
    "\n",
    "<div class=\"warn\">\n",
    "Comme pour toute librairie python qui apporte des commandes et fonctionalités avancées avec leur syntaxe et logique propre, on n'hésitera pas à utiliser une <b>\"Cheat Sheet\"</b>, et à faire des copier/coller des principales commandes (inutile de s'encombrer le cerveau avec une syntaxe complexe). Il en existe plusieurs pour pandas, dont  une <a href=\"https://github.com/pandas-dev/pandas/blob/main/doc/cheatsheet/Pandas_Cheat_Sheet.pdf\">Cheat Sheet officielle, télécheargeable</a>.\n",
    "</div>"
   ]
  },
  {
   "cell_type": "code",
   "execution_count": 5,
   "id": "621d2792",
   "metadata": {
    "scrolled": true,
    "tags": []
   },
   "outputs": [],
   "source": [
    "%matplotlib inline\n",
    "# ne perdons pas l'habitude de charger la librairie pylab,\n",
    "# très utile pour de la programmation scientifique avec python\n",
    "from pylab import *\n",
    "# importation de la libairie pandas\n",
    "import pandas as pd\n",
    "import seaborn as sb"
   ]
  },
  {
   "cell_type": "markdown",
   "id": "3121d8a4",
   "metadata": {},
   "source": [
    "### 1.1. Lecture des données"
   ]
  },
  {
   "cell_type": "code",
   "execution_count": null,
   "id": "6f14f930",
   "metadata": {
    "tags": []
   },
   "outputs": [],
   "source": [
    "# on utilise la fonction read_csv de la librariries pandas (aka pd)\n",
    "pd.read_csv('./iris-data/iris.csv', sep=\";\")"
   ]
  },
  {
   "cell_type": "markdown",
   "id": "72ab89a1-00ce-4abe-9b3f-c111e442c75c",
   "metadata": {},
   "source": [
    "On va maintenant stocker ces données dans un *dataframe pandas*, qu'on va appeler dfi (comme DataFrame Iris). C'est un type de données tabulées, c'est-à-dire composé de 2 dimensions.\n",
    "\n",
    "Chaque **ligne** représente un *échantillon*. Dans le domaine de l'apprentissage automatique ou des statistiques descriptives, les termes équivalents couramment utilisés sont *enregistrement*, *instance* ou *observation*.\n",
    "\n",
    "Chaque **colonne** représente un type d'information qui a été collecté et est appelée *caractéristique*. Dans le domaine de l'apprentissage automatique et des statistiques descriptives, les termes équivalents couramment utilisés sont *variable*, *attribut* ou *descripteur*."
   ]
  },
  {
   "cell_type": "code",
   "execution_count": 6,
   "id": "c6b0f015",
   "metadata": {
    "tags": []
   },
   "outputs": [
    {
     "data": {
      "text/html": [
       "<div>\n",
       "<style scoped>\n",
       "    .dataframe tbody tr th:only-of-type {\n",
       "        vertical-align: middle;\n",
       "    }\n",
       "\n",
       "    .dataframe tbody tr th {\n",
       "        vertical-align: top;\n",
       "    }\n",
       "\n",
       "    .dataframe thead th {\n",
       "        text-align: right;\n",
       "    }\n",
       "</style>\n",
       "<table border=\"1\" class=\"dataframe\">\n",
       "  <thead>\n",
       "    <tr style=\"text-align: right;\">\n",
       "      <th></th>\n",
       "      <th>sepal_length</th>\n",
       "      <th>sepal_width</th>\n",
       "      <th>petal_length</th>\n",
       "      <th>petal_width</th>\n",
       "      <th>species</th>\n",
       "    </tr>\n",
       "  </thead>\n",
       "  <tbody>\n",
       "    <tr>\n",
       "      <th>0</th>\n",
       "      <td>5.1</td>\n",
       "      <td>3.5</td>\n",
       "      <td>1.4</td>\n",
       "      <td>0.2</td>\n",
       "      <td>setosa</td>\n",
       "    </tr>\n",
       "    <tr>\n",
       "      <th>1</th>\n",
       "      <td>4.9</td>\n",
       "      <td>3.0</td>\n",
       "      <td>1.4</td>\n",
       "      <td>0.2</td>\n",
       "      <td>setosa</td>\n",
       "    </tr>\n",
       "    <tr>\n",
       "      <th>2</th>\n",
       "      <td>4.7</td>\n",
       "      <td>3.2</td>\n",
       "      <td>1.3</td>\n",
       "      <td>0.2</td>\n",
       "      <td>setosa</td>\n",
       "    </tr>\n",
       "    <tr>\n",
       "      <th>3</th>\n",
       "      <td>4.6</td>\n",
       "      <td>3.1</td>\n",
       "      <td>1.5</td>\n",
       "      <td>0.2</td>\n",
       "      <td>setosa</td>\n",
       "    </tr>\n",
       "    <tr>\n",
       "      <th>4</th>\n",
       "      <td>5.0</td>\n",
       "      <td>3.6</td>\n",
       "      <td>1.4</td>\n",
       "      <td>0.2</td>\n",
       "      <td>setosa</td>\n",
       "    </tr>\n",
       "    <tr>\n",
       "      <th>...</th>\n",
       "      <td>...</td>\n",
       "      <td>...</td>\n",
       "      <td>...</td>\n",
       "      <td>...</td>\n",
       "      <td>...</td>\n",
       "    </tr>\n",
       "    <tr>\n",
       "      <th>145</th>\n",
       "      <td>6.7</td>\n",
       "      <td>3.0</td>\n",
       "      <td>5.2</td>\n",
       "      <td>2.3</td>\n",
       "      <td>virginica</td>\n",
       "    </tr>\n",
       "    <tr>\n",
       "      <th>146</th>\n",
       "      <td>6.3</td>\n",
       "      <td>2.5</td>\n",
       "      <td>5.0</td>\n",
       "      <td>1.9</td>\n",
       "      <td>virginica</td>\n",
       "    </tr>\n",
       "    <tr>\n",
       "      <th>147</th>\n",
       "      <td>6.5</td>\n",
       "      <td>3.0</td>\n",
       "      <td>5.2</td>\n",
       "      <td>2.0</td>\n",
       "      <td>virginica</td>\n",
       "    </tr>\n",
       "    <tr>\n",
       "      <th>148</th>\n",
       "      <td>6.2</td>\n",
       "      <td>3.4</td>\n",
       "      <td>5.4</td>\n",
       "      <td>2.3</td>\n",
       "      <td>virginica</td>\n",
       "    </tr>\n",
       "    <tr>\n",
       "      <th>149</th>\n",
       "      <td>5.9</td>\n",
       "      <td>3.0</td>\n",
       "      <td>5.1</td>\n",
       "      <td>1.8</td>\n",
       "      <td>virginica</td>\n",
       "    </tr>\n",
       "  </tbody>\n",
       "</table>\n",
       "<p>150 rows × 5 columns</p>\n",
       "</div>"
      ],
      "text/plain": [
       "     sepal_length  sepal_width  petal_length  petal_width    species\n",
       "0             5.1          3.5           1.4          0.2     setosa\n",
       "1             4.9          3.0           1.4          0.2     setosa\n",
       "2             4.7          3.2           1.3          0.2     setosa\n",
       "3             4.6          3.1           1.5          0.2     setosa\n",
       "4             5.0          3.6           1.4          0.2     setosa\n",
       "..            ...          ...           ...          ...        ...\n",
       "145           6.7          3.0           5.2          2.3  virginica\n",
       "146           6.3          2.5           5.0          1.9  virginica\n",
       "147           6.5          3.0           5.2          2.0  virginica\n",
       "148           6.2          3.4           5.4          2.3  virginica\n",
       "149           5.9          3.0           5.1          1.8  virginica\n",
       "\n",
       "[150 rows x 5 columns]"
      ]
     },
     "metadata": {},
     "output_type": "display_data"
    }
   ],
   "source": [
    "# même chose que précdemment, mais on sauve dans une variable dfi (comme dataframe iris)\n",
    "dfi=pd.read_csv('./iris-data/iris.csv', sep=\";\")\n",
    "# cette fois-ci rien n'est affiché. On va pour dela utiliser la fonction display\n",
    "# qui est une fonction standard (fournie par IPython.display)\n",
    "display(dfi)"
   ]
  },
  {
   "cell_type": "markdown",
   "id": "d1c0e3d5",
   "metadata": {},
   "source": [
    "<div class=warn>\n",
    "    <b>attention</b>: les <i>colonnes</i> sont indexées par leur nom et les <i>lignes</i> (qu'on appelle une <b>série</b> de données) par les index entiers 0 à 149. Chacun des 150 échantillons est donc indexé par un nombre entier\n",
    "</div>"
   ]
  },
  {
   "cell_type": "markdown",
   "id": "2634aacc",
   "metadata": {},
   "source": [
    "### 1.2. Manipulations simples des données\n",
    "#### 1.2.a. Mise en évidence de la structuration des données en tableaux\n",
    "<div class='rq'> La commande <code>NomDuDataFrame.to_numpy()</code> renvoie la structure matricielle d'un data frame sous forme de liste, tel que numpy code les tableaux (ou <b>matrices</b>) de données </div>"
   ]
  },
  {
   "cell_type": "code",
   "execution_count": null,
   "id": "20e9a9c7",
   "metadata": {
    "tags": []
   },
   "outputs": [],
   "source": [
    "dfi.to_numpy()"
   ]
  },
  {
   "cell_type": "markdown",
   "id": "a86477c8",
   "metadata": {},
   "source": [
    "#### 1.2.b. Accès à des variables\n",
    "On peut adresser chaque colonne par son index d'en-tête, c'est-à-dire son nom.\n",
    "<div class=warn>\n",
    "Attention à écrire le nom sans erreur et en <b>respectant la casse</b>.\n",
    "</div>"
   ]
  },
  {
   "cell_type": "code",
   "execution_count": 7,
   "id": "6072ab4c",
   "metadata": {
    "tags": []
   },
   "outputs": [
    {
     "data": {
      "text/plain": [
       "0      5.1\n",
       "1      4.9\n",
       "2      4.7\n",
       "3      4.6\n",
       "4      5.0\n",
       "      ... \n",
       "145    6.7\n",
       "146    6.3\n",
       "147    6.5\n",
       "148    6.2\n",
       "149    5.9\n",
       "Name: sepal_length, Length: 150, dtype: float64"
      ]
     },
     "execution_count": 7,
     "metadata": {},
     "output_type": "execute_result"
    }
   ],
   "source": [
    "dfi[\"sepal_length\"]"
   ]
  },
  {
   "cell_type": "markdown",
   "id": "5f2092de",
   "metadata": {},
   "source": [
    "<div class=\"rq\">La commande suivante permet d'afficher les 3 premières lignes du tableau (<span style=\"color:red\">on rappelle que les lignes sont indexées par des nombres</span>)</div>"
   ]
  },
  {
   "cell_type": "code",
   "execution_count": null,
   "id": "8b078243",
   "metadata": {
    "tags": []
   },
   "outputs": [],
   "source": [
    "dfi[0:3]"
   ]
  },
  {
   "cell_type": "markdown",
   "id": "ff075360",
   "metadata": {},
   "source": [
    "<div class=\"warn\">\n",
    "    <b>Attention</b>, c'est piégeux ! On a un tableau (une <b>matrice</b>) dont la première ligne débute avec l'en-tête. Ces nombres entre crochets font référence aux coordonnées des lignes de ce tableau, tel qu'on l'a mis en évidence avec la commande <code>dfi.to_numpy()</code>\n",
    "</div>"
   ]
  },
  {
   "cell_type": "markdown",
   "id": "f8ab1c71",
   "metadata": {},
   "source": [
    "<div class=\"rq\">On va maintenant accéder aux 3 premières valeurs de la colonne petal_length</div>"
   ]
  },
  {
   "cell_type": "code",
   "execution_count": null,
   "id": "ece8ed3d",
   "metadata": {
    "tags": []
   },
   "outputs": [],
   "source": [
    "dfi[\"petal_length\"][0:3]"
   ]
  },
  {
   "cell_type": "markdown",
   "id": "1cd9bf3f",
   "metadata": {},
   "source": [
    "<div class=\"rq\"><b>Plus fort.</b> On peut fabriquer un nouveau dataframe sur la base d'une condition</div>"
   ]
  },
  {
   "cell_type": "code",
   "execution_count": 8,
   "id": "111d4440",
   "metadata": {
    "tags": []
   },
   "outputs": [
    {
     "name": "stdout",
     "output_type": "stream",
     "text": [
      "0       True\n",
      "1       True\n",
      "2       True\n",
      "3       True\n",
      "4       True\n",
      "       ...  \n",
      "145    False\n",
      "146     True\n",
      "147    False\n",
      "148    False\n",
      "149     True\n",
      "Name: petal_width, Length: 150, dtype: bool\n"
     ]
    },
    {
     "data": {
      "text/html": [
       "<div>\n",
       "<style scoped>\n",
       "    .dataframe tbody tr th:only-of-type {\n",
       "        vertical-align: middle;\n",
       "    }\n",
       "\n",
       "    .dataframe tbody tr th {\n",
       "        vertical-align: top;\n",
       "    }\n",
       "\n",
       "    .dataframe thead th {\n",
       "        text-align: right;\n",
       "    }\n",
       "</style>\n",
       "<table border=\"1\" class=\"dataframe\">\n",
       "  <thead>\n",
       "    <tr style=\"text-align: right;\">\n",
       "      <th></th>\n",
       "      <th>sepal_length</th>\n",
       "      <th>sepal_width</th>\n",
       "      <th>petal_length</th>\n",
       "      <th>petal_width</th>\n",
       "      <th>species</th>\n",
       "    </tr>\n",
       "  </thead>\n",
       "  <tbody>\n",
       "    <tr>\n",
       "      <th>0</th>\n",
       "      <td>5.1</td>\n",
       "      <td>3.5</td>\n",
       "      <td>1.4</td>\n",
       "      <td>0.2</td>\n",
       "      <td>setosa</td>\n",
       "    </tr>\n",
       "    <tr>\n",
       "      <th>1</th>\n",
       "      <td>4.9</td>\n",
       "      <td>3.0</td>\n",
       "      <td>1.4</td>\n",
       "      <td>0.2</td>\n",
       "      <td>setosa</td>\n",
       "    </tr>\n",
       "    <tr>\n",
       "      <th>2</th>\n",
       "      <td>4.7</td>\n",
       "      <td>3.2</td>\n",
       "      <td>1.3</td>\n",
       "      <td>0.2</td>\n",
       "      <td>setosa</td>\n",
       "    </tr>\n",
       "    <tr>\n",
       "      <th>3</th>\n",
       "      <td>4.6</td>\n",
       "      <td>3.1</td>\n",
       "      <td>1.5</td>\n",
       "      <td>0.2</td>\n",
       "      <td>setosa</td>\n",
       "    </tr>\n",
       "    <tr>\n",
       "      <th>4</th>\n",
       "      <td>5.0</td>\n",
       "      <td>3.6</td>\n",
       "      <td>1.4</td>\n",
       "      <td>0.2</td>\n",
       "      <td>setosa</td>\n",
       "    </tr>\n",
       "    <tr>\n",
       "      <th>...</th>\n",
       "      <td>...</td>\n",
       "      <td>...</td>\n",
       "      <td>...</td>\n",
       "      <td>...</td>\n",
       "      <td>...</td>\n",
       "    </tr>\n",
       "    <tr>\n",
       "      <th>137</th>\n",
       "      <td>6.4</td>\n",
       "      <td>3.1</td>\n",
       "      <td>5.5</td>\n",
       "      <td>1.8</td>\n",
       "      <td>virginica</td>\n",
       "    </tr>\n",
       "    <tr>\n",
       "      <th>138</th>\n",
       "      <td>6.0</td>\n",
       "      <td>3.0</td>\n",
       "      <td>4.8</td>\n",
       "      <td>1.8</td>\n",
       "      <td>virginica</td>\n",
       "    </tr>\n",
       "    <tr>\n",
       "      <th>142</th>\n",
       "      <td>5.8</td>\n",
       "      <td>2.7</td>\n",
       "      <td>5.1</td>\n",
       "      <td>1.9</td>\n",
       "      <td>virginica</td>\n",
       "    </tr>\n",
       "    <tr>\n",
       "      <th>146</th>\n",
       "      <td>6.3</td>\n",
       "      <td>2.5</td>\n",
       "      <td>5.0</td>\n",
       "      <td>1.9</td>\n",
       "      <td>virginica</td>\n",
       "    </tr>\n",
       "    <tr>\n",
       "      <th>149</th>\n",
       "      <td>5.9</td>\n",
       "      <td>3.0</td>\n",
       "      <td>5.1</td>\n",
       "      <td>1.8</td>\n",
       "      <td>virginica</td>\n",
       "    </tr>\n",
       "  </tbody>\n",
       "</table>\n",
       "<p>121 rows × 5 columns</p>\n",
       "</div>"
      ],
      "text/plain": [
       "     sepal_length  sepal_width  petal_length  petal_width    species\n",
       "0             5.1          3.5           1.4          0.2     setosa\n",
       "1             4.9          3.0           1.4          0.2     setosa\n",
       "2             4.7          3.2           1.3          0.2     setosa\n",
       "3             4.6          3.1           1.5          0.2     setosa\n",
       "4             5.0          3.6           1.4          0.2     setosa\n",
       "..            ...          ...           ...          ...        ...\n",
       "137           6.4          3.1           5.5          1.8  virginica\n",
       "138           6.0          3.0           4.8          1.8  virginica\n",
       "142           5.8          2.7           5.1          1.9  virginica\n",
       "146           6.3          2.5           5.0          1.9  virginica\n",
       "149           5.9          3.0           5.1          1.8  virginica\n",
       "\n",
       "[121 rows x 5 columns]"
      ]
     },
     "metadata": {},
     "output_type": "display_data"
    }
   ],
   "source": [
    "print(dfi[\"petal_width\"] < 2)\n",
    "display(dfi[ dfi[\"petal_width\"] < 2])"
   ]
  },
  {
   "cell_type": "markdown",
   "id": "9eaaf208",
   "metadata": {},
   "source": [
    "#### 1.2.c. Opérations\n",
    "\n",
    "<div class=\"rq\">On peut <b>trier</b> les données par ordre croissant ou décroissant</div>"
   ]
  },
  {
   "cell_type": "code",
   "execution_count": 9,
   "id": "019d7adc",
   "metadata": {
    "tags": []
   },
   "outputs": [
    {
     "data": {
      "text/html": [
       "<div>\n",
       "<style scoped>\n",
       "    .dataframe tbody tr th:only-of-type {\n",
       "        vertical-align: middle;\n",
       "    }\n",
       "\n",
       "    .dataframe tbody tr th {\n",
       "        vertical-align: top;\n",
       "    }\n",
       "\n",
       "    .dataframe thead th {\n",
       "        text-align: right;\n",
       "    }\n",
       "</style>\n",
       "<table border=\"1\" class=\"dataframe\">\n",
       "  <thead>\n",
       "    <tr style=\"text-align: right;\">\n",
       "      <th></th>\n",
       "      <th>sepal_length</th>\n",
       "      <th>sepal_width</th>\n",
       "      <th>petal_length</th>\n",
       "      <th>petal_width</th>\n",
       "      <th>species</th>\n",
       "    </tr>\n",
       "  </thead>\n",
       "  <tbody>\n",
       "    <tr>\n",
       "      <th>22</th>\n",
       "      <td>4.6</td>\n",
       "      <td>3.6</td>\n",
       "      <td>1.0</td>\n",
       "      <td>0.2</td>\n",
       "      <td>setosa</td>\n",
       "    </tr>\n",
       "    <tr>\n",
       "      <th>13</th>\n",
       "      <td>4.3</td>\n",
       "      <td>3.0</td>\n",
       "      <td>1.1</td>\n",
       "      <td>0.1</td>\n",
       "      <td>setosa</td>\n",
       "    </tr>\n",
       "    <tr>\n",
       "      <th>14</th>\n",
       "      <td>5.8</td>\n",
       "      <td>4.0</td>\n",
       "      <td>1.2</td>\n",
       "      <td>0.2</td>\n",
       "      <td>setosa</td>\n",
       "    </tr>\n",
       "    <tr>\n",
       "      <th>35</th>\n",
       "      <td>5.0</td>\n",
       "      <td>3.2</td>\n",
       "      <td>1.2</td>\n",
       "      <td>0.2</td>\n",
       "      <td>setosa</td>\n",
       "    </tr>\n",
       "    <tr>\n",
       "      <th>36</th>\n",
       "      <td>5.5</td>\n",
       "      <td>3.5</td>\n",
       "      <td>1.3</td>\n",
       "      <td>0.2</td>\n",
       "      <td>setosa</td>\n",
       "    </tr>\n",
       "    <tr>\n",
       "      <th>...</th>\n",
       "      <td>...</td>\n",
       "      <td>...</td>\n",
       "      <td>...</td>\n",
       "      <td>...</td>\n",
       "      <td>...</td>\n",
       "    </tr>\n",
       "    <tr>\n",
       "      <th>131</th>\n",
       "      <td>7.9</td>\n",
       "      <td>3.8</td>\n",
       "      <td>6.4</td>\n",
       "      <td>2.0</td>\n",
       "      <td>virginica</td>\n",
       "    </tr>\n",
       "    <tr>\n",
       "      <th>105</th>\n",
       "      <td>7.6</td>\n",
       "      <td>3.0</td>\n",
       "      <td>6.6</td>\n",
       "      <td>2.1</td>\n",
       "      <td>virginica</td>\n",
       "    </tr>\n",
       "    <tr>\n",
       "      <th>117</th>\n",
       "      <td>7.7</td>\n",
       "      <td>3.8</td>\n",
       "      <td>6.7</td>\n",
       "      <td>2.2</td>\n",
       "      <td>virginica</td>\n",
       "    </tr>\n",
       "    <tr>\n",
       "      <th>122</th>\n",
       "      <td>7.7</td>\n",
       "      <td>2.8</td>\n",
       "      <td>6.7</td>\n",
       "      <td>2.0</td>\n",
       "      <td>virginica</td>\n",
       "    </tr>\n",
       "    <tr>\n",
       "      <th>118</th>\n",
       "      <td>7.7</td>\n",
       "      <td>2.6</td>\n",
       "      <td>6.9</td>\n",
       "      <td>2.3</td>\n",
       "      <td>virginica</td>\n",
       "    </tr>\n",
       "  </tbody>\n",
       "</table>\n",
       "<p>150 rows × 5 columns</p>\n",
       "</div>"
      ],
      "text/plain": [
       "     sepal_length  sepal_width  petal_length  petal_width    species\n",
       "22            4.6          3.6           1.0          0.2     setosa\n",
       "13            4.3          3.0           1.1          0.1     setosa\n",
       "14            5.8          4.0           1.2          0.2     setosa\n",
       "35            5.0          3.2           1.2          0.2     setosa\n",
       "36            5.5          3.5           1.3          0.2     setosa\n",
       "..            ...          ...           ...          ...        ...\n",
       "131           7.9          3.8           6.4          2.0  virginica\n",
       "105           7.6          3.0           6.6          2.1  virginica\n",
       "117           7.7          3.8           6.7          2.2  virginica\n",
       "122           7.7          2.8           6.7          2.0  virginica\n",
       "118           7.7          2.6           6.9          2.3  virginica\n",
       "\n",
       "[150 rows x 5 columns]"
      ]
     },
     "execution_count": 9,
     "metadata": {},
     "output_type": "execute_result"
    }
   ],
   "source": [
    "dfi.sort_values(by=\"petal_length\", ascending = True)"
   ]
  },
  {
   "cell_type": "markdown",
   "id": "02aa8070",
   "metadata": {},
   "source": [
    "<div class=\"warn\">\n",
    "Notez que les index de lignes sont triés eux-aussi.<br>\n",
    "Ça peut sembler secondaire, mais c'est important car ça sert d'<b>identifiant de l'échantillon</b> \n",
    "</div>"
   ]
  },
  {
   "cell_type": "markdown",
   "id": "63715b07",
   "metadata": {},
   "source": [
    "<div class=\"rq\">On peut aussi appliquer une <b>opération arithmétique</b> aux variables sélectionnées</div>"
   ]
  },
  {
   "cell_type": "code",
   "execution_count": 10,
   "id": "a1934131",
   "metadata": {
    "tags": []
   },
   "outputs": [
    {
     "data": {
      "text/html": [
       "<div>\n",
       "<style scoped>\n",
       "    .dataframe tbody tr th:only-of-type {\n",
       "        vertical-align: middle;\n",
       "    }\n",
       "\n",
       "    .dataframe tbody tr th {\n",
       "        vertical-align: top;\n",
       "    }\n",
       "\n",
       "    .dataframe thead th {\n",
       "        text-align: right;\n",
       "    }\n",
       "</style>\n",
       "<table border=\"1\" class=\"dataframe\">\n",
       "  <thead>\n",
       "    <tr style=\"text-align: right;\">\n",
       "      <th></th>\n",
       "      <th>sepal_length</th>\n",
       "      <th>sepal_width</th>\n",
       "      <th>petal_length</th>\n",
       "      <th>petal_width</th>\n",
       "      <th>species</th>\n",
       "    </tr>\n",
       "  </thead>\n",
       "  <tbody>\n",
       "    <tr>\n",
       "      <th>0</th>\n",
       "      <td>15.3</td>\n",
       "      <td>10.5</td>\n",
       "      <td>4.2</td>\n",
       "      <td>0.6</td>\n",
       "      <td>setosasetosasetosa</td>\n",
       "    </tr>\n",
       "    <tr>\n",
       "      <th>1</th>\n",
       "      <td>14.7</td>\n",
       "      <td>9.0</td>\n",
       "      <td>4.2</td>\n",
       "      <td>0.6</td>\n",
       "      <td>setosasetosasetosa</td>\n",
       "    </tr>\n",
       "    <tr>\n",
       "      <th>2</th>\n",
       "      <td>14.1</td>\n",
       "      <td>9.6</td>\n",
       "      <td>3.9</td>\n",
       "      <td>0.6</td>\n",
       "      <td>setosasetosasetosa</td>\n",
       "    </tr>\n",
       "    <tr>\n",
       "      <th>3</th>\n",
       "      <td>13.8</td>\n",
       "      <td>9.3</td>\n",
       "      <td>4.5</td>\n",
       "      <td>0.6</td>\n",
       "      <td>setosasetosasetosa</td>\n",
       "    </tr>\n",
       "    <tr>\n",
       "      <th>4</th>\n",
       "      <td>15.0</td>\n",
       "      <td>10.8</td>\n",
       "      <td>4.2</td>\n",
       "      <td>0.6</td>\n",
       "      <td>setosasetosasetosa</td>\n",
       "    </tr>\n",
       "    <tr>\n",
       "      <th>...</th>\n",
       "      <td>...</td>\n",
       "      <td>...</td>\n",
       "      <td>...</td>\n",
       "      <td>...</td>\n",
       "      <td>...</td>\n",
       "    </tr>\n",
       "    <tr>\n",
       "      <th>145</th>\n",
       "      <td>20.1</td>\n",
       "      <td>9.0</td>\n",
       "      <td>15.6</td>\n",
       "      <td>6.9</td>\n",
       "      <td>virginicavirginicavirginica</td>\n",
       "    </tr>\n",
       "    <tr>\n",
       "      <th>146</th>\n",
       "      <td>18.9</td>\n",
       "      <td>7.5</td>\n",
       "      <td>15.0</td>\n",
       "      <td>5.7</td>\n",
       "      <td>virginicavirginicavirginica</td>\n",
       "    </tr>\n",
       "    <tr>\n",
       "      <th>147</th>\n",
       "      <td>19.5</td>\n",
       "      <td>9.0</td>\n",
       "      <td>15.6</td>\n",
       "      <td>6.0</td>\n",
       "      <td>virginicavirginicavirginica</td>\n",
       "    </tr>\n",
       "    <tr>\n",
       "      <th>148</th>\n",
       "      <td>18.6</td>\n",
       "      <td>10.2</td>\n",
       "      <td>16.2</td>\n",
       "      <td>6.9</td>\n",
       "      <td>virginicavirginicavirginica</td>\n",
       "    </tr>\n",
       "    <tr>\n",
       "      <th>149</th>\n",
       "      <td>17.7</td>\n",
       "      <td>9.0</td>\n",
       "      <td>15.3</td>\n",
       "      <td>5.4</td>\n",
       "      <td>virginicavirginicavirginica</td>\n",
       "    </tr>\n",
       "  </tbody>\n",
       "</table>\n",
       "<p>150 rows × 5 columns</p>\n",
       "</div>"
      ],
      "text/plain": [
       "     sepal_length  sepal_width  petal_length  petal_width  \\\n",
       "0            15.3         10.5           4.2          0.6   \n",
       "1            14.7          9.0           4.2          0.6   \n",
       "2            14.1          9.6           3.9          0.6   \n",
       "3            13.8          9.3           4.5          0.6   \n",
       "4            15.0         10.8           4.2          0.6   \n",
       "..            ...          ...           ...          ...   \n",
       "145          20.1          9.0          15.6          6.9   \n",
       "146          18.9          7.5          15.0          5.7   \n",
       "147          19.5          9.0          15.6          6.0   \n",
       "148          18.6         10.2          16.2          6.9   \n",
       "149          17.7          9.0          15.3          5.4   \n",
       "\n",
       "                         species  \n",
       "0             setosasetosasetosa  \n",
       "1             setosasetosasetosa  \n",
       "2             setosasetosasetosa  \n",
       "3             setosasetosasetosa  \n",
       "4             setosasetosasetosa  \n",
       "..                           ...  \n",
       "145  virginicavirginicavirginica  \n",
       "146  virginicavirginicavirginica  \n",
       "147  virginicavirginicavirginica  \n",
       "148  virginicavirginicavirginica  \n",
       "149  virginicavirginicavirginica  \n",
       "\n",
       "[150 rows x 5 columns]"
      ]
     },
     "execution_count": 10,
     "metadata": {},
     "output_type": "execute_result"
    }
   ],
   "source": [
    "dfi*3"
   ]
  },
  {
   "cell_type": "markdown",
   "id": "f10c64c2",
   "metadata": {},
   "source": [
    "<div class=\"warn\">\n",
    "    Regardez la colonne <b>species</b>...<br>\n",
    "    On ne veut appliquer cette opération qu'aux colonnes 0 à 4 <br>\n",
    "    On va pour ça :\n",
    "    <li> copier dfi dans un nouveau dataframe (à l'aide de la méthode <code>.copy()</code>)\n",
    "    <li> faire une boucle en utilisant l'attribut <code>columns</code>\n",
    "    <li> copier \n",
    "</div>"
   ]
  },
  {
   "cell_type": "code",
   "execution_count": null,
   "id": "ea39e983",
   "metadata": {
    "tags": []
   },
   "outputs": [],
   "source": [
    "#on regarde d'abord ce que fait l'attribut columns()\n",
    "dfi.columns"
   ]
  },
  {
   "cell_type": "code",
   "execution_count": null,
   "id": "dd49abc5",
   "metadata": {
    "tags": []
   },
   "outputs": [],
   "source": [
    "# copie de dfi en tant que nouveau dataframe dfi3\n",
    "# si on avait fait df3=dfi, les deux pointeraient vers le même tableau!\n",
    "# toute opération sur l'un se répercuterait sur l'autre\n",
    "dfi3=dfi.copy()\n",
    "\n",
    "# maintenant on boucle\n",
    "for col in dfi3.columns[0:4]:\n",
    "    dfi3[col]=dfi[col]*3\n",
    "    \n",
    "display(dfi3)"
   ]
  },
  {
   "cell_type": "markdown",
   "id": "e14d79e8",
   "metadata": {},
   "source": [
    "### 1.3. Analyse graphique des données\n",
    "#### 1.3.a. Fonction `describe` (librairie pandas)\n",
    "On va en premier lieu faire une analyse statistique de chacune des colonnes.\n",
    "\n",
    "Dans la syntaxe ci-dessous, on exploite la possibilité d'appliquer une fonction à une variable (c'est ce qu'on appelle la programmation orienté objet). C'est toujours sur le modèle `nomVariable.fonction()`. La commande `dfi.describe(options)` consiste à appliquer la fonctionnalité de calcule des données statistiques descriptives de chaque colonne qui contient des données numériques - telles que le nombre de données, la moyenne, l’écart type, la valeur minimale et maximale, ainsi que les [quartiles](https://fr.wikipedia.org/wiki/Quartile)."
   ]
  },
  {
   "cell_type": "code",
   "execution_count": 11,
   "id": "770d31f2",
   "metadata": {
    "tags": []
   },
   "outputs": [
    {
     "data": {
      "text/html": [
       "<div>\n",
       "<style scoped>\n",
       "    .dataframe tbody tr th:only-of-type {\n",
       "        vertical-align: middle;\n",
       "    }\n",
       "\n",
       "    .dataframe tbody tr th {\n",
       "        vertical-align: top;\n",
       "    }\n",
       "\n",
       "    .dataframe thead th {\n",
       "        text-align: right;\n",
       "    }\n",
       "</style>\n",
       "<table border=\"1\" class=\"dataframe\">\n",
       "  <thead>\n",
       "    <tr style=\"text-align: right;\">\n",
       "      <th></th>\n",
       "      <th>sepal_length</th>\n",
       "      <th>sepal_width</th>\n",
       "      <th>petal_length</th>\n",
       "      <th>petal_width</th>\n",
       "    </tr>\n",
       "  </thead>\n",
       "  <tbody>\n",
       "    <tr>\n",
       "      <th>count</th>\n",
       "      <td>150.000000</td>\n",
       "      <td>150.000000</td>\n",
       "      <td>150.000000</td>\n",
       "      <td>150.000000</td>\n",
       "    </tr>\n",
       "    <tr>\n",
       "      <th>mean</th>\n",
       "      <td>5.843333</td>\n",
       "      <td>3.054000</td>\n",
       "      <td>3.758667</td>\n",
       "      <td>1.198667</td>\n",
       "    </tr>\n",
       "    <tr>\n",
       "      <th>std</th>\n",
       "      <td>0.828066</td>\n",
       "      <td>0.433594</td>\n",
       "      <td>1.764420</td>\n",
       "      <td>0.763161</td>\n",
       "    </tr>\n",
       "    <tr>\n",
       "      <th>min</th>\n",
       "      <td>4.300000</td>\n",
       "      <td>2.000000</td>\n",
       "      <td>1.000000</td>\n",
       "      <td>0.100000</td>\n",
       "    </tr>\n",
       "    <tr>\n",
       "      <th>25%</th>\n",
       "      <td>5.100000</td>\n",
       "      <td>2.800000</td>\n",
       "      <td>1.600000</td>\n",
       "      <td>0.300000</td>\n",
       "    </tr>\n",
       "    <tr>\n",
       "      <th>50%</th>\n",
       "      <td>5.800000</td>\n",
       "      <td>3.000000</td>\n",
       "      <td>4.350000</td>\n",
       "      <td>1.300000</td>\n",
       "    </tr>\n",
       "    <tr>\n",
       "      <th>75%</th>\n",
       "      <td>6.400000</td>\n",
       "      <td>3.300000</td>\n",
       "      <td>5.100000</td>\n",
       "      <td>1.800000</td>\n",
       "    </tr>\n",
       "    <tr>\n",
       "      <th>max</th>\n",
       "      <td>7.900000</td>\n",
       "      <td>4.400000</td>\n",
       "      <td>6.900000</td>\n",
       "      <td>2.500000</td>\n",
       "    </tr>\n",
       "  </tbody>\n",
       "</table>\n",
       "</div>"
      ],
      "text/plain": [
       "       sepal_length  sepal_width  petal_length  petal_width\n",
       "count    150.000000   150.000000    150.000000   150.000000\n",
       "mean       5.843333     3.054000      3.758667     1.198667\n",
       "std        0.828066     0.433594      1.764420     0.763161\n",
       "min        4.300000     2.000000      1.000000     0.100000\n",
       "25%        5.100000     2.800000      1.600000     0.300000\n",
       "50%        5.800000     3.000000      4.350000     1.300000\n",
       "75%        6.400000     3.300000      5.100000     1.800000\n",
       "max        7.900000     4.400000      6.900000     2.500000"
      ]
     },
     "metadata": {},
     "output_type": "display_data"
    }
   ],
   "source": [
    "display(dfi.describe())"
   ]
  },
  {
   "cell_type": "markdown",
   "id": "35435d24",
   "metadata": {},
   "source": [
    "<div class=\"rq\">\n",
    "Les sépales sont en moyenne plus longs et plus larges que les pétales, ce qui est cohérent avec la <a href=\"#img_iris\">figure de l'introduction</a>.\n",
    "</div>"
   ]
  },
  {
   "cell_type": "markdown",
   "id": "90666eec",
   "metadata": {},
   "source": [
    "#### 1.3.b. Fonction `hist` (librairie pandas)\n",
    "On va maintenant utiliser la fonction [`hist`](https://pandas.pydata.org/pandas-docs/stable/reference/api/pandas.DataFrame.hist.html) de `pandas`.  \n",
    "Elle permet de rapidement voir pour chaque propriété :\n",
    "- sur quelle gamme de valeurs elle s'étend\n",
    "- et quelle est la distribution des valeurs\n"
   ]
  },
  {
   "cell_type": "code",
   "execution_count": 12,
   "id": "103591ee",
   "metadata": {
    "tags": []
   },
   "outputs": [
    {
     "data": {
      "text/plain": [
       "array([[<AxesSubplot:title={'center':'sepal_length'}>,\n",
       "        <AxesSubplot:title={'center':'sepal_width'}>],\n",
       "       [<AxesSubplot:title={'center':'petal_length'}>,\n",
       "        <AxesSubplot:title={'center':'petal_width'}>]], dtype=object)"
      ]
     },
     "execution_count": 12,
     "metadata": {},
     "output_type": "execute_result"
    },
    {
     "data": {
      "image/png": "[encoded data removed]",
      "text/plain": [
       "<Figure size 864x864 with 4 Axes>"
      ]
     },
     "metadata": {
      "needs_background": "light"
     },
     "output_type": "display_data"
    }
   ],
   "source": [
    "dfi.hist(figsize=(12,12),xlabelsize=12,ylabelsize=12)"
   ]
  },
  {
   "cell_type": "markdown",
   "id": "bd6a9b91",
   "metadata": {},
   "source": [
    "#### 1.3.c. Fonction `jointplot` (librairie seaborn)\n",
    "**Seaborn** est une bibliothèque permettant de créer des graphiques statistiques en Python. Elle est basée sur matplotlib, et s’intègre très bien avec pandas.\n",
    "La fonction `jointplot` permet de tracer la distribution jointe de deux caractéristiques. On va par exemple regarder s'il y a une corrélation entre la longueur d'un pétale et sa largeur, ainsi qu'entre la largeur et la longueur d'un sépale. \n",
    "\n",
    "<div class=\"warn\">\n",
    "Encore une fois, on n'hésitera pas à utiliser une <b>\"Cheat Sheet\"</b> pour faire des copier/coller des principales commandes. Il en existe plusieurs pour seaborn, dont  la <a href=\"http://datacamp-community-prod.s3.amazonaws.com/263130e2-2c92-4348-a356-9ed9b5034247\">Cheat Sheet  de DataCamp, télécheargeable</a>.\n",
    "</div>"
   ]
  },
  {
   "cell_type": "code",
   "execution_count": 13,
   "id": "e7de8f9b",
   "metadata": {
    "tags": []
   },
   "outputs": [
    {
     "data": {
      "text/plain": [
       "<seaborn.axisgrid.JointGrid at 0x7f78e16da280>"
      ]
     },
     "execution_count": 13,
     "metadata": {},
     "output_type": "execute_result"
    },
    {
     "data": {
      "image/png": "[encoded data removed]",
      "text/plain": [
       "<Figure size 432x432 with 3 Axes>"
      ]
     },
     "metadata": {
      "needs_background": "light"
     },
     "output_type": "display_data"
    },
    {
     "data": {
      "image/png": "[encoded data removed]",
      "text/plain": [
       "<Figure size 432x432 with 3 Axes>"
      ]
     },
     "metadata": {
      "needs_background": "light"
     },
     "output_type": "display_data"
    }
   ],
   "source": [
    "sb.jointplot(x = \"petal_width\", y = \"petal_length\", data = dfi)\n",
    "sb.jointplot(x = \"sepal_width\", y = \"sepal_length\", data = dfi)"
   ]
  },
  {
   "cell_type": "markdown",
   "id": "7153ab79",
   "metadata": {},
   "source": [
    "<div class=\"warn\">On va faire la même chose que précédemment, mais avec l'option <code>hue</code> (<i>teinte</i>) afin d'attribuer une couleur aux points en fonction de l'espèce d'Iris (variable 'species')</div>"
   ]
  },
  {
   "cell_type": "code",
   "execution_count": 14,
   "id": "3b7139e6",
   "metadata": {
    "tags": []
   },
   "outputs": [
    {
     "data": {
      "text/plain": [
       "<seaborn.axisgrid.JointGrid at 0x7f78b37e8550>"
      ]
     },
     "execution_count": 14,
     "metadata": {},
     "output_type": "execute_result"
    },
    {
     "data": {
      "image/png": "[encoded data removed]",
      "text/plain": [
       "<Figure size 432x432 with 3 Axes>"
      ]
     },
     "metadata": {
      "needs_background": "light"
     },
     "output_type": "display_data"
    },
    {
     "data": {
      "image/png": "[encoded data removed]",
      "text/plain": [
       "<Figure size 432x432 with 3 Axes>"
      ]
     },
     "metadata": {
      "needs_background": "light"
     },
     "output_type": "display_data"
    }
   ],
   "source": [
    "import seaborn as sb\n",
    "sb.jointplot(x = \"petal_width\", y = \"petal_length\", data = dfi, hue=\"species\")\n",
    "sb.jointplot(x = \"sepal_width\", y = \"sepal_length\", data = dfi, hue=\"species\")"
   ]
  },
  {
   "cell_type": "markdown",
   "id": "b0d82e86",
   "metadata": {},
   "source": [
    "<div class=\"warn\">\n",
    "<li> le <b>résultat marquant</b> est que non seulement il y a corrélation entre longueur et largeur des pétales, mais il y a aussi une claire <b>séparation des espèces</b> qui semblent <span style=\"color:red\"><b>classifiables</b></span> en fonction de la longueur et largeur de leurs pétales (<i>setosa</i> : pétales courts, <i>versicolor</i> : pétales moyens, <i>virginica</i> : pétales longs)<br>\n",
    "<li> en revanche, les epèces d'Iris <i>versicolor</i> et <i>virginica</i> ont des sépales de longueur et largeur similaires (\"mélange\" des points verts et orange). Ces 2 propriétés ne sont pas des bons descripteurs permettant de classifier ces variétés d'iris\n",
    "</div>\n",
    "<br>\n",
    "<div class=\"warn\">\n",
    "    Cette notion de <b><span style=\"color:red\">classification</span></b> est importante dans la perspective d'utiliser des algorithmes d'intelligence artificielle de type <b>apprentissage automatique (machine learning)</b>.\n",
    "</div>\n",
    "<br>\n",
    "<div class=\"rq\">\n",
    "    Les espèces <i>setosa</i> étant les plus petites, il est immédiat de les identifier et de les sélectionner grâce aux tests conditionnels :\n",
    "</div>"
   ]
  },
  {
   "cell_type": "code",
   "execution_count": null,
   "id": "881bcc1a-270d-492a-8c50-381a3f741bb3",
   "metadata": {},
   "outputs": [],
   "source": [
    "display(dfi[ (dfi[\"petal_width\"] < 1) & (dfi[\"petal_length\"] < 2)])"
   ]
  },
  {
   "cell_type": "markdown",
   "id": "b0be4393",
   "metadata": {},
   "source": [
    "#### 1.3.c. Fonction `pairplot` (librairie seaborn)\n",
    "La fonction `pairplot` permet de simultanément visualiser les corrélations potentielles entre toutes les variables. On retrouve sur la diagonale les histogrammes de distribution de chacune des variables.\n",
    "<div class=warn>\n",
    "<b>Patience !</b> Ce tracé prend un peu de temps\n",
    "<br>Tant qu'on voit <code>In [*]</code> à gauche de la cellule qu'on est en train d'exécuter, c'est-à-dire avec une * au lieu d'un numéro de sortie, c'est que python est occupé à interpréter la série de commandes de la cellule\n",
    "</div>"
   ]
  },
  {
   "cell_type": "code",
   "execution_count": null,
   "id": "b2b7077c",
   "metadata": {
    "tags": []
   },
   "outputs": [],
   "source": [
    "sb.pairplot(dfi,hue='species')"
   ]
  },
  {
   "cell_type": "markdown",
   "id": "568f31d0",
   "metadata": {},
   "source": [
    "#### 1.2.d. Fonctions `corr` (librairie pandas) `heatmap` (librairie seaborn)\n",
    "On vient de voir que certaines variables semblent corrélées entre elles, en particulier la longueur et la largeur des pétales. Les **cartes thermiques** (**heatmaps**) font partie de la panoplie du data scientist. Elles permettent de rapidement identifier si des variables sont corrélées entre elles. Il faut pour cela avoir au préalable calculé la matrice de corrélation à l'aide de la fonction  [`corr()`](https://pandas.pydata.org/docs/reference/api/pandas.DataFrame.corr.html)\n",
    "\n",
    "<div class=\"rq\">\n",
    "<b> fonction corr() </b>\n",
    "  <li> La valeur de la corrélation va de -1 à +1\n",
    "  <li> corrélation nulle : deux variables sont indépendantes l’une de l’autre\n",
    "  <li> corrélation positive : les variables évoluent dans le même sens\n",
    "  <li> corrélation négative : les variables évoluent en sens contraire\n",
    "</div>"
   ]
  },
  {
   "cell_type": "code",
   "execution_count": null,
   "id": "101ef8fa",
   "metadata": {
    "tags": []
   },
   "outputs": [],
   "source": [
    "display(dfi.corr())"
   ]
  },
  {
   "cell_type": "markdown",
   "id": "c0993d55",
   "metadata": {},
   "source": [
    "On va maintenant visualiser cette carte sous forme graphique, en y reportant ces nombres"
   ]
  },
  {
   "cell_type": "code",
   "execution_count": null,
   "id": "b0a6404a",
   "metadata": {
    "tags": []
   },
   "outputs": [],
   "source": [
    "plt.figure(figsize = (10,8))\n",
    "sb.set(font_scale=1.2)\n",
    "sb.heatmap(dfi.corr(), vmin = -1, vmax = +1, annot = True, cmap='coolwarm')"
   ]
  },
  {
   "cell_type": "markdown",
   "id": "42d1b117",
   "metadata": {},
   "source": [
    "<div class=\"warn\">\n",
    "    <li> il n'y a que des 1 sur la diagonale > <b> normal !</b><i> une variable est forcément corrélée avec elle-même</i>\n",
    "<li> il n'y a <i>pas de corrélation significative</i> entre longueur et largeur des sépales (cases bleu clair) \n",
    "<li> il y a <i>proportionalité</i> entre longueur de sépales et longueur et largeur des pétales (cases rouge vif)\n",
    "<li> la largeur des sépales est plutôt <i>inversement proportionnelle</i> à la largeur et à la longueur des pétales (cases bleues)\n",
    "</div>"
   ]
  },
  {
   "cell_type": "markdown",
   "id": "912f0b73",
   "metadata": {},
   "source": [
    "### Bilan de la première partie"
   ]
  },
  {
   "cell_type": "markdown",
   "id": "c8e3e559",
   "metadata": {},
   "source": [
    "### Évaluation formative après la vidéo"
   ]
  },
  {
   "cell_type": "code",
   "execution_count": null,
   "id": "3ca7d360-e743-46c6-be4c-04d1b90b1346",
   "metadata": {},
   "outputs": [],
   "source": [
    "vID.end()"
   ]
  }
 ],
 "metadata": {
  "kernelspec": {
   "display_name": "Python 3 (ipykernel)",
   "language": "python",
   "name": "python3"
  },
  "language_info": {
   "codemirror_mode": {
    "name": "ipython",
    "version": 3
   },
   "file_extension": ".py",
   "mimetype": "text/x-python",
   "name": "python",
   "nbconvert_exporter": "python",
   "pygments_lexer": "ipython3",
   "version": "3.9.12"
  },
  "toc-autonumbering": false,
  "toc-showmarkdowntxt": false
 },
 "nbformat": 4,
 "nbformat_minor": 5
}
