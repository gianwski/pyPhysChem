{
 "cells": [
  {
   "cell_type": "code",
   "execution_count": 8,
   "id": "269396e1-4699-46d7-b7bc-8ef342174c94",
   "metadata": {},
   "outputs": [
    {
     "name": "stdout",
     "output_type": "stream",
     "text": [
      "/home/romuald/ENSEIGNEMENT/0-JupyterNotebooks/PytChem\n"
     ]
    },
    {
     "data": {
      "text/html": [
       "<style>\n",
       "h1, h2, h3, h4, h5, h6 {\n",
       "  font-family: Verdana, \"DejaVu Sans\", \"Bitstream Vera Sans\", Geneva, sans-serif;\n",
       "  font-weight: bold;\n",
       "}\n",
       "body {\n",
       "  font-family: Verdana, \"DejaVu Sans\", \"Bitstream Vera Sans\", Geneva, sans-serif;\n",
       "  font-weight: 200;\n",
       "}\n",
       "h1 {\n",
       "  border: 0 solid #333;\n",
       "  padding: 30px ;\n",
       "  color: white;\n",
       "  background: #b11d01;\n",
       "  text-align: center;\n",
       "}\n",
       "h2 {\n",
       "  border: 3px solid #333;\n",
       "  padding: 18px ;\n",
       "  color: #b11d01;\n",
       "  background: #ffffff;\n",
       "  text-align: center;\n",
       "}\n",
       "h3 {\n",
       "  border: 0 solid #333;\n",
       "  padding: 12px ;\n",
       "  color: #000000;\n",
       "  background: #c1c1c1;\n",
       "  text-align: left;\n",
       "}\n",
       "h4 {\n",
       "  border: 0 solid #333;\n",
       "  padding: 2px ;\n",
       "  color: #000000;\n",
       "  background: #d9fffc;\n",
       "  text-align: left;\n",
       "}\n",
       "h5 {\n",
       "  border: 1px solid #333;\n",
       "  padding: 2px ;\n",
       "  color: #000000;\n",
       "  background: #ffffff;\n",
       "  text-align: left;\n",
       "}\n",
       ".warn {    \n",
       "    background-color: #fcf2f2;\n",
       "    border-color: #dFb5b4;\n",
       "    border-left: 5px solid #dfb5b4;\n",
       "    padding: 0.5em;\n",
       "    font-weight: 200;\n",
       "    }\n",
       ".rq {    \n",
       "    background-color: #e2e2e2;\n",
       "    border-color: #969696;\n",
       "    border-left: 5px solid #969696;\n",
       "    padding: 0.5em;\n",
       "    font-weight: 200;\n",
       "    }\n",
       "</style>\n"
      ],
      "text/plain": [
       "<IPython.core.display.HTML object>"
      ]
     },
     "metadata": {},
     "output_type": "display_data"
    },
    {
     "data": {
      "text/markdown": [
       "**Start at:** Saturday 05 November 2022, 01:11:17  \n",
       "**Hostname:** localhost.localdomain (Linux)"
      ],
      "text/plain": [
       "<IPython.core.display.Markdown object>"
      ]
     },
     "metadata": {},
     "output_type": "display_data"
    },
    {
     "data": {
      "text/markdown": [
       "<p style=\"text-align: center\"><img width=\"800px\" src=\"./config/svg/logoPytChem.svg\" style=\"margin-left:auto; margin-right:auto\"/></p>"
      ],
      "text/plain": [
       "<IPython.core.display.Markdown object>"
      ]
     },
     "metadata": {},
     "output_type": "display_data"
    }
   ],
   "source": [
    "import os\n",
    "import sys\n",
    "\n",
    "print(os.getcwd())\n",
    "cwd0 = './config/'\n",
    "sys.path.append(cwd0)\n",
    "\n",
    "import visualID_Eng as vID\n",
    "from visualID_Eng import color\n",
    "vID.init(cwd0)\n",
    "import tools4PytChem as t4p"
   ]
  },
  {
   "cell_type": "markdown",
   "id": "a1b3496a-7f24-4bef-ae7c-617f267ab7ad",
   "metadata": {
    "tags": []
   },
   "source": [
    "# Hydrogen Atom"
   ]
  },
  {
   "cell_type": "markdown",
   "id": "13d364e6-db39-45b8-8568-2a3b8d854e82",
   "metadata": {},
   "source": [
    "## Prerequisite : physical constants and conversion factors\n",
    "\n",
    "### Physical constants"
   ]
  },
  {
   "cell_type": "code",
   "execution_count": 9,
   "id": "1dd1dcc0-f539-4d52-8367-36f8a5f0e0f9",
   "metadata": {},
   "outputs": [
    {
     "name": "stdout",
     "output_type": "stream",
     "text": [
      "['Rydberg constant', 'Rydberg constant times c in Hz', 'Rydberg constant times hc in J', 'Rydberg constant times hc in eV']\n",
      "\u001b[1mRydberg constant Rinf: (10973731.56816, 'm^-1', 2.1e-05)\u001b[0m\n",
      "['Planck constant', 'Planck constant in eV/Hz', 'Planck length', 'Planck mass', 'Planck mass energy equivalent in GeV', 'Planck temperature', 'Planck time', 'molar Planck constant', 'reduced Planck constant', 'reduced Planck constant in eV s', 'reduced Planck constant times c in MeV fm']\n",
      "\u001b[1mPlanck constant: (6.62607015e-34, 'J Hz^-1', 0.0)\u001b[0m\n",
      "\u001b[1mReduced Planck constant: (1.054571817e-34, 'J s', 0.0)\u001b[0m\n",
      "['atomic unit of charge', 'atomic unit of charge density', 'deuteron rms charge radius', 'electron charge to mass quotient', 'elementary charge', 'elementary charge over h-bar', 'proton charge to mass quotient', 'proton rms charge radius']\n",
      "\u001b[1mElementary charge: (1.602176634e-19, 'C', 0.0)\u001b[0m\n",
      "['speed of light in vacuum']\n",
      "\u001b[1mspeed of light in vacuum: (299792458.0, 'm s^-1', 0.0)\u001b[0m\n",
      "['alpha particle-electron mass ratio', 'deuteron-electron mass ratio', 'electron mass', 'electron mass energy equivalent', 'electron mass energy equivalent in MeV', 'electron mass in u', 'helion-electron mass ratio', 'muon-electron mass ratio', 'neutron-electron mass ratio', 'proton-electron mass ratio', 'tau-electron mass ratio', 'triton-electron mass ratio']\n",
      "\u001b[1mElectron mass: (9.1093837015e-31, 'kg', 2.8e-40)\u001b[0m\n",
      "['alpha particle-proton mass ratio', 'deuteron-proton mass ratio', 'electron-proton mass ratio', 'helion-proton mass ratio', 'muon-proton mass ratio', 'neutron-proton mass difference', 'neutron-proton mass difference energy equivalent', 'neutron-proton mass difference energy equivalent in MeV', 'neutron-proton mass difference in u', 'neutron-proton mass ratio', 'proton mass', 'proton mass energy equivalent', 'proton mass energy equivalent in MeV', 'proton mass in u', 'tau-proton mass ratio', 'triton-proton mass ratio']\n",
      "\u001b[1mProton mass: (1.67262192369e-27, 'kg', 5.1e-37)\u001b[0m\n",
      "['speed of light in vacuum', 'vacuum electric permittivity', 'vacuum mag. permeability']\n",
      "\u001b[1mVacuum electric permittivity: (8.8541878128e-12, 'F m^-1', 1.3e-21)\u001b[0m\n",
      "\u001b[1mHydrogen atom reduced mass: 9.104425276523571e-31 kg\u001b[0m\n"
     ]
    }
   ],
   "source": [
    "import scipy.constants as sc\n",
    "print(sc.find(\"Rydberg\"))\n",
    "print(f'{color.BOLD}Rydberg constant Rinf: {sc.physical_constants[\"Rydberg constant\"]}{color.OFF}')\n",
    "print(sc.find(\"Planck\"))\n",
    "print(f'{color.BOLD}Planck constant: {sc.physical_constants[\"Planck constant\"]}{color.OFF}')\n",
    "print(f'{color.BOLD}Reduced Planck constant: {sc.physical_constants[\"reduced Planck constant\"]}{color.OFF}')\n",
    "print(sc.find(\"charge\"))\n",
    "print(f'{color.BOLD}Elementary charge: {sc.physical_constants[\"elementary charge\"]}{color.OFF}')\n",
    "print(sc.find(\"light\"))\n",
    "print(f'{color.BOLD}speed of light in vacuum: {sc.physical_constants[\"speed of light in vacuum\"]}{color.OFF}')\n",
    "print(sc.find(\"electron mass\"))\n",
    "print(f'{color.BOLD}Electron mass: {sc.physical_constants[\"electron mass\"]}{color.OFF}')\n",
    "print(sc.find(\"proton mass\"))\n",
    "print(f'{color.BOLD}Proton mass: {sc.physical_constants[\"proton mass\"]}{color.OFF}')\n",
    "print(sc.find(\"vacuum\"))\n",
    "print(f'{color.BOLD}Vacuum electric permittivity: {sc.physical_constants[\"vacuum electric permittivity\"]}{color.OFF}')\n",
    "\n",
    "Rinf = sc.value(\"Rydberg constant\")\n",
    "h = sc.value(\"Planck constant\")\n",
    "hbar = sc.value(\"reduced Planck constant\")\n",
    "e = sc.value(\"elementary charge\")\n",
    "c = sc.value(\"speed of light in vacuum\")\n",
    "me = sc.value(\"electron mass\")\n",
    "mp = sc.value(\"proton mass\")\n",
    "eps0 = sc.value(\"vacuum electric permittivity\")\n",
    "pi = sym.pi\n",
    "\n",
    "muH = (me*mp)/(me+mp)\n",
    "print(f'{color.BOLD}Hydrogen atom reduced mass: {muH} kg{color.OFF}')"
   ]
  },
  {
   "cell_type": "markdown",
   "id": "5afb3666-cf79-4d16-96b8-3bbd933a666f",
   "metadata": {},
   "source": [
    "### Conversion factors"
   ]
  },
  {
   "cell_type": "code",
   "execution_count": 10,
   "id": "987d5146-dcff-4c9b-a26b-a7153dec569f",
   "metadata": {},
   "outputs": [
    {
     "name": "stdout",
     "output_type": "stream",
     "text": [
      "\u001b[94m\u001b[1mHartree to eV conversion factor: 1h = 27.211 eV\u001b[0m\n"
     ]
    }
   ],
   "source": [
    "h2eV = 2*Rinf*h*c/e\n",
    "print(f\"{color.BLUE}{color.BOLD}Hartree to eV conversion factor: 1h = {h2eV:.3f} eV{color.OFF}\")"
   ]
  },
  {
   "cell_type": "markdown",
   "id": "fc8853bc-1417-4ebb-a401-0e862599d0aa",
   "metadata": {},
   "source": [
    "## **1.** Energies and transitions"
   ]
  },
  {
   "cell_type": "markdown",
   "id": "b3bbb523-0795-4129-bdaa-0363fbc4806b",
   "metadata": {},
   "source": [
    "### Ionisation energy\n",
    "\n",
    "$$E_{i}=\\frac{Z^{2}}{2}\\frac{\\mu_{\\mathrm{H}}e^{4}}{\\left(\\hbar\\times4\\pi\\varepsilon_{0}\\right)^{2}}$$"
   ]
  },
  {
   "cell_type": "code",
   "execution_count": 11,
   "id": "10ac8e79-4b96-474b-b75c-bfd6ea943736",
   "metadata": {},
   "outputs": [
    {
     "name": "stdout",
     "output_type": "stream",
     "text": [
      "\u001b[94m\u001b[1mÉnergie d'ionisation de H : 13.598 eV\u001b[0m\n"
     ]
    }
   ],
   "source": [
    "Z=1\n",
    "Ei = 0.5*Z**2*muH*e**4/((4*pi*eps0)**2*hbar**2)\n",
    "Ei_eV = Ei/e\n",
    "print(f\"{color.BLUE}{color.BOLD}Énergie d'ionisation de H : {Ei_eV:.3f} eV{color.OFF}\")"
   ]
  },
  {
   "cell_type": "code",
   "execution_count": 12,
   "id": "fd3aed75-744f-4f78-b67e-b60aaec4d97a",
   "metadata": {},
   "outputs": [
    {
     "name": "stdout",
     "output_type": "stream",
     "text": [
      "E(1) = -13.598 eV\n",
      "E(2) = -3.400 eV\n",
      "E(3) = -1.511 eV\n",
      "E(4) = -0.850 eV\n",
      "E(5) = -0.544 eV\n",
      "E(6) = -0.378 eV\n",
      "E(7) = -0.278 eV\n",
      "E(8) = -0.212 eV\n",
      "E(9) = -0.168 eV\n",
      "E(10) = -0.136 eV\n"
     ]
    }
   ],
   "source": [
    "import sympy as sym\n",
    "from tools4PytChem import PrintLatexStyleSymPyEquation as ple\n",
    "\n",
    "Z=1\n",
    "for n in range(1,11):\n",
    "    print(f\"E({n}) = {-Ei_eV*Z**2/n**2:.3f} eV\")"
   ]
  },
  {
   "cell_type": "markdown",
   "id": "2a3f93ba-76aa-4ff3-933a-d89b48590d41",
   "metadata": {},
   "source": [
    "## **2.** Wavefunctions\n",
    "\n",
    "### **2.1.** Mathematical functions"
   ]
  },
  {
   "cell_type": "markdown",
   "id": "938f0911-a6bb-4a74-bc75-ea7fd7ce6fc0",
   "metadata": {},
   "source": [
    "#### **2.1.1.** 1st Shell: 1s AO = $\\psi_{100}$"
   ]
  },
  {
   "cell_type": "code",
   "execution_count": 35,
   "id": "d3acd25a-a8aa-44b7-ba73-c08056b9caec",
   "metadata": {},
   "outputs": [
    {
     "name": "stdout",
     "output_type": "stream",
     "text": [
      "ψ100 : exp(-r)/sqrt(pi)\n",
      "R10 : 2*exp(-r)\n",
      "Y00 : Ynm(0, 0, theta, phi)\n",
      "Y00 : 1/(2*sqrt(pi))\n",
      "Y00 : 1/(2*sqrt(pi))\n",
      "R10 x Y00 : exp(-r)/sqrt(pi)\n"
     ]
    },
    {
     "data": {
      "text/latex": [
       "$\\displaystyle \\frac{e^{- r}}{\\sqrt{\\pi}}$"
      ],
      "text/plain": [
       "<IPython.core.display.Math object>"
      ]
     },
     "metadata": {},
     "output_type": "display_data"
    },
    {
     "name": "stdout",
     "output_type": "stream",
     "text": [
      "Norme de R10 : 1\n",
      "Norme de Y00 : 1\n"
     ]
    }
   ],
   "source": [
    "from sympy.physics.hydrogen import Psi_nlm\n",
    "r=sym.Symbol(\"r\", positive=True)\n",
    "phi=sym.Symbol(\"phi\", real=True)\n",
    "theta=sym.Symbol(\"theta\", real=True)\n",
    "print(f\"ψ100 : {Psi_nlm(1,0,0,r,phi,theta,1)}\")\n",
    "\n",
    "from sympy.physics.hydrogen import R_nl\n",
    "print(f\"R10 : {R_nl(1, 0, r, 1)}\")\n",
    "\n",
    "from sympy import Ynm\n",
    "print(f\"Y00 : {Ynm(0,0,theta,phi)}\")\n",
    "print(f\"Y00 : {Ynm(0,0,theta,phi).expand(func=True)}\")\n",
    "print(f\"Y00 : {sym.simplify(Ynm(0,0,theta,phi).expand(func=True))}\")\n",
    "\n",
    "R10 = R_nl(1, 0, r, 1)\n",
    "Y00 = Ynm(0,0,theta,phi).expand(func=True)\n",
    "psi_100 = sym.simplify(R10*Y00)\n",
    "print(f\"R10 x Y00 : {psi_100}\")\n",
    "ple(psi_100)\n",
    "\n",
    "from sympy import oo\n",
    "R_norme = sym.integrate(R10**2*r**2, (r, 0, oo))\n",
    "print(f\"Norme de R10 : {R_norme}\")\n",
    "Y_norme = sym.integrate(Y00**2*sym.sin(theta), (theta, 0, pi), (phi, 0, 2*pi))\n",
    "print(f\"Norme de Y00 : {Y_norme}\")"
   ]
  },
  {
   "cell_type": "markdown",
   "id": "271266bd-883d-4342-addf-f54db2498076",
   "metadata": {},
   "source": [
    "#### **2.1.2.** 2nd shell"
   ]
  },
  {
   "cell_type": "markdown",
   "id": "7b8cbb35-295c-46be-a87e-7da88e15a2ca",
   "metadata": {},
   "source": [
    "##### 2s AO = $\\psi_{200}$"
   ]
  },
  {
   "cell_type": "code",
   "execution_count": 36,
   "id": "cfa21148-b28c-4064-9b04-60d85ba29efc",
   "metadata": {},
   "outputs": [
    {
     "name": "stdout",
     "output_type": "stream",
     "text": [
      "ψ200 : sqrt(2)*(2 - r)*exp(-r/2)/(8*sqrt(pi))\n",
      "R20 : sqrt(2)*(2 - r)*exp(-r/2)/4\n",
      "Y00 : Ynm(0, 0, theta, phi)\n",
      "Y00 : 1/(2*sqrt(pi))\n",
      "Y00 : 1/(2*sqrt(pi))\n",
      "R20 x Y00 : sqrt(2)*(2 - r)*exp(-r/2)/(8*sqrt(pi))\n"
     ]
    },
    {
     "data": {
      "text/latex": [
       "$\\displaystyle \\frac{\\sqrt{2} \\cdot \\left(2 - r\\right) e^{- \\frac{r}{2}}}{8 \\sqrt{\\pi}}$"
      ],
      "text/plain": [
       "<IPython.core.display.Math object>"
      ]
     },
     "metadata": {},
     "output_type": "display_data"
    },
    {
     "name": "stdout",
     "output_type": "stream",
     "text": [
      "Norme de R20 : 1\n",
      "Norme de Y00 : 1\n"
     ]
    }
   ],
   "source": [
    "print(f\"ψ200 : {Psi_nlm(2,0,0,r,phi,theta,1)}\")\n",
    "\n",
    "from sympy.physics.hydrogen import R_nl\n",
    "print(f\"R20 : {R_nl(2, 0, r, 1)}\")\n",
    "\n",
    "from sympy import Ynm\n",
    "print(f\"Y00 : {Ynm(0,0,theta,phi)}\")\n",
    "print(f\"Y00 : {Ynm(0,0,theta,phi).expand(func=True)}\")\n",
    "print(f\"Y00 : {sym.simplify(Ynm(0,0,theta,phi).expand(func=True))}\")\n",
    "\n",
    "R20 = R_nl(2, 0, r, 1)\n",
    "Y00 = Ynm(0,0,theta,phi).expand(func=True)\n",
    "psi_200 = sym.simplify(R20*Y00)\n",
    "print(f\"R20 x Y00 : {psi_200}\")\n",
    "ple(psi_200)\n",
    "\n",
    "from sympy import oo\n",
    "R_norme = sym.integrate(R20**2*r**2, (r, 0, oo))\n",
    "print(f\"Norme de R20 : {R_norme}\")\n",
    "Y_norme = sym.integrate(Y00**2*sym.sin(theta), (theta, 0, pi), (phi, 0, 2*pi))\n",
    "print(f\"Norme de Y00 : {Y_norme}\")"
   ]
  },
  {
   "cell_type": "markdown",
   "id": "f6ae183d-d62a-4282-bf0b-ba9cdf1ced47",
   "metadata": {},
   "source": [
    "##### Radial part of the 2p AOs"
   ]
  },
  {
   "cell_type": "code",
   "execution_count": 15,
   "id": "6dc0c5c9-a832-41d3-9e4b-7296364d8f22",
   "metadata": {},
   "outputs": [
    {
     "name": "stdout",
     "output_type": "stream",
     "text": [
      "R21 : sqrt(6)*r*exp(-r/2)/12\n",
      "Norme de R21 : 1\n"
     ]
    }
   ],
   "source": [
    "from sympy.physics.hydrogen import R_nl\n",
    "R21 = R_nl(2, 1, r, 1)\n",
    "print(f\"R21 : {R21}\")\n",
    "from sympy import oo\n",
    "R_norme = sym.integrate(R21**2*r**2, (r, 0, oo))\n",
    "print(f\"Norme de R21 : {R_norme}\")"
   ]
  },
  {
   "cell_type": "markdown",
   "id": "40c315fd-f112-4383-8152-2f5c4527de28",
   "metadata": {},
   "source": [
    "##### 2p_z AO = $\\psi_{210}$"
   ]
  },
  {
   "cell_type": "code",
   "execution_count": 37,
   "id": "6aa203f8-d436-4639-a5f4-f4f3b748e109",
   "metadata": {},
   "outputs": [
    {
     "name": "stdout",
     "output_type": "stream",
     "text": [
      "ψ210 : sqrt(2)*r*exp(-r/2)*cos(theta)/(8*sqrt(pi))\n",
      "Y10 : sqrt(3)*cos(theta)/(2*sqrt(pi))\n",
      "Norme de Y10 : 1\n",
      "R21 x Y10 : sqrt(2)*r*exp(-r/2)*cos(theta)/(8*sqrt(pi))\n"
     ]
    },
    {
     "data": {
      "text/latex": [
       "$\\displaystyle \\frac{\\sqrt{2} r e^{- \\frac{r}{2}} \\cos{\\left(\\theta \\right)}}{8 \\sqrt{\\pi}}$"
      ],
      "text/plain": [
       "<IPython.core.display.Math object>"
      ]
     },
     "metadata": {},
     "output_type": "display_data"
    }
   ],
   "source": [
    "print(f\"ψ210 : {Psi_nlm(2,1,0,r,phi,theta,1)}\")\n",
    "\n",
    "from sympy import Ynm\n",
    "Y10 = sym.simplify(Ynm(1,0,theta,phi).expand(func=True))\n",
    "print(f\"Y10 : {Y10}\")\n",
    "Y_norme = sym.integrate(Y10**2*sym.sin(theta), (theta, 0, pi), (phi, 0, 2*pi))\n",
    "print(f\"Norme de Y10 : {Y_norme}\")\n",
    "psi_210 = sym.simplify(R21*Y10)\n",
    "print(f\"R21 x Y10 : {psi_210}\")\n",
    "ple(psi_210)"
   ]
  },
  {
   "cell_type": "markdown",
   "id": "3c7aff8f-426b-4c02-a6b4-17dcee8b16d4",
   "metadata": {
    "tags": []
   },
   "source": [
    "##### 2p_x AO = $\\psi_{211}$"
   ]
  },
  {
   "cell_type": "code",
   "execution_count": 38,
   "id": "68f5c523-e821-4964-9a3a-a9576c487860",
   "metadata": {},
   "outputs": [
    {
     "name": "stdout",
     "output_type": "stream",
     "text": [
      "ψ211 : -r*exp(-r/2)*exp(I*phi)*sin(theta)/(8*sqrt(pi))\n",
      "S11: -sqrt(3)*sin(theta)*cos(phi)/(2*sqrt(pi))\n",
      "Norme de S11: 1\n",
      "R21 x S11: -sqrt(2)*r*exp(-r/2)*sin(theta)*cos(phi)/(8*sqrt(pi))\n"
     ]
    },
    {
     "data": {
      "text/latex": [
       "$\\displaystyle - \\frac{\\sqrt{2} r e^{- \\frac{r}{2}} \\sin{\\left(\\theta \\right)} \\cos{\\left(\\phi \\right)}}{8 \\sqrt{\\pi}}$"
      ],
      "text/plain": [
       "<IPython.core.display.Math object>"
      ]
     },
     "metadata": {},
     "output_type": "display_data"
    }
   ],
   "source": [
    "print(f\"ψ211 : {Psi_nlm(2,1,1,r,phi,theta,1)}\")\n",
    "\n",
    "from sympy import Znm #harmoniques sphériques réelles\n",
    "S11 = sym.simplify(Znm(1,1,theta,phi).expand(func=True))\n",
    "print(f\"S11: {S11}\")\n",
    "S_norme = sym.integrate(S11**2*sym.sin(theta), (theta, 0, pi), (phi, 0, 2*pi))\n",
    "print(f\"Norme de S11: {S_norme}\")\n",
    "psi_211 = sym.simplify(R21*S11)\n",
    "print(f\"R21 x S11: {psi_211}\")\n",
    "ple(psi_211)"
   ]
  },
  {
   "cell_type": "markdown",
   "id": "2e056029-97c7-48d1-8e42-99d58632ca56",
   "metadata": {
    "tags": []
   },
   "source": [
    "##### 2p_y AO = $\\psi_{21-1}$"
   ]
  },
  {
   "cell_type": "code",
   "execution_count": 39,
   "id": "88341d46-a599-4289-9e65-df3973f6eaab",
   "metadata": {},
   "outputs": [
    {
     "name": "stdout",
     "output_type": "stream",
     "text": [
      "ψ21-1 : r*exp(-r/2)*exp(-I*phi)*sin(theta)/(8*sqrt(pi))\n",
      "S1-1: -sqrt(3)*sin(phi)*sin(theta)/(2*sqrt(pi))\n",
      "Norme de S1-1 : 1\n",
      "R21 x S1-1 : -sqrt(2)*r*exp(-r/2)*sin(phi)*sin(theta)/(8*sqrt(pi))\n"
     ]
    },
    {
     "data": {
      "text/latex": [
       "$\\displaystyle - \\frac{\\sqrt{2} r e^{- \\frac{r}{2}} \\sin{\\left(\\phi \\right)} \\sin{\\left(\\theta \\right)}}{8 \\sqrt{\\pi}}$"
      ],
      "text/plain": [
       "<IPython.core.display.Math object>"
      ]
     },
     "metadata": {},
     "output_type": "display_data"
    }
   ],
   "source": [
    "print(f\"ψ21-1 : {Psi_nlm(2,1,-1,r,phi,theta,1)}\")\n",
    "\n",
    "from sympy import Znm #harmoniques sphériques réelles\n",
    "S1_1 = sym.simplify(Znm(1,-1,theta,phi).expand(func=True))\n",
    "print(f\"S1-1: {S1_1}\")\n",
    "S_norme = sym.integrate(S1_1**2*sym.sin(theta), (theta, 0, pi), (phi, 0, 2*pi))\n",
    "print(f\"Norme de S1-1 : {S_norme}\")\n",
    "psi_21_1 = sym.simplify(R21*S1_1)\n",
    "print(f\"R21 x S1-1 : {psi_21_1}\")\n",
    "ple(psi_21_1)"
   ]
  },
  {
   "cell_type": "markdown",
   "id": "674cb532-bb1b-4598-a267-cab3eaf080ab",
   "metadata": {},
   "source": [
    "#### **2.1.3.** 3rd shell"
   ]
  },
  {
   "cell_type": "markdown",
   "id": "dcd2d0d7-d0c4-4bac-a9fe-1b0fc48380c9",
   "metadata": {},
   "source": [
    "##### 3s AO = $\\psi_{300}$"
   ]
  },
  {
   "cell_type": "code",
   "execution_count": 40,
   "id": "22f85bc3-1706-480e-9927-84e67c06ff04",
   "metadata": {},
   "outputs": [
    {
     "name": "stdout",
     "output_type": "stream",
     "text": [
      "ψ300 : sqrt(3)*(2*r**2/9 - 2*r + 3)*exp(-r/3)/(27*sqrt(pi))\n",
      "R30 : 2*sqrt(3)*(2*r**2/9 - 2*r + 3)*exp(-r/3)/27\n",
      "Y00 : Ynm(0, 0, theta, phi)\n",
      "Y00 : 1/(2*sqrt(pi))\n",
      "Y00 : 1/(2*sqrt(pi))\n",
      "R30 x Y00 : sqrt(3)*(2*r**2 - 18*r + 27)*exp(-r/3)/(243*sqrt(pi))\n"
     ]
    },
    {
     "data": {
      "text/latex": [
       "$\\displaystyle \\frac{\\sqrt{3} \\cdot \\left(2 r^{2} - 18 r + 27\\right) e^{- \\frac{r}{3}}}{243 \\sqrt{\\pi}}$"
      ],
      "text/plain": [
       "<IPython.core.display.Math object>"
      ]
     },
     "metadata": {},
     "output_type": "display_data"
    },
    {
     "name": "stdout",
     "output_type": "stream",
     "text": [
      "Norme de R30 : 1\n",
      "Norme de Y00 : 1\n"
     ]
    }
   ],
   "source": [
    "print(f\"ψ300 : {Psi_nlm(3,0,0,r,phi,theta,1)}\")\n",
    "\n",
    "from sympy.physics.hydrogen import R_nl\n",
    "print(f\"R30 : {R_nl(3, 0, r, 1)}\")\n",
    "\n",
    "from sympy import Ynm\n",
    "print(f\"Y00 : {Ynm(0,0,theta,phi)}\")\n",
    "print(f\"Y00 : {Ynm(0,0,theta,phi).expand(func=True)}\")\n",
    "print(f\"Y00 : {sym.simplify(Ynm(0,0,theta,phi).expand(func=True))}\")\n",
    "\n",
    "R30 = R_nl(3, 0, r, 1)\n",
    "Y00 = Ynm(0,0,theta,phi).expand(func=True)\n",
    "psi_300 = sym.simplify(R30*Y00)\n",
    "print(f\"R30 x Y00 : {psi_300}\")\n",
    "ple(psi_300)\n",
    "\n",
    "from sympy import oo\n",
    "R_norme = sym.integrate(R30**2*r**2, (r, 0, oo))\n",
    "print(f\"Norme de R30 : {R_norme}\")\n",
    "Y_norme = sym.integrate(Y00**2*sym.sin(theta), (theta, 0, pi), (phi, 0, 2*pi))\n",
    "print(f\"Norme de Y00 : {Y_norme}\")"
   ]
  },
  {
   "cell_type": "markdown",
   "id": "ad1fbe72-3359-4f9f-931a-b50cd96b4ba7",
   "metadata": {},
   "source": [
    "##### Radial part of the 3p AOs"
   ]
  },
  {
   "cell_type": "code",
   "execution_count": 20,
   "id": "5b47e2b5-477d-4676-8ab0-c02b01e20ae5",
   "metadata": {},
   "outputs": [
    {
     "name": "stdout",
     "output_type": "stream",
     "text": [
      "R31 : sqrt(6)*r*(4 - 2*r/3)*exp(-r/3)/81\n",
      "Norme de R31 : 1\n"
     ]
    }
   ],
   "source": [
    "from sympy.physics.hydrogen import R_nl\n",
    "R31 = R_nl(3, 1, r, 1)\n",
    "print(f\"R31 : {R31}\")\n",
    "from sympy import oo\n",
    "R_norme = sym.integrate(R31**2*r**2, (r, 0, oo))\n",
    "print(f\"Norme de R31 : {R_norme}\")"
   ]
  },
  {
   "cell_type": "markdown",
   "id": "cde9a5dc-76cf-4815-9d55-b19320d68b83",
   "metadata": {
    "tags": []
   },
   "source": [
    "##### 3p_z AO = $\\psi_{310}$"
   ]
  },
  {
   "cell_type": "code",
   "execution_count": 41,
   "id": "2073002f-e716-4e2e-8525-7bf4ef381316",
   "metadata": {},
   "outputs": [
    {
     "name": "stdout",
     "output_type": "stream",
     "text": [
      "ψ310 : sqrt(2)*r*(4 - 2*r/3)*exp(-r/3)*cos(theta)/(54*sqrt(pi))\n",
      "Y10 : sqrt(3)*cos(theta)/(2*sqrt(pi))\n",
      "Norme de Y10 : 1\n",
      "R31 x Y10 : sqrt(2)*r*(6 - r)*exp(-r/3)*cos(theta)/(81*sqrt(pi))\n"
     ]
    },
    {
     "data": {
      "text/latex": [
       "$\\displaystyle \\frac{\\sqrt{2} r \\left(6 - r\\right) e^{- \\frac{r}{3}} \\cos{\\left(\\theta \\right)}}{81 \\sqrt{\\pi}}$"
      ],
      "text/plain": [
       "<IPython.core.display.Math object>"
      ]
     },
     "metadata": {},
     "output_type": "display_data"
    }
   ],
   "source": [
    "print(f\"ψ310 : {Psi_nlm(3,1,0,r,phi,theta,1)}\")\n",
    "\n",
    "from sympy import Ynm\n",
    "Y10 = sym.simplify(Ynm(1,0,theta,phi).expand(func=True))\n",
    "print(f\"Y10 : {Y10}\")\n",
    "Y_norme = sym.integrate(Y10**2*sym.sin(theta), (theta, 0, pi), (phi, 0, 2*pi))\n",
    "print(f\"Norme de Y10 : {Y_norme}\")\n",
    "psi_310 = sym.simplify(R31*Y10)\n",
    "print(f\"R31 x Y10 : {psi_310}\")\n",
    "ple(psi_310)"
   ]
  },
  {
   "cell_type": "markdown",
   "id": "2a898dbb-1e4d-478d-9f3b-9974e10820c3",
   "metadata": {
    "tags": []
   },
   "source": [
    "##### 3p_x AO = $\\psi_{311}$"
   ]
  },
  {
   "cell_type": "code",
   "execution_count": 42,
   "id": "f4b12ae5-f96d-4755-b54a-60812bb54fb9",
   "metadata": {},
   "outputs": [
    {
     "name": "stdout",
     "output_type": "stream",
     "text": [
      "ψ311 : -r*(4 - 2*r/3)*exp(-r/3)*exp(I*phi)*sin(theta)/(54*sqrt(pi))\n",
      "S11: -sqrt(3)*sin(theta)*cos(phi)/(2*sqrt(pi))\n",
      "Norme de S11: 1\n",
      "R31 x S11: sqrt(2)*r*(r - 6)*exp(-r/3)*sin(theta)*cos(phi)/(81*sqrt(pi))\n"
     ]
    },
    {
     "data": {
      "text/latex": [
       "$\\displaystyle \\frac{\\sqrt{2} r \\left(r - 6\\right) e^{- \\frac{r}{3}} \\sin{\\left(\\theta \\right)} \\cos{\\left(\\phi \\right)}}{81 \\sqrt{\\pi}}$"
      ],
      "text/plain": [
       "<IPython.core.display.Math object>"
      ]
     },
     "metadata": {},
     "output_type": "display_data"
    }
   ],
   "source": [
    "print(f\"ψ311 : {Psi_nlm(3,1,1,r,phi,theta,1)}\")\n",
    "\n",
    "from sympy import Znm #harmoniques sphériques réelles\n",
    "S11 = sym.simplify(Znm(1,1,theta,phi).expand(func=True))\n",
    "print(f\"S11: {S11}\")\n",
    "S_norme = sym.integrate(S11**2*sym.sin(theta), (theta, 0, pi), (phi, 0, 2*pi))\n",
    "print(f\"Norme de S11: {S_norme}\")\n",
    "psi_311 = sym.simplify(R31*S11)\n",
    "print(f\"R31 x S11: {psi_311}\")\n",
    "ple(psi_311)"
   ]
  },
  {
   "cell_type": "markdown",
   "id": "049996ab-34c5-4b60-8445-1208cb3bb823",
   "metadata": {
    "tags": []
   },
   "source": [
    "##### 3p_y AO = $\\psi_{31-1}$"
   ]
  },
  {
   "cell_type": "code",
   "execution_count": 43,
   "id": "80d51f07-dade-4d27-8d37-1a6894cb5484",
   "metadata": {},
   "outputs": [
    {
     "name": "stdout",
     "output_type": "stream",
     "text": [
      "ψ21-1 : r*(4 - 2*r/3)*exp(-r/3)*exp(-I*phi)*sin(theta)/(54*sqrt(pi))\n",
      "S1-1: -sqrt(3)*sin(phi)*sin(theta)/(2*sqrt(pi))\n",
      "Norme de S1-1 : 1\n",
      "R31 x S1-1 : sqrt(2)*r*(r - 6)*exp(-r/3)*sin(phi)*sin(theta)/(81*sqrt(pi))\n"
     ]
    },
    {
     "data": {
      "text/latex": [
       "$\\displaystyle \\frac{\\sqrt{2} r \\left(r - 6\\right) e^{- \\frac{r}{3}} \\sin{\\left(\\phi \\right)} \\sin{\\left(\\theta \\right)}}{81 \\sqrt{\\pi}}$"
      ],
      "text/plain": [
       "<IPython.core.display.Math object>"
      ]
     },
     "metadata": {},
     "output_type": "display_data"
    }
   ],
   "source": [
    "print(f\"ψ21-1 : {Psi_nlm(3,1,-1,r,phi,theta,1)}\")\n",
    "\n",
    "from sympy import Znm #harmoniques sphériques réelles\n",
    "S1_1 = sym.simplify(Znm(1,-1,theta,phi).expand(func=True))\n",
    "print(f\"S1-1: {S1_1}\")\n",
    "S_norme = sym.integrate(S1_1**2*sym.sin(theta), (theta, 0, pi), (phi, 0, 2*pi))\n",
    "print(f\"Norme de S1-1 : {S_norme}\")\n",
    "psi_31_1 = sym.simplify(R31*S1_1)\n",
    "print(f\"R31 x S1-1 : {psi_31_1}\")\n",
    "ple(psi_31_1)"
   ]
  },
  {
   "cell_type": "markdown",
   "id": "6dd2b1cf-47a4-41ce-b131-9f8bea3e3409",
   "metadata": {},
   "source": [
    "##### Radial part of the 3d AOs"
   ]
  },
  {
   "cell_type": "code",
   "execution_count": 24,
   "id": "a58826be-124d-4d30-9321-019ed2b88691",
   "metadata": {},
   "outputs": [
    {
     "name": "stdout",
     "output_type": "stream",
     "text": [
      "R32 : 2*sqrt(30)*r**2*exp(-r/3)/1215\n",
      "Norme de R32 : 1\n"
     ]
    }
   ],
   "source": [
    "from sympy.physics.hydrogen import R_nl\n",
    "R32 = R_nl(3, 2, r, 1)\n",
    "print(f\"R32 : {R32}\")\n",
    "from sympy import oo\n",
    "R_norme = sym.integrate(R32**2*r**2, (r, 0, oo))\n",
    "print(f\"Norme de R32 : {R_norme}\")"
   ]
  },
  {
   "cell_type": "markdown",
   "id": "d966dcd2-3081-4600-a93a-ddc2e4841de4",
   "metadata": {
    "tags": []
   },
   "source": [
    "##### 3d_z2 AO = $\\psi_{320}$"
   ]
  },
  {
   "cell_type": "code",
   "execution_count": 44,
   "id": "bf5e3e75-d9dc-408b-9a4c-afdffbe08b94",
   "metadata": {},
   "outputs": [
    {
     "name": "stdout",
     "output_type": "stream",
     "text": [
      "ψ320 : 2*sqrt(30)*r**2*(3*sqrt(5)*cos(theta)**2/(4*sqrt(pi)) - sqrt(5)/(4*sqrt(pi)))*exp(-r/3)/1215\n",
      "ψ320 : sqrt(6)*r**2*(3*cos(theta)**2 - 1)*exp(-r/3)/(486*sqrt(pi))\n",
      "Y20 : sqrt(5)*(3*cos(theta)**2 - 1)/(4*sqrt(pi))\n",
      "Norme de Y20 : 1\n",
      "R32 x Y20 : sqrt(6)*r**2*(3*cos(theta)**2 - 1)*exp(-r/3)/(486*sqrt(pi))\n"
     ]
    },
    {
     "data": {
      "text/latex": [
       "$\\displaystyle \\frac{\\sqrt{6} r^{2} \\cdot \\left(3 \\cos^{2}{\\left(\\theta \\right)} - 1\\right) e^{- \\frac{r}{3}}}{486 \\sqrt{\\pi}}$"
      ],
      "text/plain": [
       "<IPython.core.display.Math object>"
      ]
     },
     "metadata": {},
     "output_type": "display_data"
    }
   ],
   "source": [
    "print(f\"ψ320 : {Psi_nlm(3,2,0,r,phi,theta,1)}\")\n",
    "print(f\"ψ320 : {sym.simplify(Psi_nlm(3,2,0,r,phi,theta,1))}\")\n",
    "\n",
    "from sympy import Ynm\n",
    "Y20 = sym.simplify(Ynm(2,0,theta,phi).expand(func=True))\n",
    "print(f\"Y20 : {Y20}\")\n",
    "Y_norme = sym.integrate(Y20**2*sym.sin(theta), (theta, 0, pi), (phi, 0, 2*pi))\n",
    "print(f\"Norme de Y20 : {Y_norme}\")\n",
    "psi_320 = sym.simplify(R32*Y20)\n",
    "print(f\"R32 x Y20 : {psi_320}\")\n",
    "ple(psi_320)"
   ]
  },
  {
   "cell_type": "markdown",
   "id": "77a78693-42dc-4c87-b46a-1bd0b1876633",
   "metadata": {
    "tags": []
   },
   "source": [
    "##### 3d_ AO = $\\psi_{321}$"
   ]
  },
  {
   "cell_type": "code",
   "execution_count": 45,
   "id": "5d8a3cfa-925f-498b-8ba7-d1d0efefdfb0",
   "metadata": {},
   "outputs": [
    {
     "name": "stdout",
     "output_type": "stream",
     "text": [
      "ψ321 : -r**2*exp(-r/3)*exp(I*phi)*sin(theta)*cos(theta)/(81*sqrt(pi))\n",
      "S21: -sqrt(15)*sin(2*theta)*cos(phi)/(4*sqrt(pi))\n",
      "Norme de S21: 1\n",
      "R32 x S21: -sqrt(2)*r**2*exp(-r/3)*sin(2*theta)*cos(phi)/(162*sqrt(pi))\n"
     ]
    },
    {
     "data": {
      "text/latex": [
       "$\\displaystyle - \\frac{\\sqrt{2} r^{2} e^{- \\frac{r}{3}} \\sin{\\left(2 \\theta \\right)} \\cos{\\left(\\phi \\right)}}{162 \\sqrt{\\pi}}$"
      ],
      "text/plain": [
       "<IPython.core.display.Math object>"
      ]
     },
     "metadata": {},
     "output_type": "display_data"
    }
   ],
   "source": [
    "print(f\"ψ321 : {Psi_nlm(3,2,1,r,phi,theta,1)}\")\n",
    "\n",
    "from sympy import Znm #harmoniques sphériques réelles\n",
    "S21 = sym.simplify(Znm(2,1,theta,phi).expand(func=True))\n",
    "print(f\"S21: {S21}\")\n",
    "S_norme = sym.integrate(S21**2*sym.sin(theta), (theta, 0, pi), (phi, 0, 2*pi))\n",
    "print(f\"Norme de S21: {S_norme}\")\n",
    "psi_321 = sym.simplify(R32*S21)\n",
    "print(f\"R32 x S21: {psi_321}\")\n",
    "ple(psi_321)"
   ]
  },
  {
   "cell_type": "markdown",
   "id": "0eb4ca27-d854-48c1-9b3f-8e4a940e22ec",
   "metadata": {
    "tags": []
   },
   "source": [
    "##### 3d_ AO = $\\psi_{32-1}$"
   ]
  },
  {
   "cell_type": "code",
   "execution_count": 46,
   "id": "046323e0-74dd-49ab-b260-e604c84046c3",
   "metadata": {},
   "outputs": [
    {
     "name": "stdout",
     "output_type": "stream",
     "text": [
      "ψ32-1 : r**2*exp(-r/3)*exp(-I*phi)*sin(theta)*cos(theta)/(81*sqrt(pi))\n",
      "S2-1: -sqrt(15)*sin(phi)*sin(2*theta)/(4*sqrt(pi))\n",
      "Norme de S2-1: 1\n",
      "R32 x S2_1: -sqrt(2)*r**2*exp(-r/3)*sin(phi)*sin(2*theta)/(162*sqrt(pi))\n"
     ]
    },
    {
     "data": {
      "text/latex": [
       "$\\displaystyle - \\frac{\\sqrt{2} r^{2} e^{- \\frac{r}{3}} \\sin{\\left(\\phi \\right)} \\sin{\\left(2 \\theta \\right)}}{162 \\sqrt{\\pi}}$"
      ],
      "text/plain": [
       "<IPython.core.display.Math object>"
      ]
     },
     "metadata": {},
     "output_type": "display_data"
    }
   ],
   "source": [
    "print(f\"ψ32-1 : {Psi_nlm(3,2,-1,r,phi,theta,1)}\")\n",
    "\n",
    "from sympy import Znm #harmoniques sphériques réelles\n",
    "S2_1 = sym.simplify(Znm(2,-1,theta,phi).expand(func=True))\n",
    "print(f\"S2-1: {S2_1}\")\n",
    "S_norme = sym.integrate(S2_1**2*sym.sin(theta), (theta, 0, pi), (phi, 0, 2*pi))\n",
    "print(f\"Norme de S2-1: {S_norme}\")\n",
    "psi_32_1 = sym.simplify(R32*S2_1)\n",
    "print(f\"R32 x S2_1: {psi_32_1}\")\n",
    "ple(psi_32_1)"
   ]
  },
  {
   "cell_type": "markdown",
   "id": "46b117d8-7f14-4345-aa86-fae6ad2b617f",
   "metadata": {
    "tags": []
   },
   "source": [
    "##### 3d_ AO = $\\psi_{322}$"
   ]
  },
  {
   "cell_type": "code",
   "execution_count": 47,
   "id": "bf7a659e-65a3-49a3-9ac9-22ccd41b4410",
   "metadata": {},
   "outputs": [
    {
     "name": "stdout",
     "output_type": "stream",
     "text": [
      "ψ322 : 2*sqrt(30)*r**2*(-sqrt(30)*exp(2*I*phi)*cos(theta)**2/(8*sqrt(pi)) + sqrt(30)*exp(2*I*phi)/(8*sqrt(pi)))*exp(-r/3)/1215\n",
      "S22: sqrt(15)*sin(theta)**2*cos(2*phi)/(4*sqrt(pi))\n",
      "Norme de S22: 1\n",
      "R32 x S22: sqrt(2)*r**2*exp(-r/3)*sin(theta)**2*cos(2*phi)/(162*sqrt(pi))\n"
     ]
    },
    {
     "data": {
      "text/latex": [
       "$\\displaystyle \\frac{\\sqrt{2} r^{2} e^{- \\frac{r}{3}} \\sin^{2}{\\left(\\theta \\right)} \\cos{\\left(2 \\phi \\right)}}{162 \\sqrt{\\pi}}$"
      ],
      "text/plain": [
       "<IPython.core.display.Math object>"
      ]
     },
     "metadata": {},
     "output_type": "display_data"
    }
   ],
   "source": [
    "print(f\"ψ322 : {Psi_nlm(3,2,2,r,phi,theta,1)}\")\n",
    "\n",
    "from sympy import Znm #harmoniques sphériques réelles\n",
    "S22 = sym.simplify(Znm(2,2,theta,phi).expand(func=True))\n",
    "print(f\"S22: {S22}\")\n",
    "S_norme = sym.integrate(S22**2*sym.sin(theta), (theta, 0, pi), (phi, 0, 2*pi))\n",
    "print(f\"Norme de S22: {S_norme}\")\n",
    "psi_322 = sym.simplify(R32*S22)\n",
    "print(f\"R32 x S22: {psi_322}\")\n",
    "ple(psi_322)"
   ]
  },
  {
   "cell_type": "markdown",
   "id": "0de2508a-cdd9-4163-90cb-f66d3fa812bc",
   "metadata": {
    "tags": []
   },
   "source": [
    "##### 3d_ AO = $\\psi_{32-2}$"
   ]
  },
  {
   "cell_type": "code",
   "execution_count": 48,
   "id": "f73fd6c7-257c-48a6-8eae-b1821248ce71",
   "metadata": {},
   "outputs": [
    {
     "name": "stdout",
     "output_type": "stream",
     "text": [
      "ψ32-2 : 2*sqrt(30)*r**2*(-sqrt(30)*exp(-2*I*phi)*cos(theta)**2/(8*sqrt(pi)) + sqrt(30)*exp(-2*I*phi)/(8*sqrt(pi)))*exp(-r/3)/1215\n",
      "S2-2: -sqrt(15)*sin(2*phi)*sin(theta)**2/(4*sqrt(pi))\n",
      "Norme de S2-2: 1\n",
      "R32 x S2_2: -sqrt(2)*r**2*exp(-r/3)*sin(2*phi)*sin(theta)**2/(162*sqrt(pi))\n"
     ]
    },
    {
     "data": {
      "text/latex": [
       "$\\displaystyle - \\frac{\\sqrt{2} r^{2} e^{- \\frac{r}{3}} \\sin{\\left(2 \\phi \\right)} \\sin^{2}{\\left(\\theta \\right)}}{162 \\sqrt{\\pi}}$"
      ],
      "text/plain": [
       "<IPython.core.display.Math object>"
      ]
     },
     "metadata": {},
     "output_type": "display_data"
    }
   ],
   "source": [
    "print(f\"ψ32-2 : {Psi_nlm(3,2,-2,r,phi,theta,1)}\")\n",
    "\n",
    "from sympy import Znm #harmoniques sphériques réelles\n",
    "S2_2 = sym.simplify(Znm(2,-2,theta,phi).expand(func=True))\n",
    "print(f\"S2-2: {S2_2}\")\n",
    "S_norme = sym.integrate(S2_2**2*sym.sin(theta), (theta, 0, pi), (phi, 0, 2*pi))\n",
    "print(f\"Norme de S2-2: {S_norme}\")\n",
    "psi_32_2 = sym.simplify(R32*S2_2)\n",
    "print(f\"R32 x S2_2: {psi_32_2}\")\n",
    "ple(psi_32_2)"
   ]
  },
  {
   "cell_type": "markdown",
   "id": "1fcb0bac-f7f8-445e-aa73-76246871f453",
   "metadata": {},
   "source": [
    "### **3.2** Radial parts"
   ]
  },
  {
   "cell_type": "markdown",
   "id": "43116e0f-b928-4459-a4b3-2c4c6759efa1",
   "metadata": {},
   "source": [
    "#### **3.2.1** Plots"
   ]
  },
  {
   "cell_type": "code",
   "execution_count": 76,
   "id": "dde128c1-746a-4034-8e45-0db561100d3d",
   "metadata": {},
   "outputs": [
    {
     "data": {
      "text/latex": [
       "$\\displaystyle 2 e^{- r}$"
      ],
      "text/plain": [
       "<IPython.core.display.Math object>"
      ]
     },
     "metadata": {},
     "output_type": "display_data"
    },
    {
     "data": {
      "text/latex": [
       "$\\displaystyle \\frac{\\sqrt{2} \\cdot \\left(2 - r\\right) e^{- \\frac{r}{2}}}{4}$"
      ],
      "text/plain": [
       "<IPython.core.display.Math object>"
      ]
     },
     "metadata": {},
     "output_type": "display_data"
    },
    {
     "data": {
      "text/latex": [
       "$\\displaystyle \\frac{2 \\sqrt{3} \\cdot \\left(\\frac{2 r^{2}}{9} - 2 r + 3\\right) e^{- \\frac{r}{3}}}{27}$"
      ],
      "text/plain": [
       "<IPython.core.display.Math object>"
      ]
     },
     "metadata": {},
     "output_type": "display_data"
    },
    {
     "data": {
      "image/png": "[encoded data removed]",
      "text/plain": [
       "<Figure size 1000x500 with 1 Axes>"
      ]
     },
     "metadata": {},
     "output_type": "display_data"
    },
    {
     "data": {
      "image/png": "[encoded data removed]",
      "text/plain": [
       "<Figure size 1000x500 with 1 Axes>"
      ]
     },
     "metadata": {},
     "output_type": "display_data"
    }
   ],
   "source": [
    "%matplotlib inline\n",
    "import numpy as np\n",
    "import matplotlib.pyplot as plt\n",
    "from sympy import lambdify\n",
    "\n",
    "ple(R10)\n",
    "R10num = lambdify([r], R10)\n",
    "ple(R20)\n",
    "R20num = lambdify([r], R20)\n",
    "ple(R30)\n",
    "R30num = lambdify([r], R30)\n",
    "\n",
    "rr = np.linspace(0.,25.,250) # r en bohr\n",
    "\n",
    "plt.rcParams[\"figure.figsize\"] = (10,5)\n",
    "plt.rcParams.update({'font.size': 14})\n",
    "\n",
    "plt.plot(rr, R10num(rr),linewidth=2,color='red',label=\"R10\")\n",
    "plt.plot(rr, R20num(rr),linewidth=2,color='blue',label=\"R20\")\n",
    "plt.plot(rr, R30num(rr),linewidth=2,color='black',label=\"R30\")\n",
    "plt.axhline(y = 0, color = '0.7',linestyle='--')\n",
    "plt.xlabel(\"bohr\")\n",
    "plt.legend()\n",
    "plt.show()\n",
    "\n",
    "P10 = lambdify([r], (R10*r)**2)\n",
    "P20 = lambdify([r], (R20*r)**2)\n",
    "P30 = lambdify([r], (R30*r)**2)\n",
    "\n",
    "plt.plot(rr, P10(rr),linewidth=2,color='red',label=\"P10\")\n",
    "plt.plot(rr, P20(rr),linewidth=2,color='blue',label=\"P20\")\n",
    "plt.plot(rr, P30(rr),linewidth=2,color='black',label=\"P30\")\n",
    "plt.axhline(y = 0, color = '0.7',linestyle='--')\n",
    "plt.xlabel(\"bohr\")\n",
    "plt.legend()\n",
    "plt.show()"
   ]
  },
  {
   "cell_type": "code",
   "execution_count": 231,
   "id": "898a0af5-6513-4be2-8538-0d741a4c4478",
   "metadata": {},
   "outputs": [
    {
     "data": {
      "text/markdown": [
       "**End at:** Saturday 05 November 2022, 01:00:27  \n",
       "**Duration:** 02:10:38 001ms"
      ],
      "text/plain": [
       "<IPython.core.display.Markdown object>"
      ]
     },
     "metadata": {},
     "output_type": "display_data"
    },
    {
     "data": {
      "text/markdown": [
       "<p style=\"text-align: center\"><img width=\"800px\" src=\"./config/svg/logoEnd.svg\" style=\"margin-left:auto; margin-right:auto\"/></p>"
      ],
      "text/plain": [
       "<IPython.core.display.Markdown object>"
      ]
     },
     "metadata": {},
     "output_type": "display_data"
    }
   ],
   "source": [
    "vID.end(cwd0)"
   ]
  },
  {
   "cell_type": "code",
   "execution_count": null,
   "id": "e0e0f687-17f3-40b6-8ad1-9f06616a7cd4",
   "metadata": {},
   "outputs": [],
   "source": []
  }
 ],
 "metadata": {
  "kernelspec": {
   "display_name": "Python 3 (ipykernel)",
   "language": "python",
   "name": "python3"
  },
  "language_info": {
   "codemirror_mode": {
    "name": "ipython",
    "version": 3
   },
   "file_extension": ".py",
   "mimetype": "text/x-python",
   "name": "python",
   "nbconvert_exporter": "python",
   "pygments_lexer": "ipython3",
   "version": "3.10.6"
  },
  "toc-autonumbering": false,
  "toc-showcode": false,
  "toc-showmarkdowntxt": false,
  "toc-showtags": false
 },
 "nbformat": 4,
 "nbformat_minor": 5
}
