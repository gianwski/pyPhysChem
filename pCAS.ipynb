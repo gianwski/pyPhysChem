{
 "cells": [
  {
   "cell_type": "code",
   "execution_count": 1,
   "id": "c8f0e76a-d0dc-4db7-8a3e-a642f2fe1b7e",
   "metadata": {},
   "outputs": [
    {
     "name": "stdout",
     "output_type": "stream",
     "text": [
      "/home/romuald/ENSEIGNEMENT/0-JupyterNotebooks/PytChem\n"
     ]
    },
    {
     "data": {
      "text/html": [
       "<style>\n",
       "h1, h2, h3, h4, h5, h6 {\n",
       "  font-family: Verdana, \"DejaVu Sans\", \"Bitstream Vera Sans\", Geneva, sans-serif;\n",
       "  font-weight: bold;\n",
       "}\n",
       "body, ex, exE {\n",
       "  font-family: Verdana, \"DejaVu Sans\", \"Bitstream Vera Sans\", Geneva, sans-serif;\n",
       "  font-weight: 200;\n",
       "}\n",
       "h1 {\n",
       "  border: 0 solid #333;\n",
       "  padding: 30px ;\n",
       "  color: white;\n",
       "  background: #b11d01;\n",
       "  text-align: center;\n",
       "}\n",
       "h2 {\n",
       "  border: 3px solid #333;\n",
       "  padding: 18px ;\n",
       "  color: #b11d01;\n",
       "  background: #ffffff;\n",
       "  text-align: center;\n",
       "}\n",
       "h3 {\n",
       "  border: 0 solid #333;\n",
       "  padding: 12px ;\n",
       "  color: #000000;\n",
       "  background: #c1c1c1;\n",
       "  text-align: left;\n",
       "}\n",
       "h4 {\n",
       "  border: 0 solid #333;\n",
       "  padding: 2px ;\n",
       "  color: #000000;\n",
       "  background: #d9fffc;\n",
       "  text-align: left;\n",
       "}\n",
       "h5 {\n",
       "  border: 1px solid #333;\n",
       "  padding: 2px ;\n",
       "  color: #000000;\n",
       "  background: #ffffff;\n",
       "  text-align: left;\n",
       "}\n",
       ".intro {    \n",
       "    background-color: #f1f1f1;\n",
       "    border-color: #969696;\n",
       "    border-left: 5px solid #969696;\n",
       "    padding: 0.5em;\n",
       "    font-weight: 200;\n",
       "    }\n",
       ".introE {    \n",
       "    background-color: #f1f1f1;\n",
       "    border-color: #969696;\n",
       "    border-left: 5px solid #969696;\n",
       "    padding: 0.5em;\n",
       "    font-weight: 200;\n",
       "    color : #117996;\n",
       "    }\n",
       ".rq {    \n",
       "    background-color: #fcf2f2;\n",
       "    border-color: #dFb5b4;\n",
       "    border-left: 5px solid #dfb5b4;\n",
       "    padding: 0.5em;\n",
       "    font-weight: 200;\n",
       "    }\n",
       ".rqE {    \n",
       "    background-color: #fcf2f2;\n",
       "    border-color: #dFb5b4;\n",
       "    border-left: 5px solid #dfb5b4;\n",
       "    padding: 0.5em;\n",
       "    font-weight: 200;\n",
       "    color : #117996;\n",
       "    }\n",
       ".exold {    \n",
       "    background-color: #b2dbea80;\n",
       "    border-color: #0055ff;\n",
       "    border-left: 10px solid #0055ff;\n",
       "    padding: 0.5em;\n",
       "    font-weight: 200;\n",
       "    }\n",
       ".ex {    \n",
       "    background-color: #b2dbea80;\n",
       "    padding: 0.5em;\n",
       "    padding-top: 0em;\n",
       "    font-weight: 200;\n",
       "    position:relative;\n",
       "    }\n",
       ".ex::before {\n",
       "    background-color: #b2dbea;\n",
       "    content:\"Exercice\";\n",
       "    margin-left:-0.5em;\n",
       "    margin-right:-0.5em;\n",
       "    padding-left:0.5em;\n",
       "    padding-right:0.5em;\n",
       "    font-weight: 600;\n",
       "    display: block;\n",
       "    }\n",
       ".exE {    \n",
       "    background-color: #b2dbea80;\n",
       "    padding: 0.5em;\n",
       "    padding-top: 0em;\n",
       "    font-weight: 200;\n",
       "    position:relative;\n",
       "    color : #117996;\n",
       "    }\n",
       ".exE::before {\n",
       "    background-color: #b2dbea;\n",
       "    content:\"Exercise\";\n",
       "    margin-left:-0.5em;\n",
       "    margin-right:-0.5em;\n",
       "    padding-left:0.5em;\n",
       "    padding-right:0.5em;\n",
       "    font-weight: 600;\n",
       "    display: block;\n",
       "    color : #117996;\n",
       "    }\n",
       ".app {    \n",
       "    background-color: #b2dbea80;\n",
       "    padding: 0.5em;\n",
       "    padding-top: 0em;\n",
       "    font-weight: 200;\n",
       "    position:relative;\n",
       "    }\n",
       ".app::before {\n",
       "    background-color: #b2dbea;\n",
       "    content:\"Application\";\n",
       "    margin-left:-0.5em;\n",
       "    margin-right:-0.5em;\n",
       "    padding-left:0.5em;\n",
       "    padding-right:0.5em;\n",
       "    font-weight: 600;\n",
       "    display: block;\n",
       "    }\n",
       ".appE {    \n",
       "    background-color: #b2dbea80;\n",
       "    padding: 0.5em;\n",
       "    padding-top: 0em;\n",
       "    font-weight: 200;\n",
       "    color : #117996;\n",
       "    position:relative;\n",
       "    }\n",
       ".appE::before {\n",
       "    background-color: #b2dbea;\n",
       "    content:\"Application\";\n",
       "    margin-left:-0.5em;\n",
       "    margin-right:-0.5em;\n",
       "    padding-left:0.5em;\n",
       "    padding-right:0.5em;\n",
       "    font-weight: 600;\n",
       "    color : #117996;\n",
       "    display: block;\n",
       "    }\n",
       ".sol {    \n",
       "    background-color: #bbeab880;\n",
       "    padding: 0.5em;\n",
       "    padding-top: 0em;\n",
       "    font-weight: 200;\n",
       "    position:relative;\n",
       "    }\n",
       ".sol::before {\n",
       "    background-color: #bbeab8;\n",
       "    content:\"Answer\";\n",
       "    margin-left:-0.5em;\n",
       "    margin-right:-0.5em;\n",
       "    padding-left:0.5em;\n",
       "    padding-right:0.5em;\n",
       "    font-weight: 600;\n",
       "    display: block;\n",
       "    }\n",
       "</style>\n"
      ],
      "text/plain": [
       "<IPython.core.display.HTML object>"
      ]
     },
     "metadata": {},
     "output_type": "display_data"
    },
    {
     "data": {
      "text/markdown": [
       "**Start at:** Thursday 31 August 2023, 11:48:26  \n",
       "**Hostname:** insa-12842 (Linux)"
      ],
      "text/plain": [
       "<IPython.core.display.Markdown object>"
      ]
     },
     "metadata": {},
     "output_type": "display_data"
    },
    {
     "data": {
      "text/markdown": [
       "<p style=\"text-align: center\"><img width=\"800px\" src=\"./config/svg/PytChemBanner.svg\" style=\"margin-left:auto; margin-right:auto\"/></p>"
      ],
      "text/plain": [
       "<IPython.core.display.Markdown object>"
      ]
     },
     "metadata": {},
     "output_type": "display_data"
    }
   ],
   "source": [
    "import os\n",
    "import sys\n",
    "\n",
    "print(os.getcwd())\n",
    "cwd0 = './config/'\n",
    "sys.path.append(cwd0)\n",
    "\n",
    "import visualID_Eng as vID\n",
    "from visualID_Eng import color\n",
    "vID.init(cwd0)\n",
    "import tools4PytChem as t4p"
   ]
  },
  {
   "cell_type": "markdown",
   "id": "7da5f784-11d5-4b2a-8f4a-659939ba129d",
   "metadata": {},
   "source": [
    "# Computer Algebra System with Python (pCAS) in a nutshell\n",
    "<div class=\"rq\">\n",
    "\n",
    "This Python computer lab assumes a very basic knowledge of a programming language, algorithm development and a decent mathematical background. Most examples require knowledge lower than a calculus level, and some require knowledge at a calculus level.\n",
    "\n",
    "**To run the content of a Python cell:** click on a cell to select it. Then press SHIFT+ENTER on your keyboard, or press the play button in the top left corner of this window\n",
    "\n",
    "<img src=\"MiscImages/ToolbarJupyterNotebook.svg\" style=\"margin-left:auto; margin-right:auto; display: block; width:300px\" id=\"img_TBJN\" alt=\"Jupyter notebook toolbar\"/>\n",
    "\n",
    "<br>\n",
    "If you click on a text cell by accident, you will see the so-called markdown coding of this cell (it is closely related to the HTML language). The corresponding formatted text/images/tables will be rendered by running the cell (SHIT-ENTER or play button).\n",
    "<br>\n",
    "<br>\n",
    "    \n",
    "**Ready?** Put down your mobile phone &#x1F4F5;, please, and let's enter into the CAS with Python realm. &#x1F451;&#x1F451;\n",
    "\n",
    "</div>"
   ]
  },
  {
   "cell_type": "markdown",
   "id": "1daba2b2-e483-442e-9cce-455d9f7bc71b",
   "metadata": {},
   "source": [
    "## Introduction\n",
    "\n",
    "### What is a Computer Algebra System?\n",
    "\n",
    "<div class=\"intro\">\n",
    "\n",
    "A [computer algebra system (CAS)](https://en.wikipedia.org/wiki/Computer_algebra_system) is a software program that facilitates symbolic mathematics. The core functionality of a CAS is the manipulation of mathematical expressions in symbolic form.\n",
    "\n",
    "For example, a CAS is able to provide the symbolic first derivative of any function, such as $f(x)=3x^2-6x+7$, *i.e.* $df/dx = 6x-6$. \n",
    "\n",
    "The main functionalities of a CAS software are:\n",
    "- Automatic simplification of regular expressions, including those expressed with variables *x*, *y*, *t*, ...\n",
    "- Partial and total differentiation\n",
    "- Integral calculation\n",
    "- Solution of linear equations\n",
    "- Manipulation of series\n",
    "- Matrix operations\n",
    "- Numeric operations with arbitrary-precision\n",
    "- Plotting graphs of functions written in symbolic form\n",
    "- ...\n",
    "\n",
    "</div>"
   ]
  },
  {
   "cell_type": "markdown",
   "id": "aed8d860-98d5-45a4-8917-e8938a6c5a82",
   "metadata": {},
   "source": [
    "### Why CAS with Python?\n",
    "\n",
    "<div class=\"intro\">\n",
    "\n",
    "If you already know Python, it is much easier to get started with a python CAS library, because you already know the syntax -- and if you don’t know Python, it is really easy to learn. Moreover, we will see later that it is possible to mix symbolic algebra with numerical approaches, using the numerous python libraries for scientific applications. \n",
    "\n",
    "</div>"
   ]
  },
  {
   "cell_type": "markdown",
   "id": "58f89479-1b05-4286-afd0-35c9f930b025",
   "metadata": {},
   "source": [
    "### Which pCAS library?\n",
    "\n",
    "<div class=\"intro\">\n",
    "    \n",
    "<img src=\"./MiscImages/sympylogo.png\" alt=\"sympy logo\" width=150px/>\n",
    "     \n",
    "We will use SymPy. It is a Python library for symbolic mathematics which aims is to become a full-featured computer algebra system (CAS) while keeping the code as simple as possible in order to be comprehensible and easily extensible. It is written entirely in Python. It can compete directly with commercial alternatives such as Mathematica.\n",
    "\n",
    "Let's cite the conclusion of the seminal SymPy article (Meurer A *et al.* (**2017**) SymPy: symbolic computing in Python. *PeerJ Computer Science* **3**: e103, [link](https://doi.org/10.7717/peerj-cs.103)):\n",
    "\n",
    "*`Sympy` include functions for assuming and deducing common mathematical facts, simplifying expressions, performing common calculus operations, manipulating polynomials, pretty printing expressions, solving equations, and representing **symbolic matrices**. Other supported facilities include discrete math, concrete math, plotting, geometry, statistics, sets, series, **vectors**, combinatorics, **group theory**, code generation, **tensors**, Lie algebras, cryptography, and special functions. SymPy has strong support for arbitrary precision numerics, backed by the `mpmath` package. Additionally, SymPy contains submodules targeting certain specific physics domains, such as classical mechanics and **quantum mechanics**.*\n",
    "\n",
    "</div>"
   ]
  },
  {
   "cell_type": "markdown",
   "id": "f99fb270-ddf9-42b2-bbc6-5f606bcd988b",
   "metadata": {},
   "source": [
    "### Introductory examples\n",
    "\n",
    "<div class=\"rq\">\n",
    "\n",
    "A large part of this section is a copy-paste of the tutorial available on the [SymPy website](https://docs.sympy.org/latest/tutorials/intro-tutorial/intro.html#what-is-symbolic-computation), converted into a jupyter notebook.\n",
    "\n",
    "</div>\n",
    "\n",
    "#### What is Symbolic Computation?\n",
    "\n",
    "<div class=\"intro\">\n",
    "\n",
    "Symbolic computation deals with the computation of mathematical objects symbolically. This means that the mathematical objects are represented exactly, not approximately, and mathematical expressions with unevaluated variables are left in symbolic form.\n",
    "\n",
    "Let’s take an example. Say we wanted to use the built-in Python functions to compute square roots. We might do something like this:\n",
    "\n",
    "</div>"
   ]
  },
  {
   "cell_type": "code",
   "execution_count": 2,
   "id": "3c48d408-9515-4e73-bbc5-557dd8f13e92",
   "metadata": {},
   "outputs": [
    {
     "data": {
      "text/plain": [
       "3.0"
      ]
     },
     "execution_count": 2,
     "metadata": {},
     "output_type": "execute_result"
    }
   ],
   "source": [
    "import math\n",
    "math.sqrt(9)"
   ]
  },
  {
   "cell_type": "markdown",
   "id": "873a6e92-9414-43b3-aeb7-56f6a549a5fc",
   "metadata": {},
   "source": [
    "<div class=\"intro\">\n",
    "\n",
    "9 is a perfect square, so we got the exact answer, 3. But suppose we computed the square root of a number that isn’t a perfect square\n",
    "\n",
    "</div>"
   ]
  },
  {
   "cell_type": "code",
   "execution_count": 3,
   "id": "32825b36-50ad-4f78-9cca-d52bbe02b213",
   "metadata": {},
   "outputs": [
    {
     "data": {
      "text/plain": [
       "2.8284271247461903"
      ]
     },
     "execution_count": 3,
     "metadata": {},
     "output_type": "execute_result"
    }
   ],
   "source": [
    "math.sqrt(8)"
   ]
  },
  {
   "cell_type": "markdown",
   "id": "36350ffb-f40c-42d1-8348-d1ef32cb3398",
   "metadata": {},
   "source": [
    "<div class=\"intro\">\n",
    "\n",
    "Here we got an approximate result. 2.82842712475 is not the exact square root of 8 (indeed, the actual square root of 8 cannot be represented by a finite decimal, since it is an irrational number). If all we cared about was the decimal form of the square root of 8, we would be done.\n",
    "\n",
    "But suppose we want to go further. Recall that $\\sqrt{8}=2\\sqrt{2}$. We would have a hard time deducing this from the above result. This is where symbolic computation comes in. With a symbolic computation system like SymPy, square roots of numbers that are not perfect squares are left unevaluated by default\n",
    "\n",
    "</div>"
   ]
  },
  {
   "cell_type": "code",
   "execution_count": 4,
   "id": "6d599e02-fabd-4967-aecc-e6f751358ff1",
   "metadata": {},
   "outputs": [
    {
     "data": {
      "text/latex": [
       "$\\displaystyle \\sqrt{3}$"
      ],
      "text/plain": [
       "sqrt(3)"
      ]
     },
     "execution_count": 4,
     "metadata": {},
     "output_type": "execute_result"
    }
   ],
   "source": [
    "import sympy\n",
    "sympy.sqrt(3)"
   ]
  },
  {
   "cell_type": "markdown",
   "id": "7b772d3c-5a37-46bd-81b0-a68b88c5f9cc",
   "metadata": {},
   "source": [
    "<div class=\"intro\">\n",
    "\n",
    "Furthermore — and this is where we start to see the real power of symbolic computation — symbolic results can be symbolically simplified.\n",
    "\n",
    "</div>"
   ]
  },
  {
   "cell_type": "code",
   "execution_count": 5,
   "id": "d3475e15-ef0b-40d6-a35b-d7c5fcd91ad7",
   "metadata": {},
   "outputs": [
    {
     "data": {
      "text/latex": [
       "$\\displaystyle 2 \\sqrt{2}$"
      ],
      "text/plain": [
       "2*sqrt(2)"
      ]
     },
     "execution_count": 5,
     "metadata": {},
     "output_type": "execute_result"
    }
   ],
   "source": [
    "sympy.sqrt(8)"
   ]
  },
  {
   "cell_type": "markdown",
   "id": "5cacdbb3-01dd-4672-840c-24a8080df5a9",
   "metadata": {},
   "source": [
    "<div class=\"rq\">\n",
    "\n",
    "Before going further, let's get rid of the \"*last-operation-show-up*\" behavior with Jupyter notebooks.\n",
    "\n",
    "</div>"
   ]
  },
  {
   "cell_type": "code",
   "execution_count": 6,
   "id": "7aea2f4d-07ef-4f10-89c5-38e2040a1759",
   "metadata": {},
   "outputs": [],
   "source": [
    "from IPython.core.interactiveshell import InteractiveShell\n",
    "InteractiveShell.ast_node_interactivity = \"all\""
   ]
  },
  {
   "cell_type": "markdown",
   "id": "fc8d7ccd-ecf2-49a4-a0fa-41cc9bab5f57",
   "metadata": {},
   "source": [
    "#### A More Interesting Example\n",
    "\n",
    "<div class=\"intro\">\n",
    "\n",
    "Symbolic computation systems, also often called computer algebra systems such as SymPy are capable of computing symbolic expressions with variables.\n",
    "\n",
    "As we will see later, in SymPy, variables are defined using symbols. Unlike many symbolic manipulation systems, variables in SymPy must be defined before they are used.\n",
    "\n",
    "Let us define a symbolic expression, representing the mathematical expression $x+2y$\n",
    "\n",
    "</div>"
   ]
  },
  {
   "cell_type": "code",
   "execution_count": 7,
   "id": "9ded9f7d-03de-4427-8af5-29b475c6f092",
   "metadata": {},
   "outputs": [
    {
     "data": {
      "text/latex": [
       "$\\displaystyle x + 2 y$"
      ],
      "text/plain": [
       "x + 2*y"
      ]
     },
     "execution_count": 7,
     "metadata": {},
     "output_type": "execute_result"
    }
   ],
   "source": [
    "import sympy as sym\n",
    "x, y = sym.symbols('x y')\n",
    "expr = x + 2*y\n",
    "expr"
   ]
  },
  {
   "cell_type": "markdown",
   "id": "4cf82ad5-00f5-4b43-80b6-88dd2a967d59",
   "metadata": {},
   "source": [
    "<div class=\"intro\">\n",
    "\n",
    "Note that we wrote *x* + 2\\**y* just as we would if *x* and *y* were ordinary Python variables. But in this case, instead of evaluating to something, the expression remains as just *x* + 2\\**y*. Now let us play around with it:\n",
    "\n",
    "</div>"
   ]
  },
  {
   "cell_type": "code",
   "execution_count": 8,
   "id": "e11fa357-07dc-43a0-a739-26f60b9580df",
   "metadata": {},
   "outputs": [
    {
     "data": {
      "text/latex": [
       "$\\displaystyle x + 2 y + 1$"
      ],
      "text/plain": [
       "x + 2*y + 1"
      ]
     },
     "execution_count": 8,
     "metadata": {},
     "output_type": "execute_result"
    },
    {
     "data": {
      "text/latex": [
       "$\\displaystyle 2 y$"
      ],
      "text/plain": [
       "2*y"
      ]
     },
     "execution_count": 8,
     "metadata": {},
     "output_type": "execute_result"
    }
   ],
   "source": [
    "expr + 1\n",
    "expr - x"
   ]
  },
  {
   "cell_type": "markdown",
   "id": "5419bdb5-234b-4807-996d-9eb8906982ac",
   "metadata": {},
   "source": [
    "<div class=\"intro\">\n",
    "\n",
    "Notice something in the above example. When we typed `expr - x`, we did not get $x + 2y - x$, but rather just $2*y$. The *x* and the -*x* automatically canceled one another. This is similar to how `sqrt(8)` automatically turned into $2\\sqrt{2}$ above. This isn’t always the case in SymPy, however:\n",
    "\n",
    "</div>"
   ]
  },
  {
   "cell_type": "code",
   "execution_count": 9,
   "id": "63afbc07-7145-4eac-ab27-82f5da42f549",
   "metadata": {},
   "outputs": [
    {
     "data": {
      "text/latex": [
       "$\\displaystyle x \\left(x + 2 y\\right)$"
      ],
      "text/plain": [
       "x*(x + 2*y)"
      ]
     },
     "execution_count": 9,
     "metadata": {},
     "output_type": "execute_result"
    }
   ],
   "source": [
    "x*expr"
   ]
  },
  {
   "cell_type": "markdown",
   "id": "516f1390-8ea6-4adc-879c-bab3a39bd7b6",
   "metadata": {},
   "source": [
    "<div class=\"intro\">\n",
    "\n",
    "Here, we might have expected $x(x+2y)$ to transform into $x^2 + 2xy$, but instead we see that the expression was left alone. This is a common theme in SymPy. Aside from obvious simplifications like $x-x=0$ and $\\sqrt{8} = 2\\sqrt{2}$, most simplifications are not performed automatically. This is because we might prefer the factored form $x(x+2y)$, or we might prefer the expanded form $x^2 + 2xy$. Both forms are useful in different circumstances. In SymPy, there are functions to go from one form to the other:\n",
    "\n",
    "</div>"
   ]
  },
  {
   "cell_type": "code",
   "execution_count": 10,
   "id": "9cb4221c-6739-44a8-839e-69833ec1c0d5",
   "metadata": {},
   "outputs": [
    {
     "data": {
      "text/latex": [
       "$\\displaystyle x^{2} + 2 x y$"
      ],
      "text/plain": [
       "x**2 + 2*x*y"
      ]
     },
     "execution_count": 10,
     "metadata": {},
     "output_type": "execute_result"
    },
    {
     "data": {
      "text/latex": [
       "$\\displaystyle x \\left(x + 2 y\\right)$"
      ],
      "text/plain": [
       "x*(x + 2*y)"
      ]
     },
     "execution_count": 10,
     "metadata": {},
     "output_type": "execute_result"
    }
   ],
   "source": [
    "expanded_expr = sym.expand(x*expr)\n",
    "expanded_expr\n",
    "sym.factor(expanded_expr)"
   ]
  },
  {
   "cell_type": "markdown",
   "id": "799b67de-b541-443e-94fd-d8e419428972",
   "metadata": {},
   "source": [
    "### The Power of Symbolic Computation\n",
    "\n",
    "<div class=\"intro\">\n",
    "\n",
    "The real power of a symbolic computation system such as SymPy is the ability to do all sorts of computations symbolically. SymPy can simplify expressions, compute derivatives, integrals, and limits, solve equations, work with matrices, and much, much more, and do it all symbolically. It includes modules for plotting, printing (like 2D pretty printed output of math formulas, or $\\mathrm{\\LaTeX}$), code generation, physics, statistics, combinatorics, number theory, geometry, logic, and more. Here is a small sampling of the sort of symbolic power SymPy is capable of, to whet your appetite\n",
    "\n",
    "</div>"
   ]
  },
  {
   "cell_type": "markdown",
   "id": "68758b52-0858-4679-b82c-e6ef0c562f11",
   "metadata": {},
   "source": [
    "<div class=\"rq\">\n",
    "\n",
    "The next command will make all further examples pretty print with unicode characters.\n",
    "\n",
    "</div>"
   ]
  },
  {
   "cell_type": "code",
   "execution_count": 11,
   "id": "e7d26cfe-121f-4f25-b3de-a53e662cfad5",
   "metadata": {},
   "outputs": [],
   "source": [
    "sym.init_printing(use_unicode=True)"
   ]
  },
  {
   "cell_type": "markdown",
   "id": "ce61eb16-afe6-4083-94c2-9cfa6345cec8",
   "metadata": {},
   "source": [
    "#### Variable declaration\n",
    "\n",
    "<div class=\"intro\">\n",
    "    \n",
    "In Python, variables have no meaning until they are defined. SymPy is no different. Unlike many symbolic manipulation systems you may have used, in SymPy, variables are not defined automatically. To define variables, we must use [symbols](https://docs.sympy.org/latest/tutorials/intro-tutorial/gotchas.html#symbols)\n",
    "\n",
    "</div>"
   ]
  },
  {
   "cell_type": "code",
   "execution_count": 12,
   "id": "6d077813-5a63-4720-9b61-d3d1f2cf9bfa",
   "metadata": {},
   "outputs": [
    {
     "data": {
      "image/png": "[encoded data removed]",
      "text/latex": [
       "$\\displaystyle \\left( x, \\  t, \\  z, \\  \\omega\\right)$"
      ],
      "text/plain": [
       "(x, t, z, ω)"
      ]
     },
     "execution_count": 12,
     "metadata": {},
     "output_type": "execute_result"
    }
   ],
   "source": [
    "x, t, z, omega = sym.symbols('x t z omega')\n",
    "x, t, z, omega"
   ]
  },
  {
   "cell_type": "markdown",
   "id": "7b53dd98-8b3f-404a-ae20-73ebf450366c",
   "metadata": {},
   "source": [
    "#### Substitution of variables by numbers or expressions\n",
    "\n",
    "<div class=\"intro\">\n",
    "    \n",
    "It is possible to substitute all instances of a variable or expression in a mathematical expression with some other variable or expression or value\n",
    "\n",
    "</div>"
   ]
  },
  {
   "cell_type": "code",
   "execution_count": 13,
   "id": "326464ed-6254-453b-853d-b4e227fa8f11",
   "metadata": {},
   "outputs": [
    {
     "data": {
      "image/png": "[encoded data removed]",
      "text/latex": [
       "$\\displaystyle x^{2} + 2 y$"
      ],
      "text/plain": [
       " 2      \n",
       "x  + 2⋅y"
      ]
     },
     "execution_count": 13,
     "metadata": {},
     "output_type": "execute_result"
    },
    {
     "data": {
      "image/png": "[encoded data removed]",
      "text/latex": [
       "$\\displaystyle 140$"
      ],
      "text/plain": [
       "140"
      ]
     },
     "execution_count": 13,
     "metadata": {},
     "output_type": "execute_result"
    },
    {
     "data": {
      "image/png": "[encoded data removed]",
      "text/latex": [
       "$\\displaystyle x^{2} + 2 y$"
      ],
      "text/plain": [
       " 2      \n",
       "x  + 2⋅y"
      ]
     },
     "execution_count": 13,
     "metadata": {},
     "output_type": "execute_result"
    }
   ],
   "source": [
    "x,y = sym.symbols('x y')\n",
    "f1 = x**2 + 2*y\n",
    "f1\n",
    "f1.subs({x:10, y: 20})\n",
    "f1"
   ]
  },
  {
   "cell_type": "code",
   "execution_count": 14,
   "id": "660f3a0f-8086-4766-82b0-7c077b7475c9",
   "metadata": {},
   "outputs": [
    {
     "data": {
      "image/png": "[encoded data removed]",
      "text/latex": [
       "$\\displaystyle X^{2} + X + 10$"
      ],
      "text/plain": [
       " 2         \n",
       "X  + X + 10"
      ]
     },
     "execution_count": 14,
     "metadata": {},
     "output_type": "execute_result"
    }
   ],
   "source": [
    "f2 = x**4 + x**2 + 10\n",
    "X = sym.symbols('X')\n",
    "f2.subs({x:sym.sqrt(X)})"
   ]
  },
  {
   "cell_type": "markdown",
   "id": "58f88754-18ef-4a6f-ba52-7ef22c026258",
   "metadata": {},
   "source": [
    "#### Complex numbers"
   ]
  },
  {
   "cell_type": "code",
   "execution_count": 15,
   "id": "3c9bfe21-5c5f-4318-b8f3-9c768954cf7d",
   "metadata": {},
   "outputs": [
    {
     "data": {
      "image/png": "[encoded data removed]",
      "text/latex": [
       "$\\displaystyle 1 + \\sqrt{3} i$"
      ],
      "text/plain": [
       "1 + √3⋅ⅈ"
      ]
     },
     "execution_count": 15,
     "metadata": {},
     "output_type": "execute_result"
    },
    {
     "data": {
      "image/png": "[encoded data removed]",
      "text/latex": [
       "$\\displaystyle \\sqrt{3}$"
      ],
      "text/plain": [
       "√3"
      ]
     },
     "execution_count": 15,
     "metadata": {},
     "output_type": "execute_result"
    },
    {
     "data": {
      "image/png": "[encoded data removed]",
      "text/latex": [
       "$\\displaystyle 1$"
      ],
      "text/plain": [
       "1"
      ]
     },
     "execution_count": 15,
     "metadata": {},
     "output_type": "execute_result"
    },
    {
     "data": {
      "image/png": "[encoded data removed]",
      "text/latex": [
       "$\\displaystyle 1 - \\sqrt{3} i$"
      ],
      "text/plain": [
       "1 - √3⋅ⅈ"
      ]
     },
     "execution_count": 15,
     "metadata": {},
     "output_type": "execute_result"
    },
    {
     "data": {
      "image/png": "[encoded data removed]",
      "text/latex": [
       "$\\displaystyle 4$"
      ],
      "text/plain": [
       "4"
      ]
     },
     "execution_count": 15,
     "metadata": {},
     "output_type": "execute_result"
    },
    {
     "data": {
      "image/png": "[encoded data removed]",
      "text/latex": [
       "$\\displaystyle \\frac{\\pi}{3}$"
      ],
      "text/plain": [
       "π\n",
       "─\n",
       "3"
      ]
     },
     "execution_count": 15,
     "metadata": {},
     "output_type": "execute_result"
    }
   ],
   "source": [
    "c=1+sym.sqrt(3)*sym.I\n",
    "c\n",
    "sym.im(c)\n",
    "sym.re(c)\n",
    "c.conjugate()\n",
    "sym.simplify(c.conjugate()*c)\n",
    "sym.arg(c)"
   ]
  },
  {
   "cell_type": "markdown",
   "id": "f302ebe1-4392-4da5-bff2-979a4c6f06ef",
   "metadata": {},
   "source": [
    "#### Trigonometry\n",
    "\n",
    "\n",
    "<div class=\"rq\">\n",
    "    \n",
    "!! don't forget to use the `sin` and `exp` functions of SymPy\n",
    "\n",
    "</div>"
   ]
  },
  {
   "cell_type": "code",
   "execution_count": 16,
   "id": "01ec3370-fdb5-4fb1-9b7d-bfd3629d4f41",
   "metadata": {},
   "outputs": [
    {
     "data": {
      "image/png": "[encoded data removed]",
      "text/latex": [
       "$\\displaystyle - \\sin^{2}{\\left(x \\right)} + \\cos^{2}{\\left(x \\right)}$"
      ],
      "text/plain": [
       "     2         2   \n",
       "- sin (x) + cos (x)"
      ]
     },
     "execution_count": 16,
     "metadata": {},
     "output_type": "execute_result"
    },
    {
     "data": {
      "image/png": "[encoded data removed]",
      "text/latex": [
       "$\\displaystyle \\cos{\\left(2 x \\right)}$"
      ],
      "text/plain": [
       "cos(2⋅x)"
      ]
     },
     "execution_count": 16,
     "metadata": {},
     "output_type": "execute_result"
    }
   ],
   "source": [
    "f3 = sym.cos(x)**2 - sym.sin(x)**2\n",
    "f3\n",
    "sym.simplify(f3)"
   ]
  },
  {
   "cell_type": "markdown",
   "id": "2374bbd3-5512-404b-876f-6b1a2a7927a5",
   "metadata": {},
   "source": [
    "#### Integrals and derivatives"
   ]
  },
  {
   "cell_type": "markdown",
   "id": "2214cbaf-9416-499d-a156-50b34dc1029a",
   "metadata": {},
   "source": [
    "<div class=\"intro\">\n",
    "\n",
    "Take the first derivative of $F_1(t) = \\sin{(\\omega t)}e^{-t}$\n",
    "\n",
    "</div>"
   ]
  },
  {
   "cell_type": "code",
   "execution_count": 17,
   "id": "36452142-09a3-4a9c-8d1d-3ee7073f6879",
   "metadata": {},
   "outputs": [
    {
     "data": {
      "image/png": "[encoded data removed]",
      "text/latex": [
       "$\\displaystyle e^{- t} \\sin{\\left(\\omega t \\right)}$"
      ],
      "text/plain": [
       " -t         \n",
       "ℯ  ⋅sin(ω⋅t)"
      ]
     },
     "execution_count": 17,
     "metadata": {},
     "output_type": "execute_result"
    },
    {
     "data": {
      "image/png": "[encoded data removed]",
      "text/latex": [
       "$\\displaystyle \\omega e^{- t} \\cos{\\left(\\omega t \\right)} - e^{- t} \\sin{\\left(\\omega t \\right)}$"
      ],
      "text/plain": [
       "   -t             -t         \n",
       "ω⋅ℯ  ⋅cos(ω⋅t) - ℯ  ⋅sin(ω⋅t)"
      ]
     },
     "execution_count": 17,
     "metadata": {},
     "output_type": "execute_result"
    }
   ],
   "source": [
    "F1 = sym.sin(omega*t)*sym.exp(-t)\n",
    "F1\n",
    "sym.diff(F1, t)"
   ]
  },
  {
   "cell_type": "markdown",
   "id": "6711e659-c6cf-4056-ae04-6b736b81fb32",
   "metadata": {},
   "source": [
    "<div class=\"intro\">\n",
    "\n",
    "Find $F_4(x)$, the primitive of  $f_4(x)=\\cos(2x)$ and then compute the integral of $f_4$ in the [0,$\\pi/4$] interval\n",
    "\n",
    "Then check that the first derivative of $F_4(x)$ yields $f_4(x)$ \n",
    "\n",
    "</div>"
   ]
  },
  {
   "cell_type": "code",
   "execution_count": 18,
   "id": "9abbb5ab-ec8d-4f67-a0f3-45bb071e8545",
   "metadata": {},
   "outputs": [
    {
     "data": {
      "image/png": "[encoded data removed]",
      "text/latex": [
       "$\\displaystyle \\frac{\\sin{\\left(2 x \\right)}}{2}$"
      ],
      "text/plain": [
       "sin(2⋅x)\n",
       "────────\n",
       "   2    "
      ]
     },
     "execution_count": 18,
     "metadata": {},
     "output_type": "execute_result"
    },
    {
     "data": {
      "image/png": "[encoded data removed]",
      "text/latex": [
       "$\\displaystyle \\frac{1}{2}$"
      ],
      "text/plain": [
       "1/2"
      ]
     },
     "execution_count": 18,
     "metadata": {},
     "output_type": "execute_result"
    },
    {
     "data": {
      "image/png": "[encoded data removed]",
      "text/latex": [
       "$\\displaystyle \\cos{\\left(2 x \\right)}$"
      ],
      "text/plain": [
       "cos(2⋅x)"
      ]
     },
     "execution_count": 18,
     "metadata": {},
     "output_type": "execute_result"
    }
   ],
   "source": [
    "f4 = sym.cos(2*x)\n",
    "F4 = sym.integrate(f4,x)\n",
    "F4\n",
    "sym.integrate(f4,(x,0,sym.pi/4))\n",
    "sym.diff(F4,x)"
   ]
  },
  {
   "cell_type": "markdown",
   "id": "5a565234-e621-4e56-9a50-462b6fd525a9",
   "metadata": {},
   "source": [
    "<div class=\"intro\">\n",
    "\n",
    "Compute the integral of $f_5(x) = \\omega e^{- t} \\cos{\\left(\\omega t \\right)} - e^{- t} \\sin{\\left(\\omega t \\right)}$\n",
    "\n",
    "</div>"
   ]
  },
  {
   "cell_type": "code",
   "execution_count": 19,
   "id": "0bf253e3-1fe7-4bee-ac84-cf630a03a34c",
   "metadata": {},
   "outputs": [
    {
     "data": {
      "image/png": "[encoded data removed]",
      "text/latex": [
       "$\\displaystyle \\omega e^{- t} \\cos{\\left(\\omega t \\right)} - e^{- t} \\sin{\\left(\\omega t \\right)}$"
      ],
      "text/plain": [
       "   -t             -t         \n",
       "ω⋅ℯ  ⋅cos(ω⋅t) - ℯ  ⋅sin(ω⋅t)"
      ]
     },
     "execution_count": 19,
     "metadata": {},
     "output_type": "execute_result"
    },
    {
     "data": {
      "image/png": "[encoded data removed]",
      "text/latex": [
       "$\\displaystyle \\omega \\left(\\begin{cases} \\frac{t e^{- t} \\sinh{\\left(t \\right)}}{2} + \\frac{t e^{- t} \\cosh{\\left(t \\right)}}{2} - \\frac{e^{- t} \\cosh{\\left(t \\right)}}{2} & \\text{for}\\: \\omega = - i \\vee \\omega = i \\\\\\frac{\\omega \\sin{\\left(\\omega t \\right)}}{\\omega^{2} e^{t} + e^{t}} - \\frac{\\cos{\\left(\\omega t \\right)}}{\\omega^{2} e^{t} + e^{t}} & \\text{otherwise} \\end{cases}\\right) - \\begin{cases} - i \\left(\\frac{t e^{- t} \\sinh{\\left(t \\right)}}{2} + \\frac{t e^{- t} \\cosh{\\left(t \\right)}}{2} + \\frac{e^{- t} \\cosh{\\left(t \\right)}}{2}\\right) & \\text{for}\\: \\omega = - i \\\\i \\left(\\frac{t e^{- t} \\sinh{\\left(t \\right)}}{2} + \\frac{t e^{- t} \\cosh{\\left(t \\right)}}{2} + \\frac{e^{- t} \\cosh{\\left(t \\right)}}{2}\\right) & \\text{for}\\: \\omega = i \\\\- \\frac{\\omega \\cos{\\left(\\omega t \\right)}}{\\omega^{2} e^{t} + e^{t}} - \\frac{\\sin{\\left(\\omega t \\right)}}{\\omega^{2} e^{t} + e^{t}} & \\text{otherwise} \\end{cases}$"
      ],
      "text/plain": [
       "                                                                       ⎛⎧   ⎛ \n",
       "                                                                       ⎜⎪   ⎜t\n",
       "                                                                       ⎜⎪-ⅈ⋅⎜─\n",
       "  ⎛⎧   -t              -t            -t                            ⎞   ⎜⎪   ⎝ \n",
       "  ⎜⎪t⋅ℯ  ⋅sinh(t)   t⋅ℯ  ⋅cosh(t)   ℯ  ⋅cosh(t)                    ⎟   ⎜⎪     \n",
       "  ⎜⎪───────────── + ───────────── - ───────────  for ω = -ⅈ ∨ ω = ⅈ⎟   ⎜⎪  ⎛  \n",
       "  ⎜⎪      2               2              2                         ⎟   ⎜⎪  ⎜t⋅\n",
       "ω⋅⎜⎨                                                               ⎟ - ⎜⎨ⅈ⋅⎜──\n",
       "  ⎜⎪          ω⋅sin(ω⋅t)    cos(ω⋅t)                               ⎟   ⎜⎪  ⎝  \n",
       "  ⎜⎪          ────────── - ──────────                otherwise     ⎟   ⎜⎪     \n",
       "  ⎜⎪           2  t    t    2  t    t                              ⎟   ⎜⎪     \n",
       "  ⎝⎩          ω ⋅ℯ  + ℯ    ω ⋅ℯ  + ℯ                               ⎠   ⎜⎪     \n",
       "                                                                       ⎜⎪     \n",
       "                                                                       ⎜⎪     \n",
       "                                                                       ⎝⎩     \n",
       "\n",
       "  -t              -t            -t        ⎞            ⎞\n",
       "⋅ℯ  ⋅sinh(t)   t⋅ℯ  ⋅cosh(t)   ℯ  ⋅cosh(t)⎟            ⎟\n",
       "──────────── + ───────────── + ───────────⎟  for ω = -ⅈ⎟\n",
       "     2               2              2     ⎠            ⎟\n",
       "                                                       ⎟\n",
       " -t              -t            -t        ⎞             ⎟\n",
       "ℯ  ⋅sinh(t)   t⋅ℯ  ⋅cosh(t)   ℯ  ⋅cosh(t)⎟             ⎟\n",
       "─────────── + ───────────── + ───────────⎟   for ω = ⅈ ⎟\n",
       "    2               2              2     ⎠             ⎟\n",
       "                                                       ⎟\n",
       "        ω⋅cos(ω⋅t)    sin(ω⋅t)                         ⎟\n",
       "      - ────────── - ──────────              otherwise ⎟\n",
       "         2  t    t    2  t    t                        ⎟\n",
       "        ω ⋅ℯ  + ℯ    ω ⋅ℯ  + ℯ                         ⎟\n",
       "                                                       ⎠"
      ]
     },
     "execution_count": 19,
     "metadata": {},
     "output_type": "execute_result"
    }
   ],
   "source": [
    "f5 = omega*sym.exp(-t)*sym.cos(omega*t)-sym.exp(-t)*sym.sin(omega*t)\n",
    "f5\n",
    "F5 = sym.integrate(f5,t)\n",
    "F5"
   ]
  },
  {
   "cell_type": "markdown",
   "id": "22d77389-ffbe-4e8f-97f1-0e50a1779cc5",
   "metadata": {},
   "source": [
    "<div class=\"rq\">\n",
    "\n",
    "The integral has nothing to do with the expected result, *i.e.* $\\sin{(\\omega t)}e^{-t}$\n",
    "\n",
    "**Why?** because we have forgotten to assume that $\\omega$ is a positive variable\n",
    "\n",
    "Let's run again the whole process after the proper initialization for $\\omega$\n",
    "\n",
    "</div>"
   ]
  },
  {
   "cell_type": "code",
   "execution_count": 20,
   "id": "bf0d243d-8af8-49a6-b42f-e38c927bb05d",
   "metadata": {},
   "outputs": [
    {
     "data": {
      "image/png": "[encoded data removed]",
      "text/latex": [
       "$\\displaystyle \\left( x, \\  t, \\  z, \\  \\omega\\right)$"
      ],
      "text/plain": [
       "(x, t, z, ω)"
      ]
     },
     "execution_count": 20,
     "metadata": {},
     "output_type": "execute_result"
    },
    {
     "data": {
      "image/png": "[encoded data removed]",
      "text/latex": [
       "$\\displaystyle \\omega e^{- t} \\cos{\\left(\\omega t \\right)} - e^{- t} \\sin{\\left(\\omega t \\right)}$"
      ],
      "text/plain": [
       "   -t             -t         \n",
       "ω⋅ℯ  ⋅cos(ω⋅t) - ℯ  ⋅sin(ω⋅t)"
      ]
     },
     "execution_count": 20,
     "metadata": {},
     "output_type": "execute_result"
    },
    {
     "data": {
      "image/png": "[encoded data removed]",
      "text/latex": [
       "$\\displaystyle \\omega \\left(\\frac{\\omega \\sin{\\left(\\omega t \\right)}}{\\omega^{2} e^{t} + e^{t}} - \\frac{\\cos{\\left(\\omega t \\right)}}{\\omega^{2} e^{t} + e^{t}}\\right) + \\frac{\\omega \\cos{\\left(\\omega t \\right)}}{\\omega^{2} e^{t} + e^{t}} + \\frac{\\sin{\\left(\\omega t \\right)}}{\\omega^{2} e^{t} + e^{t}}$"
      ],
      "text/plain": [
       "  ⎛ω⋅sin(ω⋅t)    cos(ω⋅t) ⎞   ω⋅cos(ω⋅t)    sin(ω⋅t) \n",
       "ω⋅⎜────────── - ──────────⎟ + ────────── + ──────────\n",
       "  ⎜ 2  t    t    2  t    t⎟    2  t    t    2  t    t\n",
       "  ⎝ω ⋅ℯ  + ℯ    ω ⋅ℯ  + ℯ ⎠   ω ⋅ℯ  + ℯ    ω ⋅ℯ  + ℯ "
      ]
     },
     "execution_count": 20,
     "metadata": {},
     "output_type": "execute_result"
    },
    {
     "data": {
      "image/png": "[encoded data removed]",
      "text/latex": [
       "$\\displaystyle e^{- t} \\sin{\\left(\\omega t \\right)}$"
      ],
      "text/plain": [
       " -t         \n",
       "ℯ  ⋅sin(ω⋅t)"
      ]
     },
     "execution_count": 20,
     "metadata": {},
     "output_type": "execute_result"
    }
   ],
   "source": [
    "x, t, z = sym.symbols('x t z')\n",
    "omega = sym.symbols('omega',positive=True)\n",
    "x, t, z, omega\n",
    "f5 = omega*sym.exp(-t)*sym.cos(omega*t)-sym.exp(-t)*sym.sin(omega*t)\n",
    "f5\n",
    "F5 = sym.integrate(f5,t)\n",
    "F5\n",
    "sym.simplify(F5)"
   ]
  },
  {
   "cell_type": "markdown",
   "id": "ba98a057-5fb4-44db-afef-f8affc8d0979",
   "metadata": {},
   "source": [
    "<div class=\"intro\">\n",
    "\n",
    "Compute $\\int_{-\\infty}^\\infty \\sin{(x^2)}\\,dx$\n",
    "\n",
    "</div>"
   ]
  },
  {
   "cell_type": "code",
   "execution_count": 21,
   "id": "94ce38e2-19db-4968-858f-4af0c8be6b33",
   "metadata": {},
   "outputs": [
    {
     "data": {
      "image/png": "[encoded data removed]",
      "text/latex": [
       "$\\displaystyle \\frac{\\sqrt{2} \\sqrt{\\pi}}{2}$"
      ],
      "text/plain": [
       "√2⋅√π\n",
       "─────\n",
       "  2  "
      ]
     },
     "execution_count": 21,
     "metadata": {},
     "output_type": "execute_result"
    }
   ],
   "source": [
    "sym.integrate(sym.sin(x**2), (x, -sym.oo, sym.oo))"
   ]
  },
  {
   "cell_type": "markdown",
   "id": "2d64acf6-9612-4fbb-ab57-b0ddf80c8431",
   "metadata": {},
   "source": [
    "#### Solvers"
   ]
  },
  {
   "cell_type": "markdown",
   "id": "fe817511-1e28-4e2b-8088-fb58906b84c0",
   "metadata": {},
   "source": [
    "<div class=\"intro\">\n",
    "\n",
    "Solve $x^2-2=0$ and $x^2+2=0$\n",
    "\n",
    "</div>"
   ]
  },
  {
   "cell_type": "code",
   "execution_count": 22,
   "id": "6a88672a-7f84-4c4c-8c28-7022dd3ddec4",
   "metadata": {},
   "outputs": [
    {
     "data": {
      "image/png": "[encoded data removed]",
      "text/latex": [
       "$\\displaystyle \\left[ - \\sqrt{2}, \\  \\sqrt{2}\\right]$"
      ],
      "text/plain": [
       "[-√2, √2]"
      ]
     },
     "execution_count": 22,
     "metadata": {},
     "output_type": "execute_result"
    },
    {
     "data": {
      "image/png": "[encoded data removed]",
      "text/latex": [
       "$\\displaystyle \\left[ - \\sqrt{2} i, \\  \\sqrt{2} i\\right]$"
      ],
      "text/plain": [
       "[-√2⋅ⅈ, √2⋅ⅈ]"
      ]
     },
     "execution_count": 22,
     "metadata": {},
     "output_type": "execute_result"
    }
   ],
   "source": [
    "sym.solve(x**2 - 2, x)\n",
    "sym.solve(x**2 + 2, x)"
   ]
  },
  {
   "cell_type": "markdown",
   "id": "75b7ede9-d935-452f-af98-5712ee7e670b",
   "metadata": {},
   "source": [
    "<div class=\"intro\">\n",
    "\n",
    "Solve $3x^2-2=a$\n",
    "\n",
    "</div>"
   ]
  },
  {
   "cell_type": "code",
   "execution_count": 23,
   "id": "92996c19-dad6-498d-9483-1ac7332b9a8a",
   "metadata": {},
   "outputs": [
    {
     "data": {
      "image/png": "[encoded data removed]",
      "text/latex": [
       "$\\displaystyle \\left[ - \\frac{\\sqrt{3 a + 6}}{3}, \\  \\frac{\\sqrt{3 a + 6}}{3}\\right]$"
      ],
      "text/plain": [
       "⎡   _________     _________⎤\n",
       "⎢-╲╱ 3⋅a + 6    ╲╱ 3⋅a + 6 ⎥\n",
       "⎢─────────────, ───────────⎥\n",
       "⎣      3             3     ⎦"
      ]
     },
     "execution_count": 23,
     "metadata": {},
     "output_type": "execute_result"
    }
   ],
   "source": [
    "a = sym.symbols('a')\n",
    "f3=3*x**2-2\n",
    "sym.solve(sym.Eq(f3,a),x)"
   ]
  },
  {
   "cell_type": "markdown",
   "id": "ed319533-6f14-48b7-8c28-e028181cbf5b",
   "metadata": {},
   "source": [
    "#### Differential equations"
   ]
  },
  {
   "cell_type": "markdown",
   "id": "6a480ef5-35f2-4042-a699-efbdcd3358a5",
   "metadata": {},
   "source": [
    "<div class=\"intro\">\n",
    "\n",
    "Solve the differential equation $y'' - y = e^t$\n",
    "\n",
    "</div>"
   ]
  },
  {
   "cell_type": "code",
   "execution_count": 24,
   "id": "649ee824-f545-4ced-ad6b-ed4c30f80a28",
   "metadata": {},
   "outputs": [
    {
     "data": {
      "image/png": "[encoded data removed]",
      "text/latex": [
       "$\\displaystyle y{\\left(t \\right)} = C_{2} e^{- t} + \\left(C_{1} + \\frac{t}{2}\\right) e^{t}$"
      ],
      "text/plain": [
       "           -t   ⎛     t⎞  t\n",
       "y(t) = C₂⋅ℯ   + ⎜C₁ + ─⎟⋅ℯ \n",
       "                ⎝     2⎠   "
      ]
     },
     "execution_count": 24,
     "metadata": {},
     "output_type": "execute_result"
    }
   ],
   "source": [
    "y = sym.Function('y')\n",
    "sym.dsolve(sym.Eq(y(t).diff(t, 2) - y(t), sym.exp(t)), y(t))"
   ]
  },
  {
   "cell_type": "markdown",
   "id": "ae04ff8d-aeb3-4c72-b4e2-915359ea1714",
   "metadata": {},
   "source": [
    "#### Matrix algebra\n",
    "\n",
    "##### Basic operations\n",
    "\n",
    "<div class=\"intro\">\n",
    "\n",
    "To make a [matrix in SymPy](matrixhttps://docs.sympy.org/latest/tutorials/intro-tutorial/matrices.html), use the `Matrix` object. A matrix is constructed by providing a list of row vectors that make up the matrix. For example, to construct the matrix\n",
    "$$\\begin{split}\\left[\\begin{array}{cc}1 & -1\\\\3 & 4\\\\0 & 2\\end{array}\\right]\\end{split}$$\n",
    "\n",
    "use:\n",
    "</div>"
   ]
  },
  {
   "cell_type": "code",
   "execution_count": 25,
   "id": "cb095dbd-fb05-406c-926c-231832139e0e",
   "metadata": {},
   "outputs": [
    {
     "data": {
      "image/png": "[encoded data removed]",
      "text/latex": [
       "$\\displaystyle \\left[\\begin{matrix}1 & -1\\\\3 & 4\\\\0 & 2\\end{matrix}\\right]$"
      ],
      "text/plain": [
       "⎡1  -1⎤\n",
       "⎢     ⎥\n",
       "⎢3  4 ⎥\n",
       "⎢     ⎥\n",
       "⎣0  2 ⎦"
      ]
     },
     "execution_count": 25,
     "metadata": {},
     "output_type": "execute_result"
    },
    {
     "data": {
      "image/png": "[encoded data removed]",
      "text/latex": [
       "$\\displaystyle \\left[\\begin{matrix}1 & 3 & 0\\\\-1 & 4 & 2\\end{matrix}\\right]$"
      ],
      "text/plain": [
       "⎡1   3  0⎤\n",
       "⎢        ⎥\n",
       "⎣-1  4  2⎦"
      ]
     },
     "execution_count": 25,
     "metadata": {},
     "output_type": "execute_result"
    }
   ],
   "source": [
    "M = sym.Matrix([[1, -1], [3, 4], [0, 2]])\n",
    "M\n",
    "M.T"
   ]
  },
  {
   "cell_type": "code",
   "execution_count": 26,
   "id": "4e7ff1f8-9927-426b-8084-07926991bc8b",
   "metadata": {},
   "outputs": [
    {
     "name": "stdout",
     "output_type": "stream",
     "text": [
      "M Matrix\n"
     ]
    },
    {
     "data": {
      "image/png": "[encoded data removed]",
      "text/latex": [
       "$\\displaystyle \\left[\\begin{matrix}1 & a\\\\-2 & 3\\end{matrix}\\right]$"
      ],
      "text/plain": [
       "⎡1   a⎤\n",
       "⎢     ⎥\n",
       "⎣-2  3⎦"
      ]
     },
     "execution_count": 26,
     "metadata": {},
     "output_type": "execute_result"
    },
    {
     "name": "stdout",
     "output_type": "stream",
     "text": [
      "N Matrix\n"
     ]
    },
    {
     "data": {
      "image/png": "[encoded data removed]",
      "text/latex": [
       "$\\displaystyle \\left[\\begin{matrix}0 & 3\\\\0 & 7\\end{matrix}\\right]$"
      ],
      "text/plain": [
       "⎡0  3⎤\n",
       "⎢    ⎥\n",
       "⎣0  7⎦"
      ]
     },
     "execution_count": 26,
     "metadata": {},
     "output_type": "execute_result"
    },
    {
     "name": "stdout",
     "output_type": "stream",
     "text": [
      "M+N\n"
     ]
    },
    {
     "data": {
      "image/png": "[encoded data removed]",
      "text/latex": [
       "$\\displaystyle \\left[\\begin{matrix}1 & a + 3\\\\-2 & 10\\end{matrix}\\right]$"
      ],
      "text/plain": [
       "⎡1   a + 3⎤\n",
       "⎢         ⎥\n",
       "⎣-2   10  ⎦"
      ]
     },
     "execution_count": 26,
     "metadata": {},
     "output_type": "execute_result"
    },
    {
     "name": "stdout",
     "output_type": "stream",
     "text": [
      "M x N\n"
     ]
    },
    {
     "data": {
      "image/png": "[encoded data removed]",
      "text/latex": [
       "$\\displaystyle \\left[\\begin{matrix}0 & 7 a + 3\\\\0 & 15\\end{matrix}\\right]$"
      ],
      "text/plain": [
       "⎡0  7⋅a + 3⎤\n",
       "⎢          ⎥\n",
       "⎣0    15   ⎦"
      ]
     },
     "execution_count": 26,
     "metadata": {},
     "output_type": "execute_result"
    },
    {
     "name": "stdout",
     "output_type": "stream",
     "text": [
      "3 x M\n"
     ]
    },
    {
     "data": {
      "image/png": "[encoded data removed]",
      "text/latex": [
       "$\\displaystyle \\left[\\begin{matrix}3 & 3 a\\\\-6 & 9\\end{matrix}\\right]$"
      ],
      "text/plain": [
       "⎡3   3⋅a⎤\n",
       "⎢       ⎥\n",
       "⎣-6   9 ⎦"
      ]
     },
     "execution_count": 26,
     "metadata": {},
     "output_type": "execute_result"
    },
    {
     "name": "stdout",
     "output_type": "stream",
     "text": [
      "M^2\n"
     ]
    },
    {
     "data": {
      "image/png": "[encoded data removed]",
      "text/latex": [
       "$\\displaystyle \\left[\\begin{matrix}1 - 2 a & 4 a\\\\-8 & 9 - 2 a\\end{matrix}\\right]$"
      ],
      "text/plain": [
       "⎡1 - 2⋅a    4⋅a  ⎤\n",
       "⎢                ⎥\n",
       "⎣  -8     9 - 2⋅a⎦"
      ]
     },
     "execution_count": 26,
     "metadata": {},
     "output_type": "execute_result"
    },
    {
     "name": "stdout",
     "output_type": "stream",
     "text": [
      "M-1\n"
     ]
    },
    {
     "data": {
      "image/png": "[encoded data removed]",
      "text/latex": [
       "$\\displaystyle \\left[\\begin{matrix}\\frac{3}{2 a + 3} & - \\frac{a}{2 a + 3}\\\\\\frac{2}{2 a + 3} & \\frac{1}{2 a + 3}\\end{matrix}\\right]$"
      ],
      "text/plain": [
       "⎡   3       -a   ⎤\n",
       "⎢───────  ───────⎥\n",
       "⎢2⋅a + 3  2⋅a + 3⎥\n",
       "⎢                ⎥\n",
       "⎢   2        1   ⎥\n",
       "⎢───────  ───────⎥\n",
       "⎣2⋅a + 3  2⋅a + 3⎦"
      ]
     },
     "execution_count": 26,
     "metadata": {},
     "output_type": "execute_result"
    },
    {
     "name": "stdout",
     "output_type": "stream",
     "text": [
      "det(M)\n"
     ]
    },
    {
     "data": {
      "image/png": "[encoded data removed]",
      "text/latex": [
       "$\\displaystyle 2 a + 3$"
      ],
      "text/plain": [
       "2⋅a + 3"
      ]
     },
     "execution_count": 26,
     "metadata": {},
     "output_type": "execute_result"
    }
   ],
   "source": [
    "a = sym.symbols('a',positive=True)\n",
    "M = sym.Matrix([[1, a], [-2, 3]])\n",
    "print(\"M Matrix\")\n",
    "M\n",
    "N = sym.Matrix([[0, 3], [0, 7]])\n",
    "print(\"N Matrix\")\n",
    "N\n",
    "print(\"M+N\")\n",
    "M + N\n",
    "print(\"M x N\")\n",
    "M*N\n",
    "print(\"3 x M\")\n",
    "3*M\n",
    "print(\"M^2\")\n",
    "M**2\n",
    "print(\"M-1\")\n",
    "M**-1\n",
    "print(\"det(M)\")\n",
    "M.det()"
   ]
  },
  {
   "cell_type": "markdown",
   "id": "9ef4a890-1f88-47d6-9fe3-436316163968",
   "metadata": {},
   "source": [
    "<div class=\"intro\">\n",
    "\n",
    "Find the eigenvalues of $\\left[\\begin{smallmatrix}0 & 1\\\\-2 & -3\\end{smallmatrix}\\right]$ and the  store the first eigenvalue in a variable\n",
    "\n",
    "</div>"
   ]
  },
  {
   "cell_type": "code",
   "execution_count": 27,
   "id": "45d9268f-f01a-45cc-b769-62e008b643ab",
   "metadata": {},
   "outputs": [
    {
     "data": {
      "image/png": "[encoded data removed]",
      "text/latex": [
       "$\\displaystyle \\left\\{ -2 : 1, \\  -1 : 1\\right\\}$"
      ],
      "text/plain": [
       "{-2: 1, -1: 1}"
      ]
     },
     "execution_count": 27,
     "metadata": {},
     "output_type": "execute_result"
    },
    {
     "data": {
      "image/png": "[encoded data removed]",
      "text/latex": [
       "$\\displaystyle -1$"
      ],
      "text/plain": [
       "-1"
      ]
     },
     "execution_count": 27,
     "metadata": {},
     "output_type": "execute_result"
    }
   ],
   "source": [
    "ev = sym.Matrix([[0, 1], [-2, -3]]).eigenvals()\n",
    "ev\n",
    "a = list(ev)[0]\n",
    "a"
   ]
  },
  {
   "cell_type": "markdown",
   "id": "89c70f0e-53fc-4455-bab5-594d0c792672",
   "metadata": {},
   "source": [
    "<div class=\"rq\">\n",
    "\n",
    "`eigenvals()` actually returns a [python dictionary](https://realpython.com/python-dicts/). \n",
    "\n",
    "In the previous `list(ev)[0]` command, keys of the `ev` dictionary are converted into a list, which first item is then addressed \n",
    "\n",
    "The next cell illustrates how to address keys and values of a dictionary:\n",
    "\n",
    "</div>"
   ]
  },
  {
   "cell_type": "code",
   "execution_count": 28,
   "id": "6da01f0c-afb3-48e6-a36f-da79aeceea14",
   "metadata": {},
   "outputs": [
    {
     "name": "stdout",
     "output_type": "stream",
     "text": [
      "eigenvalue: -1   degeneracy: 1\n",
      "eigenvalue: -2   degeneracy: 1\n",
      "eigenvalue: -1   degeneracy: 1\n",
      "eigenvalue: -2   degeneracy: 1\n"
     ]
    }
   ],
   "source": [
    "for item in ev:\n",
    "    for key, value in ev.items():\n",
    "        print(\"eigenvalue:\",key,\"  degeneracy:\",value)"
   ]
  },
  {
   "cell_type": "markdown",
   "id": "79172e50-d15c-4499-b9e9-cfa1f2f4ce89",
   "metadata": {},
   "source": [
    "##### HMO"
   ]
  },
  {
   "cell_type": "code",
   "execution_count": 29,
   "id": "ed2852e4-9074-4948-95a3-2fd8ec0f043b",
   "metadata": {},
   "outputs": [
    {
     "data": {
      "image/png": "[encoded data removed]",
      "text/latex": [
       "$\\displaystyle \\left[\\begin{matrix}\\alpha & \\beta\\\\\\beta & \\alpha\\end{matrix}\\right]$"
      ],
      "text/plain": [
       "⎡α  β⎤\n",
       "⎢    ⎥\n",
       "⎣β  α⎦"
      ]
     },
     "execution_count": 29,
     "metadata": {},
     "output_type": "execute_result"
    },
    {
     "data": {
      "image/png": "[encoded data removed]",
      "text/latex": [
       "$\\displaystyle \\left[ \\left( \\alpha - \\beta, \\  1, \\  \\left[ \\left[\\begin{matrix}-1\\\\1\\end{matrix}\\right]\\right]\\right), \\  \\left( \\alpha + \\beta, \\  1, \\  \\left[ \\left[\\begin{matrix}1\\\\1\\end{matrix}\\right]\\right]\\right)\\right]$"
      ],
      "text/plain": [
       "⎡⎛          ⎡⎡-1⎤⎤⎞  ⎛          ⎡⎡1⎤⎤⎞⎤\n",
       "⎢⎜α - β, 1, ⎢⎢  ⎥⎥⎟, ⎜α + β, 1, ⎢⎢ ⎥⎥⎟⎥\n",
       "⎣⎝          ⎣⎣1 ⎦⎦⎠  ⎝          ⎣⎣1⎦⎦⎠⎦"
      ]
     },
     "execution_count": 29,
     "metadata": {},
     "output_type": "execute_result"
    }
   ],
   "source": [
    "alpha = sym.Symbol('alpha')\n",
    "beta = sym.Symbol('beta', negative=True)\n",
    "H = sym.Matrix([[alpha, beta],\n",
    "                [beta, alpha]\n",
    "               ])\n",
    "H\n",
    "MO = H.eigenvects()\n",
    "# list of tuples\n",
    "MO"
   ]
  },
  {
   "cell_type": "code",
   "execution_count": 30,
   "id": "baecaf98-42af-4836-afa1-8e82db25cd46",
   "metadata": {},
   "outputs": [
    {
     "data": {
      "image/png": "[encoded data removed]",
      "text/latex": [
       "$\\displaystyle \\left[\\begin{matrix}- \\frac{\\sqrt{2}}{2} & \\frac{\\sqrt{2}}{2}\\\\\\frac{\\sqrt{2}}{2} & \\frac{\\sqrt{2}}{2}\\end{matrix}\\right]$"
      ],
      "text/plain": [
       "⎡-√2   √2⎤\n",
       "⎢────  ──⎥\n",
       "⎢ 2    2 ⎥\n",
       "⎢        ⎥\n",
       "⎢ √2   √2⎥\n",
       "⎢ ──   ──⎥\n",
       "⎣ 2    2 ⎦"
      ]
     },
     "execution_count": 30,
     "metadata": {},
     "output_type": "execute_result"
    },
    {
     "data": {
      "image/png": "[encoded data removed]",
      "text/latex": [
       "$\\displaystyle \\left[\\begin{matrix}\\alpha - \\beta & 0\\\\0 & \\alpha + \\beta\\end{matrix}\\right]$"
      ],
      "text/plain": [
       "⎡α - β    0  ⎤\n",
       "⎢            ⎥\n",
       "⎣  0    α + β⎦"
      ]
     },
     "execution_count": 30,
     "metadata": {},
     "output_type": "execute_result"
    }
   ],
   "source": [
    "P, D = H.diagonalize(sort=True, normalize=True)\n",
    "P\n",
    "D"
   ]
  },
  {
   "cell_type": "code",
   "execution_count": 31,
   "id": "bb8e410d-ac7c-412b-a2d3-29df8ba0d150",
   "metadata": {},
   "outputs": [
    {
     "data": {
      "image/png": "[encoded data removed]",
      "text/latex": [
       "$\\displaystyle \\left[\\begin{matrix}- \\frac{\\sqrt{2} \\left(- \\frac{\\sqrt{2} \\alpha}{2} + \\frac{\\sqrt{2} \\beta}{2}\\right)}{2} + \\frac{\\sqrt{2} \\left(\\frac{\\sqrt{2} \\alpha}{2} - \\frac{\\sqrt{2} \\beta}{2}\\right)}{2} & \\frac{\\sqrt{2} \\left(- \\frac{\\sqrt{2} \\alpha}{2} + \\frac{\\sqrt{2} \\beta}{2}\\right)}{2} + \\frac{\\sqrt{2} \\left(\\frac{\\sqrt{2} \\alpha}{2} - \\frac{\\sqrt{2} \\beta}{2}\\right)}{2}\\\\0 & \\sqrt{2} \\left(\\frac{\\sqrt{2} \\alpha}{2} + \\frac{\\sqrt{2} \\beta}{2}\\right)\\end{matrix}\\right]$"
      ],
      "text/plain": [
       "⎡     ⎛  √2⋅α   √2⋅β⎞      ⎛√2⋅α   √2⋅β⎞     ⎛  √2⋅α   √2⋅β⎞      ⎛√2⋅α   √2⋅β\n",
       "⎢  √2⋅⎜- ──── + ────⎟   √2⋅⎜──── - ────⎟  √2⋅⎜- ──── + ────⎟   √2⋅⎜──── - ────\n",
       "⎢     ⎝   2      2  ⎠      ⎝ 2      2  ⎠     ⎝   2      2  ⎠      ⎝ 2      2  \n",
       "⎢- ────────────────── + ────────────────  ────────────────── + ───────────────\n",
       "⎢          2                   2                  2                   2       \n",
       "⎢                                                                             \n",
       "⎢                                                      ⎛√2⋅α   √2⋅β⎞          \n",
       "⎢                   0                               √2⋅⎜──── + ────⎟          \n",
       "⎣                                                      ⎝ 2      2  ⎠          \n",
       "\n",
       "⎞⎤\n",
       "⎟⎥\n",
       "⎠⎥\n",
       "─⎥\n",
       " ⎥\n",
       " ⎥\n",
       " ⎥\n",
       " ⎥\n",
       " ⎦"
      ]
     },
     "execution_count": 31,
     "metadata": {},
     "output_type": "execute_result"
    },
    {
     "data": {
      "image/png": "[encoded data removed]",
      "text/latex": [
       "$\\displaystyle \\left[\\begin{matrix}\\alpha - \\beta & 0\\\\0 & \\alpha + \\beta\\end{matrix}\\right]$"
      ],
      "text/plain": [
       "⎡α - β    0  ⎤\n",
       "⎢            ⎥\n",
       "⎣  0    α + β⎦"
      ]
     },
     "execution_count": 31,
     "metadata": {},
     "output_type": "execute_result"
    }
   ],
   "source": [
    "M=P**-1*H*P\n",
    "M\n",
    "sym.simplify(M)"
   ]
  },
  {
   "cell_type": "markdown",
   "id": "9888317e-bd25-4db8-8ab9-aab34b6d1bab",
   "metadata": {},
   "source": [
    "#### $\\mathrm{\\LaTeX}$"
   ]
  },
  {
   "cell_type": "markdown",
   "id": "66b65086-b532-4c33-abe8-749bd2fc7fcb",
   "metadata": {},
   "source": [
    "<div class=\"intro\">\n",
    "\n",
    "It is also possible to convert SymPy equations into $\\mathrm{\\LaTeX}$ code . Let's do that, using the [`Integral` class](https://docs.sympy.org/latest/modules/integrals/integrals.html#sympy.integrals.integrals.Integral), which represents an unevaluated integral and has some methods that help in the integration of an expression\n",
    "\n",
    "</div>"
   ]
  },
  {
   "cell_type": "code",
   "execution_count": 32,
   "id": "5378289f-d402-4f9b-9a56-769914383d78",
   "metadata": {},
   "outputs": [
    {
     "data": {
      "image/png": "[encoded data removed]",
      "text/latex": [
       "$\\displaystyle \\int\\limits_{0}^{\\pi} \\cos^{2}{\\left(x \\right)}\\, dx$"
      ],
      "text/plain": [
       "π           \n",
       "⌠           \n",
       "⎮    2      \n",
       "⎮ cos (x) dx\n",
       "⌡           \n",
       "0           "
      ]
     },
     "execution_count": 32,
     "metadata": {},
     "output_type": "execute_result"
    },
    {
     "name": "stdout",
     "output_type": "stream",
     "text": [
      "\\int\\limits_{0}^{\\pi} \\cos^{2}{\\left(x \\right)}\\, dx\n"
     ]
    }
   ],
   "source": [
    "F6 = sym.Integral(sym.cos(x)**2, (x, 0, sym.pi))\n",
    "F6\n",
    "eq6 = sym.latex(F6)\n",
    "print(eq6)"
   ]
  },
  {
   "cell_type": "markdown",
   "id": "019143d1-ec9c-4ea5-a682-38ef44bdd43b",
   "metadata": {},
   "source": [
    "<div class=\"intro\">\n",
    "\n",
    "Let's check the validity of the  $\\mathrm{\\LaTeX}$ code\n",
    "\n",
    "</div>"
   ]
  },
  {
   "cell_type": "code",
   "execution_count": 33,
   "id": "35a7ba06-5a53-4c2e-bba7-95356cc875ee",
   "metadata": {},
   "outputs": [
    {
     "data": {
      "text/latex": [
       "$\\int\\limits_{0}^{\\pi} \\cos^{2}{\\left(x \\right)}\\, dx$"
      ],
      "text/plain": [
       "<IPython.core.display.Latex object>"
      ]
     },
     "metadata": {},
     "output_type": "display_data"
    }
   ],
   "source": [
    "from IPython.display import display, Latex\n",
    "display(Latex(f\"${eq6}$\"))"
   ]
  },
  {
   "cell_type": "markdown",
   "id": "84d8a361-711a-45eb-8215-3d97e90ca343",
   "metadata": {},
   "source": [
    "<div class=\"intro\">\n",
    "\n",
    "Now let's actually calculate the $\\int\\limits_{0}^{\\pi} \\cos^{2}{\\left(x \\right)}\\, dx$ integral, with the `doit()` function of the `Integral` class\n",
    "\n",
    "</div>"
   ]
  },
  {
   "cell_type": "code",
   "execution_count": 34,
   "id": "b2fbd47a-95a4-44c8-9746-7ff59bdcee6f",
   "metadata": {},
   "outputs": [
    {
     "data": {
      "image/png": "[encoded data removed]",
      "text/latex": [
       "$\\displaystyle \\frac{\\pi}{2}$"
      ],
      "text/plain": [
       "π\n",
       "─\n",
       "2"
      ]
     },
     "execution_count": 34,
     "metadata": {},
     "output_type": "execute_result"
    }
   ],
   "source": [
    "F6.doit()"
   ]
  },
  {
   "cell_type": "markdown",
   "id": "50de8e80-0d16-4bc3-90b6-1aecd8f68c1d",
   "metadata": {},
   "source": [
    "#### Migration from symbolic computations toward numerical analysis: \"lambdification\"\n",
    "\n",
    "<div class=\"intro\">\n",
    "\n",
    "The [`lambdify ` module](https://docs.sympy.org/latest/modules/utilities/lambdify.html) provides convenient functions to transform SymPy expressions to lambda functions which can be used to calculate numerical values very fast.\n",
    "\n",
    "If not specified, modules defaults to:\n",
    "\n",
    "- `scipy`, `numpy` if SciPy is installed\n",
    "- `numpy` if only NumPy is installed\n",
    "- `math`, `mpmath`, `sympy` if neither is installed.\n",
    "\n",
    "That is, SymPy functions are replaced as far as possible by either `scipy` or `numpy` functions if available, and Python’s standard library `math`, or `mpmath` functions otherwise\n",
    "\n",
    "</div>"
   ]
  },
  {
   "cell_type": "markdown",
   "id": "cc1bdb42-00ea-4655-98b0-cdecfc7779f6",
   "metadata": {},
   "source": [
    "<div class=\"intro\">\n",
    "\n",
    "To call a function like `f(x)` then `[x]` should be the first argument to `lambdify`\n",
    "\n",
    "</div>"
   ]
  },
  {
   "cell_type": "code",
   "execution_count": 37,
   "id": "3925c77a-fc2f-4c86-94e3-c0de4dfc8a2f",
   "metadata": {},
   "outputs": [
    {
     "name": "stdout",
     "output_type": "stream",
     "text": [
      "1 2\n",
      "2 3\n",
      "3 4\n",
      "4 5\n",
      "5 6\n"
     ]
    }
   ],
   "source": [
    "x = sym.symbols('x')\n",
    "# the _ symbol is a rule adopted by the author, to make a difference between a SymPy variable or function, XX, and its numerical counterpart, _XX\n",
    "f = x + 1\n",
    "_f = sym.lambdify([x], f)\n",
    "for _x in [1,2,3,4,5]:\n",
    "    print(_x,_f(_x))"
   ]
  },
  {
   "cell_type": "markdown",
   "id": "2f1d1e48-770e-41ea-8f9b-37e4d06dd500",
   "metadata": {},
   "source": [
    "<div class=\"intro\">\n",
    "\n",
    "To call a function like `f(x, y)` then `[x, y]` will be the first argument of `lambdify`\n",
    "\n",
    "</div>"
   ]
  },
  {
   "cell_type": "code",
   "execution_count": 36,
   "id": "1f98ffe9-0ae4-422a-aed5-4f51295dd126",
   "metadata": {},
   "outputs": [
    {
     "name": "stdout",
     "output_type": "stream",
     "text": [
      "1 0\n",
      "2 1\n",
      "3 2\n",
      "4 3\n",
      "5 4\n"
     ]
    }
   ],
   "source": [
    "y = sym.symbols('y')\n",
    "f = x + y\n",
    "_f = sym.lambdify([x, y], f)\n",
    "for _x in [1,2,3,4,5]:\n",
    "    print(_x,_f(_x,-1))"
   ]
  },
  {
   "cell_type": "markdown",
   "id": "5b913cb2-4fa1-4abe-851d-b9f65a53dc33",
   "metadata": {},
   "source": [
    "<div class=\"intro\">\n",
    "\n",
    "Let's consider a more advanced example\n",
    "\n",
    "</div>"
   ]
  },
  {
   "cell_type": "code",
   "execution_count": 38,
   "id": "9393bf1a-0ecf-49cd-8d4e-c53672ef61b3",
   "metadata": {},
   "outputs": [
    {
     "data": {
      "image/png": "[encoded data removed]",
      "text/latex": [
       "$\\displaystyle \\frac{\\sqrt{2} \\cdot \\left(2 - r\\right) e^{- \\frac{r}{2}}}{4}$"
      ],
      "text/plain": [
       "            -r \n",
       "            ───\n",
       "             2 \n",
       "√2⋅(2 - r)⋅ℯ   \n",
       "───────────────\n",
       "       4       "
      ]
     },
     "execution_count": 38,
     "metadata": {},
     "output_type": "execute_result"
    },
    {
     "data": {
      "image/png": "[encoded data removed]",
      "text/latex": [
       "$\\displaystyle \\frac{r^{2} \\left(2 - r\\right)^{2} e^{- r}}{8}$"
      ],
      "text/plain": [
       " 2        2  -r\n",
       "r ⋅(2 - r) ⋅ℯ  \n",
       "───────────────\n",
       "       8       "
      ]
     },
     "execution_count": 38,
     "metadata": {},
     "output_type": "execute_result"
    },
    {
     "data": {
      "text/plain": [
       "<function _lambdifygenerated(r)>"
      ]
     },
     "execution_count": 38,
     "metadata": {},
     "output_type": "execute_result"
    },
    {
     "data": {
      "text/plain": [
       "<function _lambdifygenerated(r)>"
      ]
     },
     "execution_count": 38,
     "metadata": {},
     "output_type": "execute_result"
    },
    {
     "data": {
      "text/plain": [
       "[<matplotlib.lines.Line2D at 0x7f1871327ed0>]"
      ]
     },
     "execution_count": 38,
     "metadata": {},
     "output_type": "execute_result"
    },
    {
     "data": {
      "text/plain": [
       "[<matplotlib.lines.Line2D at 0x7f1871375690>]"
      ]
     },
     "execution_count": 38,
     "metadata": {},
     "output_type": "execute_result"
    },
    {
     "data": {
      "text/plain": [
       "<matplotlib.lines.Line2D at 0x7f18713748d0>"
      ]
     },
     "execution_count": 38,
     "metadata": {},
     "output_type": "execute_result"
    },
    {
     "data": {
      "image/png": "[encoded data removed]",
      "text/latex": [
       "$\\displaystyle \\left( 0.0, \\  15.0\\right)$"
      ],
      "text/plain": [
       "(0.0, 15.0)"
      ]
     },
     "execution_count": 38,
     "metadata": {},
     "output_type": "execute_result"
    },
    {
     "data": {
      "text/plain": [
       "Text(0.5, 0, '$r$ / bohr')"
      ]
     },
     "execution_count": 38,
     "metadata": {},
     "output_type": "execute_result"
    },
    {
     "data": {
      "text/plain": [
       "<matplotlib.legend.Legend at 0x7f18a07bd690>"
      ]
     },
     "execution_count": 38,
     "metadata": {},
     "output_type": "execute_result"
    },
    {
     "data": {
      "image/png": "[encoded data removed]",
      "text/plain": [
       "<Figure size 1000x500 with 1 Axes>"
      ]
     },
     "metadata": {},
     "output_type": "display_data"
    }
   ],
   "source": [
    "import numpy as np\n",
    "import matplotlib.pyplot as plt\n",
    "\n",
    "r = sym.symbols('r')\n",
    "R = sym.sqrt(2)*(2-r)*sym.exp(-r/2)/4\n",
    "P = (r*R)**2\n",
    "R\n",
    "P\n",
    "\n",
    "_R = sym.lambdify([r],R)\n",
    "_P = sym.lambdify([r],P)\n",
    "_R\n",
    "_P\n",
    "\n",
    "_r = np.linspace(0.,25.,250)\n",
    "plt.rcParams[\"figure.figsize\"] = (10,5)\n",
    "plt.rcParams.update({'font.size': 12})\n",
    "plt.plot(_r, _R(_r),linewidth=2,color='red',label=\"R\")\n",
    "plt.plot(_r, _P(_r),linewidth=2,color='blue',label=\"P\")\n",
    "plt.axhline(y = 0, color = '0.7',linestyle='--')\n",
    "plt.xlim(0,15)\n",
    "plt.xlabel(\"$r$ / bohr\")\n",
    "plt.legend()\n",
    "plt.show()"
   ]
  },
  {
   "cell_type": "markdown",
   "id": "1ab10d52-38c7-4691-bfea-607b97336d3d",
   "metadata": {},
   "source": [
    "## Physical Chemistry with SymPy\n",
    "\n",
    "The [`Physics` module](https://docs.sympy.org/latest/reference/public/physics/index.html) of SymPy helps solving problems in physics and physical chemistry. "
   ]
  },
  {
   "cell_type": "code",
   "execution_count": 40,
   "id": "33152a52-ebcf-4cf2-8058-90d0fbaf35b1",
   "metadata": {},
   "outputs": [
    {
     "data": {
      "text/markdown": [
       "**End at:** Thursday 31 August 2023, 11:54:29  \n",
       "**Duration:** 00:06:03 571ms"
      ],
      "text/plain": [
       "<IPython.core.display.Markdown object>"
      ]
     },
     "metadata": {},
     "output_type": "display_data"
    },
    {
     "data": {
      "text/markdown": [
       "<p style=\"text-align: center\"><img width=\"800px\" src=\"./config/svg/logoEnd.svg\" style=\"margin-left:auto; margin-right:auto\"/></p>"
      ],
      "text/plain": [
       "<IPython.core.display.Markdown object>"
      ]
     },
     "metadata": {},
     "output_type": "display_data"
    }
   ],
   "source": [
    "vID.end(cwd0)"
   ]
  },
  {
   "cell_type": "code",
   "execution_count": null,
   "id": "fcab93d9-8aa6-4ce9-b7cf-2ab13aea8703",
   "metadata": {},
   "outputs": [],
   "source": []
  }
 ],
 "metadata": {
  "kernelspec": {
   "display_name": "Python 3 (ipykernel)",
   "language": "python",
   "name": "python3"
  },
  "language_info": {
   "codemirror_mode": {
    "name": "ipython",
    "version": 3
   },
   "file_extension": ".py",
   "mimetype": "text/x-python",
   "name": "python",
   "nbconvert_exporter": "python",
   "pygments_lexer": "ipython3",
   "version": "3.11.4"
  },
  "toc-autonumbering": true,
  "toc-showcode": false,
  "toc-showmarkdowntxt": false
 },
 "nbformat": 4,
 "nbformat_minor": 5
}
