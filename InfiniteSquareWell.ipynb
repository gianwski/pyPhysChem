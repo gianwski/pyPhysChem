{
 "cells": [
  {
   "cell_type": "code",
   "execution_count": 1,
   "id": "49a4a1df-9ac7-4799-a605-09a6bfc2fbcf",
   "metadata": {},
   "outputs": [
    {
     "name": "stdout",
     "output_type": "stream",
     "text": [
      "/home/romuald/ENSEIGNEMENT/0-JupyterNotebooks/PytChem\n"
     ]
    },
    {
     "data": {
      "text/html": [
       "<style>\n",
       "h1, h2, h3, h4, h5, h6 {\n",
       "  font-family: Verdana, \"DejaVu Sans\", \"Bitstream Vera Sans\", Geneva, sans-serif;\n",
       "  font-weight: bold;\n",
       "}\n",
       "body {\n",
       "  font-family: Verdana, \"DejaVu Sans\", \"Bitstream Vera Sans\", Geneva, sans-serif;\n",
       "  font-weight: 200;\n",
       "}\n",
       "h1 {\n",
       "  border: 0 solid #333;\n",
       "  padding: 30px ;\n",
       "  color: white;\n",
       "  background: #b11d01;\n",
       "  text-align: center;\n",
       "}\n",
       "h2 {\n",
       "  border: 3px solid #333;\n",
       "  padding: 18px ;\n",
       "  color: #b11d01;\n",
       "  background: #ffffff;\n",
       "  text-align: center;\n",
       "}\n",
       "h3 {\n",
       "  border: 0 solid #333;\n",
       "  padding: 12px ;\n",
       "  color: #000000;\n",
       "  background: #c1c1c1;\n",
       "  text-align: left;\n",
       "}\n",
       "h4 {\n",
       "  border: 0 solid #333;\n",
       "  padding: 2px ;\n",
       "  color: #000000;\n",
       "  background: #d9fffc;\n",
       "  text-align: left;\n",
       "}\n",
       "h5 {\n",
       "  border: 1px solid #333;\n",
       "  padding: 2px ;\n",
       "  color: #000000;\n",
       "  background: #ffffff;\n",
       "  text-align: left;\n",
       "}\n",
       ".warn {    \n",
       "    background-color: #fcf2f2;\n",
       "    border-color: #dFb5b4;\n",
       "    border-left: 5px solid #dfb5b4;\n",
       "    padding: 0.5em;\n",
       "    font-weight: 200;\n",
       "    }\n",
       ".rq {    \n",
       "    background-color: #e2e2e2;\n",
       "    border-color: #969696;\n",
       "    border-left: 5px solid #969696;\n",
       "    padding: 0.5em;\n",
       "    font-weight: 200;\n",
       "    }\n",
       "</style>\n"
      ],
      "text/plain": [
       "<IPython.core.display.HTML object>"
      ]
     },
     "metadata": {},
     "output_type": "display_data"
    },
    {
     "data": {
      "text/markdown": [
       "**Start at:** Monday 14 November 2022, 18:43:06  \n",
       "**Hostname:** desktop-5h3j30j.home (Linux)"
      ],
      "text/plain": [
       "<IPython.core.display.Markdown object>"
      ]
     },
     "metadata": {},
     "output_type": "display_data"
    },
    {
     "data": {
      "text/markdown": [
       "<p style=\"text-align: center\"><img width=\"800px\" src=\"./config/svg/logoPytChem.svg\" style=\"margin-left:auto; margin-right:auto\"/></p>"
      ],
      "text/plain": [
       "<IPython.core.display.Markdown object>"
      ]
     },
     "metadata": {},
     "output_type": "display_data"
    }
   ],
   "source": [
    "import os\n",
    "import sys\n",
    "\n",
    "print(os.getcwd())\n",
    "cwd0 = './config/'\n",
    "sys.path.append(cwd0)\n",
    "\n",
    "import visualID_Eng as vID\n",
    "from visualID_Eng import color\n",
    "vID.init(cwd0)\n",
    "import tools4PytChem as t4p"
   ]
  },
  {
   "cell_type": "markdown",
   "id": "d111617c-7459-4170-8fea-4b2841ff9dae",
   "metadata": {},
   "source": [
    "# Particle in a box (infinite square well)"
   ]
  },
  {
   "cell_type": "markdown",
   "id": "b9012747-c5ee-4c4a-82d4-53e8d947c69a",
   "metadata": {},
   "source": [
    "## **1.** 1D quantum particle in a box"
   ]
  },
  {
   "cell_type": "markdown",
   "id": "76ca8d19-a07c-4fae-9873-c9697a4dafcc",
   "metadata": {},
   "source": [
    "### **1.1.** Check that the wavefunctions found in textbooks are actual solutions of the Schrödinger equation\n",
    "\n",
    "$$-\\frac{\\hbar^{2}}{2m}\\frac{d^{2}\\psi}{dx^{2}}+V(x)\\psi(x)=E\\psi(x)$$\n",
    "\n",
    "with $V(x)=0$\n",
    "\n",
    "$$\\psi_{n}(x)=\\sqrt{\\frac{2}{L}}\\sin\\left(\\frac{n\\pi}{L}x\\right)$$\n",
    "\n",
    "$$E_{n}=\\frac{n^{2}\\pi^{2}\\hbar^{2}}{2mL^{2}}$$"
   ]
  },
  {
   "cell_type": "code",
   "execution_count": 2,
   "id": "092669df-d900-49d6-873d-82a615592f6c",
   "metadata": {},
   "outputs": [
    {
     "data": {
      "text/latex": [
       "$\\displaystyle \\frac{\\sqrt{2} \\sin{\\left(\\frac{\\pi n x}{L} \\right)}}{\\sqrt{L}}$"
      ],
      "text/plain": [
       "<IPython.core.display.Math object>"
      ]
     },
     "metadata": {},
     "output_type": "display_data"
    },
    {
     "data": {
      "text/latex": [
       "$\\displaystyle \\frac{\\sqrt{2} \\pi^{2} \\hbar^{2} n^{2} \\sin{\\left(\\frac{\\pi n x}{L} \\right)}}{2 L^{\\frac{5}{2}} m}$"
      ],
      "text/plain": [
       "<IPython.core.display.Math object>"
      ]
     },
     "metadata": {},
     "output_type": "display_data"
    },
    {
     "data": {
      "text/latex": [
       "$\\displaystyle \\frac{\\pi^{2} \\hbar^{2} n^{2}}{2 L^{2} m}$"
      ],
      "text/plain": [
       "<IPython.core.display.Math object>"
      ]
     },
     "metadata": {},
     "output_type": "display_data"
    }
   ],
   "source": [
    "import sympy as sym\n",
    "from tools4PytChem import PrintLatexStyleSymPyEquation as ple\n",
    "\n",
    "hbar, m, L = sym.symbols('hbar m L', positive=True)\n",
    "n = sym.Symbol('n', positive=True, integer=True)\n",
    "x = sym.Symbol('x', positive=True)\n",
    "\n",
    "def T_hat(f):\n",
    "    return -hbar**2 /(2*m) * f.diff(x, x)\n",
    "\n",
    "def psi(n,L,x):\n",
    "    return sym.sqrt(2/L)*sym.sin(n*sym.pi*x/L)\n",
    "\n",
    "ple(psi(n,L,x))\n",
    "    \n",
    "ple(T_hat(psi(n,L,x)))\n",
    "\n",
    "En = T_hat(psi(n,L,x)) / psi(n,L,x)\n",
    "ple(En)"
   ]
  },
  {
   "cell_type": "markdown",
   "id": "d9e6dd49-b70d-4f95-afd6-1266be91bb76",
   "metadata": {},
   "source": [
    "### **1.2.** Solve the Schrödinger equation with initial conditions in order to find $\\psi$"
   ]
  },
  {
   "cell_type": "code",
   "execution_count": 3,
   "id": "8b92850a-9560-4e0e-8f6e-186f283c0dd7",
   "metadata": {},
   "outputs": [
    {
     "data": {
      "text/latex": [
       "$\\displaystyle \\frac{d^{2}}{d x^{2}} \\Psi{\\left(x \\right)}$"
      ],
      "text/plain": [
       "<IPython.core.display.Math object>"
      ]
     },
     "metadata": {},
     "output_type": "display_data"
    },
    {
     "data": {
      "text/latex": [
       "$\\displaystyle - \\frac{\\hbar^{2} \\frac{d^{2}}{d x^{2}} \\Psi{\\left(x \\right)}}{2 m \\Psi{\\left(x \\right)}}$"
      ],
      "text/plain": [
       "<IPython.core.display.Math object>"
      ]
     },
     "metadata": {},
     "output_type": "display_data"
    },
    {
     "data": {
      "text/latex": [
       "$\\displaystyle - \\frac{\\hbar^{2} \\frac{d^{2}}{d x^{2}} \\Psi{\\left(x \\right)}}{2 m \\Psi{\\left(x \\right)}} = E$"
      ],
      "text/plain": [
       "<IPython.core.display.Math object>"
      ]
     },
     "metadata": {},
     "output_type": "display_data"
    }
   ],
   "source": [
    "hbar, m, L = sym.symbols('hbar m L', positive=True)\n",
    "x = sym.Symbol('x', positive=True)\n",
    "E = sym.Symbol('E', positive=True)\n",
    "Psi = sym.Function('Psi')\n",
    "\n",
    "def T_hat(f):\n",
    "    return -hbar**2 /(2*m) * sym.Derivative(f(x), x, 2)\n",
    "\n",
    "ple(sym.Derivative(Psi(x), x, 2))\n",
    "ple(T_hat(Psi) / Psi(x))\n",
    "\n",
    "expr = sym.Eq(T_hat(Psi) / Psi(x), E)\n",
    "ple(expr)"
   ]
  },
  {
   "cell_type": "code",
   "execution_count": 4,
   "id": "77d20707-1bfc-4a59-ac1a-8adb35ce8e92",
   "metadata": {},
   "outputs": [
    {
     "data": {
      "text/latex": [
       "$\\displaystyle \\Psi{\\left(x \\right)} = C_{1} \\sin{\\left(\\frac{\\sqrt{2} \\sqrt{E} \\sqrt{m} x}{\\hbar} \\right)}$"
      ],
      "text/plain": [
       "<IPython.core.display.Math object>"
      ]
     },
     "metadata": {},
     "output_type": "display_data"
    },
    {
     "data": {
      "text/latex": [
       "$\\displaystyle C_{1} \\sin{\\left(\\frac{\\sqrt{2} \\sqrt{E} \\sqrt{m} x}{\\hbar} \\right)}$"
      ],
      "text/plain": [
       "<IPython.core.display.Math object>"
      ]
     },
     "metadata": {},
     "output_type": "display_data"
    }
   ],
   "source": [
    "PsiSol = sym.dsolve(expr,ics={Psi(0): 0})\n",
    "ple(PsiSol)\n",
    "PsiSol = PsiSol.rhs\n",
    "ple(PsiSol)"
   ]
  },
  {
   "cell_type": "code",
   "execution_count": 27,
   "id": "ae96b5f7-468c-4f58-84d8-b63e0b3bb6df",
   "metadata": {},
   "outputs": [
    {
     "data": {
      "text/latex": [
       "$\\displaystyle \\Psi{\\left(x \\right)} = 0$"
      ],
      "text/plain": [
       "<IPython.core.display.Math object>"
      ]
     },
     "metadata": {},
     "output_type": "display_data"
    },
    {
     "data": {
      "text/latex": [
       "$\\displaystyle 0$"
      ],
      "text/plain": [
       "<IPython.core.display.Math object>"
      ]
     },
     "metadata": {},
     "output_type": "display_data"
    }
   ],
   "source": [
    "PsiSol = sym.dsolve(expr,ics={Psi(0): 0, Psi(L) : 0})\n",
    "ple(PsiSol)\n",
    "PsiSol = PsiSol.rhs\n",
    "ple(PsiSol)"
   ]
  },
  {
   "cell_type": "code",
   "execution_count": 12,
   "id": "9fcbf506-261f-43dc-88ff-e448895798b7",
   "metadata": {},
   "outputs": [
    {
     "data": {
      "text/latex": [
       "$\\displaystyle \\Psi{\\left(x \\right)} = C_{1} \\sin{\\left(\\frac{\\sqrt{2} \\sqrt{E} \\sqrt{m} x}{\\hbar} \\right)}$"
      ],
      "text/plain": [
       "<IPython.core.display.Math object>"
      ]
     },
     "metadata": {},
     "output_type": "display_data"
    },
    {
     "data": {
      "text/latex": [
       "$\\displaystyle C_{1} \\sin{\\left(\\frac{\\sqrt{2} \\sqrt{E} \\sqrt{m} x}{\\hbar} \\right)}$"
      ],
      "text/plain": [
       "<IPython.core.display.Math object>"
      ]
     },
     "metadata": {},
     "output_type": "display_data"
    },
    {
     "data": {
      "text/latex": [
       "$\\displaystyle \\Psi{\\left(x \\right)} = C_{2} \\cos{\\left(\\frac{\\sqrt{2} \\sqrt{E} \\sqrt{m} x}{\\hbar} \\right)} - \\frac{C_{2} \\sin{\\left(\\frac{\\sqrt{2} \\sqrt{E} \\sqrt{m} x}{\\hbar} \\right)} \\cos{\\left(\\frac{\\sqrt{2} \\sqrt{E} L \\sqrt{m}}{\\hbar} \\right)}}{\\sin{\\left(\\frac{\\sqrt{2} \\sqrt{E} L \\sqrt{m}}{\\hbar} \\right)}}$"
      ],
      "text/plain": [
       "<IPython.core.display.Math object>"
      ]
     },
     "metadata": {},
     "output_type": "display_data"
    },
    {
     "data": {
      "text/latex": [
       "$\\displaystyle C_{2} \\cos{\\left(\\frac{\\sqrt{2} \\sqrt{E} \\sqrt{m} x}{\\hbar} \\right)} - \\frac{C_{2} \\sin{\\left(\\frac{\\sqrt{2} \\sqrt{E} \\sqrt{m} x}{\\hbar} \\right)} \\cos{\\left(\\frac{\\sqrt{2} \\sqrt{E} L \\sqrt{m}}{\\hbar} \\right)}}{\\sin{\\left(\\frac{\\sqrt{2} \\sqrt{E} L \\sqrt{m}}{\\hbar} \\right)}}$"
      ],
      "text/plain": [
       "<IPython.core.display.Math object>"
      ]
     },
     "metadata": {},
     "output_type": "display_data"
    }
   ],
   "source": [
    "PsiSol0 = sym.dsolve(expr,ics={Psi(0): 0})\n",
    "ple(PsiSol0)\n",
    "PsiSol0 = PsiSol0.rhs\n",
    "ple(PsiSol0)\n",
    "\n",
    "PsiSolL = sym.dsolve(expr,ics={Psi(L): 0})\n",
    "ple(PsiSolL)\n",
    "PsiSolL = PsiSolL.rhs\n",
    "ple(PsiSolL)\n"
   ]
  },
  {
   "cell_type": "code",
   "execution_count": 21,
   "id": "d25b5bcc-eb01-4398-9b36-810a99cfd740",
   "metadata": {},
   "outputs": [
    {
     "data": {
      "text/latex": [
       "$\\displaystyle \\left\\{\\frac{\\sqrt{2} n \\pi \\hbar}{\\sqrt{E} \\sqrt{m}}\\; \\middle|\\; n \\in \\mathbb{Z}\\right\\} \\cup \\left\\{\\frac{\\sqrt{2} \\hbar \\left(2 n \\pi + \\pi\\right)}{2 \\sqrt{E} \\sqrt{m}}\\; \\middle|\\; n \\in \\mathbb{Z}\\right\\}$"
      ],
      "text/plain": [
       "Union(ImageSet(Lambda(_n, sqrt(2)*hbar*(2*_n*pi + pi)/(2*sqrt(E)*sqrt(m))), Integers), ImageSet(Lambda(_n, sqrt(2)*_n*pi*hbar/(sqrt(E)*sqrt(m))), Integers))"
      ]
     },
     "execution_count": 21,
     "metadata": {},
     "output_type": "execute_result"
    }
   ],
   "source": [
    "expr2 = sym.Eq(PsiSol0, 0)\n",
    "sym.solveset(expr2,x)"
   ]
  },
  {
   "cell_type": "code",
   "execution_count": 26,
   "id": "d379ed8c-5a09-42f7-a1b5-47bca67994ee",
   "metadata": {},
   "outputs": [
    {
     "data": {
      "text/latex": [
       "$\\displaystyle \\left\\{\\frac{\\sqrt{2} \\hbar \\left(2 n \\pi + \\arg{\\left(e^{\\frac{\\sqrt{2} i \\sqrt{E} L \\sqrt{m}}{\\hbar}} \\right)}\\right)}{2 \\sqrt{E} \\sqrt{m}}\\; \\middle|\\; n \\in \\mathbb{Z}\\right\\} \\cup \\left\\{\\frac{\\sqrt{2} \\hbar \\left(2 n \\pi + \\arg{\\left(- e^{\\frac{\\sqrt{2} i \\sqrt{E} L \\sqrt{m}}{\\hbar}} \\right)}\\right)}{2 \\sqrt{E} \\sqrt{m}}\\; \\middle|\\; n \\in \\mathbb{Z}\\right\\}$"
      ],
      "text/plain": [
       "Union(ImageSet(Lambda(_n, sqrt(2)*hbar*(2*_n*pi + arg(exp(sqrt(2)*I*sqrt(E)*L*sqrt(m)/hbar)))/(2*sqrt(E)*sqrt(m))), Integers), ImageSet(Lambda(_n, sqrt(2)*hbar*(2*_n*pi + arg(-exp(sqrt(2)*I*sqrt(E)*L*sqrt(m)/hbar)))/(2*sqrt(E)*sqrt(m))), Integers))"
      ]
     },
     "execution_count": 26,
     "metadata": {},
     "output_type": "execute_result"
    }
   ],
   "source": [
    "expr3 = sym.Eq(PsiSolL, 0)\n",
    "sym.solveset(expr3,x)"
   ]
  },
  {
   "cell_type": "code",
   "execution_count": 16,
   "id": "fc34a979-73db-4ac5-8e27-87e561e3ce9c",
   "metadata": {},
   "outputs": [
    {
     "data": {
      "text/latex": [
       "$\\displaystyle \\left\\{2 n \\pi\\; \\middle|\\; n \\in \\mathbb{Z}\\right\\} \\cup \\left\\{2 n \\pi + \\pi\\; \\middle|\\; n \\in \\mathbb{Z}\\right\\}$"
      ],
      "text/plain": [
       "Union(ImageSet(Lambda(_n, 2*_n*pi + pi), Integers), ImageSet(Lambda(_n, 2*_n*pi), Integers))"
      ]
     },
     "execution_count": 16,
     "metadata": {},
     "output_type": "execute_result"
    }
   ],
   "source": [
    "expr4=sym.Eq(sym.sin(x),0)\n",
    "sym.solveset(expr4,x)"
   ]
  },
  {
   "cell_type": "code",
   "execution_count": 45,
   "id": "03f9f6c9-f2fa-4452-9221-11afec56502a",
   "metadata": {},
   "outputs": [
    {
     "data": {
      "text/latex": [
       "$\\displaystyle C_{1} \\sin{\\left(\\frac{\\sqrt{2} \\sqrt{E} L \\sqrt{m}}{\\hbar} \\right)}$"
      ],
      "text/plain": [
       "<IPython.core.display.Math object>"
      ]
     },
     "metadata": {},
     "output_type": "display_data"
    },
    {
     "data": {
      "text/latex": [
       "$\\displaystyle \\left\\{E\\; \\middle|\\; E \\in \\mathbb{C} \\wedge \\sin{\\left(\\frac{\\sqrt{2} \\sqrt{E} L \\sqrt{m}}{\\hbar} \\right)} = 0 \\right\\}$"
      ],
      "text/plain": [
       "ConditionSet(E, Eq(sin(sqrt(2)*sqrt(E)*L*sqrt(m)/hbar), 0), Complexes)"
      ]
     },
     "execution_count": 45,
     "metadata": {},
     "output_type": "execute_result"
    }
   ],
   "source": [
    "expr5 = PsiSol0.subs(x,L)\n",
    "ple(expr5)\n",
    "expr5=sym.Eq(expr5,0)\n",
    "sym.solveset(expr5,E)"
   ]
  },
  {
   "cell_type": "code",
   "execution_count": 16,
   "id": "6879065e-34ac-4e1a-92fb-effb243b76b9",
   "metadata": {},
   "outputs": [
    {
     "data": {
      "text/markdown": [
       "**End at:** Monday 14 November 2022, 16:25:39  \n",
       "**Duration:** 00:18:37 671ms"
      ],
      "text/plain": [
       "<IPython.core.display.Markdown object>"
      ]
     },
     "metadata": {},
     "output_type": "display_data"
    },
    {
     "data": {
      "text/markdown": [
       "<p style=\"text-align: center\"><img width=\"800px\" src=\"./config/svg/logoEnd.svg\" style=\"margin-left:auto; margin-right:auto\"/></p>"
      ],
      "text/plain": [
       "<IPython.core.display.Markdown object>"
      ]
     },
     "metadata": {},
     "output_type": "display_data"
    }
   ],
   "source": [
    "vID.end(cwd0)"
   ]
  },
  {
   "cell_type": "code",
   "execution_count": null,
   "id": "bcaef535-2177-4187-a54b-93dccec460f2",
   "metadata": {},
   "outputs": [],
   "source": []
  }
 ],
 "metadata": {
  "kernelspec": {
   "display_name": "Python 3 (ipykernel)",
   "language": "python",
   "name": "python3"
  },
  "language_info": {
   "codemirror_mode": {
    "name": "ipython",
    "version": 3
   },
   "file_extension": ".py",
   "mimetype": "text/x-python",
   "name": "python",
   "nbconvert_exporter": "python",
   "pygments_lexer": "ipython3",
   "version": "3.10.6"
  }
 },
 "nbformat": 4,
 "nbformat_minor": 5
}
